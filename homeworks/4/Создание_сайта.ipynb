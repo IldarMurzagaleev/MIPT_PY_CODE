{
  "nbformat": 4,
  "nbformat_minor": 0,
  "metadata": {
    "colab": {
      "name": "Создание_сайта.ipynb",
      "provenance": [],
      "authorship_tag": "ABX9TyO4w93iO9fw2GEtJAoeDNip",
      "include_colab_link": true
    },
    "kernelspec": {
      "name": "python3",
      "display_name": "Python 3"
    },
    "language_info": {
      "name": "python"
    }
  },
  "cells": [
    {
      "cell_type": "markdown",
      "metadata": {
        "id": "view-in-github",
        "colab_type": "text"
      },
      "source": [
        "<a href=\"https://colab.research.google.com/github/pythonkvs/seminars/blob/main/homeworks/4/%D0%A1%D0%BE%D0%B7%D0%B4%D0%B0%D0%BD%D0%B8%D0%B5_%D1%81%D0%B0%D0%B9%D1%82%D0%B0.ipynb\" target=\"_parent\"><img src=\"https://colab.research.google.com/assets/colab-badge.svg\" alt=\"Open In Colab\"/></a>"
      ]
    },
    {
      "cell_type": "markdown",
      "metadata": {
        "id": "8rZhXRbUpbvq"
      },
      "source": [
        "#   Создание сайта"
      ]
    },
    {
      "cell_type": "markdown",
      "metadata": {
        "id": "vh8Z9Ubcmg3C"
      },
      "source": [
        "Нужно создать django-приложение (\"Newspaper app\" или \"Blog app\") из пособия \"Django for Beginners\", выложить код на Github или Bitbucket и задеплоить на Heroku. Необходимо прислать две ссылки. Шаблоны (templates) для \"Newpaper app\" выложены в папке с 4 ДЗ. \"Message Board app\"  рассматриваю как совсем нежелательный тренировочный вариант, буду просить переделать. Если он получился, значит, получатся и другие приложения. 
      ]
    }
  ]
}
