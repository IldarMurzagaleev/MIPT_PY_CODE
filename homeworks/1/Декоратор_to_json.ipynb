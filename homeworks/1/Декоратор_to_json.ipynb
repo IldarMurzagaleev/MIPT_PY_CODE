{
  "nbformat": 4,
  "nbformat_minor": 0,
  "metadata": {
    "colab": {
      "name": "Декоратор to_json.ipynb",
      "provenance": [],
      "authorship_tag": "ABX9TyOlH2yK1hSAu4RpJLD+gNmL",
      "include_colab_link": true
    },
    "kernelspec": {
      "name": "python3",
      "display_name": "Python 3"
    },
    "language_info": {
      "name": "python"
    }
  },
  "cells": [
    {
      "cell_type": "markdown",
      "metadata": {
        "id": "view-in-github",
        "colab_type": "text"
      },
      "source": [
        "<a href=\"https://colab.research.google.com/github/pythonkvs/seminars/blob/main/homeworks/1/%D0%94%D0%B5%D0%BA%D0%BE%D1%80%D0%B0%D1%82%D0%BE%D1%80_to_json.ipynb\" target=\"_parent\"><img src=\"https://colab.research.google.com/assets/colab-badge.svg\" alt=\"Open In Colab\"/></a>"
      ]
    },
    {
      "cell_type": "markdown",
      "metadata": {
        "id": "uFc8bweGAlNn"
      },
      "source": [
        "# Задание по программированию: Декоратор to_json\n",
        "https://www.coursera.org/learn/diving-in-python/programming/0664k/diekorator-to-json"
      ]
    },
    {
      "cell_type": "markdown",
      "metadata": {
        "id": "nI3SY7CiAo5u"
      },
      "source": [
        "Чтобы передавать данные между функциями, модулями или разными системами используются форматы данных. Одним из самых популярных форматов является JSON. Напишите декоратор to_json, который можно применить к **различным** функциям, чтобы преобразовывать их возвращаемое значение в JSON-формат. Не забудьте про сохранение корректного имени декорируемой функции."
      ]
    },
    {
      "cell_type": "markdown",
      "metadata": {
        "id": "kcuFZzj5AsKY"
      },
      "source": [
        "```python\n",
        "@to_json\n",
        "def get_data():\n",
        "  return {\n",
        "    'data': 42\n",
        "  }\n",
        "  \n",
        "get_data()  # вернёт '{\"data\": 42}'\n",
        "```"
      ]
    }
  ]
}