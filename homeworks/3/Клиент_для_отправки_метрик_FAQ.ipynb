{
  "nbformat": 4,
  "nbformat_minor": 0,
  "metadata": {
    "colab": {
      "name": "Клиент_для_отправки_метрик_FAQ.ipynb",
      "provenance": [],
      "authorship_tag": "ABX9TyOW7qEk02ues0vFSYs+Ss6Y",
      "include_colab_link": true
    },
    "kernelspec": {
      "name": "python3",
      "display_name": "Python 3"
    },
    "language_info": {
      "name": "python"
    }
  },
  "cells": [
    {
      "cell_type": "markdown",
      "metadata": {
        "id": "view-in-github",
        "colab_type": "text"
      },
      "source": [
        "<a href=\"https://colab.research.google.com/github/pythonkvs/seminars/blob/main/homeworks/3/%D0%9A%D0%BB%D0%B8%D0%B5%D0%BD%D1%82_%D0%B4%D0%BB%D1%8F_%D0%BE%D1%82%D0%BF%D1%80%D0%B0%D0%B2%D0%BA%D0%B8_%D0%BC%D0%B5%D1%82%D1%80%D0%B8%D0%BA_FAQ.ipynb\" target=\"_parent\"><img src=\"https://colab.research.google.com/assets/colab-badge.svg\" alt=\"Open In Colab\"/></a>"
      ]
    },
    {
      "cell_type": "markdown",
      "metadata": {
        "id": "onk0MLxsh0jE"
      },
      "source": [
        "https://www.coursera.org/learn/diving-in-python/discussions/all/threads/BkiXTtjtEembnxKC4yfdRg"
      ]
    },
    {
      "cell_type": "markdown",
      "metadata": {
        "id": "y3zh6MyGbNUu"
      },
      "source": [
        "**FAQ. Частые вопросы, возникающие при решении задания \"Клиент для отправки метрик\"**"
      ]
    },
    {
      "cell_type": "markdown",
      "metadata": {
        "id": "HQeBO6NNbQPu"
      },
      "source": [
        "**Q1.** Правильно ли я понял из задания, что клиент можно реализовать не асинхронным?\n",
        "\n",
        "**A1.** Да, синхронный клиент очень даже хорошо будет работать.\n",
        "\n",
        "**Q2.**  Как реализовать клиент если нет сервера? Тогда получается и сервер для хранения нужно писать по задаче?\n",
        "\n",
        "**A2.** 1) Вот код простейшего сервера для тестирования метода **get**, который на любые запросы клиента возвращает один и тот же ответ."
      ]
    },
    {
      "cell_type": "code",
      "metadata": {
        "id": "L0sIxp6cbT6V"
      },
      "source": [
        "# реализация сервера для тестирования метода get по заданию - Клиент для отправки метрик\n",
        "#!/usr/bin/env python\n",
        "# -*- coding: utf-8 -*-\n",
        "\n",
        "import socket\n",
        "\n",
        "sock = socket.socket()\n",
        "sock.bind(('127.0.0.1', 8888))\n",
        "sock.listen(1)\n",
        "conn, addr = sock.accept()\n",
        "\n",
        "print('Соединение установлено:', addr)\n",
        "\n",
        "# переменная response хранит строку возвращаемую сервером, если вам для\n",
        "# тестирования клиента необходим другой ответ, измените ее\n",
        "response = b'ok\\npalm.cpu 10.5 1501864247\\neardrum.cpu 15.3 1501864259\\n\\n'\n",
        "\n",
        "while True:\n",
        "    data = conn.recv(1024)\n",
        "    if not data:\n",
        "        break\n",
        "    request = data.decode('utf-8')\n",
        "    print(f'Получен запрос: {ascii(request)}')\n",
        "    print(f'Отправлен ответ {ascii(response.decode(\"utf-8\"))}')\n",
        "    conn.send(response)\n",
        "\n",
        "conn.close()"
      ],
      "execution_count": null,
      "outputs": []
    },
    {
      "cell_type": "markdown",
      "metadata": {
        "id": "ft1j37OgbW2w"
      },
      "source": [
        "Напишите вашу реализацию метода **get**  и начинайте тестирование. Метод **get** должен отправить в запросе к серверу строку, полученную в качестве аргумента. Далее необходимо прочитать ответ сервера (обращу ваше внимание, что это бинарная строка), произвести ее разбор и сохранить данные в словарь. Метод **get** должен вернуть этот словарь. Для тестирования сохраните код сервера в файл **server.py** в директории с вашим решением. Запустите в терминале сервер - "
      ]
    },
    {
      "cell_type": "code",
      "metadata": {
        "id": "TtYUyM1MbYig"
      },
      "source": [
        "$ python server.py"
      ],
      "execution_count": null,
      "outputs": []
    },
    {
      "cell_type": "markdown",
      "metadata": {
        "id": "vu1__h2CbZ4h"
      },
      "source": [
        "Откройте консоль Python и импортируйте класс **Client** из вашего решения."
      ]
    },
    {
      "cell_type": "code",
      "metadata": {
        "id": "Y5Un-8lBbbcv"
      },
      "source": [
        "$ python3.6 \n",
        "Python 3.6.6 (default, Aug  9 2018, 19:58:47) \n",
        "....\n",
        ">>> from client import Client"
      ],
      "execution_count": null,
      "outputs": []
    },
    {
      "cell_type": "markdown",
      "metadata": {
        "id": "xeh-9Jufbc9Z"
      },
      "source": [
        "Далее создайте объект клиента и сделайте запрос на сервер методом **get**"
      ]
    },
    {
      "cell_type": "code",
      "metadata": {
        "id": "Id8BtfX0beZb"
      },
      "source": [
        ">>> client = Client(\"127.0.0.1\", 8888, timeout=15)\n",
        ">>> print(client.get(\"*\"))"
      ],
      "execution_count": null,
      "outputs": []
    },
    {
      "cell_type": "markdown",
      "metadata": {
        "id": "QGWnCz20bgZG"
      },
      "source": [
        "Убедитесь, что сервер принимает данные от клиента, проверьте правильные ли данные возвращает метод **get**. При необходимости вы можете изменить значение переменной **response** для получения другого ответа от сервера.\n",
        "\n",
        "Также сервер можно применять для тестирования метода **put**, так как он выводит сообщение о полученных данных от клиента.\n",
        "\n",
        "2). Вы можете использовать код простейшего echo_server - (https://docs.python.org/3/library/socket.html?highlight=echo server#example). Вам придется самостоятельно написать реализацию логики, для получения полноценного тестового сервера.\n",
        "\n",
        "\n",
        "**A3.** В конструкторе клиента передается параметр **timeout** - это время ожидания для чтения или для установки соединения?\n",
        "\n",
        "**Q3.** Время ожидания - https://docs.python.org/3/library/socket.html#notes-on-socket-timeouts\n",
        "\n",
        "**A4.** Получаю ошибку - \"Тест 7.2. Вызов метода **get** экземпляра класса **Client** должен выбрасывать исключение **ClientError** при получении от сервера не корректного ответа\". Не ясно, что прилетает клиенту. Точно не **error**, не ошибка сокета, и не пустые данные. Но что еще может остаться?\n",
        "\n",
        "**Q4.** Тест 7 проверяет, что вызов метода get экземпляра класса **Client** выбрасывает **ClientError** при не верном ответе сервера. Другими словами, если на корректный запрос сервера приходит ответ формате не соответствующем протоколу, описанному в условиях задания, должно выбрасываться исключение **ClientError**. Вы не учли случай, когда строка ответа сервера содержит кроме ожидаемого содержания и другую текстовую информацию. Пример такого ответа: **\"some_text\\nok\\n\\n\"**. Какие варианты неправильных ответов еще могут быть, вы можете подумать самостоятельно. \n",
        "\n",
        "**Q5.** Не проходит тест 6.2: Вызов метода put экземпляра класса **Client** с параметрами: **metric='eardrum.cpu'**, **value=2** отправляет не верный запрос. Значение **timestamp** должно генерироваться с помощью **int(time.time())**. Сервером получено: **'put eardrum.cpu 2 1580844658'** , ожидалось: **'put eardrum.cpu 2 1580844660'** Получается ошибка в том, что на сервере и у меня локально функция **time.time()** возвращает значения с разницей в 2 секунды? Как я могу это пофиксить? Пробовал просто добавлять к своему значению += 2, тогда другие тесты падают по той же причине.\n",
        "\n",
        "**A5.** Проверьте, что вы правильно инициализируете значение по умолчанию параметра **timestamp** с помощью вызова **int(time.time())** при определении метода **put**. Часто используемая студентами конструкция - "
      ]
    },
    {
      "cell_type": "code",
      "metadata": {
        "id": "0ZdJxHWCbmAW"
      },
      "source": [
        "def put(self, metric, value, timestamp=int(time.time())):\n",
        "  ..."
      ],
      "execution_count": null,
      "outputs": []
    },
    {
      "cell_type": "markdown",
      "metadata": {
        "id": "YH2HZWVQbn0B"
      },
      "source": [
        "работает не правильно, так как инициализация аргументов по-умолчанию происходит 1 раз - до вызова функции. "
      ]
    },
    {
      "cell_type": "markdown",
      "metadata": {
        "id": "_7rAy5BXbpC9"
      },
      "source": [
        "**Q6.** Уточните, пожалуйста, названия метрик должны строго соответствовать тем, что приведены в описании протокола или могу принимать другие значения?\n",
        "\n",
        "**A6.** Названия метрик, приведенные в описании - всего лишь пример. Название метрики может быть произвольным и необязательно содержать два слова, разделенных точкой. "
      ]
    }
  ]
}