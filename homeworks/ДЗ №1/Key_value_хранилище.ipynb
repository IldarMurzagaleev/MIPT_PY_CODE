{
  "nbformat": 4,
  "nbformat_minor": 0,
  "metadata": {
    "colab": {
      "name": "Key-value хранилище.ipynb",
      "provenance": [],
      "authorship_tag": "ABX9TyNI9FlFj+lEJqWrfAwGRzQU",
      "include_colab_link": true
    },
    "kernelspec": {
      "name": "python3",
      "display_name": "Python 3"
    },
    "language_info": {
      "name": "python"
    }
  },
  "cells": [
    {
      "cell_type": "markdown",
      "metadata": {
        "id": "view-in-github",
        "colab_type": "text"
      },
      "source": [
        "<a href=\"https://colab.research.google.com/github/pythonkvs/seminars/blob/main/homeworks/%D0%94%D0%97%20%E2%84%961/Key_value_%D1%85%D1%80%D0%B0%D0%BD%D0%B8%D0%BB%D0%B8%D1%89%D0%B5.ipynb\" target=\"_parent\"><img src=\"https://colab.research.google.com/assets/colab-badge.svg\" alt=\"Open In Colab\"/></a>"
      ]
    },
    {
      "cell_type": "markdown",
      "metadata": {
        "id": "uy0YLxAI5sVV"
      },
      "source": [
        "# Задание по программированию: Key-value хранилище\n",
        "https://www.coursera.org/learn/diving-in-python/programming/nc6Ce/key-value-khranilishchie"
      ]
    },
    {
      "cell_type": "markdown",
      "metadata": {
        "id": "SKoaHmCu56SK"
      },
      "source": [
        "Нужно реализовать собственное **key-values** хранилище. Данные будут сохраняться в файле **storage.data**. Добавление новых данных в хранилище и получение текущих значений осуществляется с помощью утилиты командной строки **storage.py**. Пример работы утилиты:  "
      ]
    },
    {
      "cell_type": "markdown",
      "metadata": {
        "id": "ASUm1bgn59qC"
      },
      "source": [
        "**Сохранение значения value по ключу key_name:**"
      ]
    },
    {
      "cell_type": "markdown",
      "metadata": {
        "id": "jdILjDAT6BG6"
      },
      "source": [
        "```bash\n",
        "$ storage.py --key key_name --val value\n",
        "```"
      ]
    },
    {
      "cell_type": "markdown",
      "metadata": {
        "id": "SG7rO-Tc6Dgv"
      },
      "source": [
        "**Получение значения по ключу key_name:**"
      ]
    },
    {
      "cell_type": "markdown",
      "metadata": {
        "id": "5VFiC1pK6HFt"
      },
      "source": [
        "```bash\n",
        "$ storage.py --key key_name\n",
        "```"
      ]
    },
    {
      "cell_type": "markdown",
      "metadata": {
        "id": "rgBANQ-K6Jkt"
      },
      "source": [
        "Вашей задачей будет написать реализацию утилиты **storage.py**.\n",
        "\n",
        "Утилита может вызваться со следующими параметрами:\n",
        "\n",
        "--***key <имя ключа>*** , где <имя ключа> - ключ по которому сохраняются/получаются значения\n",
        "\n",
        "--***val <значение>***, где <значение> - сохраняемое значение.\n",
        "\n",
        "Если при запуске утилиты переданы оба ключа, происходит добавление переданного значения по ключу и сохранение данных в файле. Если передано только имя ключа, происходит чтение файла хранилища и вывод на печать значений, которые были сохранены по данному ключу.  Обратите внимание, что значения по одному ключу не перезаписываются, а добавляются к уже сохраненным. Другими словами - по одному ключу могут храниться несколько значений. При выводе на печать, значения выводятся в порядке их добавления в хранилище. Формат вывода на печать для нескольких значений:  "
      ]
    },
    {
      "cell_type": "markdown",
      "metadata": {
        "id": "-z9EQuEE6MmI"
      },
      "source": [
        "```bash\n",
        "value_1, value_2\n",
        "```"
      ]
    },
    {
      "cell_type": "markdown",
      "metadata": {
        "id": "Z08tVyx_6Ou3"
      },
      "source": [
        "Обратите внимание на пробел после запятой. Если значений по ключу не было найдено, выведите пустую строку или None.\n",
        "\n",
        "Для работы с аргументами командной строки используйте модуль [argparse](https://docs.python.org/3/howto/argparse.html). Хранить данные в файле мы рекомендуем в формате JSON с помощью использования модуля стандартной библиотеки  [json](https://docs.python.org/3/library/json.html). Прежде чем отправлять ваше решение на проверку, протестируйте работу вашей утилиты на добавление нескольких ключей и разных значений.\n",
        "\n",
        "Файл следует создавать с помощью модуля [tempfile](https://docs.python.org/3/library/tempfile.html). "
      ]
    },
    {
      "cell_type": "markdown",
      "metadata": {
        "id": "HDdnu1ty6RUq"
      },
      "source": [
        "```python\n",
        "import os\n",
        "import tempfile\n",
        "\n",
        "storage_path = os.path.join(tempfile.gettempdir(), 'storage.data')\n",
        "with open(storage_path, 'w') as f:\n",
        "  ...\n",
        "```"
      ]
    },
    {
      "cell_type": "markdown",
      "metadata": {
        "id": "NKjaQIt36TGS"
      },
      "source": [
        "Пример работы:﻿  "
      ]
    },
    {
      "cell_type": "markdown",
      "metadata": {
        "id": "BOSTzJaU6atE"
      },
      "source": [
        "```bash\n",
        "$ python storage.py --key key_name --val value\n",
        "$ python storage.py --key key_name\n",
        "value\n",
        "\n",
        "$ python storage.py --key multi_key --val value1\n",
        "$ python storage.py --key multi_key --val value2\n",
        "$ python storage.py --key multi_key\n",
        "value1, value2\n",
        "```"
      ]
    }
  ]
}