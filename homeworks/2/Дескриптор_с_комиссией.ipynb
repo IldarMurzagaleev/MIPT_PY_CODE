{
  "nbformat": 4,
  "nbformat_minor": 0,
  "metadata": {
    "colab": {
      "name": "Дескриптор с комиссией.ipynb",
      "provenance": [],
      "collapsed_sections": [],
      "authorship_tag": "ABX9TyMoOsYUMIk/kXsstTOdvA6V",
      "include_colab_link": true
    },
    "kernelspec": {
      "name": "python3",
      "display_name": "Python 3"
    },
    "language_info": {
      "name": "python"
    }
  },
  "cells": [
    {
      "cell_type": "markdown",
      "metadata": {
        "id": "view-in-github",
        "colab_type": "text"
      },
      "source": [
        "<a href=\"https://colab.research.google.com/github/pythonkvs/seminars/blob/main/homeworks/2/%D0%94%D0%B5%D1%81%D0%BA%D1%80%D0%B8%D0%BF%D1%82%D0%BE%D1%80_%D1%81_%D0%BA%D0%BE%D0%BC%D0%B8%D1%81%D1%81%D0%B8%D0%B5%D0%B9.ipynb\" target=\"_parent\"><img src=\"https://colab.research.google.com/assets/colab-badge.svg\" alt=\"Open In Colab\"/></a>"
      ]
    },
    {
      "cell_type": "markdown",
      "metadata": {
        "id": "mreNwxrOKvt5"
      },
      "source": [
        "https://www.coursera.org/learn/diving-in-python/programming/HmHYs/dieskriptor-s-komissiiei"
      ]
    },
    {
      "cell_type": "markdown",
      "metadata": {
        "id": "jBy9t_ztKL1x"
      },
      "source": [
        "# Дескриптор с комиссией"
      ]
    },
    {
      "cell_type": "markdown",
      "metadata": {
        "id": "4kAO68CwKSJ4"
      },
      "source": [
        "Часто при зачислении каких-то средств на счет с нас берут комиссию. Давайте реализуем похожий механизм с помощью дескрипторов. Напишите дескриптор **Value**, который будет использоваться в нашем классе **Account**."
      ]
    },
    {
      "cell_type": "code",
      "metadata": {
        "id": "ce3cPTwtKTYJ"
      },
      "source": [
        "class Account:\n",
        "    amount = Value()\n",
        "    \n",
        "    def __init__(self, commission):\n",
        "        self.commission = commission"
      ],
      "execution_count": null,
      "outputs": []
    },
    {
      "cell_type": "markdown",
      "metadata": {
        "id": "DpUW6iVMKVJn"
      },
      "source": [
        "У аккаунта будет атрибут **commission**. Именно эту комиссию и нужно вычитать при присваивании значений в **amount**."
      ]
    },
    {
      "cell_type": "code",
      "metadata": {
        "id": "mh0hU8I-KYZw"
      },
      "source": [
        "new_account = Account(0.1)\n",
        "new_account.amount = 100\n",
        "\n",
        "print(new_account.amount)\n",
        "90"
      ],
      "execution_count": null,
      "outputs": []
    }
  ]
}