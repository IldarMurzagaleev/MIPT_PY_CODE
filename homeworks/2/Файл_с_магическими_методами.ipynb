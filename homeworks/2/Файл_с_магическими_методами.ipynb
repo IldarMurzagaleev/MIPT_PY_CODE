{
  "nbformat": 4,
  "nbformat_minor": 0,
  "metadata": {
    "colab": {
      "name": "Файл с магическими методами.ipynb",
      "provenance": [],
      "collapsed_sections": [],
      "authorship_tag": "ABX9TyMIwf1zrZDsJ+AJs3VJBZkd",
      "include_colab_link": true
    },
    "kernelspec": {
      "name": "python3",
      "display_name": "Python 3"
    },
    "language_info": {
      "name": "python"
    }
  },
  "cells": [
    {
      "cell_type": "markdown",
      "metadata": {
        "id": "view-in-github",
        "colab_type": "text"
      },
      "source": [
        "<a href=\"https://colab.research.google.com/github/pythonkvs/seminars/blob/main/homeworks/2/%D0%A4%D0%B0%D0%B9%D0%BB_%D1%81_%D0%BC%D0%B0%D0%B3%D0%B8%D1%87%D0%B5%D1%81%D0%BA%D0%B8%D0%BC%D0%B8_%D0%BC%D0%B5%D1%82%D0%BE%D0%B4%D0%B0%D0%BC%D0%B8.ipynb\" target=\"_parent\"><img src=\"https://colab.research.google.com/assets/colab-badge.svg\" alt=\"Open In Colab\"/></a>"
      ]
    },
    {
      "cell_type": "markdown",
      "metadata": {
        "id": "qPbF-XJmJ3K_"
      },
      "source": [
        "https://www.coursera.org/learn/diving-in-python/programming/sypSV/fail-s-maghichieskimi-mietodami/instructions"
      ]
    },
    {
      "cell_type": "markdown",
      "metadata": {
        "id": "NGBWxJWDJtoQ"
      },
      "source": [
        "# Файл с магическими методами"
      ]
    },
    {
      "cell_type": "markdown",
      "metadata": {
        "id": "dDER9jmfICoY"
      },
      "source": [
        "В этом задании вам нужно создать интерфейс для работы с файлами. Интерфейс должен предоставлять следующие возможности по работе с файлами:\n",
        "\n",
        "- чтение из файла, метод **read** возвращает строку с текущим содержанием файла\n",
        "\n",
        "- запись в файл, метод **write** принимает в качестве аргумента строку с новым содержанием файла\n",
        "\n",
        "- сложение объектов типа **File**, результатом сложения является объект класса **File**, при этом создается новый файл и файловый объект, в котором содержимое второго файла добавляется к содержимому первого файла. Новый файл должен создаваться в директории, полученной с помощью функции [tempfile.gettempdir](https://docs.python.org/3/library/tempfile.html). Для получения нового пути можно использовать [os.path.join](https://docs.python.org/3/library/os.path.html#os.path.join).\n",
        "\n",
        "- возвращать в качестве строкового представления объекта класса **File** полный путь до файла\n",
        "\n",
        "- поддерживать протокол итерации, причем итерация проходит по строкам файла\n",
        "\n",
        "При создании экземпляра класса **File** в конструктор передается полный путь до файла на файловой системе. Если файла с таким путем не существует, он должен быть создан при инициализации.\n",
        "\n",
        "\n",
        "\n"
      ]
    },
    {
      "cell_type": "markdown",
      "metadata": {
        "id": "R6_HtMnYIoFQ"
      },
      "source": [
        "**Пример работы:**"
      ]
    },
    {
      "cell_type": "code",
      "metadata": {
        "id": "p8LCeZdAIgeR"
      },
      "source": [
        ">>> import os.path\n",
        ">>> from solution import File\n",
        ">>> path_to_file = 'some_filename'\n",
        ">>> os.path.exists(path_to_file)\n",
        "False\n",
        ">>> file_obj = File(path_to_file)\n",
        ">>> os.path.exists(path_to_file)\n",
        "True\n",
        ">>> print(file_obj)\n",
        "some_filename\n",
        ">>> file_obj.read()\n",
        "''\n",
        ">>> file_obj.write('some text')\n",
        "9\n",
        ">>> file_obj.read()\n",
        "'some text'\n",
        ">>> file_obj.write('other text')\n",
        "10\n",
        ">>> file_obj.read()\n",
        "'other text'\n",
        ">>> file_obj_1 = File(path_to_file + '_1')\n",
        ">>> file_obj_2 = File(path_to_file + '_2')\n",
        ">>> file_obj_1.write('line 1\\n')\n",
        "7\n",
        ">>> file_obj_2.write('line 2\\n')\n",
        "7\n",
        ">>> new_file_obj = file_obj_1 + file_obj_2\n",
        ">>> isinstance(new_file_obj, File)\n",
        "True\n",
        ">>> print(new_file_obj)\n",
        "C:\\Users\\Media\\AppData\\Local\\Temp\\71b9e7b695f64d85a7488f07f2bc051c\n",
        ">>> for line in new_file_obj:\n",
        "....    print(ascii(line))  \n",
        "'line 1\\n'\n",
        "'line 2\\n'\n",
        ">>> new_path_to_file = str(new_file_obj)\n",
        ">>> os.path.exists(new_path_to_file)\n",
        "True\n",
        ">>> file_obj_3 = File(new_path_to_file)\n",
        ">>> print(file_obj_3)\n",
        "C:\\Users\\Media\\AppData\\Local\\Temp\\71b9e7b695f64d85a7488f07f2bc051c\n",
        ">>>"
      ],
      "execution_count": null,
      "outputs": []
    }
  ]
}