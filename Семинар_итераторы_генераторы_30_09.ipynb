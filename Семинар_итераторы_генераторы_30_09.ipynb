{
  "nbformat": 4,
  "nbformat_minor": 0,
  "metadata": {
    "colab": {
      "name": "Семинар_итераторы_генераторы_30_09.ipynb",
      "provenance": [],
      "collapsed_sections": [],
      "authorship_tag": "ABX9TyPo39jO4q5liGIe1hkLhtvn",
      "include_colab_link": true
    },
    "kernelspec": {
      "name": "python3",
      "display_name": "Python 3"
    },
    "language_info": {
      "name": "python"
    }
  },
  "cells": [
    {
      "cell_type": "markdown",
      "metadata": {
        "id": "view-in-github",
        "colab_type": "text"
      },
      "source": [
        "<a href=\"https://colab.research.google.com/github/pythonkvs/seminars/blob/main/%D0%A1%D0%B5%D0%BC%D0%B8%D0%BD%D0%B0%D1%80_%D0%B8%D1%82%D0%B5%D1%80%D0%B0%D1%82%D0%BE%D1%80%D1%8B_%D0%B3%D0%B5%D0%BD%D0%B5%D1%80%D0%B0%D1%82%D0%BE%D1%80%D1%8B_30_09.ipynb\" target=\"_parent\"><img src=\"https://colab.research.google.com/assets/colab-badge.svg\" alt=\"Open In Colab\"/></a>"
      ]
    },
    {
      "cell_type": "markdown",
      "metadata": {
        "id": "Qma7GaR4rCu8"
      },
      "source": [
        "https://compscicenter.ru/courses/python/2015-autumn/classes/1542/"
      ]
    },
    {
      "cell_type": "markdown",
      "metadata": {
        "id": "TI4MdeFLQalN"
      },
      "source": [
        "# Итераторы"
      ]
    },
    {
      "cell_type": "markdown",
      "metadata": {
        "id": "JwTJbxFwQQth"
      },
      "source": [
        "В отличие от, например, Java в Python нет чёткого\n",
        "разделения на iterable и iterator: протокол итераторов\n",
        "покрывает оба случая."
      ]
    },
    {
      "cell_type": "markdown",
      "metadata": {
        "id": "s8fMO6YUQwrG"
      },
      "source": [
        "## Протокол итераторов"
      ]
    },
    {
      "cell_type": "markdown",
      "metadata": {
        "id": "cjastDXXS4xc"
      },
      "source": [
        "Протокол итераторов состоит из двух методов:\n",
        "*   Метод `__iter__` возвращает экземпляр класса,\n",
        "реализующего протокол итераторов, например, `self`.\n",
        "*   Метод `__next__` возвращает следующий по порядку\n",
        "элемент итератора. Если такого элемента нет, то метод\n",
        "должен поднять исключение `StopIteration`."
      ]
    },
    {
      "cell_type": "markdown",
      "metadata": {
        "id": "B-AofZ9lQ92s"
      },
      "source": [
        "## Коллекции и итераторы"
      ]
    },
    {
      "cell_type": "markdown",
      "metadata": {
        "id": "ma0FvcoaTevz"
      },
      "source": [
        "* Для коллекций обычно нет смысла реализовывать\n",
        "протокол итераторов целиком, достаточно реализовать\n",
        "только метод `__iter__`."
      ]
    },
    {
      "cell_type": "markdown",
      "metadata": {
        "id": "DQr1A8SmTjGC"
      },
      "source": [
        "* Иногда элементы коллекции можно перечислить более\n",
        "чем одним способом. В этом случае удобно реализовывать\n",
        "дополнительные методы, возвращающие итераторы:\n",
        "```python\n",
        "class BinaryTree:\n",
        "    def __iter__(self):\n",
        "        return self.inorder_iter()\n",
        "    def preorder_iter(self):\n",
        "        # ...\n",
        "    def inorder_iter(self):\n",
        "        return InOrderIterator(self)\n",
        "    def postorder_iter(self):\n",
        "        # ...\n",
        "```"
      ]
    },
    {
      "cell_type": "markdown",
      "metadata": {
        "id": "dI4gnxadNmk4"
      },
      "source": [
        "## Функции `iter` и `next`"
      ]
    },
    {
      "cell_type": "markdown",
      "metadata": {
        "id": "kgIGv-OMUSWM"
      },
      "source": [
        "У функции `iter` две формы вызова:\n",
        "\n",
        "*   принимает объект и вызывает у него метод `__iter__`,\n",
        "*   принимает функцию и терминальное значение и вызывает\n",
        "функцию до тех пор, пока она не вернёт нужное значение:\n",
        "```python\n",
        "from functools import partial\n",
        "with open(path, \"rb\") as handle:\n",
        "        read_block = partial(handle.read, 64)\n",
        "        for block in iter(read_block, \"\"):\n",
        "            do_something(block)\n",
        "```"
      ]
    },
    {
      "cell_type": "markdown",
      "metadata": {
        "id": "YB5UZL72UhQ4"
      },
      "source": [
        "Функция `next` принимает итератор и вызывает у него\n",
        "метод `__next__`. Можно также указать значение, которое\n",
        "нужно вернуть в случае возникновения исключения\n",
        "`StopIteration`:"
      ]
    },
    {
      "cell_type": "code",
      "metadata": {
        "colab": {
          "base_uri": "https://localhost:8080/"
        },
        "id": "7_QCcv-ER3tM",
        "outputId": "2b224ff8-2d7f-43bf-e154-520e117ce5a9"
      },
      "source": [
        "next(iter([1, 2, 3]))"
      ],
      "execution_count": null,
      "outputs": [
        {
          "output_type": "execute_result",
          "data": {
            "text/plain": [
              "1"
            ]
          },
          "metadata": {},
          "execution_count": 1
        }
      ]
    },
    {
      "cell_type": "code",
      "metadata": {
        "colab": {
          "base_uri": "https://localhost:8080/"
        },
        "id": "0n8HDcvVSAQ2",
        "outputId": "5b181920-378d-4d3c-92a9-8b5f562bca22"
      },
      "source": [
        "next(iter([]), 42)"
      ],
      "execution_count": null,
      "outputs": [
        {
          "output_type": "execute_result",
          "data": {
            "text/plain": [
              "42"
            ]
          },
          "metadata": {},
          "execution_count": 2
        }
      ]
    },
    {
      "cell_type": "markdown",
      "metadata": {
        "id": "E8YNPxoANmk5"
      },
      "source": [
        "## Итераторы часто используются неявно, цикл `for`\n",
        "\n",
        "Как выглядит для нас цикл `for`:"
      ]
    },
    {
      "cell_type": "code",
      "metadata": {
        "id": "Ly1xWXuBNmk5",
        "colab": {
          "base_uri": "https://localhost:8080/"
        },
        "outputId": "12c46917-b618-499c-b194-541dd64460d1"
      },
      "source": [
        "for i in 'seq':\n",
        "    print(i)"
      ],
      "execution_count": null,
      "outputs": [
        {
          "output_type": "stream",
          "name": "stdout",
          "text": [
            "s\n",
            "e\n",
            "q\n"
          ]
        }
      ]
    },
    {
      "cell_type": "markdown",
      "metadata": {
        "id": "k4qjeLwaNmk5"
      },
      "source": [
        "Как он работает на самом деле (процесс исполнения оператора `for` можно концептуально\n",
        "записать так):"
      ]
    },
    {
      "cell_type": "code",
      "metadata": {
        "id": "EUpCup93Nmk5",
        "colab": {
          "base_uri": "https://localhost:8080/"
        },
        "outputId": "f3136489-96bc-4d61-e209-bfe1db3045c2"
      },
      "source": [
        "iterator = iter('seq')\n",
        "while True:\n",
        "    try:\n",
        "        i = next(iterator)\n",
        "    except StopIteration:\n",
        "        break\n",
        "    print(i)"
      ],
      "execution_count": null,
      "outputs": [
        {
          "output_type": "stream",
          "name": "stdout",
          "text": [
            "s\n",
            "e\n",
            "q\n"
          ]
        }
      ]
    },
    {
      "cell_type": "markdown",
      "metadata": {
        "id": "3gTd6rOSXOeU"
      },
      "source": [
        "## Операторы `in` и `not in`"
      ]
    },
    {
      "cell_type": "markdown",
      "metadata": {
        "id": "T66qTBUqXRG0"
      },
      "source": [
        "*   Операторы `in` и `not in` используют “магический” метод\n",
        "`__contains__`, который возвращает `True`, если переданный\n",
        "элемент содержится в экземпляре класса.\n",
        "*   По умолчанию метод `__contains__` реализован через\n",
        "протокол итераторов:\n",
        "```python\n",
        "class object:\n",
        "        # ...\n",
        "\n",
        "        def __contains__(self, target):\n",
        "            for item in self:\n",
        "                if item == target:\n",
        "                    return True\n",
        "            return False\n",
        "```\n",
        "*   Пример:"
      ]
    },
    {
      "cell_type": "code",
      "metadata": {
        "colab": {
          "base_uri": "https://localhost:8080/"
        },
        "id": "pFulfWOXUUz_",
        "outputId": "13fd5c95-5f39-4321-b8a3-7382c8c5fa20"
      },
      "source": [
        "lst = [5, 39]\n",
        "5 in lst # ≡ lst.__contains__(5)"
      ],
      "execution_count": null,
      "outputs": [
        {
          "output_type": "execute_result",
          "data": {
            "text/plain": [
              "True"
            ]
          },
          "metadata": {},
          "execution_count": 5
        }
      ]
    },
    {
      "cell_type": "code",
      "metadata": {
        "colab": {
          "base_uri": "https://localhost:8080/"
        },
        "id": "wo_dOa4HUYGv",
        "outputId": "88cb009d-d841-4e33-cda6-c1ca58e5534a"
      },
      "source": [
        "42 not in lst # ≡ not lst.__contains__(42)"
      ],
      "execution_count": null,
      "outputs": [
        {
          "output_type": "execute_result",
          "data": {
            "text/plain": [
              "True"
            ]
          },
          "metadata": {},
          "execution_count": 6
        }
      ]
    },
    {
      "cell_type": "markdown",
      "metadata": {
        "id": "4okC6srWZSRE"
      },
      "source": [
        "## Упрощенный вариант реализации протокола итераторов с использованием метода `__getitem__`"
      ]
    },
    {
      "cell_type": "markdown",
      "metadata": {
        "id": "dnIlBj10ZiGV"
      },
      "source": [
        "*   Метод `__getitem__` принимает один аргумент — индекс\n",
        "элемента в последовательности и\n",
        "    *   либо возвращает элемент, соответствующий индексу,\n",
        "    *   либо поднимает `IndexError`, если элемента с таким\n",
        "индексом нет.\n",
        "*   Пример:"
      ]
    },
    {
      "cell_type": "code",
      "metadata": {
        "colab": {
          "base_uri": "https://localhost:8080/"
        },
        "id": "zyeKKiO0axTU",
        "outputId": "ae17750c-64b8-437c-faad-5c7c988f51d9"
      },
      "source": [
        "class Identity:\n",
        "    def __getitem__(self, idx):\n",
        "        if idx > 5:\n",
        "            raise IndexError(idx)\n",
        "        return idx\n",
        "list(Identity())"
      ],
      "execution_count": null,
      "outputs": [
        {
          "output_type": "execute_result",
          "data": {
            "text/plain": [
              "[0, 1, 2, 3, 4, 5]"
            ]
          },
          "metadata": {},
          "execution_count": 7
        }
      ]
    },
    {
      "cell_type": "markdown",
      "metadata": {
        "id": "b05IAr8gbI2a"
      },
      "source": [
        "## “Семантика” упрощенного протокола итераторов: `seq_iter`"
      ]
    },
    {
      "cell_type": "code",
      "metadata": {
        "id": "TzCSGBtybQ-k"
      },
      "source": [
        "class seq_iter:\n",
        "    def __init__(self, instance):\n",
        "        self.instance = instance\n",
        "        self.idx = 0\n",
        "\n",
        "    def __iter__(self):\n",
        "        return self\n",
        "        \n",
        "    def __next__(self):\n",
        "        try:\n",
        "            res = self.instance[self.idx]\n",
        "        except IndexError:\n",
        "            raise StopIteration\n",
        "        \n",
        "        self.idx += 1\n",
        "        return res"
      ],
      "execution_count": null,
      "outputs": []
    },
    {
      "cell_type": "markdown",
      "metadata": {
        "id": "6CRZiE5Tby6p"
      },
      "source": [
        "## “Семантика” упрощенного протокола итераторов: `object`"
      ]
    },
    {
      "cell_type": "code",
      "metadata": {
        "id": "A7hSFagJb2Yk"
      },
      "source": [
        "class object:\n",
        "    # ...\n",
        "    def __iter__(self):\n",
        "        if not hasattr(self, \"__getitem__\"):\n",
        "            cls = self.__class__\n",
        "            msg = \"{} object is not iterable\"\n",
        "            raise TypeError(msg.format(cls.__name__))\n",
        "        return seq_iter(self)"
      ],
      "execution_count": null,
      "outputs": []
    },
    {
      "cell_type": "markdown",
      "metadata": {
        "id": "Zv9YVDMVcIFe"
      },
      "source": [
        "## Резюме: итераторы"
      ]
    },
    {
      "cell_type": "markdown",
      "metadata": {
        "id": "OabCjzEwcKzV"
      },
      "source": [
        "*   В Python нет чёткого различия между *iterable* и *iterator*.\n",
        "*   Итератор — это экземпляр класса, который реализует два\n",
        "метода `__iter__` и `__next__`.\n",
        "*   Альтернативно можно воспользоваться реализацией этих\n",
        "методов по умолчанию и определить метод `__getitem__`.\n",
        "*   Протокол итераторов используется:\n",
        "    *   оператором `for`,\n",
        "    *   операторами `in` и `not in`.\n",
        "*   Протокол итераторов реализуется всеми встроенными\n",
        "коллекциями, а также, например, файлами и объектами\n",
        "типа `map`, `filter` и `zip`."
      ]
    },
    {
      "cell_type": "markdown",
      "metadata": {
        "id": "rVSuiAL3FrE5"
      },
      "source": [
        "# Генераторы"
      ]
    },
    {
      "cell_type": "markdown",
      "metadata": {
        "id": "PE8Ziu3uZgvt"
      },
      "source": [
        "* Генератор — это функция, которая использует не только\n",
        "оператор `return`, но и оператор `yield`.\n",
        "* В результате выполнения оператора `yield` работа функции\n",
        "приостанавливается, а не прерывается, как при\n",
        "использовании оператора `return`."
      ]
    },
    {
      "cell_type": "code",
      "metadata": {
        "id": "hZJTJcTzZ4E9"
      },
      "source": [
        "def g():\n",
        "    print(\"Started\")\n",
        "    x = 42\n",
        "    yield x\n",
        "    x += 1\n",
        "    yield x\n",
        "    print(\"Done\")"
      ],
      "execution_count": null,
      "outputs": []
    },
    {
      "cell_type": "code",
      "metadata": {
        "colab": {
          "base_uri": "https://localhost:8080/"
        },
        "id": "C14hqJJdaKCN",
        "outputId": "14ff7dbb-36f5-4b85-9316-4ff45a297025"
      },
      "source": [
        "type(g)"
      ],
      "execution_count": null,
      "outputs": [
        {
          "output_type": "execute_result",
          "data": {
            "text/plain": [
              "function"
            ]
          },
          "metadata": {},
          "execution_count": 11
        }
      ]
    },
    {
      "cell_type": "code",
      "metadata": {
        "colab": {
          "base_uri": "https://localhost:8080/"
        },
        "id": "w1AZ2svqaNYD",
        "outputId": "a67124ff-44dc-42fa-c27b-8aa01145c95e"
      },
      "source": [
        "gen = g()\n",
        "type(gen)"
      ],
      "execution_count": null,
      "outputs": [
        {
          "output_type": "execute_result",
          "data": {
            "text/plain": [
              "generator"
            ]
          },
          "metadata": {},
          "execution_count": 12
        }
      ]
    },
    {
      "cell_type": "code",
      "metadata": {
        "colab": {
          "base_uri": "https://localhost:8080/"
        },
        "id": "FNKcD1aKaQoW",
        "outputId": "6f9da63b-6327-469f-e83b-8ecb8ed293af"
      },
      "source": [
        "next(gen)"
      ],
      "execution_count": null,
      "outputs": [
        {
          "output_type": "stream",
          "name": "stdout",
          "text": [
            "Started\n"
          ]
        },
        {
          "output_type": "execute_result",
          "data": {
            "text/plain": [
              "42"
            ]
          },
          "metadata": {},
          "execution_count": 13
        }
      ]
    },
    {
      "cell_type": "code",
      "metadata": {
        "colab": {
          "base_uri": "https://localhost:8080/"
        },
        "id": "J38aIbFGbdqy",
        "outputId": "1d1014af-de2a-462d-9833-5b82c45ddef0"
      },
      "source": [
        "next(gen)"
      ],
      "execution_count": null,
      "outputs": [
        {
          "output_type": "execute_result",
          "data": {
            "text/plain": [
              "43"
            ]
          },
          "metadata": {},
          "execution_count": 14
        }
      ]
    },
    {
      "cell_type": "markdown",
      "metadata": {
        "id": "ACTnND-CNmk6"
      },
      "source": [
        "* Генераторы, как и итераторы, предназначены для итерирования по коллекции, но устроены несколько иначе\n",
        "* Они определяются с помощью функций с оператором `yield`, а не вызовов `iter()` и `next()`\n",
        "* В генераторе есть внутреннее изменяемое состояние в виде локальных переменных, которое он хранит автоматически\n",
        "* Генератор - более простой способ создания собственного итератора, чем его прямое определение\n",
        "* Все генераторы являются итераторами, но не наоборот<br><br>"
      ]
    },
    {
      "cell_type": "markdown",
      "metadata": {
        "id": "CBTdDtZdNmk6"
      },
      "source": [
        "- Примеры функций-генераторов:\n",
        "    - `zip`\n",
        "    - `enumerate`\n",
        "    - `reversed`\n",
        "    - `map`\n",
        "    - `filter`"
      ]
    },
    {
      "cell_type": "markdown",
      "metadata": {
        "id": "cKfgCPRENmk6"
      },
      "source": [
        "\n",
        "## Ключевое слово `yield`\n",
        "\n",
        "- `yield` - это слово, по смыслу похожее на `return`<br><br>\n",
        "- Но используется в функциях, возвращающих генераторы<br><br>\n",
        "- При вызове такой функции тело не выполняется, функция только возвращает генератор<br><br>\n",
        "- В первых запуск функция будет выполняться от начала и до `yield`<br><br>\n",
        "- После выхода состояние функции сохраняется<br><br>\n",
        "- На следующий вызов будет проводиться итерация цикла и возвращаться следующее значение<br><br>\n",
        "- И так далее, пока не кончится цикл каждого `yield` в теле функции<br><br>\n",
        "- После этого генератор станет пустым"
      ]
    },
    {
      "cell_type": "markdown",
      "metadata": {
        "id": "Ex5hibcgNmk6"
      },
      "source": [
        "## Примеры генераторов"
      ]
    },
    {
      "cell_type": "code",
      "metadata": {
        "id": "7fAM6LDkNmk6"
      },
      "source": [
        "def my_range(n):\n",
        "    yield 'You really want to run this generator?'\n",
        "\n",
        "    i = -1\n",
        "    while i < n:\n",
        "        i += 1\n",
        "        yield i"
      ],
      "execution_count": null,
      "outputs": []
    },
    {
      "cell_type": "code",
      "metadata": {
        "id": "3_mUyQelNmk7",
        "colab": {
          "base_uri": "https://localhost:8080/"
        },
        "outputId": "32fe949d-1b12-4146-bdfb-12c80e4b3eaf"
      },
      "source": [
        "gen = my_range(3)\n",
        "while True:\n",
        "    try:\n",
        "        print(next(gen), end='   ')\n",
        "    except StopIteration:  # we want to catch this type of exceptions\n",
        "        break"
      ],
      "execution_count": null,
      "outputs": [
        {
          "output_type": "stream",
          "name": "stdout",
          "text": [
            "You really want to run this generator?   0   1   2   3   "
          ]
        }
      ]
    },
    {
      "cell_type": "code",
      "metadata": {
        "id": "NRxXRFtrNmk7",
        "colab": {
          "base_uri": "https://localhost:8080/"
        },
        "outputId": "4b77df92-3944-4f94-e0c1-b4df67774177"
      },
      "source": [
        "for e in my_range(3):\n",
        "    print(e, end='   ')"
      ],
      "execution_count": null,
      "outputs": [
        {
          "output_type": "stream",
          "name": "stdout",
          "text": [
            "You really want to run this generator?   0   1   2   3   "
          ]
        }
      ]
    },
    {
      "cell_type": "markdown",
      "metadata": {
        "id": "0qZWqVg0lFDv"
      },
      "source": [
        "### Примеры генераторов: `unique`"
      ]
    },
    {
      "cell_type": "code",
      "metadata": {
        "id": "hetU9y8jlHEO"
      },
      "source": [
        "def unique(iterable, seen=None):\n",
        "    seen = set(seen or [])\n",
        "    for item in iterable:\n",
        "        if item not in seen:\n",
        "            seen.add(item)\n",
        "            yield item"
      ],
      "execution_count": null,
      "outputs": []
    },
    {
      "cell_type": "code",
      "metadata": {
        "colab": {
          "base_uri": "https://localhost:8080/"
        },
        "id": "eP1lTEr1gy18",
        "outputId": "e7121a47-6f26-4987-9c01-badb7bbf8c13"
      },
      "source": [
        "xs = [1, 1, 2, 3]\n",
        "unique(xs)"
      ],
      "execution_count": null,
      "outputs": [
        {
          "output_type": "execute_result",
          "data": {
            "text/plain": [
              "<generator object unique at 0x7f0dc7c538d0>"
            ]
          },
          "metadata": {},
          "execution_count": 19
        }
      ]
    },
    {
      "cell_type": "code",
      "metadata": {
        "colab": {
          "base_uri": "https://localhost:8080/"
        },
        "id": "EXE4cIOIgylc",
        "outputId": "9c8cb3bc-c905-42cd-cd9d-4063d98ddd66"
      },
      "source": [
        "list(unique(xs))"
      ],
      "execution_count": null,
      "outputs": [
        {
          "output_type": "execute_result",
          "data": {
            "text/plain": [
              "[1, 2, 3]"
            ]
          },
          "metadata": {},
          "execution_count": 20
        }
      ]
    },
    {
      "cell_type": "code",
      "metadata": {
        "colab": {
          "base_uri": "https://localhost:8080/"
        },
        "id": "P_DwAzuugySl",
        "outputId": "44bf8665-31ee-4be4-ec17-cdca1490757e"
      },
      "source": [
        "1 in unique(xs)"
      ],
      "execution_count": null,
      "outputs": [
        {
          "output_type": "execute_result",
          "data": {
            "text/plain": [
              "True"
            ]
          },
          "metadata": {},
          "execution_count": 21
        }
      ]
    },
    {
      "cell_type": "markdown",
      "metadata": {
        "id": "4xTnZmCClOU7"
      },
      "source": [
        "### Примеры генераторов: `chain`"
      ]
    },
    {
      "cell_type": "code",
      "metadata": {
        "id": "DD0TLGVLlPt4"
      },
      "source": [
        "def chain(*iterables):\n",
        "    for iterable in iterables:\n",
        "        for item in iterable:\n",
        "            yield item"
      ],
      "execution_count": null,
      "outputs": []
    },
    {
      "cell_type": "code",
      "metadata": {
        "colab": {
          "base_uri": "https://localhost:8080/"
        },
        "id": "5xY3aq-mtl0U",
        "outputId": "f5184a9f-ffb9-4766-ee4c-cee8772f39e6"
      },
      "source": [
        "xs, ys = range(3), [42]\n",
        "chain(xs, ys)"
      ],
      "execution_count": null,
      "outputs": [
        {
          "output_type": "execute_result",
          "data": {
            "text/plain": [
              "<generator object chain at 0x7f0dc8c7fa50>"
            ]
          },
          "metadata": {},
          "execution_count": 23
        }
      ]
    },
    {
      "cell_type": "code",
      "metadata": {
        "colab": {
          "base_uri": "https://localhost:8080/"
        },
        "id": "i384PARntloN",
        "outputId": "9238f6b9-4840-41e0-d73c-9c4ce21bfc4c"
      },
      "source": [
        "list(chain(xs, ys))"
      ],
      "execution_count": null,
      "outputs": [
        {
          "output_type": "execute_result",
          "data": {
            "text/plain": [
              "[0, 1, 2, 42]"
            ]
          },
          "metadata": {},
          "execution_count": 24
        }
      ]
    },
    {
      "cell_type": "code",
      "metadata": {
        "colab": {
          "base_uri": "https://localhost:8080/"
        },
        "id": "5opO-GVntlWt",
        "outputId": "daadec7c-45e6-498b-a182-8cf769cecdbe"
      },
      "source": [
        "42 in chain(xs, ys)"
      ],
      "execution_count": null,
      "outputs": [
        {
          "output_type": "execute_result",
          "data": {
            "text/plain": [
              "True"
            ]
          },
          "metadata": {},
          "execution_count": 25
        }
      ]
    },
    {
      "cell_type": "markdown",
      "metadata": {
        "id": "CUHyuvaZlS9g"
      },
      "source": [
        "## Переиспользование генераторов"
      ]
    },
    {
      "cell_type": "markdown",
      "metadata": {
        "id": "8knsJX8it7j1"
      },
      "source": [
        "Основное правило переиспользования генераторов:  **не\n",
        "делайте этого**."
      ]
    },
    {
      "cell_type": "code",
      "metadata": {
        "id": "X1DP3TQJlVfW"
      },
      "source": [
        "def g():\n",
        "    yield 42"
      ],
      "execution_count": null,
      "outputs": []
    },
    {
      "cell_type": "code",
      "metadata": {
        "id": "W7q09C0VuCGm",
        "colab": {
          "base_uri": "https://localhost:8080/"
        },
        "outputId": "5a4de7a1-4108-4e60-a230-d87f88efc534"
      },
      "source": [
        "gen = g()\n",
        "list(gen)"
      ],
      "execution_count": null,
      "outputs": [
        {
          "output_type": "execute_result",
          "data": {
            "text/plain": [
              "[42]"
            ]
          },
          "metadata": {},
          "execution_count": 27
        }
      ]
    },
    {
      "cell_type": "code",
      "metadata": {
        "id": "LHsBY-1OuEnF",
        "colab": {
          "base_uri": "https://localhost:8080/"
        },
        "outputId": "1826244e-6663-4188-fa35-b9e09dc18896"
      },
      "source": [
        "list(gen) # не тут-то было!"
      ],
      "execution_count": null,
      "outputs": [
        {
          "output_type": "execute_result",
          "data": {
            "text/plain": [
              "[]"
            ]
          },
          "metadata": {},
          "execution_count": 28
        }
      ]
    },
    {
      "cell_type": "markdown",
      "metadata": {
        "id": "_uc-H_vIuG_W"
      },
      "source": [
        "* Если вы хотите переиспользовать генератор, подумайте\n",
        "ещё раз.\n",
        "* Если вы уверены, что без переиспользования не обойтись,\n",
        "воспользуйтесь функцией `tee` из модуля `itertools`."
      ]
    },
    {
      "cell_type": "markdown",
      "metadata": {
        "id": "a2xSMPcQuc-9"
      },
      "source": [
        "## Коллекции и генераторы"
      ]
    },
    {
      "cell_type": "markdown",
      "metadata": {
        "id": "kwscjJ_Vundg"
      },
      "source": [
        "* Генераторы позволяют компактно реализовывать метод\n",
        "`__iter__` у коллекций.\n",
        "* Рассмотрим уже знакомый нам класс бинарного дерева:\n",
        "```python\n",
        "class BinaryTree:\n",
        "    def __init__(self, value, left=(), right=()):\n",
        "        self.value = value\n",
        "        self.left, self.right = left, right\n",
        "        \n",
        "    def __iter__(self): # inorder\n",
        "        for node in self.left:\n",
        "            yield node\n",
        "        yield self.value\n",
        "        for node in self.right:\n",
        "            yield node\n",
        "```\n",
        "* Плюс генераторов в том, что они позволяют обойтись без\n",
        "лишних классов, например, `InOrderIterator`."
      ]
    },
    {
      "cell_type": "markdown",
      "metadata": {
        "id": "cChof8nQlfIx"
      },
      "source": [
        "## Выражения-генераторы"
      ]
    },
    {
      "cell_type": "markdown",
      "metadata": {
        "id": "bmWFEbvawpht"
      },
      "source": [
        "* Напоминание: в Python есть генераторы списков, множеств\n",
        "и словарей.\n",
        "* Выражения-генераторы работают аналогичным образом,\n",
        "но не порождают коллекцию в процессе работы:"
      ]
    },
    {
      "cell_type": "code",
      "metadata": {
        "id": "fHxRGbrVlgl-",
        "colab": {
          "base_uri": "https://localhost:8080/"
        },
        "outputId": "17a506bd-bec5-498a-ecc2-6d6ef7c90723"
      },
      "source": [
        "gen = (x ** 2 for x in range(10) if x % 2 == 1)\n",
        "gen"
      ],
      "execution_count": null,
      "outputs": [
        {
          "output_type": "execute_result",
          "data": {
            "text/plain": [
              "<generator object <genexpr> at 0x7f0dc7c53bd0>"
            ]
          },
          "metadata": {},
          "execution_count": 29
        }
      ]
    },
    {
      "cell_type": "code",
      "metadata": {
        "colab": {
          "base_uri": "https://localhost:8080/"
        },
        "id": "_BSYkgrhwwsm",
        "outputId": "76014cbc-cedd-4829-ecf4-172e1e611d7c"
      },
      "source": [
        "next(gen)"
      ],
      "execution_count": null,
      "outputs": [
        {
          "output_type": "execute_result",
          "data": {
            "text/plain": [
              "1"
            ]
          },
          "metadata": {},
          "execution_count": 30
        }
      ]
    },
    {
      "cell_type": "code",
      "metadata": {
        "colab": {
          "base_uri": "https://localhost:8080/"
        },
        "id": "nPXMhriZwwgO",
        "outputId": "114cc2ce-892d-4ce0-d3ef-712c1975bda0"
      },
      "source": [
        "list(gen)"
      ],
      "execution_count": null,
      "outputs": [
        {
          "output_type": "execute_result",
          "data": {
            "text/plain": [
              "[9, 25, 49, 81]"
            ]
          },
          "metadata": {},
          "execution_count": 31
        }
      ]
    },
    {
      "cell_type": "markdown",
      "metadata": {
        "id": "pzBUGTEuw37e"
      },
      "source": [
        "Если выражение-генератор — единственный аргумент\n",
        "функции, скобки можно опустить:"
      ]
    },
    {
      "cell_type": "code",
      "metadata": {
        "colab": {
          "base_uri": "https://localhost:8080/"
        },
        "id": "eqMfQt45wwTQ",
        "outputId": "fb5a4457-5c69-4b0a-9c03-4b80efda2764"
      },
      "source": [
        "list(filter(lambda x: x % 2 == 1,\n",
        "            (x ** 2 for x in range(10))))"
      ],
      "execution_count": null,
      "outputs": [
        {
          "output_type": "execute_result",
          "data": {
            "text/plain": [
              "[1, 9, 25, 49, 81]"
            ]
          },
          "metadata": {},
          "execution_count": 32
        }
      ]
    },
    {
      "cell_type": "code",
      "metadata": {
        "colab": {
          "base_uri": "https://localhost:8080/"
        },
        "id": "0IRfSWXrw-Gt",
        "outputId": "2000589b-f8da-474c-c125-a176327e4532"
      },
      "source": [
        "sum(x ** 2 for x in range(10) if x % 2 == 1)"
      ],
      "execution_count": null,
      "outputs": [
        {
          "output_type": "execute_result",
          "data": {
            "text/plain": [
              "165"
            ]
          },
          "metadata": {},
          "execution_count": 33
        }
      ]
    },
    {
      "cell_type": "markdown",
      "metadata": {
        "id": "8mcuicTdljxV"
      },
      "source": [
        "## Выражение `yield`"
      ]
    },
    {
      "cell_type": "markdown",
      "metadata": {
        "id": "M0zDmDEpx5mD"
      },
      "source": [
        "Оператор `yield` можно использовать как выражение:"
      ]
    },
    {
      "cell_type": "code",
      "metadata": {
        "id": "uEewvQHtlkeZ"
      },
      "source": [
        "def g():\n",
        "    res = yield # точка входа 1\n",
        "    print(\"Got {!r}\".format(res))\n",
        "    res = yield 42 # точка входа 2\n",
        "    print(\"Got {!r}\".format(res))"
      ],
      "execution_count": null,
      "outputs": []
    },
    {
      "cell_type": "code",
      "metadata": {
        "id": "W86MJ3E1yQIT"
      },
      "source": [
        "gen = g()\n",
        "next(gen) # \"промотаем\" до первого yield"
      ],
      "execution_count": null,
      "outputs": []
    },
    {
      "cell_type": "code",
      "metadata": {
        "colab": {
          "base_uri": "https://localhost:8080/"
        },
        "id": "AhRasS5myP9p",
        "outputId": "d651bc2f-653f-4eb4-c286-18101b268309"
      },
      "source": [
        "next(gen) # \"промотаем\" до второго yield"
      ],
      "execution_count": null,
      "outputs": [
        {
          "output_type": "stream",
          "name": "stdout",
          "text": [
            "Got None\n"
          ]
        },
        {
          "output_type": "execute_result",
          "data": {
            "text/plain": [
              "42"
            ]
          },
          "metadata": {},
          "execution_count": 36
        }
      ]
    },
    {
      "cell_type": "code",
      "metadata": {
        "colab": {
          "base_uri": "https://localhost:8080/",
          "height": 182
        },
        "id": "fnq7Ay-1yPyd",
        "outputId": "ec5b3139-536e-4463-cdce-c6f5a5e0f14b"
      },
      "source": [
        "next(gen) # выполним оставшуюся часть генератора"
      ],
      "execution_count": null,
      "outputs": [
        {
          "output_type": "stream",
          "name": "stdout",
          "text": [
            "Got None\n"
          ]
        },
        {
          "output_type": "error",
          "ename": "StopIteration",
          "evalue": "ignored",
          "traceback": [
            "\u001b[0;31m---------------------------------------------------------------------------\u001b[0m",
            "\u001b[0;31mStopIteration\u001b[0m                             Traceback (most recent call last)",
            "\u001b[0;32m<ipython-input-37-23d0cb99457e>\u001b[0m in \u001b[0;36m<module>\u001b[0;34m()\u001b[0m\n\u001b[0;32m----> 1\u001b[0;31m \u001b[0mnext\u001b[0m\u001b[0;34m(\u001b[0m\u001b[0mgen\u001b[0m\u001b[0;34m)\u001b[0m \u001b[0;31m# выполним оставшуюся часть генератора\u001b[0m\u001b[0;34m\u001b[0m\u001b[0;34m\u001b[0m\u001b[0m\n\u001b[0m",
            "\u001b[0;31mStopIteration\u001b[0m: "
          ]
        }
      ]
    },
    {
      "cell_type": "markdown",
      "metadata": {
        "id": "NQ9uxk5VyK1l"
      },
      "source": [
        "На первый взгляд выражение `yield` выглядит бесполезно,\n",
        "но первое впечатление обманчиво."
      ]
    },
    {
      "cell_type": "markdown",
      "metadata": {
        "id": "aOgW_xYCqUZF"
      },
      "source": [
        "## Интерфейс генераторов: `send`"
      ]
    },
    {
      "cell_type": "markdown",
      "metadata": {
        "id": "9R21CwqFy1FR"
      },
      "source": [
        "Метод send возобновляет выполнение генератора и\n",
        "“отправляет” свой аргумент в следующий `yield`:"
      ]
    },
    {
      "cell_type": "code",
      "metadata": {
        "colab": {
          "base_uri": "https://localhost:8080/",
          "height": 182
        },
        "id": "z7jwMSP5y4oT",
        "outputId": "fd6041ff-e3f2-4eff-97d5-831907fde556"
      },
      "source": [
        "gen = g()\n",
        "gen.send(\"foobar\")"
      ],
      "execution_count": null,
      "outputs": [
        {
          "output_type": "error",
          "ename": "TypeError",
          "evalue": "ignored",
          "traceback": [
            "\u001b[0;31m---------------------------------------------------------------------------\u001b[0m",
            "\u001b[0;31mTypeError\u001b[0m                                 Traceback (most recent call last)",
            "\u001b[0;32m<ipython-input-38-0adb063b6fd0>\u001b[0m in \u001b[0;36m<module>\u001b[0;34m()\u001b[0m\n\u001b[1;32m      1\u001b[0m \u001b[0mgen\u001b[0m \u001b[0;34m=\u001b[0m \u001b[0mg\u001b[0m\u001b[0;34m(\u001b[0m\u001b[0;34m)\u001b[0m\u001b[0;34m\u001b[0m\u001b[0;34m\u001b[0m\u001b[0m\n\u001b[0;32m----> 2\u001b[0;31m \u001b[0mgen\u001b[0m\u001b[0;34m.\u001b[0m\u001b[0msend\u001b[0m\u001b[0;34m(\u001b[0m\u001b[0;34m\"foobar\"\u001b[0m\u001b[0;34m)\u001b[0m\u001b[0;34m\u001b[0m\u001b[0;34m\u001b[0m\u001b[0m\n\u001b[0m",
            "\u001b[0;31mTypeError\u001b[0m: can't send non-None value to a just-started generator"
          ]
        }
      ]
    },
    {
      "cell_type": "markdown",
      "metadata": {
        "id": "uodCubzOy9l3"
      },
      "source": [
        "Чтобы инициализировать генератор нужно “отправить” ему\n",
        "`None`. Функция `next` делает ровно это:"
      ]
    },
    {
      "cell_type": "code",
      "metadata": {
        "id": "yi-vyKDhqXB3"
      },
      "source": [
        "gen = g()\n",
        "next(gen)"
      ],
      "execution_count": null,
      "outputs": []
    },
    {
      "cell_type": "markdown",
      "metadata": {
        "id": "keOvPRGMzFVa"
      },
      "source": [
        "Результатом метода `send` является следующее значение\n",
        "генератора или исключение `StopIteration`, если такого\n",
        "исключения нет."
      ]
    },
    {
      "cell_type": "code",
      "metadata": {
        "colab": {
          "base_uri": "https://localhost:8080/"
        },
        "id": "wMT8K9I2zQSG",
        "outputId": "05f61ff8-1741-4d85-f2f5-2ba9dbb24c5f"
      },
      "source": [
        "gen = g()\n",
        "gen.send(None) # ≡ next(gen)\n",
        "gen.send(\"foobar\")"
      ],
      "execution_count": null,
      "outputs": [
        {
          "output_type": "stream",
          "name": "stdout",
          "text": [
            "Got 'foobar'\n"
          ]
        },
        {
          "output_type": "execute_result",
          "data": {
            "text/plain": [
              "42"
            ]
          },
          "metadata": {},
          "execution_count": 40
        }
      ]
    },
    {
      "cell_type": "markdown",
      "metadata": {
        "id": "apUiG59qqY1y"
      },
      "source": [
        "## Интерфейс генераторов: `throw`"
      ]
    },
    {
      "cell_type": "markdown",
      "metadata": {
        "id": "JzraHWvC08YD"
      },
      "source": [
        "Метод `throw` поднимает переданное исключение в месте,\n",
        "где генератор приостановил исполнение и возвращает\n",
        "следующее значение генератора."
      ]
    },
    {
      "cell_type": "code",
      "metadata": {
        "id": "G2GOSXc-1A0u"
      },
      "source": [
        "def g():\n",
        "    try:\n",
        "        yield 42\n",
        "    except Exception as e:\n",
        "        yield e"
      ],
      "execution_count": null,
      "outputs": []
    },
    {
      "cell_type": "code",
      "metadata": {
        "colab": {
          "base_uri": "https://localhost:8080/"
        },
        "id": "deTIbeEV1H5R",
        "outputId": "5b80b8c0-aba2-453e-afa2-55b209623f21"
      },
      "source": [
        "gen = g()\n",
        "next(gen)"
      ],
      "execution_count": null,
      "outputs": [
        {
          "output_type": "execute_result",
          "data": {
            "text/plain": [
              "42"
            ]
          },
          "metadata": {},
          "execution_count": 42
        }
      ]
    },
    {
      "cell_type": "code",
      "metadata": {
        "colab": {
          "base_uri": "https://localhost:8080/"
        },
        "id": "RkpA5sEu1PZ3",
        "outputId": "edb30bff-2c79-4609-c082-aa923a15d392"
      },
      "source": [
        "gen.throw(ValueError, \"something is wrong\")"
      ],
      "execution_count": null,
      "outputs": [
        {
          "output_type": "execute_result",
          "data": {
            "text/plain": [
              "ValueError('something is wrong')"
            ]
          },
          "metadata": {},
          "execution_count": 43
        }
      ]
    },
    {
      "cell_type": "code",
      "metadata": {
        "colab": {
          "base_uri": "https://localhost:8080/",
          "height": 252
        },
        "id": "_8Uush4e1Q11",
        "outputId": "cf650a01-31e3-4a2d-a7dd-562a96a8a904"
      },
      "source": [
        "gen.throw(RuntimeError, \"another error\")"
      ],
      "execution_count": null,
      "outputs": [
        {
          "output_type": "error",
          "ename": "RuntimeError",
          "evalue": "ignored",
          "traceback": [
            "\u001b[0;31m---------------------------------------------------------------------------\u001b[0m",
            "\u001b[0;31mRuntimeError\u001b[0m                              Traceback (most recent call last)",
            "\u001b[0;32m<ipython-input-44-d2b45c3ccc9a>\u001b[0m in \u001b[0;36m<module>\u001b[0;34m()\u001b[0m\n\u001b[0;32m----> 1\u001b[0;31m \u001b[0mgen\u001b[0m\u001b[0;34m.\u001b[0m\u001b[0mthrow\u001b[0m\u001b[0;34m(\u001b[0m\u001b[0mRuntimeError\u001b[0m\u001b[0;34m,\u001b[0m \u001b[0;34m\"another error\"\u001b[0m\u001b[0;34m)\u001b[0m\u001b[0;34m\u001b[0m\u001b[0;34m\u001b[0m\u001b[0m\n\u001b[0m",
            "\u001b[0;32m<ipython-input-41-4168a9bd1772>\u001b[0m in \u001b[0;36mg\u001b[0;34m()\u001b[0m\n\u001b[1;32m      3\u001b[0m         \u001b[0;32myield\u001b[0m \u001b[0;36m42\u001b[0m\u001b[0;34m\u001b[0m\u001b[0;34m\u001b[0m\u001b[0m\n\u001b[1;32m      4\u001b[0m     \u001b[0;32mexcept\u001b[0m \u001b[0mException\u001b[0m \u001b[0;32mas\u001b[0m \u001b[0me\u001b[0m\u001b[0;34m:\u001b[0m\u001b[0;34m\u001b[0m\u001b[0;34m\u001b[0m\u001b[0m\n\u001b[0;32m----> 5\u001b[0;31m         \u001b[0;32myield\u001b[0m \u001b[0me\u001b[0m\u001b[0;34m\u001b[0m\u001b[0;34m\u001b[0m\u001b[0m\n\u001b[0m",
            "\u001b[0;31mRuntimeError\u001b[0m: another error"
          ]
        }
      ]
    },
    {
      "cell_type": "markdown",
      "metadata": {
        "id": "5YY57pTQ1Tu1"
      },
      "source": [
        "Если генератор не обработал брошенное в него\n",
        "исключение, то выполнение генератора прекращается и\n",
        "исключение передаётся наверх по стеку вызовов."
      ]
    },
    {
      "cell_type": "markdown",
      "metadata": {
        "id": "xtRARHa4qhl8"
      },
      "source": [
        "## Интерфейс генераторов: `close`"
      ]
    },
    {
      "cell_type": "markdown",
      "metadata": {
        "id": "0YzDWUS_2LZG"
      },
      "source": [
        "Метод `close` поднимает специальное исключение\n",
        "`GeneratorExit` в месте, где генератор приостановил\n",
        "исполнение:"
      ]
    },
    {
      "cell_type": "code",
      "metadata": {
        "id": "Kl7v8WeaqjJK"
      },
      "source": [
        "def g():\n",
        "    try:\n",
        "        yield 42\n",
        "    finally:\n",
        "        print(\"Done\")"
      ],
      "execution_count": null,
      "outputs": []
    },
    {
      "cell_type": "code",
      "metadata": {
        "colab": {
          "base_uri": "https://localhost:8080/"
        },
        "id": "JW13CVln2WhE",
        "outputId": "a448622e-b1cd-4611-8a16-a95c82a2b26d"
      },
      "source": [
        "gen = g()\n",
        "next(gen)"
      ],
      "execution_count": null,
      "outputs": [
        {
          "output_type": "execute_result",
          "data": {
            "text/plain": [
              "42"
            ]
          },
          "metadata": {},
          "execution_count": 46
        }
      ]
    },
    {
      "cell_type": "code",
      "metadata": {
        "colab": {
          "base_uri": "https://localhost:8080/"
        },
        "id": "gG_9LxRy2YDG",
        "outputId": "f384ecfe-3e08-4071-d2e3-ebe37250c8ed"
      },
      "source": [
        "gen.close()"
      ],
      "execution_count": null,
      "outputs": [
        {
          "output_type": "stream",
          "name": "stdout",
          "text": [
            "Done\n"
          ]
        }
      ]
    },
    {
      "cell_type": "markdown",
      "metadata": {
        "id": "K3QhsYdQ2aIH"
      },
      "source": [
        "* Если всё хорошо, то метод `close` завершает работу\n",
        "генератора и ничего не возвращает.\n",
        "* Что может пойти не так? Генератор может обработать\n",
        "исключение `GeneratorExit` и вернуть значение с помощью\n",
        "`yield` или поднять другое исключение."
      ]
    },
    {
      "cell_type": "markdown",
      "metadata": {
        "id": "_y319Armqqde"
      },
      "source": [
        "## Генераторы как сопрограммы *aka* coroutines"
      ]
    },
    {
      "cell_type": "markdown",
      "metadata": {
        "id": "5Rzt02fXqvUP"
      },
      "source": [
        "*   Сопрограмма — это программа, которая может иметь\n",
        "больше одной точки входа, а также поддерживает\n",
        "остановку и продолжение с сохранением состояния.\n",
        "*   Звучит как определение генератора наоборот:"
      ]
    },
    {
      "cell_type": "code",
      "metadata": {
        "id": "KWRJMJYCrAYv"
      },
      "source": [
        "def grep(pattern):\n",
        "    print(\"Looking for {!r}\".format(pattern))\n",
        "    while True:\n",
        "        line = yield\n",
        "        if pattern in line:\n",
        "            print(line)"
      ],
      "execution_count": null,
      "outputs": []
    },
    {
      "cell_type": "code",
      "metadata": {
        "colab": {
          "base_uri": "https://localhost:8080/"
        },
        "id": "tA8PRMDx3aEm",
        "outputId": "bab5a744-8024-46a2-b45a-fd7159f33db4"
      },
      "source": [
        "gen = grep(\"Gotcha!\")\n",
        "next(gen)"
      ],
      "execution_count": null,
      "outputs": [
        {
          "output_type": "stream",
          "name": "stdout",
          "text": [
            "Looking for 'Gotcha!'\n"
          ]
        }
      ]
    },
    {
      "cell_type": "code",
      "metadata": {
        "id": "JHT6rMhZ3jSj"
      },
      "source": [
        "gen.send(\"This line doesn't have \\\n",
        "        what we're looking for\")"
      ],
      "execution_count": null,
      "outputs": []
    },
    {
      "cell_type": "code",
      "metadata": {
        "colab": {
          "base_uri": "https://localhost:8080/"
        },
        "id": "12mO-ULP3k4Y",
        "outputId": "c71f9677-4b94-4cc6-cf7d-cb79cd98aadd"
      },
      "source": [
        "gen.send(\"This one does. Gotcha!\")"
      ],
      "execution_count": null,
      "outputs": [
        {
          "output_type": "stream",
          "name": "stdout",
          "text": [
            "This one does. Gotcha!\n"
          ]
        }
      ]
    },
    {
      "cell_type": "markdown",
      "metadata": {
        "id": "hIW21KG35xxo"
      },
      "source": [
        "* Прежде, чем начать работать с сопрограммой, её нужно\n",
        "инициализировать с помощью вызова функции `next`.\n",
        "* Объявим декоратор `coroutine`, который скроет эту деталь\n",
        "реализации:"
      ]
    },
    {
      "cell_type": "code",
      "metadata": {
        "id": "YULJ_N-JtgnK"
      },
      "source": [
        "import functools\n",
        "def coroutine(g):\n",
        "    @functools.wraps(g)\n",
        "    def inner(*args, **kwargs):\n",
        "        gen = g(*args, **kwargs)\n",
        "        next(gen)\n",
        "        return gen\n",
        "    return inner"
      ],
      "execution_count": null,
      "outputs": []
    },
    {
      "cell_type": "code",
      "metadata": {
        "colab": {
          "base_uri": "https://localhost:8080/"
        },
        "id": "pFRsFGp96D4y",
        "outputId": "1d016edf-6a5a-4e66-bfd6-7b20f930ad82"
      },
      "source": [
        "grep = coroutine(grep)\n",
        "gen = grep(\"Gotcha!\")\n",
        "gen.send(\"One more line for ya!\")"
      ],
      "execution_count": null,
      "outputs": [
        {
          "output_type": "stream",
          "name": "stdout",
          "text": [
            "Looking for 'Gotcha!'\n"
          ]
        }
      ]
    },
    {
      "cell_type": "markdown",
      "metadata": {
        "id": "VMQB5Eqztys7"
      },
      "source": [
        "## Оператор `yield from`"
      ]
    },
    {
      "cell_type": "markdown",
      "metadata": {
        "id": "a8schx_xGBnZ"
      },
      "source": [
        "Оператор `yield from` позволяет делегировать выполнение\n",
        "другому генератору:"
      ]
    },
    {
      "cell_type": "code",
      "metadata": {
        "id": "T_mhGQH_t93n"
      },
      "source": [
        "def chain(*iterables):\n",
        "    for iterable in iterables:\n",
        "        yield from iterable"
      ],
      "execution_count": null,
      "outputs": []
    },
    {
      "cell_type": "markdown",
      "metadata": {
        "id": "FiB-zGFeGIlr"
      },
      "source": [
        "Любые вызовы методов `send` и `throw` у родительского\n",
        "генератора будут переданы вложенному генератору без\n",
        "изменений."
      ]
    },
    {
      "cell_type": "markdown",
      "metadata": {
        "id": "Z2yP6du6uLex"
      },
      "source": [
        "## Оператор `return` и исключение `StopIteration`"
      ]
    },
    {
      "cell_type": "markdown",
      "metadata": {
        "id": "KXNRLTOIGpXS"
      },
      "source": [
        "* Кроме оператора `yield` в теле генератора можно\n",
        "использовать оператор `return`.\n",
        "* На человеческом языке использование return означает: «У\n",
        "меня больше нет элементов, извини, возьми лучше вот\n",
        "это.»\n",
        "* На Python “вот это”, превращается в аргумент уже\n",
        "знакомого нам исключения `StopIteration`:"
      ]
    },
    {
      "cell_type": "code",
      "metadata": {
        "id": "bs3oCpASuNZQ"
      },
      "source": [
        "def g():\n",
        "    yield 42\n",
        "    return []"
      ],
      "execution_count": null,
      "outputs": []
    },
    {
      "cell_type": "code",
      "metadata": {
        "colab": {
          "base_uri": "https://localhost:8080/"
        },
        "id": "--UIqQS9G34D",
        "outputId": "6ece007b-5d5d-48bc-9055-1a804a73a47b"
      },
      "source": [
        "gen = g()\n",
        "next(gen)"
      ],
      "execution_count": null,
      "outputs": [
        {
          "output_type": "execute_result",
          "data": {
            "text/plain": [
              "42"
            ]
          },
          "metadata": {},
          "execution_count": 56
        }
      ]
    },
    {
      "cell_type": "code",
      "metadata": {
        "colab": {
          "base_uri": "https://localhost:8080/",
          "height": 165
        },
        "id": "BUaGo_UjG3ol",
        "outputId": "c3ce14f6-16d3-4019-d471-ee14c6f9099c"
      },
      "source": [
        "next(gen)"
      ],
      "execution_count": null,
      "outputs": [
        {
          "output_type": "error",
          "ename": "StopIteration",
          "evalue": "ignored",
          "traceback": [
            "\u001b[0;31m---------------------------------------------------------------------------\u001b[0m",
            "\u001b[0;31mStopIteration\u001b[0m                             Traceback (most recent call last)",
            "\u001b[0;32m<ipython-input-57-6e72e47198db>\u001b[0m in \u001b[0;36m<module>\u001b[0;34m()\u001b[0m\n\u001b[0;32m----> 1\u001b[0;31m \u001b[0mnext\u001b[0m\u001b[0;34m(\u001b[0m\u001b[0mgen\u001b[0m\u001b[0;34m)\u001b[0m\u001b[0;34m\u001b[0m\u001b[0;34m\u001b[0m\u001b[0m\n\u001b[0m",
            "\u001b[0;31mStopIteration\u001b[0m: []"
          ]
        }
      ]
    },
    {
      "cell_type": "markdown",
      "metadata": {
        "id": "d0VX7-Vguky2"
      },
      "source": [
        "## `return` ≠ `raise StopIteration`"
      ]
    },
    {
      "cell_type": "markdown",
      "metadata": {
        "id": "nGf5JQEUHKcb"
      },
      "source": [
        "Несмотря на схожесть, использование оператора `return` в\n",
        "генераторе не эквивалентно поднятию исключения\n",
        "`StopIteration`.  \n",
        "Контрпример:"
      ]
    },
    {
      "cell_type": "code",
      "metadata": {
        "id": "trKdhFEnunxZ"
      },
      "source": [
        "def g():\n",
        "    try:\n",
        "        yield 42\n",
        "        raise StopIteration([]) # ≠ return []\n",
        "    except Exception as e:\n",
        "        pass"
      ],
      "execution_count": null,
      "outputs": []
    },
    {
      "cell_type": "markdown",
      "metadata": {
        "id": "yvVjOFrbvMlX"
      },
      "source": [
        "## Выражение `yield from`"
      ]
    },
    {
      "cell_type": "markdown",
      "metadata": {
        "id": "kznF5jmaH-DQ"
      },
      "source": [
        "* Оператор `yield from`, как и оператор `yield`, можно\n",
        "использовать в качестве выражения.\n",
        "* При этом значением выражения `yield from` будет\n",
        "значение атрибута `value` у поднятого вложенным\n",
        "генератором исключения `StopIteration`:"
      ]
    },
    {
      "cell_type": "code",
      "metadata": {
        "id": "ji2YbaHxvO8Y"
      },
      "source": [
        " def f():\n",
        "    yield 42\n",
        "    return []\n",
        "\n",
        "def g():\n",
        "    res = yield from f()\n",
        "    print(\"Got {!r}\".format(res))"
      ],
      "execution_count": null,
      "outputs": []
    },
    {
      "cell_type": "code",
      "metadata": {
        "colab": {
          "base_uri": "https://localhost:8080/"
        },
        "id": "0jGjL4pmIReI",
        "outputId": "fcc2e27a-c28c-49ea-8aed-5e6b308c8833"
      },
      "source": [
        "gen = g()\n",
        "next(gen)"
      ],
      "execution_count": null,
      "outputs": [
        {
          "output_type": "execute_result",
          "data": {
            "text/plain": [
              "42"
            ]
          },
          "metadata": {},
          "execution_count": 60
        }
      ]
    },
    {
      "cell_type": "code",
      "metadata": {
        "colab": {
          "base_uri": "https://localhost:8080/"
        },
        "id": "Iinbacl6IVQ3",
        "outputId": "bd0639b9-b628-441f-d698-571ea99aa6ef"
      },
      "source": [
        "# next(gen)\n",
        "next(gen, None)"
      ],
      "execution_count": null,
      "outputs": [
        {
          "output_type": "stream",
          "name": "stdout",
          "text": [
            "Got []\n"
          ]
        }
      ]
    },
    {
      "cell_type": "markdown",
      "metadata": {
        "id": "YJ12-jYmvZ1M"
      },
      "source": [
        "## Менеджеры контекста и генераторы: мотивация"
      ]
    },
    {
      "cell_type": "markdown",
      "metadata": {
        "id": "PF8GYt2DJNMf"
      },
      "source": [
        "* Протокол менеджеров контекста требует реализации двух\n",
        "методов: `__enter__` и `__exit__`,\n",
        "* Если мы хотим, чтобы у менеджера было какое-то\n",
        "состояние, то мы вынуждены также добавить метод\n",
        "`__init__`.\n",
        "* В итоге получаем:"
      ]
    },
    {
      "cell_type": "code",
      "metadata": {
        "id": "bq_XGyihvfL3"
      },
      "source": [
        "class cd:\n",
        "    def __init__(self, path):\n",
        "        self.path = path\n",
        "\n",
        "    def __enter__(self):\n",
        "        self.saved_cwd = os.getcwd()\n",
        "        os.chdir(self.path)\n",
        "\n",
        "    def __exit__(self, *exc_info):\n",
        "        os.chdir(self.saved_cwd)"
      ],
      "execution_count": null,
      "outputs": []
    },
    {
      "cell_type": "markdown",
      "metadata": {
        "id": "fvF0lhHGvmJ6"
      },
      "source": [
        "## Менеджеры контекста и генераторы: `@contextmanager`"
      ]
    },
    {
      "cell_type": "markdown",
      "metadata": {
        "id": "MfntTf2bJoqJ"
      },
      "source": [
        "Декоратор `contextmanager` из модуля `contextlib`\n",
        "принимает генератор специального вида и строит по нему\n",
        "менеджер контекста."
      ]
    },
    {
      "cell_type": "code",
      "metadata": {
        "id": "5cQaqHs2vnyb"
      },
      "source": [
        "from contextlib import contextmanager\n",
        "@contextmanager\n",
        "def cd(path):              # __init__\n",
        "    old_path = os.getcwd() # __enter__\n",
        "    os.chdir(path)\n",
        "    try:\n",
        "        yield              # ---------\n",
        "    finally:\n",
        "        os.chdir(old_path) # __exit__"
      ],
      "execution_count": null,
      "outputs": []
    },
    {
      "cell_type": "markdown",
      "metadata": {
        "id": "qzv2uOpjJ39S"
      },
      "source": [
        "Генераторы позволяют сократить количество\n",
        "синтаксического шума при реализации менеджеров\n",
        "контекста."
      ]
    },
    {
      "cell_type": "markdown",
      "metadata": {
        "id": "SXrUidmCvp3d"
      },
      "source": [
        "## Ещё один пример использования `@contextmanager`"
      ]
    },
    {
      "cell_type": "markdown",
      "metadata": {
        "id": "g9Cu90IHJ-gw"
      },
      "source": [
        "Метод `__enter__`, построенный декоратором `contextmanager`,\n",
        "возвращает аргумент оператора `yield`:"
      ]
    },
    {
      "cell_type": "code",
      "metadata": {
        "id": "y5UlX66wvrSw",
        "colab": {
          "base_uri": "https://localhost:8080/"
        },
        "outputId": "1e05768d-76fc-4892-d681-331ec9fda955"
      },
      "source": [
        "from contextlib import contextmanager\n",
        "import tempfile\n",
        "import shutil\n",
        "@contextmanager\n",
        "def tempdir():                  # __init__\n",
        "    outdir = tempfile.mkdtemp() # __enter__\n",
        "    try:\n",
        "        yield outdir            # ---------\n",
        "    finally:\n",
        "        shutil.rmtree(outdir)   # __exit__\n",
        "\n",
        "with tempdir() as path:\n",
        "    print(path)"
      ],
      "execution_count": null,
      "outputs": [
        {
          "output_type": "stream",
          "name": "stdout",
          "text": [
            "/tmp/tmpn2gh7yki\n"
          ]
        }
      ]
    },
    {
      "cell_type": "markdown",
      "metadata": {
        "id": "Y2cx6ij3vxiG"
      },
      "source": [
        "## Генераторы: резюме"
      ]
    },
    {
      "cell_type": "markdown",
      "metadata": {
        "id": "b_6UZNQlv07z"
      },
      "source": [
        "*   Генератор в Python — это функция, которая использует\n",
        "операторы `yield` или `yield from`.\n",
        "*   В мире Python генераторы вездесущи не менее, чем\n",
        "любимые всеми декораторы.\n",
        "*   Мы поговорили о том, что генераторы можно использовать\n",
        "    *   как итераторы,\n",
        "    *   как сопрограммы,\n",
        "    *   для компактной реализации менеджеров контекста."
      ]
    },
    {
      "cell_type": "markdown",
      "metadata": {
        "id": "ylXUCPOgIArJ"
      },
      "source": [
        "# Модуль `itertools`"
      ]
    },
    {
      "cell_type": "markdown",
      "metadata": {
        "id": "gO1yqCoANmk8"
      },
      "source": [
        "\n",
        "- Модуль представляет собой набор инструментов для работы с итераторами и последовательностями<br><br>\n",
        "- Содержит три основных типа итераторов:<br><br>\n",
        "    - бесконечные итераторы\n",
        "    - конечные итераторы\n",
        "    - комбинаторные итераторы<br><br>\n",
        "\n",
        "- Позволяет эффективно решать небольшие задачи вида:<br><br>\n",
        "    - итерирование по бесконечному потоку\n",
        "    - слияние в один список вложенных списков\n",
        "    - генерация комбинаторного перебора сочетаний элементов последовательности\n",
        "    - аккумуляция и агрегация данных внутри последовательности"
      ]
    },
    {
      "cell_type": "markdown",
      "metadata": {
        "id": "HRMahKT7Nmk8"
      },
      "source": [
        "## Модуль `itetools`: примеры"
      ]
    },
    {
      "cell_type": "markdown",
      "metadata": {
        "id": "06QntxrIMUmH"
      },
      "source": [
        "### `count`"
      ]
    },
    {
      "cell_type": "code",
      "metadata": {
        "id": "veLe-t8iNmk8",
        "colab": {
          "base_uri": "https://localhost:8080/"
        },
        "outputId": "40a44557-bf31-4ed0-e6b2-fe6778d41068"
      },
      "source": [
        "from itertools import count\n",
        "\n",
        "for i in count(start=0):\n",
        "    print(i, end='  ')\n",
        "    if i == 5:\n",
        "        break"
      ],
      "execution_count": null,
      "outputs": [
        {
          "output_type": "stream",
          "name": "stdout",
          "text": [
            "0  1  2  3  4  5  "
          ]
        }
      ]
    },
    {
      "cell_type": "markdown",
      "metadata": {
        "id": "wFRdTZ6zMZOW"
      },
      "source": [
        "### `cycle`"
      ]
    },
    {
      "cell_type": "code",
      "metadata": {
        "id": "R_ioN9D3Nmk8",
        "colab": {
          "base_uri": "https://localhost:8080/"
        },
        "outputId": "9604e26d-e98f-498a-ebd5-4c51e7354470"
      },
      "source": [
        "from itertools import cycle\n",
        " \n",
        "count = 0\n",
        "for item in cycle('XYZ'):\n",
        "    if count > 4:\n",
        "        break\n",
        "    print(item, end='  ')\n",
        "    count += 1"
      ],
      "execution_count": null,
      "outputs": [
        {
          "output_type": "stream",
          "name": "stdout",
          "text": [
            "X  Y  Z  X  Y  "
          ]
        }
      ]
    },
    {
      "cell_type": "markdown",
      "metadata": {
        "id": "9szkxcusMchu"
      },
      "source": [
        "### `accumulate`"
      ]
    },
    {
      "cell_type": "code",
      "metadata": {
        "id": "-W_q-1rtNmk9",
        "colab": {
          "base_uri": "https://localhost:8080/"
        },
        "outputId": "9c93142e-1614-4f22-801c-37d8e0e4d821"
      },
      "source": [
        "from itertools import accumulate\n",
        "\n",
        "for i in accumulate(range(1, 5), lambda x, y: x * y):\n",
        "    print(i)"
      ],
      "execution_count": null,
      "outputs": [
        {
          "output_type": "stream",
          "name": "stdout",
          "text": [
            "1\n",
            "2\n",
            "6\n",
            "24\n"
          ]
        }
      ]
    },
    {
      "cell_type": "markdown",
      "metadata": {
        "id": "Yt0OFLogNGmc"
      },
      "source": [
        "### `chain`"
      ]
    },
    {
      "cell_type": "code",
      "metadata": {
        "id": "MzlfFq3QNmk9",
        "colab": {
          "base_uri": "https://localhost:8080/"
        },
        "outputId": "d4358c0c-5eef-4ac0-89d0-6d364f890134"
      },
      "source": [
        "from itertools import chain\n",
        "\n",
        "for i in chain([1, 2], [3], [4]):\n",
        "    print(i)"
      ],
      "execution_count": null,
      "outputs": [
        {
          "output_type": "stream",
          "name": "stdout",
          "text": [
            "1\n",
            "2\n",
            "3\n",
            "4\n"
          ]
        }
      ]
    },
    {
      "cell_type": "code",
      "metadata": {
        "colab": {
          "base_uri": "https://localhost:8080/"
        },
        "id": "2Qo6n8pE1B6a",
        "outputId": "75c0df7a-39a7-4f3e-e31d-d05966656eba"
      },
      "source": [
        "from itertools import chain\n",
        "\n",
        "chain_two = chain(range(2), range(5, 10))\n",
        "print(chain_two)\n",
        "list(chain_two)"
      ],
      "execution_count": null,
      "outputs": [
        {
          "output_type": "stream",
          "name": "stdout",
          "text": [
            "<itertools.chain object at 0x7f0dc521e7d0>\n"
          ]
        },
        {
          "output_type": "execute_result",
          "data": {
            "text/plain": [
              "[0, 1, 5, 6, 7, 8, 9]"
            ]
          },
          "metadata": {},
          "execution_count": 69
        }
      ]
    },
    {
      "cell_type": "markdown",
      "metadata": {
        "id": "NPgxugwMSqfP"
      },
      "source": [
        "Сконкатенировать итератор итераторов (!) можно с\n",
        "помощью метода `chain.from_iterable`:"
      ]
    },
    {
      "cell_type": "code",
      "metadata": {
        "id": "SdH2EXXuSw7O",
        "colab": {
          "base_uri": "https://localhost:8080/"
        },
        "outputId": "004abd8d-e151-4154-c898-1a8ff714e329"
      },
      "source": [
        "it = (range(x, x ** x) for x in range(2, 4))\n",
        "list(chain.from_iterable(it))"
      ],
      "execution_count": null,
      "outputs": [
        {
          "output_type": "execute_result",
          "data": {
            "text/plain": [
              "[2,\n",
              " 3,\n",
              " 3,\n",
              " 4,\n",
              " 5,\n",
              " 6,\n",
              " 7,\n",
              " 8,\n",
              " 9,\n",
              " 10,\n",
              " 11,\n",
              " 12,\n",
              " 13,\n",
              " 14,\n",
              " 15,\n",
              " 16,\n",
              " 17,\n",
              " 18,\n",
              " 19,\n",
              " 20,\n",
              " 21,\n",
              " 22,\n",
              " 23,\n",
              " 24,\n",
              " 25,\n",
              " 26]"
            ]
          },
          "metadata": {},
          "execution_count": 70
        }
      ]
    },
    {
      "cell_type": "markdown",
      "metadata": {
        "id": "N1Y3zabrNmk9"
      },
      "source": [
        "### `groupby`"
      ]
    },
    {
      "cell_type": "code",
      "metadata": {
        "id": "NLVCgV9GNmk9",
        "colab": {
          "base_uri": "https://localhost:8080/"
        },
        "outputId": "846dc79b-33b6-49f6-a02a-a0e46ea8e484"
      },
      "source": [
        "from itertools import groupby\n",
        " \n",
        "vehicles = [('Ford', 'Taurus'), ('Dodge', 'Durango'),\n",
        "            ('Chevrolet', 'Cobalt'), ('Ford', 'F150'),\n",
        "            ('Dodge', 'Charger'), ('Ford', 'GT')]\n",
        " \n",
        "sorted_vehicles = sorted(vehicles)\n",
        " \n",
        "for key, group in groupby(sorted_vehicles, lambda x: x[0]):\n",
        "    for maker, model in group:\n",
        "        print('{model} is made by {maker}'.format(model=model, maker=maker))\n",
        "    \n",
        "    print (\"**** END OF THE GROUP ***\\n\")"
      ],
      "execution_count": null,
      "outputs": [
        {
          "output_type": "stream",
          "name": "stdout",
          "text": [
            "Cobalt is made by Chevrolet\n",
            "**** END OF THE GROUP ***\n",
            "\n",
            "Charger is made by Dodge\n",
            "Durango is made by Dodge\n",
            "**** END OF THE GROUP ***\n",
            "\n",
            "F150 is made by Ford\n",
            "GT is made by Ford\n",
            "Taurus is made by Ford\n",
            "**** END OF THE GROUP ***\n",
            "\n"
          ]
        }
      ]
    },
    {
      "cell_type": "markdown",
      "metadata": {
        "id": "-f1oacVuV5W_"
      },
      "source": [
        "## Модуль `itertools`: `islice`"
      ]
    },
    {
      "cell_type": "markdown",
      "metadata": {
        "id": "QAemn5GsN0IE"
      },
      "source": [
        "Функция `islice` обобщает понятие слайса на\n",
        "произвольный итератор:"
      ]
    },
    {
      "cell_type": "code",
      "metadata": {
        "colab": {
          "base_uri": "https://localhost:8080/"
        },
        "id": "q3ck_0OIPO3M",
        "outputId": "0d4a007c-8840-4bbd-bcba-c71576611e7d"
      },
      "source": [
        "from itertools import islice\n",
        "xs = range(10)\n",
        "list(islice(xs, 3)) # ≡ xs[:3]"
      ],
      "execution_count": null,
      "outputs": [
        {
          "output_type": "execute_result",
          "data": {
            "text/plain": [
              "[0, 1, 2]"
            ]
          },
          "metadata": {},
          "execution_count": 72
        }
      ]
    },
    {
      "cell_type": "code",
      "metadata": {
        "colab": {
          "base_uri": "https://localhost:8080/"
        },
        "id": "VneqfAtZPQxg",
        "outputId": "5ea7d650-1ae3-4125-b501-1c6625e4dc3c"
      },
      "source": [
        "list(islice(xs, 3, None)) # ≡ xs[3:]"
      ],
      "execution_count": null,
      "outputs": [
        {
          "output_type": "execute_result",
          "data": {
            "text/plain": [
              "[3, 4, 5, 6, 7, 8, 9]"
            ]
          },
          "metadata": {},
          "execution_count": 73
        }
      ]
    },
    {
      "cell_type": "code",
      "metadata": {
        "colab": {
          "base_uri": "https://localhost:8080/"
        },
        "id": "o8LN4UxQPQl9",
        "outputId": "92e14632-b588-4470-efca-eb2eb99facf2"
      },
      "source": [
        "list(islice(xs, 3, 8, 2)) # ≡ xs[3:8:2]"
      ],
      "execution_count": null,
      "outputs": [
        {
          "output_type": "execute_result",
          "data": {
            "text/plain": [
              "[3, 5, 7]"
            ]
          },
          "metadata": {},
          "execution_count": 74
        }
      ]
    },
    {
      "cell_type": "markdown",
      "metadata": {
        "id": "iVmTuyCkQmoM"
      },
      "source": [
        "## Модуль `itertools`: бесконечные итераторы"
      ]
    },
    {
      "cell_type": "markdown",
      "metadata": {
        "id": "g7R380MmQs2t"
      },
      "source": [
        "Для удобства реализуем родственника функции `drop`:\n",
        "функцию `take`, которая строит список из более, чем `n`\n",
        "первых элементов переданного ей итератора."
      ]
    },
    {
      "cell_type": "code",
      "metadata": {
        "id": "avkieUHlQ0Ed"
      },
      "source": [
        "from itertools import islice\n",
        "def take(n, iterable):\n",
        "    return list(islice(iterable, n))"
      ],
      "execution_count": null,
      "outputs": []
    },
    {
      "cell_type": "code",
      "metadata": {
        "colab": {
          "base_uri": "https://localhost:8080/"
        },
        "id": "hV3GuVCT6YaP",
        "outputId": "02041b37-9673-4e1f-e060-87182b25a954"
      },
      "source": [
        "take(3, range(10))"
      ],
      "execution_count": null,
      "outputs": [
        {
          "output_type": "execute_result",
          "data": {
            "text/plain": [
              "[0, 1, 2]"
            ]
          },
          "metadata": {},
          "execution_count": 76
        }
      ]
    },
    {
      "cell_type": "markdown",
      "metadata": {
        "id": "XUNm01QzRFxs"
      },
      "source": [
        "Названия бесконечных итераторов говорят сами за себя:"
      ]
    },
    {
      "cell_type": "code",
      "metadata": {
        "colab": {
          "base_uri": "https://localhost:8080/"
        },
        "id": "2pG2DDxERI1t",
        "outputId": "2115f7a6-3157-42b6-bbd3-4e4e92f92c0e"
      },
      "source": [
        "from itertools import count, cycle, repeat\n",
        "take(3, count(0, 5))"
      ],
      "execution_count": null,
      "outputs": [
        {
          "output_type": "execute_result",
          "data": {
            "text/plain": [
              "[0, 5, 10]"
            ]
          },
          "metadata": {},
          "execution_count": 77
        }
      ]
    },
    {
      "cell_type": "code",
      "metadata": {
        "colab": {
          "base_uri": "https://localhost:8080/"
        },
        "id": "fC7YIQSBRUkc",
        "outputId": "9f5be7d4-cb25-4d5c-dd68-83473355f765"
      },
      "source": [
        "take(5, cycle([1, 2, 3]))"
      ],
      "execution_count": null,
      "outputs": [
        {
          "output_type": "execute_result",
          "data": {
            "text/plain": [
              "[1, 2, 3, 1, 2]"
            ]
          },
          "metadata": {},
          "execution_count": 78
        }
      ]
    },
    {
      "cell_type": "code",
      "metadata": {
        "colab": {
          "base_uri": "https://localhost:8080/"
        },
        "id": "D-npIxsTRUdm",
        "outputId": "7ac5f0cd-e854-4be3-9f8b-a1159929a4a2"
      },
      "source": [
        "take(3, repeat(42))"
      ],
      "execution_count": null,
      "outputs": [
        {
          "output_type": "execute_result",
          "data": {
            "text/plain": [
              "[42, 42, 42]"
            ]
          },
          "metadata": {},
          "execution_count": 79
        }
      ]
    },
    {
      "cell_type": "code",
      "metadata": {
        "colab": {
          "base_uri": "https://localhost:8080/"
        },
        "id": "MsoF2b7aRUYZ",
        "outputId": "2568eb11-8e78-4d29-8ba6-e4deb987f0b1"
      },
      "source": [
        "take(6, repeat(42, 2))"
      ],
      "execution_count": null,
      "outputs": [
        {
          "output_type": "execute_result",
          "data": {
            "text/plain": [
              "[42, 42]"
            ]
          },
          "metadata": {},
          "execution_count": 80
        }
      ]
    },
    {
      "cell_type": "markdown",
      "metadata": {
        "id": "DKignB1lRf8u"
      },
      "source": [
        "## Модуль `itertools`: `dropwhile` и `takewhile`"
      ]
    },
    {
      "cell_type": "markdown",
      "metadata": {
        "id": "HEvGjXHQQbGe"
      },
      "source": [
        "* Функции `dropwhile` и `takewhile` обобщают логику функций\n",
        "`drop` и `take` на произвольный предикат.\n",
        "* Обратите внимание, что обе функции возвращают\n",
        "итератор, а не список, как реализованная нами функция\n",
        "`take`:"
      ]
    },
    {
      "cell_type": "code",
      "metadata": {
        "id": "KzmN4XoC06Qe",
        "colab": {
          "base_uri": "https://localhost:8080/"
        },
        "outputId": "7636e311-bd62-4b66-e28b-51104906f12d"
      },
      "source": [
        "from itertools import dropwhile, takewhile\n",
        "list(dropwhile(lambda x: x < 5, range(10)))"
      ],
      "execution_count": null,
      "outputs": [
        {
          "output_type": "execute_result",
          "data": {
            "text/plain": [
              "[5, 6, 7, 8, 9]"
            ]
          },
          "metadata": {},
          "execution_count": 81
        }
      ]
    },
    {
      "cell_type": "code",
      "metadata": {
        "id": "BrvhbQ2qR8TU",
        "colab": {
          "base_uri": "https://localhost:8080/"
        },
        "outputId": "a3a97b84-85fc-4ab7-fe8e-9f2a99ef373f"
      },
      "source": [
        "it = takewhile(lambda x: x < 5, range(10))\n",
        "it"
      ],
      "execution_count": null,
      "outputs": [
        {
          "output_type": "execute_result",
          "data": {
            "text/plain": [
              "<itertools.takewhile at 0x7f0dc5146a00>"
            ]
          },
          "metadata": {},
          "execution_count": 82
        }
      ]
    },
    {
      "cell_type": "code",
      "metadata": {
        "id": "0xnGF8T4R8N2",
        "colab": {
          "base_uri": "https://localhost:8080/"
        },
        "outputId": "d9e0149f-bdcc-473e-a863-af29bef93a4a"
      },
      "source": [
        "list(it)"
      ],
      "execution_count": null,
      "outputs": [
        {
          "output_type": "execute_result",
          "data": {
            "text/plain": [
              "[0, 1, 2, 3, 4]"
            ]
          },
          "metadata": {},
          "execution_count": 83
        }
      ]
    },
    {
      "cell_type": "markdown",
      "metadata": {
        "id": "x8Poz-XLS_6Z"
      },
      "source": [
        "## Модуль `itertools`: `chain`"
      ]
    },
    {
      "cell_type": "markdown",
      "metadata": {
        "id": "FeLv5s9bTLt5"
      },
      "source": [
        "В модуле `itertools` реализован \n",
        "генератор `chain`, который конкатенирует произвольное\n",
        "число итераторов:"
      ]
    },
    {
      "cell_type": "code",
      "metadata": {
        "colab": {
          "base_uri": "https://localhost:8080/"
        },
        "id": "xQieZEkhTAVv",
        "outputId": "efbfabde-b74a-4b06-a1e7-9023a23268dd"
      },
      "source": [
        "from itertools import chain\n",
        "take(5, chain(range(2), range(5, 10)))"
      ],
      "execution_count": null,
      "outputs": [
        {
          "output_type": "execute_result",
          "data": {
            "text/plain": [
              "[0, 1, 5, 6, 7]"
            ]
          },
          "metadata": {},
          "execution_count": 84
        }
      ]
    },
    {
      "cell_type": "markdown",
      "metadata": {
        "id": "8ernfvZrTAVx"
      },
      "source": [
        "Сконкатенировать итератор итераторов (!) можно с\n",
        "помощью метода `chain.from_iterable`:"
      ]
    },
    {
      "cell_type": "code",
      "metadata": {
        "id": "hj43sK47TAVx",
        "colab": {
          "base_uri": "https://localhost:8080/"
        },
        "outputId": "0a0d9aa9-012a-4b2c-e58f-0baeb605f219"
      },
      "source": [
        "it = (range(x, x ** x) for x in range(2, 4))\n",
        "take(5, chain.from_iterable(it))"
      ],
      "execution_count": null,
      "outputs": [
        {
          "output_type": "execute_result",
          "data": {
            "text/plain": [
              "[2, 3, 3, 4, 5]"
            ]
          },
          "metadata": {},
          "execution_count": 85
        }
      ]
    },
    {
      "cell_type": "markdown",
      "metadata": {
        "id": "uHP_JG_tTX9h"
      },
      "source": [
        "## Модуль `itertools`: `tee`"
      ]
    },
    {
      "cell_type": "markdown",
      "metadata": {
        "id": "S6V1oLtOTcjG"
      },
      "source": [
        "Функция `tee` создаёт `n` независимых копий переданного ей\n",
        "итератора:"
      ]
    },
    {
      "cell_type": "code",
      "metadata": {
        "colab": {
          "base_uri": "https://localhost:8080/"
        },
        "id": "evQaW-SPThdr",
        "outputId": "e0917fe1-4aef-4527-c956-fba70eee9ae8"
      },
      "source": [
        "from itertools import tee\n",
        "it = range(3)\n",
        "a, b, c = tee(it, 3)\n",
        "list(a), list(b), list(c)"
      ],
      "execution_count": null,
      "outputs": [
        {
          "output_type": "execute_result",
          "data": {
            "text/plain": [
              "([0, 1, 2], [0, 1, 2], [0, 1, 2])"
            ]
          },
          "metadata": {},
          "execution_count": 86
        }
      ]
    },
    {
      "cell_type": "markdown",
      "metadata": {
        "id": "E8l93UovTmC5"
      },
      "source": [
        "Использовать `it` после копирования не рекомендуется,\n",
        "потому что в этом случае скопированные итераторы\n",
        "`a`, `b`, `c` могут пропустить элемент:"
      ]
    },
    {
      "cell_type": "code",
      "metadata": {
        "id": "PxVRiNa-TyTY",
        "colab": {
          "base_uri": "https://localhost:8080/"
        },
        "outputId": "df31c32c-b772-4460-9f2e-b13e212dac06"
      },
      "source": [
        "it = iter(range(3))\n",
        "a, b = tee(it, 2)\n",
        "used = list(it)\n",
        "list(a), list(b)"
      ],
      "execution_count": null,
      "outputs": [
        {
          "output_type": "execute_result",
          "data": {
            "text/plain": [
              "([], [])"
            ]
          },
          "metadata": {},
          "execution_count": 87
        }
      ]
    },
    {
      "cell_type": "markdown",
      "metadata": {
        "id": "ASmwWZS8T6sK"
      },
      "source": [
        "## Модуль `itertools`: комбинаторные итераторы"
      ]
    },
    {
      "cell_type": "markdown",
      "metadata": {
        "id": "HhC9E-TDT-x2"
      },
      "source": [
        "В модуле `itertools` в виде итераторов реализованы полезные\n",
        "комбинаторные операции, например:  \n",
        "* декартово произведение итераторов,"
      ]
    },
    {
      "cell_type": "code",
      "metadata": {
        "id": "MzbO1L-hT4e-",
        "colab": {
          "base_uri": "https://localhost:8080/"
        },
        "outputId": "e6a7bfa5-d6ea-442d-d471-7e537c5d0317"
      },
      "source": [
        "import itertools\n",
        "list(itertools.product(\"AB\", repeat=2))"
      ],
      "execution_count": null,
      "outputs": [
        {
          "output_type": "execute_result",
          "data": {
            "text/plain": [
              "[('A', 'A'), ('A', 'B'), ('B', 'A'), ('B', 'B')]"
            ]
          },
          "metadata": {},
          "execution_count": 88
        }
      ]
    },
    {
      "cell_type": "code",
      "metadata": {
        "id": "l4OpI2a7T4cI",
        "colab": {
          "base_uri": "https://localhost:8080/"
        },
        "outputId": "80c3dcea-f4fe-41b1-cf83-d32a7f1e57f8"
      },
      "source": [
        "list(itertools.product(\"AB\", repeat=3))"
      ],
      "execution_count": null,
      "outputs": [
        {
          "output_type": "execute_result",
          "data": {
            "text/plain": [
              "[('A', 'A', 'A'),\n",
              " ('A', 'A', 'B'),\n",
              " ('A', 'B', 'A'),\n",
              " ('A', 'B', 'B'),\n",
              " ('B', 'A', 'A'),\n",
              " ('B', 'A', 'B'),\n",
              " ('B', 'B', 'A'),\n",
              " ('B', 'B', 'B')]"
            ]
          },
          "metadata": {},
          "execution_count": 89
        }
      ]
    },
    {
      "cell_type": "markdown",
      "metadata": {
        "id": "rgiA9uuSUJz8"
      },
      "source": [
        "* перестановки элементов итератора,"
      ]
    },
    {
      "cell_type": "code",
      "metadata": {
        "id": "9XoB1LwrT4YY",
        "colab": {
          "base_uri": "https://localhost:8080/"
        },
        "outputId": "a3a45801-d4eb-4947-f98f-868d1a84d322"
      },
      "source": [
        "list(itertools.permutations(\"AB\"))"
      ],
      "execution_count": null,
      "outputs": [
        {
          "output_type": "execute_result",
          "data": {
            "text/plain": [
              "[('A', 'B'), ('B', 'A')]"
            ]
          },
          "metadata": {},
          "execution_count": 90
        }
      ]
    },
    {
      "cell_type": "markdown",
      "metadata": {
        "id": "XZ8PIdqeUVH9"
      },
      "source": [
        "* сочетания (с повторениями и без) из элементов итератора."
      ]
    },
    {
      "cell_type": "code",
      "metadata": {
        "id": "sAAYj4GUT4VY",
        "colab": {
          "base_uri": "https://localhost:8080/"
        },
        "outputId": "3e8614a4-6d1d-4751-8816-9d9f13a8abe3"
      },
      "source": [
        "from itertools import combinations, \\\n",
        "    combinations_with_replacement\n",
        "list(combinations(\"ABC\", 2))"
      ],
      "execution_count": null,
      "outputs": [
        {
          "output_type": "execute_result",
          "data": {
            "text/plain": [
              "[('A', 'B'), ('A', 'C'), ('B', 'C')]"
            ]
          },
          "metadata": {},
          "execution_count": 91
        }
      ]
    },
    {
      "cell_type": "code",
      "metadata": {
        "id": "BGxhZ9ART4Rx",
        "colab": {
          "base_uri": "https://localhost:8080/"
        },
        "outputId": "1d599c4a-9d5f-48d4-98a5-ede452be7b54"
      },
      "source": [
        "list(combinations_with_replacement(\"ABC\", 2))"
      ],
      "execution_count": null,
      "outputs": [
        {
          "output_type": "execute_result",
          "data": {
            "text/plain": [
              "[('A', 'A'), ('A', 'B'), ('A', 'C'), ('B', 'B'), ('B', 'C'), ('C', 'C')]"
            ]
          },
          "metadata": {},
          "execution_count": 92
        }
      ]
    },
    {
      "cell_type": "markdown",
      "metadata": {
        "id": "PW53ANEBUmHb"
      },
      "source": [
        "## Модуль `itertools`: резюме"
      ]
    },
    {
      "cell_type": "markdown",
      "metadata": {
        "id": "sTrshqxkUrAh"
      },
      "source": [
        "* Модуль `itertools` предоставляет обширный набор\n",
        "компонент для реализации операций над\n",
        "последовательностями.\n",
        "* Мы обсудили:\n",
        "    * `islice`,\n",
        "    * бесконечные итераторы `count`, `cycle`, `repeat`,\n",
        "    * `chain`,\n",
        "    * `tee`,\n",
        "    * `groupby`,\n",
        "    * `accumulate`,\n",
        "\n",
        "    * комбинаторные итераторы `product`, `permutations`,\n",
        "`combinations` и `combinations_with_replacement`."
      ]
    }
  ]
}