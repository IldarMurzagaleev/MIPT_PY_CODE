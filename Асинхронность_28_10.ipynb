{
  "nbformat": 4,
  "nbformat_minor": 0,
  "metadata": {
    "colab": {
      "name": "Асинхронность_28_10.ipynb",
      "provenance": [],
      "collapsed_sections": [],
      "include_colab_link": true
    },
    "kernelspec": {
      "display_name": "Python 3",
      "name": "python3"
    },
    "language_info": {
      "name": "python"
    }
  },
  "cells": [
    {
      "cell_type": "markdown",
      "metadata": {
        "id": "view-in-github",
        "colab_type": "text"
      },
      "source": [
        "<a href=\"https://colab.research.google.com/github/pythonkvs/seminars/blob/main/%D0%90%D1%81%D0%B8%D0%BD%D1%85%D1%80%D0%BE%D0%BD%D0%BD%D0%BE%D1%81%D1%82%D1%8C_28_10.ipynb\" target=\"_parent\"><img src=\"https://colab.research.google.com/assets/colab-badge.svg\" alt=\"Open In Colab\"/></a>"
      ]
    },
    {
      "cell_type": "code",
      "metadata": {
        "id": "LSfl-newCyKF"
      },
      "source": [
        "!pip install nest_asyncio\n",
        "import nest_asyncio\n",
        "nest_asyncio.apply()"
      ],
      "execution_count": null,
      "outputs": []
    },
    {
      "cell_type": "markdown",
      "metadata": {
        "id": "uGAGYd93KRR1"
      },
      "source": [
        "\n",
        "<h3 id=\"Обработка-запросов-в-один-поток\">Обработка запросов в один поток<a class=\"anchor-link\" href=\"#Обработка-запросов-в-один-поток\"></a></h3><ul>\n",
        "<li>Подходы для организации выполнения кода в одном потоке</li>\n",
        "<li>Модуль select</li>\n",
        "<li>Неблокирующий ввод/вывод</li>\n",
        "<li>Python фреймворки</li>\n",
        "</ul>\n"
      ]
    },
    {
      "cell_type": "markdown",
      "metadata": {
        "id": "zRAeQqTOKRR5"
      },
      "source": [
        "\n",
        "<h3 id=\"Модуль-select\">Модуль select<a class=\"anchor-link\" href=\"#Модуль-select\"></a></h3><ul>\n",
        "<li>Модуль select используется для организации неблокирующего ввода/вывода.</li>\n",
        "<li>Существуют несколько механизмов опроса файловых дескрипторов:<ul>\n",
        "<li>select.select(...)</li>\n",
        "<li>select.poll(...)</li>\n",
        "<li>select.epoll(...)</li>\n",
        "<li>select.kqueue(...)</li>\n",
        "<li>...</li>\n",
        "</ul>\n",
        "</li>\n",
        "</ul>\n"
      ]
    },
    {
      "cell_type": "code",
      "metadata": {
        "id": "tl0WHCqK4hjQ"
      },
      "source": [
        "# Неблокирующий ввод/вывод, обучающий пример\n",
        "\n",
        "import socket\n",
        "import select\n",
        "\n",
        "sock = socket.socket()\n",
        "sock.bind((\"\", 10001))\n",
        "sock.listen()\n",
        "\n",
        "# как обработать запросы для conn1 и conn2\n",
        "# одновременно без потоков?\n",
        "conn1, addr = sock.accept()\n",
        "conn2, addr = sock.accept()\n",
        "\n",
        "conn1.setblocking(0)\n",
        "conn2.setblocking(0)\n",
        "    \n",
        "epoll = select.epoll()\n",
        "epoll.register(conn1.fileno(), select.EPOLLIN | select.EPOLLOUT)\n",
        "epoll.register(conn2.fileno(), select.EPOLLIN | select.EPOLLOUT)\n",
        "\n",
        "conn_map = {\n",
        "    conn1.fileno(): conn1,\n",
        "    conn2.fileno(): conn2,\n",
        "}"
      ],
      "execution_count": null,
      "outputs": []
    },
    {
      "cell_type": "code",
      "metadata": {
        "id": "xRKLk0oxKRR8"
      },
      "source": [
        "# Неблокирующий ввод/вывод, обучающий пример\n",
        "# Цикл обработки событий в epoll\n",
        "\n",
        "while True:\n",
        "    events = epoll.poll(1)\n",
        "    \n",
        "    for fileno, event in events:\n",
        "        if event & select.EPOLLIN:\n",
        "            # обработка чтения из сокета\n",
        "            data=conn_map[fileno].recv(1024)\n",
        "            print(data.decode(\"utf8\"))\n",
        "        elif event & select.EPOLLOUT:\n",
        "            # обработка записи в сокет\n",
        "            conn_map[fileno].send(\"pong\".encode(\"utf8\"))"
      ],
      "execution_count": null,
      "outputs": []
    },
    {
      "cell_type": "markdown",
      "metadata": {
        "id": "0L0KDLTUzwRZ"
      },
      "source": [
        "В современных ОС Linux используют epoll.\n",
        "При помощи вызова epoll.poll можно получить файловые дескрипторы, готовые для чтения или записи.\n",
        "Такой код иногда называют асинхронным программированием, \n",
        "или мультиплексирование ввода/вывода.\n",
        "Пример сделан с целью обучения для понимания того, как использовать неблокирующий ввод/вывод."
      ]
    },
    {
      "cell_type": "markdown",
      "metadata": {
        "id": "470mJazpKRR8"
      },
      "source": [
        "\n",
        "<h3 id=\"Неблокирующий-ввод/вывод\">Неблокирующий ввод/вывод<a class=\"anchor-link\" href=\"#Неблокирующий-ввод/вывод\"></a></h3><ul>\n",
        "<li>Код уже не выглядит слишком простым (хотя в нем нет создания потоков или процессов)<ul>\n",
        "<li>Нет обработки закрытия сокетов</li>\n",
        "<li>Отсутствует обработка новых входящих соединений</li>\n",
        "</ul>\n",
        "</li>\n",
        "<li>Если код будет решать настоящие задачи, то увеличится кол-во операторов if или callback-ов</li>\n",
        "<li>Не тратим память на создание процессов</li>\n",
        "<li>Нет накладных расходов на создание потоков и их синхронизацию</li>\n",
        "<li>Нет проблем с GIL</li>\n",
        "</ul>\n"
      ]
    },
    {
      "cell_type": "markdown",
      "metadata": {
        "id": "NlVbbzzQKRR9"
      },
      "source": [
        "\n",
        "<h3 id=\"Фреймворки\">Фреймворки<a class=\"anchor-link\" href=\"#Фреймворки\"></a></h3><ul>\n",
        "<li>Twisted, callback api<ul>\n",
        "<li><a href=\"https://twistedmatrix.com\">https://twistedmatrix.com</a></li>\n",
        "</ul>\n",
        "</li>\n",
        "<li>Gevent, greenlet, stackless python<ul>\n",
        "<li><a href=\"http://www.gevent.org/\">http://www.gevent.org/</a></li>\n",
        "</ul>\n",
        "</li>\n",
        "<li>Tornado, generators api<ul>\n",
        "<li><a href=\"http://www.tornadoweb.org\">http://www.tornadoweb.org</a></li>\n",
        "</ul>\n",
        "</li>\n",
        "<li>Asyncio, mainstream<ul>\n",
        "<li><a href=\"https://docs.python.org/3/library/asyncio.html\">https://docs.python.org/3/library/asyncio.html</a></li>\n",
        "</ul>\n",
        "</li>\n",
        "</ul>\n"
      ]
    },
    {
      "cell_type": "markdown",
      "metadata": {
        "id": "t5acNuJoKRR9"
      },
      "source": [
        "\n",
        "<h3 id=\"Итераторы-и-генераторы,-в-чем-разница?\">Итераторы и генераторы, в чем разница?<a class=\"anchor-link\" href=\"#Итераторы-и-генераторы,-в-чем-разница?\"></a></h3><ul>\n",
        "<li>Как устроены итераторы и генераторы</li>\n",
        "<li>Сходства и различия</li>\n",
        "</ul>\n"
      ]
    },
    {
      "cell_type": "code",
      "metadata": {
        "id": "YDTKUxXUKRR-"
      },
      "source": [
        "# Итераторы\n",
        "\n",
        "class MyRangeIterator:\n",
        "    def __init__(self, top):\n",
        "        self.top = top\n",
        "        self.current = 0\n",
        "    \n",
        "    def __iter__(self):\n",
        "        return self\n",
        "    \n",
        "    def __next__(self):\n",
        "        if self.current >= self.top:\n",
        "            raise StopIteration\n",
        "        \n",
        "        current = self.current\n",
        "        self.current += 1\n",
        "        return current"
      ],
      "execution_count": 3,
      "outputs": []
    },
    {
      "cell_type": "code",
      "metadata": {
        "colab": {
          "base_uri": "https://localhost:8080/"
        },
        "id": "6pGKxZ2A0E1r",
        "outputId": "bbd6680b-a234-440d-9e44-bd3c0b09756a"
      },
      "source": [
        "counter = MyRangeIterator(3)\n",
        "counter"
      ],
      "execution_count": 4,
      "outputs": [
        {
          "output_type": "execute_result",
          "data": {
            "text/plain": [
              "<__main__.MyRangeIterator at 0x7f417f7cb610>"
            ]
          },
          "metadata": {},
          "execution_count": 4
        }
      ]
    },
    {
      "cell_type": "code",
      "metadata": {
        "colab": {
          "base_uri": "https://localhost:8080/"
        },
        "id": "pfc3OmY20Etb",
        "outputId": "7233a52b-8289-4714-e529-8a84ac058c2d"
      },
      "source": [
        "for it in counter:\n",
        "    print(it)"
      ],
      "execution_count": 5,
      "outputs": [
        {
          "output_type": "stream",
          "name": "stdout",
          "text": [
            "0\n",
            "1\n",
            "2\n"
          ]
        }
      ]
    },
    {
      "cell_type": "code",
      "metadata": {
        "id": "Wm3AqfMiKRR_"
      },
      "source": [
        "# Генераторы\n",
        "\n",
        "def my_range_generator(top):\n",
        "    current = 0\n",
        "    while current < top:\n",
        "        yield current \n",
        "        current += 1"
      ],
      "execution_count": 6,
      "outputs": []
    },
    {
      "cell_type": "code",
      "metadata": {
        "colab": {
          "base_uri": "https://localhost:8080/"
        },
        "id": "OreCUfLq0SqP",
        "outputId": "4842280b-d1b6-41c2-8a8a-688f4b552316"
      },
      "source": [
        "counter = my_range_generator(3)\n",
        "counter"
      ],
      "execution_count": 7,
      "outputs": [
        {
          "output_type": "execute_result",
          "data": {
            "text/plain": [
              "<generator object my_range_generator at 0x7f417fe6f150>"
            ]
          },
          "metadata": {},
          "execution_count": 7
        }
      ]
    },
    {
      "cell_type": "code",
      "metadata": {
        "colab": {
          "base_uri": "https://localhost:8080/"
        },
        "id": "83Otdntp0T2z",
        "outputId": "ba75e372-e5ec-48df-887a-39da369b376c"
      },
      "source": [
        "for it in counter:\n",
        "    print(it)"
      ],
      "execution_count": 8,
      "outputs": [
        {
          "output_type": "stream",
          "name": "stdout",
          "text": [
            "0\n",
            "1\n",
            "2\n"
          ]
        }
      ]
    },
    {
      "cell_type": "markdown",
      "metadata": {
        "id": "tCiY9BpiKRR_"
      },
      "source": [
        "\n",
        "<h3 id=\"Итераторы-и-генераторы,-подводим-итоги\">Итераторы и генераторы, подводим итоги<a class=\"anchor-link\" href=\"#Итераторы-и-генераторы,-подводим-итоги\"></a></h3><ul>\n",
        "<li>Рассмотрели примеры работы итераторов и генераторов</li>\n",
        "<li>Они решают одну и туже задачу - генерация последовательностей</li>\n",
        "<li>Итератор хранит значения для следующей итерации в self</li>\n",
        "<li>Генератор использует локальные переменные</li>\n",
        "<li>В генераторы заложены большие возможности для написания concurrency кода</li>\n",
        "</ul>\n"
      ]
    },
    {
      "cell_type": "markdown",
      "metadata": {
        "id": "guJLtbBvKRSA"
      },
      "source": [
        "\n",
        "<h3 id=\"Генераторы-и-сопрограммы\">Генераторы и сопрограммы<a class=\"anchor-link\" href=\"#Генераторы-и-сопрограммы\"></a></h3><ul>\n",
        "<li>Как устроены сопрограммы?</li>\n",
        "<li>Отличие между генераторами и сопрограммами</li>\n",
        "<li>Как работает yield from?</li>\n",
        "<li>Примеры работы сопрограмм</li>\n",
        "</ul>\n"
      ]
    },
    {
      "cell_type": "code",
      "metadata": {
        "id": "ktZIOv0VKRSA"
      },
      "source": [
        "# Сопрограммы (корутины)\n",
        "\n",
        "def grep(pattern):\n",
        "    print(\"start grep\")\n",
        "    while True:\n",
        "        line = yield\n",
        "        if pattern in line:\n",
        "            print(line)"
      ],
      "execution_count": 9,
      "outputs": []
    },
    {
      "cell_type": "code",
      "metadata": {
        "colab": {
          "base_uri": "https://localhost:8080/"
        },
        "id": "yKEpDyep0ggM",
        "outputId": "10c0cfee-5ec7-42bb-e54c-21a48462a77e"
      },
      "source": [
        "g = grep(\"python\")\n",
        "next(g) # g.send(None)"
      ],
      "execution_count": 10,
      "outputs": [
        {
          "output_type": "stream",
          "name": "stdout",
          "text": [
            "start grep\n"
          ]
        }
      ]
    },
    {
      "cell_type": "code",
      "metadata": {
        "colab": {
          "base_uri": "https://localhost:8080/"
        },
        "id": "gFhPhev90iFD",
        "outputId": "39f7627b-8d74-4fad-a912-d8caa074a459"
      },
      "source": [
        "g.send(\"golang is better?\")\n",
        "g.send(\"python is simple!\")"
      ],
      "execution_count": 11,
      "outputs": [
        {
          "output_type": "stream",
          "name": "stdout",
          "text": [
            "python is simple!\n"
          ]
        }
      ]
    },
    {
      "cell_type": "code",
      "metadata": {
        "id": "2-E1sopmKRSA"
      },
      "source": [
        "# Сопрограммы, вызов метода close()\n",
        "\n",
        "def grep(pattern):\n",
        "    print(\"start grep\")\n",
        "    try:\n",
        "        while True:\n",
        "            line = yield\n",
        "            if pattern in line:\n",
        "                print(line)\n",
        "    except GeneratorExit:\n",
        "        print(\"stop grep\")"
      ],
      "execution_count": 12,
      "outputs": []
    },
    {
      "cell_type": "code",
      "metadata": {
        "colab": {
          "base_uri": "https://localhost:8080/"
        },
        "id": "uQ8509XT1FcW",
        "outputId": "a26788ca-5c76-48f2-98e2-0c4ca76940df"
      },
      "source": [
        "g = grep(\"python\")\n",
        "next(g)  # g.send(None)"
      ],
      "execution_count": 13,
      "outputs": [
        {
          "output_type": "stream",
          "name": "stdout",
          "text": [
            "start grep\n"
          ]
        }
      ]
    },
    {
      "cell_type": "code",
      "metadata": {
        "colab": {
          "base_uri": "https://localhost:8080/"
        },
        "id": "wmhagJDD1G__",
        "outputId": "3a76bb5e-c86f-4c56-c50b-003b6e6dc51c"
      },
      "source": [
        "g.send(\"python is the best!\")"
      ],
      "execution_count": 14,
      "outputs": [
        {
          "output_type": "stream",
          "name": "stdout",
          "text": [
            "python is the best!\n"
          ]
        }
      ]
    },
    {
      "cell_type": "code",
      "metadata": {
        "colab": {
          "base_uri": "https://localhost:8080/"
        },
        "id": "J1ljVQG11IGh",
        "outputId": "2cef66c5-1f24-4a06-afeb-399e75a46338"
      },
      "source": [
        "g.close()"
      ],
      "execution_count": 15,
      "outputs": [
        {
          "output_type": "stream",
          "name": "stdout",
          "text": [
            "stop grep\n"
          ]
        }
      ]
    },
    {
      "cell_type": "code",
      "metadata": {
        "id": "xWCHo7OGKRSA"
      },
      "source": [
        "# Сопрограммы, генерация исключений\n",
        "\n",
        "def grep(pattern):\n",
        "    print(\"start grep\")\n",
        "    try:\n",
        "        while True:\n",
        "            line = yield\n",
        "            if pattern in line:\n",
        "                print(line)\n",
        "    except GeneratorExit:\n",
        "        print(\"stop grep\")"
      ],
      "execution_count": 16,
      "outputs": []
    },
    {
      "cell_type": "code",
      "metadata": {
        "colab": {
          "base_uri": "https://localhost:8080/",
          "height": 346
        },
        "id": "vXX6P6301Q7J",
        "outputId": "8a3c6e0e-1470-4880-d45f-304ed196f365"
      },
      "source": [
        "g = grep(\"python\")\n",
        "next(g) # g.send(None)\n",
        "g.send(\"python is the best!\")\n",
        "g.throw(RuntimeError, \"something wrong\")"
      ],
      "execution_count": 17,
      "outputs": [
        {
          "output_type": "stream",
          "name": "stdout",
          "text": [
            "start grep\n",
            "python is the best!\n"
          ]
        },
        {
          "output_type": "error",
          "ename": "RuntimeError",
          "evalue": "ignored",
          "traceback": [
            "\u001b[0;31m---------------------------------------------------------------------------\u001b[0m",
            "\u001b[0;31mRuntimeError\u001b[0m                              Traceback (most recent call last)",
            "\u001b[0;32m<ipython-input-17-3a0704431b0b>\u001b[0m in \u001b[0;36m<module>\u001b[0;34m()\u001b[0m\n\u001b[1;32m      2\u001b[0m \u001b[0mnext\u001b[0m\u001b[0;34m(\u001b[0m\u001b[0mg\u001b[0m\u001b[0;34m)\u001b[0m \u001b[0;31m# g.send(None)\u001b[0m\u001b[0;34m\u001b[0m\u001b[0;34m\u001b[0m\u001b[0m\n\u001b[1;32m      3\u001b[0m \u001b[0mg\u001b[0m\u001b[0;34m.\u001b[0m\u001b[0msend\u001b[0m\u001b[0;34m(\u001b[0m\u001b[0;34m\"python is the best!\"\u001b[0m\u001b[0;34m)\u001b[0m\u001b[0;34m\u001b[0m\u001b[0;34m\u001b[0m\u001b[0m\n\u001b[0;32m----> 4\u001b[0;31m \u001b[0mg\u001b[0m\u001b[0;34m.\u001b[0m\u001b[0mthrow\u001b[0m\u001b[0;34m(\u001b[0m\u001b[0mRuntimeError\u001b[0m\u001b[0;34m,\u001b[0m \u001b[0;34m\"something wrong\"\u001b[0m\u001b[0;34m)\u001b[0m\u001b[0;34m\u001b[0m\u001b[0;34m\u001b[0m\u001b[0m\n\u001b[0m",
            "\u001b[0;32m<ipython-input-16-5cd3d16d8def>\u001b[0m in \u001b[0;36mgrep\u001b[0;34m(pattern)\u001b[0m\n\u001b[1;32m      5\u001b[0m     \u001b[0;32mtry\u001b[0m\u001b[0;34m:\u001b[0m\u001b[0;34m\u001b[0m\u001b[0;34m\u001b[0m\u001b[0m\n\u001b[1;32m      6\u001b[0m         \u001b[0;32mwhile\u001b[0m \u001b[0;32mTrue\u001b[0m\u001b[0;34m:\u001b[0m\u001b[0;34m\u001b[0m\u001b[0;34m\u001b[0m\u001b[0m\n\u001b[0;32m----> 7\u001b[0;31m             \u001b[0mline\u001b[0m \u001b[0;34m=\u001b[0m \u001b[0;32myield\u001b[0m\u001b[0;34m\u001b[0m\u001b[0;34m\u001b[0m\u001b[0m\n\u001b[0m\u001b[1;32m      8\u001b[0m             \u001b[0;32mif\u001b[0m \u001b[0mpattern\u001b[0m \u001b[0;32min\u001b[0m \u001b[0mline\u001b[0m\u001b[0;34m:\u001b[0m\u001b[0;34m\u001b[0m\u001b[0;34m\u001b[0m\u001b[0m\n\u001b[1;32m      9\u001b[0m                 \u001b[0mprint\u001b[0m\u001b[0;34m(\u001b[0m\u001b[0mline\u001b[0m\u001b[0;34m)\u001b[0m\u001b[0;34m\u001b[0m\u001b[0;34m\u001b[0m\u001b[0m\n",
            "\u001b[0;31mRuntimeError\u001b[0m: something wrong"
          ]
        }
      ]
    },
    {
      "cell_type": "code",
      "metadata": {
        "id": "PIDGdCuAKRSB"
      },
      "source": [
        "# Вызовы сопрограмм, PEP 380\n",
        "\n",
        "def grep(pattern):\n",
        "    print(\"start grep\")\n",
        "    while True:\n",
        "        line = yield\n",
        "        if pattern in line:\n",
        "            print(line)\n",
        "\n",
        "def grep_python_coroutine():\n",
        "    g = grep(\"python\")\n",
        "    next(g)\n",
        "    g.send(\"python is the best!\")\n",
        "    g.close()"
      ],
      "execution_count": 18,
      "outputs": []
    },
    {
      "cell_type": "code",
      "metadata": {
        "colab": {
          "base_uri": "https://localhost:8080/"
        },
        "id": "TvI_J1M51a4A",
        "outputId": "f6aad7fa-678b-4e72-e1e9-0b9a9ec68f66"
      },
      "source": [
        "g = grep_python_coroutine()  # is g coroutine?"
      ],
      "execution_count": 19,
      "outputs": [
        {
          "output_type": "stream",
          "name": "stdout",
          "text": [
            "start grep\n",
            "python is the best!\n"
          ]
        }
      ]
    },
    {
      "cell_type": "code",
      "metadata": {
        "id": "EruUmYhv1cWJ"
      },
      "source": [
        "g"
      ],
      "execution_count": 20,
      "outputs": []
    },
    {
      "cell_type": "code",
      "metadata": {
        "id": "dT8uIj2GKRSB"
      },
      "source": [
        "# Сопрограммы, yield from PEP 0380\n",
        "\n",
        "def grep(pattern):\n",
        "    print(\"start grep\")\n",
        "    while True:\n",
        "        line = yield\n",
        "        if pattern in line:\n",
        "            print(line)\n",
        "\n",
        "def grep_python_coroutine():\n",
        "    g = grep(\"python\")\n",
        "    yield from g"
      ],
      "execution_count": 21,
      "outputs": []
    },
    {
      "cell_type": "code",
      "metadata": {
        "colab": {
          "base_uri": "https://localhost:8080/"
        },
        "id": "oBd2cN0v1kp8",
        "outputId": "89130108-03fe-449c-8e99-a6bba4d7ef8a"
      },
      "source": [
        "g = grep_python_coroutine()  # is g coroutine?\n",
        "g"
      ],
      "execution_count": 22,
      "outputs": [
        {
          "output_type": "execute_result",
          "data": {
            "text/plain": [
              "<generator object grep_python_coroutine at 0x7f41830d6f50>"
            ]
          },
          "metadata": {},
          "execution_count": 22
        }
      ]
    },
    {
      "cell_type": "code",
      "metadata": {
        "colab": {
          "base_uri": "https://localhost:8080/"
        },
        "id": "TvnXuF6Q1khl",
        "outputId": "9316a318-d8f9-41bc-d906-831f09082c59"
      },
      "source": [
        " g.send(None)"
      ],
      "execution_count": 23,
      "outputs": [
        {
          "output_type": "stream",
          "name": "stdout",
          "text": [
            "start grep\n"
          ]
        }
      ]
    },
    {
      "cell_type": "code",
      "metadata": {
        "id": "ZGdsMhWg1vrP"
      },
      "source": [
        "g.send(\"python wow!\")"
      ],
      "execution_count": null,
      "outputs": []
    },
    {
      "cell_type": "code",
      "metadata": {
        "colab": {
          "base_uri": "https://localhost:8080/"
        },
        "id": "lYwyI3t9KRSC",
        "outputId": "9ab82e44-f874-413f-ba84-bb8c52145a1a"
      },
      "source": [
        "# PEP 380, генераторы\n",
        "\n",
        "def chain(x_iterable, y_iterable):\n",
        "    yield from x_iterable\n",
        "    yield from y_iterable\n",
        "\n",
        "def the_same_chain(x_iterable, y_iterable):\n",
        "    for x in x_iterable:\n",
        "        yield x\n",
        "    \n",
        "    for y in y_iterable:\n",
        "        yield y\n",
        "    \n",
        "a = [1, 2, 3]\n",
        "b = (4, 5)\n",
        "for x in chain(a, b):\n",
        "    print(x)"
      ],
      "execution_count": 24,
      "outputs": [
        {
          "output_type": "stream",
          "name": "stdout",
          "text": [
            "1\n",
            "2\n",
            "3\n",
            "4\n",
            "5\n"
          ]
        }
      ]
    },
    {
      "cell_type": "markdown",
      "metadata": {
        "id": "q4tWr2nfKRSC"
      },
      "source": [
        "\n",
        "<h3 id=\"Генераторы-и-сопрограммы,-подводим-итоги\">Генераторы и сопрограммы, подводим итоги<a class=\"anchor-link\" href=\"#Генераторы-и-сопрограммы,-подводим-итоги\"></a></h3><ul>\n",
        "<li>Как устроены генераторы и сопрограммы</li>\n",
        "<li>Несмотря на некоторую схожесть, у генератора и корутины два важных отличия:<ul>\n",
        "<li>Генераторы \"производят\" значения (yield item)</li>\n",
        "<li>Корутины \"потребляют\" значения (item = yield)</li>\n",
        "</ul>\n",
        "</li>\n",
        "<li>Корутина может иметь два состояния: suspended и resumed</li>\n",
        "<li>yield приостанавливает корутину</li>\n",
        "<li>send() возобновляет работу корутины</li>\n",
        "<li>close() завершает выполнение</li>\n",
        "<li>yield from используется для делегирования вызова генератора</li>\n",
        "</ul>\n"
      ]
    },
    {
      "cell_type": "markdown",
      "metadata": {
        "id": "Xy-FioQoKRSC"
      },
      "source": [
        "\n",
        "<h3 id=\"Первые-шаги-с-asyncio\">Первые шаги с asyncio<a class=\"anchor-link\" href=\"#Первые-шаги-с-asyncio\"></a></h3><ul>\n",
        "<li>Введение в asyncio</li>\n",
        "<li>Примеры выполнения asyncio кода</li>\n",
        "</ul>\n"
      ]
    },
    {
      "cell_type": "markdown",
      "metadata": {
        "id": "vK2q_mgrKRSD"
      },
      "source": [
        "\n",
        "<h3 id=\"Первые-шаги-с-asyncio\">Первые шаги с asyncio<a class=\"anchor-link\" href=\"#Первые-шаги-с-asyncio\"></a></h3><p>Фреймворк asyncio - это:</p>\n",
        "<ul>\n",
        "<li>часть Python3</li>\n",
        "<li>неблокирующий ввод/вывод</li>\n",
        "<li>сервисы с тысячами соединений одновременно</li>\n",
        "<li>в основе лежат генераторы и корутины</li>\n",
        "<li>линейный код, отсутствие callbacks!</li>\n",
        "</ul>\n"
      ]
    },
    {
      "cell_type": "code",
      "metadata": {
        "colab": {
          "base_uri": "https://localhost:8080/",
          "height": 555
        },
        "id": "JcBifkDzKRSD",
        "outputId": "36fbbcd9-ac13-4c76-82ce-db94fb99489b"
      },
      "source": [
        "# asyncio, Hello World\n",
        "\n",
        "import asyncio\n",
        "\n",
        "@asyncio.coroutine\n",
        "def hello_world():\n",
        "    while True:\n",
        "        print(\"Hello World!\")\n",
        "        yield from asyncio.sleep(1.0)\n",
        "\n",
        "loop = asyncio.get_event_loop()\n",
        "loop.run_until_complete(hello_world())\n",
        "loop.close()"
      ],
      "execution_count": 25,
      "outputs": [
        {
          "output_type": "stream",
          "name": "stdout",
          "text": [
            "Hello World!\n",
            "Hello World!\n",
            "Hello World!\n",
            "Hello World!\n",
            "Hello World!\n",
            "Hello World!\n",
            "Hello World!\n",
            "Hello World!\n",
            "Hello World!\n",
            "Hello World!\n",
            "Hello World!\n"
          ]
        },
        {
          "output_type": "error",
          "ename": "KeyboardInterrupt",
          "evalue": "ignored",
          "traceback": [
            "\u001b[0;31m---------------------------------------------------------------------------\u001b[0m",
            "\u001b[0;31mKeyboardInterrupt\u001b[0m                         Traceback (most recent call last)",
            "\u001b[0;32m<ipython-input-25-0e8a343187b8>\u001b[0m in \u001b[0;36m<module>\u001b[0;34m()\u001b[0m\n\u001b[1;32m     10\u001b[0m \u001b[0;34m\u001b[0m\u001b[0m\n\u001b[1;32m     11\u001b[0m \u001b[0mloop\u001b[0m \u001b[0;34m=\u001b[0m \u001b[0masyncio\u001b[0m\u001b[0;34m.\u001b[0m\u001b[0mget_event_loop\u001b[0m\u001b[0;34m(\u001b[0m\u001b[0;34m)\u001b[0m\u001b[0;34m\u001b[0m\u001b[0;34m\u001b[0m\u001b[0m\n\u001b[0;32m---> 12\u001b[0;31m \u001b[0mloop\u001b[0m\u001b[0;34m.\u001b[0m\u001b[0mrun_until_complete\u001b[0m\u001b[0;34m(\u001b[0m\u001b[0mhello_world\u001b[0m\u001b[0;34m(\u001b[0m\u001b[0;34m)\u001b[0m\u001b[0;34m)\u001b[0m\u001b[0;34m\u001b[0m\u001b[0;34m\u001b[0m\u001b[0m\n\u001b[0m\u001b[1;32m     13\u001b[0m \u001b[0mloop\u001b[0m\u001b[0;34m.\u001b[0m\u001b[0mclose\u001b[0m\u001b[0;34m(\u001b[0m\u001b[0;34m)\u001b[0m\u001b[0;34m\u001b[0m\u001b[0;34m\u001b[0m\u001b[0m\n",
            "\u001b[0;32m/usr/local/lib/python3.7/dist-packages/nest_asyncio.py\u001b[0m in \u001b[0;36mrun_until_complete\u001b[0;34m(self, future)\u001b[0m\n\u001b[1;32m     62\u001b[0m                 \u001b[0mf\u001b[0m\u001b[0;34m.\u001b[0m\u001b[0m_log_destroy_pending\u001b[0m \u001b[0;34m=\u001b[0m \u001b[0;32mFalse\u001b[0m\u001b[0;34m\u001b[0m\u001b[0;34m\u001b[0m\u001b[0m\n\u001b[1;32m     63\u001b[0m             \u001b[0;32mwhile\u001b[0m \u001b[0;32mnot\u001b[0m \u001b[0mf\u001b[0m\u001b[0;34m.\u001b[0m\u001b[0mdone\u001b[0m\u001b[0;34m(\u001b[0m\u001b[0;34m)\u001b[0m\u001b[0;34m:\u001b[0m\u001b[0;34m\u001b[0m\u001b[0;34m\u001b[0m\u001b[0m\n\u001b[0;32m---> 64\u001b[0;31m                 \u001b[0mself\u001b[0m\u001b[0;34m.\u001b[0m\u001b[0m_run_once\u001b[0m\u001b[0;34m(\u001b[0m\u001b[0;34m)\u001b[0m\u001b[0;34m\u001b[0m\u001b[0;34m\u001b[0m\u001b[0m\n\u001b[0m\u001b[1;32m     65\u001b[0m                 \u001b[0;32mif\u001b[0m \u001b[0mself\u001b[0m\u001b[0;34m.\u001b[0m\u001b[0m_stopping\u001b[0m\u001b[0;34m:\u001b[0m\u001b[0;34m\u001b[0m\u001b[0;34m\u001b[0m\u001b[0m\n\u001b[1;32m     66\u001b[0m                     \u001b[0;32mbreak\u001b[0m\u001b[0;34m\u001b[0m\u001b[0;34m\u001b[0m\u001b[0m\n",
            "\u001b[0;32m/usr/local/lib/python3.7/dist-packages/nest_asyncio.py\u001b[0m in \u001b[0;36m_run_once\u001b[0;34m(self)\u001b[0m\n\u001b[1;32m     85\u001b[0m             \u001b[0;32melse\u001b[0m \u001b[0mmin\u001b[0m\u001b[0;34m(\u001b[0m\u001b[0mmax\u001b[0m\u001b[0;34m(\u001b[0m\u001b[0mscheduled\u001b[0m\u001b[0;34m[\u001b[0m\u001b[0;36m0\u001b[0m\u001b[0;34m]\u001b[0m\u001b[0;34m.\u001b[0m\u001b[0m_when\u001b[0m \u001b[0;34m-\u001b[0m \u001b[0mnow\u001b[0m\u001b[0;34m,\u001b[0m \u001b[0;36m0\u001b[0m\u001b[0;34m)\u001b[0m\u001b[0;34m,\u001b[0m \u001b[0;36m86400\u001b[0m\u001b[0;34m)\u001b[0m \u001b[0;32mif\u001b[0m \u001b[0mscheduled\u001b[0m\u001b[0;34m\u001b[0m\u001b[0;34m\u001b[0m\u001b[0m\n\u001b[1;32m     86\u001b[0m             else None)\n\u001b[0;32m---> 87\u001b[0;31m         \u001b[0mevent_list\u001b[0m \u001b[0;34m=\u001b[0m \u001b[0mself\u001b[0m\u001b[0;34m.\u001b[0m\u001b[0m_selector\u001b[0m\u001b[0;34m.\u001b[0m\u001b[0mselect\u001b[0m\u001b[0;34m(\u001b[0m\u001b[0mtimeout\u001b[0m\u001b[0;34m)\u001b[0m\u001b[0;34m\u001b[0m\u001b[0;34m\u001b[0m\u001b[0m\n\u001b[0m\u001b[1;32m     88\u001b[0m         \u001b[0mself\u001b[0m\u001b[0;34m.\u001b[0m\u001b[0m_process_events\u001b[0m\u001b[0;34m(\u001b[0m\u001b[0mevent_list\u001b[0m\u001b[0;34m)\u001b[0m\u001b[0;34m\u001b[0m\u001b[0;34m\u001b[0m\u001b[0m\n\u001b[1;32m     89\u001b[0m \u001b[0;34m\u001b[0m\u001b[0m\n",
            "\u001b[0;32m/usr/lib/python3.7/selectors.py\u001b[0m in \u001b[0;36mselect\u001b[0;34m(self, timeout)\u001b[0m\n\u001b[1;32m    466\u001b[0m             \u001b[0mready\u001b[0m \u001b[0;34m=\u001b[0m \u001b[0;34m[\u001b[0m\u001b[0;34m]\u001b[0m\u001b[0;34m\u001b[0m\u001b[0;34m\u001b[0m\u001b[0m\n\u001b[1;32m    467\u001b[0m             \u001b[0;32mtry\u001b[0m\u001b[0;34m:\u001b[0m\u001b[0;34m\u001b[0m\u001b[0;34m\u001b[0m\u001b[0m\n\u001b[0;32m--> 468\u001b[0;31m                 \u001b[0mfd_event_list\u001b[0m \u001b[0;34m=\u001b[0m \u001b[0mself\u001b[0m\u001b[0;34m.\u001b[0m\u001b[0m_selector\u001b[0m\u001b[0;34m.\u001b[0m\u001b[0mpoll\u001b[0m\u001b[0;34m(\u001b[0m\u001b[0mtimeout\u001b[0m\u001b[0;34m,\u001b[0m \u001b[0mmax_ev\u001b[0m\u001b[0;34m)\u001b[0m\u001b[0;34m\u001b[0m\u001b[0;34m\u001b[0m\u001b[0m\n\u001b[0m\u001b[1;32m    469\u001b[0m             \u001b[0;32mexcept\u001b[0m \u001b[0mInterruptedError\u001b[0m\u001b[0;34m:\u001b[0m\u001b[0;34m\u001b[0m\u001b[0;34m\u001b[0m\u001b[0m\n\u001b[1;32m    470\u001b[0m                 \u001b[0;32mreturn\u001b[0m \u001b[0mready\u001b[0m\u001b[0;34m\u001b[0m\u001b[0;34m\u001b[0m\u001b[0m\n",
            "\u001b[0;31mKeyboardInterrupt\u001b[0m: "
          ]
        },
        {
          "output_type": "stream",
          "name": "stdout",
          "text": [
            "Hello World!\n"
          ]
        }
      ]
    },
    {
      "cell_type": "code",
      "metadata": {
        "id": "pmVDK6lVKRSE"
      },
      "source": [
        "# asyncio, async def / await; PEP 492 Python3.5\n",
        "\n",
        "import asyncio\n",
        "\n",
        "async def hello_world():\n",
        "    while True:\n",
        "        print(\"Hello World!\")\n",
        "        await asyncio.sleep(1.0)"
      ],
      "execution_count": 26,
      "outputs": []
    },
    {
      "cell_type": "code",
      "metadata": {
        "colab": {
          "base_uri": "https://localhost:8080/",
          "height": 589
        },
        "id": "qxf9IB2F5GOW",
        "outputId": "91519f52-09bb-4e5b-b10d-8ec76970bb6e"
      },
      "source": [
        "loop = asyncio.get_event_loop()\n",
        "loop.run_until_complete(hello_world())\n",
        "loop.close()"
      ],
      "execution_count": 27,
      "outputs": [
        {
          "output_type": "stream",
          "name": "stdout",
          "text": [
            "Hello World!\n",
            "Hello World!\n",
            "Hello World!\n",
            "Hello World!\n",
            "Hello World!\n",
            "Hello World!\n",
            "Hello World!\n",
            "Hello World!\n",
            "Hello World!\n",
            "Hello World!\n",
            "Hello World!\n",
            "Hello World!\n",
            "Hello World!\n",
            "Hello World!\n"
          ]
        },
        {
          "output_type": "error",
          "ename": "KeyboardInterrupt",
          "evalue": "ignored",
          "traceback": [
            "\u001b[0;31m---------------------------------------------------------------------------\u001b[0m",
            "\u001b[0;31mKeyboardInterrupt\u001b[0m                         Traceback (most recent call last)",
            "\u001b[0;32m<ipython-input-27-c841967ba1d4>\u001b[0m in \u001b[0;36m<module>\u001b[0;34m()\u001b[0m\n\u001b[1;32m      1\u001b[0m \u001b[0mloop\u001b[0m \u001b[0;34m=\u001b[0m \u001b[0masyncio\u001b[0m\u001b[0;34m.\u001b[0m\u001b[0mget_event_loop\u001b[0m\u001b[0;34m(\u001b[0m\u001b[0;34m)\u001b[0m\u001b[0;34m\u001b[0m\u001b[0;34m\u001b[0m\u001b[0m\n\u001b[0;32m----> 2\u001b[0;31m \u001b[0mloop\u001b[0m\u001b[0;34m.\u001b[0m\u001b[0mrun_until_complete\u001b[0m\u001b[0;34m(\u001b[0m\u001b[0mhello_world\u001b[0m\u001b[0;34m(\u001b[0m\u001b[0;34m)\u001b[0m\u001b[0;34m)\u001b[0m\u001b[0;34m\u001b[0m\u001b[0;34m\u001b[0m\u001b[0m\n\u001b[0m\u001b[1;32m      3\u001b[0m \u001b[0mloop\u001b[0m\u001b[0;34m.\u001b[0m\u001b[0mclose\u001b[0m\u001b[0;34m(\u001b[0m\u001b[0;34m)\u001b[0m\u001b[0;34m\u001b[0m\u001b[0;34m\u001b[0m\u001b[0m\n",
            "\u001b[0;32m/usr/local/lib/python3.7/dist-packages/nest_asyncio.py\u001b[0m in \u001b[0;36mrun_until_complete\u001b[0;34m(self, future)\u001b[0m\n\u001b[1;32m     62\u001b[0m                 \u001b[0mf\u001b[0m\u001b[0;34m.\u001b[0m\u001b[0m_log_destroy_pending\u001b[0m \u001b[0;34m=\u001b[0m \u001b[0;32mFalse\u001b[0m\u001b[0;34m\u001b[0m\u001b[0;34m\u001b[0m\u001b[0m\n\u001b[1;32m     63\u001b[0m             \u001b[0;32mwhile\u001b[0m \u001b[0;32mnot\u001b[0m \u001b[0mf\u001b[0m\u001b[0;34m.\u001b[0m\u001b[0mdone\u001b[0m\u001b[0;34m(\u001b[0m\u001b[0;34m)\u001b[0m\u001b[0;34m:\u001b[0m\u001b[0;34m\u001b[0m\u001b[0;34m\u001b[0m\u001b[0m\n\u001b[0;32m---> 64\u001b[0;31m                 \u001b[0mself\u001b[0m\u001b[0;34m.\u001b[0m\u001b[0m_run_once\u001b[0m\u001b[0;34m(\u001b[0m\u001b[0;34m)\u001b[0m\u001b[0;34m\u001b[0m\u001b[0;34m\u001b[0m\u001b[0m\n\u001b[0m\u001b[1;32m     65\u001b[0m                 \u001b[0;32mif\u001b[0m \u001b[0mself\u001b[0m\u001b[0;34m.\u001b[0m\u001b[0m_stopping\u001b[0m\u001b[0;34m:\u001b[0m\u001b[0;34m\u001b[0m\u001b[0;34m\u001b[0m\u001b[0m\n\u001b[1;32m     66\u001b[0m                     \u001b[0;32mbreak\u001b[0m\u001b[0;34m\u001b[0m\u001b[0;34m\u001b[0m\u001b[0m\n",
            "\u001b[0;32m/usr/local/lib/python3.7/dist-packages/nest_asyncio.py\u001b[0m in \u001b[0;36m_run_once\u001b[0;34m(self)\u001b[0m\n\u001b[1;32m     85\u001b[0m             \u001b[0;32melse\u001b[0m \u001b[0mmin\u001b[0m\u001b[0;34m(\u001b[0m\u001b[0mmax\u001b[0m\u001b[0;34m(\u001b[0m\u001b[0mscheduled\u001b[0m\u001b[0;34m[\u001b[0m\u001b[0;36m0\u001b[0m\u001b[0;34m]\u001b[0m\u001b[0;34m.\u001b[0m\u001b[0m_when\u001b[0m \u001b[0;34m-\u001b[0m \u001b[0mnow\u001b[0m\u001b[0;34m,\u001b[0m \u001b[0;36m0\u001b[0m\u001b[0;34m)\u001b[0m\u001b[0;34m,\u001b[0m \u001b[0;36m86400\u001b[0m\u001b[0;34m)\u001b[0m \u001b[0;32mif\u001b[0m \u001b[0mscheduled\u001b[0m\u001b[0;34m\u001b[0m\u001b[0;34m\u001b[0m\u001b[0m\n\u001b[1;32m     86\u001b[0m             else None)\n\u001b[0;32m---> 87\u001b[0;31m         \u001b[0mevent_list\u001b[0m \u001b[0;34m=\u001b[0m \u001b[0mself\u001b[0m\u001b[0;34m.\u001b[0m\u001b[0m_selector\u001b[0m\u001b[0;34m.\u001b[0m\u001b[0mselect\u001b[0m\u001b[0;34m(\u001b[0m\u001b[0mtimeout\u001b[0m\u001b[0;34m)\u001b[0m\u001b[0;34m\u001b[0m\u001b[0;34m\u001b[0m\u001b[0m\n\u001b[0m\u001b[1;32m     88\u001b[0m         \u001b[0mself\u001b[0m\u001b[0;34m.\u001b[0m\u001b[0m_process_events\u001b[0m\u001b[0;34m(\u001b[0m\u001b[0mevent_list\u001b[0m\u001b[0;34m)\u001b[0m\u001b[0;34m\u001b[0m\u001b[0;34m\u001b[0m\u001b[0m\n\u001b[1;32m     89\u001b[0m \u001b[0;34m\u001b[0m\u001b[0m\n",
            "\u001b[0;32m/usr/lib/python3.7/selectors.py\u001b[0m in \u001b[0;36mselect\u001b[0;34m(self, timeout)\u001b[0m\n\u001b[1;32m    466\u001b[0m             \u001b[0mready\u001b[0m \u001b[0;34m=\u001b[0m \u001b[0;34m[\u001b[0m\u001b[0;34m]\u001b[0m\u001b[0;34m\u001b[0m\u001b[0;34m\u001b[0m\u001b[0m\n\u001b[1;32m    467\u001b[0m             \u001b[0;32mtry\u001b[0m\u001b[0;34m:\u001b[0m\u001b[0;34m\u001b[0m\u001b[0;34m\u001b[0m\u001b[0m\n\u001b[0;32m--> 468\u001b[0;31m                 \u001b[0mfd_event_list\u001b[0m \u001b[0;34m=\u001b[0m \u001b[0mself\u001b[0m\u001b[0;34m.\u001b[0m\u001b[0m_selector\u001b[0m\u001b[0;34m.\u001b[0m\u001b[0mpoll\u001b[0m\u001b[0;34m(\u001b[0m\u001b[0mtimeout\u001b[0m\u001b[0;34m,\u001b[0m \u001b[0mmax_ev\u001b[0m\u001b[0;34m)\u001b[0m\u001b[0;34m\u001b[0m\u001b[0;34m\u001b[0m\u001b[0m\n\u001b[0m\u001b[1;32m    469\u001b[0m             \u001b[0;32mexcept\u001b[0m \u001b[0mInterruptedError\u001b[0m\u001b[0;34m:\u001b[0m\u001b[0;34m\u001b[0m\u001b[0;34m\u001b[0m\u001b[0m\n\u001b[1;32m    470\u001b[0m                 \u001b[0;32mreturn\u001b[0m \u001b[0mready\u001b[0m\u001b[0;34m\u001b[0m\u001b[0;34m\u001b[0m\u001b[0m\n",
            "\u001b[0;31mKeyboardInterrupt\u001b[0m: "
          ]
        },
        {
          "output_type": "stream",
          "name": "stdout",
          "text": [
            "Hello World!\n"
          ]
        }
      ]
    },
    {
      "cell_type": "code",
      "metadata": {
        "id": "_hjpvznn5S1J"
      },
      "source": [
        "# asyncio, tcp сервер\n",
        "\n",
        "import asyncio\n",
        "\n",
        "async def handle_echo(reader, writer):\n",
        "    data = await reader.read(1024)\n",
        "    message = data.decode()\n",
        "    addr = writer.get_extra_info(\"peername\")\n",
        "    print(\"received %r from %r\" % (message, addr))\n",
        "    writer.close()\n",
        "    \n",
        "loop = asyncio.get_event_loop()\n",
        "coro = asyncio.start_server(handle_echo, \"127.0.0.1\", 10001, loop=loop)\n",
        "server = loop.run_until_complete(coro)\n",
        "try:\n",
        "    loop.run_forever()\n",
        "except KeyboardInterrupt:\n",
        "    pass\n",
        "\n",
        "server.close()\n",
        "loop.run_until_complete(server.wait_closed())\n",
        "loop.close()"
      ],
      "execution_count": null,
      "outputs": []
    },
    {
      "cell_type": "code",
      "metadata": {
        "id": "2O96FQ315QG8"
      },
      "source": [
        "# asyncio, tcp клиент\n",
        "\n",
        "import asyncio\n",
        "\n",
        "async def tcp_echo_client(message, loop):\n",
        "    reader, writer = await asyncio.open_connection(\"127.0.0.1\", 10001, loop=loop)\n",
        "\n",
        "    print(\"send: %r\" % message)\n",
        "    writer.write(message.encode())\n",
        "    writer.close()\n",
        "\n",
        "loop = asyncio.get_event_loop()\n",
        "message = \"hello World!\"\n",
        "loop.run_until_complete(tcp_echo_client(message, loop))\n",
        "loop.close()"
      ],
      "execution_count": null,
      "outputs": []
    },
    {
      "cell_type": "markdown",
      "metadata": {
        "id": "HrEbnaIvKRSE"
      },
      "source": [
        "\n",
        "<h3 id=\"Выполнение-кода-в-asyncio\">Выполнение кода в asyncio<a class=\"anchor-link\" href=\"#Выполнение-кода-в-asyncio\"></a></h3><ul>\n",
        "<li>asyncio.Future</li>\n",
        "<li>asyncio.Task</li>\n",
        "<li>loop.run_in_executor</li>\n",
        "<li>библиотеки для работы с asyncio</li>\n",
        "</ul>\n"
      ]
    },
    {
      "cell_type": "code",
      "metadata": {
        "id": "XViRoW1qKRSF"
      },
      "source": [
        "### asyncio.Future, аналог concurrent.futures.Future\n",
        "\n",
        "import asyncio\n",
        "\n",
        "async def slow_operation(future):\n",
        "    await asyncio.sleep(1)\n",
        "    future.set_result(\"Future is done!\")"
      ],
      "execution_count": 4,
      "outputs": []
    },
    {
      "cell_type": "code",
      "metadata": {
        "id": "qjcxEgnB5Zi4",
        "colab": {
          "base_uri": "https://localhost:8080/"
        },
        "outputId": "2ae4f5f0-61a4-4986-88a8-d6bb0eec86e9"
      },
      "source": [
        "loop = asyncio.get_event_loop()\n",
        "future = asyncio.Future()\n",
        "asyncio.ensure_future(slow_operation(future))\n",
        "\n",
        "loop.run_until_complete(future)\n",
        "print(future.result())"
      ],
      "execution_count": 5,
      "outputs": [
        {
          "output_type": "stream",
          "name": "stdout",
          "text": [
            "Future is done!\n"
          ]
        }
      ]
    },
    {
      "cell_type": "code",
      "metadata": {
        "id": "xHBLy75G5Nf_"
      },
      "source": [
        "loop.close()"
      ],
      "execution_count": null,
      "outputs": []
    },
    {
      "cell_type": "code",
      "metadata": {
        "colab": {
          "base_uri": "https://localhost:8080/"
        },
        "id": "bjigwyDTKRSF",
        "outputId": "82b307d0-3c5f-4381-e29d-4735f23e9191"
      },
      "source": [
        "### asyncio.Task, запуск нескольких корутин\n",
        "\n",
        "import asyncio\n",
        "\n",
        "async def sleep_task(num):\n",
        "    for i in range(5):\n",
        "        print(f\"process task: {num} iter: {i}\")\n",
        "        await asyncio.sleep(1)\n",
        "    \n",
        "    return num\n",
        "\n",
        "# ensure_future or create_task\n",
        "loop = asyncio.get_event_loop()\n",
        "\n",
        "task_list = [loop.create_task(sleep_task(i)) for i in range(2)]\n",
        "loop.run_until_complete(asyncio.wait(task_list))\n",
        "\n",
        "loop.run_until_complete(loop.create_task(sleep_task(3)))\n",
        "loop.run_until_complete(asyncio.gather(\n",
        "    sleep_task(10),\n",
        "    sleep_task(20),\n",
        "    ))"
      ],
      "execution_count": 7,
      "outputs": [
        {
          "output_type": "stream",
          "name": "stdout",
          "text": [
            "process task: 0 iter: 0\n",
            "process task: 1 iter: 0\n",
            "process task: 0 iter: 1\n",
            "process task: 1 iter: 1\n",
            "process task: 0 iter: 2\n",
            "process task: 1 iter: 2\n",
            "process task: 0 iter: 3\n",
            "process task: 1 iter: 3\n",
            "process task: 0 iter: 4\n",
            "process task: 1 iter: 4\n",
            "process task: 3 iter: 0\n",
            "process task: 3 iter: 1\n",
            "process task: 3 iter: 2\n",
            "process task: 3 iter: 3\n",
            "process task: 3 iter: 4\n",
            "process task: 10 iter: 0\n",
            "process task: 20 iter: 0\n",
            "process task: 10 iter: 1\n",
            "process task: 20 iter: 1\n",
            "process task: 10 iter: 2\n",
            "process task: 20 iter: 2\n",
            "process task: 10 iter: 3\n",
            "process task: 20 iter: 3\n",
            "process task: 10 iter: 4\n",
            "process task: 20 iter: 4\n"
          ]
        },
        {
          "output_type": "execute_result",
          "data": {
            "text/plain": [
              "[10, 20]"
            ]
          },
          "metadata": {},
          "execution_count": 7
        }
      ]
    },
    {
      "cell_type": "code",
      "metadata": {
        "id": "k9J6ZFwBKRSF",
        "colab": {
          "base_uri": "https://localhost:8080/"
        },
        "outputId": "12f2d63f-0220-4064-a49f-1497836a1381"
      },
      "source": [
        "# loop.run_in_executor, запуск в отдельном потоке\n",
        "\n",
        "import asyncio\n",
        "from urllib.request import urlopen\n",
        "\n",
        "# a synchronous function\n",
        "def sync_get_url(url):\n",
        "   return urlopen(url).read()\n",
        "\n",
        "async def load_url(url, loop=None):\n",
        "    future = loop.run_in_executor(None, sync_get_url, url)\n",
        "    response = await future\n",
        "    print(len(response))\n",
        "\n",
        "loop = asyncio.get_event_loop()\n",
        "loop.run_until_complete(load_url(\"https://google.com\", loop=loop))"
      ],
      "execution_count": 8,
      "outputs": [
        {
          "output_type": "stream",
          "name": "stdout",
          "text": [
            "14865\n"
          ]
        }
      ]
    },
    {
      "cell_type": "markdown",
      "metadata": {
        "id": "h-OPd00rKRSG"
      },
      "source": [
        "\n",
        "<h3 id=\"Библиотеки-asyncio\">Библиотеки asyncio<a class=\"anchor-link\" href=\"#Библиотеки-asyncio\"></a></h3><ul>\n",
        "<li><a href=\"https://github.com/aio-libs\">https://github.com/aio-libs</a></li>\n",
        "<li>aiohttp<ul>\n",
        "<li><a href=\"https://github.com/aio-libs/aiohttp\">https://github.com/aio-libs/aiohttp</a></li>\n",
        "</ul>\n",
        "</li>\n",
        "<li>aiomysql<ul>\n",
        "<li><a href=\"https://github.com/aio-libs/aiomysql\">https://github.com/aio-libs/aiomysql</a></li>\n",
        "</ul>\n",
        "</li>\n",
        "<li>aiomcache<ul>\n",
        "<li><a href=\"https://github.com/aio-libs/aiomcache\">https://github.com/aio-libs/aiomcache</a></li>\n",
        "</ul>\n",
        "</li>\n",
        "<li><a href=\"https://docs.python.org/3/library/asyncio.html\">https://docs.python.org/3/library/asyncio.html</a></li>\n",
        "</ul>\n"
      ]
    }
  ]
}