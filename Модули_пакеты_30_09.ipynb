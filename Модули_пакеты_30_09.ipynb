{
  "nbformat": 4,
  "nbformat_minor": 0,
  "metadata": {
    "colab": {
      "name": "Модули_пакеты_30_09.ipynb",
      "provenance": [],
      "collapsed_sections": [],
      "authorship_tag": "ABX9TyO3itWq2WSKG5ZYyXTSLMwi",
      "include_colab_link": true
    },
    "kernelspec": {
      "name": "python3",
      "display_name": "Python 3"
    },
    "language_info": {
      "name": "python"
    }
  },
  "cells": [
    {
      "cell_type": "markdown",
      "metadata": {
        "id": "view-in-github",
        "colab_type": "text"
      },
      "source": [
        "<a href=\"https://colab.research.google.com/github/pythonkvs/seminars/blob/main/%D0%9C%D0%BE%D0%B4%D1%83%D0%BB%D0%B8_%D0%BF%D0%B0%D0%BA%D0%B5%D1%82%D1%8B_30_09.ipynb\" target=\"_parent\"><img src=\"https://colab.research.google.com/assets/colab-badge.svg\" alt=\"Open In Colab\"/></a>"
      ]
    },
    {
      "cell_type": "markdown",
      "metadata": {
        "id": "5mYeT0rzslty"
      },
      "source": [
        "https://compscicenter.ru/courses/python/2015-autumn/classes/1556/"
      ]
    },
    {
      "cell_type": "markdown",
      "metadata": {
        "id": "GFpeqKx2IHHq"
      },
      "source": [
        "# Модули"
      ]
    },
    {
      "cell_type": "markdown",
      "metadata": {
        "id": "DJU8erXgeB2T"
      },
      "source": [
        "* `useful.py`\n",
        "```python\n",
        "\"\"\"I'm a useful module.\"\"\"\n",
        "some_variable = \"foobar\"\n",
        "def boo():\n",
        "    return 42\n",
        "```"
      ]
    },
    {
      "cell_type": "code",
      "metadata": {
        "id": "JvuOvpmge21v"
      },
      "source": [
        "with open('useful.py', 'w') as fout:\n",
        "    fout.write('\\\"\\\"\\\"I\\'m a useful module.\\\"\\\"\\\"' + '\\n')\n",
        "    fout.write('some_variable = \\\"foobar\\\"' + '\\n')\n",
        "    fout.write('def boo():' + '\\n')\n",
        "    fout.write('\\treturn 42' + '\\n')"
      ],
      "execution_count": null,
      "outputs": []
    },
    {
      "cell_type": "markdown",
      "metadata": {
        "id": "OCpbSwaOeGDJ"
      },
      "source": [
        "## Файл == модуль"
      ]
    },
    {
      "cell_type": "markdown",
      "metadata": {
        "id": "fHa1Hi4Kd89X"
      },
      "source": [
        "* Модулем называется файл с расширением py.  \n",
        "* Каждый модуль задаёт новое пространство имён, атрибуты\n",
        "которого соответствуют именам, определённым в файле:\n",
        "\n",
        "\n"
      ]
    },
    {
      "cell_type": "code",
      "metadata": {
        "id": "BmUu1bajediC",
        "colab": {
          "base_uri": "https://localhost:8080/"
        },
        "outputId": "9f81c78b-bfd7-40db-c2c6-a7f4c31205c9"
      },
      "source": [
        "import useful\n",
        "dir(useful)"
      ],
      "execution_count": null,
      "outputs": [
        {
          "output_type": "execute_result",
          "data": {
            "text/plain": [
              "['__builtins__',\n",
              " '__cached__',\n",
              " '__doc__',\n",
              " '__file__',\n",
              " '__loader__',\n",
              " '__name__',\n",
              " '__package__',\n",
              " '__spec__',\n",
              " 'boo',\n",
              " 'some_variable']"
            ]
          },
          "metadata": {},
          "execution_count": 2
        }
      ]
    },
    {
      "cell_type": "markdown",
      "metadata": {
        "id": "TSzlL-_ugb-K"
      },
      "source": [
        "Кроме явно определённых имён в модуле содержатся:"
      ]
    },
    {
      "cell_type": "code",
      "metadata": {
        "id": "0s1ynSD_gkzj",
        "colab": {
          "base_uri": "https://localhost:8080/",
          "height": 35
        },
        "outputId": "a77d1358-22b2-4579-fa20-f69874152c3c"
      },
      "source": [
        "useful.__name__"
      ],
      "execution_count": null,
      "outputs": [
        {
          "output_type": "execute_result",
          "data": {
            "application/vnd.google.colaboratory.intrinsic+json": {
              "type": "string"
            },
            "text/plain": [
              "'useful'"
            ]
          },
          "metadata": {},
          "execution_count": 3
        }
      ]
    },
    {
      "cell_type": "code",
      "metadata": {
        "id": "rE2tb87Og4Qk",
        "colab": {
          "base_uri": "https://localhost:8080/",
          "height": 35
        },
        "outputId": "77ed3f05-2002-401c-cf6d-7e16eb6d9ee8"
      },
      "source": [
        "useful.__doc__"
      ],
      "execution_count": null,
      "outputs": [
        {
          "output_type": "execute_result",
          "data": {
            "application/vnd.google.colaboratory.intrinsic+json": {
              "type": "string"
            },
            "text/plain": [
              "\"I'm a useful module.\""
            ]
          },
          "metadata": {},
          "execution_count": 4
        }
      ]
    },
    {
      "cell_type": "code",
      "metadata": {
        "id": "2OyVZ1lJg5zt",
        "colab": {
          "base_uri": "https://localhost:8080/",
          "height": 35
        },
        "outputId": "4bffc85e-280e-46de-a8c9-8cc302ecb4e3"
      },
      "source": [
        "useful.__file__"
      ],
      "execution_count": null,
      "outputs": [
        {
          "output_type": "execute_result",
          "data": {
            "application/vnd.google.colaboratory.intrinsic+json": {
              "type": "string"
            },
            "text/plain": [
              "'/content/useful.py'"
            ]
          },
          "metadata": {},
          "execution_count": 5
        }
      ]
    },
    {
      "cell_type": "code",
      "metadata": {
        "id": "oku7EuxGg7Yi",
        "colab": {
          "base_uri": "https://localhost:8080/",
          "height": 35
        },
        "outputId": "72c28e8d-bcda-4533-80ce-2004a68394db"
      },
      "source": [
        "useful.__cached__ # и другие"
      ],
      "execution_count": null,
      "outputs": [
        {
          "output_type": "execute_result",
          "data": {
            "application/vnd.google.colaboratory.intrinsic+json": {
              "type": "string"
            },
            "text/plain": [
              "'/content/__pycache__/useful.cpython-37.pyc'"
            ]
          },
          "metadata": {},
          "execution_count": 6
        }
      ]
    },
    {
      "cell_type": "markdown",
      "metadata": {
        "id": "2UhxjEXlhcaz"
      },
      "source": [
        "## `__name__ == \"__main__\"`"
      ]
    },
    {
      "cell_type": "markdown",
      "metadata": {
        "id": "VPEjOt-3hHlF"
      },
      "source": [
        "* Модуль можно выполнить, передав его в качестве\n",
        "аргумента интерпретатору.  \n",
        "* В этом случае переменная `__name__` внутри модуля будет\n",
        "иметь специальное значение `\"__main__\"`.  \n",
        "* Пример:\n",
        "```python\n",
        "# useful.py\n",
        "def test():\n",
        "    assert boo() == 4\n",
        "if __name__ == \"__main__\":\n",
        "    print(\"Running tests ... \")\n",
        "    test()\n",
        "    print(\"OK\")\n",
        "```\n",
        "```bash\n",
        "$ python ./useful.py\n",
        "Running tests ...\n",
        "OK\n",
        "```"
      ]
    },
    {
      "cell_type": "markdown",
      "metadata": {
        "id": "j0G25iSbh3d5"
      },
      "source": [
        "## Оператор `import`"
      ]
    },
    {
      "cell_type": "markdown",
      "metadata": {
        "id": "Xl-G9TVDiFxN"
      },
      "source": [
        "Оператор `import` “импортирует” модуль с указанным\n",
        "именем и создаёт на него ссылку в текущей области\n",
        "видимости:"
      ]
    },
    {
      "cell_type": "code",
      "metadata": {
        "id": "B03pjkS0hnkq",
        "colab": {
          "base_uri": "https://localhost:8080/"
        },
        "outputId": "fc9530a3-2872-42c7-8450-9071b4a914d9"
      },
      "source": [
        "import useful # исполняет модуль сверху вниз\n",
        "useful"
      ],
      "execution_count": null,
      "outputs": [
        {
          "output_type": "execute_result",
          "data": {
            "text/plain": [
              "<module 'useful' from '/content/useful.py'>"
            ]
          },
          "metadata": {},
          "execution_count": 7
        }
      ]
    },
    {
      "cell_type": "markdown",
      "metadata": {
        "id": "svzLXCIEiLzp"
      },
      "source": [
        "С помощью оператора `as` можно изменить имя\n",
        "переменной, в которую будет записана ссылка на модуль:"
      ]
    },
    {
      "cell_type": "code",
      "metadata": {
        "id": "A_FlHmbtiNvc",
        "colab": {
          "base_uri": "https://localhost:8080/"
        },
        "outputId": "b52a3908-c4b4-4b4e-d7bd-09a76b1cf31d"
      },
      "source": [
        "import useful as alias\n",
        "alias"
      ],
      "execution_count": null,
      "outputs": [
        {
          "output_type": "execute_result",
          "data": {
            "text/plain": [
              "<module 'useful' from '/content/useful.py'>"
            ]
          },
          "metadata": {},
          "execution_count": 8
        }
      ]
    },
    {
      "cell_type": "markdown",
      "metadata": {
        "id": "qCFULjWRiRVt"
      },
      "source": [
        "Чтобы модуль был доступен для импорта, содержащая его\n",
        "директория должна присутствовать в списке `sys.path`:"
      ]
    },
    {
      "cell_type": "code",
      "metadata": {
        "id": "MDQM_yYeiTvo",
        "colab": {
          "base_uri": "https://localhost:8080/"
        },
        "outputId": "d181a55e-7315-4a8c-8685-92afc962aff9"
      },
      "source": [
        "import sys\n",
        "sys.path"
      ],
      "execution_count": null,
      "outputs": [
        {
          "output_type": "execute_result",
          "data": {
            "text/plain": [
              "['',\n",
              " '/content',\n",
              " '/env/python',\n",
              " '/usr/lib/python37.zip',\n",
              " '/usr/lib/python3.7',\n",
              " '/usr/lib/python3.7/lib-dynload',\n",
              " '/usr/local/lib/python3.7/dist-packages',\n",
              " '/usr/lib/python3/dist-packages',\n",
              " '/usr/local/lib/python3.7/dist-packages/IPython/extensions',\n",
              " '/root/.ipython']"
            ]
          },
          "metadata": {},
          "execution_count": 9
        }
      ]
    },
    {
      "cell_type": "markdown",
      "metadata": {
        "id": "dPlMsX9vibgL"
      },
      "source": [
        "## Оператор `from...import`"
      ]
    },
    {
      "cell_type": "markdown",
      "metadata": {
        "id": "wUfIt2Q_icxv"
      },
      "source": [
        "Оператор `from ... import` импортирует имя из другого\n",
        "модуля в текущую область видимости:"
      ]
    },
    {
      "cell_type": "code",
      "metadata": {
        "id": "1OX_s1XsifSc",
        "colab": {
          "base_uri": "https://localhost:8080/"
        },
        "outputId": "05537e19-f83d-4bd7-836b-7ce3dc232bad"
      },
      "source": [
        "from useful import boo\n",
        "boo()"
      ],
      "execution_count": null,
      "outputs": [
        {
          "output_type": "execute_result",
          "data": {
            "text/plain": [
              "42"
            ]
          },
          "metadata": {},
          "execution_count": 10
        }
      ]
    },
    {
      "cell_type": "markdown",
      "metadata": {
        "id": "lgl6Natbikmq"
      },
      "source": [
        "Синтаксис оператора позволяет перечислить несколько\n",
        "имен через запятую и, возможно, переименовать\n",
        "некоторые из них:"
      ]
    },
    {
      "cell_type": "code",
      "metadata": {
        "id": "DngReGiOimR0",
        "colab": {
          "base_uri": "https://localhost:8080/"
        },
        "outputId": "63d2c47b-0ef5-49e4-c77f-102f77e36795"
      },
      "source": [
        "from useful import boo as foo, some_variable\n",
        "foo()"
      ],
      "execution_count": null,
      "outputs": [
        {
          "output_type": "execute_result",
          "data": {
            "text/plain": [
              "42"
            ]
          },
          "metadata": {},
          "execution_count": 11
        }
      ]
    },
    {
      "cell_type": "code",
      "metadata": {
        "id": "FUTDa_koi14F",
        "colab": {
          "base_uri": "https://localhost:8080/",
          "height": 35
        },
        "outputId": "853cde30-c333-4fbd-e3d3-54ca3b0581a2"
      },
      "source": [
        "some_variable"
      ],
      "execution_count": null,
      "outputs": [
        {
          "output_type": "execute_result",
          "data": {
            "application/vnd.google.colaboratory.intrinsic+json": {
              "type": "string"
            },
            "text/plain": [
              "'foobar'"
            ]
          },
          "metadata": {},
          "execution_count": 12
        }
      ]
    },
    {
      "cell_type": "markdown",
      "metadata": {
        "id": "h0nNMX-xi9N0"
      },
      "source": [
        "## “Семантика” оператора `from...import`"
      ]
    },
    {
      "cell_type": "markdown",
      "metadata": {
        "id": "hR99XmAdjAEs"
      },
      "source": [
        "Оператор `from ... import` можно однозначно переписать\n",
        "через оператор `import`:"
      ]
    },
    {
      "cell_type": "code",
      "metadata": {
        "id": "0IiV4DipjCF6"
      },
      "source": [
        "from useful import boo as foo, some_variable\n",
        "# HARDCORE REWRITING MAGIC\n",
        "import useful\n",
        "foo = useful.boo\n",
        "some_variable = useful.some_variable\n",
        "del useful"
      ],
      "execution_count": null,
      "outputs": []
    },
    {
      "cell_type": "markdown",
      "metadata": {
        "id": "SfoZjyS8jEB2"
      },
      "source": [
        "Всё сказанное про оператор `import` релевантно и для\n",
        "оператора `from ... import`."
      ]
    },
    {
      "cell_type": "markdown",
      "metadata": {
        "id": "JjF09GfZjUgR"
      },
      "source": [
        "## Оператор `from...import *`"
      ]
    },
    {
      "cell_type": "markdown",
      "metadata": {
        "id": "KWgxf5YhjZf-"
      },
      "source": [
        "В качестве второго аргумента оператора `from ... import`\n",
        "можно указать *.  \n",
        "\n",
        "Если в модуле определена глобальная переменная\n",
        "`__all__`, то будут импортированы только те имена, которые\n",
        "в ней перечислены.  \n",
        "\n",
        "Иначе — все имена из `globals()` модуля."
      ]
    },
    {
      "cell_type": "code",
      "metadata": {
        "id": "XUv28HYbjqey",
        "colab": {
          "base_uri": "https://localhost:8080/",
          "height": 35
        },
        "outputId": "b28d726b-4043-45e1-d1d1-8d9adb5e9b16"
      },
      "source": [
        "from useful import *\n",
        "some_variable"
      ],
      "execution_count": null,
      "outputs": [
        {
          "output_type": "execute_result",
          "data": {
            "application/vnd.google.colaboratory.intrinsic+json": {
              "type": "string"
            },
            "text/plain": [
              "'foobar'"
            ]
          },
          "metadata": {},
          "execution_count": 14
        }
      ]
    },
    {
      "cell_type": "markdown",
      "metadata": {
        "id": "WSeryY0ojuAJ"
      },
      "source": [
        "На практике оператор `from ... import *` используют\n",
        "редко, потому что он затрудняет чтение кода."
      ]
    },
    {
      "cell_type": "markdown",
      "metadata": {
        "id": "0xF7Po9sjyRU"
      },
      "source": [
        "## Модули: резюме"
      ]
    },
    {
      "cell_type": "markdown",
      "metadata": {
        "id": "vYf6Kso6j0sT"
      },
      "source": [
        "*   Модуль в Python — это просто файл с расширением py.\n",
        "*   Модуль можно импортировать целиком или выборочно с\n",
        "помощью операторов `import` и `from ... import`.\n",
        "*   В момент импорта байт-код модуля выполняется\n",
        "интерпретатором сверху вниз.\n",
        "*   Три правила импортирования модулей:\n",
        "    *   размещайте все импорты в начале модуля,\n",
        "    *   сортируйте их в лексикографическом порядке,\n",
        "    *   располагайте блок `import` перед `from ... import`.\n",
        "*   Пример:\n"
      ]
    },
    {
      "cell_type": "code",
      "metadata": {
        "id": "aeeph_beIzF3"
      },
      "source": [
        "import os\n",
        "import sys\n",
        "from collections import OrderedDict\n",
        "from itertools import islice"
      ],
      "execution_count": null,
      "outputs": []
    },
    {
      "cell_type": "markdown",
      "metadata": {
        "id": "Gwko9SDrIYAS"
      },
      "source": [
        "# Пакеты"
      ]
    },
    {
      "cell_type": "markdown",
      "metadata": {
        "id": "UCuWJZiLlVr8"
      },
      "source": [
        "## Пакет == директория с модулями"
      ]
    },
    {
      "cell_type": "markdown",
      "metadata": {
        "id": "61emXsG_laN4"
      },
      "source": [
        "* Пакеты позволяют структурировать код на Python.  \n",
        "\n",
        "* Любая директория, содержащая файл `__init__.py`,\n",
        "автоматически становится пакетом.  \n",
        "\n",
        "* В качестве примера рассмотрим  \n",
        "`useful`  \n",
        "├── `__init__.py` # !  \n",
        "├── `bar.py`  \n",
        "└── `foo.py`  "
      ]
    },
    {
      "cell_type": "markdown",
      "metadata": {
        "id": "IX_VtqRajTWO"
      },
      "source": [
        "* Импортируем пакет `useful`:\n",
        "```python\n",
        ">>> import useful\n",
        ">>> useful\n",
        "<module 'useful' from './useful/__init__.py'>\n",
        ">>> useful.foo\n",
        "Traceback (most recent call last):\n",
        "File \"<stdin>\", line 1, in <module>\n",
        "AttributeError: 'module' object has no attribute 'foo'\n",
        "```"
      ]
    },
    {
      "cell_type": "markdown",
      "metadata": {
        "id": "yVsUD6y3mFcF"
      },
      "source": [
        "## Импорт модулей из пакета"
      ]
    },
    {
      "cell_type": "markdown",
      "metadata": {
        "id": "7jt7zEksjjQ1"
      },
      "source": [
        "* При импорте пакета импортируется только `__init__.py`.\n",
        "```python\n",
        ">>> import useful.foo\n",
        ">>> useful # !\n",
        "<module 'useful' from './useful/__init__.py'>\n",
        ">>> useful.foo\n",
        "<module 'useful.foo' from './useful/foo.py'>\n",
        "```"
      ]
    },
    {
      "cell_type": "markdown",
      "metadata": {
        "id": "uEWEE4FAjtkm"
      },
      "source": [
        "* Остальные модули необходимо импортировать явно:\n",
        "```python\n",
        ">>> useful.bar\n",
        "Traceback (most recent call last):\n",
        "File \"<stdin>\", line 1, in <module>\n",
        "AttributeError: 'module' object has no attribute 'bar'\n",
        ">>> from useful import bar\n",
        ">>> bar\n",
        "<module 'useful.bar' from './useful/bar.py'>\n",
        "```"
      ]
    },
    {
      "cell_type": "markdown",
      "metadata": {
        "id": "ouAqh-7Amc6C"
      },
      "source": [
        "## Относительный импорт"
      ]
    },
    {
      "cell_type": "markdown",
      "metadata": {
        "id": "2vjLXUm6j3pu"
      },
      "source": [
        "* Примеры, которые мы видели ранее, использовали\n",
        "абсолютный импорт — вызов оператора `import` содержал\n",
        "имя пакета:\n",
        "```python\n",
        "import useful.foo\n",
        "from useful import bar\n",
        "```"
      ]
    },
    {
      "cell_type": "markdown",
      "metadata": {
        "id": "ZZ0VKEAIj6zm"
      },
      "source": [
        "* Можно (и нужно!) использовать относительный импорт:\n",
        "```python\n",
        "from . import foo, bar\n",
        "# ^ соответствует имени пакета, в котором\n",
        "# вызывается импорт\n",
        "```"
      ]
    },
    {
      "cell_type": "markdown",
      "metadata": {
        "id": "Xe00mKXNmqdI"
      },
      "source": [
        "Почему? Не нужно изменять импорты при\n",
        "переименовании или перемещении пакета."
      ]
    },
    {
      "cell_type": "markdown",
      "metadata": {
        "id": "rwgnFMnzj_HW"
      },
      "source": [
        "* Одно но: не работает в интерактивной оболочке:\n",
        "```python\n",
        ">>> from . import useful\n",
        "Traceback (most recent call last):\n",
        "File \"<stdin>\", line 1, in <module>\n",
        "SystemError: Parent module '' not loaded, [...]\n",
        "```"
      ]
    },
    {
      "cell_type": "markdown",
      "metadata": {
        "id": "QwHbkj-GmxMw"
      },
      "source": [
        "## Вложенные пакеты aka sub-packages"
      ]
    },
    {
      "cell_type": "markdown",
      "metadata": {
        "id": "7iGsASIKm3nQ"
      },
      "source": [
        "* Внутри пакетов могут находиться не только модули, но и\n",
        "другие пакеты. Сделаем модуль `bar` пакетом:  \n",
        "<pre>\n",
        "useful\n",
        "├── __init__.py\n",
        "├── bar\n",
        "│   ├── __init__.py\n",
        "│   ├── boo.py \n",
        "└── foo.py\n",
        "</pre>\n",
        "\n"
      ]
    },
    {
      "cell_type": "markdown",
      "metadata": {
        "id": "bpvRCUvqlJbW"
      },
      "source": [
        "* Синтаксически работа с вложенным пакетом `useful.bar`\n",
        "ничем не отличается от работы с его предшественником:\n",
        "```python\n",
        ">>> import useful.bar\n",
        ">>> useful.bar\n",
        "<module 'useful.bar' from './useful/bar/__init__.py'>\n",
        "```"
      ]
    },
    {
      "cell_type": "markdown",
      "metadata": {
        "id": "rUf65Cj9lNw3"
      },
      "source": [
        "* Замечание: в модуле `useful.bar.boo` тоже можно\n",
        "использовать относительный импорт:\n",
        "```python\n",
        "from . import something\n",
        "from ..foo import something_else\n",
        "```"
      ]
    },
    {
      "cell_type": "markdown",
      "metadata": {
        "id": "4Ve7W5FmoS-0"
      },
      "source": [
        "## Ещё немного об `__init__.py`: фасад"
      ]
    },
    {
      "cell_type": "markdown",
      "metadata": {
        "id": "-1SjcGv7oUTM"
      },
      "source": [
        "*   Задача модуля `__init__.py` — инициализировать пакет,\n",
        "поэтому не стоит реализовывать в нём всю логику.\n",
        "*   Что стоит делать в `__init__.py`?\n",
        "    *   Ничего.\n",
        "    *   Объявить глобальные для пакета переменные (может быть).\n",
        "    *   Оградить пакет фасадом, то есть импортировать имена из\n",
        "вложенных модулей и пакетов и определить `__all__`.\n"
      ]
    },
    {
      "cell_type": "markdown",
      "metadata": {
        "id": "6xRQOBpnlkpW"
      },
      "source": [
        "*   Фасад для пакета `useful`:\n",
        "<pre>\n",
        "useful\n",
        "├── __init__.py\n",
        "├── bar\n",
        "│   ├── __init__.py\n",
        "│   ├── boo.py\n",
        "└── foo.py\n",
        "</pre>\n",
        "\n"
      ]
    },
    {
      "cell_type": "markdown",
      "metadata": {
        "id": "lcIUUo5lP57Y"
      },
      "source": [
        "* `useful/bar/__init__.py`\n",
        "```python\n",
        "# useful/bar/__init__.py\n",
        "from .boo import *\n",
        "__all__ = boo.__all__\n",
        "# useful/__init__.py\n",
        "from .foo import *\n",
        "from .bar import *\n",
        "__all__ = foo.__all__ + bar.__all__\n",
        "```"
      ]
    },
    {
      "cell_type": "markdown",
      "metadata": {
        "id": "ya23XAEqo3sm"
      },
      "source": [
        "## Плюсы и минусы использования фасада в `__init__.py`"
      ]
    },
    {
      "cell_type": "markdown",
      "metadata": {
        "id": "bdNVBi62o7Ss"
      },
      "source": [
        "*   Плюсы:\n",
        "    *   Пользователю не нужно запоминать внутреннюю структуру\n",
        "пакета и думать, с чем он работает: модулем или пакетом.\n",
        "```python\n",
        "        *   from urllib import urlopen или\n",
        "        *   from urllib.request import urlopen или\n",
        "        *   from urllib.requests import urlopen?\n",
        "```\n",
        "    *   Интерфейс не зависит от деталей реализации — можно\n",
        "перемещать код между внутренними модулями и пакетами.\n",
        "\n",
        "*   Минусы?\n"
      ]
    },
    {
      "cell_type": "code",
      "metadata": {
        "colab": {
          "base_uri": "https://localhost:8080/"
        },
        "id": "nFdfkZ0do5JZ",
        "outputId": "0ac0ad74-7b53-49c7-822a-fc64eb8ed76a"
      },
      "source": [
        "%time import sympy\n",
        "%time import theano"
      ],
      "execution_count": null,
      "outputs": [
        {
          "output_type": "stream",
          "name": "stdout",
          "text": [
            "CPU times: user 386 ms, sys: 70.9 ms, total: 457 ms\n",
            "Wall time: 826 ms\n",
            "CPU times: user 554 ms, sys: 170 ms, total: 724 ms\n",
            "Wall time: 2.51 s\n"
          ]
        }
      ]
    },
    {
      "cell_type": "markdown",
      "metadata": {
        "id": "Bsazh2QwqcXX"
      },
      "source": [
        "## Исполняемые модули и пакеты"
      ]
    },
    {
      "cell_type": "markdown",
      "metadata": {
        "id": "D94-AM6Vqe6t"
      },
      "source": [
        "* Любой модуль можно выполнить как скрипт, передав его\n",
        "имя в качестве аргумента `-m`:\n",
        "```python\n",
        "# useful/foo.py\n",
        "print(__name__)\n",
        "```\n",
        "```bash\n",
        "$ python -m useful.foo\n",
        "'__main__' # !\n",
        "```\n",
        "* Чтобы пакет был исполняемым, в нём должен быть файл\n",
        "`__main__.py`:\n",
        "```python\n",
        "# useful/__main__.py\n",
        "print(\"It works!\")\n",
        "```\n",
        "```bash\n",
        "$ python -m useful\n",
        "useful.__init__ # ?\n",
        "It works!\n",
        "```\n",
        "```python\n",
        "# useful/__init__.py\n",
        "print(\"useful.__init__\")\n",
        "```\n",
        "```bash\n",
        "$ python -m useful.__main__\n",
        "useful.__init__\n",
        "It works!\n",
        "```"
      ]
    },
    {
      "cell_type": "markdown",
      "metadata": {
        "id": "4HeQ2b0uq9rE"
      },
      "source": [
        "## Пакеты: резюме"
      ]
    },
    {
      "cell_type": "markdown",
      "metadata": {
        "id": "S3hRhrgmrCpq"
      },
      "source": [
        "*   Пакеты — это способ группировать код на Python.\n",
        "*   Любая директория, содержащая файл `__init__.py`, задаёт\n",
        "пакет.\n",
        "*   Полезные детали, о которых стоит помнить:\n",
        "    *   в пакете можно (и нужно!) использовать относительный\n",
        "импорт вместо абсолютного;\n",
        "    *   с помощью `__init__.py` можно абстрагировать детали\n",
        "реализации пакета от пользователя,\n",
        "    *   а добавив файл `__main__.py` — сделать пакет\n",
        "исполняемым."
      ]
    }
  ]
}