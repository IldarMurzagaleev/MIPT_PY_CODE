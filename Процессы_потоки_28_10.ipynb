{
  "nbformat": 4,
  "nbformat_minor": 0,
  "metadata": {
    "colab": {
      "name": "Процессы_потоки_28_10.ipynb",
      "provenance": [],
      "collapsed_sections": [],
      "include_colab_link": true
    },
    "language_info": {
      "name": "python"
    },
    "kernelspec": {
      "name": "python3",
      "display_name": "Python 3"
    }
  },
  "cells": [
    {
      "cell_type": "markdown",
      "metadata": {
        "id": "view-in-github",
        "colab_type": "text"
      },
      "source": [
        "<a href=\"https://colab.research.google.com/github/pythonkvs/seminars/blob/main/%D0%9F%D1%80%D0%BE%D1%86%D0%B5%D1%81%D1%81%D1%8B_%D0%BF%D0%BE%D1%82%D0%BE%D0%BA%D0%B8_28_10.ipynb\" target=\"_parent\"><img src=\"https://colab.research.google.com/assets/colab-badge.svg\" alt=\"Open In Colab\"/></a>"
      ]
    },
    {
      "cell_type": "markdown",
      "metadata": {
        "id": "GDggl-luhFNE"
      },
      "source": [
        "\n",
        "<h3 id=\"Процесс-и-его-характеристики\">Процесс и его характеристики<a class=\"anchor-link\" href=\"#Процесс-и-его-характеристики\"></a></h3><ul>\n",
        "<li>Что такое процесс?</li>\n",
        "<li>Какие процессы запущены в ОС?</li>\n",
        "<li>Как запустить python процесс?</li>\n",
        "<li>Что делает процесс во время исполнения?</li>\n",
        "</ul>\n"
      ]
    },
    {
      "cell_type": "markdown",
      "metadata": {
        "id": "1uPZUdvmhFNO"
      },
      "source": [
        "\n",
        "<p>Характеристики процесса:</p>\n",
        "<ul>\n",
        "<li>Идентификатор процесса, PID</li>\n",
        "<li>Объем оперативной памяти</li>\n",
        "<li>Стек</li>\n",
        "<li>Список открытых файлов</li>\n",
        "<li>Ввод/вывод</li>\n",
        "</ul>\n"
      ]
    },
    {
      "cell_type": "code",
      "metadata": {
        "id": "wT8DSbEZhFNP",
        "colab": {
          "base_uri": "https://localhost:8080/",
          "height": 330
        },
        "outputId": "fcffb4f2-5350-4789-843c-45a4e5ef4f2f"
      },
      "source": [
        "# простой Python процесс\n",
        "\n",
        "import time\n",
        "import os\n",
        "\n",
        "pid = os.getpid()\n",
        "\n",
        "while True:\n",
        "    print(pid, time.time())\n",
        "    time.sleep(2)"
      ],
      "execution_count": 1,
      "outputs": [
        {
          "output_type": "stream",
          "name": "stdout",
          "text": [
            "64 1635424532.978097\n",
            "64 1635424534.9913707\n",
            "64 1635424536.9941223\n",
            "64 1635424538.9964132\n",
            "64 1635424540.998703\n",
            "64 1635424543.001004\n",
            "64 1635424545.0032961\n",
            "64 1635424547.0055804\n"
          ]
        },
        {
          "output_type": "error",
          "ename": "KeyboardInterrupt",
          "evalue": "ignored",
          "traceback": [
            "\u001b[0;31m---------------------------------------------------------------------------\u001b[0m",
            "\u001b[0;31mKeyboardInterrupt\u001b[0m                         Traceback (most recent call last)",
            "\u001b[0;32m<ipython-input-1-0040e9ccbbf0>\u001b[0m in \u001b[0;36m<module>\u001b[0;34m()\u001b[0m\n\u001b[1;32m      8\u001b[0m \u001b[0;32mwhile\u001b[0m \u001b[0;32mTrue\u001b[0m\u001b[0;34m:\u001b[0m\u001b[0;34m\u001b[0m\u001b[0;34m\u001b[0m\u001b[0m\n\u001b[1;32m      9\u001b[0m     \u001b[0mprint\u001b[0m\u001b[0;34m(\u001b[0m\u001b[0mpid\u001b[0m\u001b[0;34m,\u001b[0m \u001b[0mtime\u001b[0m\u001b[0;34m.\u001b[0m\u001b[0mtime\u001b[0m\u001b[0;34m(\u001b[0m\u001b[0;34m)\u001b[0m\u001b[0;34m)\u001b[0m\u001b[0;34m\u001b[0m\u001b[0;34m\u001b[0m\u001b[0m\n\u001b[0;32m---> 10\u001b[0;31m     \u001b[0mtime\u001b[0m\u001b[0;34m.\u001b[0m\u001b[0msleep\u001b[0m\u001b[0;34m(\u001b[0m\u001b[0;36m2\u001b[0m\u001b[0;34m)\u001b[0m\u001b[0;34m\u001b[0m\u001b[0;34m\u001b[0m\u001b[0m\n\u001b[0m",
            "\u001b[0;31mKeyboardInterrupt\u001b[0m: "
          ]
        }
      ]
    },
    {
      "cell_type": "markdown",
      "metadata": {
        "id": "e8-yF_uyhFNR"
      },
      "source": [
        "\n",
        "<h3 id=\"Создание-процесса-на-Python\">Создание процесса на Python<a class=\"anchor-link\" href=\"#Создание-процесса-на-Python\"></a></h3><ul>\n",
        "<li>Как создать дочерний процесс?</li>\n",
        "<li>Как работает системный вызов fork?</li>\n",
        "<li>Модуль multiprocessing</li>\n",
        "</ul>\n"
      ]
    },
    {
      "cell_type": "code",
      "metadata": {
        "id": "gC6s2YwzhFNS",
        "colab": {
          "base_uri": "https://localhost:8080/",
          "height": 525
        },
        "outputId": "16ac3210-dc13-40dd-e490-201a298c3469"
      },
      "source": [
        "# Создание процесса на Python\n",
        "\n",
        "import time\n",
        "import os\n",
        "\n",
        "pid = os.fork()\n",
        "if pid == 0:\n",
        "    # дочерний процесс\n",
        "    while True:\n",
        "        print(\"child:\", os.getpid())\n",
        "        time.sleep(5)\n",
        "else:\n",
        "    # родительский процесс\n",
        "    print(\"parent:\", os.getpid())\n",
        "    os.wait()"
      ],
      "execution_count": 2,
      "outputs": [
        {
          "output_type": "stream",
          "name": "stdout",
          "text": [
            "child: 113\n",
            "parent: 64\n",
            "child: 113\n",
            "child: 113\n",
            "child: 113\n",
            "child: 113\n",
            "child: 113\n"
          ]
        },
        {
          "output_type": "error",
          "ename": "KeyboardInterrupt",
          "evalue": "ignored",
          "traceback": [
            "\u001b[0;31m---------------------------------------------------------------------------\u001b[0m",
            "\u001b[0;31mKeyboardInterrupt\u001b[0m                         Traceback (most recent call last)",
            "\u001b[0;32m<ipython-input-2-ae8e57ed3deb>\u001b[0m in \u001b[0;36m<module>\u001b[0;34m()\u001b[0m\n\u001b[1;32m     13\u001b[0m     \u001b[0;31m# родительский процесс\u001b[0m\u001b[0;34m\u001b[0m\u001b[0;34m\u001b[0m\u001b[0;34m\u001b[0m\u001b[0m\n\u001b[1;32m     14\u001b[0m     \u001b[0mprint\u001b[0m\u001b[0;34m(\u001b[0m\u001b[0;34m\"parent:\"\u001b[0m\u001b[0;34m,\u001b[0m \u001b[0mos\u001b[0m\u001b[0;34m.\u001b[0m\u001b[0mgetpid\u001b[0m\u001b[0;34m(\u001b[0m\u001b[0;34m)\u001b[0m\u001b[0;34m)\u001b[0m\u001b[0;34m\u001b[0m\u001b[0;34m\u001b[0m\u001b[0m\n\u001b[0;32m---> 15\u001b[0;31m     \u001b[0mos\u001b[0m\u001b[0;34m.\u001b[0m\u001b[0mwait\u001b[0m\u001b[0;34m(\u001b[0m\u001b[0;34m)\u001b[0m\u001b[0;34m\u001b[0m\u001b[0;34m\u001b[0m\u001b[0m\n\u001b[0m",
            "\u001b[0;31mKeyboardInterrupt\u001b[0m: "
          ]
        },
        {
          "output_type": "error",
          "ename": "KeyboardInterrupt",
          "evalue": "ignored",
          "traceback": [
            "\u001b[0;31m---------------------------------------------------------------------------\u001b[0m",
            "\u001b[0;31mKeyboardInterrupt\u001b[0m                         Traceback (most recent call last)",
            "\u001b[0;32m<ipython-input-2-ae8e57ed3deb>\u001b[0m in \u001b[0;36m<module>\u001b[0;34m()\u001b[0m\n\u001b[1;32m      9\u001b[0m     \u001b[0;32mwhile\u001b[0m \u001b[0;32mTrue\u001b[0m\u001b[0;34m:\u001b[0m\u001b[0;34m\u001b[0m\u001b[0;34m\u001b[0m\u001b[0m\n\u001b[1;32m     10\u001b[0m         \u001b[0mprint\u001b[0m\u001b[0;34m(\u001b[0m\u001b[0;34m\"child:\"\u001b[0m\u001b[0;34m,\u001b[0m \u001b[0mos\u001b[0m\u001b[0;34m.\u001b[0m\u001b[0mgetpid\u001b[0m\u001b[0;34m(\u001b[0m\u001b[0;34m)\u001b[0m\u001b[0;34m)\u001b[0m\u001b[0;34m\u001b[0m\u001b[0;34m\u001b[0m\u001b[0m\n\u001b[0;32m---> 11\u001b[0;31m         \u001b[0mtime\u001b[0m\u001b[0;34m.\u001b[0m\u001b[0msleep\u001b[0m\u001b[0;34m(\u001b[0m\u001b[0;36m5\u001b[0m\u001b[0;34m)\u001b[0m\u001b[0;34m\u001b[0m\u001b[0;34m\u001b[0m\u001b[0m\n\u001b[0m\u001b[1;32m     12\u001b[0m \u001b[0;32melse\u001b[0m\u001b[0;34m:\u001b[0m\u001b[0;34m\u001b[0m\u001b[0;34m\u001b[0m\u001b[0m\n\u001b[1;32m     13\u001b[0m     \u001b[0;31m# родительский процесс\u001b[0m\u001b[0;34m\u001b[0m\u001b[0;34m\u001b[0m\u001b[0;34m\u001b[0m\u001b[0m\n",
            "\u001b[0;31mKeyboardInterrupt\u001b[0m: "
          ]
        }
      ]
    },
    {
      "cell_type": "code",
      "metadata": {
        "id": "WN72Jj4phFNT",
        "colab": {
          "base_uri": "https://localhost:8080/",
          "height": 229
        },
        "outputId": "804eb7e4-fc7e-40a1-8fe6-b63740ad378e"
      },
      "source": [
        "# Память родительского и дочернего процесса\n",
        "\n",
        "import os\n",
        "\n",
        "foo = \"bar\"\n",
        "\n",
        "if os.fork() == 0:\n",
        "    # дочерний процесс\n",
        "    foo = \"baz\"\n",
        "    print(\"child:\", foo)\n",
        "else:\n",
        "    # родительский процесс\n",
        "    print(\"parent:\", foo)\n",
        "    os.wait()"
      ],
      "execution_count": 3,
      "outputs": [
        {
          "output_type": "stream",
          "name": "stdout",
          "text": [
            "child: baz\n",
            "parent: bar\n"
          ]
        },
        {
          "output_type": "error",
          "ename": "KeyboardInterrupt",
          "evalue": "ignored",
          "traceback": [
            "\u001b[0;31m---------------------------------------------------------------------------\u001b[0m",
            "\u001b[0;31mKeyboardInterrupt\u001b[0m                         Traceback (most recent call last)",
            "\u001b[0;32m<ipython-input-3-e4b32d41a56e>\u001b[0m in \u001b[0;36m<module>\u001b[0;34m()\u001b[0m\n\u001b[1;32m     12\u001b[0m     \u001b[0;31m# родительский процесс\u001b[0m\u001b[0;34m\u001b[0m\u001b[0;34m\u001b[0m\u001b[0;34m\u001b[0m\u001b[0m\n\u001b[1;32m     13\u001b[0m     \u001b[0mprint\u001b[0m\u001b[0;34m(\u001b[0m\u001b[0;34m\"parent:\"\u001b[0m\u001b[0;34m,\u001b[0m \u001b[0mfoo\u001b[0m\u001b[0;34m)\u001b[0m\u001b[0;34m\u001b[0m\u001b[0;34m\u001b[0m\u001b[0m\n\u001b[0;32m---> 14\u001b[0;31m     \u001b[0mos\u001b[0m\u001b[0;34m.\u001b[0m\u001b[0mwait\u001b[0m\u001b[0;34m(\u001b[0m\u001b[0;34m)\u001b[0m\u001b[0;34m\u001b[0m\u001b[0;34m\u001b[0m\u001b[0m\n\u001b[0m",
            "\u001b[0;31mKeyboardInterrupt\u001b[0m: "
          ]
        }
      ]
    },
    {
      "cell_type": "code",
      "metadata": {
        "colab": {
          "base_uri": "https://localhost:8080/"
        },
        "id": "i0OaF3YahFNU",
        "outputId": "dc91c380-8579-4081-971c-63ee346e73dc"
      },
      "source": [
        "# Файлы в родительском и дочернем процессе\n",
        "\n",
        "! echo example string1 >> data.txt\n",
        "! echo example string2 >> data.txt\n",
        "\n",
        "import os\n",
        "\n",
        "f = open(\"data.txt\")\n",
        "foo = f.readline()\n",
        "\n",
        "if os.fork() == 0:\n",
        "    # дочерний процесс\n",
        "    foo = f.readline()\n",
        "    print(\"child:\", foo)\n",
        "else:\n",
        "    # родительский процесс\n",
        "    foo = f.readline()\n",
        "    print(\"parent:\", foo)"
      ],
      "execution_count": 4,
      "outputs": [
        {
          "output_type": "stream",
          "name": "stdout",
          "text": [
            "parent: example string2\n",
            "\n",
            "child: example string2\n",
            "\n"
          ]
        }
      ]
    },
    {
      "cell_type": "code",
      "metadata": {
        "colab": {
          "base_uri": "https://localhost:8080/"
        },
        "id": "U3lwdeXshFNV",
        "outputId": "19f07a40-139a-4b46-e07f-02b3fc3e4b31"
      },
      "source": [
        "# Создание процесса, модуль multiprocessing\n",
        "\n",
        "from multiprocessing import Process\n",
        "\n",
        "def f(name):\n",
        "    print(\"hello\", name)\n",
        "\n",
        "p = Process(target=f, args=(\"Bob\",))\n",
        "p.start()\n",
        "p.join()"
      ],
      "execution_count": 5,
      "outputs": [
        {
          "output_type": "stream",
          "name": "stdout",
          "text": [
            "hello Bob\n"
          ]
        }
      ]
    },
    {
      "cell_type": "code",
      "metadata": {
        "colab": {
          "base_uri": "https://localhost:8080/"
        },
        "id": "PUvl76J8hFNV",
        "outputId": "de76056c-d91f-4a03-c6a5-3208414fcf14"
      },
      "source": [
        "# Создание процесса, модуль multiprocessing\n",
        "\n",
        "from multiprocessing import Process\n",
        "\n",
        "class PrintProcess(Process):\n",
        "    def __init__(self, name):\n",
        "        super().__init__()\n",
        "        self.name = name\n",
        "\n",
        "    def run(self):\n",
        "        print(\"hello\", self.name)\n",
        "\n",
        "p = PrintProcess(\"Mike\")\n",
        "p.start()\n",
        "p.join()"
      ],
      "execution_count": 6,
      "outputs": [
        {
          "output_type": "stream",
          "name": "stdout",
          "text": [
            "hello Mike\n"
          ]
        }
      ]
    },
    {
      "cell_type": "markdown",
      "metadata": {
        "id": "uFcvXS8NhFNX"
      },
      "source": [
        "\n",
        "<h3 id=\"Создание-потоков\">Создание потоков<a class=\"anchor-link\" href=\"#Создание-потоков\"></a></h3><ul>\n",
        "<li>Что такое поток</li>\n",
        "<li>Создание потоков, модуль threading</li>\n",
        "<li>Использование ThreadPoolExecutor</li>\n",
        "</ul>\n"
      ]
    },
    {
      "cell_type": "markdown",
      "metadata": {
        "id": "WsyE9oJFhFNY"
      },
      "source": [
        "\n",
        "<h3 id=\"Создание-потоков\">Создание потоков<a class=\"anchor-link\" href=\"#Создание-потоков\"></a></h3><ul>\n",
        "<li>Поток напоминает процесс</li>\n",
        "<li>У потока своя последовательность инструкций</li>\n",
        "<li>Каждый поток имеет собственный стек</li>\n",
        "<li>Все потоки выполняются в рамках процесса</li>\n",
        "<li>Потоки разделяют память и ресурсы процесса</li>\n",
        "<li>Управлением выполнением потоков занимается ОС</li>\n",
        "<li>Потоки в Python имеют свои ограничения</li>\n",
        "</ul>\n"
      ]
    },
    {
      "cell_type": "code",
      "metadata": {
        "colab": {
          "base_uri": "https://localhost:8080/"
        },
        "id": "_KCcEonYhFNZ",
        "outputId": "910c7da7-c4d5-4dac-a2ac-bd9f0d58908e"
      },
      "source": [
        "# Создание потока\n",
        "\n",
        "from threading import Thread\n",
        "\n",
        "def f(name):\n",
        "    print(\"hello\", name)\n",
        "\n",
        "th = Thread(target=f, args=(\"Bob\",))\n",
        "th.start()\n",
        "th.join()"
      ],
      "execution_count": 7,
      "outputs": [
        {
          "output_type": "stream",
          "name": "stdout",
          "text": [
            "hello Bob\n"
          ]
        }
      ]
    },
    {
      "cell_type": "code",
      "metadata": {
        "colab": {
          "base_uri": "https://localhost:8080/"
        },
        "id": "RD-MRHexhFNa",
        "outputId": "b25a4de8-bd2b-4e17-8694-3ede66ffc413"
      },
      "source": [
        "# Создание потока\n",
        "\n",
        "from threading import Thread\n",
        "\n",
        "class PrintThread(Thread):\n",
        "    def __init__(self, name):\n",
        "        super().__init__()\n",
        "        self.name = name\n",
        "\n",
        "    def run(self):\n",
        "        print(\"hello\", self.name)\n",
        "\n",
        "th = PrintThread(\"Mike\")\n",
        "th.start()\n",
        "th.join()"
      ],
      "execution_count": 8,
      "outputs": [
        {
          "output_type": "stream",
          "name": "stdout",
          "text": [
            "hello Mike\n"
          ]
        }
      ]
    },
    {
      "cell_type": "code",
      "metadata": {
        "colab": {
          "base_uri": "https://localhost:8080/"
        },
        "id": "xbK89BXhhFNb",
        "outputId": "7249526d-280b-47f6-cc48-693eacec8a39"
      },
      "source": [
        "# Пул потоков, concurrent.futures.Future\n",
        "\n",
        "from concurrent.futures import ThreadPoolExecutor, as_completed\n",
        "\n",
        "def f(a):\n",
        "    return a * a\n",
        "\n",
        "# .shutdown() in exit\n",
        "with ThreadPoolExecutor(max_workers=3) as pool:\n",
        "    results = [pool.submit(f, i) for i in range(10)]\n",
        "\n",
        "    for future in as_completed(results):\n",
        "        print(future.result())"
      ],
      "execution_count": 9,
      "outputs": [
        {
          "output_type": "stream",
          "name": "stdout",
          "text": [
            "1\n",
            "0\n",
            "4\n",
            "9\n",
            "16\n",
            "25\n",
            "36\n",
            "49\n",
            "64\n",
            "81\n"
          ]
        }
      ]
    },
    {
      "cell_type": "markdown",
      "metadata": {
        "id": "wOBEVjN_hFNc"
      },
      "source": [
        "\n",
        "<h3 id=\"Синхронизация-потоков\">Синхронизация потоков<a class=\"anchor-link\" href=\"#Синхронизация-потоков\"></a></h3><ul>\n",
        "<li>Очереди</li>\n",
        "<li>Блокировки</li>\n",
        "<li>Условные переменные</li>\n",
        "</ul>\n"
      ]
    },
    {
      "cell_type": "markdown",
      "metadata": {
        "id": "OU7sOfDtsN61"
      },
      "source": [
        "В многопоточной программе доступ к объектам иногда нужно синхронизировать.\n",
        "Часто для синхронизации потоков используют блокировки.\n",
        "Любые блокировки замедляют выполнение программы.\n",
        "\n",
        "Лучше избегать использование блокировок \n",
        "и отдавать предпочтение обмену данными через очереди."
      ]
    },
    {
      "cell_type": "code",
      "metadata": {
        "colab": {
          "base_uri": "https://localhost:8080/"
        },
        "id": "fZEBPW5rhFNe",
        "outputId": "e12d59f1-7814-454b-85ac-80ccfdbd0bfb"
      },
      "source": [
        "# Очереди, модуль queue\n",
        "from queue import Queue\n",
        "from threading import Thread\n",
        "\n",
        "def worker(q, n):\n",
        "    while True:\n",
        "        item = q.get()\n",
        "        if item is None:\n",
        "            break\n",
        "        print(\"process data:\", n, item)\n",
        "\n",
        "q = Queue(5)\n",
        "th1 = Thread(target=worker, args=(q, 1))\n",
        "th2 = Thread(target=worker, args=(q, 2))\n",
        "th1.start(); th2.start()\n",
        "\n",
        "for i in range(40):\n",
        "    q.put(i)\n",
        "\n",
        "q.put(None); q.put(None)\n",
        "th1.join(); th2.join()"
      ],
      "execution_count": 27,
      "outputs": [
        {
          "output_type": "stream",
          "name": "stdout",
          "text": [
            "process data: 1 0\n",
            "process data: 1 1\n",
            "process data: 1 2\n",
            "process data: 1 3\n",
            "process data: 1 4\n",
            "process data: 1 5\n",
            "process data: 1 6\n",
            "process data: 1 7\n",
            "process data: 1 8\n",
            "process data: 1 9\n",
            "process data: 1 10\n",
            "process data: 1 11\n",
            "process data: 1 12\n",
            "process data: 1 13\n",
            "process data: 1 14\n",
            "process data: 1 15\n",
            "process data: 1 16\n",
            "process data: 1 17\n",
            "process data: 1 18\n",
            "process data: 1 19\n",
            "process data: 1 20\n",
            "process data: 1 21\n",
            "process data: 1 22\n",
            "process data: 1 23\n",
            "process data: 1 24\n",
            "process data: 1 25\n",
            "process data: 1 26\n",
            "process data: 1 27\n",
            "process data: 1 28\n",
            "process data: 1 29\n",
            "process data: 1 30\n",
            "process data: 1 31\n",
            "process data:process data: 2  33\n",
            "process data: 2 34\n",
            "process data: 2 35\n",
            "1 process data: 2 36\n",
            "process data: 232\n",
            "process data: 1  37\n",
            "process data: 2 3938\n",
            "\n"
          ]
        }
      ]
    },
    {
      "cell_type": "markdown",
      "metadata": {
        "id": "jopsuZNnsZb3"
      },
      "source": [
        "Создаем очередь с максимальным размером 5.  \n",
        "Используем методы `put()` для того, чтобы поместить данные в очередь\n",
        "и `get()` для того, чтобы забрать данные из очереди.\n",
        "\n",
        "Использование очередей делает код выполняемой программы более простым.\n",
        "И по возможности лучше разрабатывать код таким образом,\n",
        "чтобы не было глобального разделяемого ресурса или состояния."
      ]
    },
    {
      "cell_type": "code",
      "metadata": {
        "colab": {
          "base_uri": "https://localhost:8080/"
        },
        "id": "wBuwSH8PhFNf",
        "outputId": "0cda77ae-d5fc-45e6-c018-7542f57b959d"
      },
      "source": [
        "# Синхронизация потоков, race condition\n",
        "\n",
        "import threading\n",
        "\n",
        "class Point(object):\n",
        "    def __init__(self, x, y):\n",
        "        self.set(x, y)\n",
        "\n",
        "    def get(self):\n",
        "        return (self.x, self.y)\n",
        "\n",
        "    def set(self, x, y):\n",
        "        self.x = x\n",
        "        self.y = y\n",
        "\n",
        "# use in threads\n",
        "my_point = Point(10, 20)\n",
        "my_point.set(15, 10)\n",
        "my_point.get()"
      ],
      "execution_count": null,
      "outputs": [
        {
          "output_type": "execute_result",
          "data": {
            "text/plain": [
              "(15, 10)"
            ]
          },
          "metadata": {},
          "execution_count": 14
        }
      ]
    },
    {
      "cell_type": "code",
      "metadata": {
        "colab": {
          "base_uri": "https://localhost:8080/"
        },
        "id": "jevyzMTwhFNf",
        "outputId": "cfe8b174-8ce8-4885-852c-abd624ccaf90"
      },
      "source": [
        "# Синхронизация потоков, блокировки\n",
        "\n",
        "import threading\n",
        "\n",
        "class Point(object):\n",
        "    def __init__(self, x, y):\n",
        "        self.mutex = threading.RLock()\n",
        "        self.set(x, y)\n",
        "\n",
        "    def get(self):\n",
        "        with self.mutex:\n",
        "            return (self.x, self.y)\n",
        "\n",
        "    def set(self, x, y):\n",
        "        with self.mutex:\n",
        "            self.x = x\n",
        "            self.y = y\n",
        "\n",
        "# use in threads\n",
        "my_point = Point(10, 20)\n",
        "my_point.set(15, 10)\n",
        "my_point.get()"
      ],
      "execution_count": null,
      "outputs": [
        {
          "output_type": "execute_result",
          "data": {
            "text/plain": [
              "(15, 10)"
            ]
          },
          "metadata": {},
          "execution_count": 15
        }
      ]
    },
    {
      "cell_type": "markdown",
      "metadata": {
        "id": "7dM-6xpisgrG"
      },
      "source": [
        "Этот код гарантирует, что если объект класса Point будет использоваться в разных потоках, то изменение x и y будет всегда атомарным.\n",
        "\n",
        "Работает все это так: при вызове метода берем блокировку через with self._mutex.  \n",
        "Весь код внутри with блока будет выполнятся только в одном потоке.\n",
        "\n",
        "Другими словами, если два разных потока вызовут .get то пока первый поток не выйдет из блока \n",
        "второй будет его ждать - и только потом продолжит выполнение.\n",
        "\n",
        "Зачем это все нужно? Координаты нужно менять одновременно - ведь точка это атомарный объект.\n",
        "Если позволить одному потоку поменять x, а другой в это же время поправит, y\n",
        "логика алгоритма может сломаться."
      ]
    },
    {
      "cell_type": "code",
      "metadata": {
        "id": "NeU1jNdAhFNg"
      },
      "source": [
        "# Синхронизация потоков, блокировки\n",
        "\n",
        "import threading\n",
        "\n",
        "\n",
        "a = threading.RLock()\n",
        "b = threading.RLock()\n",
        "\n",
        "def foo():\n",
        "    try:\n",
        "        a.acquire()\n",
        "        b.acquire()\n",
        "    finally:\n",
        "        a.release()\n",
        "        b.release()"
      ],
      "execution_count": null,
      "outputs": []
    },
    {
      "cell_type": "code",
      "metadata": {
        "id": "y1LRy7yHhFNg"
      },
      "source": [
        "# Синхронизация потоков, условные переменные\n",
        "\n",
        "class Queue(object):\n",
        "    def __init__(self, size=5):\n",
        "        self._size = size\n",
        "        self._queue = []\n",
        "        self._mutex = threading.RLock()\n",
        "        self._empty = threading.Condition(self._mutex)\n",
        "        self._full = threading.Condition(self._mutex)\n",
        "    \n",
        "    def put(self, val):\n",
        "        with self._full:\n",
        "            while len(self._queue) >= self._size:\n",
        "                self._full.wait()\n",
        "            \n",
        "            self._queue.append(val)\n",
        "            self._empty.notify()\n",
        "\n",
        "    def get(self):\n",
        "        with self._empty:\n",
        "            while len(self._queue) == 0:\n",
        "                self._empty.wait()\n",
        "            \n",
        "            ret = self._queue.pop(0)\n",
        "            self._full.notify()\n",
        "            return ret"
      ],
      "execution_count": null,
      "outputs": []
    },
    {
      "cell_type": "markdown",
      "metadata": {
        "id": "BssgslgkhFNh"
      },
      "source": [
        "\n",
        "<h3 id=\"Глобальная-блокировка-интерпретатора,-GIL\">Глобальная блокировка интерпретатора, GIL<a class=\"anchor-link\" href=\"#Глобальная-блокировка-интерпретатора,-GIL\"></a></h3><ul>\n",
        "<li>Что такое Global Interpreter Lock?</li>\n",
        "<li>Зачем нужен GIL?</li>\n",
        "<li>GIL и системные вызовы</li>\n",
        "</ul>\n"
      ]
    },
    {
      "cell_type": "markdown",
      "metadata": {
        "id": "-LtYNrkNszas"
      },
      "source": [
        "GIL - это достаточно сложная тема в Python.\n",
        "Для более глубокого понимания того, как работают потоки,\n",
        "нужно иметь общее представление, зачем нужен GIL и как он устроен.\n",
        "\n",
        "GIL защищает память интерпретатора от повреждений и делает операции атомарными.\n",
        "\n",
        "Поток, владеющий GIL, не отдает его, пока об этом не попросят.\n",
        "Потоки засыпают на 5 мс. для ожидания GIL.\n",
        "Сам GIL устроен как обычная нерекурсивная блокировка. Эта же структура лежит в основе threading.Lock. \n",
        "\n",
        "Когда Python делает системный вызов или вызов из внешней библиотеки, он отключает механизм GIL.\n",
        "После того, как функция вернет управление, снова включает его.\n",
        "\n",
        "Т.е. потоки при своем выполнении так или иначе вынуждены получать GIL.\n",
        "Именно поэтому многопоточные программы, требующие больших вычислений,\n",
        "могут выполняться медленней, чем однопоточные."
      ]
    },
    {
      "cell_type": "code",
      "metadata": {
        "colab": {
          "base_uri": "https://localhost:8080/"
        },
        "id": "DifsqHkshFNi",
        "outputId": "93a47374-d32f-4427-f3a8-af20492d968f"
      },
      "source": [
        "# cpu bound programm\n",
        "\n",
        "from threading import Thread\n",
        "import time\n",
        "\n",
        "def count(n):\n",
        "    while n > 0:\n",
        "        n -= 1\n",
        "\n",
        "# series run\n",
        "t0 = time.time()\n",
        "count(100_000_000)\n",
        "count(100_000_000)\n",
        "print(time.time() - t0)\n",
        "\n",
        "# parallel run\n",
        "t0 = time.time()\n",
        "th1 = Thread(target=count, args=(100_000_000,))\n",
        "th2 = Thread(target=count, args=(100_000_000,))\n",
        "\n",
        "th1.start(); th2.start()\n",
        "th1.join(); th2.join()\n",
        "print(time.time() - t0)"
      ],
      "execution_count": null,
      "outputs": [
        {
          "output_type": "stream",
          "name": "stdout",
          "text": [
            "28.54827880859375\n",
            "27.99934434890747\n"
          ]
        }
      ]
    },
    {
      "cell_type": "code",
      "metadata": {
        "id": "505nwSsNhFNi"
      },
      "source": [
        "# как выполняется поток?\n",
        "\n",
        "a      r      a            r              a          r    a\n",
        "  run  |------|    run     |--------------|   run    |----| run\n",
        "------>|  IO  |----------->|      IO      |--------->| IO |----->\n",
        "       |------|            |--------------|          |----|\n",
        "a      r      a            r              a          r    a\n",
        "\n",
        "a - acquire GIL\n",
        "r - release GIL"
      ],
      "execution_count": null,
      "outputs": []
    }
  ]
}