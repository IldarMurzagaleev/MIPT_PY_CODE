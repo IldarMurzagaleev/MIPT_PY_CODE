{
  "nbformat": 4,
  "nbformat_minor": 0,
  "metadata": {
    "colab": {
      "name": "Семинар, классы, 23.09.ipynb",
      "provenance": [],
      "collapsed_sections": [],
      "authorship_tag": "ABX9TyMktvlG2f2hU11IaADr4O6f",
      "include_colab_link": true
    },
    "kernelspec": {
      "name": "python3",
      "display_name": "Python 3"
    },
    "language_info": {
      "name": "python"
    }
  },
  "cells": [
    {
      "cell_type": "markdown",
      "metadata": {
        "id": "view-in-github",
        "colab_type": "text"
      },
      "source": [
        "<a href=\"https://colab.research.google.com/github/pythonkvs/seminars/blob/main/%D0%A1%D0%B5%D0%BC%D0%B8%D0%BD%D0%B0%D1%80_%D0%BA%D0%BB%D0%B0%D1%81%D1%81%D1%8B_23_09.ipynb\" target=\"_parent\"><img src=\"https://colab.research.google.com/assets/colab-badge.svg\" alt=\"Open In Colab\"/></a>"
      ]
    },
    {
      "cell_type": "markdown",
      "metadata": {
        "id": "w-3L6TDxfuN8"
      },
      "source": [
        "# Синтаксис объявления классов"
      ]
    },
    {
      "cell_type": "code",
      "metadata": {
        "id": "tGB-euA7gLxO"
      },
      "source": [
        "class TimeInterval:\n",
        "    pass"
      ],
      "execution_count": 1,
      "outputs": []
    },
    {
      "cell_type": "code",
      "metadata": {
        "id": "VUZ75FUsMZLH"
      },
      "source": [
        "interval = TimeInterval()"
      ],
      "execution_count": 2,
      "outputs": []
    },
    {
      "cell_type": "code",
      "metadata": {
        "colab": {
          "base_uri": "https://localhost:8080/"
        },
        "id": "BkH-YEUJMTwj",
        "outputId": "312486a6-f085-4d31-81a8-d63bb0c00238"
      },
      "source": [
        "type(interval)"
      ],
      "execution_count": 3,
      "outputs": [
        {
          "output_type": "execute_result",
          "data": {
            "text/plain": [
              "__main__.TimeInterval"
            ]
          },
          "metadata": {},
          "execution_count": 3
        }
      ]
    },
    {
      "cell_type": "code",
      "metadata": {
        "colab": {
          "base_uri": "https://localhost:8080/"
        },
        "id": "d4zat74dMVEl",
        "outputId": "671dc4cb-5e48-49fe-b2f9-e69585d247f5"
      },
      "source": [
        "type(TimeInterval)"
      ],
      "execution_count": 4,
      "outputs": [
        {
          "output_type": "execute_result",
          "data": {
            "text/plain": [
              "type"
            ]
          },
          "metadata": {},
          "execution_count": 4
        }
      ]
    },
    {
      "cell_type": "code",
      "metadata": {
        "colab": {
          "base_uri": "https://localhost:8080/"
        },
        "id": "epFomUQ3MWHQ",
        "outputId": "b157337f-d4a7-4886-9781-66b0ef0a49b5"
      },
      "source": [
        "TimeInterval is type(interval)"
      ],
      "execution_count": 5,
      "outputs": [
        {
          "output_type": "execute_result",
          "data": {
            "text/plain": [
              "True"
            ]
          },
          "metadata": {},
          "execution_count": 5
        }
      ]
    },
    {
      "cell_type": "code",
      "metadata": {
        "colab": {
          "base_uri": "https://localhost:8080/"
        },
        "id": "niKgjNR2MXWL",
        "outputId": "53676495-eff8-4dfd-a004-e2acdc856397"
      },
      "source": [
        "isinstance(interval, TimeInterval)"
      ],
      "execution_count": 6,
      "outputs": [
        {
          "output_type": "execute_result",
          "data": {
            "text/plain": [
              "True"
            ]
          },
          "metadata": {},
          "execution_count": 6
        }
      ]
    },
    {
      "cell_type": "markdown",
      "metadata": {
        "id": "h2snWoZlMHyM"
      },
      "source": [
        "# Конструирование"
      ]
    },
    {
      "cell_type": "code",
      "metadata": {
        "collapsed": true,
        "id": "3pI7f68mMHyN"
      },
      "source": [
        "class TimeInterval:\n",
        "    def __init__(self, begin, end):\n",
        "        self.begin = begin\n",
        "        self.end = end"
      ],
      "execution_count": 7,
      "outputs": []
    },
    {
      "cell_type": "code",
      "metadata": {
        "collapsed": true,
        "id": "ivSJICf7MHyN"
      },
      "source": [
        "from datetime import datetime\n",
        "interval = TimeInterval(\n",
        "    datetime(year=2018, month=1, day=1),\n",
        "    datetime(year=2019, month=1, day=2),\n",
        ")"
      ],
      "execution_count": 8,
      "outputs": []
    },
    {
      "cell_type": "code",
      "metadata": {
        "id": "bcyJN74JMHyN",
        "colab": {
          "base_uri": "https://localhost:8080/"
        },
        "outputId": "354eccbd-b1c8-4d36-be0f-5dceb4007150"
      },
      "source": [
        "interval.begin"
      ],
      "execution_count": 9,
      "outputs": [
        {
          "output_type": "execute_result",
          "data": {
            "text/plain": [
              "datetime.datetime(2018, 1, 1, 0, 0)"
            ]
          },
          "metadata": {},
          "execution_count": 9
        }
      ]
    },
    {
      "cell_type": "markdown",
      "metadata": {
        "id": "_n_A0qZKMHyO"
      },
      "source": [
        "# Атрибуты"
      ]
    },
    {
      "cell_type": "code",
      "metadata": {
        "id": "sYJ9SPVUMHyO",
        "colab": {
          "base_uri": "https://localhost:8080/"
        },
        "outputId": "6ebd935c-0383-402e-e9d1-e998efc58fa7"
      },
      "source": [
        "interval.xxx = 42\n",
        "interval.xxx"
      ],
      "execution_count": 10,
      "outputs": [
        {
          "output_type": "execute_result",
          "data": {
            "text/plain": [
              "42"
            ]
          },
          "metadata": {},
          "execution_count": 10
        }
      ]
    },
    {
      "cell_type": "code",
      "metadata": {
        "id": "z90Fxjw5MHyO",
        "colab": {
          "base_uri": "https://localhost:8080/",
          "height": 171
        },
        "outputId": "b9222f29-e7cb-4270-cd3d-2cd9e03a9e0c"
      },
      "source": [
        "interval.not_found"
      ],
      "execution_count": 11,
      "outputs": [
        {
          "output_type": "error",
          "ename": "AttributeError",
          "evalue": "ignored",
          "traceback": [
            "\u001b[0;31m---------------------------------------------------------------------------\u001b[0m",
            "\u001b[0;31mAttributeError\u001b[0m                            Traceback (most recent call last)",
            "\u001b[0;32m<ipython-input-11-906eac79d4f5>\u001b[0m in \u001b[0;36m<module>\u001b[0;34m()\u001b[0m\n\u001b[0;32m----> 1\u001b[0;31m \u001b[0minterval\u001b[0m\u001b[0;34m.\u001b[0m\u001b[0mnot_found\u001b[0m\u001b[0;34m\u001b[0m\u001b[0;34m\u001b[0m\u001b[0m\n\u001b[0m",
            "\u001b[0;31mAttributeError\u001b[0m: 'TimeInterval' object has no attribute 'not_found'"
          ]
        }
      ]
    },
    {
      "cell_type": "markdown",
      "metadata": {
        "id": "Jpu1hoCoMHyO"
      },
      "source": [
        "# Методы"
      ]
    },
    {
      "cell_type": "code",
      "metadata": {
        "collapsed": true,
        "id": "lxJc78rgMHyO"
      },
      "source": [
        "class TimeInterval:\n",
        "    def __init__(self, begin, end):\n",
        "        self.begin = begin\n",
        "        self.end = end\n",
        "        \n",
        "    def get_length(self):\n",
        "        return self.end - self.begin"
      ],
      "execution_count": 12,
      "outputs": []
    },
    {
      "cell_type": "code",
      "metadata": {
        "id": "k5hA2NUvMHyP",
        "colab": {
          "base_uri": "https://localhost:8080/"
        },
        "outputId": "842eb07a-d214-49df-c690-502a7e075c43"
      },
      "source": [
        "interval = TimeInterval(datetime(year=2016, month=1, day=1), datetime.now())\n",
        "interval = TimeInterval(\n",
        "    datetime(year=2018, month=1, day=1),\n",
        "    datetime(year=2018, month=1, day=2),\n",
        ")\n",
        "interval.get_length().total_seconds()"
      ],
      "execution_count": 13,
      "outputs": [
        {
          "output_type": "execute_result",
          "data": {
            "text/plain": [
              "86400.0"
            ]
          },
          "metadata": {},
          "execution_count": 13
        }
      ]
    },
    {
      "cell_type": "code",
      "metadata": {
        "id": "_ejfiHJCMHyP",
        "colab": {
          "base_uri": "https://localhost:8080/",
          "height": 171
        },
        "outputId": "70cf9e71-2845-4da6-d3c8-d049f1e5cc53"
      },
      "source": [
        "interval.unknown_method()"
      ],
      "execution_count": 14,
      "outputs": [
        {
          "output_type": "error",
          "ename": "AttributeError",
          "evalue": "ignored",
          "traceback": [
            "\u001b[0;31m---------------------------------------------------------------------------\u001b[0m",
            "\u001b[0;31mAttributeError\u001b[0m                            Traceback (most recent call last)",
            "\u001b[0;32m<ipython-input-14-6be51c14208d>\u001b[0m in \u001b[0;36m<module>\u001b[0;34m()\u001b[0m\n\u001b[0;32m----> 1\u001b[0;31m \u001b[0minterval\u001b[0m\u001b[0;34m.\u001b[0m\u001b[0munknown_method\u001b[0m\u001b[0;34m(\u001b[0m\u001b[0;34m)\u001b[0m\u001b[0;34m\u001b[0m\u001b[0;34m\u001b[0m\u001b[0m\n\u001b[0m",
            "\u001b[0;31mAttributeError\u001b[0m: 'TimeInterval' object has no attribute 'unknown_method'"
          ]
        }
      ]
    },
    {
      "cell_type": "markdown",
      "metadata": {
        "id": "M0MUZmFFOg1J"
      },
      "source": [
        "### `Связанные методы`"
      ]
    },
    {
      "cell_type": "markdown",
      "metadata": {
        "id": "coxgdScuPFRR"
      },
      "source": [
        "Связанные методы экземпляра - пара self + функция.\n",
        "\n",
        "Попытка обращения к функциональному атрибуту класса через имя экземпляра возвращает объект связанного метода. Интерпретатор автоматически упаковывает экземпляр с функцией в объект связанного метода, поэтому вам не требуется передавать экземпляр в вызов такого метода."
      ]
    },
    {
      "cell_type": "code",
      "metadata": {
        "colab": {
          "base_uri": "https://localhost:8080/"
        },
        "id": "o1K-MoVLRQFF",
        "outputId": "1ba967ef-4127-40bd-d5b2-12f2cc52a8bf"
      },
      "source": [
        "class Spam:\n",
        "    def doit(self, message):\n",
        "        print(message)\n",
        "\n",
        "object1 = Spam()\n",
        "object1.doit('hello world')"
      ],
      "execution_count": 15,
      "outputs": [
        {
          "output_type": "stream",
          "name": "stdout",
          "text": [
            "hello world\n"
          ]
        }
      ]
    },
    {
      "cell_type": "markdown",
      "metadata": {
        "id": "QAV7mbxQRTh2"
      },
      "source": [
        "Создается объект связанного метода object1.doit, в который упакованы вместе экземпляр object1 и метод Spam.doit"
      ]
    },
    {
      "cell_type": "markdown",
      "metadata": {
        "id": "-c-ED2_ORba0"
      },
      "source": [
        "Можно присвоить этот объект переменной и использовать переменную для вызова как простую функцию:"
      ]
    },
    {
      "cell_type": "code",
      "metadata": {
        "colab": {
          "base_uri": "https://localhost:8080/"
        },
        "id": "rLvVl3x_RdaP",
        "outputId": "0a71a0c1-5114-4cfb-8086-d6a18407befa"
      },
      "source": [
        "x = object1.doit    # Объект связанного метода: экземпляр + функция\n",
        "print(repr(x))\n",
        "\n",
        "x('hello world')    # То же, что и object1.doit('...')"
      ],
      "execution_count": 16,
      "outputs": [
        {
          "output_type": "stream",
          "name": "stdout",
          "text": [
            "<bound method Spam.doit of <__main__.Spam object at 0x7f7086a0ffd0>>\n",
            "hello world\n"
          ]
        }
      ]
    },
    {
      "cell_type": "markdown",
      "metadata": {
        "id": "lFMQBJnUOlS2"
      },
      "source": [
        "### `Несвязанные методы (в прежнем виде нет, есть function)`"
      ]
    },
    {
      "cell_type": "markdown",
      "metadata": {
        "id": "lkN2viogjkwK"
      },
      "source": [
        "https://riptutorial.com/python/example/1401/bound--unbound--and-static-methods"
      ]
    },
    {
      "cell_type": "markdown",
      "metadata": {
        "id": "VboLBpjMRjIk"
      },
      "source": [
        "Вызовем метод через имя класса:"
      ]
    },
    {
      "cell_type": "code",
      "metadata": {
        "colab": {
          "base_uri": "https://localhost:8080/"
        },
        "id": "IqeOkMldRueT",
        "outputId": "c6dc49e5-69d1-403e-a157-e8c90fd2d28c"
      },
      "source": [
        "object1 = Spam()\n",
        "t = Spam.doit # раньше - объект несвязанного метода <unbound method Spam.doit> (in Python 2.x), \n",
        "              # сейчас просто function object <function __main__.Spam.doit>\n",
        "print(repr(t))\n",
        "\n",
        "t(object1, 'howdy') # Передать экземпляр в первый аргумент"
      ],
      "execution_count": 17,
      "outputs": [
        {
          "output_type": "stream",
          "name": "stdout",
          "text": [
            "<function Spam.doit at 0x7f7086a20b90>\n",
            "howdy\n"
          ]
        }
      ]
    },
    {
      "cell_type": "markdown",
      "metadata": {
        "id": "EZIpG1fxTy2V"
      },
      "source": [
        "# `__dict__`\n",
        "\n",
        "\n",
        "- Для большого числа типов в Python определена переменная-словарь `__dict__`\n",
        "- Она содержит атрибуты, специфичные для данного объекта (не его класса и не его родителей)\n",
        "- Множество элементов `__dict__` является подмножеством элементов, возвращаемых функцией `dir()`"
      ]
    },
    {
      "cell_type": "code",
      "metadata": {
        "id": "3ZywT-m_Ty2V",
        "colab": {
          "base_uri": "https://localhost:8080/",
          "height": 282
        },
        "outputId": "3d6bbca5-06ef-4d78-e936-cf1c2288d647"
      },
      "source": [
        "class A: pass\n",
        "\n",
        "print(set(A.__dict__.keys()).issubset(set(dir(A))))\n",
        "\n",
        "print(set(dir(A)))\n",
        "print(set(A.__dict__.keys()))\n",
        "\n",
        "\n",
        "[].__dict__"
      ],
      "execution_count": 18,
      "outputs": [
        {
          "output_type": "stream",
          "name": "stdout",
          "text": [
            "True\n",
            "{'__hash__', '__eq__', '__subclasshook__', '__init_subclass__', '__weakref__', '__class__', '__sizeof__', '__doc__', '__dir__', '__le__', '__ge__', '__gt__', '__init__', '__str__', '__setattr__', '__delattr__', '__ne__', '__module__', '__lt__', '__format__', '__getattribute__', '__dict__', '__repr__', '__reduce_ex__', '__new__', '__reduce__'}\n",
            "{'__dict__', '__module__', '__weakref__', '__doc__'}\n"
          ]
        },
        {
          "output_type": "error",
          "ename": "AttributeError",
          "evalue": "ignored",
          "traceback": [
            "\u001b[0;31m---------------------------------------------------------------------------\u001b[0m",
            "\u001b[0;31mAttributeError\u001b[0m                            Traceback (most recent call last)",
            "\u001b[0;32m<ipython-input-18-9afaeb420059>\u001b[0m in \u001b[0;36m<module>\u001b[0;34m()\u001b[0m\n\u001b[1;32m      7\u001b[0m \u001b[0;34m\u001b[0m\u001b[0m\n\u001b[1;32m      8\u001b[0m \u001b[0;34m\u001b[0m\u001b[0m\n\u001b[0;32m----> 9\u001b[0;31m \u001b[0;34m[\u001b[0m\u001b[0;34m]\u001b[0m\u001b[0;34m.\u001b[0m\u001b[0m__dict__\u001b[0m\u001b[0;34m\u001b[0m\u001b[0;34m\u001b[0m\u001b[0m\n\u001b[0m",
            "\u001b[0;31mAttributeError\u001b[0m: 'list' object has no attribute '__dict__'"
          ]
        }
      ]
    },
    {
      "cell_type": "markdown",
      "metadata": {
        "id": "zSOVpfRzMHyk"
      },
      "source": [
        "# `__slots__`"
      ]
    },
    {
      "cell_type": "code",
      "metadata": {
        "collapsed": true,
        "id": "_ikPHKBrMHyk"
      },
      "source": [
        "class TimeInterval:\n",
        "    __slots__ = ['_begin', '_end']\n",
        "    \n",
        "    def __init__(self, begin, end):\n",
        "        self._begin = begin\n",
        "        self._end = end\n",
        "        \n",
        "    def get_length(self):\n",
        "        return self._end - self._begin"
      ],
      "execution_count": 19,
      "outputs": []
    },
    {
      "cell_type": "code",
      "metadata": {
        "id": "Jrbps2yiMHyk",
        "colab": {
          "base_uri": "https://localhost:8080/",
          "height": 207
        },
        "outputId": "a1d0cd1e-0f39-43cb-948e-43f47b1df75d"
      },
      "source": [
        "from datetime import datetime\n",
        "interval = TimeInterval(datetime(2018, 1, 1), datetime(2018, 1, 2))\n",
        "interval.xxx = 123"
      ],
      "execution_count": 20,
      "outputs": [
        {
          "output_type": "error",
          "ename": "AttributeError",
          "evalue": "ignored",
          "traceback": [
            "\u001b[0;31m---------------------------------------------------------------------------\u001b[0m",
            "\u001b[0;31mAttributeError\u001b[0m                            Traceback (most recent call last)",
            "\u001b[0;32m<ipython-input-20-52c33010e10e>\u001b[0m in \u001b[0;36m<module>\u001b[0;34m()\u001b[0m\n\u001b[1;32m      1\u001b[0m \u001b[0;32mfrom\u001b[0m \u001b[0mdatetime\u001b[0m \u001b[0;32mimport\u001b[0m \u001b[0mdatetime\u001b[0m\u001b[0;34m\u001b[0m\u001b[0;34m\u001b[0m\u001b[0m\n\u001b[1;32m      2\u001b[0m \u001b[0minterval\u001b[0m \u001b[0;34m=\u001b[0m \u001b[0mTimeInterval\u001b[0m\u001b[0;34m(\u001b[0m\u001b[0mdatetime\u001b[0m\u001b[0;34m(\u001b[0m\u001b[0;36m2018\u001b[0m\u001b[0;34m,\u001b[0m \u001b[0;36m1\u001b[0m\u001b[0;34m,\u001b[0m \u001b[0;36m1\u001b[0m\u001b[0;34m)\u001b[0m\u001b[0;34m,\u001b[0m \u001b[0mdatetime\u001b[0m\u001b[0;34m(\u001b[0m\u001b[0;36m2018\u001b[0m\u001b[0;34m,\u001b[0m \u001b[0;36m1\u001b[0m\u001b[0;34m,\u001b[0m \u001b[0;36m2\u001b[0m\u001b[0;34m)\u001b[0m\u001b[0;34m)\u001b[0m\u001b[0;34m\u001b[0m\u001b[0;34m\u001b[0m\u001b[0m\n\u001b[0;32m----> 3\u001b[0;31m \u001b[0minterval\u001b[0m\u001b[0;34m.\u001b[0m\u001b[0mxxx\u001b[0m \u001b[0;34m=\u001b[0m \u001b[0;36m123\u001b[0m\u001b[0;34m\u001b[0m\u001b[0;34m\u001b[0m\u001b[0m\n\u001b[0m",
            "\u001b[0;31mAttributeError\u001b[0m: 'TimeInterval' object has no attribute 'xxx'"
          ]
        }
      ]
    },
    {
      "cell_type": "markdown",
      "metadata": {
        "id": "Op7hme6QWrWT"
      },
      "source": [
        "# Методы экземпляра класса, методы класса, статические методы"
      ]
    },
    {
      "cell_type": "code",
      "metadata": {
        "id": "xIZRUPxAWqHS"
      },
      "source": [
        "class ToyClass:\n",
        "    def instancemethod(self):\n",
        "        return 'instance method called', self\n",
        "    \n",
        "    @classmethod\n",
        "    def classmethod(cls):\n",
        "        return 'class method called', cls\n",
        "    @staticmethod\n",
        "    def staticmethod():\n",
        "        return 'static method called'"
      ],
      "execution_count": 21,
      "outputs": []
    },
    {
      "cell_type": "markdown",
      "metadata": {
        "id": "vmMhydODXjVf"
      },
      "source": [
        "### `Методы экземпляра класса`"
      ]
    },
    {
      "cell_type": "markdown",
      "metadata": {
        "id": "P-kZN3hVXnvw"
      },
      "source": [
        "Это наиболее часто используемый вид методов. Методы экземпляра класса принимают объект класса как первый аргумент, который принято называть self и который указывает на сам экземпляр. Количество параметров метода не ограничено.\n",
        "Используя параметр self , мы можем менять состояние объекта и обращаться к другим его методам и параметрам. К тому же, используя атрибут `self.__class__` , мы получаем доступ к атрибутам класса и возможности менять состояние самого класса. То есть методы экземпляров класса позволяют менять как состояние определённого объекта, так и класса."
      ]
    },
    {
      "cell_type": "code",
      "metadata": {
        "colab": {
          "base_uri": "https://localhost:8080/",
          "height": 35
        },
        "id": "rVPxCUFvXsn6",
        "outputId": "1dd0bdea-d21c-4abe-fc88-000493bce62e"
      },
      "source": [
        "\"welcome\".upper()   # <- вызывается на строковых данных"
      ],
      "execution_count": 22,
      "outputs": [
        {
          "output_type": "execute_result",
          "data": {
            "application/vnd.google.colaboratory.intrinsic+json": {
              "type": "string"
            },
            "text/plain": [
              "'WELCOME'"
            ]
          },
          "metadata": {},
          "execution_count": 22
        }
      ]
    },
    {
      "cell_type": "markdown",
      "metadata": {
        "id": "E3D9Oh7JXFWe"
      },
      "source": [
        "### `Методы класса`"
      ]
    },
    {
      "cell_type": "markdown",
      "metadata": {
        "id": "p5ChNQEmXK3j"
      },
      "source": [
        "Методы класса привязаны к самому классу, а не его экземпляру. Они могут менять состояние класса, что отразится на всех объектах этого класса, но не могут менять конкретный объект."
      ]
    },
    {
      "cell_type": "code",
      "metadata": {
        "id": "NssaJ1FNXUdR",
        "colab": {
          "base_uri": "https://localhost:8080/"
        },
        "outputId": "f1740cd5-47b2-4275-f47c-3cfba61bfa7e"
      },
      "source": [
        "dict.fromkeys('AEIOU')  # <- вызывается при помощи класса dict"
      ],
      "execution_count": 23,
      "outputs": [
        {
          "output_type": "execute_result",
          "data": {
            "text/plain": [
              "{'A': None, 'E': None, 'I': None, 'O': None, 'U': None}"
            ]
          },
          "metadata": {},
          "execution_count": 23
        }
      ]
    },
    {
      "cell_type": "markdown",
      "metadata": {
        "id": "_uBPgb_-XZXH"
      },
      "source": [
        "### `Статические методы`"
      ]
    },
    {
      "cell_type": "markdown",
      "metadata": {
        "id": "u-iZcFo2XcpI"
      },
      "source": [
        "Статические методы декларируются при помощи декоратора staticmethod. Им не нужен определенный первый аргумент (ни self, ни cls).\n",
        "Их можно воспринимать как методы, которые “не знают, к какому классу относятся”.\n",
        "Таким образом, статические методы прикреплены к классу лишь для удобства и не могут менять состояние ни класса, ни его экземпляра."
      ]
    },
    {
      "cell_type": "code",
      "metadata": {
        "id": "r0Wvs_S4c9HB",
        "colab": {
          "base_uri": "https://localhost:8080/"
        },
        "outputId": "e035ac26-9b0e-489f-b42b-0a1ef04838c8"
      },
      "source": [
        "from datetime import date\n",
        "class Person:\n",
        "    def __init__(self, name, age):\n",
        "        self.name = name\n",
        "        self.age = age\n",
        "    @classmethod\n",
        "    def from_birth_year(cls, name, year):\n",
        "        return cls(name, date.today().year - year)\n",
        "    @staticmethod\n",
        "    def is_adult(age):\n",
        "        return age > 18\n",
        "\n",
        "\n",
        "person1 = Person('Sarah', 25)\n",
        "person2 = Person.from_birth_year('Roark', 1994)\n",
        "\n",
        "person1.name, person1.age\n",
        "#Sarah 25\n",
        "person2.name, person2.age\n",
        "#Roark 24\n",
        "Person.is_adult(25)\n",
        "#True"
      ],
      "execution_count": 24,
      "outputs": [
        {
          "output_type": "execute_result",
          "data": {
            "text/plain": [
              "True"
            ]
          },
          "metadata": {},
          "execution_count": 24
        }
      ]
    },
    {
      "cell_type": "markdown",
      "metadata": {
        "id": "IXuiQtrUcjgu"
      },
      "source": [
        "Чаще всего метод класса используется тогда, когда нужен генерирующий метод, возвращающий объект класса. Как видим, метод класса from_birth_year используется для создания объекта класса Person по году рождения, а не возрасту.\n",
        "Статические методы в основном используются как вспомогательные функции и работают с данными, которые им передаются."
      ]
    },
    {
      "cell_type": "markdown",
      "metadata": {
        "id": "jGkYQLntcn6e"
      },
      "source": [
        "Методы экземпляра класса получают доступ к объекту класса через параметр self и к классу через `self.__class__`.\n",
        "Методы класса не могут получить доступ к определенному объекту класса, но имеют доступ к самому классу через cls.\n",
        "Статические методы работают как обычные функции, но принадлежат области имен класса. Они не имеют доступа ни к самому классу, ни к его экземплярам."
      ]
    },
    {
      "cell_type": "markdown",
      "metadata": {
        "id": "FUcaGuGtMHyW"
      },
      "source": [
        "# Свойства, декоратор @property"
      ]
    },
    {
      "cell_type": "code",
      "metadata": {
        "id": "C9N2Tz96ob3l"
      },
      "source": [
        "class Person:\n",
        "    def __init__(self, name, surname):\n",
        "        self.name = name\n",
        "        self.surname = surname"
      ],
      "execution_count": 25,
      "outputs": []
    },
    {
      "cell_type": "code",
      "metadata": {
        "id": "nfDbHzS7pDY-",
        "colab": {
          "base_uri": "https://localhost:8080/",
          "height": 35
        },
        "outputId": "d9aa888c-1c52-4d60-c911-f8932f6fddbc"
      },
      "source": [
        "class Person:\n",
        "    def __init__(self, name, surname):\n",
        "        self.name = name\n",
        "        self.surname = surname\n",
        "        \n",
        "    @property\n",
        "    def full_name(self):\n",
        "        return self.name + ' ' + self.surname\n",
        "\n",
        "tom = Person('Thomas', 'Smith')\n",
        "tom.full_name\n",
        "# 'Thomas Smith'"
      ],
      "execution_count": 26,
      "outputs": [
        {
          "output_type": "execute_result",
          "data": {
            "application/vnd.google.colaboratory.intrinsic+json": {
              "type": "string"
            },
            "text/plain": [
              "'Thomas Smith'"
            ]
          },
          "metadata": {},
          "execution_count": 26
        }
      ]
    },
    {
      "cell_type": "code",
      "metadata": {
        "id": "3VqI82qgpIoh",
        "colab": {
          "base_uri": "https://localhost:8080/",
          "height": 35
        },
        "outputId": "ffb7ba6b-fe51-4f3c-d498-e753462aeb4a"
      },
      "source": [
        "tom.name = 'Alice'\n",
        "tom.full_name\n",
        "# 'Alice Smith'"
      ],
      "execution_count": 27,
      "outputs": [
        {
          "output_type": "execute_result",
          "data": {
            "application/vnd.google.colaboratory.intrinsic+json": {
              "type": "string"
            },
            "text/plain": [
              "'Alice Smith'"
            ]
          },
          "metadata": {},
          "execution_count": 27
        }
      ]
    },
    {
      "cell_type": "code",
      "metadata": {
        "id": "Qm5xNsLgpKwx"
      },
      "source": [
        "class Person:\n",
        "    def __init__(self, name, surname):\n",
        "        self.name = name\n",
        "        self.surname = surname\n",
        "\n",
        "    @property\n",
        "    def full_name(self):\n",
        "        return self.name + ' ' + self.surname\n",
        "\n",
        "    # сеттер для свойства full_name\n",
        "    @full_name.setter\n",
        "    def full_name(self, new):\n",
        "        self.name, self.surname = new.split(' ')"
      ],
      "execution_count": 28,
      "outputs": []
    },
    {
      "cell_type": "code",
      "metadata": {
        "id": "YWYeU1B3pMz0",
        "colab": {
          "base_uri": "https://localhost:8080/",
          "height": 35
        },
        "outputId": "e2858f17-986e-48e8-92cf-7d429f1f5c10"
      },
      "source": [
        "tom = Person('Thomas', 'Smith')\n",
        "tom.full_name\n",
        "# 'Thomas Smith'\n",
        "\n",
        "tom.full_name = 'Alice Cooper'\n",
        "tom.name\n",
        "# 'Alice'\n",
        "\n",
        "tom.surname\n",
        "# 'Cooper'"
      ],
      "execution_count": 29,
      "outputs": [
        {
          "output_type": "execute_result",
          "data": {
            "application/vnd.google.colaboratory.intrinsic+json": {
              "type": "string"
            },
            "text/plain": [
              "'Cooper'"
            ]
          },
          "metadata": {},
          "execution_count": 29
        }
      ]
    },
    {
      "cell_type": "markdown",
      "metadata": {
        "id": "9pAbHPKvqpHr"
      },
      "source": [
        "```python\n",
        "property(fget=None, fset=None, fdel=None, doc=None)\n",
        "\n",
        "def get_full_name(self):\n",
        "    ...\n",
        "\n",
        "def set_full_name(self, new):\n",
        "    ...\n",
        "\n",
        "class Person:\n",
        "    ...\n",
        "    full_name = property(\n",
        "        fget=get_full_name,\n",
        "        fset=set_full_name,\n",
        "        doc='A full name of person'\n",
        "    )\n",
        "```"
      ]
    },
    {
      "cell_type": "markdown",
      "metadata": {
        "collapsed": true,
        "id": "2s1-nTZrMHyZ"
      },
      "source": [
        "# Наследование"
      ]
    },
    {
      "cell_type": "code",
      "metadata": {
        "id": "YpmWyfqSTy2b",
        "colab": {
          "base_uri": "https://localhost:8080/"
        },
        "outputId": "9c488f1b-2c1f-4630-919b-c98cf58fcd36"
      },
      "source": [
        "class Parent:\n",
        "    def __init__(self):\n",
        "        self.value = 10\n",
        "    \n",
        "    def get_value(self):\n",
        "        return self.value\n",
        "\n",
        "class Child(Parent):\n",
        "    pass\n",
        "\n",
        "class NewChild(Parent):\n",
        "    def __init__(self):\n",
        "        super().__init__()  # without it we will not have `value` field\n",
        "        self.new_value = 20\n",
        "    \n",
        "print(Parent().get_value(), Child().get_value(), NewChild().get_value())\n",
        "\n",
        "print(Child().__dict__)\n",
        "print(NewChild().__dict__)"
      ],
      "execution_count": 30,
      "outputs": [
        {
          "output_type": "stream",
          "name": "stdout",
          "text": [
            "10 10 10\n",
            "{'value': 10}\n",
            "{'value': 10, 'new_value': 20}\n"
          ]
        }
      ]
    },
    {
      "cell_type": "markdown",
      "metadata": {
        "id": "U68ZHeiDTy2c"
      },
      "source": [
        "#Перегрузка родительских методов"
      ]
    },
    {
      "cell_type": "code",
      "metadata": {
        "id": "9dnKifgATy2c",
        "colab": {
          "base_uri": "https://localhost:8080/"
        },
        "outputId": "102d1817-8fcb-414f-e9a8-08cd854a2304"
      },
      "source": [
        "class Parent:\n",
        "    def __init__(self, value):\n",
        "        self._value = value\n",
        "    \n",
        "    def get_value(self):\n",
        "        return self._value\n",
        "\n",
        "    def __str__(self):\n",
        "        return f'Value: {self._value}'\n",
        "\n",
        "class Child(Parent):\n",
        "    def __init__(self, value):\n",
        "        Parent.__init__(self, value)  # == super().__init__(value)\n",
        "\n",
        "    def get_value(self):\n",
        "        return Parent.get_value(self) * 2  # == super().get_value() * 2\n",
        "\n",
        "print(Parent(10).get_value())\n",
        "print(Child(10).get_value())\n",
        "print(Child(10)._value)\n",
        "print(Child(10))"
      ],
      "execution_count": 31,
      "outputs": [
        {
          "output_type": "stream",
          "name": "stdout",
          "text": [
            "10\n",
            "20\n",
            "10\n",
            "Value: 10\n"
          ]
        }
      ]
    },
    {
      "cell_type": "markdown",
      "metadata": {
        "id": "BWPK8ZlxTy2c"
      },
      "source": [
        "# Искаженные (mangled) атрибуты\n",
        "\n",
        "Главное название такого именования - борьба с коллизией важных полей при наследовании (аналог `final` атрибутов в Java):"
      ]
    },
    {
      "cell_type": "code",
      "metadata": {
        "id": "VxeT0txqTy2c",
        "colab": {
          "base_uri": "https://localhost:8080/",
          "height": 72
        },
        "outputId": "e393d6c6-ef7c-44c8-81a1-8a03d27acffd"
      },
      "source": [
        "class Parent:\n",
        "    def __init__(self):\n",
        "        self.__variable = 'Parent'\n",
        "\n",
        "class Child(Parent):\n",
        "    def __init__(self):\n",
        "        self.__variable = 'Child'\n",
        "\n",
        "print(Parent().__dict__)\n",
        "print(Child().__dict__)\n",
        "\n",
        "# Parent.__variable\n",
        "Parent()._Parent__variable"
      ],
      "execution_count": 32,
      "outputs": [
        {
          "output_type": "stream",
          "name": "stdout",
          "text": [
            "{'_Parent__variable': 'Parent'}\n",
            "{'_Child__variable': 'Child'}\n"
          ]
        },
        {
          "output_type": "execute_result",
          "data": {
            "application/vnd.google.colaboratory.intrinsic+json": {
              "type": "string"
            },
            "text/plain": [
              "'Parent'"
            ]
          },
          "metadata": {},
          "execution_count": 32
        }
      ]
    },
    {
      "cell_type": "markdown",
      "metadata": {
        "id": "pHC4lNX9Ty2d"
      },
      "source": [
        "# Множественное наследование\n",
        "\n",
        "- Даёт возможность классу получить методы и свойства сразу нескольких предков<br><br>\n",
        "- Позволяет строить сложные иерархии зависимостей<br><br>\n",
        "- Использовать без необходимости не нужно, поскольку архитектура кода сильно усложняется<br><br>\n",
        "- В Python поддерживается без ограничений<br><br>\n",
        "- У класса может быть один и более предков (`object` есть всегда)"
      ]
    },
    {
      "cell_type": "markdown",
      "metadata": {
        "id": "JZtIRq1lTy2d"
      },
      "source": [
        "# Множественное наследование в Python\n",
        "- Методы и атрибуты ищутся в следующем порядке:<br><br>\n",
        "    1. имя ищется в объекте (т.е. в его `__dict__`)\n",
        "    2. дальше в классе объекта\n",
        "    3. дальше в предках класса<br><br>\n",
        "- Для поиска по предкам используется MRO (Method resolution order)<br><br>\n",
        "- У каждого класса в момент создания вычисляется этот порядок и сохраняется в атрибуте `__mro__`"
      ]
    },
    {
      "cell_type": "code",
      "metadata": {
        "id": "4hEfxNhjTy2d",
        "colab": {
          "base_uri": "https://localhost:8080/"
        },
        "outputId": "8788747d-5a46-4cfa-acd5-3142a45dddfc"
      },
      "source": [
        "class A():\n",
        "    def method(self): return 'A'\n",
        "\n",
        "class B():\n",
        "    def method(self): return 'B'\n",
        "\n",
        "class C(A, B): pass\n",
        "\n",
        "print(C.__mro__)\n",
        "print(C().method())"
      ],
      "execution_count": 33,
      "outputs": [
        {
          "output_type": "stream",
          "name": "stdout",
          "text": [
            "(<class '__main__.C'>, <class '__main__.A'>, <class '__main__.B'>, <class 'object'>)\n",
            "A\n"
          ]
        }
      ]
    },
    {
      "cell_type": "markdown",
      "metadata": {
        "id": "RqULV9WJTy2e"
      },
      "source": [
        "# Вызов метода класса-родителя\n",
        "\n",
        "- В Python есть два способа обращения к родительским методам<br><br>\n",
        "    - через функцию `super` (использует порядок mro)\n",
        "    - напрямую по имени<br><br>"
      ]
    },
    {
      "cell_type": "code",
      "metadata": {
        "id": "A3WEVLtMTy2e",
        "colab": {
          "base_uri": "https://localhost:8080/"
        },
        "outputId": "8090f8ab-1fa6-45d2-ec2b-e38760a6eb9d"
      },
      "source": [
        "class A():\n",
        "    def method(self): return 'A'\n",
        "\n",
        "class B():\n",
        "    def method(self): return 'B'\n",
        "\n",
        "class C(A, B):\n",
        "    def method(self):\n",
        "        return (A.method(self), B.method(self), super().method())\n",
        "\n",
        "print(C.__mro__)\n",
        "print(C().method())"
      ],
      "execution_count": 34,
      "outputs": [
        {
          "output_type": "stream",
          "name": "stdout",
          "text": [
            "(<class '__main__.C'>, <class '__main__.A'>, <class '__main__.B'>, <class 'object'>)\n",
            "('A', 'B', 'A')\n"
          ]
        }
      ]
    },
    {
      "cell_type": "markdown",
      "metadata": {
        "id": "MMqUOrIug6Hb"
      },
      "source": [
        "# Декораторы классов"
      ]
    },
    {
      "cell_type": "markdown",
      "metadata": {
        "id": "F6dPg9vLwmqP"
      },
      "source": [
        "### `Пример декоратора функции`\n",
        "\n",
        "Опишем декоратор, замеряющий время работы функции:"
      ]
    },
    {
      "cell_type": "code",
      "metadata": {
        "id": "mtMyh0QYwmqP"
      },
      "source": [
        "def timed(callable_obj):\n",
        "    import time\n",
        "\n",
        "    def __timed(*args, **kwargs):\n",
        "        time_start = time.time()\n",
        "        result = callable_obj(*args, **kwargs)\n",
        "        time_end = time.time()\n",
        "        \n",
        "        print('{}  {:.3f} ms'.format(callable_obj.__name__,\n",
        "                                     (time_end - time_start) * 1000))\n",
        "        return result\n",
        "\n",
        "    return __timed"
      ],
      "execution_count": 35,
      "outputs": []
    },
    {
      "cell_type": "code",
      "metadata": {
        "id": "JC240Y2jwmqP",
        "colab": {
          "base_uri": "https://localhost:8080/"
        },
        "outputId": "185edc05-5037-4b66-f4c0-f466229134e4"
      },
      "source": [
        "@timed\n",
        "def func():\n",
        "    for i in range(1000000):\n",
        "        pass\n",
        "func()"
      ],
      "execution_count": 36,
      "outputs": [
        {
          "output_type": "stream",
          "name": "stdout",
          "text": [
            "func  29.202 ms\n"
          ]
        }
      ]
    },
    {
      "cell_type": "markdown",
      "metadata": {
        "id": "yX8xRzF6wmqQ"
      },
      "source": [
        "### `Пример декоратора класса`\n",
        "\n",
        "Опишем декоратор класса, который получает на вход декоратор функции и оборачивает его вокруг каждого публичного метода класса:"
      ]
    },
    {
      "cell_type": "code",
      "metadata": {
        "id": "FRX_kR-6wmqQ"
      },
      "source": [
        "def decorate_class(decorator):\n",
        "    def _decorate(cls):\n",
        "        for f in cls.__dict__:\n",
        "            if callable(getattr(cls, f)) and not f.startswith(\"_\"):\n",
        "                setattr(cls, f, decorator(getattr(cls, f)))\n",
        "        return cls\n",
        "    return _decorate"
      ],
      "execution_count": 37,
      "outputs": []
    },
    {
      "cell_type": "code",
      "metadata": {
        "id": "rwjX4oaEwmqR",
        "colab": {
          "base_uri": "https://localhost:8080/"
        },
        "outputId": "c62aedbc-b7e4-40c1-ee07-ee1d187f8d50"
      },
      "source": [
        "@decorate_class(timed)\n",
        "class Cls:\n",
        "    a = 10\n",
        "    def method(self): pass\n",
        "    def _method_2(self): pass\n",
        "\n",
        "Cls().method()\n",
        "Cls().a  # not callable\n",
        "Cls()._method_2()  # not public"
      ],
      "execution_count": 38,
      "outputs": [
        {
          "output_type": "stream",
          "name": "stdout",
          "text": [
            "method  0.001 ms\n"
          ]
        }
      ]
    },
    {
      "cell_type": "markdown",
      "metadata": {
        "id": "ojf2IS6-wmqR"
      },
      "source": [
        "При определении класса производится вызов `decorate_class._decorate`, которая возвращает обновлённый класс."
      ]
    },
    {
      "cell_type": "markdown",
      "metadata": {
        "id": "uEDIt0rug_oK"
      },
      "source": [
        "# Магические методы"
      ]
    },
    {
      "cell_type": "markdown",
      "metadata": {
        "id": "peo6tCYYTy2X"
      },
      "source": [
        "### `Class magic methods`\n",
        "\n",
        "- Магические методы придают объекту класса определенные свойства\n",
        "\n",
        "- Такие методы вызываются интерпретатором неявно\n",
        "\n",
        "- Например, операторы - это магические методы<bf>\n",
        "\n",
        "Рассмотрим несколько примеров:"
      ]
    },
    {
      "cell_type": "code",
      "metadata": {
        "id": "AtDHR_SuTy2X",
        "colab": {
          "base_uri": "https://localhost:8080/"
        },
        "outputId": "103e07b1-f458-4866-a35d-b2ef8fe6e3d3"
      },
      "source": [
        "class Cls:\n",
        "    def __init__(self):  # initialize object\n",
        "        self.name = 'Some class'\n",
        "    \n",
        "    def __repr__(self):  # str for printing object\n",
        "        return 'Class: {}'.format(self.name)\n",
        "    \n",
        "    def __call__(self, counter):  # call == operator() in C++\n",
        "        return self.name * counter\n",
        "\n",
        "cls = Cls()\n",
        "print(cls.__repr__())  # == print(cls)\n",
        "print(cls(2))"
      ],
      "execution_count": 39,
      "outputs": [
        {
          "output_type": "stream",
          "name": "stdout",
          "text": [
            "Class: Some class\n",
            "Some classSome class\n"
          ]
        }
      ]
    },
    {
      "cell_type": "markdown",
      "metadata": {
        "id": "87H7G3e1Ty2Y"
      },
      "source": [
        "### `Class magic methods`\n",
        "\n",
        "Еще примеры магических методов:"
      ]
    },
    {
      "cell_type": "code",
      "metadata": {
        "id": "Ckz334IkTy2Y"
      },
      "source": [
        "def __lt__(self, other): pass\n",
        "\n",
        "def __eq__(self, other): pass\n",
        "\n",
        "def __add__(self, other): pass\n",
        "\n",
        "def __mul__(self, value): pass\n",
        "\n",
        "def __int__(self): pass\n",
        "\n",
        "def __bool__(self): pass\n",
        "\n",
        "def __hash__(self): pass\n",
        "\n",
        "def __getitem__(self, index): pass\n",
        "\n",
        "def __setitem__(self, index, value): pass"
      ],
      "execution_count": 40,
      "outputs": []
    },
    {
      "cell_type": "markdown",
      "metadata": {
        "id": "fIOhlWffTy2Z"
      },
      "source": [
        "### `Как на самом деле устроен доступ к атрибутам`\n",
        "\n",
        "При работе с атрибутами вызываются магические методы `__getattr__`, `__getattribute__`, `__setattr__` и `__delattr__`:"
      ]
    },
    {
      "cell_type": "code",
      "metadata": {
        "id": "xRLCyfajTy2Z"
      },
      "source": [
        "class Cls:\n",
        "    def __setattr__(self, attr, value):\n",
        "        print(f'Create attr with name \"{attr}\" and value \"{value}\"')\n",
        "        self.__dict__[attr] = value\n",
        "\n",
        "    def __getattr__(self, attr):\n",
        "        print(f'WE WILL ENTER IT ONLY IN CASE OF ERROR!')\n",
        "        return self.__dict__[attr]\n",
        "\n",
        "    def __getattribute__(self, attr):\n",
        "        if not attr.startswith('__'):\n",
        "            print(f'Get value of attr with name \"{attr}\"')\n",
        "            \n",
        "        return super().__getattribute__(attr)  # call parent method implementation\n",
        "        \n",
        "    def __delattr__(self, attr):\n",
        "        print(f'Remove attr \"{attr}\" is impossible!')\n",
        "    "
      ],
      "execution_count": 41,
      "outputs": []
    },
    {
      "cell_type": "markdown",
      "metadata": {
        "id": "_cOzBGP4Ty2Z"
      },
      "source": [
        "### `Как на самом деле устроен доступ к атрибутам`"
      ]
    },
    {
      "cell_type": "code",
      "metadata": {
        "id": "0nooVaP-Ty2a",
        "colab": {
          "base_uri": "https://localhost:8080/",
          "height": 444
        },
        "outputId": "dafba098-d512-413f-ec13-f41233a7edcb"
      },
      "source": [
        "cls = Cls()\n",
        "\n",
        "cls.some_attr = 'some'\n",
        "a = cls.some_attr\n",
        "\n",
        "del cls.some_attr\n",
        "b = cls.some_attr\n",
        "cls.non_exists_attr"
      ],
      "execution_count": 42,
      "outputs": [
        {
          "output_type": "stream",
          "name": "stdout",
          "text": [
            "Create attr with name \"some_attr\" and value \"some\"\n",
            "Get value of attr with name \"some_attr\"\n",
            "Remove attr \"some_attr\" is impossible!\n",
            "Get value of attr with name \"some_attr\"\n",
            "Get value of attr with name \"non_exists_attr\"\n",
            "WE WILL ENTER IT ONLY IN CASE OF ERROR!\n"
          ]
        },
        {
          "output_type": "error",
          "ename": "KeyError",
          "evalue": "ignored",
          "traceback": [
            "\u001b[0;31m---------------------------------------------------------------------------\u001b[0m",
            "\u001b[0;31mKeyError\u001b[0m                                  Traceback (most recent call last)",
            "\u001b[0;32m<ipython-input-42-e2e4cd9a9b98>\u001b[0m in \u001b[0;36m<module>\u001b[0;34m()\u001b[0m\n\u001b[1;32m      6\u001b[0m \u001b[0;32mdel\u001b[0m \u001b[0mcls\u001b[0m\u001b[0;34m.\u001b[0m\u001b[0msome_attr\u001b[0m\u001b[0;34m\u001b[0m\u001b[0;34m\u001b[0m\u001b[0m\n\u001b[1;32m      7\u001b[0m \u001b[0mb\u001b[0m \u001b[0;34m=\u001b[0m \u001b[0mcls\u001b[0m\u001b[0;34m.\u001b[0m\u001b[0msome_attr\u001b[0m\u001b[0;34m\u001b[0m\u001b[0;34m\u001b[0m\u001b[0m\n\u001b[0;32m----> 8\u001b[0;31m \u001b[0mcls\u001b[0m\u001b[0;34m.\u001b[0m\u001b[0mnon_exists_attr\u001b[0m\u001b[0;34m\u001b[0m\u001b[0;34m\u001b[0m\u001b[0m\n\u001b[0m",
            "\u001b[0;32m<ipython-input-41-303001eee23f>\u001b[0m in \u001b[0;36m__getattr__\u001b[0;34m(self, attr)\u001b[0m\n\u001b[1;32m      6\u001b[0m     \u001b[0;32mdef\u001b[0m \u001b[0m__getattr__\u001b[0m\u001b[0;34m(\u001b[0m\u001b[0mself\u001b[0m\u001b[0;34m,\u001b[0m \u001b[0mattr\u001b[0m\u001b[0;34m)\u001b[0m\u001b[0;34m:\u001b[0m\u001b[0;34m\u001b[0m\u001b[0;34m\u001b[0m\u001b[0m\n\u001b[1;32m      7\u001b[0m         \u001b[0mprint\u001b[0m\u001b[0;34m(\u001b[0m\u001b[0;34mf'WE WILL ENTER IT ONLY IN CASE OF ERROR!'\u001b[0m\u001b[0;34m)\u001b[0m\u001b[0;34m\u001b[0m\u001b[0;34m\u001b[0m\u001b[0m\n\u001b[0;32m----> 8\u001b[0;31m         \u001b[0;32mreturn\u001b[0m \u001b[0mself\u001b[0m\u001b[0;34m.\u001b[0m\u001b[0m__dict__\u001b[0m\u001b[0;34m[\u001b[0m\u001b[0mattr\u001b[0m\u001b[0;34m]\u001b[0m\u001b[0;34m\u001b[0m\u001b[0;34m\u001b[0m\u001b[0m\n\u001b[0m\u001b[1;32m      9\u001b[0m \u001b[0;34m\u001b[0m\u001b[0m\n\u001b[1;32m     10\u001b[0m     \u001b[0;32mdef\u001b[0m \u001b[0m__getattribute__\u001b[0m\u001b[0;34m(\u001b[0m\u001b[0mself\u001b[0m\u001b[0;34m,\u001b[0m \u001b[0mattr\u001b[0m\u001b[0;34m)\u001b[0m\u001b[0;34m:\u001b[0m\u001b[0;34m\u001b[0m\u001b[0;34m\u001b[0m\u001b[0m\n",
            "\u001b[0;31mKeyError\u001b[0m: 'non_exists_attr'"
          ]
        }
      ]
    },
    {
      "cell_type": "markdown",
      "metadata": {
        "id": "XhBDfMLMTy2a"
      },
      "source": [
        "### `Магические методы и менеджер контекста`\n",
        "\n",
        "Менеджер контекста (оператор `with`) работает с двумя магическими методами:\n",
        "\n",
        "- `__enter__` - код, который нужно выполнить над объектом при входе в блок менеджера\n",
        "- `__exit__` - код, который нужно в любом случае выполнить при выходе из блока"
      ]
    },
    {
      "cell_type": "code",
      "metadata": {
        "id": "WvkKWXxuTy2b",
        "colab": {
          "base_uri": "https://localhost:8080/"
        },
        "outputId": "ff916e28-56c9-425e-8b67-753bbc272ade"
      },
      "source": [
        "class SomeDataBaseDao:\n",
        "    def __init__(self): self._db = ()\n",
        "    \n",
        "    def append(self, value): self._db.append(value)\n",
        "    \n",
        "    def __enter__(self):\n",
        "        self._db = list(self._db)\n",
        "        print('Set DB to read-write mode')\n",
        "        return self\n",
        "\n",
        "    def __exit__(self, exception_type, exception_val, trace):\n",
        "        self._db = tuple(self._db)\n",
        "        print('Set DB to read-only mode')\n",
        "        return True\n",
        "\n",
        "dao = SomeDataBaseDao()\n",
        "#dao.append(1)  # AttributeError: 'tuple' object has no attribute 'append'\n",
        "with dao:\n",
        "    dao.append(1)\n",
        "print(dao._db)"
      ],
      "execution_count": 43,
      "outputs": [
        {
          "output_type": "stream",
          "name": "stdout",
          "text": [
            "Set DB to read-write mode\n",
            "Set DB to read-only mode\n",
            "(1,)\n"
          ]
        }
      ]
    }
  ]
}