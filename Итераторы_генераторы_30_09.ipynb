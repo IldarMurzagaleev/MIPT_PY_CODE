{
  "nbformat": 4,
  "nbformat_minor": 0,
  "metadata": {
    "colab": {
      "name": "Семинар_итераторы_генераторы_30_09.ipynb",
      "provenance": [],
      "collapsed_sections": [],
      "authorship_tag": "ABX9TyNQd+eo6LYF3RsFG6a19akI",
      "include_colab_link": true
    },
    "kernelspec": {
      "name": "python3",
      "display_name": "Python 3"
    },
    "language_info": {
      "name": "python"
    }
  },
  "cells": [
    {
      "cell_type": "markdown",
      "metadata": {
        "id": "view-in-github",
        "colab_type": "text"
      },
      "source": [
        "<a href=\"https://colab.research.google.com/github/pythonkvs/seminars/blob/main/%D0%A1%D0%B5%D0%BC%D0%B8%D0%BD%D0%B0%D1%80_%D0%B8%D1%82%D0%B5%D1%80%D0%B0%D1%82%D0%BE%D1%80%D1%8B_%D0%B3%D0%B5%D0%BD%D0%B5%D1%80%D0%B0%D1%82%D0%BE%D1%80%D1%8B_30_09.ipynb\" target=\"_parent\"><img src=\"https://colab.research.google.com/assets/colab-badge.svg\" alt=\"Open In Colab\"/></a>"
      ]
    },
    {
      "cell_type": "markdown",
      "metadata": {
        "id": "Qma7GaR4rCu8"
      },
      "source": [
        "https://compscicenter.ru/courses/python/2015-autumn/classes/1542/"
      ]
    },
    {
      "cell_type": "markdown",
      "metadata": {
        "id": "TI4MdeFLQalN"
      },
      "source": [
        "# Итераторы"
      ]
    },
    {
      "cell_type": "markdown",
      "metadata": {
        "id": "JwTJbxFwQQth"
      },
      "source": [
        "В отличие от, например, Java в Python нет чёткого\n",
        "разделения на iterable и iterator: протокол итераторов\n",
        "покрывает оба случая."
      ]
    },
    {
      "cell_type": "markdown",
      "metadata": {
        "id": "s8fMO6YUQwrG"
      },
      "source": [
        "## Протокол итераторов"
      ]
    },
    {
      "cell_type": "markdown",
      "metadata": {
        "id": "cjastDXXS4xc"
      },
      "source": [
        "Протокол итераторов состоит из двух методов:\n",
        "*   Метод `__iter__` возвращает экземпляр класса,\n",
        "реализующего протокол итераторов, например, `self`.\n",
        "*   Метод `__next__` возвращает следующий по порядку\n",
        "элемент итератора. Если такого элемента нет, то метод\n",
        "должен поднять исключение `StopIteration`."
      ]
    },
    {
      "cell_type": "markdown",
      "metadata": {
        "id": "B-AofZ9lQ92s"
      },
      "source": [
        "## Коллекции и итераторы"
      ]
    },
    {
      "cell_type": "markdown",
      "metadata": {
        "id": "ma0FvcoaTevz"
      },
      "source": [
        "* Для коллекций обычно нет смысла реализовывать\n",
        "протокол итераторов целиком, достаточно реализовать\n",
        "только метод `__iter__`."
      ]
    },
    {
      "cell_type": "markdown",
      "metadata": {
        "id": "DQr1A8SmTjGC"
      },
      "source": [
        "* Иногда элементы коллекции можно перечислить более\n",
        "чем одним способом. В этом случае удобно реализовывать\n",
        "дополнительные методы, возвращающие итераторы:\n",
        "```python\n",
        "class BinaryTree:\n",
        "    def __iter__(self):\n",
        "        return self.inorder_iter()\n",
        "    def preorder_iter(self):\n",
        "        # ...\n",
        "    def inorder_iter(self):\n",
        "        return InOrderIterator(self)\n",
        "    def postorder_iter(self):\n",
        "        # ...\n",
        "```"
      ]
    },
    {
      "cell_type": "markdown",
      "metadata": {
        "id": "dI4gnxadNmk4"
      },
      "source": [
        "## Функции `iter` и `next`"
      ]
    },
    {
      "cell_type": "markdown",
      "metadata": {
        "id": "kgIGv-OMUSWM"
      },
      "source": [
        "У функции `iter` две формы вызова:\n",
        "\n",
        "*   принимает объект и вызывает у него метод `__iter__`,\n",
        "*   принимает функцию и терминальное значение и вызывает\n",
        "функцию до тех пор, пока она не вернёт нужное значение:\n",
        "```python\n",
        "from functools import partial\n",
        "with open(path, \"rb\") as handle:\n",
        "        read_block = partial(handle.read, 64)\n",
        "        for block in iter(read_block, \"\"):\n",
        "            do_something(block)\n",
        "```"
      ]
    },
    {
      "cell_type": "markdown",
      "metadata": {
        "id": "YB5UZL72UhQ4"
      },
      "source": [
        "Функция `next` принимает итератор и вызывает у него\n",
        "метод `__next__`. Можно также указать значение, которое\n",
        "нужно вернуть в случае возникновения исключения\n",
        "`StopIteration`:"
      ]
    },
    {
      "cell_type": "code",
      "metadata": {
        "colab": {
          "base_uri": "https://localhost:8080/"
        },
        "id": "7_QCcv-ER3tM",
        "outputId": "6149f59d-e0f7-498d-cb7b-f8898aa5cdba"
      },
      "source": [
        "next(iter([1, 2, 3]))"
      ],
      "execution_count": 1,
      "outputs": [
        {
          "output_type": "execute_result",
          "data": {
            "text/plain": [
              "1"
            ]
          },
          "metadata": {},
          "execution_count": 1
        }
      ]
    },
    {
      "cell_type": "code",
      "metadata": {
        "colab": {
          "base_uri": "https://localhost:8080/"
        },
        "id": "0n8HDcvVSAQ2",
        "outputId": "64991250-3779-4347-c2e7-2a1303507682"
      },
      "source": [
        "next(iter([]), 42)"
      ],
      "execution_count": 2,
      "outputs": [
        {
          "output_type": "execute_result",
          "data": {
            "text/plain": [
              "42"
            ]
          },
          "metadata": {},
          "execution_count": 2
        }
      ]
    },
    {
      "cell_type": "markdown",
      "metadata": {
        "id": "E8YNPxoANmk5"
      },
      "source": [
        "## Итераторы часто используются неявно, цикл `for`\n",
        "\n",
        "Как выглядит для нас цикл `for`:"
      ]
    },
    {
      "cell_type": "code",
      "metadata": {
        "id": "Ly1xWXuBNmk5",
        "colab": {
          "base_uri": "https://localhost:8080/"
        },
        "outputId": "e57cec93-c8b3-4117-beaf-17eb411bb414"
      },
      "source": [
        "for i in 'seq':\n",
        "    print(i)"
      ],
      "execution_count": 3,
      "outputs": [
        {
          "output_type": "stream",
          "name": "stdout",
          "text": [
            "s\n",
            "e\n",
            "q\n"
          ]
        }
      ]
    },
    {
      "cell_type": "markdown",
      "metadata": {
        "id": "k4qjeLwaNmk5"
      },
      "source": [
        "Как он работает на самом деле (процесс исполнения оператора `for` можно концептуально\n",
        "записать так):"
      ]
    },
    {
      "cell_type": "code",
      "metadata": {
        "id": "EUpCup93Nmk5",
        "colab": {
          "base_uri": "https://localhost:8080/"
        },
        "outputId": "4689301b-0921-4ee5-b244-536e63b13981"
      },
      "source": [
        "iterator = iter('seq')\n",
        "while True:\n",
        "    try:\n",
        "        i = next(iterator)\n",
        "    except StopIteration:\n",
        "        break\n",
        "    print(i)"
      ],
      "execution_count": 4,
      "outputs": [
        {
          "output_type": "stream",
          "name": "stdout",
          "text": [
            "s\n",
            "e\n",
            "q\n"
          ]
        }
      ]
    },
    {
      "cell_type": "markdown",
      "metadata": {
        "id": "3gTd6rOSXOeU"
      },
      "source": [
        "## Операторы `in` и `not in`"
      ]
    },
    {
      "cell_type": "markdown",
      "metadata": {
        "id": "T66qTBUqXRG0"
      },
      "source": [
        "*   Операторы `in` и `not in` используют “магический” метод\n",
        "`__contains__`, который возвращает `True`, если переданный\n",
        "элемент содержится в экземпляре класса.\n",
        "*   По умолчанию метод `__contains__` реализован через\n",
        "протокол итераторов:\n",
        "```python\n",
        "class object:\n",
        "        # ...\n",
        "\n",
        "        def __contains__(self, target):\n",
        "            for item in self:\n",
        "                if item == target:\n",
        "                    return True\n",
        "            return False\n",
        "```\n",
        "*   Пример:"
      ]
    },
    {
      "cell_type": "code",
      "metadata": {
        "colab": {
          "base_uri": "https://localhost:8080/"
        },
        "id": "pFulfWOXUUz_",
        "outputId": "92acdb6e-ad24-4b4b-80cf-583f73334ef2"
      },
      "source": [
        "lst = [5, 39]\n",
        "5 in lst # ≡ lst.__contains__(5)"
      ],
      "execution_count": 5,
      "outputs": [
        {
          "output_type": "execute_result",
          "data": {
            "text/plain": [
              "True"
            ]
          },
          "metadata": {},
          "execution_count": 5
        }
      ]
    },
    {
      "cell_type": "code",
      "metadata": {
        "colab": {
          "base_uri": "https://localhost:8080/"
        },
        "id": "wo_dOa4HUYGv",
        "outputId": "7b649f61-2b59-4fa6-e472-f4bf833f1436"
      },
      "source": [
        "42 not in lst # ≡ not lst.__contains__(42)"
      ],
      "execution_count": 6,
      "outputs": [
        {
          "output_type": "execute_result",
          "data": {
            "text/plain": [
              "True"
            ]
          },
          "metadata": {},
          "execution_count": 6
        }
      ]
    },
    {
      "cell_type": "markdown",
      "metadata": {
        "id": "4okC6srWZSRE"
      },
      "source": [
        "## Упрощенный вариант реализации протокола итераторов с использованием метода `__getitem__`"
      ]
    },
    {
      "cell_type": "markdown",
      "metadata": {
        "id": "dnIlBj10ZiGV"
      },
      "source": [
        "*   Метод `__getitem__` принимает один аргумент — индекс\n",
        "элемента в последовательности и\n",
        "    *   либо возвращает элемент, соответствующий индексу,\n",
        "    *   либо поднимает `IndexError`, если элемента с таким\n",
        "индексом нет.\n",
        "*   Пример:"
      ]
    },
    {
      "cell_type": "code",
      "metadata": {
        "colab": {
          "base_uri": "https://localhost:8080/"
        },
        "id": "zyeKKiO0axTU",
        "outputId": "46b5403c-74b0-4293-f56e-5787f81c7b73"
      },
      "source": [
        "class Identity:\n",
        "    def __getitem__(self, idx):\n",
        "        if idx > 5:\n",
        "            raise IndexError(idx)\n",
        "        return idx\n",
        "list(Identity())"
      ],
      "execution_count": 7,
      "outputs": [
        {
          "output_type": "execute_result",
          "data": {
            "text/plain": [
              "[0, 1, 2, 3, 4, 5]"
            ]
          },
          "metadata": {},
          "execution_count": 7
        }
      ]
    },
    {
      "cell_type": "markdown",
      "metadata": {
        "id": "b05IAr8gbI2a"
      },
      "source": [
        "## “Семантика” упрощенного протокола итераторов: `seq_iter`"
      ]
    },
    {
      "cell_type": "code",
      "metadata": {
        "id": "TzCSGBtybQ-k"
      },
      "source": [
        "class seq_iter:\n",
        "    def __init__(self, instance):\n",
        "        self.instance = instance\n",
        "        self.idx = 0\n",
        "\n",
        "    def __iter__(self):\n",
        "        return self\n",
        "        \n",
        "    def __next__(self):\n",
        "        try:\n",
        "            res = self.instance[self.idx]\n",
        "        except IndexError:\n",
        "            raise StopIteration\n",
        "        \n",
        "        self.idx += 1\n",
        "        return res"
      ],
      "execution_count": 8,
      "outputs": []
    },
    {
      "cell_type": "markdown",
      "metadata": {
        "id": "6CRZiE5Tby6p"
      },
      "source": [
        "## “Семантика” упрощенного протокола итераторов: `object`"
      ]
    },
    {
      "cell_type": "code",
      "metadata": {
        "id": "A7hSFagJb2Yk"
      },
      "source": [
        "class object:\n",
        "    # ...\n",
        "    def __iter__(self):\n",
        "        if not hasattr(self, \"__getitem__\"):\n",
        "            cls = self.__class__\n",
        "            msg = \"{} object is not iterable\"\n",
        "            raise TypeError(msg.format(cls.__name__))\n",
        "        return seq_iter(self)"
      ],
      "execution_count": 9,
      "outputs": []
    },
    {
      "cell_type": "markdown",
      "metadata": {
        "id": "Zv9YVDMVcIFe"
      },
      "source": [
        "## Резюме: итераторы"
      ]
    },
    {
      "cell_type": "markdown",
      "metadata": {
        "id": "OabCjzEwcKzV"
      },
      "source": [
        "*   В Python нет чёткого различия между *iterable* и *iterator*.\n",
        "*   Итератор — это экземпляр класса, который реализует два\n",
        "метода `__iter__` и `__next__`.\n",
        "*   Альтернативно можно воспользоваться реализацией этих\n",
        "методов по умолчанию и определить метод `__getitem__`.\n",
        "*   Протокол итераторов используется:\n",
        "    *   оператором `for`,\n",
        "    *   операторами `in` и `not in`.\n",
        "*   Протокол итераторов реализуется всеми встроенными\n",
        "коллекциями, а также, например, файлами и объектами\n",
        "типа `map`, `filter` и `zip`."
      ]
    },
    {
      "cell_type": "markdown",
      "metadata": {
        "id": "rVSuiAL3FrE5"
      },
      "source": [
        "# Генераторы"
      ]
    },
    {
      "cell_type": "markdown",
      "metadata": {
        "id": "PE8Ziu3uZgvt"
      },
      "source": [
        "* Генератор — это функция, которая использует не только\n",
        "оператор `return`, но и оператор `yield`.\n",
        "* В результате выполнения оператора `yield` работа функции\n",
        "приостанавливается, а не прерывается, как при\n",
        "использовании оператора `return`."
      ]
    },
    {
      "cell_type": "code",
      "metadata": {
        "id": "hZJTJcTzZ4E9"
      },
      "source": [
        "def g():\n",
        "    print(\"Started\")\n",
        "    x = 42\n",
        "    yield x\n",
        "    x += 1\n",
        "    yield x\n",
        "    print(\"Done\")"
      ],
      "execution_count": 10,
      "outputs": []
    },
    {
      "cell_type": "code",
      "metadata": {
        "colab": {
          "base_uri": "https://localhost:8080/"
        },
        "id": "C14hqJJdaKCN",
        "outputId": "4432a1c1-7c39-4885-93b7-7c09e2ab0d11"
      },
      "source": [
        "type(g)"
      ],
      "execution_count": 11,
      "outputs": [
        {
          "output_type": "execute_result",
          "data": {
            "text/plain": [
              "function"
            ]
          },
          "metadata": {},
          "execution_count": 11
        }
      ]
    },
    {
      "cell_type": "code",
      "metadata": {
        "colab": {
          "base_uri": "https://localhost:8080/"
        },
        "id": "w1AZ2svqaNYD",
        "outputId": "0b5fa2e5-840a-4f92-92db-d8d30c1792cb"
      },
      "source": [
        "gen = g()\n",
        "type(gen)"
      ],
      "execution_count": 12,
      "outputs": [
        {
          "output_type": "execute_result",
          "data": {
            "text/plain": [
              "generator"
            ]
          },
          "metadata": {},
          "execution_count": 12
        }
      ]
    },
    {
      "cell_type": "code",
      "metadata": {
        "colab": {
          "base_uri": "https://localhost:8080/"
        },
        "id": "FNKcD1aKaQoW",
        "outputId": "4d7ea601-c820-4069-9e36-ef089f0bc579"
      },
      "source": [
        "next(gen)"
      ],
      "execution_count": 13,
      "outputs": [
        {
          "output_type": "stream",
          "name": "stdout",
          "text": [
            "Started\n"
          ]
        },
        {
          "output_type": "execute_result",
          "data": {
            "text/plain": [
              "42"
            ]
          },
          "metadata": {},
          "execution_count": 13
        }
      ]
    },
    {
      "cell_type": "code",
      "metadata": {
        "colab": {
          "base_uri": "https://localhost:8080/"
        },
        "id": "J38aIbFGbdqy",
        "outputId": "77c100f7-bf96-499b-f462-5443ddb0c808"
      },
      "source": [
        "next(gen)"
      ],
      "execution_count": 14,
      "outputs": [
        {
          "output_type": "execute_result",
          "data": {
            "text/plain": [
              "43"
            ]
          },
          "metadata": {},
          "execution_count": 14
        }
      ]
    },
    {
      "cell_type": "markdown",
      "metadata": {
        "id": "ACTnND-CNmk6"
      },
      "source": [
        "* В генераторе есть внутреннее изменяемое состояние в виде локальных переменных, которое он хранит автоматически.\n",
        "* Генератор — более простой способ создания собственного итератора, чем его прямое определение.\n",
        "* Все генераторы являются итераторами, но не наоборот."
      ]
    },
    {
      "cell_type": "markdown",
      "metadata": {
        "id": "CBTdDtZdNmk6"
      },
      "source": [
        "- Примеры функций-генераторов:\n",
        "    - `zip`\n",
        "    - `enumerate`\n",
        "    - `reversed`\n",
        "    - `map`\n",
        "    - `filter`"
      ]
    },
    {
      "cell_type": "markdown",
      "metadata": {
        "id": "cKfgCPRENmk6"
      },
      "source": [
        "\n",
        "## Ключевое слово `yield`\n",
        "\n",
        "- `yield` — это слово, по смыслу похожее на `return`.<br><br>\n",
        "- Но используется в функциях, возвращающих генераторы.<br><br>\n",
        "- При вызове такой функции тело не выполняется, функция только возвращает генератор.<br><br>\n",
        "- В первый запуск функция будет выполняться от начала и до `yield`.<br><br>\n",
        "- После выхода состояние функции сохраняется.<br><br>\n",
        "- На следующий вызов будет проводиться итерация цикла и возвращаться следующее значение.<br><br>\n",
        "- И так далее, пока не кончится цикл каждого `yield` в теле функции.<br><br>\n",
        "- После этого генератор станет пустым."
      ]
    },
    {
      "cell_type": "markdown",
      "metadata": {
        "id": "Ex5hibcgNmk6"
      },
      "source": [
        "## Примеры генераторов"
      ]
    },
    {
      "cell_type": "code",
      "metadata": {
        "id": "7fAM6LDkNmk6"
      },
      "source": [
        "def my_range(n):\n",
        "    yield 'You really want to run this generator?'\n",
        "\n",
        "    i = -1\n",
        "    while i < n:\n",
        "        i += 1\n",
        "        yield i"
      ],
      "execution_count": 15,
      "outputs": []
    },
    {
      "cell_type": "code",
      "metadata": {
        "id": "3_mUyQelNmk7",
        "colab": {
          "base_uri": "https://localhost:8080/"
        },
        "outputId": "af1c09c4-0585-4af8-a621-6be63fdf6819"
      },
      "source": [
        "gen = my_range(3)\n",
        "while True:\n",
        "    try:\n",
        "        print(next(gen), end='   ')\n",
        "    except StopIteration:  # we want to catch this type of exceptions\n",
        "        break"
      ],
      "execution_count": 16,
      "outputs": [
        {
          "output_type": "stream",
          "name": "stdout",
          "text": [
            "You really want to run this generator?   0   1   2   3   "
          ]
        }
      ]
    },
    {
      "cell_type": "code",
      "metadata": {
        "id": "NRxXRFtrNmk7",
        "colab": {
          "base_uri": "https://localhost:8080/"
        },
        "outputId": "c75c5527-8331-4895-e5bc-4571282966b4"
      },
      "source": [
        "for e in my_range(3):\n",
        "    print(e, end='   ')"
      ],
      "execution_count": 17,
      "outputs": [
        {
          "output_type": "stream",
          "name": "stdout",
          "text": [
            "You really want to run this generator?   0   1   2   3   "
          ]
        }
      ]
    },
    {
      "cell_type": "markdown",
      "metadata": {
        "id": "0qZWqVg0lFDv"
      },
      "source": [
        "### Примеры генераторов: `unique`"
      ]
    },
    {
      "cell_type": "code",
      "metadata": {
        "id": "hetU9y8jlHEO"
      },
      "source": [
        "def unique(iterable, seen=None):\n",
        "    seen = set(seen or [])\n",
        "    for item in iterable:\n",
        "        if item not in seen:\n",
        "            seen.add(item)\n",
        "            yield item"
      ],
      "execution_count": 18,
      "outputs": []
    },
    {
      "cell_type": "code",
      "metadata": {
        "colab": {
          "base_uri": "https://localhost:8080/"
        },
        "id": "eP1lTEr1gy18",
        "outputId": "ff7fa95a-d07c-4a8f-9f11-5efc3eb14418"
      },
      "source": [
        "xs = [1, 1, 2, 3]\n",
        "unique(xs)"
      ],
      "execution_count": 19,
      "outputs": [
        {
          "output_type": "execute_result",
          "data": {
            "text/plain": [
              "<generator object unique at 0x7f8e26b185d0>"
            ]
          },
          "metadata": {},
          "execution_count": 19
        }
      ]
    },
    {
      "cell_type": "code",
      "metadata": {
        "colab": {
          "base_uri": "https://localhost:8080/"
        },
        "id": "EXE4cIOIgylc",
        "outputId": "fb852777-0b91-4af1-d44d-4dca65bd82e0"
      },
      "source": [
        "list(unique(xs))"
      ],
      "execution_count": 20,
      "outputs": [
        {
          "output_type": "execute_result",
          "data": {
            "text/plain": [
              "[1, 2, 3]"
            ]
          },
          "metadata": {},
          "execution_count": 20
        }
      ]
    },
    {
      "cell_type": "code",
      "metadata": {
        "colab": {
          "base_uri": "https://localhost:8080/"
        },
        "id": "P_DwAzuugySl",
        "outputId": "e111bce3-71d4-46d4-b05c-5de80948eb4a"
      },
      "source": [
        "1 in unique(xs)"
      ],
      "execution_count": 21,
      "outputs": [
        {
          "output_type": "execute_result",
          "data": {
            "text/plain": [
              "True"
            ]
          },
          "metadata": {},
          "execution_count": 21
        }
      ]
    },
    {
      "cell_type": "markdown",
      "metadata": {
        "id": "4xTnZmCClOU7"
      },
      "source": [
        "### Примеры генераторов: `chain`"
      ]
    },
    {
      "cell_type": "code",
      "metadata": {
        "id": "DD0TLGVLlPt4"
      },
      "source": [
        "def chain(*iterables):\n",
        "    for iterable in iterables:\n",
        "        for item in iterable:\n",
        "            yield item"
      ],
      "execution_count": 22,
      "outputs": []
    },
    {
      "cell_type": "code",
      "metadata": {
        "colab": {
          "base_uri": "https://localhost:8080/"
        },
        "id": "5xY3aq-mtl0U",
        "outputId": "376c2d4e-8f52-46c3-aec7-20ee91e2a82c"
      },
      "source": [
        "xs, ys = range(3), [42]\n",
        "chain(xs, ys)"
      ],
      "execution_count": 23,
      "outputs": [
        {
          "output_type": "execute_result",
          "data": {
            "text/plain": [
              "<generator object chain at 0x7f8e26b189d0>"
            ]
          },
          "metadata": {},
          "execution_count": 23
        }
      ]
    },
    {
      "cell_type": "code",
      "metadata": {
        "colab": {
          "base_uri": "https://localhost:8080/"
        },
        "id": "i384PARntloN",
        "outputId": "a9d7c7ae-9220-43b8-b616-1d1639eaa22f"
      },
      "source": [
        "list(chain(xs, ys))"
      ],
      "execution_count": 24,
      "outputs": [
        {
          "output_type": "execute_result",
          "data": {
            "text/plain": [
              "[0, 1, 2, 42]"
            ]
          },
          "metadata": {},
          "execution_count": 24
        }
      ]
    },
    {
      "cell_type": "code",
      "metadata": {
        "colab": {
          "base_uri": "https://localhost:8080/"
        },
        "id": "5opO-GVntlWt",
        "outputId": "1cb11b18-16b0-4739-d947-90b623d4642c"
      },
      "source": [
        "42 in chain(xs, ys)"
      ],
      "execution_count": 25,
      "outputs": [
        {
          "output_type": "execute_result",
          "data": {
            "text/plain": [
              "True"
            ]
          },
          "metadata": {},
          "execution_count": 25
        }
      ]
    },
    {
      "cell_type": "markdown",
      "metadata": {
        "id": "CUHyuvaZlS9g"
      },
      "source": [
        "## Переиспользование генераторов"
      ]
    },
    {
      "cell_type": "markdown",
      "metadata": {
        "id": "8knsJX8it7j1"
      },
      "source": [
        "Основное правило переиспользования генераторов:  **не\n",
        "делайте этого**."
      ]
    },
    {
      "cell_type": "code",
      "metadata": {
        "id": "X1DP3TQJlVfW"
      },
      "source": [
        "def g():\n",
        "    yield 42"
      ],
      "execution_count": 26,
      "outputs": []
    },
    {
      "cell_type": "code",
      "metadata": {
        "id": "W7q09C0VuCGm",
        "colab": {
          "base_uri": "https://localhost:8080/"
        },
        "outputId": "a353b060-0c59-49c5-ab3f-b9e8c6c8166b"
      },
      "source": [
        "gen = g()\n",
        "list(gen)"
      ],
      "execution_count": 27,
      "outputs": [
        {
          "output_type": "execute_result",
          "data": {
            "text/plain": [
              "[42]"
            ]
          },
          "metadata": {},
          "execution_count": 27
        }
      ]
    },
    {
      "cell_type": "code",
      "metadata": {
        "id": "LHsBY-1OuEnF",
        "colab": {
          "base_uri": "https://localhost:8080/"
        },
        "outputId": "7a2d4cd6-81a4-4bc6-b4fe-7ad81fba7989"
      },
      "source": [
        "list(gen) # не тут-то было!"
      ],
      "execution_count": 28,
      "outputs": [
        {
          "output_type": "execute_result",
          "data": {
            "text/plain": [
              "[]"
            ]
          },
          "metadata": {},
          "execution_count": 28
        }
      ]
    },
    {
      "cell_type": "markdown",
      "metadata": {
        "id": "_uc-H_vIuG_W"
      },
      "source": [
        "* Если вы хотите переиспользовать генератор, подумайте\n",
        "ещё раз.\n",
        "* Если вы уверены, что без переиспользования не обойтись,\n",
        "воспользуйтесь функцией `tee` из модуля `itertools`."
      ]
    },
    {
      "cell_type": "markdown",
      "metadata": {
        "id": "a2xSMPcQuc-9"
      },
      "source": [
        "## Коллекции и генераторы"
      ]
    },
    {
      "cell_type": "markdown",
      "metadata": {
        "id": "kwscjJ_Vundg"
      },
      "source": [
        "* Генераторы позволяют компактно реализовывать метод\n",
        "`__iter__` у коллекций.\n",
        "* Рассмотрим уже знакомый нам класс бинарного дерева:\n",
        "```python\n",
        "class BinaryTree:\n",
        "    def __init__(self, value, left=(), right=()):\n",
        "        self.value = value\n",
        "        self.left, self.right = left, right\n",
        "        \n",
        "    def __iter__(self): # inorder\n",
        "        for node in self.left:\n",
        "            yield node\n",
        "        yield self.value\n",
        "        for node in self.right:\n",
        "            yield node\n",
        "```\n",
        "* Плюс генераторов в том, что они позволяют обойтись без\n",
        "лишних классов, например, `InOrderIterator`."
      ]
    },
    {
      "cell_type": "markdown",
      "metadata": {
        "id": "cChof8nQlfIx"
      },
      "source": [
        "## Выражения-генераторы"
      ]
    },
    {
      "cell_type": "markdown",
      "metadata": {
        "id": "bmWFEbvawpht"
      },
      "source": [
        "* Напоминание: в Python есть генераторы списков, множеств\n",
        "и словарей.\n",
        "* Выражения-генераторы работают аналогичным образом,\n",
        "но не порождают коллекцию в процессе работы:"
      ]
    },
    {
      "cell_type": "code",
      "metadata": {
        "id": "fHxRGbrVlgl-",
        "colab": {
          "base_uri": "https://localhost:8080/"
        },
        "outputId": "c3282787-dbad-4805-fbe6-c775ce1a1170"
      },
      "source": [
        "gen = (x ** 2 for x in range(10) if x % 2 == 1)\n",
        "gen"
      ],
      "execution_count": 29,
      "outputs": [
        {
          "output_type": "execute_result",
          "data": {
            "text/plain": [
              "<generator object <genexpr> at 0x7f8e26b188d0>"
            ]
          },
          "metadata": {},
          "execution_count": 29
        }
      ]
    },
    {
      "cell_type": "code",
      "metadata": {
        "colab": {
          "base_uri": "https://localhost:8080/"
        },
        "id": "_BSYkgrhwwsm",
        "outputId": "0d2c0efb-b9b1-482c-84b7-ddc18416ca0d"
      },
      "source": [
        "next(gen)"
      ],
      "execution_count": 30,
      "outputs": [
        {
          "output_type": "execute_result",
          "data": {
            "text/plain": [
              "1"
            ]
          },
          "metadata": {},
          "execution_count": 30
        }
      ]
    },
    {
      "cell_type": "code",
      "metadata": {
        "colab": {
          "base_uri": "https://localhost:8080/"
        },
        "id": "nPXMhriZwwgO",
        "outputId": "53243053-3193-435a-f601-4c7d29b8c2d3"
      },
      "source": [
        "list(gen)"
      ],
      "execution_count": 31,
      "outputs": [
        {
          "output_type": "execute_result",
          "data": {
            "text/plain": [
              "[9, 25, 49, 81]"
            ]
          },
          "metadata": {},
          "execution_count": 31
        }
      ]
    },
    {
      "cell_type": "markdown",
      "metadata": {
        "id": "pzBUGTEuw37e"
      },
      "source": [
        "Если выражение-генератор — единственный аргумент\n",
        "функции, скобки можно опустить:"
      ]
    },
    {
      "cell_type": "code",
      "metadata": {
        "colab": {
          "base_uri": "https://localhost:8080/"
        },
        "id": "eqMfQt45wwTQ",
        "outputId": "03c759fb-e708-4fa9-8fdd-6018d0119711"
      },
      "source": [
        "list(filter(lambda x: x % 2 == 1,\n",
        "            (x ** 2 for x in range(10))))"
      ],
      "execution_count": 32,
      "outputs": [
        {
          "output_type": "execute_result",
          "data": {
            "text/plain": [
              "[1, 9, 25, 49, 81]"
            ]
          },
          "metadata": {},
          "execution_count": 32
        }
      ]
    },
    {
      "cell_type": "code",
      "metadata": {
        "colab": {
          "base_uri": "https://localhost:8080/"
        },
        "id": "0IRfSWXrw-Gt",
        "outputId": "2f70d263-0107-47bd-fdbe-4465487a5fa9"
      },
      "source": [
        "sum(x ** 2 for x in range(10) if x % 2 == 1)"
      ],
      "execution_count": 33,
      "outputs": [
        {
          "output_type": "execute_result",
          "data": {
            "text/plain": [
              "165"
            ]
          },
          "metadata": {},
          "execution_count": 33
        }
      ]
    },
    {
      "cell_type": "markdown",
      "metadata": {
        "id": "8mcuicTdljxV"
      },
      "source": [
        "## Выражение `yield`"
      ]
    },
    {
      "cell_type": "markdown",
      "metadata": {
        "id": "M0zDmDEpx5mD"
      },
      "source": [
        "Оператор `yield` можно использовать как выражение:"
      ]
    },
    {
      "cell_type": "code",
      "metadata": {
        "id": "uEewvQHtlkeZ"
      },
      "source": [
        "def g():\n",
        "    res = yield # точка входа 1\n",
        "    print(\"Got {!r}\".format(res))\n",
        "    res = yield 42 # точка входа 2\n",
        "    print(\"Got {!r}\".format(res))"
      ],
      "execution_count": 34,
      "outputs": []
    },
    {
      "cell_type": "code",
      "metadata": {
        "id": "W86MJ3E1yQIT"
      },
      "source": [
        "gen = g()\n",
        "next(gen) # \"промотаем\" до первого yield"
      ],
      "execution_count": 35,
      "outputs": []
    },
    {
      "cell_type": "code",
      "metadata": {
        "colab": {
          "base_uri": "https://localhost:8080/"
        },
        "id": "AhRasS5myP9p",
        "outputId": "b2c40992-6d42-4fe2-f2d8-77ab707af4a9"
      },
      "source": [
        "next(gen) # \"промотаем\" до второго yield"
      ],
      "execution_count": 36,
      "outputs": [
        {
          "output_type": "stream",
          "name": "stdout",
          "text": [
            "Got None\n"
          ]
        },
        {
          "output_type": "execute_result",
          "data": {
            "text/plain": [
              "42"
            ]
          },
          "metadata": {},
          "execution_count": 36
        }
      ]
    },
    {
      "cell_type": "code",
      "metadata": {
        "colab": {
          "base_uri": "https://localhost:8080/",
          "height": 182
        },
        "id": "fnq7Ay-1yPyd",
        "outputId": "8e7112d1-6cc5-475b-d98b-7f22092f0c5f"
      },
      "source": [
        "next(gen) # выполним оставшуюся часть генератора"
      ],
      "execution_count": 37,
      "outputs": [
        {
          "output_type": "stream",
          "name": "stdout",
          "text": [
            "Got None\n"
          ]
        },
        {
          "output_type": "error",
          "ename": "StopIteration",
          "evalue": "ignored",
          "traceback": [
            "\u001b[0;31m---------------------------------------------------------------------------\u001b[0m",
            "\u001b[0;31mStopIteration\u001b[0m                             Traceback (most recent call last)",
            "\u001b[0;32m<ipython-input-37-23d0cb99457e>\u001b[0m in \u001b[0;36m<module>\u001b[0;34m()\u001b[0m\n\u001b[0;32m----> 1\u001b[0;31m \u001b[0mnext\u001b[0m\u001b[0;34m(\u001b[0m\u001b[0mgen\u001b[0m\u001b[0;34m)\u001b[0m \u001b[0;31m# выполним оставшуюся часть генератора\u001b[0m\u001b[0;34m\u001b[0m\u001b[0;34m\u001b[0m\u001b[0m\n\u001b[0m",
            "\u001b[0;31mStopIteration\u001b[0m: "
          ]
        }
      ]
    },
    {
      "cell_type": "markdown",
      "metadata": {
        "id": "NQ9uxk5VyK1l"
      },
      "source": [
        "На первый взгляд выражение `yield` выглядит бесполезно,\n",
        "но первое впечатление обманчиво."
      ]
    },
    {
      "cell_type": "markdown",
      "metadata": {
        "id": "aOgW_xYCqUZF"
      },
      "source": [
        "## Интерфейс генераторов: `send`"
      ]
    },
    {
      "cell_type": "markdown",
      "metadata": {
        "id": "9R21CwqFy1FR"
      },
      "source": [
        "Метод `send` возобновляет выполнение генератора и\n",
        "“отправляет” свой аргумент в следующий `yield`:"
      ]
    },
    {
      "cell_type": "code",
      "metadata": {
        "colab": {
          "base_uri": "https://localhost:8080/",
          "height": 182
        },
        "id": "z7jwMSP5y4oT",
        "outputId": "f781705e-e0e6-4042-ed50-57e5733a2ac1"
      },
      "source": [
        "gen = g()\n",
        "gen.send(\"foobar\")"
      ],
      "execution_count": 38,
      "outputs": [
        {
          "output_type": "error",
          "ename": "TypeError",
          "evalue": "ignored",
          "traceback": [
            "\u001b[0;31m---------------------------------------------------------------------------\u001b[0m",
            "\u001b[0;31mTypeError\u001b[0m                                 Traceback (most recent call last)",
            "\u001b[0;32m<ipython-input-38-0adb063b6fd0>\u001b[0m in \u001b[0;36m<module>\u001b[0;34m()\u001b[0m\n\u001b[1;32m      1\u001b[0m \u001b[0mgen\u001b[0m \u001b[0;34m=\u001b[0m \u001b[0mg\u001b[0m\u001b[0;34m(\u001b[0m\u001b[0;34m)\u001b[0m\u001b[0;34m\u001b[0m\u001b[0;34m\u001b[0m\u001b[0m\n\u001b[0;32m----> 2\u001b[0;31m \u001b[0mgen\u001b[0m\u001b[0;34m.\u001b[0m\u001b[0msend\u001b[0m\u001b[0;34m(\u001b[0m\u001b[0;34m\"foobar\"\u001b[0m\u001b[0;34m)\u001b[0m\u001b[0;34m\u001b[0m\u001b[0;34m\u001b[0m\u001b[0m\n\u001b[0m",
            "\u001b[0;31mTypeError\u001b[0m: can't send non-None value to a just-started generator"
          ]
        }
      ]
    },
    {
      "cell_type": "markdown",
      "metadata": {
        "id": "uodCubzOy9l3"
      },
      "source": [
        "Чтобы инициализировать генератор нужно “отправить” ему\n",
        "`None`. Функция `next` делает ровно это:"
      ]
    },
    {
      "cell_type": "code",
      "metadata": {
        "id": "yi-vyKDhqXB3"
      },
      "source": [
        "gen = g()\n",
        "next(gen)"
      ],
      "execution_count": 39,
      "outputs": []
    },
    {
      "cell_type": "markdown",
      "metadata": {
        "id": "keOvPRGMzFVa"
      },
      "source": [
        "Результатом метода `send` является следующее значение\n",
        "генератора или исключение `StopIteration`, если такого\n",
        "исключения нет."
      ]
    },
    {
      "cell_type": "code",
      "metadata": {
        "colab": {
          "base_uri": "https://localhost:8080/"
        },
        "id": "wMT8K9I2zQSG",
        "outputId": "b85e6d76-e5e4-48cd-b505-fa6ce95bdd6e"
      },
      "source": [
        "gen = g()\n",
        "gen.send(None) # ≡ next(gen)\n",
        "gen.send(\"foobar\")"
      ],
      "execution_count": 40,
      "outputs": [
        {
          "output_type": "stream",
          "name": "stdout",
          "text": [
            "Got 'foobar'\n"
          ]
        },
        {
          "output_type": "execute_result",
          "data": {
            "text/plain": [
              "42"
            ]
          },
          "metadata": {},
          "execution_count": 40
        }
      ]
    },
    {
      "cell_type": "markdown",
      "metadata": {
        "id": "apUiG59qqY1y"
      },
      "source": [
        "## Интерфейс генераторов: `throw`"
      ]
    },
    {
      "cell_type": "markdown",
      "metadata": {
        "id": "JzraHWvC08YD"
      },
      "source": [
        "Метод `throw` поднимает переданное исключение в месте,\n",
        "где генератор приостановил исполнение и возвращает\n",
        "следующее значение генератора."
      ]
    },
    {
      "cell_type": "code",
      "metadata": {
        "id": "G2GOSXc-1A0u"
      },
      "source": [
        "def g():\n",
        "    try:\n",
        "        yield 42\n",
        "    except Exception as e:\n",
        "        yield e"
      ],
      "execution_count": 41,
      "outputs": []
    },
    {
      "cell_type": "code",
      "metadata": {
        "colab": {
          "base_uri": "https://localhost:8080/"
        },
        "id": "deTIbeEV1H5R",
        "outputId": "c7f5364d-7f75-410f-d6ea-380cf37bcc6b"
      },
      "source": [
        "gen = g()\n",
        "next(gen)"
      ],
      "execution_count": 42,
      "outputs": [
        {
          "output_type": "execute_result",
          "data": {
            "text/plain": [
              "42"
            ]
          },
          "metadata": {},
          "execution_count": 42
        }
      ]
    },
    {
      "cell_type": "code",
      "metadata": {
        "colab": {
          "base_uri": "https://localhost:8080/"
        },
        "id": "RkpA5sEu1PZ3",
        "outputId": "1da31791-397d-4731-cf5a-22d6fcda30cc"
      },
      "source": [
        "gen.throw(ValueError, \"something is wrong\")"
      ],
      "execution_count": 43,
      "outputs": [
        {
          "output_type": "execute_result",
          "data": {
            "text/plain": [
              "ValueError('something is wrong')"
            ]
          },
          "metadata": {},
          "execution_count": 43
        }
      ]
    },
    {
      "cell_type": "code",
      "metadata": {
        "colab": {
          "base_uri": "https://localhost:8080/",
          "height": 252
        },
        "id": "_8Uush4e1Q11",
        "outputId": "9e516d12-f875-4e40-af06-ea705c78ba9f"
      },
      "source": [
        "gen.throw(RuntimeError, \"another error\")"
      ],
      "execution_count": 44,
      "outputs": [
        {
          "output_type": "error",
          "ename": "RuntimeError",
          "evalue": "ignored",
          "traceback": [
            "\u001b[0;31m---------------------------------------------------------------------------\u001b[0m",
            "\u001b[0;31mRuntimeError\u001b[0m                              Traceback (most recent call last)",
            "\u001b[0;32m<ipython-input-44-d2b45c3ccc9a>\u001b[0m in \u001b[0;36m<module>\u001b[0;34m()\u001b[0m\n\u001b[0;32m----> 1\u001b[0;31m \u001b[0mgen\u001b[0m\u001b[0;34m.\u001b[0m\u001b[0mthrow\u001b[0m\u001b[0;34m(\u001b[0m\u001b[0mRuntimeError\u001b[0m\u001b[0;34m,\u001b[0m \u001b[0;34m\"another error\"\u001b[0m\u001b[0;34m)\u001b[0m\u001b[0;34m\u001b[0m\u001b[0;34m\u001b[0m\u001b[0m\n\u001b[0m",
            "\u001b[0;32m<ipython-input-41-4168a9bd1772>\u001b[0m in \u001b[0;36mg\u001b[0;34m()\u001b[0m\n\u001b[1;32m      3\u001b[0m         \u001b[0;32myield\u001b[0m \u001b[0;36m42\u001b[0m\u001b[0;34m\u001b[0m\u001b[0;34m\u001b[0m\u001b[0m\n\u001b[1;32m      4\u001b[0m     \u001b[0;32mexcept\u001b[0m \u001b[0mException\u001b[0m \u001b[0;32mas\u001b[0m \u001b[0me\u001b[0m\u001b[0;34m:\u001b[0m\u001b[0;34m\u001b[0m\u001b[0;34m\u001b[0m\u001b[0m\n\u001b[0;32m----> 5\u001b[0;31m         \u001b[0;32myield\u001b[0m \u001b[0me\u001b[0m\u001b[0;34m\u001b[0m\u001b[0;34m\u001b[0m\u001b[0m\n\u001b[0m",
            "\u001b[0;31mRuntimeError\u001b[0m: another error"
          ]
        }
      ]
    },
    {
      "cell_type": "markdown",
      "metadata": {
        "id": "5YY57pTQ1Tu1"
      },
      "source": [
        "Если генератор не обработал брошенное в него\n",
        "исключение, то выполнение генератора прекращается и\n",
        "исключение передаётся наверх по стеку вызовов."
      ]
    },
    {
      "cell_type": "markdown",
      "metadata": {
        "id": "xtRARHa4qhl8"
      },
      "source": [
        "## Интерфейс генераторов: `close`"
      ]
    },
    {
      "cell_type": "markdown",
      "metadata": {
        "id": "0YzDWUS_2LZG"
      },
      "source": [
        "Метод `close` поднимает специальное исключение\n",
        "`GeneratorExit` в месте, где генератор приостановил\n",
        "исполнение:"
      ]
    },
    {
      "cell_type": "code",
      "metadata": {
        "id": "Kl7v8WeaqjJK"
      },
      "source": [
        "def g():\n",
        "    try:\n",
        "        yield 42\n",
        "    finally:\n",
        "        print(\"Done\")"
      ],
      "execution_count": 45,
      "outputs": []
    },
    {
      "cell_type": "code",
      "metadata": {
        "colab": {
          "base_uri": "https://localhost:8080/"
        },
        "id": "JW13CVln2WhE",
        "outputId": "9b3f29cd-7b7a-44a8-ec8f-1fc75e740df7"
      },
      "source": [
        "gen = g()\n",
        "next(gen)"
      ],
      "execution_count": 46,
      "outputs": [
        {
          "output_type": "execute_result",
          "data": {
            "text/plain": [
              "42"
            ]
          },
          "metadata": {},
          "execution_count": 46
        }
      ]
    },
    {
      "cell_type": "code",
      "metadata": {
        "colab": {
          "base_uri": "https://localhost:8080/"
        },
        "id": "gG_9LxRy2YDG",
        "outputId": "9d85805e-35eb-4bef-b0c4-fb893249631f"
      },
      "source": [
        "gen.close()"
      ],
      "execution_count": 47,
      "outputs": [
        {
          "output_type": "stream",
          "name": "stdout",
          "text": [
            "Done\n"
          ]
        }
      ]
    },
    {
      "cell_type": "markdown",
      "metadata": {
        "id": "K3QhsYdQ2aIH"
      },
      "source": [
        "* Если всё хорошо, то метод `close` завершает работу\n",
        "генератора и ничего не возвращает.\n",
        "* Что может пойти не так? Генератор может обработать\n",
        "исключение `GeneratorExit` и вернуть значение с помощью\n",
        "`yield` или поднять другое исключение."
      ]
    },
    {
      "cell_type": "markdown",
      "metadata": {
        "id": "_y319Armqqde"
      },
      "source": [
        "## Генераторы как сопрограммы *aka* coroutines"
      ]
    },
    {
      "cell_type": "markdown",
      "metadata": {
        "id": "5Rzt02fXqvUP"
      },
      "source": [
        "*   Сопрограмма — это программа, которая может иметь\n",
        "больше одной точки входа, а также поддерживает\n",
        "остановку и продолжение с сохранением состояния.\n",
        "*   Звучит как определение генератора наоборот:"
      ]
    },
    {
      "cell_type": "code",
      "metadata": {
        "id": "KWRJMJYCrAYv"
      },
      "source": [
        "def grep(pattern):\n",
        "    print(\"Looking for {!r}\".format(pattern))\n",
        "    while True:\n",
        "        line = yield\n",
        "        if pattern in line:\n",
        "            print(line)"
      ],
      "execution_count": 48,
      "outputs": []
    },
    {
      "cell_type": "code",
      "metadata": {
        "colab": {
          "base_uri": "https://localhost:8080/"
        },
        "id": "tA8PRMDx3aEm",
        "outputId": "2dd60577-d9a8-4a0b-fddc-516fe3d934ce"
      },
      "source": [
        "gen = grep(\"Gotcha!\")\n",
        "next(gen)"
      ],
      "execution_count": 49,
      "outputs": [
        {
          "output_type": "stream",
          "name": "stdout",
          "text": [
            "Looking for 'Gotcha!'\n"
          ]
        }
      ]
    },
    {
      "cell_type": "code",
      "metadata": {
        "id": "JHT6rMhZ3jSj"
      },
      "source": [
        "gen.send(\"This line doesn't have \\\n",
        "        what we're looking for\")"
      ],
      "execution_count": 50,
      "outputs": []
    },
    {
      "cell_type": "code",
      "metadata": {
        "colab": {
          "base_uri": "https://localhost:8080/"
        },
        "id": "12mO-ULP3k4Y",
        "outputId": "e25eae54-52ff-4588-d819-ed9312825543"
      },
      "source": [
        "gen.send(\"This one does. Gotcha!\")"
      ],
      "execution_count": 51,
      "outputs": [
        {
          "output_type": "stream",
          "name": "stdout",
          "text": [
            "This one does. Gotcha!\n"
          ]
        }
      ]
    },
    {
      "cell_type": "markdown",
      "metadata": {
        "id": "hIW21KG35xxo"
      },
      "source": [
        "* Прежде, чем начать работать с сопрограммой, её нужно\n",
        "инициализировать с помощью вызова функции `next`.\n",
        "* Объявим декоратор `coroutine`, который скроет эту деталь\n",
        "реализации:"
      ]
    },
    {
      "cell_type": "code",
      "metadata": {
        "id": "YULJ_N-JtgnK"
      },
      "source": [
        "import functools\n",
        "def coroutine(g):\n",
        "    @functools.wraps(g)\n",
        "    def inner(*args, **kwargs):\n",
        "        gen = g(*args, **kwargs)\n",
        "        next(gen)\n",
        "        return gen\n",
        "    return inner"
      ],
      "execution_count": 52,
      "outputs": []
    },
    {
      "cell_type": "code",
      "metadata": {
        "colab": {
          "base_uri": "https://localhost:8080/"
        },
        "id": "pFRsFGp96D4y",
        "outputId": "31c7c022-f899-4eb6-c4c8-35b506e79a07"
      },
      "source": [
        "grep = coroutine(grep)\n",
        "gen = grep(\"Gotcha!\")\n",
        "gen.send(\"One more line for ya!\")"
      ],
      "execution_count": 53,
      "outputs": [
        {
          "output_type": "stream",
          "name": "stdout",
          "text": [
            "Looking for 'Gotcha!'\n"
          ]
        }
      ]
    },
    {
      "cell_type": "markdown",
      "metadata": {
        "id": "VMQB5Eqztys7"
      },
      "source": [
        "## Оператор `yield from`"
      ]
    },
    {
      "cell_type": "markdown",
      "metadata": {
        "id": "a8schx_xGBnZ"
      },
      "source": [
        "Оператор `yield from` позволяет делегировать выполнение\n",
        "другому генератору:"
      ]
    },
    {
      "cell_type": "code",
      "metadata": {
        "id": "T_mhGQH_t93n"
      },
      "source": [
        "def chain(*iterables):\n",
        "    for iterable in iterables:\n",
        "        yield from iterable\n",
        "        \n",
        "        # for item in iterable:\n",
        "        #     yield item"
      ],
      "execution_count": 54,
      "outputs": []
    },
    {
      "cell_type": "markdown",
      "metadata": {
        "id": "FiB-zGFeGIlr"
      },
      "source": [
        "Любые вызовы методов `send` и `throw` у родительского\n",
        "генератора будут переданы вложенному генератору без\n",
        "изменений."
      ]
    },
    {
      "cell_type": "markdown",
      "metadata": {
        "id": "Z2yP6du6uLex"
      },
      "source": [
        "## Оператор `return` и исключение `StopIteration`"
      ]
    },
    {
      "cell_type": "markdown",
      "metadata": {
        "id": "KXNRLTOIGpXS"
      },
      "source": [
        "* Кроме оператора `yield` в теле генератора можно\n",
        "использовать оператор `return`.\n",
        "* На человеческом языке использование return означает: «У\n",
        "меня больше нет элементов, извини, возьми лучше вот\n",
        "это.»\n",
        "* На Python “вот это”, превращается в аргумент уже\n",
        "знакомого нам исключения `StopIteration`:"
      ]
    },
    {
      "cell_type": "code",
      "metadata": {
        "id": "bs3oCpASuNZQ"
      },
      "source": [
        "def g():\n",
        "    yield 42\n",
        "    return []"
      ],
      "execution_count": 55,
      "outputs": []
    },
    {
      "cell_type": "code",
      "metadata": {
        "colab": {
          "base_uri": "https://localhost:8080/"
        },
        "id": "--UIqQS9G34D",
        "outputId": "0c8e67a9-2db4-437f-c897-693d2e3a70a0"
      },
      "source": [
        "gen = g()\n",
        "next(gen)"
      ],
      "execution_count": 56,
      "outputs": [
        {
          "output_type": "execute_result",
          "data": {
            "text/plain": [
              "42"
            ]
          },
          "metadata": {},
          "execution_count": 56
        }
      ]
    },
    {
      "cell_type": "code",
      "metadata": {
        "colab": {
          "base_uri": "https://localhost:8080/",
          "height": 165
        },
        "id": "BUaGo_UjG3ol",
        "outputId": "d7da283a-c5be-4452-8200-704a1fac7182"
      },
      "source": [
        "next(gen)"
      ],
      "execution_count": 57,
      "outputs": [
        {
          "output_type": "error",
          "ename": "StopIteration",
          "evalue": "ignored",
          "traceback": [
            "\u001b[0;31m---------------------------------------------------------------------------\u001b[0m",
            "\u001b[0;31mStopIteration\u001b[0m                             Traceback (most recent call last)",
            "\u001b[0;32m<ipython-input-57-6e72e47198db>\u001b[0m in \u001b[0;36m<module>\u001b[0;34m()\u001b[0m\n\u001b[0;32m----> 1\u001b[0;31m \u001b[0mnext\u001b[0m\u001b[0;34m(\u001b[0m\u001b[0mgen\u001b[0m\u001b[0;34m)\u001b[0m\u001b[0;34m\u001b[0m\u001b[0;34m\u001b[0m\u001b[0m\n\u001b[0m",
            "\u001b[0;31mStopIteration\u001b[0m: []"
          ]
        }
      ]
    },
    {
      "cell_type": "markdown",
      "metadata": {
        "id": "d0VX7-Vguky2"
      },
      "source": [
        "## `return` ≠ `raise StopIteration`"
      ]
    },
    {
      "cell_type": "markdown",
      "metadata": {
        "id": "nGf5JQEUHKcb"
      },
      "source": [
        "Несмотря на схожесть, использование оператора `return` в\n",
        "генераторе не эквивалентно поднятию исключения\n",
        "`StopIteration`.  \n",
        "Контрпример:"
      ]
    },
    {
      "cell_type": "code",
      "metadata": {
        "id": "trKdhFEnunxZ"
      },
      "source": [
        "def g():\n",
        "    try:\n",
        "        yield 42\n",
        "        raise StopIteration([]) # ≠ return []\n",
        "    except Exception as e:\n",
        "        pass"
      ],
      "execution_count": 58,
      "outputs": []
    },
    {
      "cell_type": "markdown",
      "metadata": {
        "id": "yvVjOFrbvMlX"
      },
      "source": [
        "## Выражение `yield from`"
      ]
    },
    {
      "cell_type": "markdown",
      "metadata": {
        "id": "kznF5jmaH-DQ"
      },
      "source": [
        "* Оператор `yield from`, как и оператор `yield`, можно\n",
        "использовать в качестве выражения.\n",
        "* При этом значением выражения `yield from` будет\n",
        "значение атрибута `value` у поднятого вложенным\n",
        "генератором исключения `StopIteration`:"
      ]
    },
    {
      "cell_type": "code",
      "metadata": {
        "id": "ji2YbaHxvO8Y"
      },
      "source": [
        " def f():\n",
        "    yield 42\n",
        "    return []\n",
        "\n",
        "def g():\n",
        "    res = yield from f()\n",
        "    print(\"Got {!r}\".format(res))"
      ],
      "execution_count": 59,
      "outputs": []
    },
    {
      "cell_type": "code",
      "metadata": {
        "colab": {
          "base_uri": "https://localhost:8080/"
        },
        "id": "0jGjL4pmIReI",
        "outputId": "63d9a791-8f73-48b8-eff8-c734b9b1fd64"
      },
      "source": [
        "gen = g()\n",
        "next(gen)"
      ],
      "execution_count": 60,
      "outputs": [
        {
          "output_type": "execute_result",
          "data": {
            "text/plain": [
              "42"
            ]
          },
          "metadata": {},
          "execution_count": 60
        }
      ]
    },
    {
      "cell_type": "code",
      "metadata": {
        "colab": {
          "base_uri": "https://localhost:8080/"
        },
        "id": "Iinbacl6IVQ3",
        "outputId": "ba82d081-b799-48e0-d0aa-f936d4d7f7b8"
      },
      "source": [
        "# next(gen)\n",
        "next(gen, None)"
      ],
      "execution_count": 61,
      "outputs": [
        {
          "output_type": "stream",
          "name": "stdout",
          "text": [
            "Got []\n"
          ]
        }
      ]
    },
    {
      "cell_type": "markdown",
      "metadata": {
        "id": "YJ12-jYmvZ1M"
      },
      "source": [
        "## Менеджеры контекста и генераторы: мотивация"
      ]
    },
    {
      "cell_type": "markdown",
      "metadata": {
        "id": "PF8GYt2DJNMf"
      },
      "source": [
        "* Протокол менеджеров контекста требует реализации двух\n",
        "методов: `__enter__` и `__exit__`,\n",
        "* Если мы хотим, чтобы у менеджера было какое-то\n",
        "состояние, то мы вынуждены также добавить метод\n",
        "`__init__`.\n",
        "* В итоге получаем:"
      ]
    },
    {
      "cell_type": "code",
      "metadata": {
        "id": "bq_XGyihvfL3"
      },
      "source": [
        "class cd:\n",
        "    def __init__(self, path):\n",
        "        self.path = path\n",
        "\n",
        "    def __enter__(self):\n",
        "        self.saved_cwd = os.getcwd()\n",
        "        os.chdir(self.path)\n",
        "\n",
        "    def __exit__(self, *exc_info):\n",
        "        os.chdir(self.saved_cwd)"
      ],
      "execution_count": 62,
      "outputs": []
    },
    {
      "cell_type": "markdown",
      "metadata": {
        "id": "fvF0lhHGvmJ6"
      },
      "source": [
        "## Менеджеры контекста и генераторы: `@contextmanager`"
      ]
    },
    {
      "cell_type": "markdown",
      "metadata": {
        "id": "MfntTf2bJoqJ"
      },
      "source": [
        "Декоратор `contextmanager` из модуля `contextlib`\n",
        "принимает генератор специального вида и строит по нему\n",
        "менеджер контекста."
      ]
    },
    {
      "cell_type": "code",
      "metadata": {
        "id": "5cQaqHs2vnyb"
      },
      "source": [
        "from contextlib import contextmanager\n",
        "@contextmanager\n",
        "def cd(path):              # __init__\n",
        "    old_path = os.getcwd() # __enter__\n",
        "    os.chdir(path)\n",
        "    try:\n",
        "        yield              # ---------\n",
        "    finally:\n",
        "        os.chdir(old_path) # __exit__"
      ],
      "execution_count": 63,
      "outputs": []
    },
    {
      "cell_type": "markdown",
      "metadata": {
        "id": "qzv2uOpjJ39S"
      },
      "source": [
        "Генераторы позволяют сократить количество\n",
        "синтаксического шума при реализации менеджеров\n",
        "контекста."
      ]
    },
    {
      "cell_type": "markdown",
      "metadata": {
        "id": "SXrUidmCvp3d"
      },
      "source": [
        "## Ещё один пример использования `@contextmanager`"
      ]
    },
    {
      "cell_type": "markdown",
      "metadata": {
        "id": "g9Cu90IHJ-gw"
      },
      "source": [
        "Метод `__enter__`, построенный декоратором `contextmanager`,\n",
        "возвращает аргумент оператора `yield`:"
      ]
    },
    {
      "cell_type": "code",
      "metadata": {
        "id": "y5UlX66wvrSw",
        "colab": {
          "base_uri": "https://localhost:8080/"
        },
        "outputId": "f8b3087e-7254-4673-edbe-dba80ceaa848"
      },
      "source": [
        "from contextlib import contextmanager\n",
        "import tempfile\n",
        "import shutil\n",
        "@contextmanager\n",
        "def tempdir():                  # __init__\n",
        "    outdir = tempfile.mkdtemp() # __enter__\n",
        "    try:\n",
        "        yield outdir            # ---------\n",
        "    finally:\n",
        "        shutil.rmtree(outdir)   # __exit__\n",
        "\n",
        "with tempdir() as path:\n",
        "    print(path)"
      ],
      "execution_count": 64,
      "outputs": [
        {
          "output_type": "stream",
          "name": "stdout",
          "text": [
            "/tmp/tmp1ryw8ey7\n"
          ]
        }
      ]
    },
    {
      "cell_type": "markdown",
      "metadata": {
        "id": "Y2cx6ij3vxiG"
      },
      "source": [
        "## Генераторы: резюме"
      ]
    },
    {
      "cell_type": "markdown",
      "metadata": {
        "id": "b_6UZNQlv07z"
      },
      "source": [
        "*   Генератор в Python — это функция, которая использует\n",
        "операторы `yield` или `yield from`.\n",
        "*   В мире Python генераторы вездесущи не менее, чем\n",
        "любимые всеми декораторы.\n",
        "*   Мы поговорили о том, что генераторы можно использовать\n",
        "    *   как итераторы,\n",
        "    *   как сопрограммы,\n",
        "    *   для компактной реализации менеджеров контекста."
      ]
    },
    {
      "cell_type": "markdown",
      "metadata": {
        "id": "ylXUCPOgIArJ"
      },
      "source": [
        "# Модуль `itertools`"
      ]
    },
    {
      "cell_type": "markdown",
      "metadata": {
        "id": "gO1yqCoANmk8"
      },
      "source": [
        "\n",
        "- Модуль представляет собой набор инструментов для работы с итераторами и последовательностями.<br><br>\n",
        "- Содержит три основных типа итераторов:<br><br>\n",
        "    - бесконечные итераторы,\n",
        "    - конечные итераторы,\n",
        "    - комбинаторные итераторы.<br><br>\n",
        "\n",
        "- Позволяет эффективно решать небольшие задачи вида:<br><br>\n",
        "    - итерирование по бесконечному потоку,\n",
        "    - слияние в один список вложенных списков,\n",
        "    - генерация комбинаторного перебора сочетаний элементов последовательности,\n",
        "    - аккумуляция и агрегация данных внутри последовательности."
      ]
    },
    {
      "cell_type": "markdown",
      "metadata": {
        "id": "HRMahKT7Nmk8"
      },
      "source": [
        "## Модуль `itetools`: примеры"
      ]
    },
    {
      "cell_type": "markdown",
      "metadata": {
        "id": "06QntxrIMUmH"
      },
      "source": [
        "### `count`"
      ]
    },
    {
      "cell_type": "code",
      "metadata": {
        "id": "veLe-t8iNmk8",
        "colab": {
          "base_uri": "https://localhost:8080/"
        },
        "outputId": "90f6d230-cbcb-49b3-a2be-57a51f1eb209"
      },
      "source": [
        "from itertools import count\n",
        "\n",
        "for i in count(start=0):\n",
        "    print(i, end='  ')\n",
        "    if i == 5:\n",
        "        break"
      ],
      "execution_count": 65,
      "outputs": [
        {
          "output_type": "stream",
          "name": "stdout",
          "text": [
            "0  1  2  3  4  5  "
          ]
        }
      ]
    },
    {
      "cell_type": "markdown",
      "metadata": {
        "id": "wFRdTZ6zMZOW"
      },
      "source": [
        "### `cycle`"
      ]
    },
    {
      "cell_type": "code",
      "metadata": {
        "id": "R_ioN9D3Nmk8",
        "colab": {
          "base_uri": "https://localhost:8080/"
        },
        "outputId": "3b43d4b8-95ab-473b-c2f7-5238b35bdaec"
      },
      "source": [
        "from itertools import cycle\n",
        " \n",
        "n = 0\n",
        "for item in cycle('XYZ'):\n",
        "    if n > 4:\n",
        "        break\n",
        "    print(item, end='  ')\n",
        "    n += 1"
      ],
      "execution_count": 66,
      "outputs": [
        {
          "output_type": "stream",
          "name": "stdout",
          "text": [
            "X  Y  Z  X  Y  "
          ]
        }
      ]
    },
    {
      "cell_type": "markdown",
      "metadata": {
        "id": "9szkxcusMchu"
      },
      "source": [
        "### `accumulate`"
      ]
    },
    {
      "cell_type": "code",
      "metadata": {
        "id": "-W_q-1rtNmk9",
        "colab": {
          "base_uri": "https://localhost:8080/"
        },
        "outputId": "ba15a966-fbbb-40f2-eff9-b01553349134"
      },
      "source": [
        "from itertools import accumulate\n",
        "\n",
        "for i in accumulate(range(1, 5), lambda x, y: x * y):\n",
        "    print(i)"
      ],
      "execution_count": 67,
      "outputs": [
        {
          "output_type": "stream",
          "name": "stdout",
          "text": [
            "1\n",
            "2\n",
            "6\n",
            "24\n"
          ]
        }
      ]
    },
    {
      "cell_type": "markdown",
      "metadata": {
        "id": "Yt0OFLogNGmc"
      },
      "source": [
        "### `chain`"
      ]
    },
    {
      "cell_type": "code",
      "metadata": {
        "id": "MzlfFq3QNmk9",
        "colab": {
          "base_uri": "https://localhost:8080/"
        },
        "outputId": "f0780500-f752-4455-ee4d-ff96744fc8e7"
      },
      "source": [
        "from itertools import chain\n",
        "\n",
        "for i in chain([1, 2], [3], [4]):\n",
        "    print(i)"
      ],
      "execution_count": 68,
      "outputs": [
        {
          "output_type": "stream",
          "name": "stdout",
          "text": [
            "1\n",
            "2\n",
            "3\n",
            "4\n"
          ]
        }
      ]
    },
    {
      "cell_type": "code",
      "metadata": {
        "colab": {
          "base_uri": "https://localhost:8080/"
        },
        "id": "2Qo6n8pE1B6a",
        "outputId": "12b152ff-93ea-4182-f27a-40a98fb5e677"
      },
      "source": [
        "from itertools import chain\n",
        "\n",
        "chain_two = chain(range(2), range(5, 10))\n",
        "print(chain_two)\n",
        "list(chain_two)"
      ],
      "execution_count": 69,
      "outputs": [
        {
          "output_type": "stream",
          "name": "stdout",
          "text": [
            "<itertools.chain object at 0x7f8e238a8810>\n"
          ]
        },
        {
          "output_type": "execute_result",
          "data": {
            "text/plain": [
              "[0, 1, 5, 6, 7, 8, 9]"
            ]
          },
          "metadata": {},
          "execution_count": 69
        }
      ]
    },
    {
      "cell_type": "markdown",
      "metadata": {
        "id": "N1Y3zabrNmk9"
      },
      "source": [
        "### `groupby`"
      ]
    },
    {
      "cell_type": "code",
      "metadata": {
        "id": "NLVCgV9GNmk9",
        "colab": {
          "base_uri": "https://localhost:8080/"
        },
        "outputId": "5c526fa2-f455-43e9-e826-c93c2d520731"
      },
      "source": [
        "from itertools import groupby\n",
        " \n",
        "vehicles = [('Ford', 'Taurus'), ('Dodge', 'Durango'),\n",
        "            ('Chevrolet', 'Cobalt'), ('Ford', 'F150'),\n",
        "            ('Dodge', 'Charger'), ('Ford', 'GT')]\n",
        " \n",
        "sorted_vehicles = sorted(vehicles)\n",
        "\n",
        "print(sorted_vehicles)\n",
        "print()\n",
        " \n",
        "for key, group in groupby(sorted_vehicles, lambda x: x[0]):\n",
        "    for maker, model in group:\n",
        "        print('{model} is made by {maker}'.format(model=model, maker=maker))\n",
        "    \n",
        "    print (\"**** END OF THE GROUP ***\\n\")"
      ],
      "execution_count": 70,
      "outputs": [
        {
          "output_type": "stream",
          "name": "stdout",
          "text": [
            "[('Chevrolet', 'Cobalt'), ('Dodge', 'Charger'), ('Dodge', 'Durango'), ('Ford', 'F150'), ('Ford', 'GT'), ('Ford', 'Taurus')]\n",
            "\n",
            "Cobalt is made by Chevrolet\n",
            "**** END OF THE GROUP ***\n",
            "\n",
            "Charger is made by Dodge\n",
            "Durango is made by Dodge\n",
            "**** END OF THE GROUP ***\n",
            "\n",
            "F150 is made by Ford\n",
            "GT is made by Ford\n",
            "Taurus is made by Ford\n",
            "**** END OF THE GROUP ***\n",
            "\n"
          ]
        }
      ]
    },
    {
      "cell_type": "markdown",
      "metadata": {
        "id": "-f1oacVuV5W_"
      },
      "source": [
        "## Модуль `itertools`: `islice`"
      ]
    },
    {
      "cell_type": "markdown",
      "metadata": {
        "id": "QAemn5GsN0IE"
      },
      "source": [
        "Функция `islice` обобщает понятие слайса на\n",
        "произвольный итератор:"
      ]
    },
    {
      "cell_type": "code",
      "metadata": {
        "colab": {
          "base_uri": "https://localhost:8080/"
        },
        "id": "q3ck_0OIPO3M",
        "outputId": "7e583284-ff5b-4bdb-913e-cb6d357b1823"
      },
      "source": [
        "from itertools import islice\n",
        "xs = range(10)\n",
        "list(islice(xs, 3)) # ≡ xs[:3]"
      ],
      "execution_count": 71,
      "outputs": [
        {
          "output_type": "execute_result",
          "data": {
            "text/plain": [
              "[0, 1, 2]"
            ]
          },
          "metadata": {},
          "execution_count": 71
        }
      ]
    },
    {
      "cell_type": "code",
      "metadata": {
        "colab": {
          "base_uri": "https://localhost:8080/"
        },
        "id": "VneqfAtZPQxg",
        "outputId": "0b03a851-5d07-4ec3-ee5f-2b9f5a52fae0"
      },
      "source": [
        "list(islice(xs, 3, None)) # ≡ xs[3:]"
      ],
      "execution_count": 72,
      "outputs": [
        {
          "output_type": "execute_result",
          "data": {
            "text/plain": [
              "[3, 4, 5, 6, 7, 8, 9]"
            ]
          },
          "metadata": {},
          "execution_count": 72
        }
      ]
    },
    {
      "cell_type": "code",
      "metadata": {
        "colab": {
          "base_uri": "https://localhost:8080/"
        },
        "id": "o8LN4UxQPQl9",
        "outputId": "406613fc-1d66-4d0e-b9f0-38dabd18a513"
      },
      "source": [
        "list(islice(xs, 3, 8, 2)) # ≡ xs[3:8:2]"
      ],
      "execution_count": 73,
      "outputs": [
        {
          "output_type": "execute_result",
          "data": {
            "text/plain": [
              "[3, 5, 7]"
            ]
          },
          "metadata": {},
          "execution_count": 73
        }
      ]
    },
    {
      "cell_type": "markdown",
      "metadata": {
        "id": "iVmTuyCkQmoM"
      },
      "source": [
        "## Модуль `itertools`: бесконечные итераторы"
      ]
    },
    {
      "cell_type": "markdown",
      "metadata": {
        "id": "g7R380MmQs2t"
      },
      "source": [
        "Для удобства реализуем функцию `take`, которая строит список из более чем `n`\n",
        "первых элементов переданного ей итератора."
      ]
    },
    {
      "cell_type": "code",
      "metadata": {
        "id": "avkieUHlQ0Ed"
      },
      "source": [
        "from itertools import islice\n",
        "def take(n, iterable):\n",
        "    return list(islice(iterable, n))"
      ],
      "execution_count": 74,
      "outputs": []
    },
    {
      "cell_type": "code",
      "metadata": {
        "colab": {
          "base_uri": "https://localhost:8080/"
        },
        "id": "hV3GuVCT6YaP",
        "outputId": "8c593922-4612-45ee-c286-748dce9720c1"
      },
      "source": [
        "take(3, range(10))"
      ],
      "execution_count": 75,
      "outputs": [
        {
          "output_type": "execute_result",
          "data": {
            "text/plain": [
              "[0, 1, 2]"
            ]
          },
          "metadata": {},
          "execution_count": 75
        }
      ]
    },
    {
      "cell_type": "markdown",
      "metadata": {
        "id": "XUNm01QzRFxs"
      },
      "source": [
        "Названия бесконечных итераторов говорят сами за себя:"
      ]
    },
    {
      "cell_type": "code",
      "metadata": {
        "colab": {
          "base_uri": "https://localhost:8080/"
        },
        "id": "2pG2DDxERI1t",
        "outputId": "7e4988f8-9c98-41a6-d5fa-966513a38bdb"
      },
      "source": [
        "from itertools import count, cycle, repeat\n",
        "take(3, count(0, 5))"
      ],
      "execution_count": 76,
      "outputs": [
        {
          "output_type": "execute_result",
          "data": {
            "text/plain": [
              "[0, 5, 10]"
            ]
          },
          "metadata": {},
          "execution_count": 76
        }
      ]
    },
    {
      "cell_type": "code",
      "metadata": {
        "colab": {
          "base_uri": "https://localhost:8080/"
        },
        "id": "fC7YIQSBRUkc",
        "outputId": "39a2f92e-b336-4a1d-c276-2c422df35837"
      },
      "source": [
        "take(5, cycle([1, 2, 3]))"
      ],
      "execution_count": 77,
      "outputs": [
        {
          "output_type": "execute_result",
          "data": {
            "text/plain": [
              "[1, 2, 3, 1, 2]"
            ]
          },
          "metadata": {},
          "execution_count": 77
        }
      ]
    },
    {
      "cell_type": "code",
      "metadata": {
        "colab": {
          "base_uri": "https://localhost:8080/"
        },
        "id": "D-npIxsTRUdm",
        "outputId": "bf45bbc5-e1e0-477d-f86b-279ec449e2b3"
      },
      "source": [
        "take(3, repeat(42))"
      ],
      "execution_count": 78,
      "outputs": [
        {
          "output_type": "execute_result",
          "data": {
            "text/plain": [
              "[42, 42, 42]"
            ]
          },
          "metadata": {},
          "execution_count": 78
        }
      ]
    },
    {
      "cell_type": "code",
      "metadata": {
        "colab": {
          "base_uri": "https://localhost:8080/"
        },
        "id": "MsoF2b7aRUYZ",
        "outputId": "beabd157-9a53-4a66-affe-cb88e91a7eb3"
      },
      "source": [
        "take(6, repeat(42, 2))"
      ],
      "execution_count": 79,
      "outputs": [
        {
          "output_type": "execute_result",
          "data": {
            "text/plain": [
              "[42, 42]"
            ]
          },
          "metadata": {},
          "execution_count": 79
        }
      ]
    },
    {
      "cell_type": "markdown",
      "metadata": {
        "id": "DKignB1lRf8u"
      },
      "source": [
        "## Модуль `itertools`: `dropwhile` и `takewhile`"
      ]
    },
    {
      "cell_type": "markdown",
      "metadata": {
        "id": "HEvGjXHQQbGe"
      },
      "source": [
        "* Функции `dropwhile` и `takewhile` обобщают логику функций\n",
        "`drop` и `take` на произвольный предикат.\n",
        "* Обратите внимание, что обе функции возвращают\n",
        "итератор, а не список, как реализованная нами функция\n",
        "`take`:"
      ]
    },
    {
      "cell_type": "code",
      "metadata": {
        "id": "KzmN4XoC06Qe",
        "colab": {
          "base_uri": "https://localhost:8080/"
        },
        "outputId": "c22b6dad-7599-4eb8-aecd-c678fd0c184d"
      },
      "source": [
        "from itertools import dropwhile, takewhile\n",
        "list(dropwhile(lambda x: x < 5, range(10)))"
      ],
      "execution_count": 80,
      "outputs": [
        {
          "output_type": "execute_result",
          "data": {
            "text/plain": [
              "[5, 6, 7, 8, 9]"
            ]
          },
          "metadata": {},
          "execution_count": 80
        }
      ]
    },
    {
      "cell_type": "code",
      "metadata": {
        "id": "BrvhbQ2qR8TU",
        "colab": {
          "base_uri": "https://localhost:8080/"
        },
        "outputId": "ab24719a-8daf-487c-ad08-e5cd785e8506"
      },
      "source": [
        "it = takewhile(lambda x: x < 5, range(10))\n",
        "it"
      ],
      "execution_count": 81,
      "outputs": [
        {
          "output_type": "execute_result",
          "data": {
            "text/plain": [
              "<itertools.takewhile at 0x7f8e237f3e10>"
            ]
          },
          "metadata": {},
          "execution_count": 81
        }
      ]
    },
    {
      "cell_type": "code",
      "metadata": {
        "id": "0xnGF8T4R8N2",
        "colab": {
          "base_uri": "https://localhost:8080/"
        },
        "outputId": "7ac94c3c-6837-47fe-a7d4-4bbacf50b86b"
      },
      "source": [
        "list(it)"
      ],
      "execution_count": 82,
      "outputs": [
        {
          "output_type": "execute_result",
          "data": {
            "text/plain": [
              "[0, 1, 2, 3, 4]"
            ]
          },
          "metadata": {},
          "execution_count": 82
        }
      ]
    },
    {
      "cell_type": "markdown",
      "metadata": {
        "id": "x8Poz-XLS_6Z"
      },
      "source": [
        "## Модуль `itertools`: `chain`"
      ]
    },
    {
      "cell_type": "markdown",
      "metadata": {
        "id": "FeLv5s9bTLt5"
      },
      "source": [
        "В модуле `itertools` реализован \n",
        "генератор `chain`, который конкатенирует произвольное\n",
        "число итераторов:"
      ]
    },
    {
      "cell_type": "code",
      "metadata": {
        "colab": {
          "base_uri": "https://localhost:8080/"
        },
        "id": "xQieZEkhTAVv",
        "outputId": "49acdbcc-ae1d-49e1-a0c8-32e4e681e7b0"
      },
      "source": [
        "from itertools import chain\n",
        "take(5, chain(range(2), range(5, 10)))"
      ],
      "execution_count": 83,
      "outputs": [
        {
          "output_type": "execute_result",
          "data": {
            "text/plain": [
              "[0, 1, 5, 6, 7]"
            ]
          },
          "metadata": {},
          "execution_count": 83
        }
      ]
    },
    {
      "cell_type": "markdown",
      "metadata": {
        "id": "8ernfvZrTAVx"
      },
      "source": [
        "Сконкатенировать итератор итераторов (!) можно с\n",
        "помощью метода `chain.from_iterable`:"
      ]
    },
    {
      "cell_type": "code",
      "metadata": {
        "id": "hj43sK47TAVx",
        "colab": {
          "base_uri": "https://localhost:8080/"
        },
        "outputId": "40f7ba65-9fe3-4d56-d080-2c640ee3583b"
      },
      "source": [
        "it = (range(x, x ** x) for x in range(2, 4))\n",
        "take(5, chain.from_iterable(it))"
      ],
      "execution_count": 84,
      "outputs": [
        {
          "output_type": "execute_result",
          "data": {
            "text/plain": [
              "[2, 3, 3, 4, 5]"
            ]
          },
          "metadata": {},
          "execution_count": 84
        }
      ]
    },
    {
      "cell_type": "markdown",
      "metadata": {
        "id": "uHP_JG_tTX9h"
      },
      "source": [
        "## Модуль `itertools`: `tee`"
      ]
    },
    {
      "cell_type": "markdown",
      "metadata": {
        "id": "S6V1oLtOTcjG"
      },
      "source": [
        "Функция `tee` создаёт `n` независимых копий переданного ей\n",
        "итератора:"
      ]
    },
    {
      "cell_type": "code",
      "metadata": {
        "colab": {
          "base_uri": "https://localhost:8080/"
        },
        "id": "evQaW-SPThdr",
        "outputId": "634ac00a-e1be-483c-c723-700954c2763e"
      },
      "source": [
        "from itertools import tee\n",
        "it = range(3)\n",
        "a, b, c = tee(it, 3)\n",
        "list(a), list(b), list(c)"
      ],
      "execution_count": 85,
      "outputs": [
        {
          "output_type": "execute_result",
          "data": {
            "text/plain": [
              "([0, 1, 2], [0, 1, 2], [0, 1, 2])"
            ]
          },
          "metadata": {},
          "execution_count": 85
        }
      ]
    },
    {
      "cell_type": "markdown",
      "metadata": {
        "id": "E8l93UovTmC5"
      },
      "source": [
        "Использовать `it` после копирования не рекомендуется,\n",
        "потому что в этом случае скопированные итераторы\n",
        "`a`, `b`, `c` могут пропустить элемент:"
      ]
    },
    {
      "cell_type": "code",
      "metadata": {
        "id": "PxVRiNa-TyTY",
        "colab": {
          "base_uri": "https://localhost:8080/"
        },
        "outputId": "a248a970-6418-41e0-9f0d-9a878381eee4"
      },
      "source": [
        "it = iter(range(3))\n",
        "a, b = tee(it, 2)\n",
        "used = list(it)\n",
        "list(a), list(b)"
      ],
      "execution_count": 86,
      "outputs": [
        {
          "output_type": "execute_result",
          "data": {
            "text/plain": [
              "([], [])"
            ]
          },
          "metadata": {},
          "execution_count": 86
        }
      ]
    },
    {
      "cell_type": "markdown",
      "metadata": {
        "id": "ASmwWZS8T6sK"
      },
      "source": [
        "## Модуль `itertools`: комбинаторные итераторы"
      ]
    },
    {
      "cell_type": "markdown",
      "metadata": {
        "id": "HhC9E-TDT-x2"
      },
      "source": [
        "В модуле `itertools` в виде итераторов реализованы полезные\n",
        "комбинаторные операции, например:  \n",
        "* декартово произведение итераторов,"
      ]
    },
    {
      "cell_type": "code",
      "metadata": {
        "id": "MzbO1L-hT4e-",
        "colab": {
          "base_uri": "https://localhost:8080/"
        },
        "outputId": "dd371f3d-9dce-40ed-847a-08c868b1ce16"
      },
      "source": [
        "import itertools\n",
        "list(itertools.product(\"AB\", repeat=2))"
      ],
      "execution_count": 87,
      "outputs": [
        {
          "output_type": "execute_result",
          "data": {
            "text/plain": [
              "[('A', 'A'), ('A', 'B'), ('B', 'A'), ('B', 'B')]"
            ]
          },
          "metadata": {},
          "execution_count": 87
        }
      ]
    },
    {
      "cell_type": "code",
      "metadata": {
        "id": "l4OpI2a7T4cI",
        "colab": {
          "base_uri": "https://localhost:8080/"
        },
        "outputId": "f27a1424-8919-41ba-de61-91edbf70af55"
      },
      "source": [
        "list(itertools.product(\"AB\", repeat=3))"
      ],
      "execution_count": 88,
      "outputs": [
        {
          "output_type": "execute_result",
          "data": {
            "text/plain": [
              "[('A', 'A', 'A'),\n",
              " ('A', 'A', 'B'),\n",
              " ('A', 'B', 'A'),\n",
              " ('A', 'B', 'B'),\n",
              " ('B', 'A', 'A'),\n",
              " ('B', 'A', 'B'),\n",
              " ('B', 'B', 'A'),\n",
              " ('B', 'B', 'B')]"
            ]
          },
          "metadata": {},
          "execution_count": 88
        }
      ]
    },
    {
      "cell_type": "markdown",
      "metadata": {
        "id": "rgiA9uuSUJz8"
      },
      "source": [
        "* перестановки элементов итератора,"
      ]
    },
    {
      "cell_type": "code",
      "metadata": {
        "id": "9XoB1LwrT4YY",
        "colab": {
          "base_uri": "https://localhost:8080/"
        },
        "outputId": "5b93a06e-8125-40ac-8cbc-17ebb07d734b"
      },
      "source": [
        "list(itertools.permutations(\"AB\"))"
      ],
      "execution_count": 89,
      "outputs": [
        {
          "output_type": "execute_result",
          "data": {
            "text/plain": [
              "[('A', 'B'), ('B', 'A')]"
            ]
          },
          "metadata": {},
          "execution_count": 89
        }
      ]
    },
    {
      "cell_type": "markdown",
      "metadata": {
        "id": "XZ8PIdqeUVH9"
      },
      "source": [
        "* сочетания (с повторениями и без) из элементов итератора."
      ]
    },
    {
      "cell_type": "code",
      "metadata": {
        "id": "sAAYj4GUT4VY",
        "colab": {
          "base_uri": "https://localhost:8080/"
        },
        "outputId": "7da528eb-a0b7-4db9-9f01-3025427d84a6"
      },
      "source": [
        "from itertools import combinations, \\\n",
        "    combinations_with_replacement\n",
        "list(combinations(\"ABC\", 2))"
      ],
      "execution_count": 90,
      "outputs": [
        {
          "output_type": "execute_result",
          "data": {
            "text/plain": [
              "[('A', 'B'), ('A', 'C'), ('B', 'C')]"
            ]
          },
          "metadata": {},
          "execution_count": 90
        }
      ]
    },
    {
      "cell_type": "code",
      "metadata": {
        "id": "BGxhZ9ART4Rx",
        "colab": {
          "base_uri": "https://localhost:8080/"
        },
        "outputId": "fc742515-257b-4509-cc2b-5a209068d853"
      },
      "source": [
        "list(combinations_with_replacement(\"ABC\", 2))"
      ],
      "execution_count": 91,
      "outputs": [
        {
          "output_type": "execute_result",
          "data": {
            "text/plain": [
              "[('A', 'A'), ('A', 'B'), ('A', 'C'), ('B', 'B'), ('B', 'C'), ('C', 'C')]"
            ]
          },
          "metadata": {},
          "execution_count": 91
        }
      ]
    },
    {
      "cell_type": "markdown",
      "metadata": {
        "id": "PW53ANEBUmHb"
      },
      "source": [
        "## Модуль `itertools`: резюме"
      ]
    },
    {
      "cell_type": "markdown",
      "metadata": {
        "id": "sTrshqxkUrAh"
      },
      "source": [
        "* Модуль `itertools` предоставляет обширный набор\n",
        "компонент для реализации операций над\n",
        "последовательностями.\n",
        "* Мы обсудили:\n",
        "    * `islice`,\n",
        "    * бесконечные итераторы `count`, `cycle`, `repeat`,\n",
        "    * `chain`,\n",
        "    * `tee`,\n",
        "    * `groupby`,\n",
        "    * `accumulate`,\n",
        "\n",
        "    * комбинаторные итераторы `product`, `permutations`,\n",
        "`combinations` и `combinations_with_replacement`."
      ]
    }
  ]
}
