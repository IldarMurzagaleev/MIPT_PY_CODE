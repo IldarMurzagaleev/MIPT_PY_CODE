{
  "nbformat": 4,
  "nbformat_minor": 0,
  "metadata": {
    "colab": {
      "name": "Потоки_процессы_21_10.ipynb",
      "provenance": [],
      "collapsed_sections": [],
      "authorship_tag": "ABX9TyPRhIvvvrtUDFRHRsVaNopX",
      "include_colab_link": true
    },
    "kernelspec": {
      "name": "python3",
      "display_name": "Python 3"
    },
    "language_info": {
      "name": "python"
    }
  },
  "cells": [
    {
      "cell_type": "markdown",
      "metadata": {
        "id": "view-in-github",
        "colab_type": "text"
      },
      "source": [
        "<a href=\"https://colab.research.google.com/github/pythonkvs/seminars/blob/main/%D0%AD%D1%84%D1%84%D0%B5%D0%BA%D1%82%D0%B8%D0%B2%D0%BD%D0%BE%D1%81%D1%82%D1%8C_%D0%BA%D0%BE%D0%B4%D0%B0_%D0%BF%D0%BE%D1%82%D0%BE%D0%BA%D0%B8_%D0%BF%D1%80%D0%BE%D1%86%D0%B5%D1%81%D1%81%D1%8B/%D0%9F%D0%BE%D1%82%D0%BE%D0%BA%D0%B8_%D0%BF%D1%80%D0%BE%D1%86%D0%B5%D1%81%D1%81%D1%8B_21_10.ipynb\" target=\"_parent\"><img src=\"https://colab.research.google.com/assets/colab-badge.svg\" alt=\"Open In Colab\"/></a>"
      ]
    },
    {
      "cell_type": "markdown",
      "metadata": {
        "id": "7Tu5vcgB0Iu3"
      },
      "source": [
        "https://compscicenter.ru/courses/python/2015-autumn/classes/1562/"
      ]
    },
    {
      "cell_type": "markdown",
      "metadata": {
        "id": "GvRu0AMR5QHK"
      },
      "source": [
        "# Многопоточность и GIL"
      ]
    },
    {
      "cell_type": "markdown",
      "metadata": {
        "id": "ZtY_8fY85Tpp"
      },
      "source": [
        "## Процесс"
      ]
    },
    {
      "cell_type": "markdown",
      "metadata": {
        "id": "4dIxN8i05Wzh"
      },
      "source": [
        "* Процесс — запущенная программа.\n",
        "* У каждого процесса есть изолированное от других\n",
        "процессов состояние:\n",
        "    * виртуальное адресное пространство,\n",
        "    * указатель на исполняемую инструкцию,\n",
        "    * стек вызовов,\n",
        "    * системные ресурсы, например, открытые файловые\n",
        "дескрипторы.\n",
        "* Процессы удобны для одновременного выполнения\n",
        "нескольких задач.\n",
        "* Альтернативный способ: делегировать каждую задачу на\n",
        "выполнение потоку."
      ]
    },
    {
      "cell_type": "markdown",
      "metadata": {
        "id": "PXiRlD5B5fu6"
      },
      "source": [
        "## Поток"
      ]
    },
    {
      "cell_type": "markdown",
      "metadata": {
        "id": "BHepZ0Nt5jGa"
      },
      "source": [
        "* Поток похож на процесс тем, что его исполнение\n",
        "происходит независимо от других потоков (и процессов).\n",
        "* В отличие от процесса поток исполняется внутри процесса\n",
        "и разделяет с ним адресное пространство и системные\n",
        "ресурсы.\n",
        "* Потоки удобны для одновременного выполнения\n",
        "нескольких задач, которым требуется доступ к\n",
        "разделяемому состоянию.\n",
        "* Совместным выполнением нескольких процессов и\n",
        "потоков управляет операционная система, поочерёдно\n",
        "разрешая каждому процессу или потоку использовать\n",
        "сколько-то циклов процессора."
      ]
    },
    {
      "cell_type": "markdown",
      "metadata": {
        "id": "GJgrK3Pi5noQ"
      },
      "source": [
        "# Модуль `threading`"
      ]
    },
    {
      "cell_type": "markdown",
      "metadata": {
        "id": "tGww5r5W5tgY"
      },
      "source": [
        "* Поток в Python — это системный поток, то есть его\n",
        "выполнением управляет не интерпретатор, а\n",
        "операционная система.\n",
        "* Создать поток можно с помощью класса `Thread` из модуля\n",
        "стандартной библиотеки `threading`.\n",
        "* Пример:"
      ]
    },
    {
      "cell_type": "code",
      "metadata": {
        "id": "2d4KJ8_K50a1",
        "colab": {
          "base_uri": "https://localhost:8080/"
        },
        "outputId": "d11e13fa-8929-430f-a31d-9beb873a996f"
      },
      "source": [
        "import time\n",
        "from threading import Thread\n",
        "\n",
        "\n",
        "def countdown(n):\n",
        "    for i in range(n):\n",
        "        print(n - i - 1, \"left\")\n",
        "        time.sleep(1)\n",
        "\n",
        "t = Thread(target=countdown, args=(3, ))\n",
        "t.start()\n",
        "# t.join()"
      ],
      "execution_count": 57,
      "outputs": [
        {
          "output_type": "stream",
          "name": "stdout",
          "text": [
            "2 left\n"
          ]
        }
      ]
    },
    {
      "cell_type": "markdown",
      "metadata": {
        "id": "bt80muGP59RQ"
      },
      "source": [
        "## Наследование класса `Thread`"
      ]
    },
    {
      "cell_type": "markdown",
      "metadata": {
        "id": "D0XoSvvW6AHQ"
      },
      "source": [
        "Альтернативный способ создания потока — наследование:"
      ]
    },
    {
      "cell_type": "code",
      "metadata": {
        "id": "KzZ8Om8U6C9J",
        "colab": {
          "base_uri": "https://localhost:8080/"
        },
        "outputId": "e5c6554c-3f48-441a-c20c-88a51be9c16a"
      },
      "source": [
        "class CountdownThread(Thread):\n",
        "    def __init__(self, n):\n",
        "        super().__init__()\n",
        "        self.n = n\n",
        "\n",
        "    def run(self): # вызывается методом start.\n",
        "        for i in range(self.n):\n",
        "            print(self.n - i - 1, \"left\")\n",
        "            time.sleep(1)\n",
        "\n",
        "\n",
        "t = CountdownThread(3)\n",
        "t.start()"
      ],
      "execution_count": 2,
      "outputs": [
        {
          "output_type": "stream",
          "name": "stdout",
          "text": [
            "2"
          ]
        }
      ]
    },
    {
      "cell_type": "markdown",
      "metadata": {
        "id": "cdf5_ns66OIf"
      },
      "source": [
        "Минус такого подхода в том, что он ограничивает\n",
        "переиспользование кода: функциональность класса\n",
        "`CountdownThread` можно использовать только в отдельном\n",
        "потоке."
      ]
    },
    {
      "cell_type": "markdown",
      "metadata": {
        "id": "k3uomVTF6RPw"
      },
      "source": [
        "## Имя и идентификатор потока"
      ]
    },
    {
      "cell_type": "markdown",
      "metadata": {
        "id": "0VsZVpTc6UwA"
      },
      "source": [
        "* При создании потоку можно указать имя. По умолчанию\n",
        "оно `\"Thread-N\"`:"
      ]
    },
    {
      "cell_type": "code",
      "metadata": {
        "id": "PUDGXYZN6Zvv",
        "colab": {
          "base_uri": "https://localhost:8080/",
          "height": 52
        },
        "outputId": "4d42c4a9-1687-4ec6-c87e-ee3e5a91e71f"
      },
      "source": [
        "Thread().name"
      ],
      "execution_count": 3,
      "outputs": [
        {
          "output_type": "stream",
          "name": "stdout",
          "text": [
            " left\n"
          ]
        },
        {
          "output_type": "execute_result",
          "data": {
            "application/vnd.google.colaboratory.intrinsic+json": {
              "type": "string"
            },
            "text/plain": [
              "'Thread-13'"
            ]
          },
          "metadata": {},
          "execution_count": 3
        }
      ]
    },
    {
      "cell_type": "code",
      "metadata": {
        "id": "xDGnx1dt6bb-",
        "colab": {
          "base_uri": "https://localhost:8080/",
          "height": 35
        },
        "outputId": "9b08bb26-fa82-4ac0-cab1-8e4c695f9482"
      },
      "source": [
        "Thread(name=\"NumberCruncher\").name"
      ],
      "execution_count": 4,
      "outputs": [
        {
          "output_type": "execute_result",
          "data": {
            "application/vnd.google.colaboratory.intrinsic+json": {
              "type": "string"
            },
            "text/plain": [
              "'NumberCruncher'"
            ]
          },
          "metadata": {},
          "execution_count": 4
        }
      ]
    },
    {
      "cell_type": "markdown",
      "metadata": {
        "id": "v47lEFXH6fen"
      },
      "source": [
        "* У каждого активного потока есть идентификатор —\n",
        "неотрицательное число, уникальное для всех активных\n",
        "потоков."
      ]
    },
    {
      "cell_type": "code",
      "metadata": {
        "id": "1Bd3FTts6h7V",
        "colab": {
          "base_uri": "https://localhost:8080/"
        },
        "outputId": "34bf796f-4f50-4bfa-daeb-5f8e7b255bc5"
      },
      "source": [
        "t = Thread()\n",
        "t.start()\n",
        "t.ident"
      ],
      "execution_count": 5,
      "outputs": [
        {
          "output_type": "execute_result",
          "data": {
            "text/plain": [
              "140088184887040"
            ]
          },
          "metadata": {},
          "execution_count": 5
        }
      ]
    },
    {
      "cell_type": "markdown",
      "metadata": {
        "id": "Hc6c9yLi6lVA"
      },
      "source": [
        "## Присоединение потоков"
      ]
    },
    {
      "cell_type": "markdown",
      "metadata": {
        "id": "wIKuepdi6n2I"
      },
      "source": [
        "* Метод `join` позволяет дождаться завершения потока.\n",
        "    * Выполнение вызывающего потока приостановится, пока не\n",
        "завершится поток `t`.\n",
        "    * Повторные вызовы метода `join` не имеют эффекта.\n",
        "    * Пример:"
      ]
    },
    {
      "cell_type": "code",
      "metadata": {
        "id": "VBnE-KHu6qnW",
        "colab": {
          "base_uri": "https://localhost:8080/"
        },
        "outputId": "2bc71585-f256-4b18-f945-07cd53d9ce85"
      },
      "source": [
        "t = Thread(target=time.sleep, args=(5, ))\n",
        "t.start()\n",
        "t.join() # блокируется на 5 секунд\n",
        "t.join() # выполняется моментально"
      ],
      "execution_count": 6,
      "outputs": [
        {
          "output_type": "stream",
          "name": "stdout",
          "text": [
            "0 left\n",
            "1 left\n",
            "0 left\n"
          ]
        }
      ]
    },
    {
      "cell_type": "markdown",
      "metadata": {
        "id": "ArJ0JUtJ6sjg"
      },
      "source": [
        "* Проверить, выполняется ли поток, можно с помощью\n",
        "метода `is_alive`:"
      ]
    },
    {
      "cell_type": "code",
      "metadata": {
        "id": "6FA9781I6vIw",
        "colab": {
          "base_uri": "https://localhost:8080/"
        },
        "outputId": "a091f49a-1a8d-45f7-80e8-2629a42354e5"
      },
      "source": [
        "t = Thread(target=time.sleep, args=(5, ))\n",
        "t.start()\n",
        "t.is_alive()"
      ],
      "execution_count": 7,
      "outputs": [
        {
          "output_type": "execute_result",
          "data": {
            "text/plain": [
              "True"
            ]
          },
          "metadata": {},
          "execution_count": 7
        }
      ]
    },
    {
      "cell_type": "code",
      "metadata": {
        "id": "np244Ffi7EqX",
        "colab": {
          "base_uri": "https://localhost:8080/"
        },
        "outputId": "9ef39809-80d8-4f6d-9e40-2309e7715334"
      },
      "source": [
        "t.is_alive() # через 5 секунд"
      ],
      "execution_count": 8,
      "outputs": [
        {
          "output_type": "execute_result",
          "data": {
            "text/plain": [
              "True"
            ]
          },
          "metadata": {},
          "execution_count": 8
        }
      ]
    },
    {
      "cell_type": "markdown",
      "metadata": {
        "id": "6Jqr4PDY7G_p"
      },
      "source": [
        "## Потоки и демоны"
      ]
    },
    {
      "cell_type": "markdown",
      "metadata": {
        "id": "SwtTvErA7yK8"
      },
      "source": [
        "* Демон — это поток, созданный с аргументом `daemon=True`:"
      ]
    },
    {
      "cell_type": "code",
      "metadata": {
        "id": "Vqt3ULlw71Qb",
        "colab": {
          "base_uri": "https://localhost:8080/"
        },
        "outputId": "73d87de1-f371-4650-b9cc-2ca859d2ecc7"
      },
      "source": [
        "t = Thread(target=time.sleep, args=(5, ), daemon=True)\n",
        "t.start()\n",
        "t.daemon"
      ],
      "execution_count": 9,
      "outputs": [
        {
          "output_type": "execute_result",
          "data": {
            "text/plain": [
              "True"
            ]
          },
          "metadata": {},
          "execution_count": 9
        }
      ]
    },
    {
      "cell_type": "markdown",
      "metadata": {
        "id": "HgJ2HTy575Pf"
      },
      "source": [
        "* Отличие потока-демона от обычного потока в том,\n",
        "потоки-демоны **автоматически** уничтожаются при выходе\n",
        "из интерпретатора.\n",
        "* Уничтожение потока-демона не подразумевает процедуру\n",
        "финализации, поэтому следует быть аккуратным при\n",
        "использовании демонов для задач, работающих с\n",
        "ресурсами."
      ]
    },
    {
      "cell_type": "markdown",
      "metadata": {
        "id": "6JKAnGiA7-hp"
      },
      "source": [
        "## Завершение потоков"
      ]
    },
    {
      "cell_type": "markdown",
      "metadata": {
        "id": "3hzJY3l18BJa"
      },
      "source": [
        "* В Python нет встроенного механизма завершения\n",
        "потоков — это не случайность, а осознанное решение\n",
        "разработчиков языка.\n",
        "* Корректное завершение потока часто связано с\n",
        "освобождением ресурсов, например:\n",
        "    * поток может работать с файлом, дескриптор которого\n",
        "нужно закрыть,\n",
        "    * или захватить примитив синхронизации.\n",
        "* Для завершения потока обычно используют флаг:"
      ]
    },
    {
      "cell_type": "code",
      "metadata": {
        "id": "l41gvjkD8MCK"
      },
      "source": [
        "class Task:\n",
        "    def __init__(self):\n",
        "        self._running = True\n",
        "    def terminate(self):\n",
        "        self._running = False\n",
        "    def run(self, n):\n",
        "        while self._running:\n",
        "            ..."
      ],
      "execution_count": 10,
      "outputs": []
    },
    {
      "cell_type": "markdown",
      "metadata": {
        "id": "lERT8XNh9BeH"
      },
      "source": [
        "## Примитивы синхронизации: мьютексы и семафоры"
      ]
    },
    {
      "cell_type": "markdown",
      "metadata": {
        "id": "Zr0eNTdM9DsN"
      },
      "source": [
        "Набор примитивов синхронизации в модуле `threading`\n",
        "стандартный:\n",
        "* `Lock` — обычный мьютекс, используется для обеспечения\n",
        "эксклюзивного доступа к разделяемому состоянию.\n",
        "* `RLock` — рекурсивный мьютекс, разрешающий потоку,\n",
        "владеющему мьютексом, захватить мьютекс более одного\n",
        "раза.\n",
        "* `Semaphore` — вариация мьютекса, которая разрешает\n",
        "захватить себя не более фиксированного числа раз.\n",
        "* `BoundedSemaphore` — семафор, который следит за тем, что\n",
        "его захватили и отпустили одинаковое количество раз."
      ]
    },
    {
      "cell_type": "markdown",
      "metadata": {
        "id": "DdOSoiVX9Psy"
      },
      "source": [
        "## Потокобезопасный ~~и медленный~~ счётчик"
      ]
    },
    {
      "cell_type": "markdown",
      "metadata": {
        "id": "CdAyH3jI9Wua"
      },
      "source": [
        "* Все примитивы синхронизации реализуют единый\n",
        "интерфейс:\n",
        "    * метод `acquire` захватывает примитив синхронизации,\n",
        "    * а метод `release` отпускает его.\n",
        "* Пример:"
      ]
    },
    {
      "cell_type": "code",
      "metadata": {
        "id": "UdAf3M_K90Li"
      },
      "source": [
        "class SharedCounter:\n",
        "    def __init__(self, value):\n",
        "        self._value = value\n",
        "        self._lock = Lock()\n",
        "    def increment(self, delta=1):\n",
        "        self._lock.acquire()\n",
        "        self._value += delta\n",
        "        self._lock.release()\n",
        "\n",
        "    def get(self):\n",
        "        return self._value"
      ],
      "execution_count": 11,
      "outputs": []
    },
    {
      "cell_type": "markdown",
      "metadata": {
        "id": "0-D7GzJA98ov"
      },
      "source": [
        "## Примитивы синхронизации: грязные подробности"
      ]
    },
    {
      "cell_type": "markdown",
      "metadata": {
        "id": "gf1nnhMf9_Ia"
      },
      "source": [
        "* Все мьютексы и семафоры в модуле `threading`\n",
        "реализованы “с нуля” в терминах примитивного бинарного\n",
        "семафора\n",
        "\n",
        "```\n",
        "typedef struct {\n",
        "    char     locked;\n",
        "    cond_t   lock_released;\n",
        "    mutex_t  mut;\n",
        "} lock_t;\n",
        "```"
      ]
    },
    {
      "cell_type": "markdown",
      "metadata": {
        "id": "VzDQ88AT-UNh"
      },
      "source": [
        "* Мьютекс `mut` используется только для синхронизации\n",
        "доступа к полю `locked`.\n",
        "* Забавное следствие: для мьютекса в Python не определено\n",
        "понятие владеющего потока, то есть поток может отпустить\n",
        "мьютекс, не захваченный им."
      ]
    },
    {
      "cell_type": "markdown",
      "metadata": {
        "id": "P8HUt5C4-bpG"
      },
      "source": [
        "## Примитивы синхронизации: грязный пример"
      ]
    },
    {
      "cell_type": "code",
      "metadata": {
        "id": "Lg8uWGfC-e44",
        "colab": {
          "base_uri": "https://localhost:8080/"
        },
        "outputId": "fd0d1f9b-b9a7-4377-9c48-1263f6cd0139"
      },
      "source": [
        "from threading import Lock\n",
        "done = Lock()\n",
        "def idle_release():\n",
        "    print(\"Running!\")\n",
        "    time.sleep(15)\n",
        "    done.release()\n",
        "\n",
        "done.acquire()"
      ],
      "execution_count": 12,
      "outputs": [
        {
          "output_type": "execute_result",
          "data": {
            "text/plain": [
              "True"
            ]
          },
          "metadata": {},
          "execution_count": 12
        }
      ]
    },
    {
      "cell_type": "code",
      "metadata": {
        "id": "KbwMYkZj-kgD",
        "colab": {
          "base_uri": "https://localhost:8080/"
        },
        "outputId": "9b3f3ee3-60c0-44b8-bc55-3b8f7c5b80d9"
      },
      "source": [
        "Thread(target=idle_release).start()"
      ],
      "execution_count": 13,
      "outputs": [
        {
          "output_type": "stream",
          "name": "stdout",
          "text": [
            "Running!"
          ]
        }
      ]
    },
    {
      "cell_type": "code",
      "metadata": {
        "id": "KNzAtc0B-mHo",
        "colab": {
          "base_uri": "https://localhost:8080/"
        },
        "outputId": "e815e431-979f-4f93-b260-b10bfbb05dfd"
      },
      "source": [
        "done.acquire() and print(\"WAT?\")"
      ],
      "execution_count": 14,
      "outputs": [
        {
          "output_type": "stream",
          "name": "stdout",
          "text": [
            "\n",
            "WAT?\n"
          ]
        }
      ]
    },
    {
      "cell_type": "markdown",
      "metadata": {
        "id": "xPJm3m1C-qeR"
      },
      "source": [
        "## Примитивы синхронизации: условные переменные"
      ]
    },
    {
      "cell_type": "markdown",
      "metadata": {
        "id": "7fZrelCM-s92"
      },
      "source": [
        "* `Condition` используется для отправки сигналов между\n",
        "потоками.\n",
        "* Метод `wait` блокирует вызывающий поток, пока какой-то\n",
        "другой поток не вызовет метод `notify` или `notify_all`.\n"
      ]
    },
    {
      "cell_type": "code",
      "metadata": {
        "id": "vOHA1hUI-vyw"
      },
      "source": [
        "from collections import deque\n",
        "from threading import Condition\n",
        "\n",
        "\n",
        "q = deque()\n",
        "is_empty = Condition()\n",
        "\n",
        "def producer():\n",
        "    while True:\n",
        "        is_empty.acquire()\n",
        "        q.append([])\n",
        "        is_empty.notify()\n",
        "        is_empty.release()\n",
        "\n",
        "def consumer():\n",
        "    while True:\n",
        "        is_empty.acquire()\n",
        "        while not q: # !\n",
        "            is_empty.wait()\n",
        "        tmp = q.popleft()\n",
        "        is_empty.release()"
      ],
      "execution_count": 15,
      "outputs": []
    },
    {
      "cell_type": "markdown",
      "metadata": {
        "id": "TNTLtFZT_h2u"
      },
      "source": [
        "## Пример: функция `follow`"
      ]
    },
    {
      "cell_type": "markdown",
      "metadata": {
        "id": "HM-yJMQd_k5H"
      },
      "source": [
        "Функция `follow` читает сообщения из переданного ей\n",
        "соединения и кладёт их в очередь на обработку."
      ]
    },
    {
      "cell_type": "code",
      "metadata": {
        "id": "X9DHHKAJ_nT3"
      },
      "source": [
        "def follow(connection, connection_lock, q):\n",
        "    try:\n",
        "        while True:\n",
        "            connection_lock.acquire()\n",
        "            message = connection.read_message()\n",
        "            connection_lock.release()\n",
        "            q.put(message)\n",
        "    except InvalidMessage:\n",
        "        follow(connection, connection_lock, q)\n",
        "        \n",
        "follower = Thread(target=follow, args=...)\n",
        "follower.start()"
      ],
      "execution_count": 16,
      "outputs": []
    },
    {
      "cell_type": "markdown",
      "metadata": {
        "id": "FCn5kOwy_2V4"
      },
      "source": [
        "## Примитивы синхронизации и менеджеры контекста"
      ]
    },
    {
      "cell_type": "markdown",
      "metadata": {
        "id": "FnFWBXeP_8vn"
      },
      "source": [
        "Чтобы минимизировать ошибки при использовании методов\n",
        "`acquire` и `release`, все примитивы синхронизации поддерживают\n",
        "протокол менеджеров контекста."
      ]
    },
    {
      "cell_type": "code",
      "metadata": {
        "id": "24LCW0o7__tT",
        "colab": {
          "base_uri": "https://localhost:8080/"
        },
        "outputId": "88481fd1-27cb-4831-e102-3c7531834004"
      },
      "source": [
        "def follow(connection, connection_lock, q):\n",
        "    try:\n",
        "        while True:\n",
        "            with connection_lock:\n",
        "                message = connection.read_message()\n",
        "            q.put(message)\n",
        "    except IOError:\n",
        "        follow(connection, connection_lock, q)"
      ],
      "execution_count": 17,
      "outputs": [
        {
          "output_type": "stream",
          "name": "stderr",
          "text": [
            "Exception in thread Thread-19:\n",
            "Traceback (most recent call last):\n",
            "  File \"/usr/lib/python3.7/threading.py\", line 926, in _bootstrap_inner\n",
            "    self.run()\n",
            "  File \"/usr/lib/python3.7/threading.py\", line 870, in run\n",
            "    self._target(*self._args, **self._kwargs)\n",
            "TypeError: follow() argument after * must be an iterable, not ellipsis\n",
            "\n"
          ]
        }
      ]
    },
    {
      "cell_type": "markdown",
      "metadata": {
        "id": "kEcoFTaoAGQI"
      },
      "source": [
        "# Модуль `queue`"
      ]
    },
    {
      "cell_type": "markdown",
      "metadata": {
        "id": "MP5aKXpTAIzm"
      },
      "source": [
        "* Модуль queue реализует несколько потокобезопасных\n",
        "очередей:\n",
        "    * `Queue` — FIFO очередь,\n",
        "    * `LifoQueue` — LIFO очередь aka стек,\n",
        "    * `PriorityQueue` — очередь, элементы которой — пары вида\n",
        "    (`priority`, `item`).\n",
        "* Никаких особых изысков в реализации очередей нет: все\n",
        "методы, изменяющие состояние, работают “внутри”\n",
        "мьютекса.\n",
        "* Класс `Queue` использует в качестве контейнера `deque`, а\n",
        "классы `LifoQueue` и `PriorityQueue` — список."
      ]
    },
    {
      "cell_type": "markdown",
      "metadata": {
        "id": "UeGhhhTFAumE"
      },
      "source": [
        "## Пример работы с очередью"
      ]
    },
    {
      "cell_type": "code",
      "metadata": {
        "id": "wTHnRwudAwje"
      },
      "source": [
        "def worker(q):\n",
        "    while True:\n",
        "        item = q.get()      # блокирующе ожидает следующий\n",
        "        do_something(item)  # элемент\n",
        "        q.task_done()       # уведомляет очередь о выполнении\n",
        "                            # задания"
      ],
      "execution_count": 18,
      "outputs": []
    },
    {
      "cell_type": "code",
      "metadata": {
        "id": "WD4wLxTFAx5x"
      },
      "source": [
        "def master(q):\n",
        "    for item in source():\n",
        "        q.put(item)\n",
        "\n",
        "    # блокирующе ожидает, пока все элементы очереди\n",
        "    # не будут обработаны\n",
        "    q.join()"
      ],
      "execution_count": 19,
      "outputs": []
    },
    {
      "cell_type": "markdown",
      "metadata": {
        "id": "QZUg_DB_BCrP"
      },
      "source": [
        "# Модуль `futures`"
      ]
    },
    {
      "cell_type": "markdown",
      "metadata": {
        "id": "-_UhHgmYBIpP"
      },
      "source": [
        "## Модуль `futures`: исполнители"
      ]
    },
    {
      "cell_type": "markdown",
      "metadata": {
        "id": "OMAJAx0TBM8H"
      },
      "source": [
        "* Модуль `concurrent.futures` содержит абстрактный класс\n",
        "`Executor` и его реализацию в виде пула потоков —\n",
        "`ThreadPoolExecutor`.\n",
        "* Интерфейс исполнителя состоит всего из трёх методов:"
      ]
    },
    {
      "cell_type": "code",
      "metadata": {
        "id": "2L4IgukmBTQo",
        "colab": {
          "base_uri": "https://localhost:8080/"
        },
        "outputId": "a283bd77-9a93-4b8d-b6d8-d0582e8befbe"
      },
      "source": [
        "from concurrent.futures import ThreadPoolExecutor\n",
        "\n",
        "executor = ThreadPoolExecutor(max_workers=4)\n",
        "executor.submit(print, \"Hello, world!\")"
      ],
      "execution_count": 20,
      "outputs": [
        {
          "output_type": "stream",
          "name": "stdout",
          "text": [
            "Hello, world!"
          ]
        },
        {
          "output_type": "execute_result",
          "data": {
            "text/plain": [
              "<Future at 0x7f68d1fca950 state=running>"
            ]
          },
          "metadata": {},
          "execution_count": 20
        },
        {
          "output_type": "stream",
          "name": "stdout",
          "text": [
            "\n"
          ]
        }
      ]
    },
    {
      "cell_type": "code",
      "metadata": {
        "id": "n5seeNnEBZQm",
        "colab": {
          "base_uri": "https://localhost:8080/"
        },
        "outputId": "e1d9a121-9b64-4e49-e58c-34ec5ac588c2"
      },
      "source": [
        "list(executor.map(print, [\"Knock?\", \"Knock!\"]))"
      ],
      "execution_count": 21,
      "outputs": [
        {
          "output_type": "stream",
          "name": "stdout",
          "text": [
            "Knock?\n",
            "Knock!\n"
          ]
        },
        {
          "output_type": "execute_result",
          "data": {
            "text/plain": [
              "[None, None]"
            ]
          },
          "metadata": {},
          "execution_count": 21
        }
      ]
    },
    {
      "cell_type": "code",
      "metadata": {
        "id": "zuHtDGGWBagF"
      },
      "source": [
        "executor.shutdown()"
      ],
      "execution_count": 22,
      "outputs": []
    },
    {
      "cell_type": "markdown",
      "metadata": {
        "id": "QS7wxjp3BvPX"
      },
      "source": [
        "Исполнители поддерживают протокол менеджеров\n",
        "контекста:"
      ]
    },
    {
      "cell_type": "code",
      "metadata": {
        "id": "MYjEYXoGBxle"
      },
      "source": [
        "with ThreadPoolExecutor(max_workers=4) as executor:\n",
        "    pass"
      ],
      "execution_count": 23,
      "outputs": []
    },
    {
      "cell_type": "markdown",
      "metadata": {
        "id": "0EZMGeM6B01X"
      },
      "source": [
        "## Модуль `futures`: будущее"
      ]
    },
    {
      "cell_type": "markdown",
      "metadata": {
        "id": "HvV_t23GB68R"
      },
      "source": [
        "* Метод `Executor.submit` возвращает экземпляр класса\n",
        "`Future`, инкапсулирующего асинхронные вычисления.\n",
        "* Что можно делать с `Future`?"
      ]
    },
    {
      "cell_type": "code",
      "metadata": {
        "id": "bwi16jvKB9pO"
      },
      "source": [
        "with ThreadPoolExecutor(max_workers=4) as executor:\n",
        "    f = executor.submit(sorted, [4, 3, 1, 2])"
      ],
      "execution_count": 24,
      "outputs": []
    },
    {
      "cell_type": "markdown",
      "metadata": {
        "id": "Wu4sDz0JCH4W"
      },
      "source": [
        "Поинтересоваться состоянием вычисления:"
      ]
    },
    {
      "cell_type": "code",
      "metadata": {
        "id": "-Sn-RNZICKwt",
        "colab": {
          "base_uri": "https://localhost:8080/"
        },
        "outputId": "78fb6093-24f2-45a3-bc87-e4e39c5b2c35"
      },
      "source": [
        "f.running(), f.done(), f.cancelled()"
      ],
      "execution_count": 25,
      "outputs": [
        {
          "output_type": "execute_result",
          "data": {
            "text/plain": [
              "(False, True, False)"
            ]
          },
          "metadata": {},
          "execution_count": 25
        }
      ]
    },
    {
      "cell_type": "markdown",
      "metadata": {
        "id": "65jGaKLhCMfs"
      },
      "source": [
        "Блокирующе подождать результата вычисления:"
      ]
    },
    {
      "cell_type": "code",
      "metadata": {
        "id": "omtCrf7fCOS3",
        "colab": {
          "base_uri": "https://localhost:8080/"
        },
        "outputId": "a32ed6b0-237c-4d7a-9ec9-b41e85bf6690"
      },
      "source": [
        "print(f.result())"
      ],
      "execution_count": 26,
      "outputs": [
        {
          "output_type": "stream",
          "name": "stdout",
          "text": [
            "[1, 2, 3, 4]\n"
          ]
        }
      ]
    },
    {
      "cell_type": "code",
      "metadata": {
        "id": "JnG9-mqjCPdy",
        "colab": {
          "base_uri": "https://localhost:8080/"
        },
        "outputId": "5bf892d6-27b1-4a4a-8cb1-bb7027aa83e4"
      },
      "source": [
        "print(f.exception())"
      ],
      "execution_count": 27,
      "outputs": [
        {
          "output_type": "stream",
          "name": "stdout",
          "text": [
            "None\n"
          ]
        }
      ]
    },
    {
      "cell_type": "markdown",
      "metadata": {
        "id": "UJR_nDSCCQ-O"
      },
      "source": [
        "Добавить функцию, которая будет вызвана после\n",
        "завершения вычисления:"
      ]
    },
    {
      "cell_type": "code",
      "metadata": {
        "id": "RSDIEBqiCSWz",
        "colab": {
          "base_uri": "https://localhost:8080/"
        },
        "outputId": "d318d6a0-7dfe-4f17-f101-03fcba6b0743"
      },
      "source": [
        "f.add_done_callback(print)"
      ],
      "execution_count": 28,
      "outputs": [
        {
          "output_type": "stream",
          "name": "stdout",
          "text": [
            "<Future at 0x7f68d5a69690 state=finished returned list>\n"
          ]
        }
      ]
    },
    {
      "cell_type": "markdown",
      "metadata": {
        "id": "bwgX4Eb0CVia"
      },
      "source": [
        "## Пример использования модуля `futures: integrate`"
      ]
    },
    {
      "cell_type": "code",
      "metadata": {
        "id": "6_7_A5HxCZyX"
      },
      "source": [
        "import math\n",
        "def integrate(f, a, b, *, n_iter=1000):\n",
        "    acc = 0\n",
        "    step = (b - a) / n_iter\n",
        "    for i in range(n_iter):\n",
        "        acc += f(a + i * step) * step\n",
        "    return acc"
      ],
      "execution_count": 29,
      "outputs": []
    },
    {
      "cell_type": "code",
      "metadata": {
        "id": "vZpH8LNMCbgs",
        "colab": {
          "base_uri": "https://localhost:8080/"
        },
        "outputId": "7c2f65ce-13bc-4910-aec6-70db96a987ca"
      },
      "source": [
        "integrate(math.cos, 0, math.pi / 2)"
      ],
      "execution_count": 30,
      "outputs": [
        {
          "output_type": "execute_result",
          "data": {
            "text/plain": [
              "1.0007851925466296"
            ]
          },
          "metadata": {},
          "execution_count": 30
        }
      ]
    },
    {
      "cell_type": "code",
      "metadata": {
        "id": "W_-kdMjECcl_",
        "colab": {
          "base_uri": "https://localhost:8080/"
        },
        "outputId": "1dd43565-fb4d-4c75-b5e1-26be43ec11b3"
      },
      "source": [
        "integrate(math.sin, 0, math.pi)"
      ],
      "execution_count": 31,
      "outputs": [
        {
          "output_type": "execute_result",
          "data": {
            "text/plain": [
              "1.9999983550656637"
            ]
          },
          "metadata": {},
          "execution_count": 31
        }
      ]
    },
    {
      "cell_type": "markdown",
      "metadata": {
        "id": "Vd8iWdQoCoTh"
      },
      "source": [
        "## Пример использования модуля `futures: integrate_async`"
      ]
    },
    {
      "cell_type": "code",
      "metadata": {
        "id": "v53GmRQ1Cr03"
      },
      "source": [
        "from functools import partial\n",
        "from concurrent.futures import as_completed\n",
        "def integrate_async(f, a, b, *, n_jobs, n_iter=1000):\n",
        "    executor = ThreadPoolExecutor(max_workers=n_jobs)\n",
        "    spawn = partial(executor.submit, integrate, f,\n",
        "                    n_iter=n_iter // n_jobs)\n",
        "    \n",
        "    step = (b - a) / n_jobs\n",
        "    fs = [spawn(a + i * step, a + (i + 1) * step)\n",
        "          for i in range(n_jobs)]\n",
        "    return sum(f.result() for f in as_completed(fs))"
      ],
      "execution_count": 32,
      "outputs": []
    },
    {
      "cell_type": "code",
      "metadata": {
        "id": "WavFxhZdCtSR",
        "colab": {
          "base_uri": "https://localhost:8080/"
        },
        "outputId": "aaca71bc-ef99-4f5d-edf7-30c4a0b41042"
      },
      "source": [
        "integrate_async(math.cos, 0, math.pi / 2, n_jobs=2)"
      ],
      "execution_count": 33,
      "outputs": [
        {
          "output_type": "execute_result",
          "data": {
            "text/plain": [
              "1.0007851925466305"
            ]
          },
          "metadata": {},
          "execution_count": 33
        }
      ]
    },
    {
      "cell_type": "code",
      "metadata": {
        "id": "zZQLwVlYCuWf",
        "colab": {
          "base_uri": "https://localhost:8080/"
        },
        "outputId": "77135ac7-3332-4361-b1c0-6e1d97db370b"
      },
      "source": [
        "integrate_async(math.sin, 0, math.pi, n_jobs=2)"
      ],
      "execution_count": 34,
      "outputs": [
        {
          "output_type": "execute_result",
          "data": {
            "text/plain": [
              "1.9999983550656624"
            ]
          },
          "metadata": {},
          "execution_count": 34
        }
      ]
    },
    {
      "cell_type": "markdown",
      "metadata": {
        "id": "A1HYADwtC-Ar"
      },
      "source": [
        "## Инфраструктура для многопоточного программирования в Python"
      ]
    },
    {
      "cell_type": "markdown",
      "metadata": {
        "id": "NIlYHOLgDAvG"
      },
      "source": [
        "* Модули `threading`, `queue` и `concurrent.futures` реализуют\n",
        "привычные инструменты для параллельного программирования на\n",
        "Python.\n",
        "* Мы обсудили:\n",
        "    * потоки,\n",
        "    * мьютексы и семафоры,\n",
        "    * события и условные переменные,\n",
        "    * очереди,\n",
        "    * пулы потоков."
      ]
    },
    {
      "cell_type": "markdown",
      "metadata": {
        "id": "pYYsKl9HDScc"
      },
      "source": [
        "# Параллелизм и конкурентность"
      ]
    },
    {
      "cell_type": "markdown",
      "metadata": {
        "id": "ximsDa52DWx9"
      },
      "source": [
        "## Потоки и производительность"
      ]
    },
    {
      "cell_type": "markdown",
      "metadata": {
        "id": "9HuZemV1DcZg"
      },
      "source": [
        "Сравним производительность последовательной и\n",
        "параллельной версий функции `integrate` с помощью\n",
        "“магической” команды `timeit`:"
      ]
    },
    {
      "cell_type": "code",
      "metadata": {
        "id": "ZubZjVK9DiQm",
        "colab": {
          "base_uri": "https://localhost:8080/"
        },
        "outputId": "909498da-8fa1-47b1-802e-0071c449fc01"
      },
      "source": [
        "%%timeit -n100\n",
        "integrate(math.cos, 0, math.pi / 2,\n",
        "          n_iter=10**6)"
      ],
      "execution_count": 35,
      "outputs": [
        {
          "output_type": "stream",
          "name": "stdout",
          "text": [
            "100 loops, best of 5: 201 ms per loop\n"
          ]
        }
      ]
    },
    {
      "cell_type": "code",
      "metadata": {
        "id": "O6oK17ttDsd8",
        "colab": {
          "base_uri": "https://localhost:8080/"
        },
        "outputId": "fb295108-3379-45a9-989a-2243e4e1a05d"
      },
      "source": [
        "%%timeit -n100\n",
        "integrate_async(math.cos, 0, math.pi / 2,\n",
        "          n_iter=10**6,\n",
        "          n_jobs=2)"
      ],
      "execution_count": 36,
      "outputs": [
        {
          "output_type": "stream",
          "name": "stdout",
          "text": [
            "100 loops, best of 5: 191 ms per loop\n"
          ]
        }
      ]
    },
    {
      "cell_type": "code",
      "metadata": {
        "id": "MkijqmdVDsR3",
        "colab": {
          "base_uri": "https://localhost:8080/"
        },
        "outputId": "d40ecc8c-7849-461f-c455-dcfc228b6788"
      },
      "source": [
        "%%timeit -n100\n",
        "integrate_async(math.cos, 0, math.pi / 2,\n",
        "          n_iter=10**6,\n",
        "          n_jobs=4)"
      ],
      "execution_count": 37,
      "outputs": [
        {
          "output_type": "stream",
          "name": "stdout",
          "text": [
            "100 loops, best of 5: 195 ms per loop\n"
          ]
        }
      ]
    },
    {
      "cell_type": "markdown",
      "metadata": {
        "id": "OsjOvdfGD1PO"
      },
      "source": [
        "## Что такое GIL?"
      ]
    },
    {
      "cell_type": "markdown",
      "metadata": {
        "id": "g1RQJ_viD4kq"
      },
      "source": [
        "* GIL (global interpreter lock) — это мьютекс, который\n",
        "гарантирует, что в каждый момент времени только один\n",
        "поток имеет доступ к внутреннему состоянию\n",
        "интерпретатора.\n",
        "* Python C API позволяет отпустить GIL, но это безопасно\n",
        "только при работе с объектами, не зависящими от\n",
        "интерпретатора Python.\n",
        "* Например, все операции ввода/вывода в CPython\n",
        "отпускают GIL:\n",
        "```\n",
        "// ...\n",
        "Py_BEGIN_ALLOW_THREADS\n",
        "err = close(fd);\n",
        "if (err < 0)\n",
        "    save_errno = errno;\n",
        "Py_END_ALLOW_THREADS\n",
        "// ...\n",
        "```"
      ]
    },
    {
      "cell_type": "markdown",
      "metadata": {
        "id": "JybaKsoyEF3h"
      },
      "source": [
        "## Параллелизм и конкурентность"
      ]
    },
    {
      "cell_type": "markdown",
      "metadata": {
        "id": "w8lc0knpEIqk"
      },
      "source": [
        "![image.png](data:image/png;base64,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)"
      ]
    },
    {
      "cell_type": "markdown",
      "metadata": {
        "id": "bk8H8xwjERGd"
      },
      "source": [
        "## GIL — это плохо?"
      ]
    },
    {
      "cell_type": "markdown",
      "metadata": {
        "id": "shLjwRl3EkRP"
      },
      "source": [
        "* Ответ зависит от задачи.\n",
        "* Наличие GIL делает невозможным использование потоков\n",
        "в Python для параллелизма: несколько потоков не\n",
        "ускоряют, а иногда даже замедляют работу программы.\n",
        "* GIL не мешает использовать потоки для конкурентности\n",
        "при работе с вводом/выводом, например:\n"
      ]
    },
    {
      "cell_type": "code",
      "metadata": {
        "id": "Vo0-_mh2Eoqt"
      },
      "source": [
        "from urllib.request import urlretrieve\n",
        "with ThreadPoolExecutor(max_workers=4) as executor:\n",
        "    with open(\"urls.txt\", \"w\") as handle:\n",
        "        for url in handle:\n",
        "            executor.submit(urlretrieve, url)"
      ],
      "execution_count": null,
      "outputs": []
    },
    {
      "cell_type": "markdown",
      "metadata": {
        "id": "l8kuN26SE4Kd"
      },
      "source": [
        "## Модуль asyncio"
      ]
    },
    {
      "cell_type": "code",
      "metadata": {
        "id": "FspISlrGE7ve"
      },
      "source": [
        "import asyncio\n",
        "\n",
        "async def echo(source, target):\n",
        "    while True:\n",
        "        line = await source.readline() # ->\n",
        "        if not line:\n",
        "            break\n",
        "        target.write(line)\n",
        "\n",
        "loop = asyncio.get_event_loop()\n",
        "server = asyncio.start_server(echo, port=8080)\n",
        "loop.create_task(server)\n",
        "\n",
        "try:\n",
        "    loop.run_forever()\n",
        "finally:\n",
        "    server.close()\n",
        "    loop.close()"
      ],
      "execution_count": null,
      "outputs": []
    },
    {
      "cell_type": "markdown",
      "metadata": {
        "id": "1htYXeS6GHLH"
      },
      "source": [
        "## С и Cython — средство от GIL"
      ]
    },
    {
      "cell_type": "code",
      "metadata": {
        "id": "_ltTVwYLm_fo"
      },
      "source": [
        "%load_ext Cython"
      ],
      "execution_count": 40,
      "outputs": []
    },
    {
      "cell_type": "code",
      "metadata": {
        "id": "_NLU7fZEGMNi"
      },
      "source": [
        "%%cython\n",
        "from libc.math cimport cos\n",
        "def integrate(f, double a, double b, long n_iter):\n",
        "    #         ^ мы используем C-версию функции\n",
        "    cdef double acc = 0\n",
        "    cdef double step = (b - a) / n_iter\n",
        "    cdef long i\n",
        "    with nogil:\n",
        "        for i in range(n_iter):\n",
        "            acc += cos(a + i * step) * step\n",
        "    return acc"
      ],
      "execution_count": 41,
      "outputs": []
    },
    {
      "cell_type": "code",
      "metadata": {
        "id": "VDCZGBamGXZm",
        "colab": {
          "base_uri": "https://localhost:8080/"
        },
        "outputId": "bd23ea86-0267-44df-9aa4-2e52877529fd"
      },
      "source": [
        "%%timeit -n100\n",
        "integrate_async(math.cos, 0, math.pi / 2,\n",
        "                n_iter=10**6, n_jobs=2)"
      ],
      "execution_count": 42,
      "outputs": [
        {
          "output_type": "stream",
          "name": "stdout",
          "text": [
            "100 loops, best of 5: 15.3 ms per loop\n"
          ]
        }
      ]
    },
    {
      "cell_type": "code",
      "metadata": {
        "id": "cUwi-lLyGir9",
        "colab": {
          "base_uri": "https://localhost:8080/"
        },
        "outputId": "2b988f3a-ff1f-4ea0-9e83-2e931f37a920"
      },
      "source": [
        "%%timeit -n100\n",
        "integrate_async(math.cos, 0, math.pi / 2,\n",
        "                n_iter=10**6, n_jobs=4)"
      ],
      "execution_count": 43,
      "outputs": [
        {
          "output_type": "stream",
          "name": "stdout",
          "text": [
            "100 loops, best of 5: 15.5 ms per loop\n"
          ]
        }
      ]
    },
    {
      "cell_type": "markdown",
      "metadata": {
        "id": "jbbdKzNRGp1O"
      },
      "source": [
        "# Модуль `multiprocessing`"
      ]
    },
    {
      "cell_type": "markdown",
      "metadata": {
        "id": "vX1JP5O5HaU6"
      },
      "source": [
        "## Процессы — ещё одно средство от GIL"
      ]
    },
    {
      "cell_type": "markdown",
      "metadata": {
        "id": "cPERrQhpGuj-"
      },
      "source": [
        "* Можно использовать вместо потоков процессы.\n",
        "* У каждого процесса будет свой GIL, но он не помешает им\n",
        "работать параллельно.\n",
        "* За работу с процессами в Python отвечает модуль\n",
        "`multiprocessing`:"
      ]
    },
    {
      "cell_type": "code",
      "metadata": {
        "id": "3wsYNeGTG0x_",
        "colab": {
          "base_uri": "https://localhost:8080/"
        },
        "outputId": "0acf7d92-b977-44e5-bf7d-055fd8e2fae9"
      },
      "source": [
        "import multiprocessing as mp\n",
        "p = mp.Process(target=countdown, args=(5, ))\n",
        "p.start()"
      ],
      "execution_count": 44,
      "outputs": [
        {
          "output_type": "stream",
          "name": "stdout",
          "text": [
            "4 left\n"
          ]
        }
      ]
    },
    {
      "cell_type": "code",
      "metadata": {
        "id": "wf80rZ_5G3q4",
        "colab": {
          "base_uri": "https://localhost:8080/"
        },
        "outputId": "3d162fb0-ec16-479b-afb1-85c54094614d"
      },
      "source": [
        "p.name, p.pid"
      ],
      "execution_count": 45,
      "outputs": [
        {
          "output_type": "execute_result",
          "data": {
            "text/plain": [
              "('Process-1', 18641)"
            ]
          },
          "metadata": {},
          "execution_count": 45
        }
      ]
    },
    {
      "cell_type": "code",
      "metadata": {
        "id": "H6jxUC72G4_l",
        "colab": {
          "base_uri": "https://localhost:8080/"
        },
        "outputId": "3c930d8f-051f-42f5-ce18-d2f409a824f0"
      },
      "source": [
        "p.daemon"
      ],
      "execution_count": 46,
      "outputs": [
        {
          "output_type": "execute_result",
          "data": {
            "text/plain": [
              "False"
            ]
          },
          "metadata": {},
          "execution_count": 46
        }
      ]
    },
    {
      "cell_type": "code",
      "metadata": {
        "id": "WmFgiJiOG5-l",
        "colab": {
          "base_uri": "https://localhost:8080/"
        },
        "outputId": "316032e5-5f80-4a7e-c3ca-44834d3e1de1"
      },
      "source": [
        "p.join()\n",
        "p.exitcode"
      ],
      "execution_count": 47,
      "outputs": [
        {
          "output_type": "execute_result",
          "data": {
            "text/plain": [
              "0"
            ]
          },
          "metadata": {},
          "execution_count": 47
        }
      ]
    },
    {
      "cell_type": "markdown",
      "metadata": {
        "id": "FcKuRn1IHhgx"
      },
      "source": [
        "## Модуль `multiprocessing`"
      ]
    },
    {
      "cell_type": "markdown",
      "metadata": {
        "id": "LfSiT5QNHkSW"
      },
      "source": [
        "* Модуль реализует базовые примитивы синхронизации:\n",
        "мьютексы, семафоры, условные переменные.\n",
        "* Для организации взаимодействия между процессами\n",
        "можно использовать `Pipe` — основанное на сокете\n",
        "соединение между двумя процессами:"
      ]
    },
    {
      "cell_type": "code",
      "metadata": {
        "id": "a9u8sbMrHp02",
        "colab": {
          "base_uri": "https://localhost:8080/",
          "height": 35
        },
        "outputId": "bd39e5bf-c89c-4832-fb62-cd2a06001c68"
      },
      "source": [
        "def ponger(conn):\n",
        "    conn.send(\"pong\")\n",
        "\n",
        "parent_conn, child_conn = mp.Pipe()\n",
        "p = mp.Process(target=ponger,\n",
        "               args=(child_conn, ))\n",
        "\n",
        "p.start()\n",
        "parent_conn.recv()"
      ],
      "execution_count": 48,
      "outputs": [
        {
          "output_type": "execute_result",
          "data": {
            "application/vnd.google.colaboratory.intrinsic+json": {
              "type": "string"
            },
            "text/plain": [
              "'pong'"
            ]
          },
          "metadata": {},
          "execution_count": 48
        }
      ]
    },
    {
      "cell_type": "code",
      "metadata": {
        "id": "29aAHdGeHyvc"
      },
      "source": [
        "p.join()"
      ],
      "execution_count": 49,
      "outputs": []
    },
    {
      "cell_type": "markdown",
      "metadata": {
        "id": "PewXqSTeH5Eo"
      },
      "source": [
        "* Альтернативно два и более процессов можно соединить\n",
        "через очередь `Queue` или `JoinableQueue` — аналоги\n",
        "потокобезопасных очередей из модуля `queue`."
      ]
    },
    {
      "cell_type": "markdown",
      "metadata": {
        "id": "M1laOzhuH86O"
      },
      "source": [
        "## Процессы и производительность"
      ]
    },
    {
      "cell_type": "markdown",
      "metadata": {
        "id": "YDxj0-GSH_q4"
      },
      "source": [
        "Реализация функции `integrate_async` на основе пула потоков\n",
        "работала 191 мс, попробуем использовать пул процессов:"
      ]
    },
    {
      "cell_type": "code",
      "metadata": {
        "id": "CHNq-LkhID8e"
      },
      "source": [
        "from concurrent.futures import ProcessPoolExecutor, as_completed"
      ],
      "execution_count": 50,
      "outputs": []
    },
    {
      "cell_type": "code",
      "metadata": {
        "id": "6eIgrX83IFps"
      },
      "source": [
        "def integrate_async(f, a, b, *, n_jobs, n_iter=1000):\n",
        "    executor = ProcessPoolExecutor(\n",
        "    max_workers=n_jobs)\n",
        "    spawn = partial(executor.submit, integrate, f,\n",
        "                    n_iter=n_iter // n_jobs)\n",
        "\n",
        "    step = (b - a) / n_jobs\n",
        "    fs = [spawn(a + i * step, a + (i + 1) * step)\n",
        "          for i in range(n_jobs)]\n",
        "    return sum(f.result() for f in as_completed(fs))"
      ],
      "execution_count": 51,
      "outputs": []
    },
    {
      "cell_type": "code",
      "metadata": {
        "id": "R91CsCg6IPhD",
        "colab": {
          "base_uri": "https://localhost:8080/"
        },
        "outputId": "52f182b7-5379-45ad-c239-ab295267c220"
      },
      "source": [
        "%%timeit -n100\n",
        "integrate_async(math.cos, 0, math.pi / 2,\n",
        "                n_iter=10**6, n_jobs=4)"
      ],
      "execution_count": 52,
      "outputs": [
        {
          "output_type": "stream",
          "name": "stdout",
          "text": [
            "100 loops, best of 5: 126 ms per loop\n"
          ]
        }
      ]
    },
    {
      "cell_type": "markdown",
      "metadata": {
        "id": "WPDvHOy5IUAt"
      },
      "source": [
        "## Пакет `joblib`"
      ]
    },
    {
      "cell_type": "markdown",
      "metadata": {
        "id": "b5F8vn9CIXXo"
      },
      "source": [
        "Пакет `joblib` реализует параллельный аналог цикла `for`,\n",
        "который удобно использовать для параллельного\n",
        "выполнения независимых задач."
      ]
    },
    {
      "cell_type": "code",
      "metadata": {
        "id": "f0bwPFSbIa31"
      },
      "source": [
        "from joblib import Parallel, delayed\n",
        "\n",
        "def integrate_async(f, a, b, *, n_jobs, n_iter=1000,\n",
        "                    backend=None):\n",
        "    step = (b - a) / n_jobs\n",
        "    with Parallel(n_jobs=n_jobs,\n",
        "                  backend=backend) as parallel:\n",
        "        fs = (delayed(integrate)(a + i * step,\n",
        "                                 a + (i + 1) * step,\n",
        "                                 n_iter=n_iter // n_jobs)\n",
        "            for i in range(n_jobs))\n",
        "        return sum(parallel(fs))"
      ],
      "execution_count": 53,
      "outputs": []
    },
    {
      "cell_type": "markdown",
      "metadata": {
        "id": "z-dgpeqIIrGE"
      },
      "source": [
        "* В качестве значения аргумента `backend` можно указать\n",
        "\"threading\" или \"multiprocessing\"."
      ]
    },
    {
      "cell_type": "markdown",
      "metadata": {
        "id": "bfBwsDKpIyQ0"
      },
      "source": [
        "## Параллелизм и конкурентность: резюме"
      ]
    },
    {
      "cell_type": "markdown",
      "metadata": {
        "id": "rM44OiaOI330"
      },
      "source": [
        "* GIL — это глобальный мьютекс, который ограничивает\n",
        "возможности использования потоков для параллелизма в\n",
        "программах на СPython.\n",
        "* Для программ, использующих, в основном, операции\n",
        "ввода/вывода, GIL не страшен: в CPython эти операции\n",
        "отпускают GIL.\n",
        "* Для программ, нуждающихся в параллелизме, для\n",
        "повышения производительности есть варианты:\n",
        "    * писать критическую функциональность на C или Cython или\n",
        "    * использовать модуль `multiprocessing`."
      ]
    },
    {
      "cell_type": "markdown",
      "metadata": {
        "id": "5qB0I5_APy_S"
      },
      "source": [
        "https://github.com/MelLain/mipt-python/blob/spring-2021/lectures/08-efficiency.ipynb"
      ]
    }
  ]
}