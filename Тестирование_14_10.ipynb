{
  "nbformat": 4,
  "nbformat_minor": 0,
  "metadata": {
    "colab": {
      "name": "Тестирование_14_10.ipynb",
      "provenance": [],
      "collapsed_sections": [],
      "authorship_tag": "ABX9TyOKQ2dy9DsZZrMXf63RRo1X",
      "include_colab_link": true
    },
    "kernelspec": {
      "name": "python3",
      "display_name": "Python 3"
    },
    "language_info": {
      "name": "python"
    }
  },
  "cells": [
    {
      "cell_type": "markdown",
      "metadata": {
        "id": "view-in-github",
        "colab_type": "text"
      },
      "source": [
        "<a href=\"https://colab.research.google.com/github/pythonkvs/seminars/blob/main/%D0%A2%D0%B5%D1%81%D1%82%D0%B8%D1%80%D0%BE%D0%B2%D0%B0%D0%BD%D0%B8%D0%B5_14_10.ipynb\" target=\"_parent\"><img src=\"https://colab.research.google.com/assets/colab-badge.svg\" alt=\"Open In Colab\"/></a>"
      ]
    },
    {
      "cell_type": "markdown",
      "metadata": {
        "id": "iPSL2rf47F_Q"
      },
      "source": [
        "https://compscicenter.ru/courses/python/2015-autumn/classes/1560/  \n",
        "https://habr.com/ru/company/yandex/blog/517266/  \n",
        "https://webdevblog.ru/vvedenie-v-testirovanie-v-python/"
      ]
    },
    {
      "cell_type": "markdown",
      "metadata": {
        "id": "mtof6pT60jKM"
      },
      "source": [
        "# Тестирование\n",
        "\n"
      ]
    },
    {
      "cell_type": "markdown",
      "metadata": {
        "id": "h3M2uB3B0ooy"
      },
      "source": [
        "## Тестировать или не тестировать?"
      ]
    },
    {
      "cell_type": "markdown",
      "metadata": {
        "id": "W4U747qz0sDx"
      },
      "source": [
        "* Тестировать:\n",
        "    * тесты проверяют корректность кода\n",
        "    * и позволяют бесстрашно изменять код даже в больших\n",
        "проектах.\n",
        "* Не тестировать:\n",
        "    * написание тестов требует времени,\n",
        "    * нередко в проекте тестов больше, чем кода,\n",
        "    * работающие тесты не гарантируют корректность.\n",
        "* Тем не менее, ответ очевиден: конечно же тестировать!"
      ]
    },
    {
      "cell_type": "markdown",
      "metadata": {
        "id": "fTlbXaQf05te"
      },
      "source": [
        "## Пример"
      ]
    },
    {
      "cell_type": "code",
      "metadata": {
        "colab": {
          "base_uri": "https://localhost:8080/"
        },
        "id": "eId9fzga077M",
        "outputId": "eba5b73c-2953-4498-92ae-328d21370725"
      },
      "source": [
        "import itertools\n",
        "def rle(iterable):\n",
        "    \"\"\"Applies run-length encoding to an iterable.\"\"\"\n",
        "    for item, g in itertools.groupby(iterable):\n",
        "        yield item, sum(1 for _ in g)\n",
        "        # yield item, list(g)\n",
        "\n",
        "list(rle(\"mississippi\"))"
      ],
      "execution_count": 19,
      "outputs": [
        {
          "output_type": "execute_result",
          "data": {
            "text/plain": [
              "[('m', 1),\n",
              " ('i', 1),\n",
              " ('s', 2),\n",
              " ('i', 1),\n",
              " ('s', 2),\n",
              " ('i', 1),\n",
              " ('p', 2),\n",
              " ('i', 1)]"
            ]
          },
          "metadata": {},
          "execution_count": 19
        }
      ]
    },
    {
      "cell_type": "markdown",
      "metadata": {
        "id": "xoPR33EV1GTV"
      },
      "source": [
        "## Тестирование с помощью `print`"
      ]
    },
    {
      "cell_type": "markdown",
      "metadata": {
        "id": "En6Wpedw1LDK"
      },
      "source": [
        "* Функция `print` позволяет организовать\n",
        "полуавтоматическое тестирование вне интерактивной\n",
        "оболочки.\n",
        "* Интерпретатор печатает — вы проверяете:"
      ]
    },
    {
      "cell_type": "code",
      "metadata": {
        "colab": {
          "base_uri": "https://localhost:8080/"
        },
        "id": "FwvTrB9s1PDJ",
        "outputId": "f4549904-b8b1-453a-e401-92783230ff83"
      },
      "source": [
        "def test_rle():\n",
        "    print(list(rle(\"mississippi\")))\n",
        "\n",
        "test_rle()"
      ],
      "execution_count": null,
      "outputs": [
        {
          "output_type": "stream",
          "name": "stdout",
          "text": [
            "[('m', 1), ('i', 1), ('s', 2), ('i', 1), ('s', 2), ('i', 1), ('p', 2), ('i', 1)]\n"
          ]
        }
      ]
    },
    {
      "cell_type": "markdown",
      "metadata": {
        "id": "SOIfLxsH1WzL"
      },
      "source": [
        "# Модуль `doctest`"
      ]
    },
    {
      "cell_type": "markdown",
      "metadata": {
        "id": "W_jsw3_Z1bc1"
      },
      "source": [
        "## Доктесты и модуль `doctest`"
      ]
    },
    {
      "cell_type": "code",
      "metadata": {
        "colab": {
          "base_uri": "https://localhost:8080/"
        },
        "id": "SfjRlrSX1e6i",
        "outputId": "a4519e0c-5b27-4f0e-8ff6-97b098085cc4"
      },
      "source": [
        "import doctest\n",
        "import itertools\n",
        "\n",
        "def rle(iterable):\n",
        "    \"\"\"Applies run-length encoding to an iterable.\n",
        "    >>> list(rle(\"\"))\n",
        "    []\n",
        "    >>> list(rle(\"mississippi\"))\n",
        "    [('m', 1), ('i', 1), ('s', 2), ('i', 1),\n",
        "    ('s', 2), ('i', 1), ('p', 2), ('i', 1)]\n",
        "    \"\"\"\n",
        "    for item, g in itertools.groupby(iterable):\n",
        "        yield item, sum(1 for _ in g)\n",
        "\n",
        "if __name__ == \"__main__\":\n",
        "    doctest.testmod()"
      ],
      "execution_count": null,
      "outputs": [
        {
          "output_type": "stream",
          "name": "stdout",
          "text": [
            "**********************************************************************\n",
            "File \"__main__\", line 8, in __main__.rle\n",
            "Failed example:\n",
            "    list(rle(\"mississippi\"))\n",
            "Expected:\n",
            "    [('m', 1), ('i', 1), ('s', 2), ('i', 1),\n",
            "    ('s', 2), ('i', 1), ('p', 2), ('i', 1)]\n",
            "Got:\n",
            "    [('m', 1), ('i', 1), ('s', 2), ('i', 1), ('s', 2), ('i', 1), ('p', 2), ('i', 1)]\n",
            "**********************************************************************\n",
            "1 items had failures:\n",
            "   1 of   2 in __main__.rle\n",
            "***Test Failed*** 1 failures.\n"
          ]
        }
      ]
    },
    {
      "cell_type": "markdown",
      "metadata": {
        "id": "y5irEh7G1qgq"
      },
      "source": [
        "## Модуль `doctest` и функция `rle`"
      ]
    },
    {
      "cell_type": "markdown",
      "metadata": {
        "id": "kIfM7oSs1wNH"
      },
      "source": [
        "```bash\n",
        "$ python ./test_doctest.py # можно python -m doctest\n",
        "*****************************************************\n",
        "File \"test_doctest.py\", line 10, in __main__.rle\n",
        "Failed example:\n",
        "    list(rle(\"mississippi\"))\n",
        "Expected:\n",
        "    [('m', 1), ('i', 1), ('s', 2), ('i', 1),\n",
        "('s', 2), ('i', 1), ('p', 2), ('i', 1)]\n",
        "Got:\n",
        "    [('m', 1), ('i', 1), ('s', 2), ('i', 1), ...]\n",
        "******************************************************\n",
        "1 items had failures:\n",
        "    1 of 2 in __main__.rle\n",
        "***Test Failed*** 1 failures.\n",
        "\n",
        "\n",
        "```"
      ]
    },
    {
      "cell_type": "markdown",
      "metadata": {
        "id": "hS_ZcK622Poo"
      },
      "source": [
        "## Модуль `doctest` и директивы"
      ]
    },
    {
      "cell_type": "markdown",
      "metadata": {
        "id": "cdKcQn_d2UoZ"
      },
      "source": [
        "* Директивы позволяют изменить то, как `doctest` сравнивает\n",
        "ожидаемый вывод интерпретатора с фактическим.\n",
        "* Например, директива `NORMALIZE_WHITESPACE` нормализует\n",
        "пробельные символы перед сравнением:\n"
      ]
    },
    {
      "cell_type": "code",
      "metadata": {
        "id": "7gSO99wK2dAS"
      },
      "source": [
        ">>> list(rle(\"mississippi\")) # doctest: +NORMALIZE_WHITESPACE\n",
        "[('m', 1), ('i', 1), ('s', 2), ('i', 1),\n",
        "('s', 2), ('i', 1), ('p', 2), ('i', 1)]"
      ],
      "execution_count": null,
      "outputs": []
    },
    {
      "cell_type": "markdown",
      "metadata": {
        "id": "FDZBGnws2e6B"
      },
      "source": [
        "* А директива `ELLIPSIS` позволяет использовать символ `...`,\n",
        "который совпадает с любой строкой:"
      ]
    },
    {
      "cell_type": "code",
      "metadata": {
        "id": "NW_7MNq72g2Z"
      },
      "source": [
        ">>> list(rle(\"mississippi\")) # doctest: +ELLIPSIS\n",
        "[('m', 1), ('i', 1), ('s', 2), ('i', 1), ...]"
      ],
      "execution_count": null,
      "outputs": []
    },
    {
      "cell_type": "markdown",
      "metadata": {
        "id": "wpaLx182fmV4"
      },
      "source": [
        "**doctest: полезные директивы**\n",
        "\n",
        "* `SKIP` – не запускает тесты на помеченном примере\n",
        "* `IGNORE_EXCEPTION_DETAIL` – игнорирует текст эксепшна"
      ]
    },
    {
      "cell_type": "markdown",
      "metadata": {
        "id": "xanaPnbn3Len"
      },
      "source": [
        "## Модуль `doctest`: резюме"
      ]
    },
    {
      "cell_type": "markdown",
      "metadata": {
        "id": "c8ogaFCC3QEL"
      },
      "source": [
        "* Модуль `doctest` позволяет проверить реализацию функции\n",
        "на соответствие записанному сеансу интерпретатора.\n",
        "* Плюсы:\n",
        "    * доступен в стандартной библиотеке,\n",
        "    * решает задачу тестирования для небольших проектов,\n",
        "    * доктесты их легко читать,\n",
        "    * примеры кода в документации всегда актуальны.\n",
        "* Минусы:\n",
        "    * доктесты требуют, чтобы у результата было содержательное\n",
        "строковое представление,\n",
        "    * длинные доктесты ухудшают читаемость документации,\n",
        "    * нет способа запустить подмножество доктестов,\n",
        "    * если в середине доктеста произошла ошибка, оставшаяся\n",
        "часть не выполнится."
      ]
    },
    {
      "cell_type": "markdown",
      "metadata": {
        "id": "EC20vz4U3eM8"
      },
      "source": [
        "# `assert`"
      ]
    },
    {
      "cell_type": "markdown",
      "metadata": {
        "id": "nd3ajHao3hcK"
      },
      "source": [
        "## Тестирование с помощью `assert`"
      ]
    },
    {
      "cell_type": "markdown",
      "metadata": {
        "id": "6dnh3kQu3lFn"
      },
      "source": [
        "* Напоминание:\n",
        "    * оператор `assert` принимает два аргумента: условие и\n",
        "произвольное значение,\n",
        "    * если условие `falsy`, оператор поднимает исключение\n",
        "`AssertionError`.\n"
      ]
    },
    {
      "cell_type": "code",
      "metadata": {
        "colab": {
          "base_uri": "https://localhost:8080/",
          "height": 162
        },
        "id": "VGrcdFzn3vrJ",
        "outputId": "0f764a2a-df5c-4be4-f61f-4c7ec41997d0"
      },
      "source": [
        "assert [], 42"
      ],
      "execution_count": null,
      "outputs": [
        {
          "output_type": "error",
          "ename": "AssertionError",
          "evalue": "ignored",
          "traceback": [
            "\u001b[0;31m---------------------------------------------------------------------------\u001b[0m",
            "\u001b[0;31mAssertionError\u001b[0m                            Traceback (most recent call last)",
            "\u001b[0;32m<ipython-input-3-5799a4817d38>\u001b[0m in \u001b[0;36m<module>\u001b[0;34m()\u001b[0m\n\u001b[0;32m----> 1\u001b[0;31m \u001b[0;32massert\u001b[0m \u001b[0;34m[\u001b[0m\u001b[0;34m]\u001b[0m\u001b[0;34m,\u001b[0m \u001b[0;36m42\u001b[0m\u001b[0;34m\u001b[0m\u001b[0;34m\u001b[0m\u001b[0m\n\u001b[0m",
            "\u001b[0;31mAssertionError\u001b[0m: 42"
          ]
        }
      ]
    },
    {
      "cell_type": "markdown",
      "metadata": {
        "id": "3mCQKXdr3x3C"
      },
      "source": [
        "* Протестируем функцию `rle`:"
      ]
    },
    {
      "cell_type": "code",
      "metadata": {
        "id": "2HXdW2fv31Kc"
      },
      "source": [
        "def test_rle():\n",
        "    s = \"mississippi\"\n",
        "    tmp = set(ch for ch, _count in rle(s))\n",
        "    assert tmp == set(s[:-1] + s[1])\n",
        "    assert not list(rle(\"\"))\n",
        "\n",
        "test_rle()"
      ],
      "execution_count": null,
      "outputs": []
    },
    {
      "cell_type": "markdown",
      "metadata": {
        "id": "KQJjCbn04JdY"
      },
      "source": [
        "## Признаки хорошего теста"
      ]
    },
    {
      "cell_type": "markdown",
      "metadata": {
        "id": "Z7yziurq4MXO"
      },
      "source": [
        "* Хороший тест:\n",
        "    * корректный,\n",
        "    * понятный читателю,\n",
        "    * конкретный, то есть проверяет что-то одно.\n",
        "* Попробуем улучшить тест для функции `rle`:"
      ]
    },
    {
      "cell_type": "code",
      "metadata": {
        "colab": {
          "base_uri": "https://localhost:8080/",
          "height": 313
        },
        "id": "v7G3lOfe4V87",
        "outputId": "7e5a7c51-25f6-4967-8888-b46e9c455b36"
      },
      "source": [
        "def test_rle():\n",
        "    assert rle(\"mississippi\") == [\n",
        "        ('m', 1), ('i', 1), ('s', 2), ('i', 1),\n",
        "        ('s', 2), ('i', 1), ('p', 2), ('i', 1)\n",
        "    ]\n",
        "\n",
        "def test_rle_empty():\n",
        "    assert not list(rle(\"\"))\n",
        "\n",
        "test_rle_empty()\n",
        "test_rle()"
      ],
      "execution_count": null,
      "outputs": [
        {
          "output_type": "error",
          "ename": "AssertionError",
          "evalue": "ignored",
          "traceback": [
            "\u001b[0;31m---------------------------------------------------------------------------\u001b[0m",
            "\u001b[0;31mAssertionError\u001b[0m                            Traceback (most recent call last)",
            "\u001b[0;32m<ipython-input-7-2039138eb7f2>\u001b[0m in \u001b[0;36m<module>\u001b[0;34m()\u001b[0m\n\u001b[1;32m      9\u001b[0m \u001b[0;34m\u001b[0m\u001b[0m\n\u001b[1;32m     10\u001b[0m \u001b[0mtest_rle_empty\u001b[0m\u001b[0;34m(\u001b[0m\u001b[0;34m)\u001b[0m\u001b[0;34m\u001b[0m\u001b[0;34m\u001b[0m\u001b[0m\n\u001b[0;32m---> 11\u001b[0;31m \u001b[0mtest_rle\u001b[0m\u001b[0;34m(\u001b[0m\u001b[0;34m)\u001b[0m\u001b[0;34m\u001b[0m\u001b[0;34m\u001b[0m\u001b[0m\n\u001b[0m",
            "\u001b[0;32m<ipython-input-7-2039138eb7f2>\u001b[0m in \u001b[0;36mtest_rle\u001b[0;34m()\u001b[0m\n\u001b[1;32m      2\u001b[0m     assert rle(\"mississippi\") == [\n\u001b[1;32m      3\u001b[0m         \u001b[0;34m(\u001b[0m\u001b[0;34m'm'\u001b[0m\u001b[0;34m,\u001b[0m \u001b[0;36m1\u001b[0m\u001b[0;34m)\u001b[0m\u001b[0;34m,\u001b[0m \u001b[0;34m(\u001b[0m\u001b[0;34m'i'\u001b[0m\u001b[0;34m,\u001b[0m \u001b[0;36m1\u001b[0m\u001b[0;34m)\u001b[0m\u001b[0;34m,\u001b[0m \u001b[0;34m(\u001b[0m\u001b[0;34m's'\u001b[0m\u001b[0;34m,\u001b[0m \u001b[0;36m2\u001b[0m\u001b[0;34m)\u001b[0m\u001b[0;34m,\u001b[0m \u001b[0;34m(\u001b[0m\u001b[0;34m'i'\u001b[0m\u001b[0;34m,\u001b[0m \u001b[0;36m1\u001b[0m\u001b[0;34m)\u001b[0m\u001b[0;34m,\u001b[0m\u001b[0;34m\u001b[0m\u001b[0;34m\u001b[0m\u001b[0m\n\u001b[0;32m----> 4\u001b[0;31m         \u001b[0;34m(\u001b[0m\u001b[0;34m's'\u001b[0m\u001b[0;34m,\u001b[0m \u001b[0;36m2\u001b[0m\u001b[0;34m)\u001b[0m\u001b[0;34m,\u001b[0m \u001b[0;34m(\u001b[0m\u001b[0;34m'i'\u001b[0m\u001b[0;34m,\u001b[0m \u001b[0;36m1\u001b[0m\u001b[0;34m)\u001b[0m\u001b[0;34m,\u001b[0m \u001b[0;34m(\u001b[0m\u001b[0;34m'p'\u001b[0m\u001b[0;34m,\u001b[0m \u001b[0;36m2\u001b[0m\u001b[0;34m)\u001b[0m\u001b[0;34m,\u001b[0m \u001b[0;34m(\u001b[0m\u001b[0;34m'i'\u001b[0m\u001b[0;34m,\u001b[0m \u001b[0;36m1\u001b[0m\u001b[0;34m)\u001b[0m\u001b[0;34m\u001b[0m\u001b[0;34m\u001b[0m\u001b[0m\n\u001b[0m\u001b[1;32m      5\u001b[0m     ]\n\u001b[1;32m      6\u001b[0m \u001b[0;34m\u001b[0m\u001b[0m\n",
            "\u001b[0;31mAssertionError\u001b[0m: "
          ]
        }
      ]
    },
    {
      "cell_type": "markdown",
      "metadata": {
        "id": "6D8d7Deb4_Wr"
      },
      "source": [
        "## Оператор `assert` и сообщения об ошибках"
      ]
    },
    {
      "cell_type": "markdown",
      "metadata": {
        "id": "AWiF3jRc5CTD"
      },
      "source": [
        "* Второй аргумент оператора `assert` используется для\n",
        "сообщения об ошибке:"
      ]
    },
    {
      "cell_type": "code",
      "metadata": {
        "colab": {
          "base_uri": "https://localhost:8080/",
          "height": 330
        },
        "id": "7a4VdBJd5JNR",
        "outputId": "703c8ea0-881b-4f56-e38a-f123ddc15484"
      },
      "source": [
        "def test_rle():\n",
        "    actual = rle(\"mississippi\")\n",
        "    expected = [\n",
        "        ('m', 1), ('i', 1), ('s', 2), ('i', 1),\n",
        "        ('s', 2), ('i', 1), ('p', 2), ('i', 1)\n",
        "    ]\n",
        "    message = \"{} != {}\".format(actual, expected)\n",
        "    assert actual == expected, message\n",
        "\n",
        "test_rle()"
      ],
      "execution_count": null,
      "outputs": [
        {
          "output_type": "error",
          "ename": "AssertionError",
          "evalue": "ignored",
          "traceback": [
            "\u001b[0;31m---------------------------------------------------------------------------\u001b[0m",
            "\u001b[0;31mAssertionError\u001b[0m                            Traceback (most recent call last)",
            "\u001b[0;32m<ipython-input-8-0f31ea4bcb78>\u001b[0m in \u001b[0;36m<module>\u001b[0;34m()\u001b[0m\n\u001b[1;32m      8\u001b[0m     \u001b[0;32massert\u001b[0m \u001b[0mactual\u001b[0m \u001b[0;34m==\u001b[0m \u001b[0mexpected\u001b[0m\u001b[0;34m,\u001b[0m \u001b[0mmessage\u001b[0m\u001b[0;34m\u001b[0m\u001b[0;34m\u001b[0m\u001b[0m\n\u001b[1;32m      9\u001b[0m \u001b[0;34m\u001b[0m\u001b[0m\n\u001b[0;32m---> 10\u001b[0;31m \u001b[0mtest_rle\u001b[0m\u001b[0;34m(\u001b[0m\u001b[0;34m)\u001b[0m\u001b[0;34m\u001b[0m\u001b[0;34m\u001b[0m\u001b[0m\n\u001b[0m",
            "\u001b[0;32m<ipython-input-8-0f31ea4bcb78>\u001b[0m in \u001b[0;36mtest_rle\u001b[0;34m()\u001b[0m\n\u001b[1;32m      6\u001b[0m     ]\n\u001b[1;32m      7\u001b[0m     \u001b[0mmessage\u001b[0m \u001b[0;34m=\u001b[0m \u001b[0;34m\"{} != {}\"\u001b[0m\u001b[0;34m.\u001b[0m\u001b[0mformat\u001b[0m\u001b[0;34m(\u001b[0m\u001b[0mactual\u001b[0m\u001b[0;34m,\u001b[0m \u001b[0mexpected\u001b[0m\u001b[0;34m)\u001b[0m\u001b[0;34m\u001b[0m\u001b[0;34m\u001b[0m\u001b[0m\n\u001b[0;32m----> 8\u001b[0;31m     \u001b[0;32massert\u001b[0m \u001b[0mactual\u001b[0m \u001b[0;34m==\u001b[0m \u001b[0mexpected\u001b[0m\u001b[0;34m,\u001b[0m \u001b[0mmessage\u001b[0m\u001b[0;34m\u001b[0m\u001b[0;34m\u001b[0m\u001b[0m\n\u001b[0m\u001b[1;32m      9\u001b[0m \u001b[0;34m\u001b[0m\u001b[0m\n\u001b[1;32m     10\u001b[0m \u001b[0mtest_rle\u001b[0m\u001b[0;34m(\u001b[0m\u001b[0;34m)\u001b[0m\u001b[0;34m\u001b[0m\u001b[0;34m\u001b[0m\u001b[0m\n",
            "\u001b[0;31mAssertionError\u001b[0m: <generator object rle at 0x7f8faedf9ad0> != [('m', 1), ('i', 1), ('s', 2), ('i', 1), ('s', 2), ('i', 1), ('p', 2), ('i', 1)]"
          ]
        }
      ]
    },
    {
      "cell_type": "markdown",
      "metadata": {
        "id": "S67u2dRm5Vz5"
      },
      "source": [
        "## Функция `assert_equal`"
      ]
    },
    {
      "cell_type": "markdown",
      "metadata": {
        "id": "35JJbShB5ZED"
      },
      "source": [
        "* Добавим сообщение об ошибке к тесту `test_rle_empty`:"
      ]
    },
    {
      "cell_type": "code",
      "metadata": {
        "id": "CVfLy7un5cqG"
      },
      "source": [
        "def test_rle_empty(): # ^C/^V\n",
        "    actual = list(rle(\"\"))\n",
        "    expected = []\n",
        "    message = \"{} != {}\".format(actual, expected)\n",
        "    assert actual == expected, message"
      ],
      "execution_count": null,
      "outputs": []
    },
    {
      "cell_type": "markdown",
      "metadata": {
        "id": "IQI6L0Kw5gu8"
      },
      "source": [
        "* Самое время вынести логику сравнения в отдельную\n",
        "функцию:"
      ]
    },
    {
      "cell_type": "code",
      "metadata": {
        "id": "hbe3nQzI5i4c"
      },
      "source": [
        "def assert_equal(x, y):\n",
        "    assert x == y, \"{} != {}\".format(x, y)"
      ],
      "execution_count": null,
      "outputs": []
    },
    {
      "cell_type": "markdown",
      "metadata": {
        "id": "ljQh8ZMY5kOc"
      },
      "source": [
        "* Вопрос: что делать, если мы также хотим проверять\n",
        "утверждения вида `(\"a\", 2)` in `rle(...)`?"
      ]
    },
    {
      "cell_type": "markdown",
      "metadata": {
        "id": "65fpx3mD5t8s"
      },
      "source": [
        "## `assert`: резюме"
      ]
    },
    {
      "cell_type": "markdown",
      "metadata": {
        "id": "a8XLrfeI5yWh"
      },
      "source": [
        "* Оператор `assert` можно использовать для написания\n",
        "тестов.\n",
        "* Плюсы:\n",
        "    * тесты c `assert` легко читать,\n",
        "    * они не используют ничего кроме стандартных средств\n",
        "языка,\n",
        "    * в отличие от доктестов это обычные функции.\n",
        "* Минусы:\n",
        "    * запускать тесты нужно вручную,\n",
        "    * их сложно отлаживать, потому что\n",
        "    * для каждого типа утверждения приходится самостоятельно\n",
        "конструировать сообщение об ошибке."
      ]
    },
    {
      "cell_type": "markdown",
      "metadata": {
        "id": "aTSRiH9C59Vd"
      },
      "source": [
        "# Модуль `unittest`"
      ]
    },
    {
      "cell_type": "markdown",
      "metadata": {
        "id": "7XL9hnO06Chy"
      },
      "source": [
        "* Модуль `unittest` реализует функциональность JUnit для\n",
        "тестирования кода на Python.\n",
        "* Наследие Java до сих пор в обилии присутствует в API.\n",
        "* Перепишем имеющиеся тесты с использованием `unittest`:"
      ]
    },
    {
      "cell_type": "code",
      "metadata": {
        "id": "Jj1CtPbW6OGo"
      },
      "source": [
        "import unittest\n",
        "\n",
        "class TestHomework(unittest.TestCase):\n",
        "    def test_rle(self):\n",
        "        self.assertEqual(rle(\"mississippi\"), [...])\n",
        "    def test_rle_empty(self):\n",
        "        self.assertEqual(list(rle(\"\")), [])\n",
        "\n",
        "if __name__ == \"__main__\":\n",
        "    unittest.main()"
      ],
      "execution_count": null,
      "outputs": []
    },
    {
      "cell_type": "markdown",
      "metadata": {
        "id": "l6xrJS7a6U6o"
      },
      "source": [
        "## Модуль `unittest` и функция `rle`"
      ]
    },
    {
      "cell_type": "markdown",
      "metadata": {
        "id": "vGnlbdQ26Y9c"
      },
      "source": [
        "```bash\n",
        "$ python ./test_homework.py\n",
        "F.\n",
        "=========================================================\n",
        "FAIL: test_rle (__main__.TestHomework)\n",
        "---------------------------------------------------------\n",
        "Traceback (most recent call last):\n",
        "    File \"./test_homework.py\", line 12, in test_rle\n",
        "        self.assertEqual(rle(\"mississippi\"), expected)\n",
        "AssertionError: <generator object rle at [...]> != \\\n",
        "    [('m', 1), ('i', 1), ('s', 2), ...]\n",
        "---------------------------------------------------------\n",
        "Ran 2 tests in 0.001s\n",
        "FAILED (failures=1)\n",
        "```"
      ]
    },
    {
      "cell_type": "markdown",
      "metadata": {
        "id": "-Eg0nRHK6gUM"
      },
      "source": [
        "## Функция `unittest.main`"
      ]
    },
    {
      "cell_type": "markdown",
      "metadata": {
        "id": "BNZk9jqk6lpG"
      },
      "source": [
        "* Функция `unittest.main` загружает все тесты текущего\n",
        "модуля и запускает их.\n",
        "* Тест — метод экземпляра `unittest.TestCase`,\n",
        "начинающийся на `test`.\n",
        "* При необходимости тесты можно объединять в группы с\n",
        "помощью класса `unittest.TestSuite`:\n",
        "```python\n",
        "suite = unittest.TestSuite([\n",
        "TestHomework(),\n",
        "TestSomethingElse()\n",
        "])\n",
        "```\n",
        "* Указывать вручную, что нужно запустить, довольно досадно.\n",
        "* Вопрос: можно ли лучше?"
      ]
    },
    {
      "cell_type": "markdown",
      "metadata": {
        "id": "16mmgqwF6yXs"
      },
      "source": [
        "## Автоматический поиск тестов"
      ]
    },
    {
      "cell_type": "markdown",
      "metadata": {
        "id": "z0aJbaWG62ky"
      },
      "source": [
        "```bash\n",
        "#                    V в текущей директории\n",
        "$ python -m unittest .\n",
        "F.\n",
        "=========================================================\n",
        "FAIL: test_rle (test_homework.TestHomework)\n",
        "---------------------------------------------------------\n",
        "Traceback (most recent call last):\n",
        "    File \"./test_homework.py\", line 12, in test_rle\n",
        "        self.assertEqual(rle(\"mississippi\"), expected)\n",
        "AssertionError: <generator object rle at [...]> != \\\n",
        "    [('m', 1), ('i', 1), ('s', 2), ...]\n",
        "---------------------------------------------------------\n",
        "Ran 2 tests in 0.001s\n",
        "FAILED (failures=1)\n",
        "```"
      ]
    },
    {
      "cell_type": "markdown",
      "metadata": {
        "id": "SwlkqLaD7MXO"
      },
      "source": [
        "## Методы `unittest.TestCase`"
      ]
    },
    {
      "cell_type": "code",
      "metadata": {
        "id": "0ETyzZSy7WkK"
      },
      "source": [
        "assertEqual(a, b)               a == b\n",
        "assertNotEqual(a, b)            a != b\n",
        "assertTrue(x)                   bool(x) is True\n",
        "assertFalse(x)                  bool(x) is False\n",
        "assertIs(a, b)                  a is b\n",
        "assertIsNot(a, b)               a is not b\n",
        "assertIsNone(x)                 x is None\n",
        "assertIsNotNone(x)              x is not None\n",
        "assertIn(a, b)                  a in b\n",
        "assertNotIn(a, b)               a not in b\n",
        "assertIsInstance(a, b)          isinstance(a, b)\n",
        "assertNotIsInstance(a, b)       not isinstance(a, b)\n",
        "assertRaises(exc_type)          "
      ],
      "execution_count": null,
      "outputs": []
    },
    {
      "cell_type": "markdown",
      "metadata": {
        "id": "Lk4RsH767oj3"
      },
      "source": [
        "## Модуль `unittest` и контекст"
      ]
    },
    {
      "cell_type": "markdown",
      "metadata": {
        "id": "rk3DWtf57u6G"
      },
      "source": [
        "* Фикстуры *aka* fixtures — способ подготовить контекст, в котором\n",
        "будут запускаться тесты.\n",
        "* Это можно использовать, например, для работы с\n",
        "ресурсами: сокетами, файлами, временными\n",
        "директориями.\n",
        "* Пример:"
      ]
    },
    {
      "cell_type": "code",
      "metadata": {
        "id": "c_-oy_BN70Jf"
      },
      "source": [
        "class TestHomeworkWithOracle(unittest.TestCase):\n",
        "    def setUp(self):\n",
        "        self.oracle = RleOracle(\"http://oracle.rle.com\")\n",
        "\n",
        "    def test_rle_against_oracle(self):\n",
        "        s = \"mississippi\"\n",
        "        self.assertEqual(list(rle(s)), self.oracle(s))\n",
        "        \n",
        "    def tearDown(self):\n",
        "        self.oracle.close()"
      ],
      "execution_count": null,
      "outputs": []
    },
    {
      "cell_type": "markdown",
      "metadata": {
        "id": "MDRU84mr8AHW"
      },
      "source": [
        "## Модуль `unittest`: резюме"
      ]
    },
    {
      "cell_type": "markdown",
      "metadata": {
        "id": "qFvgRBsW8C15"
      },
      "source": [
        "* Модуль `unittest` — клон JUnit для Python.\n",
        "* Мы обсудили\n",
        "    * основные сущности `unittest`,\n",
        "    * как писать и запускать тесты,\n",
        "    * какие полезные методы имеются в классе\n",
        "`unittest.TestCase`.\n",
        "* Плюсы:\n",
        "    * доступен в стандартной библиотеке,\n",
        "    * выводит понятные сообщения об ошибках,\n",
        "    * умеет автоматически находить тесты.\n",
        "* Минусы:\n",
        "    * API унаследован от Java,\n",
        "    * заставляет писать много лишнего кода,\n",
        "    * читать `unittest` тесты сложнее, чем доктесты и тесты,\n",
        "использующие `assert`."
      ]
    },
    {
      "cell_type": "markdown",
      "metadata": {
        "id": "xr-AtGUP8X8m"
      },
      "source": [
        "# Пакет `py.test`"
      ]
    },
    {
      "cell_type": "markdown",
      "metadata": {
        "id": "JaW6B8ES8b53"
      },
      "source": [
        "* Пакет `py.test` — популярная альтернатива `unittest` для\n",
        "написания и запуска тестов.\n",
        "* Отличительная особенность `py.test` — практически\n",
        "полное отсутствие API: тесты можно писать, используя\n",
        "стандартные средства языка."
      ]
    },
    {
      "cell_type": "code",
      "metadata": {
        "id": "1Ak8G0qj8hdg"
      },
      "source": [
        "def test_rle():\n",
        "    assert rle(\"mississippi\") == [\n",
        "        ('m', 1), ('i', 1), ('s', 2), ('i', 1),\n",
        "        ('s', 2), ('i', 1), ('p', 2), ('i', 1)\n",
        "    ]   \n",
        "\n",
        "def test_rle_empty():\n",
        "    assert not list(rle(\"\"))"
      ],
      "execution_count": null,
      "outputs": []
    },
    {
      "cell_type": "markdown",
      "metadata": {
        "id": "3GhhPkAv8nkj"
      },
      "source": [
        "## Пакет `py.test` и функция `rle`"
      ]
    },
    {
      "cell_type": "markdown",
      "metadata": {
        "id": "BewN7Wdb8r5I"
      },
      "source": [
        "```bash\n",
        "$ python -m pytest -q test_pytest.py\n",
        "F.\n",
        "========================= FAILURES ======================\n",
        "_________________________ test_rle ______________________\n",
        "def test_rle():\n",
        ">    assert rle(\"mississippi\") == [\n",
        "      ('m', 1), ('i', 1), ('s', 2), ('i', 1),\n",
        "      ('s', 2), ('i', 1), ('p', 2), ('i', 1)\n",
        "]\n",
        "E assert <generator ...> == [('m', 1), ..., ('i', 1)]\n",
        "E    Full diff:\n",
        "E    - <generator object rle at [...]>\n",
        "E    + [('m', 1),\n",
        "E    + ('i', 1),\n",
        "E       ...\n",
        "E    + ('i', 1)]\n",
        "test_pytest.py:5: AssertionError\n",
        "```"
      ]
    },
    {
      "cell_type": "markdown",
      "metadata": {
        "id": "zF5gKFED9Jev"
      },
      "source": [
        "## Пакет `py.test`: интерфейс командной строки"
      ]
    },
    {
      "cell_type": "markdown",
      "metadata": {
        "id": "yMQfSGLw9Miy"
      },
      "source": [
        "* Запустить `py.test` можно разными способами, например:\n",
        "    * найти тесты в текущей директории и во всех вложенных\n",
        "директориях и запустить их:\n",
        "```bash\n",
        "$ python -m pytest\n",
        "```\n",
        "    * найти и запустить тесты в указанном файле:\n",
        "```bash\n",
        "$ python -m pytest test_pytest.py\n",
        "```\n",
        "    * запустить один тест в файле по имени:\n",
        "```bash\n",
        "$ python -m pytest test_pytest.py::test_rle\n",
        "```\n",
        "* Что такое тест для `py.test`?\n",
        "    * функция `test_*`,\n",
        "    * метод `test_*` в классе `Test*` или в классе, наследующемся\n",
        "от `unittest.TestCase`,\n",
        "    * доктест, если `py.test` был запущен с параметром\n",
        "`--doctest-modules`."
      ]
    },
    {
      "cell_type": "markdown",
      "metadata": {
        "id": "HyGiSZYI9pQ7"
      },
      "source": [
        "## Возможности `py.test`: интроспекция"
      ]
    },
    {
      "cell_type": "markdown",
      "metadata": {
        "id": "OLJwBji29ufw"
      },
      "source": [
        "```bash\n",
        "FF\n",
        "========================= FAILURES ======================\n",
        "_________________________ test_in _______________________\n",
        "def test_in():\n",
        ">     assert 42 in range(0, 10)\n",
        "E     assert 42 in range(0, 10)\n",
        "test_pytest_introspection.py:3: AssertionError\n",
        "______________________ test_in_range_ ___________________\n",
        "def test_in_range():\n",
        "    x = 42\n",
        ">   assert x > 0 and x < 10\n",
        "E   assert (42 > 0 and 42 < 10)\n",
        "test_pytest_introspection.py:8: AssertionError\n",
        "```"
      ]
    },
    {
      "cell_type": "markdown",
      "metadata": {
        "id": "IK3yyLJ1-Pgs"
      },
      "source": [
        "## Возможности `py.test`: `raises`"
      ]
    },
    {
      "cell_type": "code",
      "metadata": {
        "id": "3m4zlidi-V5K"
      },
      "source": [
        "def test_undo_dict_exceptions():\n",
        "    d = UndoDict()\n",
        "    with pytest.raises(KeyError):\n",
        "        d[\"foo\"]"
      ],
      "execution_count": null,
      "outputs": []
    },
    {
      "cell_type": "markdown",
      "metadata": {
        "id": "hC6zWVf_-a-k"
      },
      "source": [
        "```bash\n",
        "F\n",
        "========================= FAILURES ======================\n",
        "__________________ test_undo_dict_exceptions ____________\n",
        "def test_undo_dict_exceptions():\n",
        "    d = UndoDict()\n",
        "    with pytest.raises(KeyError):\n",
        ">     d[\"foo\"]\n",
        "E     Failed: DID NOT RAISE\n",
        "test_assert_raises.py:15: Failed\n",
        "```"
      ]
    },
    {
      "cell_type": "markdown",
      "metadata": {
        "id": "VubWsPW2MZ-3"
      },
      "source": [
        "## Возможности `py.test`: `xfail`"
      ]
    },
    {
      "cell_type": "markdown",
      "metadata": {
        "id": "5s-te9fgNhCG"
      },
      "source": [
        "Разрешает тесту падать"
      ]
    },
    {
      "cell_type": "code",
      "metadata": {
        "id": "D91VL7K9MaxF"
      },
      "source": [
        "@py.test.mark.xfail()\n",
        "def test_rle():\n",
        "    assert rle(\"mississippi\") == [\n",
        "        ('m', 1), ('i', 1), ('s', 2), ('i', 1),\n",
        "        ('s', 2), ('i', 1), ('p', 2), ('i', 1)\n",
        "    ] "
      ],
      "execution_count": null,
      "outputs": []
    },
    {
      "cell_type": "markdown",
      "metadata": {
        "id": "kZFHi692NAzF"
      },
      "source": [
        "## Возможности `py.test`: `skip`, `skipif`"
      ]
    },
    {
      "cell_type": "markdown",
      "metadata": {
        "id": "XhSH9yX3NtVL"
      },
      "source": [
        "Предоставляет возможность не запускать тест (в том числе, при некотором условии)"
      ]
    },
    {
      "cell_type": "code",
      "metadata": {
        "id": "XRWqraSLNLI5"
      },
      "source": [
        "@py.test.mark.skipif(sys.platform == 'darwin')\n",
        "def test_rle():\n",
        "    ..."
      ],
      "execution_count": null,
      "outputs": []
    },
    {
      "cell_type": "markdown",
      "metadata": {
        "id": "AslHcuow-n1h"
      },
      "source": [
        "## Возможности `py.test`: параметрические тесты"
      ]
    },
    {
      "cell_type": "code",
      "metadata": {
        "id": "KMq48EPb-yQp"
      },
      "source": [
        "def cut_suffix(s, suffix):\n",
        "    return s[:s.rfind(suffix)]"
      ],
      "execution_count": null,
      "outputs": []
    },
    {
      "cell_type": "code",
      "metadata": {
        "id": "NYFxWKALJ8z2"
      },
      "source": [
        "@pytest.mark.parametrize(\"s,suffix,expected\", [\n",
        "(\"foobar\", \"bar\", \"foo\"),\n",
        "(\"foobar\", \"boo\", \"foobar\"),\n",
        "(\"foobarbar\", \"bar\", \"foobar\")\n",
        "])\n",
        "def test_cut_suffix(s, suffix, expected):\n",
        "    assert cut_suffix(s, suffix) == expected"
      ],
      "execution_count": null,
      "outputs": []
    },
    {
      "cell_type": "markdown",
      "metadata": {
        "id": "a_wCqBWg-1tv"
      },
      "source": [
        "```bash\n",
        ".F.\n",
        "========================= FAILURES ======================\n",
        "___________ test_cut_suffix[foobar-boo-foobar] __________\n",
        "\n",
        "@pytest.mark.parametrize(\"s,suffix,expected\", [\n",
        "(\"foobar\", \"bar\", \"foo\"),\n",
        "(\"foobar\", \"boo\", \"foobar\"),\n",
        "(\"foobarbar\", \"bar\", \"foobar\")\n",
        "])\n",
        "def test_cut_suffix(s, suffix, expected):\n",
        ">     assert cut_suffix(s, suffix) == expected\n",
        "E     assert 'fooba' == 'foobar'\n",
        "E     - fooba\n",
        "E     + foobar\n",
        "E     ? +\n",
        "\n",
        "test_parametric_tests.py:14: AssertionError\n",
        "```"
      ]
    },
    {
      "cell_type": "markdown",
      "metadata": {
        "id": "ddIS19wk_QsY"
      },
      "source": [
        "## Возможности `py.test`: контекст"
      ]
    },
    {
      "cell_type": "markdown",
      "metadata": {
        "id": "mBF-Jq87_T8H"
      },
      "source": [
        "* `py.test` реализует аналоги `TestCase.setUp` и\n",
        "`TestCase.tearDown`,\n",
        "* но это не самая интересная его возможность.\n",
        "* Логику подготовки контекста конкретного типа можно\n",
        "абстрагировать"
      ]
    },
    {
      "cell_type": "code",
      "metadata": {
        "id": "_oyscMI0_ePA"
      },
      "source": [
        "@pytest.fixture\n",
        "def oracle(request):\n",
        "    oracle = RleOracle(\"http://oracle.rle.com\")\n",
        "    yield oracle\n",
        "    oracle.close()"
      ],
      "execution_count": null,
      "outputs": []
    },
    {
      "cell_type": "markdown",
      "metadata": {
        "id": "lWyB82mX_gCX"
      },
      "source": [
        "* чтобы потом неявно использовать в тестах:"
      ]
    },
    {
      "cell_type": "code",
      "metadata": {
        "id": "2RYP_gGo_i0_"
      },
      "source": [
        "def test_rle_against_oracle(oracle):\n",
        "    s = \"mississippi\"\n",
        "    assert list(rle(s)) == oracle(s)"
      ],
      "execution_count": null,
      "outputs": []
    },
    {
      "cell_type": "code",
      "metadata": {
        "id": "O_sTzwmTIWsG"
      },
      "source": [
        "@pytest.fixture(scope='module')\n",
        "def foo(boo):\n",
        "    ...\n",
        "\n",
        "\n",
        "@pytest.fixture(autouse=True) # не рекомендуется\n",
        "def foo(boo):\n",
        "    ..."
      ],
      "execution_count": null,
      "outputs": []
    },
    {
      "cell_type": "markdown",
      "metadata": {
        "id": "OysPnUiRJb7c"
      },
      "source": [
        "conftest.py"
      ]
    },
    {
      "cell_type": "markdown",
      "metadata": {
        "id": "0R5AnWXQ_qs_"
      },
      "source": [
        "## Возможности `py.test`: встроенные контексты"
      ]
    },
    {
      "cell_type": "code",
      "metadata": {
        "id": "ZetM5o-M_tZL"
      },
      "source": [
        "import io\n",
        "import gzip\n",
        "import sys\n",
        "\n",
        "def test_ook_eval(capsys, monkeypatch):\n",
        "    handle = io.StringIO(\"!\")\n",
        "    monkeypatch.setattr(sys, \"stdin\", handle)\n",
        "    ook_eval(\"Ook. Ook! Ook! Ook.\")\n",
        "    output, _err = capsys.readouterr()\n",
        "    assert output == \"!\"\n",
        "\n",
        "def test_reader(tmpdir):\n",
        "    path = tmpdir.join(\"example.gz\")\n",
        "    path.write(\"\")\n",
        "    assert isinstance(reader(str(path)), gzip.GzipFile)"
      ],
      "execution_count": null,
      "outputs": []
    },
    {
      "cell_type": "markdown",
      "metadata": {
        "id": "lOAP6h8ffXzo"
      },
      "source": [
        "## `pytest`: полезные опции"
      ]
    },
    {
      "cell_type": "markdown",
      "metadata": {
        "id": "Z8HlDeFLfWyV"
      },
      "source": [
        "--collect-only – вывод списка найденных тестов  \n",
        "-k – фильтрация по имени теста  \n",
        "-s – включает вывод stdout & stderr тестов (по умолчанию выводятся\n",
        "только для упавших тестов)  \n",
        "-v – повышает детализацию процесса запуска тестов  \n",
        "--lf, --last-failed – перезапускает тесты, упавшие при последнем запуске  \n",
        "--sw, --stepwise – выходит при падении и при последующих запусках\n",
        "продолжает с последнего упавшего теста  "
      ]
    },
    {
      "cell_type": "markdown",
      "metadata": {
        "id": "ZkL_4IU4gpYZ"
      },
      "source": [
        "## pytest.ini"
      ]
    },
    {
      "cell_type": "markdown",
      "metadata": {
        "id": "ujRAH8JHg4zh"
      },
      "source": [
        "* pytest.ini – основной конфигурационный файл, в котором можно\n",
        "изменять поведение pytest по умолчанию\n",
        "```bash\n",
        "[pytest]\n",
        "addopts = --cov-report=html --cov=<path> --flake8\n",
        "testpaths = <test_paths>\n",
        "```"
      ]
    },
    {
      "cell_type": "markdown",
      "metadata": {
        "id": "R07WXmCbhX_B"
      },
      "source": [
        "## `pytest`: плагины"
      ]
    },
    {
      "cell_type": "markdown",
      "metadata": {
        "id": "j4Gi7SoShXqL"
      },
      "source": [
        "* flake8\n",
        "* coverage\n",
        "* django\n",
        "* xdist\n",
        "* timeout  \n",
        "\n",
        "\n",
        "* Документация и примеры  \n",
        "https://docs.pytest.org/en/latest/plugins.html"
      ]
    },
    {
      "cell_type": "markdown",
      "metadata": {
        "id": "gO1dRnPxhxP-"
      },
      "source": [
        "## Покрытие кода тестами"
      ]
    },
    {
      "cell_type": "markdown",
      "metadata": {
        "id": "AvNZRHxZh5e_"
      },
      "source": [
        "* Очень важно не только писать тесты, которые тестируют что-то, но и\n",
        "понимать, насколько ваш код в целом покрыт тестами.  \n",
        "* Пример запуска анализа покрытия из pytest:"
      ]
    },
    {
      "cell_type": "markdown",
      "metadata": {
        "id": "jwjaT1RxiCTL"
      },
      "source": [
        "![image.png](data:image/png;base64,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)"
      ]
    },
    {
      "cell_type": "markdown",
      "metadata": {
        "id": "5I6Dv8_3iE6w"
      },
      "source": [
        "## Линтеры"
      ]
    },
    {
      "cell_type": "markdown",
      "metadata": {
        "id": "5_hRuuYyiLIV"
      },
      "source": [
        "* Линтинг кода – ваш друг, поддерживает код в хорошем состоянии\n",
        "(проверка PEP8, детекторы неиспользуемых импортов и некоторых\n",
        "грубых ошибок)  \n",
        "* Пример работы:"
      ]
    },
    {
      "cell_type": "markdown",
      "metadata": {
        "id": "ZCNhBY03iPyg"
      },
      "source": [
        "![image.png](data:image/png;base64,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)"
      ]
    },
    {
      "cell_type": "markdown",
      "metadata": {
        "id": "_rNNWYE2_ymr"
      },
      "source": [
        "## Пакет `py.test`: резюме"
      ]
    },
    {
      "cell_type": "markdown",
      "metadata": {
        "id": "5W5Ypb9g_2tN"
      },
      "source": [
        "* Пакет `py.test` — швейцарский нож тестирования в мире\n",
        "Python.\n",
        "* Плюсы:\n",
        "    * практически нет API, тесты — обычные функции,\n",
        "    * удобный вывод,\n",
        "    * удобный механизм параметризации тестов,\n",
        "    * приспособления, которые можно переиспользовать,\n",
        "    * множество встроенных возможностей и впечатляющее\n",
        "количество расширений.\n",
        "* Минусы:\n",
        "    * магия-магия-магия,\n",
        "    * может быть сложнее для понимания, если вы привыкли к\n",
        "JUnit."
      ]
    },
    {
      "cell_type": "markdown",
      "metadata": {
        "id": "k7mQhn4TAExR"
      },
      "source": [
        "# Пакет `hypothesis`"
      ]
    },
    {
      "cell_type": "markdown",
      "metadata": {
        "id": "BclfDgEgAKjO"
      },
      "source": [
        "## Тестирование свойств"
      ]
    },
    {
      "cell_type": "markdown",
      "metadata": {
        "id": "ag9yUHRwAOWk"
      },
      "source": [
        "* До текущего момента мы обсуждали тесты, которые\n",
        "проверяют тривиальные свойства кода:\n",
        "    * равенство ожидаемому значению,\n",
        "    * вхождение результата в коллекцию и так далее.\n",
        "* Иногда можно формулировать и проверять менее\n",
        "тривиальные свойства, например:\n",
        "    * если `sorted` возвращает список, отсортированный по\n",
        "неубыванию,\n",
        "    * то для любого списка xs и индексов i < j справедливо,\n",
        "что `sorted(xs)[i] <= sorted(xs)[j]`.\n",
        "* Вопрос: как проверить это свойство?"
      ]
    },
    {
      "cell_type": "markdown",
      "metadata": {
        "id": "Bi8DzZ9rAadZ"
      },
      "source": [
        "## Пример: `test_sort`"
      ]
    },
    {
      "cell_type": "code",
      "metadata": {
        "id": "thayf9FSActi"
      },
      "source": [
        "import random\n",
        "def random_array():\n",
        "    size = random.randint(0, 1024)\n",
        "    return [random.randint(-42, 42) for _ in range(size)]\n",
        "def test_sort():\n",
        "    xs = random_array()\n",
        "    result = sorted(xs)\n",
        "    assert all(xi <= xj\n",
        "               for xi, xj in zip(result, result[1:]))"
      ],
      "execution_count": null,
      "outputs": []
    },
    {
      "cell_type": "markdown",
      "metadata": {
        "id": "f9jpepJ_An51"
      },
      "source": [
        "* Такой подход сработает, но\n",
        "    * писать генераторы самостоятельно долго и бессмысленно,\n",
        "    * на практике нас, как правило, интересует минимальный\n",
        "контрпример."
      ]
    },
    {
      "cell_type": "markdown",
      "metadata": {
        "id": "nOCKmR1AAujk"
      },
      "source": [
        "## Пакет `hypothesis`"
      ]
    },
    {
      "cell_type": "markdown",
      "metadata": {
        "id": "tlRhpTNkAxpq"
      },
      "source": [
        "* Пакет `hypothesis` реализует API для формулирования и\n",
        "проверки свойств.\n",
        "* Перепишем `test_sort` с использованием `hypothesis`:"
      ]
    },
    {
      "cell_type": "code",
      "metadata": {
        "id": "4nyLwKwlA6U0"
      },
      "source": [
        "import hypothesis.strategies as st\n",
        "from hypothesis import given\n",
        "\n",
        "@given(st.lists(st.integers()))\n",
        "def test_sort(xs):\n",
        "    result = sorted(xs)\n",
        "    assert all(xi <= xj\n",
        "               for xi, xj in zip(result, result[1:]))"
      ],
      "execution_count": null,
      "outputs": []
    },
    {
      "cell_type": "markdown",
      "metadata": {
        "id": "-W4w18rJA70a"
      },
      "source": [
        "* И попробуем обмануть его:"
      ]
    },
    {
      "cell_type": "code",
      "metadata": {
        "id": "1mIQM1AKA92F"
      },
      "source": [
        "def sorted(xs, f=sorted):\n",
        "    return xs if len(xs) == 8 else f(xs)"
      ],
      "execution_count": null,
      "outputs": []
    },
    {
      "cell_type": "markdown",
      "metadata": {
        "id": "1EkWvTaRBJvB"
      },
      "source": [
        "## Пакет `hypothesis` и функция `sorted`"
      ]
    },
    {
      "cell_type": "markdown",
      "metadata": {
        "id": "qHLPp2jaBP4b"
      },
      "source": [
        "```bash\n",
        "F\n",
        "========================= FAILURES ======================\n",
        "________________________ test_sort ______________________\n",
        "    assert all(xi <= xj\n",
        "E   assert all(<generator object <genexpr> at 0x103b81e10>)\n",
        "----------------------- Hypothesis ----------------------\n",
        "Falsifying example: test_sort(xs=[0, 0, 0, 1, 0, 0, 0])\n",
        "```\n",
        "\n",
        "\n"
      ]
    },
    {
      "cell_type": "markdown",
      "metadata": {
        "id": "BzH7O0q6BdX8"
      },
      "source": [
        "## Пакет `hypothesis`: что можно генерировать?"
      ]
    },
    {
      "cell_type": "code",
      "metadata": {
        "id": "zeYy16_YBk3Z"
      },
      "source": [
        "# Примитивные типы:\n",
        "st.just(x)           ==> x, x, x\n",
        "st.none()            ==> None, None, None\n",
        "st.one_of(a, b, c)   ==> a, a, b, c, a\n",
        "st.booleans()        ==> True, False, True\n",
        "st.integers()        ==> 1, -10, 2, 42\n",
        "st.floats()          ==> math.pi, 42.42\n",
        "\n",
        "# Строки и байты:\n",
        "st.text()           ==> \"abra\", \"cadabra\"\n",
        "st.binary()         ==> b\"\\xff\\xef\", b\"ascii\"\n",
        "\n",
        "# Коллекции:\n",
        "st.sampled_from(iterable)\n",
        "st.tuples(st.foo(), st.bar(), st.boo())\n",
        "st.lists(st.foo())\n",
        "st.sets(st.foo())\n",
        "st.dictionaries(st.foo(), st.bar())"
      ],
      "execution_count": null,
      "outputs": []
    },
    {
      "cell_type": "markdown",
      "metadata": {
        "id": "LJChPq0_B186"
      },
      "source": [
        "## Пакет `hypothesis` и функция `rle`"
      ]
    },
    {
      "cell_type": "code",
      "metadata": {
        "id": "c7kI5SpyB5p0"
      },
      "source": [
        "from itertools import chain, repeat, tee\n",
        "\n",
        "import hypothesis.strategies as st\n",
        "from hypothesis import given\n",
        "\n",
        "iterables = st.one_of(st.tuples(st.integers(0, 10)),\n",
        "                      st.lists(st.integers(0, 10)))\n",
        "\n",
        "@given(iterables)\n",
        "def test_rle(it):\n",
        "    def encode_decode(it):\n",
        "        return chain.from_iterable(\n",
        "            repeat(item, count) for item, count in rle(it))\n",
        "        \n",
        "    it, copy = tee(it)\n",
        "    expected = list(copy)\n",
        "    assert list(encode_decode(it)) == expected"
      ],
      "execution_count": null,
      "outputs": []
    },
    {
      "cell_type": "markdown",
      "metadata": {
        "id": "XKSJWlrUCLWo"
      },
      "source": [
        "## Пакет `hypothesis`: резюме"
      ]
    },
    {
      "cell_type": "markdown",
      "metadata": {
        "id": "KJJ_pR0CCOUh"
      },
      "source": [
        "* Пакет `hypothesis` позволяет удобно формулировать и\n",
        "проверять свойства про Python код.\n",
        "* Мы обсудили, что можно генерировать, и рассмотрели\n",
        "несколько примеров."
      ]
    },
    {
      "cell_type": "markdown",
      "metadata": {
        "id": "f4IGh0_aizet"
      },
      "source": [
        "# IDE"
      ]
    },
    {
      "cell_type": "markdown",
      "metadata": {
        "id": "8zU_Ox1finQT"
      },
      "source": [
        "![image.png](data:image/png;base64,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)"
      ]
    },
    {
      "cell_type": "markdown",
      "metadata": {
        "id": "oE3PggT1i8rY"
      },
      "source": [
        "# Mock"
      ]
    },
    {
      "cell_type": "markdown",
      "metadata": {
        "id": "EVzUXF9OjB1U"
      },
      "source": [
        "## Unittest: зависимости модуля"
      ]
    },
    {
      "cell_type": "markdown",
      "metadata": {
        "id": "bU6F6jlljH4y"
      },
      "source": [
        "![image.png](data:image/png;base64,iVBORw0KGgoAAAANSUhEUgAAAj0AAAE3CAYAAABB4vD6AAAgAElEQVR4Ae297ZNV1b3v239Av+HFfcGp8pZVFLV9kV27rK4uyi4OCHWJbqgDO0FLSThIEreibJPseyTmkJho1JgEowfbs8FTG3WLO7dPsrtMWm6JO3ZyMRGysbVBIARb5EFoHpqHlm6kYTXre+s71xy95nrqNeeaT2Ou9Z1Vq9fqueYcD5/fWHN+52/8xhht0CYCIiACIiACIiACLUCgrQXqqCqKgAiIgAiIgAiIACR61AhEQAREQAREQARagoBET0uYWZUUAREQAREQARGQ6FEbEAEREAEREAERaAkCEj0tYWZVUgREQAREQAREQKJHbUAEREAEREAERKAlCEj0tISZVUkREAEREAEREAGJHrUBERABERABERCBliAg0dMSZlYlRUAEREAEREAEJHrUBkRABERABERABFqCgERPS5hZlRQBERABERABEZDoURsQAREQAREQARFoCQISPS1hZlVSBERABERABERAokdtQAREQAREQAREoCUISPS0hJlVSREQAREQAREQAYketQEREAEREAEREIGWICDR0xJmViVFQAREQAREQAQketQGREAEREAEREAEWoKARE9LmFmVFAEREAEREAERkOhRGxABERABERABEWgJAhI9LWFmVVIEREAEREAERECiR21ABERABERABESgJQhI9LSEmVVJERABERABERABiR61AREQAREQAREQgZYgINHTEmZWJUVABERABERABCR61AZEQAREQAREQARagoBET0uYWZUUAREQAREQARGQ6FEbEAEREAEREAERaAkCEj0tYWZVUgREQAREQAREQKJHbUAEREAEREAERKAlCEj0tISZVUkREAEREAEREAGJHrUBERABERABERCBliAg0dMSZlYlRUAEREAEREAEJHrUBkRABERABERABFqCgERPS5hZlRQBERABERABEZDoURsQAREQAREQARFoCQISPS1hZlVSBERABERABERAokdtQAREQAREQAREoCUISPS0hJlVSREQAREQAREQAYketQGrCfzxj38EX9pEQAREQAREICwBiZ6wBHV+rAR6e3vBlzYREAEREAERCEtAoicsQZ0fKwGJnljxKnEREAERaCkCEj0tZe7sVVaiJ3s2U4lFQAREwFYCEj22WkblcghI9KghiIAIiIAIREVAoicqkkonFgISPbFgVaIiIAIi0JIEJHpa0uzZqbRET3ZspZKKgAiIgO0EJHpst1CLl0+ip8UbgKovAiIgAhESkOiJEKaSip6ARE/0TJWiCIiACLQqAYmeVrV8Ruot0ZMRQ6mYIiACIpABAhI9GTBSKxdRoqeVra+6i4AIiEC0BJpG9OROnMDVoSFcfvttjP3mNzVfE3v3OsflP/88WpJKLRYCEj2xYFWiIiACItCSBDIpeihwKG4uPvMMzn3zmzj113+NsytX4vwPfuDsqyV6Lv3iF84xPI7nnL7tNud/7qcYkhCy7zcg0WOfTVQiERABOwjwnsWH/c937Zp60Od9kfc474v7zH2Rx/KcVt0yI3ooSkZffNERNxQrNCKFTxjjTV644Igdih4jnthQmC6/05Y+AYme9G2gEoiACNhBgPcl88DPB30+vPPexftWuajhvdG8vKKIx5r7HdPgfZXft8o9z2rRQyPQkDQMXxQn9PLEtVE10/gUVGxMfKfY0pYeAYme9NgrZxEQgfQJ8J7Hex/vgVE98JtaURQZEWUEFPNqZgFkpeghcKpPGoHvYbw5xrhB3ymA2BiM4KIY0pY8AYme5JkrRxEQgfQJ8J5DjwyFDu+DSTyAmx4VE/rRjPc9q0RPudixRW3S8BI/6VwEJHrS4e4n12rxBPTMemMJjMud7/wd8QGG52kTARGoJMDfBn8rFB0UPPzNpPF7YZ7Net+zRvQYQ1PR2iJ2ypukaQRsjHF2s5Xn28r/S/TYY322ef5OKWp4UaYn1ggc7jcvPi1S3PDd7DPnmVgCnm/i8vRbssfGKkl6BHh/MR6WNHo3atWcv2P+zvngzzJmfUtd9PCCxwshXzYZejrD8gLOCz77PrXFS0CiJ16+9VL3urt50eNDCS98YYUKz2c6TI/p8mKflAu/Xp31vQgkSYD3Pd7/+Duw+R7I3yvLSAEU9vefJN/yvFIVPUY88D1rm1esZbkB2M5doid5C9HTyt8khQgvcnEPIGAN+RsywZrMk/nb6vFN3iLKsRkJsAuJbZ6/s6zcA033Gx/6s1Lm8raTiughOOMuy7pgMDeHZnD7lTcOG/6X6EnOChQZ9LakOYCAteXTrhlByfJI/CTXBpRTMgS8D81ZbN9ZLn/iosfA4kWN4qcZNnYBZEmtZ4m5RE/81ioXO7ZchMvL1SzXi/gtqhxsJsAH5Ga5XxhPFe+BWdkSFT0UPDQ2n96abWPd6JZvxrqlaSuJnnjpG0+lzR4Vih8+JPHawWkktIlAVgmw/bIdZ0kk1GNtRFxWejsSEz1G8GQFTD1DV/ueT6IMSJPwqUansX0SPY1xq3eW8bhmaQABu734YMEys/zaRCBLBHhfoOBpxrZr7u/0/Ni+JSJ6DJBmFjzG0BI+hkQ07xI90XD0psKnzawGIvL3ZVzqrXA98dpNn7NLgIKHYt2WruM4SJr7vO0P/bGLHgOilS5QEj7R/aQkeqJjyXZpnjZtHhrrp8Ysf7N2lfupv47JDgEjePj7a/bN3O9tFj6xip5WvvlT0fOi3EpiL44ftERPNFTNb5FPm81y8W3GOkVjbaViCwETM9fMHp5y1kb42Hrvi1X0cFg6AxBbdaPx2Y2Q9afqNO0n0ROePtthswbZU/i00pN0+NagFJIiwJt+4jE8+SvA0HvA61uB7u7i66VfAbuHgInriVTfCB8bA7ZjEz1UuLzQNstTZaMtxTT8VufQKD+JnkbJFc4zFx+b3c3halg4m/VL/AYTRcGVRlMSML+7xG76+cvAe78EVi4EOjpqv5b8I9B/GMjHj93c+2zzcsUiemhwejj4rg2Ot4teL23BCUj0BGdmzjAX3mYXPKa+8vgYEnpPk4DpduWDfyJb7iTwwgMeodMF3Pso8MJLQF8vsHkj8PDdnu9vB17bn4jw4aADdqnbtMUieljJxAxuE80aZeGPQPE9NeDU2S3RUwdQja/NhbdVBI/BIOFjSOg9LQK80Sf2kJu/ALxwjytoOoG1LwJDF6pU/Row9FvgvtvcYxcDfUerHBf9Ltv0QOSih2LHNmUXvRmDp0g3J4WPurmCsZPoCcbLHM3fYKsJHlN3xhEmdtMxmepdBNwlVHidT6ZLZxLY+UxR8HxvO5Cr0291cRdwx9zCOQt/DFyYjN1utvX8RCp6zIglBe5Wb0e8GLfqjag6kfp7JXrqMyo/otW9HcbLlYWJ0sptp/+zTYBxrInNGn79Y2D1vIACZhLY8WNXKM0HepPx9tjkDIlU9PBiq5t67R8tRSFjnZJ5Cqhdjix9I9ETzFrGo9jqbczEMyUWSBrMTDq6CQkke2PPA/tedMVLF/DSAf9EP98PPLcZ6NsBnBjzf17IIykIbRjGHpno0Q3dX4uQMPTHyRwl0WNI1H/nb5Cudd3oC6zM6BF1KddvOzoiHAG2Mf72kuvlmAC23uuKnnuAg/ZPfGgeyNL+PUYmenQz9/ejkTj0x8kcJdFjSNR/ZxyLPK2lnNil3MpzhZXS0H9xEaCXJ9k4sjPAejcoee5Pgct1YnniqnjAdMmIrNLcIhE9upEHM6EEon9eEj3+WNnyFOWvtMkdlfwTeHJ1U052EEinjZ0A1s4veHru3gokM+dgaOBm+ZjQCYVIIBLRQ+WmJ0z/VjDdEGm7+fyXOL0jJXrqs2c7sqW/vH5pkz+CgaXko00E4iDA9pWsl4e18IietX1xVCu2NDmyNM3YnkhEDy8oyfVlxmaLRBPmjyRNwyda2RCZSfTUh5e8a71+mWw7QqLQNos0T3nYtpKPo/OInvt6E5loMCqL8b6X5rQ2oUUPja2nqODNIW3DBy9xOmdI9EzPPR3X+vRlsvFbG9zqNnJRmcIRYLtK5/43DDzsLjkxvxvIhatHkmeba1ZaKzaEFj3s1tJ8GMGbDA2v4ev1uUn0TM9IXp7p+Xi/lXfVS0OfoyCQ3v3vMrB5RSGmp/O7wEiQSQavAxNXo6h+w2mkxw0ILXqoctNSbLWJ54Cj+4DBQWBwD3DazuF8HFWiLq7aVuQ3Ej3T8+HvT13L0zMy3/K3ls5TuSmB3puNAIepp3P/uw7seMIdsr4Y2HEuANpzwOPLgFXfAV5+B7iW/MivNHuIQokeMwFYANrJHOqdqbKjE3j63WTyDZgLA+A0nHZ6aBI9tfnoJl6bTa1vKHqSj7+oVRrtzzIB3v9SFdGX3gUWdhaEz/f6/cf1XOgHutyV2L/Z5/+8iI2VlmAMJXrsvGnngYMvuwrYNeyc9cBZ+zo9rRWNETfuMMlJ9NSmR8HM36A2/wQ00tQ/Kx05PYH029JnQLfp4roH+KDaQqNldciPAi+aSQ2XATvOlh2Q3L9pXb9CiR72y9l30R0HNq8siJ6f/TNwdxfQMQ/o+Tg5awbIKS21G6CIqR4q0VMdv4kJ47s2/wTMnGLi5p+ZjqxOwIoYsbO/LXp7FvzfwMHR6oXl3vxloH8D0Ok6A+55LZWuLVPAtJwmoUQPh51ZF09weTewiC4/9nOeKE7VvexF4GryfZfGwLXerfjh1CqcBfsleqobgV1b6hqtzqbe3rTnCalXPn2fDQJ2DETJAe8+WxQyncuA7t8AQ6eLK67nxoCDO4DH7yn2gCxYBxxJ94EprZ6OUKKHRrdr8wR3mS6toa2uoZcDu6dRwSlVhC5SvrRVJyDRU51LWq7hYmk+Bw7ucQcLcMBAjde+IWB0oniaBZ/4hEkvtTYRaJRAWjfs6uWdAN7dBCxw43s6XE9Orfflj03vEaqeSSx7qSGS9ro2LHpSD+KqZoL8MLBuUUHkrNteCNDKHwXud6frDhLsVS39GPbpiX16qBI91fmk/5TpmRyt1sV1av9C4PGtwNFL1SuT8F67blgJV17ZRUKAwfD00tuz5YGRD4EXHwcWM6SjivBZfD+w9Q/AeJDh7fHWkAyT7i1qWPSwoHYZHcCnva6b73ag/4xrrWtA37pCI+j8NvBpuvMTlDchKzmWFzLF/yV6KuGzzaQ6asQpUhDR416AFzwMDI1XViiFPYqlSwF6E2VJ77y189PlJ4DTRz3e1/3AyYupjdKazuxpxAU3LHrs81BMAD0PFsTNwp8BlzwrsJ3dDszhhbcLeOnAdDZI/Ds9dU6PXKKnko8d3TMe0VNr7Z/cOHDiI6D3iWLMQcrBk4Ymuwd5DdMmAo0QoOBRWEIj5ErPSSO8o2HRk0ZhS3GV/Xf1Q2DZHIDz8vx8d9mXnIxpcUEQLX0B+NyugGb7YqPK8KX4r0RPJfw0no4qS+FD9EyddBnYusZ1ua8E9qXv7bH6SX2Kmz7YSoC9HJrvKbx1+DtMOr6uSURPHhh8YZqLah7Y/Zz7fbpzE1RrJhI91agU9kn0VLJJox+8shRBRA+Aoz3u728+0HeiMrmE96hbOWHgTZadHb/B7ENN43fYJKLnPPD0lwoX1bterj73wOfvA0vpCeoAUpyFslozleipRqWwT6Knkg3bS9IjHipLEVD0nO5zRc9tnni7ylST2sP5ehjXo00EGiEg0dMItcpzJHoqmfjbMzWtdifweK8ngMs7jPYPwMO3FS68nQ8CR+wZRivRU9vMEj2VbOxoL0FEzyTQ/1jhtzdnHTB8rbJSKeyxg2MKFVeWoQlI9IRG6CQg0dMQR8/orGrD9KrumwN0v99QbnGcxIvve3/1V1a+4qhvkDQlekpp8SLByfXS33yKntwlYPcr7hwic4HNe9IvulsCenro8dEmAl4Cfq7Fp/7rf018qLW3jM3yWaKnEUt65+FZvBJYu3aa15riHAblI7wayTuic2x94vTz44/7mJ/9p/8EvoLkE5FZrEwmjYtEdRAe0TN/efXf3IMri6O2Or8EvPSn4iyx1RNNdK+e1hvDHeS3mMVj/VBR2/FDqf4xaVzPQsX0pD9PgXdx0UXA9uE6lHPA9vVubIGf4+skF8HXjM2wVfREUL3QSTTi6WnWCy1hpnGRqG5Ej+ip6k0tmxxtwRqgdzdwxTOVRPWEE9sb540ri23Qb5kTM5DFGcXZdiyuduRFS+N61rDoSaOwlcQ9i4uaZScqDyrdMxX/0wHc35v6hE3kaEd3RSkmW/5rRPTYUvYg5fB7wzHHBUk7nmM9omf540BfX9mrB3ihG/j5Y8DyBe6DRiewaiNwyo54OsMyrvd4uCtVGwhI9ERjhTTmHMu26JlaXLQDeHyHTyuMAj9f7l6E058zxA7x6BNdCoe1iujxi9ae9uIRPbUmJzSVyl0A3vyp29XVCax7M/WHDRZNNy5jIL0HJRDJ5ITXTgDb+oCdR4vZn9sH9L0JHOVcVteAoXeBl/4J6H4ReGtPqaf0ytHC+d4Hjm27gCuch24c2Lkd2DdSJe0x4OiusocUPrRsKz3enFmez7Z+YOic+TbUexrz/TUsetLvlvEsLtrxJWDneZ/w88C+F4tPnhUTGfpMJqLDNEna9CAlekr5ZFL0OFX4DOhe4f7u7gWG0vf2SPSUti39559ANDfrMeCl+4DONcDQZSB3HPjeUuCuTcCly8COZ4DOLmDtE8DPvwvMnwM89EtX1AAY7AY6FgD3PliIqVvJCXgfBk7nALgPJd2DhUrlR4Cf3AF0cJ6sY8DOTYVz7qUDoAtYuQZY+xDQO1QJwZluwhzzYMFz2/lV4F2z1FPlKX73cGJCskxya1j0sJCpjn7wLi666DngcoBZlq8dAO5yF2Xregy4kN4CbGkYPckGFjYviZ5SgtkVPZwg9FlX9Cz0EX9XWu84/pPoiYNqa6QZ2YKj14aA+xcA978M/Nt3gTlrgY/GgUvvAgu7gGf/w/WK5oHjrwNz5gE9HxcgU/TM/Wnx3ueIoGqiZxLYvdH97ZVNDuoImuXA4DSzpJcfkz8G3DcPeHh7aGOn8RsMJXpY4NSm4p5aXLSR4edXgd5vFy/AfcdDG6/RBBjPwxuZtuoEJHpKuWRX9JgnUwY4l114S6uY2H9ctJVr32kTgaAE2G6iWfQ3Dxzpdad0uB3odQXNvs1AR7kYcb03jthwHyLmdwN07HCrJXqu7AdWLQae5lxZZb+9ckHjJlXy5hyzCOj+VaFLrPd5YMF8YOtfSg5r5J80HCehRI+6Zhoxc/Ec00WY/uy6xTLZ9kmip9Qips2U7k3jvwAxPU7xLgMvfd190FgB7LucRqFL8tSoyRIc+icgAbafSK7dV/YCd7Dn4W5gtztvlCNgaogeJ4buKtDzQKm3paro+UNh3btVrwBHfhNC9JSNxuxYBvR9EpBY6eFpzYoeSvTQy6ORR6WGDPKf+NWnJdFTyciOm3UQ0TMJHPyF+zTbAViw6K894rHSvtqTDQKR9HTkR4EX7wUWPgQ88mVgyTPAxUlgaCvQsRTY6Zk88/pHwN1dhUE7TnjHYmDrR0VY1UTPA2uBrnuADy4AjsemUU+PR4DlLwEvrga6ngAuNT4Fxee7djmDCYoVSOZTKNFjLhyRqN1k6mtVLhwBkP5cR1YhqSiMRE8FEudBI/0uUY/oWdldfemXnf1AXw/w9NriJIW8kPfXm0+rss5R77GnmzDqmim9pAiEv35PAh9sAjrd38TFPwJL5gJP/B64+hfgnnnAff8MnGKQ8wWg7wmAHpYdx4HBlwAGE+88Bpw+XXj1Pw10PAgcHC0GMnfMAX7yx0JcUCjRswzo/6SQz9FB4PHlQNBY2jLDpBXPGkr0sA5Uu1Rs2oITYJ9w+jev4OVO8gyJnkradvzmPKLHz+SEPIazMvfst2K4ehrzg1RaUnuyTCC0p94ROV3A93/r/iYmgZ3PFDw8248Dp3YAqxa6XcL8/dwF9P4ZOGUW7y3vcnL/d+J83N/nwh8XB+qEEj1lec3/BrDjZCjzpRVTF1r08OJx8ZlnQlW+FU9mIJxWea5veYmeSkZ2xNL5FD1cGubhHwGvvVV4Yq2sTip70nrKTKWyyjQ2AqECcXPjwOmzwISniyg/AZw5DYy6Uzpw7bqDe4HBg8BFd58jXh4E9p0senm83h5H9FwHRs8W0yEBJ+1q+Z2ffnkYUyaTx+k6x/ugneb9L7ToYTBSZAFdPmA1yyF0jfLCq216AhI9lXxCP2FWJtlye+RlbTmTx1JhXsP54J/o5ogeMzS9LGfG9XhHdJV9bcu/ad7/QoseQqSnJ3HD22K9BsvBJwQNl60PT6KnkpFi6SqZBNljHtSCnKNjRaAaAT6ARDN0vVrqNfblzgF7Pq7unRk/Aew/YUUXco3SO7vTfOiIRPSkYvjpiFr+HWOgNOrNn5EkeqpzYvvh705bcAJpjRoJXlKdkQUCfIBVbKZ/S6WtFyIRPawulZsCmv0ZXqz8ceJREj3VWTGuR92j1dnU2yvPdD1C+j4IAf0Wg9AqDH5Ks2coMtFDwZO4my8YayuOFqdgZpDoqc4rzUDA6iXKxl7TNcguLm0iEAUB012qNlWfJj1i9IylOc1NZKKH1ZUHo77Rxag+I+8REj1eGqWf2cUl72opk3r/kZe6lutR0vdBCdDrKs9rfWqcboOesTS3SEWP8WKkqeLShFkvb8On3nH6vkhAoqfIovwTXcS8iGjzT0BC0T8rHemfQPzenjwwOgT0vgx0vwC89u/AyNViAcePVPkuDxzdVVgvq6/P874N2DcM7OsH3tqXWNCzDV4eAotU9DBBG5RcsSXY84lCkG49BZ8Gs4lET21e6qqpzabaN6ZLUA9l1ehoX1gCHIYd20PIyB+AO+YCS9YCz28AVi4E7ngWGMkBF3d5vnsGuHcJsGAdcGQM2LkJWLsWuHc50NEFrFwDrH0I6P0A6F6e6PB2W7RB5KKHFxbO26Ph2KU/IQZPahLHUiZ+/pPomZ6S3OrT8/F+S1a8MWkTgTgIxPdgOw5sXgl4Z1e+9C6waB7Qs7fw3dKNwKXJQrVynwAPLQTWbS96cZy5fTzrZ2E8UdFjejlseOCIXPSQOvvs1G9e/FnRu0MvjwLdikz8fpLomZ5U/G716fPPyrfilBVLZbucvLlHHqibPwzcMxd4eqcHznVg/DJgFiFd+bSn++p1YP2XSxcErSV65qwENnYD3f8E/PK3wKdjnjyi+RifGGysfLGIHhaFokdPVXCi1NWt1Vjj5FkSPfXZydtTnxG9rAo0rc9JR4QnwG6cSL36uUFgfgfQPVhZOPMdl3thN5b39dCmwortPKue6Hn+aWDVYqDTXZG9MqeG99jWyxGb6DH9560ew0Lxp4ttw78XiR4f6OjFoLBWl3J1WLYEUFYvnfY2GwHj2aDXJ5ptGHh4IbC+35PcCND9feA32wpeIG9XFiaBoXeBnUeCdW8Zj1JJPp4sG/jIwRYcsWxDt5YpfmyihxkYV1+rXowpdih6bDK4MXxW3uXp8WcpdinHFkTprwjWHnX6/vsx9A//gLGhIWvLqII1FwEjtKO5910Dtn8fmPMAsPskkL8CfPAyMGcxsP0ToG8d0Lka2PEJkLsGHPl34I55wLo364ueeU8DJ08Dp44C774KLOwCNn8YiTFYdxvje2MVPSTHi3HkfZyRmCTeRKhwW7HeUVOV6PFHlMKaT1RpznTqr6TJHuWNLxz+9a/x6b/+KyY//zzZQii3liTAtheZlyN3EnjhAaCjw30tBJ7dUVh/q+K7TuC+TcApd1V20q/VvTWVHtPtAtb9EhhzA6JDWM14n6PzdoUoTNmpsYse5tdqHo9W93CVtbFQ/0r0+McX7dOl/3xtPbLak+bV8+dxdPNmnEl6ZWxbIalcsRKI9t6XA078BRjcC5y4VFbuHHD6Y2BwEBg6XbkYaX4COHPesz8PjJ8HTp8uvkY9Iqks9SD/8gHM5rCOREQPgUVr/CAmSPZYCZ5oeUv0BOPJwQO84LT6Zi68fNqutrGr6+MNG9TlVQ2O9kVKgN3OrRLmYH53vN/buiUmegjACJ9o+jntQ2q6tJq1fmkQl+gJTt3mp6zgtWnsDF5r/MQ4qcurMb46yz8BIwSaXfiYetoseGi1REUPMySQZhxp0qz18v/TjudIiZ7gXG3uTw9em+BnmIcPXoT9bOzyYqyPurz80NIxjRBgW2xmjw+vOVl52Epc9LDBsAuIUd3NEHRp1G2zq/hGfuhRnCPR0xhFehv5cGFjIGFjNfJ3VpjuZXV5+WOsoxonwIdjBjc3U2+AudbY7uExVktF9DBzE3TJiYv8PpGZQtvybmZaprGzWgdbWNYqh0RPLTL195uHC/7WWmGLqr70+DDYmR4gbSIQNQEzorkZHkjouMiaAyM10cOGRKFA0cMn0ixNYpjVckf9400iPYmecJSN56MZLrDTkTCCJ6p6clg7u7wY86NNBKImkPUHZu89MGsPVamKHtOQTANgnyf7Bm3ezE2EYs32strM0W/ZJHr8kqp9XNSCoHZO6XwTZ/3U5ZWOTVshVwoH3vPY3ZWlh35zv85qL40VoocNnA2Aw23pKmN3kW2CghdWNs6sNdCsXzwkeqKxoLlQ1RrCHU0uyafCa0YSAyPO79ypLq/kzdsSOZrAe9sfpHlPpkjLWs9MeSOyRvSYghEsRY8t4scrdvhZW7IEJHqi482AQ4r2rD6heUmYp2QOIEgqKNTb5aVZnb3W0OewBGx+6Pfek/nQxLJmebNO9BiYBjRVJdUlBUdSsHkRNU+QvKhK7BirJP8u0RMtcyMWKH6y1hdvSKQ9COLzEyccr8/o3r2mSHoXgUgImPueeehPStBXKzx/ZzY5IKqVsZF91ooeUxlepCk6KD7YEPiUSndglI2BedD9T6HDmwGFFo0dZR6mPnoPRkCiJxgvv0cblzrbfFIPE37LVus4ltM8jLD8aZE+AVgAACAASURBVG/s8uKszhrllbYlmi9/ih/T1nnvY3vnvrg35sG8zH2Qnp0k8o27Xt70rRc93sISPgUQhQ+FifEC0TDcT2U6nVDhRZPH8MVzKGyMmOI7Gxm/02YPAYme+GzB35MJpLTdm8nymd+7TRdhdXnF1z6VcoGAuefxoZ/3Kd67orpPmXsi733mXsj7a5YCq4O2k0yJnvLK8eJH47AR0FAmyIqNo9aLhuVxNDIVbVSNp7xs+j8aAhI90XCcLhVeVPlkx9+Fbb8HUzaWz+YLsenyovdHmwjEQYACxfRIGIHCd977vA/+/A3zxfsjX+Z/vvOeZ+6X3jR4P7T59xUlz0yLnihBKC07CUj0JGcXXgwpLngxpNhIa+PF3St20ixLUAaM8+HEhhRB2kQgbgLlQoYPLubl7Q0x+8oFUtzlszF9iR4braIyTRGQ6JlCkdgHigwKH140+QQ4XZdxlIViPuxyZr5pC68w9WKXlxYyDUNQ54pAfAQkeuJjq5QjICDREwHEBpPwihB6gChI6AKnJyaKja53Ciymy/T5SlJkRVGH6dJggDMDndXlNR0lfScCyRKQ6EmWt3ILSECiJyCwmA6nAGL3F93kjJejQCl3ldPVXi6IvDEFFDgmDZ7PdN77q79y9iXlTYoJz7TJqstrWjz6UgQSJSDRkyhuZRaUgERPUGLJHE+BY0SMGURgBFH5IIJq8QRG5FD0tMJmurzY7aWJDVvB4qqjrQQkemy1jMrlEJDoae6G0Cqix1iRXV4MdOZK7tpEQASSJyDRkzxz5RiAgERPAFgZPbTVhA/NpIVMM9pYVezME2gu0TP5OTA6mHmjqAJFAhI9RRbN+qkVRY+xpUZ5GRJ6F4FkCDSP6KHg+fC/AANtwEh/MvSUS+wEJHpiR5x6Bq0seghfXV6pN0EVoIUINIfo8Qoeip73/w8JnyZpxBI9TWLIaarR6qLHoGGXF+N9+K5NBEQgHgLZFz3lgoeiR8InntaSQqoSPSlATyFLCZ8idAY5U/xoIdMiE30SgagIZFv01BI8Ej5RtY/U05HoSd0EiRRAoqcUs3ch09Jv9J8IiEAYAtkVPfUEj4RPmHZhzbkSPdaYItaCSPRUx6tRXtW5aK8INEogm6LHr+CR8Gm0XVhznkSPNaaItSASPdPjVZfX9Hz0rQj4JZA90RNU8Ej4+G0LVh4n0WOlWWIplITP9FjV5TU9H30rAn4IZEv0NCp4JHz8tAUrj5HosdIssRRKoscf1s9PnHACnbmmlzYREIFgBLIjesIKHgmfYC3DkqMleiwxRALFkOgJBpmrt3MVd43yCsZNR7c2gWyInqgEj4RP5lq7RE/mTNZwgSV6gqPzdnlpIdPg/HRG6xGwX/RELXgkfDLVyiV6MmWu0IWV8GkMobq8GuOms1qPgN2iJy7BI+GTmZYu0ZMZU0VSUImecBjZ5aWJDcMx1NnNTcBe0RO34JHwyUTLlujJhJkiK6RET3iU7ObSQqbhOSqF5iRgp+hJSvBI+FjfqiV6rDdRpAWU6IkOJwOcGehM7482ERCBAgH7RE/SgscIH75rdXbrfhcSPdaZJPYCSfhEi5hD29nlxbgfbSLQ6gTsEz2neoF9f1f79f7/WVhQ1CtWgnze+3/VTvvP9wKff9rqbcKq+kv0WGWORAoj0RM9ZnV5Rc9UKWaTgH2ipx5HCpMgIqf82LFD9XLQ9xYRkOixyBgJFUWiJz7Q6vKKj61SzgYBiZ5s2KllSynR03qml+iJ3+ZcyJRdXnzXJgKtRECip5WsncG6SvRk0GgRFFnCJwKIPpLQKC8fkHRIUxGQ6GkqczZfZSR6ms+mfmok0eOHUjTHsMuLXh+u5K5NBJqdgERPs1s44/WT6Mm4ARssvkRPg+BCnMauLg5xV5dXCIg61XoCEj3Wm6i1CyjR05r2l+hJz+7q8kqPvXKOn4BET/yMlUMIAhI9IeBl/FQJn/QM6F3INL1SKGcRiJ6ARE/0TJVihAQkeiKEmbGkJHrSN5i6vNK3gUoQLQGJnmh5KrWICUj0RAw0Q8lJ9NhjLAY5ayFTe+yhkjROQKKncXY6MwECEj0JQLY0C4keuwyjLi+77KHSNEZAoqcxbjorIQISPQmBtjQbCR/7DKMuL/tsohL5JyDR45+VjkyBgERPCtAtylKixyJjlBWFq7dziDvn+dEmAlkhINGTFUu1aDklelrU8G61JXrstr+3y4uftYmA7QQkemy3UIuXT6KntRuARE827P/5iRNOoPPo3r3ZKLBK2bIEJHpa1vTZqLhETzbsFGcpJXzipBtt2uryipanUouegERP9EyVYoQEJHoihJnRpCR6smU4dXlly16tVlqJnlazeMbqK9GTMYPFUFyJnhigJpCkWciU3h9tImALgeyJnoNrgIG2xl9jh2xhr3L4ICDR4wNSkx8i0ZNtAzPOhxMbMu5HmwikTSB7oidtYso/UQISPYnitjYzCR9rTeOrYOzy0kKmvlDpoJgJSPTEDFjJhyMg0ROOX7OcLdHTHJZklxfn9lGXV3PYM4u1kOjJotVaqMwSPS1k7GmqKtEzDZwMfqUurwwarUmKLNHTJIZs1mpI9DSrZYPVS6InGK+sHK0ur6xYqnnKKdHTPLZsyppI9DSlWRuqlIRPQ9isP8mM8uJK7tpEIG4CEj1xE1b6oQhI9ITC11QnS/Q0lTkrKqOFTCuQaEcMBCR6YoCqJKMjINETHcuspyTRk3UL+iu/urz8cdJRjRGQ6GmMm85KiIBET0KgM5CNRE8GjBRREdXlFRFIJVNBQKKnAol22ERAoscma6RfFgmf9G2QZAnY5cWJDfmuTQSiICDREwVFpREbAYme2NBmMmGJnkyaLXShGeRM8UMPkDYRCENAoicMPZ0bOwGJntgRZyoDiZ5MmSvSwnoXMo00YSXWUgQkelrK3NmrrERP9mwWZ4kleuKkm420NcorG3aytZQSPbZaRuVyCEj0qCGUE5DwKSfSmv+ry6s17R621hI9YQnq/FgJSPTEijeTiUv0ZNJssRTaLGTKYe78rE0E6hGoFD2X38fGRTdi9ppeHMvli+fnR7DzqSVo73wC71yYLO7XJxGIkYBET4xwM5q0RE9GDRdjsT8/ccIJdOaaXtpEYDoClaIHk/jsveewqH02Vrx6CNecsydw8o11uKl9GTa8dx4eKTRd2vpOBEITkOgJjbDpEpDoaTqTRlYhrt7OVdxbcZTX1aEhfL5rF8Z+8xuMvvgizv/gB9O+Lj7zjHMsz+G5rbJVET2s+hj2b7oL7e13YdP+z3DtcA++Nvsm3LVlP654yeQu4PCut/B676+xfdfHuOh4hiYwcmgQAwMDZa99OD42iuN738fe42NTwik/dhx7B/jdJJAbwSGet/c4xjzKqnDMQMl5hWLkkRv5qCyfQr6FPPLIXfwYu7b/Gr2vv4Vdhy8g5y0/ruHi4T9h++u9eH37n3D4IiVe4+UvlPMjnP3sBAbe+jV63/g99g5fnqqrk3VVZvymPN8PcOD4ZyXlzV8ZxoE/bMfrvY2Xt6T6GfhHoicDRkqhiBI+KUDPSJbeUV7N3OU1sXcvLv3iFzj3zW/i1F//Nc6uXAkjZC6//bYjZChmar14DAUSz+G5TINpMU2m3axbDdED4NohvLpiNtqXrMFDS2ZVdHflx/Ziy+qb0TbrVty5cgk62tsxe/Ur2D92HG/cfxPa2trKXrdj48DvsWFWG2ZtGCjczPNn0P9IF9rabsWGgTFguBernPPuxJZDRl5dwaEtdzppTZ03ZY1JnH3jIbRX5NWOmzcO4OL+V7B6djvaO5Zg5Z23YlbbzVi9ZW9BUOVHsX/L32N222zceucKLOmYifYFT+Dt4cMNlz83sAGz2v4Gt956MzqWfAUrl3SgffbfY8v+UUf41GbG7sLj6F01q5RZ+1w88G9DuIY8csP/jh8suKFQl1XLceusdrTN/ke8MXzEf3mnuGXng0RPdmyVZEklepKknc28mrHLi2KEXpzTt91WIlDyEcQzMY1yIUVB1GwCqLbo4Y322P/G6hltaLvpEWw/4/WRjGJgw+1o6/w+tg9PAM5N+U080nkDbtmwG5ed38gYBjbcirZZGzBgTs0NeETPJC688wQ6HcFSLnpmYUXPJwUPydVBbOyaUUP0FH+MBcHhpsPd1w5gy7LZ6HzkTQw7HqhrOP/Oj3FL+1ew5dA4rh3agmXtt+DbbxxzBFj+8l5sXjYLNz26A581WP5CGWbglqd24jN6qvLnseupL6Kt63nsuVqPWUH0TAm73DC2f6cTbTdvxJ7JzzCwYRHaFr2APZevO6XLn9+Ob8+chVW9x10I9Xi7h2XsTaInYwZLqLgSPQmBboJs2OWV5YkNJy9ccDwyFDr0yNBDw31xb8yDeTFP5k2vUBL5xl2vaURPDmf7fzAlSr7bP1zsppncg403z8TcTftQDGkexa4n56Jt7iYccHbWuQk7AdMdWP3keiwv8fR8Acvv/CJmrOjBsXwelweewS1fWIY7v3hD0UNUhUq56Ll+aAu+2DYbdz75LzA3zt5fPIk7Z9yAZa/uw8evfhVtNz6FXROmH20S4yMnMXzxilvP4OUvlMHrpcpjYtdTuLHtTmw5sLMOs4LoueFbr+JP7OLb1YcNd96E2Q/0YTgP5K9cxOmREZz55AAGdvWj718exdIZ/kTPzFUb8KveXvT2bkP/wCduN2QViBbuMrazsGgqUooEJHpShJ/BrM0or0//9V8zM8qLAoNeHXY78T3NuBvm7S1LlsVPDdFDL08v1sy+EYt+1oNffPsWtN20Dm+cpFcHgOOx8d5wufMajvd8zePZmU40vI09m+7CzBWv4eNj/4ZVJaLnVvz0/9mEFTO+jp5jZ7DryQX4wpP/gldWzQokegoCZKbTzbRq1SoUX6vxDz3v4U/lXqhCzTx/g5e/kOf96B02ri2iYpfXrdiwqx8bZk3HrEr3Vtts3LV5D8bykxjb/xrWdM4sdH/NuhV3/cMq/K1P0eN075GB0w15Axb88Pc4a7Sep8Y2fpTosdEqdpRJwscOO2SpFAxwZqAzvT+2buxmolfFiB2bBIZXiDH2J4putaTtUF30XNmPLXfNRvvSF7H/Sh75s7/FdztnFuN6Jvdh09yZ+JsN78GVQQDO451Hb0HbF7fgkNMDU1s0zPzynfi7mQySNnE83u6tW7Fh9x70rOjAiv/5T1h/01Js3HPAiXeZ6vqpQmlKXDA2iD1Ln7yKZW234NF3PGu15IYx8LudODQyVhBoN/wQ74ybu/8Ejm17Dj/Ysgsjzq7g5S+UYRk2HSh08LHbb/ydH+KG9jXoPf5BHWZl3Vv5Kzi97RHcQC/Rwb149e9uxMz7X8O+4bFCPNT4O3j0Bq+Iql3eIrdJjPavL6Q5FTNVBaZFuyR6LDKGZUWR6LHMIBkqDoe2s8uLcT82bYyfYVcSR17lLCublxPFD8vIsmYt5qdS9OTP470Ny9A++wH0HDY370lc2PkzLJgaxn4Zh7Z8pRCku+cccvkrODuwBatnz8KyLQfcYe61b8JtbTdg0cb3C7E/TvBymegZOI9jPV8vBCgv2owD144FFj24fhg9X5mNGXe9gJ0cQZU7j7/0/CNuarsdGwZGkT/Zi6/NYGDz+7iQm8SVk2/hB7f4i0mqVf6C6JmBzke24diVSeQuDGDTXbMx42u9OJmvx6wgem58dDs+HR7G8PBhfLBlDWa2r8SrH72HTXNnYOa3tuFMLo/8lVMYcIKw2VU3VLc7birN4wfx/238KmbM+BbeKInR8jZnuz5L9NhlD5tKI9FjkzWyVxaburzoMWHQcNZEhBFpLHtWvD5losfE8XRgTe8nJcOlGZTriCFnGPsYkPsU/U8tx6ypkVM3YelTb7tBw/wBTCN6bvkpdn3mRgNVFT1jyB/rwYr2mfjiloO47o5sKnosKn9g5Z6eQnD123hqqWckWftcrHnVHb2FCQz3/xRLOQrKqcNMdK55Dfs5dN7Zgpe/UIYbMe/WTndEWTtmLf0p+p1gb3YLTsesSvfWVHknMPz2E1jQbkbEzUTn/euxbsmNuOHRdzBer7xTNmpD26zleKr/01LbujW28U2ix0ar2FEmiR477JD1UrDLi16ftLq8GC9DsZMl4eC1uVewpRl35C3TdJ/LRE8eubFzGD51EVdMr4/37NwYRobP4OKVwggiIIex4wcwMFA5p4wjOpjWiNsd46STw9jIKZyaChZmP9QVXDx1DmMcYeX9zLRHTF7XceXiGYyMFWNlvMUqJM2yuel4v8yNYfjQXgwM7MVHIyZI2RzA+n6KAwMD2PPR2bI6uywClH9KeL13BsMHPsDAgU8L9TLZFQpag1mhjsOOl4eenlNl9b2OKyMfYw9ZHzmPK/lC+Yosa5e3mGYVPiVls+8fiR77bGJTiSR8bLJGtsuSxkKmHB3F2B2+Z33jJIcUb7bXpUz0ZB17uuWfEj1uXFG6pWmO3CV6msOOcdVCoicusq2bLtfxSmKUl5lvx+bYnaCtgHWh8GHdbN0keiK0zOSejbi57XZs3FPocIow6ZZNSqKnZU3vq+JG9PBia6bgN9Pv8+LLp+haL3McR6Hw6TQLrnlfUHRQaAKmy4srucexURRw9uPoRmblgRPvAX19tV/b+oEP9gOnC4N94qgX02R3F+vGOtoY5yPRE5fllW4kBCR6IsHYdInwZkGhcuKOO3DqP/9n5+mSIoZDfc1aQtPdUHgxpshhICbPMTchCiResLmvmZ7Am64BJFShOLq8TFuLVhBcB3Y8AXR0+Hh1AQ91Ax+ejY2iET78LUVbz/BFlugJz1ApxEhAoidGuBlLmhdPCh1eSClOGPjJ/6cTN0GryDwohHhj4ky0fNETJAEUlGRzHW+6vMIuZBqP4CFrr+i5DXj8OaC72/N6Hnh8HbBycVEUdX4V2HEyNkMZ4cM627RJ9NhkDZWlgoBETwWSlttBUcMLJ4UOvTn05CT19Eixw7zZVWbybjkDqMIOAe9Cpo0giU/wsDRe0XMvMFScQa+0rNeAod8Da28viJ/Oe4AP4lvSwkbhI9FT2iL0n2UEJHosM0iCxaHgoNAwgZFRenSCVoMXb4ot4/3hZ22tSaCRLi+2F7bj+NqwX9Hj2uziLuCOuQXhc9f/Aj6vNlw7Gvvyt8O60ytrwybRY4MVVIaaBCR6aqJp2i94kTTeFcbW8H+bNiN+2M2m4GebLJNsWRjk7GchU4p3einj7SINKHq4auaOH7tdXcuB3aOxwjMMbPi9SPTEamolHpaARE9Ygtk6n0+DfCpkvE58T8XRMKEgM14o24RZNDVUKvUI1OvyYrugdzB+L0dQ0QPg8m5gUSfQMQfY/GG9qob+3ni70v6tlImePHIjH2GAq3yXvfYeHyssd5C7gMO73sLrvb/G9l0fe1bsnsTY8X0V5w0M7MPxsUnkx45jr/u5gl5+DMf3vg+TR/7KMA5MHZtH7uLH2LX91+h9/S3sOnxh2tmEee7e321zVhT/3d7hwoSDuREcKquPU7+9xzFGr17VOvlgMVWRCYwcGoSp69Rup14DGDD58IuqeRXOKDAqY++c65bFmw6HBk4xHcXxvWXnsb7u8cXjzGzTUyW0/oNEj/UmiqSAFDjsyuINwoanQb+VYrkp0Ch+srYGkd866rj6BNjlRa8P370b2wZf8W8NiJ78MLBuUcHbc38v5xOOfUuOR+2qlImeSZx94yF3CQWz5AHf23Hzxj3Ije3FltU3o23WrbjTWbG7HbNXv+Iu3eAu2+Bd8sD5XFhXa9qJ+5xV29sKq6jnz6D/kS60OfPdfIax/a9g9ewZmHXrcqxc0oH2Nq6XZZaSKK1Y/uzv8cMFN8BZVfzOWzHLHHvmDdw/tYSDp143b8Sei7XqdHVaFqXywSwhYZbNKJTr+qEt+CIZzNqAgRxFSq28CqkVGHnKN3VuHpd3/RhfaPsyNh0wcwBdw8neBzDjCz/Grs92Y8OssvOmzvWs9J7BSRMlekrbeDP+Z9bvYZdW2k+BjfI1T7Ec6aWtdQlwKQuu4s5RXqZdJ9OmGxA9OAc87o7mWvYicDV+1UMWaT8glImeYmOtFCmjGNhwO9o6v4/tzlpSeeSG38QjnWaRTlf0rOrFsEnGs65WZXrmIHo/Bpyb9qwN7+HyoS1YNvMB9J685rjfNtxyAzofedNd02sCw9u/j0530VBPCs5aX3s2LkHb1LpeV3G2/7HSY6fyGXC9RfXqVMhh2rI7hxjR04b2FT045rSdMTjlmRIf9fNy8nEFEpf4GO69f0ow4eogNnbdgK6Ng7jKPPOfoGfFTbhlw25cdurlXXG99Nz65S8ladN/Ej02WSP6spguIoqG0Ft+FNgzCAw28DoaPqaBcQuM86HHKpkbXWhiSiAGAk6X1yuv4MwddzjB7zFkUSXJRkTPBLD13oKnp+sJ4JJZXqpK8hHuSlYMVhbcv+iZ3IONN8/E3E37GALlbqPY9eRctM3dhAOTfkTPF7Bqw7/CuZG98TsMfOJ2Vbli5IZv/U+8/K1bsWDDn8A5IwszHC/DpgNmtXcAE7vw5I0zysrB4nDtqmEcOX4Ol00X3Z9exbdu8BxbLnrq1qlQzfqioSB6blh+J5bN+Dp6jl11BdstuPPOWwvCZaIev+v4rP+/Y6bDkvmWChdgHAc2fRlttzyDgct5XD/8Kv6ufQk27uHirxSN9URPDfauJW19k+ix1TLhy0XPDruzIgvwzA0C8/1MzlblmO7B8BVyZ6M1Q5Mjq1ckJVMiSRKgmKf4TW5rRPR4PD2LngMux+/pMTzIhozS2PyLnoobK4t7Dcd7vuZ6I/yInpnoWPIVrFq1qtBV1f63+OGOU8i7YqR91izc2H4nnt9z0eleLIiN+9E77FloNH8EPXfdWOgKq0qssotuanX2ctFTt06FDPyKnlk/fRWvrujAip6PMc7uqC/8ED2v3Fvgc6VcmJTzu4JDW+7EjG9tx3kn23LRA3fl+Vvx5K4TBQH0xS04RHFeUY/Scwvlr8G+KkN7dkr02GOLqEpCL4gRBpF6RCwQPYYR60c3voSPIdI672zTtH2ysWkhRc/dW52pfpKyEn8XHNGWxmAF/6Jnch82zZ2Jv9nwHorTHp3HO4/egjbn5utH9BTiexyw+bPof6SzcO5V0731Dg73fguzZ/8j3hi+hskDmzC3bRE2DHxWtMX4O3j0htLYmcKXF7GnZwMe6zlQ6P7hznKvULnoqVunQsq+Rc+GP+Jwz9cxY8Uz+Of1t6Jr424cNV1UE3X4TZ7AG2s68MUtBznNVBVPDx8jj6H3a1/AF/7703is6yas6PnEDS4vF1TVRE8N9sl4NAsgG/gr0dMANMtP4VNeLNPTe0VPRJ6bMChN152ETxiK2TuXdk8meNnLpgHRc/VDYNkcoKMTePpdb2KJfOaDAV9Jb/5FDy7j0JavoH3232PLnnPI5a/g7MAWrJ49C8u27MGFkUN44zudaJs2pqcLj27/GMPDwzh+qB8b75qNGWvewBmvGLl2CK+uuAk3PfI2zl89gC3LZmH26i3Yc+Ea8ldOYWDL32N2+1ew5ZCny8uhNoHDr65Ee+d6bDs2jnxuFB/3/jfc1L4cm/a7wb/efJxzpqvTAVxzreFf9Azg2rEerHCCphl0POqJy5kmr38ewOmBTVjW/rfY8M4Rh8/w8KfYs2Ul2m58FG+du+IG1udw5o1vYQbjhGa4cU+5MYwceQPfuaFe91YN9sl5NF2awd4keoLxsv3oWDw8ptKWiR4WS8LHGKc13o2XJ3mhG1T05IGh14BOdvUuArZPReImZih6eejtidTb66P0AUQPnQ+fov+p5ZjFm67zuglLn3obw1fec0cP3Yyv9Xw0JRZQEchszuN7O2Yt/Sn6GRRdIkbyuLzneSxq/yKe2nUO14bfxlNLb3Lz40io5Xiq/9Pqw9Zzn+LtH/ytZ/RZ2UivknxcOrXqlCuqgSCiJ+cEGM9yvV+lHpea/I79G1ZNMfUycj97heRn/fjOzLaCWMwT3YaCPWY/gJ7DRgiW5jt1zFQeHvY+Gkmah0j0pEk/2rxjFTwsqoWih8WKvd7RmkmphSBAkZtsLI8pbEDRkz8L/GhZIYh5wePAiCeExCSZwDs9YmSW5FZT9IAehOFzGPPc/AsFy2Hs+AEMDHyAA8c/c8VHDmMjpzA8MlYqRvJXcPGUm4aT3rDrxRguO5bnn8bImAFf9n/uMxw/8AEGBg7g+NQxNTDlr2Dko71l5TPHlqVrdqNanaa+RG0W5hgGUZ9xy59HbuwcTl0seGfyVy7iVAmXKnk54nAltuz5tMhnmKxcb0+J6NmBR2/qxHf6RwqZO1xPedgVdpfkOy17Uwc73yV67LRL0FKZId2x9uFbKnrIihf3dG6GQS2l48MQYGB+OvM1BRE9E8COZ1wvz1xg854wVQ51LuOeyCzJrbboSbIUrZ6XI3rKArYdJq7HhqLn2nHsev3f8Isn78IMdwRXK2CT6Mm+lU3QYuwuf4tFD134jGPSPD7Zb8+1apDGDbxYFq/oWQ3sPg6cPu15nQKG9gE7+oDH73GXn+gEHvolCjP4FlNK+lPSQlGiJ2kLV8uPHrHTF6u2PXpsTtNr5Ayvb0cbY6r2jyYxeWa1kia+T6InceSRZsibPS9q8U/Db2/3lgFK0Zf8qB6Tu97jJsBuzPRErVf0VJmSoaN831zge73AWHECmrj51EqfzMguqU2iJynSyqchAhI9DWGz5iRe0BLr1vF6elauB7q7/b16opmjxw90s7ZY0sGbfsqmY8IRSHeKAh+ip3MxsHY9sOV1YP+pRJad8EPUPAz4OTaKYyR6oqCoNGIjINETG9rYE6a7nzeCWON4vLXwip6KJ9vyJ13P/2v7vKnE/pkiMD2PQOzVa8kMeONOOjalmUCTXVLzGkn0NFPLacK6SPRk16iJtnoozwAAGHtJREFUdWsZRF7RY6mnh0WlCFQ3lzFac7xzBFKSXTTNQa1YCz4EJDWKS6KnyF2fLCQg0WOhUXwUiRcwBu4munlFjwWTE05Xd/JJrNtvuoLou0gI0JaRrB8XSWmylwhHvCX1e5DoyV77aKkSS/Rkz9yMV0nFk5Eh0WMCvHWjzF77rlbiRLtxqxUg4/v4e+BEhUlsEj1JUFYeDROQ6GkYXWonpubFyJDooXEoeBQHklozjSxj010ZWYItmhB/C7FPawFAoqdFG1hWqi3RkxVLFcuZipeH2WdM9LDISQZwFi2kT1ESYABuUl0zUZbbtrTIMImJHSV6bLO8ylNCQKKnBIf1/9B7kXgsj6GSQdGTmlfMMNN7aAK0oUbjhcboMCTLuDeJnrgJK/1QBCR6QuFL/GQKntTiVDIoekwsQ2LD+hNvEc2fIW/USdysm51kUuJRoqfZW1LG6yfRkx0DmtgG3shT2byiZ30PMDgY4HUImCguMpxk+TnUWTfNJIlHmxfXVUtN6EdblVRTS2oEl0RPqmZW5vUISPTUI2TP93TxpzpXiVf0BJmc0Dn2YeC0WfA4Waa82CugOVnmUebGWJSkJtaLsty2pZVUbJREj22WV3lKCEj0lOCw+h92bSURiFgTQkZFD+vD4O8kRq7UZKcvGiYg0dMwupITJXpKcOifViUg0ZMNy7NrK6l5NrJBJFgp6SFLZFHWYMXS0T4ISPT4gOTjEIkeH5B0SPMTkOjJho0Z08DYBm2NESA/3jy1ZY+ARE80NpPoiYajUsk4AYmebBhQwbjh7CRPWTh+aZ4t0RMNfYmeaDgqlYwTkOjJhgEZz8OLlrbGCSiup3F2aZ4p0RMNfYmeaDgqlYwTkOjJhgEVzxPeTrx5auhzeI5Jp8BuXcVjhaeuIevhGSqFJiAg0WO/ETnqSEOuw9tJk9yFZ5hGCqHtNn6iMJ/UibHK4jvffQicu1r5XZPtCc3RJw8NWfcJSoelQ0CiJx3uQXJNyi0dpExZPJbeAgWDZ89yvFmHmp8qdxRYtxhY8hNgxDNXVP4c8OxKYOGPgLOe/dlD5KvEnOeLLOPeJHriJqz0QxGQ6AmFL5GTQ1/0Eyml/ZlIPNpvo2olDG+3PDC8HVg4B/j+bwFnYvAJYPtjQOdKYPe5atk23b6kYqMkepqu6TRXhSR67LdnUm5p+0mEKyFvnqkt1hqu6C19djQj73LAjp8AHYuBviPAkV5gwXzgxUFXBBFxHhgdAnpfBrpfAF57Czh12cN+HNj5JtDX53m9CRwdL5x7dBfw1r5ievkR4K1twM6jwJWjwDbvee5n7/Emp/Jjt/UDQ+GFGQP5yTLuTaInbsJKPxQBiZ5Q+BI5WaInGsxm8dFoUlMqSRKIZOQdRchP7gAW3AV8eR7wzV7gmlkPLg+c+j1wx1xgyVrg+Q3AyoXAgoeBIYoaAM6M5J3A8m8Aa9cCD64EOucDfSf4JdD3MDC/2/kITAI7nwG4BMvaPuDiTuChtcDabwDzO4HFKwtpPNLrHFrC8nQf0NEFrFwDrH0QWL4A6Pwq8O6ZksOC/EOxQ4ZJbBI9SVBWHg0TkOhpGF1iJ0r0RIdao+CiY5lkSpEtOnrpXWBRJ9D5EHDkiqcK54GnvwQs3Qhcmizsz30CPLQQWN0DXDeiZymw0/WWOCKohui59B/A0jlF0TOV0wlg7Xyge3BqT8UHR/QsBwZdsZU/Btw3D3h4e8WhfnckOTmnRI9fq+i4VAhI9KSCPVCmEj2BcE17sETPtHis/ZJB6KGCmZ2amS6uDqBjXmnX1uSHwO2dZWLE9d50fhcYmQQmdgPzPGKkpugZA166D7j/R8DX5xU8PVNk/YqeRUD3rwrdaL3PF7ritv5lKpWgH5Kc3FSiJ6h1dHyiBCR6EsXdUGYSPQ1hq3qSRE9VLNbv5LQN4bpn8sCnfcCCecCzbwFb7gM67wE+8HptOqqLno6HgdM54GgPYAQQiVUVPc8DB18D5twHHDxY8Oqwe2tq8yt6KMy8r2VA3ydTqQT9wCkvklpwV6InqHV0fKIEJHoSxd1QZhI9DWGrepJET1UsmdjJGzeD0RvarhwE7lsArPpnYGwSuDYE3L8AWPIMcHESuP4RcHcX8PROT/ITwNZ7ga4ngEtXge3rgbu3Frq6eFQ10TP368D9i4EXBoC8K3AaEj0ej1L+EvDiarcc7GcLtoUXjMHyk+gJxktHJ0xAoidh4A1kJ9HTALQqpyR98a9SBO0KQYDzzDTUxZW/ALxwDzBnLfCRGyfDkVrOCK45wPe2A7nLwNY1wJwHgN0ngfw1YKgPWNIF/Oh3wIX3gXsWAN1/BE6fLrxO9gPz5gFb9wM5tyuM3hkjpBBG9CwD+j8p5HN0EHh8ObDoOeCyCbz2D7Jhbv6zKDlSoqcEh/6xjYBEj20WqSyPRE8lk0b2hJ/vpZFcdU5UBBoTrSaO53ag9+OyokwAfevdYexHgdxJ4NlveLqV5gLf6wXGjhW6qUq6m7xdT/TKjBZGb3UsA3acdfMJI3q86XcA878B7DhZVn5//0Yy8s1fVs5REj0BYOnQ5AlI9CTPPGiOSY68CFq2LB2f1NpDWWKStbJynqVg66flgfHzwJnR4vw53krnJ4Azp4HRCXdvDjjxF2BwL3DsgnsOxcvtwNbBopenxNvjdkVNjJblcx0YPetJm1m4+8anmQHalMnkcfo8kAvu4WFuZJX0EjYSPd4Gps/WEZDosc4kFQWSh6ICSUM76DGjq19bdgnwJp78BJMUPZzUkPPxlG1OXI8n/qbs67T/5SzMSS/WKtGTttWV/7QEJHqmxWPFl41PqjcJnPhzYbHFwcHq79UWYbSi1m4hcueA/ScKT9z5MWD/4YafepMctmsTwmYqC38L7K5pOKC5IRhXgaH91RclddrkQWDcndunofTjOYmMyIrMktwkepKkrbwCE5DoCYwslRN48Qo+hfw40L3cE6NQFifAGIXpJklLpaZlmX7+PrDsG8Cbu4DfvgDc9jPgUvARLEyVHoJkb5ZlddG/kRCgx44eDG3TEyAjskp6k+hJmrjyC0RAoicQrtQO5gUsWCwDi+qKnnlPAyfdEScmTmDf1oIYsl30cDr/obeA730bWM85UEYbtgGHqyf91NtwYXViTQKpeHvGT1T3lA5+WOoBomeyqlf1z4l6g9Ly8tBoEj01m66+sIGARI8NVqhfhsbiUVzRM7UekCcfZ6p74+nJA1wscechYN+/A5tfAF76NXD0kueEeosxln//78DI1foLLeYuAO/+GnihG9j8C2BwuBhw6iy82A+cM0GfOWBfP7BtF3AlWGAnbwJJB3R64OljxAQYp5KoPQe7a3hMzTIUbgXN76pipFeycT/0aqbh5SEFiZ6IG7uSi5aARE+0PONKrbGbtl/R484xMm8+sGAV8PPngLXLPIst+liMceQPlYs13vEs8NGO2gstTpwEfvJVoHMZ8OPngPWrgI7bgR53uv3yNYgu/hFYwvWM3BlyA8DmDaChOV4C5KFDkyWQ6I3dET2euXOMx/T0WWDC093qtFnO3eMZ6dX/NNCRnOhJXBCWmV2ipwyI/rWLgESPXfaYrjTB43oCip6Ou4HdZlp+d7HFb/YB+XqLMY4Dm1cCC38MXHADOp2FHecBPYfdKrlzlkx1p10Hdv4M8OaJCaD3YaDzQeDIBOAVPZxg7tm73aft4KKHN0gOWdfWPARMF07wWLcGGDiix4dwcdpsmffH77kNFKv8FLOaOtmktUn0pEVe+foiINHjC5MVB3Gl6WDDTwOKnts3gyE0he0a0PvNwtT3F/ZMvxjj2Y+Ae+aWTeF/HRi/bBIDzOy0U6LnMrB5BVDe9ebcNBYC24c9oucScPAVoOt+4MmvB/b08EageB6PKZroI6cgoKCNffMrXJz2+yVg92fFIvk9t3hGw58Y+5f2tAwSPQ2bTycmQUCiJwnK0eQRfI6SgKLnvt5iPA3MtPoPAyd2A/NN/I+pS73vzXHmvdzTU6Ns3idl5/Ny4D/eA+65DXhp0J31Npinh0KRglFb8xFgUDNFT+w3eke4lI1+nL8c+N4mYMgjcA6+VNmVlZDoYRcuWaQdrC/R03y/s6aqkURPtszJLi7/qyXXEBassiMojJBxBczcn3rW9nEXW7ztBeDzQ3UWYzwBPLwQWN/vgTkCdH8f6DNu9nLR46ZfkieAIY4qWwzsOOeW8TZg7T3AXZsKiz72PRzY08OAV3VteUzTZB/N8hTBRzcGAOEIl0VA96+Avr7Ca+vzwMqFwIJ1wBHOhZMHdj9b2T4TED1s38GuDQHqHvBQiZ6AwHR4sgQkepLlHTY3BuP6D8gNKHoYRLx1D5DjZGxcbHE+sHkPgOkWY9xRWJxx+/c9izVeAT54GZizGNhuZrEtFz15YOg1oHMB8CJHY00Co38pLKxoYoOMMOu4A9g5wmWtA3t6TNxHWO46324Csd/0qwqXPHDwZaCjC9j6EYCrQM8DQLmQr3pudDwTEX0BiivREwCWDk2egERP8szD5GgCFf25sAOKnjlLgS/NdYOFzWKLbpBPzcUYPd+/8IBnWO9C4NkdntmTy0UPKUwAOzYC8zuL5y1/rDgXjyN6OoEfUVjx+OCih91aaQ3dDWNnnRucALsxY/N21BIuJ3qBjjnAS38G8sPAukXAuu2ebmIAtc4NXsWKM8z1wKY2LtFTYSbtsImARI9N1vBXFv8zrbqLLZ4br0zYWdTwDOAsfOiKCQYVj48A+/YAH4+UXridFKotxuhN2vP9Ce8cPzym1kKLeWDsZGFCt4PHS4f/OmUsGxJcsaijN//SzwpgLuXRCv/RC0rh4++hIAARR7gsBnp2Ficf3P1bYP1dQOca4M/HgXdfAuZ0AT//f4vHcKLCHncl9573I52g0MQz+ff8BqhviEMlekLA06nxE5DoiZ9x1DmYLpvoLuwe0WPmAYy60CmkF6wrMIUCKstYCBjh4z/2zUcxHNFTFsjMCQgXPwjsOFmMkauYlNB7jo8h7z6KwkMo6Bm0bJvgYdkkenwaUYelQ0CiJx3uYXP17+3xk9MksP27QMmQdT/n2XuMEYa8OWhrPQKRC5/cODA1IaG7pMuZ0aI31OmKrTZ5oXtshBMUmhgeGwUPW5pET+v93jJVY4meTJlrqrC88HHuGd3Up5CUfIhWFJYkrX8yQsDE+MQ6qsuwcETPNJ6ciOJ6TMB2sPm6TCGTeZfoSYazcmmQgERPg+AsOI1zk/Dmrq2UAG8IHKYeXfdfafr6LzsEjEiIfR6finXiyhid2wf0edeRK/vex78MVma8UiIizkd5ah0i0VOLjPZbQUCixwozNFQI3tR5c7f5qa+hioU4iZ4v3hjSnIY/RPF1agwE6BVl/Atfkcb5xFDWakma+J2slF+ip5oVtc8aAhI91piioYIodqUUGz1ftsY6lJZU/yVNgN4edgnbNLy7HgPj3WHZs+K5lOipZ1V9nyoBiZ5U8UeSOS+IfAqsuzku+D5gGycDdCa+KZwyNgRs6wPe2ucGZuaB0SGg92Wg+wXgtbeAU951tMaBnW8WZ6Z1Zqh9Ezg6Djh5uJ+nCuQev/sEkB8B3tpWdq6nTCG6AXiDULfWFHR9qELAeH1sn6WbDzMsI3/XWfNaSvRUaXjaZQ8BiR57bBGmJLw41vVwTM1wvBzYPepmdw3oW1eYHNBZ/DMPnPo9cMdcYMla4PkN7lT7DwND7nw/ucHChILLvwGsXQs8uBLodFeWvvohsIxzlewuVufSDqBrUWERUedcDvVdWTiX569cXJy6v8GATxO7kcXuiyIofUqKAONi2A1Kz6BNooJlYZlYtqx2W0v0JNWKlU9DBCR6GsJm3Ul0fde9UE6Jns6iKMkfBe6f7xE954GnvwQs3QhcMrMtfwI8tBBY3ePMMQhHuCwFdrrDwZ3/XdHDWZZ7Hiyszn7pemEW5e3rga7HgAuTKJxr1vxyMTpCx11EtAHRQ6HDutse4Gldo2nxAvE3Y7yD9Kqw/aTRhcQ8mTcfXNiOWaY0yhFVc5DoiYqk0omFgERPLFhTSbTuzd/MJfL4t4FFzxUWFz3SA3TdAzxwG0BPz8SHwO2dQPegpw7u5IWd3wVGJoGJ3cA8z/DcEtED4NNeoNNdNDR/HPjmIuDpdwvpGU+PN/0K0TMfWP9zoLsbeOlXwHvHi/OheErFj6bOvFFoE4FGCXhFBz2m9BzGvTEP5kWhQ8HTLKJdoifulqP0QxGQ6AmFz7qTKQIYrFn1AmrmEvl9H9DFLq7TwNZ7gXU9wPPLXdHDrqsyT0z5mldHewAjgEigXPR41yA6TgHk6U4LJHr+B/Dd1UDnXOCFgQrhw6dhX9161llJBbKVAH8/jJGj54dihGu3sZuJ+8NuTINpMU2mzTyYVxRphy1blOdL9ERJU2lFTkCiJ3KkqSdIwcOLaoXwMaJn8Cjw+FLgf/wvYNkSoP9joNsVPVc/Au7uAp7e6anHREEcdT0BXLoKsLvq7q2Fri4eVS56MAn0PwbM+TawcQ2w7EXgqhs47Uv0eLxIZuXqOT8odI+5peKNgnWsG8fkqYU+ikAQAhwqbkQKBQofJiiyzSK29C7SW8M4HO+L+/gdXzyW5/BcpmFEVDNPKirRE6SV6djECUj0JI48kQyNKCgJhpwSPZeAHU8U4ngcIXOpKHpyl4Gta4A5DwC7TwL5a8BQH7CkC/jR74AL7wP3LAC6/1iclv9kPzBvHrB1f3FV9UvvAgu5enoX8NKBQp05lf+x7cBcd1VqQ6Kie8tM5z8MHPwDsG5JiXAydZPgMQD1ngQBehYpbvgwYUQNg46rvcz3PJbnZDlGJyhbiZ6gxHR8ogQkehLFnWhmXnHgXHSnRM844IyoMgHN4x7RQ8/NSeDZbxREkbOA4lzge73A2DFgrRv0XHVhRa+HZhT4+XKg80HgyESh3o646QDmrwH2eVZhrxA93kUaO4Al3wUOFkab1fRiJUpWmYmACNQiINFTi4z2W0FAoscKM8RWCBP3Qhd77sRh4Mx51xuTA86dBSY4wioPjJ8HzrlD0p3S5IATfwEG9wLHLrjxNCeAtbcDWweLXh6zCKPj7fGKns+A7hXA/b3FWByzaOOoK4JMrbnfLN5ojjHpuvtZD8Y/sEsriSBTUzS9i4AIBCMg0ROMl45OmIBET8LAU8rOCIaS7q7AZaHoWQz0VQnqdGJ1KHouAgd3A7/dDCz4ErDjbOBcyk+gx4qija9mjoUor7f+F4EsEpDoyaLVWqjMEj2tY2zGFjCYkjEIjYmHq8DQfuDc1Upo+TFg/0Fg/BKweQXQMRf4ye+LMT6VZ9TdQ+8OYyOytnRA3YrpABFoYgISPU1s3GaomkRPM1jRfx1MNxGFBL0//D/yjV1UJV1lwXMwsTsUaPT0aBMBEcgGAYmebNipZUsp0dOapqenx8wXQm9KY56f6NlR7NAbxZdid6LnqxRFIG4CEj1xE1b6oQhI9ITCl/mT2eXFod/0/PCd/ye9UXBReBmxQ+GjTQREIJsEJHqyabeWKbVET8uYetqKUniYYGeKD36Os1uJ+VHc0NtEwcX3NATXtFD0pQiIQGACEj2BkemEJAlI9CRJOxt5sVuJXh8zVT4/c9RXGFFCkcN0KabMDLUUOhQ+scQVZQO1SikCTUdAoqfpTNpcFZLoaS57Rl0benvKp+KnJ4gBxhRDZubZ8neKGzNTLT05FFD8n8cpVidqKyk9EbCHgESPPbZQSaoQkOipAkW7piVAjw9fFEPlYsf7vzlOnpxpcepLEWgqAhI9TWXO5quMRE/z2VQ1EgEREIG0CEj0pEVe+foiINHjC5MOEgEREAER8EFAoscHJB2SHoHz58+DL20iIAIiIAIiEJaARE9YgjpfBERABERABEQgEwQkejJhJhVSBERABERABEQgLAGJnrAEdb4IiIAIiIAIiEAmCEj0ZMJMKqQIiIAIiIAIiEBYAhI9YQnqfBEQAREQAREQgUwQkOjJhJlUSBEQAREQAREQgbAEJHrCEtT5IiACIiACIiACmSAg0ZMJM6mQIiACIiACIiACYQlI9IQlqPNFQAREQAREQAQyQUCiJxNmUiFFQAREQAREQATCEpDoCUtQ54uACIiACIiACGSCgERPJsykQoqACIiACIiACIQlINETlqDOFwEREAEREAERyAQBiZ5MmEmFFAEREAEREAERCEtAoicsQZ0vAiIgAiIgAiKQCQISPZkwkwopAiIgAiIgAiIQloBET1iCOl8EREAEREAERCATBCR6MmEmFVIEREAEREAERCAsAYmesAR1vgiIgAiIgAiIQCYISPRkwkwqpAiIgAiIgAiIQFgCEj1hCep8ERABERABERCBTBD4/wGKySdkc4jjXQAAAABJRU5ErkJggg==)"
      ]
    },
    {
      "cell_type": "markdown",
      "metadata": {
        "id": "rTF-m-G5jLFi"
      },
      "source": [
        "## `unittest.mock`"
      ]
    },
    {
      "cell_type": "markdown",
      "metadata": {
        "id": "mwh24mbXjPbN"
      },
      "source": [
        "Иногда необходимо изолировать часть программы для того, чтобы\n",
        "тестировать только минимально возможную часть системы, для этого\n",
        "можно использовать специальные объекты, подменяющие внешние\n",
        "объекты или функции."
      ]
    },
    {
      "cell_type": "markdown",
      "metadata": {
        "id": "IZuhwyPzjRLw"
      },
      "source": [
        "`unittest.mock` – это набор универсальных объектов для таких подмен."
      ]
    },
    {
      "cell_type": "markdown",
      "metadata": {
        "id": "g2GH_XoajeVM"
      },
      "source": [
        "![image.png](data:image/png;base64,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)"
      ]
    },
    {
      "cell_type": "markdown",
      "metadata": {
        "id": "85EBNYfSjivC"
      },
      "source": [
        "## `unittest.mock.Mock`"
      ]
    },
    {
      "cell_type": "markdown",
      "metadata": {
        "id": "SL61eqqrjm8E"
      },
      "source": [
        "Специальный объект, на любой вызов, обращение к методам или\n",
        "свойствам возвращающий новый объект Mock."
      ]
    },
    {
      "cell_type": "code",
      "metadata": {
        "colab": {
          "base_uri": "https://localhost:8080/"
        },
        "id": "mj1Nl3511lpz",
        "outputId": "3584472b-8d9e-4223-e625-7bf96e547336"
      },
      "source": [
        "from unittest.mock import Mock\n",
        "m = Mock()\n",
        "m()"
      ],
      "execution_count": 20,
      "outputs": [
        {
          "output_type": "execute_result",
          "data": {
            "text/plain": [
              "<Mock name='mock()' id='140255060634128'>"
            ]
          },
          "metadata": {},
          "execution_count": 20
        }
      ]
    },
    {
      "cell_type": "code",
      "metadata": {
        "colab": {
          "base_uri": "https://localhost:8080/"
        },
        "id": "cX_fLkGE1leT",
        "outputId": "9f35cfe8-6a3e-4dfc-fb3c-b34e03a6d888"
      },
      "source": [
        "m.f()"
      ],
      "execution_count": 21,
      "outputs": [
        {
          "output_type": "execute_result",
          "data": {
            "text/plain": [
              "<Mock name='mock.f()' id='140255022285776'>"
            ]
          },
          "metadata": {},
          "execution_count": 21
        }
      ]
    },
    {
      "cell_type": "code",
      "metadata": {
        "colab": {
          "base_uri": "https://localhost:8080/"
        },
        "id": "qAZJPVs61lVL",
        "outputId": "68f14ed0-8337-4727-c596-23cf16509c94"
      },
      "source": [
        "m.is_alive"
      ],
      "execution_count": 22,
      "outputs": [
        {
          "output_type": "execute_result",
          "data": {
            "text/plain": [
              "<Mock name='mock.is_alive' id='140255022148496'>"
            ]
          },
          "metadata": {},
          "execution_count": 22
        }
      ]
    },
    {
      "cell_type": "code",
      "metadata": {
        "colab": {
          "base_uri": "https://localhost:8080/"
        },
        "id": "sEnhYUta1lMY",
        "outputId": "9b49e3c4-e9c8-4a8d-d741-8645b17e60a9"
      },
      "source": [
        "m.call_count"
      ],
      "execution_count": 23,
      "outputs": [
        {
          "output_type": "execute_result",
          "data": {
            "text/plain": [
              "1"
            ]
          },
          "metadata": {},
          "execution_count": 23
        }
      ]
    },
    {
      "cell_type": "code",
      "metadata": {
        "colab": {
          "base_uri": "https://localhost:8080/"
        },
        "id": "xScT-dYr1lD-",
        "outputId": "51ee4459-c9f5-4775-e811-56a9e7345424"
      },
      "source": [
        "m.f.call_count"
      ],
      "execution_count": 24,
      "outputs": [
        {
          "output_type": "execute_result",
          "data": {
            "text/plain": [
              "1"
            ]
          },
          "metadata": {},
          "execution_count": 24
        }
      ]
    },
    {
      "cell_type": "markdown",
      "metadata": {
        "id": "ZwwLPPI-jrKw"
      },
      "source": [
        "Mock: примеры"
      ]
    },
    {
      "cell_type": "code",
      "metadata": {
        "id": "922D-_RRjuxK"
      },
      "source": [
        "from unittest.mock import Mock\n",
        "class AliveChecker:\n",
        "    def __init__(self, http_session, target):\n",
        "        self.http_session = http_session\n",
        "        self.target = target\n",
        "    def do_check(self):\n",
        "        try:\n",
        "            resp = self.http_session.get(\n",
        "                f'https://{self.target}/ping')\n",
        "        except Exception:\n",
        "            return False\n",
        "        else:\n",
        "            return resp == 200"
      ],
      "execution_count": null,
      "outputs": []
    },
    {
      "cell_type": "code",
      "metadata": {
        "id": "Og4ymiJGj8J-"
      },
      "source": [
        "def test_with_mock():\n",
        "    get_mock = Mock(return_value=200)\n",
        "    pseudo_client = Mock()\n",
        "    pseudo_client.get = get_mock\n",
        "    alive_checker = AliveChecker(pseudo_client,'test.com')\n",
        "    assert alive_checker.do_check()\n",
        "    pseudo_client.get.assert_called_once_with(\n",
        "        'https://test.com/ping')"
      ],
      "execution_count": null,
      "outputs": []
    },
    {
      "cell_type": "code",
      "metadata": {
        "id": "yJWbXk6CkB5c"
      },
      "source": [
        "def test_with_raising_mock():\n",
        "    get_mock = Mock(side_effect=Exception('EEEEE'))\n",
        "    pseudo_client = Mock()\n",
        "    pseudo_client.get = get_mock\n",
        "    alive_checker = AliveChecker(\n",
        "        pseudo_client, 'test.com')\n",
        "    assert not alive_checker.do_check()\n",
        "    pseudo_client.get.assert_called_once_with(\n",
        "        'https://test.com/ping')"
      ],
      "execution_count": null,
      "outputs": []
    },
    {
      "cell_type": "markdown",
      "metadata": {
        "id": "ZaKaglAZkIRL"
      },
      "source": [
        "## `mock`: патчим библиотеки"
      ]
    },
    {
      "cell_type": "code",
      "metadata": {
        "id": "i-QaR-jdkLtU"
      },
      "source": [
        "import math\n",
        "from unittest.mock import patch\n",
        "\n",
        "def test_patch_sin():\n",
        "    with patch('math.sin', return_value=2) as m:\n",
        "        assert math.sin(0) == 2\n",
        "        assert math.sin(1) == 2\n",
        "        assert m.call_count == 2"
      ],
      "execution_count": null,
      "outputs": []
    },
    {
      "cell_type": "markdown",
      "metadata": {
        "id": "Q2zb_rrokR7o"
      },
      "source": [
        "## `Unittest.mock`: не надо так!"
      ]
    },
    {
      "cell_type": "markdown",
      "metadata": {
        "id": "eDvZO4zMkWbt"
      },
      "source": [
        "![image.png](data:image/png;base64,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)"
      ]
    }
  ]
}