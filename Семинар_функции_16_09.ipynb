{
  "nbformat": 4,
  "nbformat_minor": 0,
  "metadata": {
    "colab": {
      "name": "Семинар, функции, 16.09.ipynb",
      "provenance": [],
      "collapsed_sections": [
        "GwMIfnBXObBA"
      ],
      "authorship_tag": "ABX9TyMVNPNMrskHJjBPv1nZa5Wl",
      "include_colab_link": true
    },
    "kernelspec": {
      "name": "python3",
      "display_name": "Python 3"
    },
    "language_info": {
      "name": "python"
    }
  },
  "cells": [
    {
      "cell_type": "markdown",
      "metadata": {
        "id": "view-in-github",
        "colab_type": "text"
      },
      "source": [
        "<a href=\"https://colab.research.google.com/github/pythonkvs/seminars/blob/main/%D0%A1%D0%B5%D0%BC%D0%B8%D0%BD%D0%B0%D1%80_%D1%84%D1%83%D0%BD%D0%BA%D1%86%D0%B8%D0%B8_16_09.ipynb\" target=\"_parent\"><img src=\"https://colab.research.google.com/assets/colab-badge.svg\" alt=\"Open In Colab\"/></a>"
      ]
    },
    {
      "cell_type": "markdown",
      "metadata": {
        "id": "NQalCyruWKbF"
      },
      "source": [
        "# Полезные ссылки\n",
        "https://github.com/MelLain/mipt-python  \n",
        "\n",
        "https://github.com/VadimPushtaev/applied-python\n",
        "\n",
        "\n"
      ]
    },
    {
      "cell_type": "markdown",
      "metadata": {
        "id": "vF_1jF5--UGL"
      },
      "source": [
        "## `Функции`"
      ]
    },
    {
      "cell_type": "markdown",
      "metadata": {
        "id": "CHjiIMQh_oyo"
      },
      "source": [
        "### `Синтаксис объявления функций`"
      ]
    },
    {
      "cell_type": "code",
      "metadata": {
        "colab": {
          "base_uri": "https://localhost:8080/"
        },
        "id": "4aBSAvsF5Yg8",
        "outputId": "279cb78d-9c4d-40b1-dad6-90b59cf4273e"
      },
      "source": [
        "def add_numbers(x, y):\n",
        "    \"\"\"Return sum\"\"\"\n",
        "    return x + y\n",
        "\n",
        "add_numbers(10, 5)"
      ],
      "execution_count": 55,
      "outputs": [
        {
          "output_type": "execute_result",
          "data": {
            "text/plain": [
              "15"
            ]
          },
          "metadata": {},
          "execution_count": 55
        }
      ]
    },
    {
      "cell_type": "code",
      "metadata": {
        "colab": {
          "base_uri": "https://localhost:8080/"
        },
        "id": "Ksmvo59__tOi",
        "outputId": "d6b7ec0a-e7ee-4e12-b624-c43546c07d2c"
      },
      "source": [
        "help(add_numbers)"
      ],
      "execution_count": 56,
      "outputs": [
        {
          "output_type": "stream",
          "name": "stdout",
          "text": [
            "Help on function add_numbers in module __main__:\n",
            "\n",
            "add_numbers(x, y)\n",
            "    Return sum\n",
            "\n"
          ]
        }
      ]
    },
    {
      "cell_type": "code",
      "metadata": {
        "colab": {
          "base_uri": "https://localhost:8080/",
          "height": 35
        },
        "id": "Q3yRabvoARaY",
        "outputId": "5a038be2-a16a-4a67-b4ac-4586149d02e0"
      },
      "source": [
        "add_numbers.__doc__"
      ],
      "execution_count": 57,
      "outputs": [
        {
          "output_type": "execute_result",
          "data": {
            "application/vnd.google.colaboratory.intrinsic+json": {
              "type": "string"
            },
            "text/plain": [
              "'Return sum'"
            ]
          },
          "metadata": {},
          "execution_count": 57
        }
      ]
    },
    {
      "cell_type": "code",
      "metadata": {
        "colab": {
          "base_uri": "https://localhost:8080/",
          "height": 35
        },
        "id": "5WB3UzrMAVsb",
        "outputId": "eb4bb9e1-68bd-4f2d-ad2e-397c93401a50"
      },
      "source": [
        "add_numbers.__name__"
      ],
      "execution_count": 58,
      "outputs": [
        {
          "output_type": "execute_result",
          "data": {
            "application/vnd.google.colaboratory.intrinsic+json": {
              "type": "string"
            },
            "text/plain": [
              "'add_numbers'"
            ]
          },
          "metadata": {},
          "execution_count": 58
        }
      ]
    },
    {
      "cell_type": "code",
      "metadata": {
        "colab": {
          "base_uri": "https://localhost:8080/"
        },
        "id": "j1l_0-ay--PB",
        "outputId": "1a408b7b-1800-4101-9816-52dfbbb35a38"
      },
      "source": [
        "def add_numbers(x: int, y: int) -> int:\n",
        "    return x + y\n",
        "\n",
        "\n",
        "print(add_numbers(10, 11))\n",
        "print(add_numbers('still ', 'works'))"
      ],
      "execution_count": 59,
      "outputs": [
        {
          "output_type": "stream",
          "name": "stdout",
          "text": [
            "21\n",
            "still works\n"
          ]
        }
      ]
    },
    {
      "cell_type": "markdown",
      "metadata": {
        "id": "X14mjySUJ521"
      },
      "source": [
        "Функция может принимать произвольное количество аргументов или не принимать их вовсе. Также распространены функции с произвольным числом аргументов, функции с позиционными и именованными (ключевыми) аргументами, обязательными и необязательными."
      ]
    },
    {
      "cell_type": "code",
      "metadata": {
        "id": "N_Xm8x_AJo9F"
      },
      "source": [
        "def func(a, b, c=2): # c - необязательный аргумент\n",
        "    return a + b + c\n",
        "\n",
        "# func(1, 2)  # a = 1, b = 2, c = 2 (по умолчанию)\n",
        "# func(1, 2, 3)  # a = 1, b = 2, c = 3\n",
        "# func(a=1, b=3)  # a = 1, b = 3, c = 2\n",
        "# func(a=3, c=6)  # a = 3, c = 6, b не определен, ошибка"
      ],
      "execution_count": 60,
      "outputs": []
    },
    {
      "cell_type": "markdown",
      "metadata": {
        "id": "sT4Eg311ANwP"
      },
      "source": [
        "*Ключевые аргументы и аргументы по умолчанию*"
      ]
    },
    {
      "cell_type": "markdown",
      "metadata": {
        "id": "K7Kt1sXeBPQl"
      },
      "source": [
        "При вызове функции аргументы можно передавать двумя способами:\n",
        "\n",
        "*   как позиционные - передаются в том же порядке, в котором они определены при создании функции. То есть, порядок передачи аргументов определяет, какое значение получит каждый аргумент;\n",
        "*   как ключевые - передаются с указанием имени аргумента и его значения. В таком случае, аргументы могут быть указаны в любом порядке, так как их имя указывается явно.\n",
        "\n",
        "\n",
        "\n",
        "\n"
      ]
    },
    {
      "cell_type": "code",
      "metadata": {
        "id": "hUvuk4pVDSfO"
      },
      "source": [
        "def check_passwd(username, password, min_length=8, check_username=True):\n",
        "     if len(password) < min_length:\n",
        "         print('Пароль слишком короткий')\n",
        "         return False\n",
        "     elif check_username and username in password:\n",
        "         print('Пароль содержит имя пользователя')\n",
        "         return False\n",
        "     else:\n",
        "         print(f'Пароль для пользователя {username} прошел все проверки')\n",
        "         return True"
      ],
      "execution_count": 61,
      "outputs": []
    },
    {
      "cell_type": "code",
      "metadata": {
        "id": "XtZmRlhh_BdB",
        "colab": {
          "base_uri": "https://localhost:8080/"
        },
        "outputId": "a2efb3e3-54cc-4f3d-b8e9-aac754ad6403"
      },
      "source": [
        "check_passwd('nata', '12345')"
      ],
      "execution_count": 62,
      "outputs": [
        {
          "output_type": "stream",
          "name": "stdout",
          "text": [
            "Пароль слишком короткий\n"
          ]
        },
        {
          "output_type": "execute_result",
          "data": {
            "text/plain": [
              "False"
            ]
          },
          "metadata": {},
          "execution_count": 62
        }
      ]
    },
    {
      "cell_type": "code",
      "metadata": {
        "id": "P74gG7HeBulv",
        "colab": {
          "base_uri": "https://localhost:8080/"
        },
        "outputId": "bee218d2-9fa0-490b-9313-07e12f5006b4"
      },
      "source": [
        "check_passwd(password='12345', username='nata', min_length=4)"
      ],
      "execution_count": 63,
      "outputs": [
        {
          "output_type": "stream",
          "name": "stdout",
          "text": [
            "Пароль для пользователя nata прошел все проверки\n"
          ]
        },
        {
          "output_type": "execute_result",
          "data": {
            "text/plain": [
              "True"
            ]
          },
          "metadata": {},
          "execution_count": 63
        }
      ]
    },
    {
      "cell_type": "markdown",
      "metadata": {
        "id": "hOlwjsEhBzPZ"
      },
      "source": [
        "Обратите внимание, что всегда сначала должны идти позиционные аргументы, а затем ключевые."
      ]
    },
    {
      "cell_type": "code",
      "metadata": {
        "id": "5gxZJuvoLwf3",
        "colab": {
          "base_uri": "https://localhost:8080/"
        },
        "outputId": "824891f1-527d-4b69-baaf-5c37c0a22157"
      },
      "source": [
        "check_passwd('nata', '12345', min_length=3)"
      ],
      "execution_count": 64,
      "outputs": [
        {
          "output_type": "stream",
          "name": "stdout",
          "text": [
            "Пароль для пользователя nata прошел все проверки\n"
          ]
        },
        {
          "output_type": "execute_result",
          "data": {
            "text/plain": [
              "True"
            ]
          },
          "metadata": {},
          "execution_count": 64
        }
      ]
    },
    {
      "cell_type": "markdown",
      "metadata": {
        "id": "_1rzTzCy_zPj"
      },
      "source": [
        "*По ссылке или по значению?*"
      ]
    },
    {
      "cell_type": "code",
      "metadata": {
        "id": "5nXSAqHT_tEe"
      },
      "source": [
        "def func(digit, lst):\n",
        "    digit += 10\n",
        "    print(f'In func: {digit}')\n",
        "\n",
        "    lst.append(3)\n",
        "    print(f'In func: {lst}')"
      ],
      "execution_count": 65,
      "outputs": []
    },
    {
      "cell_type": "code",
      "metadata": {
        "colab": {
          "base_uri": "https://localhost:8080/"
        },
        "id": "nOYOTN76_w3P",
        "outputId": "4af9ffe1-0f19-42f0-be92-c3fdef85cc88"
      },
      "source": [
        "d = 5 \n",
        "l = []\n",
        "func(d, l)\n",
        "\n",
        "print(d, l)"
      ],
      "execution_count": 66,
      "outputs": [
        {
          "output_type": "stream",
          "name": "stdout",
          "text": [
            "In func: 15\n",
            "In func: [3]\n",
            "5 [3]\n"
          ]
        }
      ]
    },
    {
      "cell_type": "markdown",
      "metadata": {
        "id": "2f6l1aWn-nEo"
      },
      "source": [
        "### `Упаковка и распаковка аргументов`\n",
        "\n"
      ]
    },
    {
      "cell_type": "markdown",
      "metadata": {
        "id": "sGUIixuocE2_"
      },
      "source": [
        "*Упаковка аргументов*"
      ]
    },
    {
      "cell_type": "markdown",
      "metadata": {
        "id": "B6I6sq4UKCcm"
      },
      "source": [
        "Функция также может принимать переменное количество позиционных аргументов, тогда перед именем ставится *:"
      ]
    },
    {
      "cell_type": "code",
      "metadata": {
        "id": "mIbHR9k4Jp9M",
        "colab": {
          "base_uri": "https://localhost:8080/"
        },
        "outputId": "6ac0c93a-5ec9-46da-f419-cdb8cb81be14"
      },
      "source": [
        "def func(*args):\n",
        "    print(type(args))\n",
        "    print(args)\n",
        " \n",
        "func()  # ()\n",
        "func(1)  # (1,)\n",
        "func(1,2,3,4,5)  #(1,2,3,4,5)"
      ],
      "execution_count": 67,
      "outputs": [
        {
          "output_type": "stream",
          "name": "stdout",
          "text": [
            "<class 'tuple'>\n",
            "()\n",
            "<class 'tuple'>\n",
            "(1,)\n",
            "<class 'tuple'>\n",
            "(1, 2, 3, 4, 5)\n"
          ]
        }
      ]
    },
    {
      "cell_type": "markdown",
      "metadata": {
        "id": "E3SL9ug3KMJM"
      },
      "source": [
        "Как видно из примера, args - это кортеж из всех переданных аргументов функции, и с переменной можно работать также, как и с кортежем."
      ]
    },
    {
      "cell_type": "markdown",
      "metadata": {
        "id": "fM12-FuPKO-P"
      },
      "source": [
        "Функция может принимать и произвольное число именованных аргументов, тогда перед именем ставится **:"
      ]
    },
    {
      "cell_type": "code",
      "metadata": {
        "id": "-PHi1LjEJpz8",
        "colab": {
          "base_uri": "https://localhost:8080/"
        },
        "outputId": "1727dad5-7528-4fb3-f7f7-84377366cfb5"
      },
      "source": [
        "def func(**kwargs):\n",
        "    print(type(kwargs))\n",
        "    print(kwargs)\n",
        " \n",
        "func()     # {}\n",
        "func(a=1, b=2)     # {'a': 1, 'b': 2}"
      ],
      "execution_count": 68,
      "outputs": [
        {
          "output_type": "stream",
          "name": "stdout",
          "text": [
            "<class 'dict'>\n",
            "{}\n",
            "<class 'dict'>\n",
            "{'a': 1, 'b': 2}\n"
          ]
        }
      ]
    },
    {
      "cell_type": "markdown",
      "metadata": {
        "id": "FIg9Wr7aKakG"
      },
      "source": [
        "В переменной kwargs у нас хранится словарь."
      ]
    },
    {
      "cell_type": "markdown",
      "metadata": {
        "id": "k9ENJ7gQFjgf"
      },
      "source": [
        "*Распаковка аргументов*"
      ]
    },
    {
      "cell_type": "code",
      "metadata": {
        "colab": {
          "base_uri": "https://localhost:8080/"
        },
        "id": "Ep8fkKBGFl4P",
        "outputId": "8f1dd0d8-9a09-42bb-c7cd-4459762bfd79"
      },
      "source": [
        "def func(a, b, c, d):\n",
        "    print(a, b, c, d)\n",
        " \n",
        "abcd = (1, 2, 3, 4)\n",
        "func(*abcd)     # 1 2 3 4\n",
        " \n",
        "abcd = [1, 2, 3, 4]\n",
        "func(*abcd)     # 1 2 3 4"
      ],
      "execution_count": 69,
      "outputs": [
        {
          "output_type": "stream",
          "name": "stdout",
          "text": [
            "1 2 3 4\n",
            "1 2 3 4\n"
          ]
        }
      ]
    },
    {
      "cell_type": "code",
      "metadata": {
        "id": "OuctmIoSHSGH",
        "colab": {
          "base_uri": "https://localhost:8080/"
        },
        "outputId": "29f4c2e4-0115-4fab-9a96-da4c82d1e524"
      },
      "source": [
        "def func(a, b, c, d):\n",
        "    print(a, b, c, d)\n",
        " \n",
        "dcab = {'d': 4, 'c': 3, 'a': 1, 'b': 2}\n",
        "func(**dcab)"
      ],
      "execution_count": 70,
      "outputs": [
        {
          "output_type": "stream",
          "name": "stdout",
          "text": [
            "1 2 3 4\n"
          ]
        }
      ]
    },
    {
      "cell_type": "code",
      "metadata": {
        "colab": {
          "base_uri": "https://localhost:8080/"
        },
        "id": "rcG9SwhrGp52",
        "outputId": "e4f1e7c0-6279-4177-fc42-00d698925282"
      },
      "source": [
        "def func(a, *args, **kwargs):\n",
        "    print(type(args))\n",
        "    print(type(kwargs))\n",
        "    print([v for v in [a] + list(args) + [(k, v) for k, v in kwargs.items()]])\n",
        "\n",
        "func(2, *(6, 8), **{'arg1': 1, 'arg2': 2})"
      ],
      "execution_count": 71,
      "outputs": [
        {
          "output_type": "stream",
          "name": "stdout",
          "text": [
            "<class 'tuple'>\n",
            "<class 'dict'>\n",
            "[2, 6, 8, ('arg1', 1), ('arg2', 2)]\n"
          ]
        }
      ]
    },
    {
      "cell_type": "markdown",
      "metadata": {
        "id": "iyRQYkaw-7Rl"
      },
      "source": [
        "### `Распаковка и оператор присваивания`\n",
        "\n"
      ]
    },
    {
      "cell_type": "code",
      "metadata": {
        "colab": {
          "base_uri": "https://localhost:8080/"
        },
        "id": "rgOtbYJ65ziA",
        "outputId": "6b7869e2-2a88-4672-f92d-77e046d76baf"
      },
      "source": [
        "a, b = 1, \"my_string\"\n",
        "print(a)\n",
        "print(b)"
      ],
      "execution_count": 72,
      "outputs": [
        {
          "output_type": "stream",
          "name": "stdout",
          "text": [
            "1\n",
            "my_string\n"
          ]
        }
      ]
    },
    {
      "cell_type": "markdown",
      "metadata": {
        "id": "O5LiHiP4_B11"
      },
      "source": [
        "## `Области видимости, правило LEGB, операторы global и nonlocal`\n",
        "\n"
      ]
    },
    {
      "cell_type": "markdown",
      "metadata": {
        "id": "SgKrvlVkObAU"
      },
      "source": [
        "В Python есть 4 основных уровня видимости:\n",
        "\n",
        "- Встроенная (builtins) - на этом уровне находятся все встроенные объекты (функции, классы исключений и т.п.)<br><br>\n",
        "- Глобальная в рамках модуля (global) - всё, что определяется в коде модуля на верхнем уровне<br><br>\n",
        "- Объемлющей функции (enclosed) - всё, что определено в функции верхнего уровня<br><br>\n",
        "- Локальной функции (local) - всё, что определено в функции нижнего уровня\n",
        "\n",
        "<br><br>\n",
        "Есть ещё области видимости переменных циклов, списковых включений и т.п."
      ]
    },
    {
      "cell_type": "markdown",
      "metadata": {
        "id": "1HHKi6DwObAU"
      },
      "source": [
        "### `Правило разрешения области видимости LEGB при чтении`"
      ]
    },
    {
      "cell_type": "code",
      "metadata": {
        "id": "-51rrUKdObAV"
      },
      "source": [
        "def outer_func(x):\n",
        "    def inner_func(x):\n",
        "        return len(x)\n",
        "    return inner_func(x)"
      ],
      "execution_count": 73,
      "outputs": []
    },
    {
      "cell_type": "code",
      "metadata": {
        "id": "8-yEiCTUObAW",
        "colab": {
          "base_uri": "https://localhost:8080/"
        },
        "outputId": "44d6c9d5-4471-4a28-aba7-70e53aefd78c"
      },
      "source": [
        "print(outer_func([1, 2]))"
      ],
      "execution_count": 74,
      "outputs": [
        {
          "output_type": "stream",
          "name": "stdout",
          "text": [
            "2\n"
          ]
        }
      ]
    },
    {
      "cell_type": "markdown",
      "metadata": {
        "id": "vduSCqPGObAW"
      },
      "source": [
        "Кто определил имя `len`?\n",
        "\n",
        "- на уровне вложенной функции такого имени нет, смотрим выше\n",
        "- на уровне объемлющей функции такого имени нет, смотрим выше\n",
        "- на уровне модуля такого имени нет, смотрим выше\n",
        "- на уровне builtins такое имя есть, используем его"
      ]
    },
    {
      "cell_type": "markdown",
      "metadata": {
        "id": "8shxne-qObAW"
      },
      "source": [
        "### `На builtins можно посмотреть`"
      ]
    },
    {
      "cell_type": "code",
      "metadata": {
        "id": "tCCYZaojObAX",
        "colab": {
          "base_uri": "https://localhost:8080/"
        },
        "outputId": "112ea8a1-3c16-4222-e270-55656eb6a0a9"
      },
      "source": [
        "import builtins\n",
        "\n",
        "counter = 0\n",
        "lst = []\n",
        "for name in dir(builtins):\n",
        "    if name[0].islower():\n",
        "        lst.append(name)\n",
        "        counter += 1\n",
        "    \n",
        "    if counter == 5:\n",
        "        break\n",
        "\n",
        "lst"
      ],
      "execution_count": 75,
      "outputs": [
        {
          "output_type": "execute_result",
          "data": {
            "text/plain": [
              "['abs', 'all', 'any', 'ascii', 'bin']"
            ]
          },
          "metadata": {},
          "execution_count": 75
        }
      ]
    },
    {
      "cell_type": "markdown",
      "metadata": {
        "id": "MySHvxeNObAY"
      },
      "source": [
        "Кстати, то же самое можно сделать более pythonic кодом:"
      ]
    },
    {
      "cell_type": "code",
      "metadata": {
        "id": "ksVRZBd8ObAY",
        "colab": {
          "base_uri": "https://localhost:8080/"
        },
        "outputId": "c16fedf6-e03e-4ef1-e7d1-a1a074562400"
      },
      "source": [
        "list(filter(lambda x: x[0].islower(), dir(builtins)))[: 5]"
      ],
      "execution_count": 76,
      "outputs": [
        {
          "output_type": "execute_result",
          "data": {
            "text/plain": [
              "['abs', 'all', 'any', 'ascii', 'bin']"
            ]
          },
          "metadata": {},
          "execution_count": 76
        }
      ]
    },
    {
      "cell_type": "markdown",
      "metadata": {
        "id": "Rrp5hFPUObAZ"
      },
      "source": [
        "### `Локальные и глобальные переменные`"
      ]
    },
    {
      "cell_type": "code",
      "metadata": {
        "id": "IiuRe9NbObAa",
        "colab": {
          "base_uri": "https://localhost:8080/"
        },
        "outputId": "877f57e7-1a88-4d27-cc35-8d87d3519e89"
      },
      "source": [
        "x = 2\n",
        "def func():\n",
        "    print('Inside: ', x)  # read\n",
        "    \n",
        "func()\n",
        "print('Outside: ', x)"
      ],
      "execution_count": 77,
      "outputs": [
        {
          "output_type": "stream",
          "name": "stdout",
          "text": [
            "Inside:  2\n",
            "Outside:  2\n"
          ]
        }
      ]
    },
    {
      "cell_type": "code",
      "metadata": {
        "id": "zbq11K1lObAb",
        "colab": {
          "base_uri": "https://localhost:8080/",
          "height": 333
        },
        "outputId": "6892a132-a886-4652-8e83-f0ae704716f5"
      },
      "source": [
        "x = 2\n",
        "def func():\n",
        "    x += 1  # write\n",
        "    print('Inside: ', x)\n",
        "    \n",
        "func()  # UnboundLocalError: local variable 'x' referenced before assignment\n",
        "print('Outside: ', x)"
      ],
      "execution_count": 78,
      "outputs": [
        {
          "output_type": "error",
          "ename": "UnboundLocalError",
          "evalue": "ignored",
          "traceback": [
            "\u001b[0;31m---------------------------------------------------------------------------\u001b[0m",
            "\u001b[0;31mUnboundLocalError\u001b[0m                         Traceback (most recent call last)",
            "\u001b[0;32m<ipython-input-78-f5262b0b3b3f>\u001b[0m in \u001b[0;36m<module>\u001b[0;34m()\u001b[0m\n\u001b[1;32m      4\u001b[0m     \u001b[0mprint\u001b[0m\u001b[0;34m(\u001b[0m\u001b[0;34m'Inside: '\u001b[0m\u001b[0;34m,\u001b[0m \u001b[0mx\u001b[0m\u001b[0;34m)\u001b[0m\u001b[0;34m\u001b[0m\u001b[0;34m\u001b[0m\u001b[0m\n\u001b[1;32m      5\u001b[0m \u001b[0;34m\u001b[0m\u001b[0m\n\u001b[0;32m----> 6\u001b[0;31m \u001b[0mfunc\u001b[0m\u001b[0;34m(\u001b[0m\u001b[0;34m)\u001b[0m  \u001b[0;31m# UnboundLocalError: local variable 'x' referenced before assignment\u001b[0m\u001b[0;34m\u001b[0m\u001b[0;34m\u001b[0m\u001b[0m\n\u001b[0m\u001b[1;32m      7\u001b[0m \u001b[0mprint\u001b[0m\u001b[0;34m(\u001b[0m\u001b[0;34m'Outside: '\u001b[0m\u001b[0;34m,\u001b[0m \u001b[0mx\u001b[0m\u001b[0;34m)\u001b[0m\u001b[0;34m\u001b[0m\u001b[0;34m\u001b[0m\u001b[0m\n",
            "\u001b[0;32m<ipython-input-78-f5262b0b3b3f>\u001b[0m in \u001b[0;36mfunc\u001b[0;34m()\u001b[0m\n\u001b[1;32m      1\u001b[0m \u001b[0mx\u001b[0m \u001b[0;34m=\u001b[0m \u001b[0;36m2\u001b[0m\u001b[0;34m\u001b[0m\u001b[0;34m\u001b[0m\u001b[0m\n\u001b[1;32m      2\u001b[0m \u001b[0;32mdef\u001b[0m \u001b[0mfunc\u001b[0m\u001b[0;34m(\u001b[0m\u001b[0;34m)\u001b[0m\u001b[0;34m:\u001b[0m\u001b[0;34m\u001b[0m\u001b[0;34m\u001b[0m\u001b[0m\n\u001b[0;32m----> 3\u001b[0;31m     \u001b[0mx\u001b[0m \u001b[0;34m+=\u001b[0m \u001b[0;36m1\u001b[0m  \u001b[0;31m# write\u001b[0m\u001b[0;34m\u001b[0m\u001b[0;34m\u001b[0m\u001b[0m\n\u001b[0m\u001b[1;32m      4\u001b[0m     \u001b[0mprint\u001b[0m\u001b[0;34m(\u001b[0m\u001b[0;34m'Inside: '\u001b[0m\u001b[0;34m,\u001b[0m \u001b[0mx\u001b[0m\u001b[0;34m)\u001b[0m\u001b[0;34m\u001b[0m\u001b[0;34m\u001b[0m\u001b[0m\n\u001b[1;32m      5\u001b[0m \u001b[0;34m\u001b[0m\u001b[0m\n",
            "\u001b[0;31mUnboundLocalError\u001b[0m: local variable 'x' referenced before assignment"
          ]
        }
      ]
    },
    {
      "cell_type": "code",
      "metadata": {
        "id": "XQnkTGLrObAb",
        "colab": {
          "base_uri": "https://localhost:8080/"
        },
        "outputId": "6607935c-7e75-4bf3-f36b-1f04fdb1751e"
      },
      "source": [
        "x = 2\n",
        "def func():\n",
        "    x = 3\n",
        "    x += 1\n",
        "    print('Inside: ', x)\n",
        "    \n",
        "func()\n",
        "print('Outside: ', x)"
      ],
      "execution_count": 79,
      "outputs": [
        {
          "output_type": "stream",
          "name": "stdout",
          "text": [
            "Inside:  4\n",
            "Outside:  2\n"
          ]
        }
      ]
    },
    {
      "cell_type": "markdown",
      "metadata": {
        "id": "u0sWRDw4ObAe"
      },
      "source": [
        "### `Ключевое слово global`"
      ]
    },
    {
      "cell_type": "code",
      "metadata": {
        "id": "QKhKowvrObAe",
        "colab": {
          "base_uri": "https://localhost:8080/"
        },
        "outputId": "d9a8bd4b-6568-41ae-ea64-725b2a2ce1d5"
      },
      "source": [
        "x = 2\n",
        "def func():\n",
        "    global x\n",
        "    x += 1  # write\n",
        "    print('Inside: ', x)\n",
        "    \n",
        "func()\n",
        "print('Outside: ', x)"
      ],
      "execution_count": 80,
      "outputs": [
        {
          "output_type": "stream",
          "name": "stdout",
          "text": [
            "Inside:  3\n",
            "Outside:  3\n"
          ]
        }
      ]
    },
    {
      "cell_type": "code",
      "metadata": {
        "id": "6OU5GtzNObAf",
        "colab": {
          "base_uri": "https://localhost:8080/"
        },
        "outputId": "10262771-d040-4be5-acf4-b6492f6c4c71"
      },
      "source": [
        "x = 2\n",
        "def func(x):\n",
        "    x += 1\n",
        "    print('Inside: ', x)\n",
        "    return x\n",
        "    \n",
        "x = func(x)\n",
        "print('Outside: ', x)"
      ],
      "execution_count": 81,
      "outputs": [
        {
          "output_type": "stream",
          "name": "stdout",
          "text": [
            "Inside:  3\n",
            "Outside:  3\n"
          ]
        }
      ]
    },
    {
      "cell_type": "markdown",
      "metadata": {
        "id": "OO2QkWfFObAh"
      },
      "source": [
        "### `Ключевое слово nonlocal`"
      ]
    },
    {
      "cell_type": "code",
      "metadata": {
        "id": "D-MyxSD9ObAj",
        "colab": {
          "base_uri": "https://localhost:8080/"
        },
        "outputId": "0fd4e68f-73a2-4c72-f7bd-f25b3e0e3da3"
      },
      "source": [
        "a = 0\n",
        "def out_func():\n",
        "    b = 10\n",
        "    def mid_func():\n",
        "        c = 20\n",
        "        def in_func():\n",
        "            global a\n",
        "            a += 100\n",
        "            \n",
        "            nonlocal c\n",
        "            c += 100\n",
        "            \n",
        "            nonlocal b\n",
        "            b += 100\n",
        "\n",
        "            print(a, b, c)\n",
        "            \n",
        "        in_func()\n",
        "    mid_func()\n",
        "\n",
        "out_func()"
      ],
      "execution_count": 82,
      "outputs": [
        {
          "output_type": "stream",
          "name": "stdout",
          "text": [
            "100 110 120\n"
          ]
        }
      ]
    },
    {
      "cell_type": "markdown",
      "metadata": {
        "id": "MFXvJhtnObAk"
      },
      "source": [
        "__Главный вывод:__ не надо злоупотреблять побочными эффектами при работе с переменными верхних уровней"
      ]
    },
    {
      "cell_type": "markdown",
      "metadata": {
        "id": "73MHqXYQ_7eZ"
      },
      "source": [
        "## `Функциональное программирование, анонимные функции`"
      ]
    },
    {
      "cell_type": "markdown",
      "metadata": {
        "id": "yF9S4JMoZ_ei"
      },
      "source": [
        "Императивные программы имеют склонность акцентировать последовательности шагов для выполнения какого-то действия, а функциональные программы к расположению и композиции функций, часто не обозначая точной последовательности шагов.\n",
        "```python\n",
        "# императивный стиль\n",
        "target = []  # создать пустой список\n",
        "for item in source_list:  # для каждого элемента исходного списка\n",
        "    trans1 = G(item)  # применить функцию G()\n",
        "    trans2 = F(trans1)  # применить функцию F()\n",
        "    target.append(trans2)  # добавить преобразованный элемент в список\n",
        "```\n",
        "\n",
        "В отличие от императивного стиля, описывающего шаги, ведущие к достижению цели, функциональный стиль описывает математические отношения между данными и целью.\n",
        "```python\n",
        "# функциональный стиль\n",
        "# языки ФП часто имеют встроенную функцию compose()\n",
        "compose2 = lambda A, B: lambda x: A(B(x))\n",
        "target = map(compose2(F, G), source_list)\n",
        "```\n"
      ]
    },
    {
      "cell_type": "markdown",
      "metadata": {
        "id": "-t9p2wrFObAm"
      },
      "source": [
        "### `Анонимные функции`\n",
        "\n",
        "- `def` - не единственный способ объявления функции\n",
        "- `lambda` создаёт анонимную (lambda) функцию\n",
        "\n",
        "\n",
        "Такие функции часто используются там, где синтаксически нельзя записать определение через `def`"
      ]
    },
    {
      "cell_type": "code",
      "metadata": {
        "id": "0pKOJH5DObAm",
        "colab": {
          "base_uri": "https://localhost:8080/"
        },
        "outputId": "b3c27b7d-1290-4e01-a979-b18d63d62ffb"
      },
      "source": [
        "def func(x): return x ** 2\n",
        "func(6)"
      ],
      "execution_count": 83,
      "outputs": [
        {
          "output_type": "execute_result",
          "data": {
            "text/plain": [
              "36"
            ]
          },
          "metadata": {},
          "execution_count": 83
        }
      ]
    },
    {
      "cell_type": "code",
      "metadata": {
        "id": "hMWjTij2ObAn",
        "colab": {
          "base_uri": "https://localhost:8080/"
        },
        "outputId": "88c40313-233b-43cc-c3f2-a27b856bc71b"
      },
      "source": [
        "lambda_func = lambda x: x ** 2  # should be an expression\n",
        "lambda_func(6)"
      ],
      "execution_count": 84,
      "outputs": [
        {
          "output_type": "execute_result",
          "data": {
            "text/plain": [
              "36"
            ]
          },
          "metadata": {},
          "execution_count": 84
        }
      ]
    },
    {
      "cell_type": "code",
      "metadata": {
        "id": "78Pr_VmbObAo",
        "colab": {
          "base_uri": "https://localhost:8080/"
        },
        "outputId": "65034654-996a-4987-90a3-55192cb7434b"
      },
      "source": [
        "def func(x): print(x)\n",
        "func(6)"
      ],
      "execution_count": 85,
      "outputs": [
        {
          "output_type": "stream",
          "name": "stdout",
          "text": [
            "6\n"
          ]
        }
      ]
    },
    {
      "cell_type": "code",
      "metadata": {
        "id": "sMvDQqskObAo",
        "colab": {
          "base_uri": "https://localhost:8080/"
        },
        "outputId": "e6dda819-40bc-4fb4-8919-06ca7295ddfa"
      },
      "source": [
        "lambda_func = lambda x: print(x ** 2)  # as print is function in Python 3.*\n",
        "lambda_func(6)"
      ],
      "execution_count": 86,
      "outputs": [
        {
          "output_type": "stream",
          "name": "stdout",
          "text": [
            "36\n"
          ]
        }
      ]
    },
    {
      "cell_type": "markdown",
      "metadata": {
        "id": "SGNqvB09ObA2"
      },
      "source": [
        "### `Встроенная функция map`"
      ]
    },
    {
      "cell_type": "code",
      "metadata": {
        "id": "NWmLvCiuObA2"
      },
      "source": [
        "lst = [5, 2, 7, -9, -1]"
      ],
      "execution_count": 87,
      "outputs": []
    },
    {
      "cell_type": "code",
      "metadata": {
        "id": "KvLjoj7xObA4",
        "colab": {
          "base_uri": "https://localhost:8080/"
        },
        "outputId": "4bd48ed8-e568-46c1-9f75-642578089d33"
      },
      "source": [
        "m = map(lambda x: abs(x), lst)\n",
        "type(m)  # iterator"
      ],
      "execution_count": 88,
      "outputs": [
        {
          "output_type": "execute_result",
          "data": {
            "text/plain": [
              "map"
            ]
          },
          "metadata": {},
          "execution_count": 88
        }
      ]
    },
    {
      "cell_type": "code",
      "metadata": {
        "id": "1eJPYzDkObA4",
        "colab": {
          "base_uri": "https://localhost:8080/"
        },
        "outputId": "9da78ac9-d2d8-49a9-d00a-dab2a6ead5d6"
      },
      "source": [
        "list(m)"
      ],
      "execution_count": 89,
      "outputs": [
        {
          "output_type": "execute_result",
          "data": {
            "text/plain": [
              "[5, 2, 7, 9, 1]"
            ]
          },
          "metadata": {},
          "execution_count": 89
        }
      ]
    },
    {
      "cell_type": "markdown",
      "metadata": {
        "id": "SaN-CqZOObAr"
      },
      "source": [
        "\n",
        "### `Встроенная функция filter`"
      ]
    },
    {
      "cell_type": "code",
      "metadata": {
        "id": "bb2udOYdObAr"
      },
      "source": [
        "lst = [5, 2, 7, -9, -1]"
      ],
      "execution_count": 90,
      "outputs": []
    },
    {
      "cell_type": "code",
      "metadata": {
        "id": "5ZDIVAUMObAr",
        "colab": {
          "base_uri": "https://localhost:8080/"
        },
        "outputId": "e72a55da-f883-481f-a2e8-b8136f769995"
      },
      "source": [
        "f = filter(lambda x: x < 0, lst)  # True condition\n",
        "type(f)  # iterator"
      ],
      "execution_count": 91,
      "outputs": [
        {
          "output_type": "execute_result",
          "data": {
            "text/plain": [
              "filter"
            ]
          },
          "metadata": {},
          "execution_count": 91
        }
      ]
    },
    {
      "cell_type": "code",
      "metadata": {
        "id": "dDDYa2xUObA1",
        "colab": {
          "base_uri": "https://localhost:8080/"
        },
        "outputId": "6f0b8c0f-5dba-49aa-e03d-913240ca190c"
      },
      "source": [
        "list(f)"
      ],
      "execution_count": 92,
      "outputs": [
        {
          "output_type": "execute_result",
          "data": {
            "text/plain": [
              "[-9, -1]"
            ]
          },
          "metadata": {},
          "execution_count": 92
        }
      ]
    },
    {
      "cell_type": "markdown",
      "metadata": {
        "id": "39lRRbCMObAp"
      },
      "source": [
        "### `Встроенная функция sorted`"
      ]
    },
    {
      "cell_type": "code",
      "metadata": {
        "id": "5zUunehrObAp"
      },
      "source": [
        "lst = [5, 2, 7, -9, -1]"
      ],
      "execution_count": 93,
      "outputs": []
    },
    {
      "cell_type": "code",
      "metadata": {
        "id": "odPWOEKwObAp",
        "colab": {
          "base_uri": "https://localhost:8080/"
        },
        "outputId": "17778a1c-c325-4dd4-cea3-932be1c9128a"
      },
      "source": [
        "def abs_comparator(x):\n",
        "    return abs(x)\n",
        "\n",
        "print(sorted(lst, key=abs_comparator))"
      ],
      "execution_count": 94,
      "outputs": [
        {
          "output_type": "stream",
          "name": "stdout",
          "text": [
            "[-1, 2, 5, 7, -9]\n"
          ]
        }
      ]
    },
    {
      "cell_type": "code",
      "metadata": {
        "id": "rvcbzMH5ObAp",
        "colab": {
          "base_uri": "https://localhost:8080/"
        },
        "outputId": "8dddb1ff-2c0e-460a-c8ef-9a92ecb37dda"
      },
      "source": [
        "sorted(lst, key=lambda x: abs(x))"
      ],
      "execution_count": 95,
      "outputs": [
        {
          "output_type": "execute_result",
          "data": {
            "text/plain": [
              "[-1, 2, 5, 7, -9]"
            ]
          },
          "metadata": {},
          "execution_count": 95
        }
      ]
    },
    {
      "cell_type": "code",
      "metadata": {
        "id": "opCppAm_ObAq",
        "colab": {
          "base_uri": "https://localhost:8080/"
        },
        "outputId": "6462f88e-e036-4fbe-b1d9-63904d992a56"
      },
      "source": [
        "sorted(lst, key=lambda x: abs(x), reverse=True)"
      ],
      "execution_count": 96,
      "outputs": [
        {
          "output_type": "execute_result",
          "data": {
            "text/plain": [
              "[-9, 7, 5, 2, -1]"
            ]
          },
          "metadata": {},
          "execution_count": 96
        }
      ]
    },
    {
      "cell_type": "markdown",
      "metadata": {
        "id": "yHgk13QwOa_d"
      },
      "source": [
        "## `Функция zip`"
      ]
    },
    {
      "cell_type": "code",
      "metadata": {
        "id": "RChnxRCFOa_e",
        "colab": {
          "base_uri": "https://localhost:8080/"
        },
        "outputId": "8629cd1a-ac4d-4f65-ebcc-018a48befe75"
      },
      "source": [
        "z = zip([1, 2, 3], 'abc')\n",
        "print(type(z))\n",
        "\n",
        "for a, b in z:\n",
        "    print(a, b, end='  ')"
      ],
      "execution_count": 97,
      "outputs": [
        {
          "output_type": "stream",
          "name": "stdout",
          "text": [
            "<class 'zip'>\n",
            "1 a  2 b  3 c  "
          ]
        }
      ]
    },
    {
      "cell_type": "code",
      "metadata": {
        "id": "d4Pnk02dOa_g",
        "colab": {
          "base_uri": "https://localhost:8080/"
        },
        "outputId": "668037fa-a692-4115-dece-72d762b3e2a4"
      },
      "source": [
        "for e in zip('abcdef', 'abc'):\n",
        "  print(e)"
      ],
      "execution_count": 98,
      "outputs": [
        {
          "output_type": "stream",
          "name": "stdout",
          "text": [
            "('a', 'a')\n",
            "('b', 'b')\n",
            "('c', 'c')\n"
          ]
        }
      ]
    },
    {
      "cell_type": "code",
      "metadata": {
        "id": "Lzp2D8iaOa_u",
        "colab": {
          "base_uri": "https://localhost:8080/"
        },
        "outputId": "aaa21ddb-4f49-4fdc-9e0e-d549f3a740b2"
      },
      "source": [
        "for a, b, c, d in zip('abc', [1,2,3], [True, False, None], 'xyz'):\n",
        "    print(a, b, c, d)"
      ],
      "execution_count": 99,
      "outputs": [
        {
          "output_type": "stream",
          "name": "stdout",
          "text": [
            "a 1 True x\n",
            "b 2 False y\n",
            "c 3 None z\n"
          ]
        }
      ]
    },
    {
      "cell_type": "markdown",
      "metadata": {
        "id": "M93F-9fMAYA-"
      },
      "source": [
        "## `Генерация списков, множеств и словарей`"
      ]
    },
    {
      "cell_type": "markdown",
      "metadata": {
        "id": "Sss71LG0iL_d"
      },
      "source": [
        "Генераторы списков, списковое включение, абстракция списков (list comprehension)"
      ]
    },
    {
      "cell_type": "code",
      "metadata": {
        "id": "n750mP7PeaVa",
        "colab": {
          "base_uri": "https://localhost:8080/"
        },
        "outputId": "311d3307-aae2-4256-9449-0ed8e904a0e7"
      },
      "source": [
        "list_a = [-2, -1, 0, 1, 2, 3, 4, 5]\n",
        "my_list = [i for i in list_a]\n",
        "print(my_list)          # [-2, -1, 0, 1, 2, 3, 4, 5]"
      ],
      "execution_count": 100,
      "outputs": [
        {
          "output_type": "stream",
          "name": "stdout",
          "text": [
            "[-2, -1, 0, 1, 2, 3, 4, 5]\n"
          ]
        }
      ]
    },
    {
      "cell_type": "markdown",
      "metadata": {
        "id": "dvlzC0Z1iRib"
      },
      "source": [
        "Генераторы множеств, абстракция множеств (set comprehension)"
      ]
    },
    {
      "cell_type": "code",
      "metadata": {
        "id": "jREDd5bRieWF",
        "colab": {
          "base_uri": "https://localhost:8080/"
        },
        "outputId": "b4941687-457a-4b9f-a06e-a5e45cf85b2b"
      },
      "source": [
        "list_a = [-2, -1, 0, 1, 2, 2, 3, 3, 4, 5]\n",
        "my_set= {i for i in list_a}\n",
        "print(my_set)       # {0, 1, 2, 3, 4, 5, -1, -2} - порядок случаен"
      ],
      "execution_count": 101,
      "outputs": [
        {
          "output_type": "stream",
          "name": "stdout",
          "text": [
            "{0, 1, 2, 3, 4, 5, -1, -2}\n"
          ]
        }
      ]
    },
    {
      "cell_type": "markdown",
      "metadata": {
        "id": "Fd3oSat9itkT"
      },
      "source": [
        "Генератор словарей, абстракция словарей (dictionary comprehension)"
      ]
    },
    {
      "cell_type": "code",
      "metadata": {
        "id": "QBRySkI_i7pK",
        "colab": {
          "base_uri": "https://localhost:8080/"
        },
        "outputId": "94ea05b8-68d9-4a88-9a58-f26e07ed459d"
      },
      "source": [
        "dict_abc = {'a': 1, 'b': 2, 'c': 3, 'd': 3}\n",
        "dict_123 = {v: k for k, v in dict_abc.items()}\n",
        "print(dict_123)  # {1: 'a', 2: 'b', 3: 'd'}\n",
        "                 # Обратите внимание, мы потеряли \"с\"! Так как значения были одинаковы, \n",
        "                 # то когда они стали ключами, только последнее значение сохранилось."
      ],
      "execution_count": 102,
      "outputs": [
        {
          "output_type": "stream",
          "name": "stdout",
          "text": [
            "{1: 'a', 2: 'b', 3: 'd'}\n"
          ]
        }
      ]
    },
    {
      "cell_type": "code",
      "metadata": {
        "id": "bvdkwwQyjUvO",
        "colab": {
          "base_uri": "https://localhost:8080/"
        },
        "outputId": "fc617db5-65b7-4288-c0a6-061a56eef717"
      },
      "source": [
        "list_a = [-2, -1, 0, 1, 2, 3, 4, 5]\n",
        "dict_a = {x: x**2 for x in list_a}\n",
        "print(dict_a)   # {-2: 4, -1: 1, 0: 0, 1: 1, 2: 4, 3: 9, 4: 16, 5: 25}"
      ],
      "execution_count": 103,
      "outputs": [
        {
          "output_type": "stream",
          "name": "stdout",
          "text": [
            "{-2: 4, -1: 1, 0: 0, 1: 1, 2: 4, 3: 9, 4: 16, 5: 25}\n"
          ]
        }
      ]
    },
    {
      "cell_type": "code",
      "metadata": {
        "colab": {
          "base_uri": "https://localhost:8080/"
        },
        "id": "vz7I785nb63t",
        "outputId": "bec6f1cf-c9bf-4ac9-9f9e-6c9489aac1be"
      },
      "source": [
        "# выражение-генератор\n",
        "list_a = [-2, -1, 0, 1, 2, 3, 4, 5]\n",
        "my_gen = (i for i in list_a)    # выражение-генератор\n",
        "print(next(my_gen))     # -2 - получаем очередной элемент генератора\n",
        "print(next(my_gen))     # -1 - получаем очередной элемент генератора\n",
        "type(my_gen)\n",
        "\n",
        "# (n for n in range(1, 20) if n % 2 == 0)\n",
        "# print(type(n for n in range(1, 20) if n % 2 == 0))\n",
        "# print(n for n in range(1, 20) if n % 2 == 0)\n",
        "# list(n for n in range(1, 20) if n % 2 == 0)"
      ],
      "execution_count": 104,
      "outputs": [
        {
          "output_type": "stream",
          "name": "stdout",
          "text": [
            "-2\n",
            "-1\n"
          ]
        },
        {
          "output_type": "execute_result",
          "data": {
            "text/plain": [
              "generator"
            ]
          },
          "metadata": {},
          "execution_count": 104
        }
      ]
    },
    {
      "cell_type": "markdown",
      "metadata": {
        "id": "GwMIfnBXObBA"
      },
      "source": [
        "## `Генераторы (рассмотрим подробно на следующих семинарах)`\n"
      ]
    },
    {
      "cell_type": "markdown",
      "metadata": {
        "id": "4gGsCNk1A9q1"
      },
      "source": [
        "- Генераторы, как и итераторы, предназначены для итерирования по коллекции, но устроены несколько иначе\n",
        "- Они определяются с помощью функций с оператором `yield` или генераторов списков, а не вызовов `iter()` и `next()`\n",
        "- В генераторе есть внутреннее изменяемое состояние в виде локальных переменных, которое он хранит автоматически\n",
        "- Генератор - более простой способ создания собственного итератора, чем его прямое определение\n",
        "- Все генераторы являются итераторами, но не наоборот<br><br>"
      ]
    },
    {
      "cell_type": "markdown",
      "metadata": {
        "id": "45OxHc5SObBB"
      },
      "source": [
        "\n",
        "- Примеры функций-генераторов:\n",
        "    - `zip`\n",
        "    - `enumerate`\n",
        "    - `reversed`\n",
        "    - `map`\n",
        "    - `filter`"
      ]
    },
    {
      "cell_type": "markdown",
      "metadata": {
        "id": "gQKCK7osObBB"
      },
      "source": [
        "### `Ключевое слово yield`\n",
        "\n",
        "- `yield` - это слово, по смыслу похожее на `return`<br><br>\n",
        "- Но используется в функциях, возвращающих генераторы<br><br>\n",
        "- При вызове такой функции тело не выполняется, функция только возвращает генератор<br><br>\n",
        "- В первый запуск функция будет выполняться от начала и до `yield`<br><br>\n",
        "- После выхода состояние функции сохраняется<br><br>\n",
        "- На следующий вызов будет проводиться итерация цикла и возвращаться следующее значение<br><br>\n",
        "- И так далее, пока не кончится цикл каждого `yield` в теле функции<br><br>\n",
        "- После этого генератор станет пустым"
      ]
    },
    {
      "cell_type": "markdown",
      "metadata": {
        "id": "tyZ-DXivObBC"
      },
      "source": [
        "### `Пример генератора`"
      ]
    },
    {
      "cell_type": "code",
      "metadata": {
        "id": "NGL_QmyxObBC"
      },
      "source": [
        "def my_range(n):\n",
        "    yield 'You really want to run this generator?'\n",
        "\n",
        "    i = -1\n",
        "    while i < n:\n",
        "        i += 1\n",
        "        yield i"
      ],
      "execution_count": 105,
      "outputs": []
    },
    {
      "cell_type": "code",
      "metadata": {
        "id": "Sm5k4kHgObBC",
        "colab": {
          "base_uri": "https://localhost:8080/"
        },
        "outputId": "73b1e86b-e162-41a0-bf10-7ce92633c6bb"
      },
      "source": [
        "gen = my_range(3)\n",
        "while True:\n",
        "    try:\n",
        "        print(next(gen), end='   ')\n",
        "    except StopIteration:  # we want to catch this type of exceptions\n",
        "        break"
      ],
      "execution_count": 106,
      "outputs": [
        {
          "output_type": "stream",
          "name": "stdout",
          "text": [
            "You really want to run this generator?   0   1   2   3   "
          ]
        }
      ]
    },
    {
      "cell_type": "code",
      "metadata": {
        "id": "I3sjBPuFObBD",
        "colab": {
          "base_uri": "https://localhost:8080/"
        },
        "outputId": "cc8887ca-1666-496f-85aa-77c843513037"
      },
      "source": [
        "for e in my_range(3):\n",
        "    print(e, end='   ')"
      ],
      "execution_count": 107,
      "outputs": [
        {
          "output_type": "stream",
          "name": "stdout",
          "text": [
            "You really want to run this generator?   0   1   2   3   "
          ]
        }
      ]
    }
  ]
}