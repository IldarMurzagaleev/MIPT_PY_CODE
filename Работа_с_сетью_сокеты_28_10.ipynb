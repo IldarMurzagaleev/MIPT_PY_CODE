{
  "nbformat": 4,
  "nbformat_minor": 0,
  "metadata": {
    "colab": {
      "name": "Работа с сетью_сокеты_28_10.ipynb",
      "provenance": [],
      "collapsed_sections": [],
      "include_colab_link": true
    },
    "language_info": {
      "name": "python"
    },
    "kernelspec": {
      "name": "python3",
      "display_name": "Python 3"
    }
  },
  "cells": [
    {
      "cell_type": "markdown",
      "metadata": {
        "id": "view-in-github",
        "colab_type": "text"
      },
      "source": [
        "<a href=\"https://colab.research.google.com/github/pythonkvs/seminars/blob/main/%D0%A0%D0%B0%D0%B1%D0%BE%D1%82%D0%B0_%D1%81_%D1%81%D0%B5%D1%82%D1%8C%D1%8E_%D1%81%D0%BE%D0%BA%D0%B5%D1%82%D1%8B_28_10.ipynb\" target=\"_parent\"><img src=\"https://colab.research.google.com/assets/colab-badge.svg\" alt=\"Open In Colab\"/></a>"
      ]
    },
    {
      "cell_type": "markdown",
      "metadata": {
        "id": "sUgA1xZQuDAY"
      },
      "source": [
        "\n",
        "<h3 id=\"Работа-с-сетью,-сокеты\">Работа с сетью, сокеты<a class=\"anchor-link\" href=\"#Работа-с-сетью,-сокеты\"></a></h3><ul>\n",
        "<li>Что такое сокеты?</li>\n",
        "<li>Зачем нужны сокеты?  </li>\n",
        "<li>Программа клиент-сервер</li>\n",
        "</ul>\n"
      ]
    },
    {
      "cell_type": "markdown",
      "metadata": {
        "id": "bGwKOYZbuKTN"
      },
      "source": [
        "При помощи сокетов можно организовать взаимодействие между процессами,\n",
        "работающим на разных серверах.\n",
        "\n",
        "Сокет в ОС Linux - это объект уровня ядра.\n",
        "Т.е. python процесс при создании сокета и вызова функций осуществляет системные вызовы.\n",
        "Ядро ОС возвращает результаты работы системных вызовов python процессу."
      ]
    },
    {
      "cell_type": "code",
      "metadata": {
        "id": "Bw0TlM0UuDAv"
      },
      "source": [
        "# создание сокета, сервер\n",
        "\n",
        "import socket\n",
        "\n",
        "# https://docs.python.org/3/library/socket.html\n",
        "sock=socket.socket(socket.AF_INET, socket.SOCK_STREAM)\n",
        "sock.bind((\"127.0.0.1\", 10001))   # max port 65535\n",
        "sock.listen(socket.SOMAXCONN)\n",
        "\n",
        "conn, addr = sock.accept()\n",
        "while True:\n",
        "    data = conn.recv(1024)\n",
        "    if not data:\n",
        "        break\n",
        "    # process data\n",
        "    print(data.decode(\"utf8\"))\n",
        "\n",
        "conn.close()\n",
        "sock.close()"
      ],
      "execution_count": null,
      "outputs": []
    },
    {
      "cell_type": "code",
      "metadata": {
        "id": "cpO_JvCSuDAz"
      },
      "source": [
        "# создание сокета, клиент\n",
        "\n",
        "import socket\n",
        "\n",
        "sock = socket.socket()\n",
        "sock.connect((\"127.0.0.1\", 10001))\n",
        "sock.sendall(\"ping\".encode(\"utf8\"))\n",
        "sock.close()\n",
        "\n",
        "# более короткая запись\n",
        "\n",
        "sock = socket.create_connection((\"127.0.0.1\", 10001))\n",
        "sock.sendall(\"ping\".encode(\"utf8\"))\n",
        "sock.close()"
      ],
      "execution_count": null,
      "outputs": []
    },
    {
      "cell_type": "code",
      "metadata": {
        "id": "1R6SgNqiuDA0"
      },
      "source": [
        "# создание сокета, контекстный менеджер\n",
        "# сервер\n",
        "import socket\n",
        "\n",
        "with socket.socket() as sock:\n",
        "    sock.bind((\"\", 10001))\n",
        "    sock.listen()\n",
        "    \n",
        "    while True:\n",
        "        conn, addr = sock.accept()\n",
        "        with conn:\n",
        "            while True:\n",
        "                data = conn.recv(1024)\n",
        "                if not data:\n",
        "                    break\n",
        "                print(data.decode(\"utf8\"))\n",
        "\n",
        "# клиент\n",
        "import socket\n",
        "\n",
        "with socket.create_connection((\"127.0.0.1\", 10001)) as sock:\n",
        "    sock.sendall(\"ping\".encode(\"utf8\"))"
      ],
      "execution_count": null,
      "outputs": []
    },
    {
      "cell_type": "markdown",
      "metadata": {
        "id": "7l_rXM0BuDA1"
      },
      "source": [
        "\n",
        "<h3 id=\"Таймауты-и-обработка-сетевых-ошибок\">Таймауты и обработка сетевых ошибок<a class=\"anchor-link\" href=\"#Таймауты-и-обработка-сетевых-ошибок\"></a></h3><ul>\n"
      ]
    },
    {
      "cell_type": "code",
      "metadata": {
        "id": "E0_fQ7HhuDA2"
      },
      "source": [
        "# создание сокета, таймауты и обработка ошибок\n",
        "# сервер\n",
        "import socket\n",
        "\n",
        "with socket.socket() as sock:\n",
        "    sock.bind((\"\", 10001))\n",
        "    sock.listen()\n",
        "    while True:\n",
        "        conn, addr = sock.accept()\n",
        "        conn.settimeout(5)  # timeout := None|0|gt 0 \n",
        "        with conn:\n",
        "            while True:\n",
        "                try:\n",
        "                    data = conn.recv(1024)\n",
        "                except socket.timeout:\n",
        "                    print(\"close connection by timeout\")\n",
        "                    break\n",
        "                \n",
        "                if not data:\n",
        "                    break\n",
        "                print(data.decode(\"utf8\"))"
      ],
      "execution_count": null,
      "outputs": []
    },
    {
      "cell_type": "code",
      "metadata": {
        "id": "9_FyjANLuDA3"
      },
      "source": [
        "# создание сокета, таймауты и обработка ошибок\n",
        "# клиент\n",
        "import socket\n",
        "\n",
        "with socket.create_connection((\"127.0.0.1\", 10001), 5) as sock:\n",
        "    # set socket read timeout\n",
        "    sock.settimeout(2)\n",
        "    try:\n",
        "        sock.sendall(\"ping\".encode(\"utf8\"))\n",
        "    except socket.timeout:\n",
        "        print(\"send data timeout\")\n",
        "    except socket.error as ex:\n",
        "        print(\"send data error:\", ex)"
      ],
      "execution_count": null,
      "outputs": []
    },
    {
      "cell_type": "markdown",
      "metadata": {
        "id": "cxgbX9tMuDA7"
      },
      "source": [
        "\n",
        "<h3 id=\"Одновременная-обработка-нескольких-соединений\">Одновременная обработка нескольких соединений<a class=\"anchor-link\" href=\"#Одновременная-обработка-нескольких-соединений\"></a></h3><ul>\n",
        "<li>Как обработать несколько соединений одновременно?</li>\n",
        "<li>Что использовать: процессы или потоки?</li>\n",
        "<li>Рассмотрим примеры обработки сетевых запросов</li>\n",
        "</ul>\n"
      ]
    },
    {
      "cell_type": "code",
      "metadata": {
        "id": "ISwD_4i1uDA9"
      },
      "source": [
        "# обработка нескольких соединений одновременно\n",
        "\n",
        "import socket\n",
        "\n",
        "with socket.socket() as sock:\n",
        "    sock.bind((\"\", 10001))\n",
        "    sock.listen()\n",
        "    while True:\n",
        "        conn, addr = sock.accept()\n",
        "        print(\"connected client:\", addr)\n",
        "        # процесс или поток для обработки соединения\n",
        "        with conn:\n",
        "            while True:\n",
        "                data = conn.recv(1024)\n",
        "                if not data:\n",
        "                    break\n",
        "                print(data.decode(\"utf8\"))"
      ],
      "execution_count": null,
      "outputs": []
    },
    {
      "cell_type": "markdown",
      "metadata": {
        "id": "YiWCVX0fv9OM"
      },
      "source": [
        "Какие преимущества дает создание процессов?  \n",
        "Можно использовать все ядра CPU.  \n",
        "Вызов fork - это слишком тяжелая операция.  \n",
        "Иногда дороже сделать fork, чем обработать сам запрос.  \n",
        "Для процессов будет большой расход памяти.  \n",
        "\n",
        "Использование потоков ограничено GIL и одним процессом.  \n",
        "Мы можем исчерпать 100% CPU на одном ядре, программа будет работать неэффективно.  \n",
        "\n",
        "Как поведет себя ОС при большом кол-ве процессов или потоков?"
      ]
    },
    {
      "cell_type": "code",
      "metadata": {
        "id": "k933Pqc0uDA-"
      },
      "source": [
        "# обработка нескольких соединений одновременно, потоки\n",
        "\n",
        "import socket\n",
        "import threading\n",
        "\n",
        "def process_request(conn, addr):\n",
        "    print(\"connected client:\", addr)\n",
        "    with conn:\n",
        "        while True:\n",
        "            data = conn.recv(1024)\n",
        "            if not data:\n",
        "                break\n",
        "            print(data.decode(\"utf8\"))\n",
        "\n",
        "with socket.socket() as sock:\n",
        "    sock.bind((\"\", 10001))\n",
        "    sock.listen()\n",
        "    while True:\n",
        "        conn, addr = sock.accept()\n",
        "        th = threading.Thread(target=process_request, args=(conn, addr))\n",
        "        th.start()"
      ],
      "execution_count": null,
      "outputs": []
    },
    {
      "cell_type": "code",
      "metadata": {
        "id": "Y_6_pjg-uDA_"
      },
      "source": [
        "# обработка нескольких соединений одновременно, процессы и потоки\n",
        "import socket\n",
        "\n",
        "with socket.socket() as sock:\n",
        "    sock.bind((\"\", 10001))\n",
        "    sock.listen()\n",
        "    # создание нескольких процессов\n",
        "    while True:\n",
        "        # accept распределится \"равномерно\" между процессами\n",
        "        conn, addr = sock.accept()\n",
        "        # поток для обработки соединения\n",
        "        with conn:\n",
        "            while True:\n",
        "                data = conn.recv(1024)\n",
        "                if not data:\n",
        "                    break\n",
        "                print(data.decode(\"utf8\"))"
      ],
      "execution_count": null,
      "outputs": []
    },
    {
      "cell_type": "code",
      "metadata": {
        "id": "UQpiAMUBuDA_"
      },
      "source": [
        "# обработка нескольких соединений одновременно, процессы и потоки\n",
        "\n",
        "import socket\n",
        "import threading\n",
        "import multiprocessing\n",
        "\n",
        "with socket.socket() as sock:\n",
        "    sock.bind((\"\", 10001))\n",
        "    sock.listen()\n",
        "    \n",
        "    workers_count = 3\n",
        "    workers_list = [multiprocessing.Process(target=worker, args=(sock,))\n",
        "                    for _ in range(workers_count)]\n",
        "    \n",
        "    for w in workers_list:\n",
        "        w.start()\n",
        "    \n",
        "    for w in workers_list:\n",
        "        w.join()"
      ],
      "execution_count": null,
      "outputs": []
    },
    {
      "cell_type": "code",
      "metadata": {
        "id": "9jvZQv25uDBA"
      },
      "source": [
        "# обработка нескольких соединений одновременно, процессы и потоки\n",
        "\n",
        "def worker(sock):\n",
        "    while True:\n",
        "        conn, addr = sock.accept()\n",
        "        print(\"pid\", os.getpid())\n",
        "        th = threading.Thread(target=process_request, args=(conn, addr))\n",
        "        th.start()\n",
        "\n",
        "def process_request(conn, addr):\n",
        "    print(\"connected client:\", addr)\n",
        "    with conn:\n",
        "        while True:\n",
        "            data = conn.recv(1024)\n",
        "            if not data:\n",
        "                break\n",
        "            print(data.decode(\"utf8\"))"
      ],
      "execution_count": null,
      "outputs": []
    }
  ]
}