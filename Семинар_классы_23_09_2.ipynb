{
  "nbformat": 4,
  "nbformat_minor": 0,
  "metadata": {
    "colab": {
      "name": "Семинар, классы, 23.09 2.ipynb",
      "provenance": [],
      "collapsed_sections": [],
      "authorship_tag": "ABX9TyPt3DkB+QTuGl1xtRtl/VqD",
      "include_colab_link": true
    },
    "kernelspec": {
      "name": "python3",
      "display_name": "Python 3"
    },
    "language_info": {
      "name": "python"
    }
  },
  "cells": [
    {
      "cell_type": "markdown",
      "metadata": {
        "id": "view-in-github",
        "colab_type": "text"
      },
      "source": [
        "<a href=\"https://colab.research.google.com/github/pythonkvs/seminars/blob/main/%D0%A1%D0%B5%D0%BC%D0%B8%D0%BD%D0%B0%D1%80_%D0%BA%D0%BB%D0%B0%D1%81%D1%81%D1%8B_23_09_2.ipynb\" target=\"_parent\"><img src=\"https://colab.research.google.com/assets/colab-badge.svg\" alt=\"Open In Colab\"/></a>"
      ]
    },
    {
      "cell_type": "markdown",
      "metadata": {
        "id": "dqQL0WRzg0YW"
      },
      "source": [
        "# Объектно-ориентированное программирование\n",
        "\n",
        "- Программа, как и окружающий мир, состоит из сущностей<br><br>\n",
        "- Сущности имеют какое-то внутреннее состояние<br><br>\n",
        "- Также сущности взаимодействуют друг с другом<br><br>\n",
        "- ООП нужно для описания программы в виде сущностей и их взаимоотношений<br><br>\n",
        "- При этом и на сущности, и на отношения накладываются ограничения<br><br>\n",
        "- Это позволяет писать более короткий, простой и переиспользуемый код"
      ]
    },
    {
      "cell_type": "markdown",
      "metadata": {
        "id": "eC1n-UJ2g0YW"
      },
      "source": [
        "# Базовые понятия: класс и объект\n",
        "\n",
        "- __Класс__ представляет собой тип данных (как int или str)<br><br>\n",
        "- Это способ описания некоторой сущности, её состояния и возможного поведения<br><br>\n",
        "- Поведение при этом зависит от состояния и может его изменять<br><br>\n",
        "- __Объект__ - это конретный представитель класса (как переменная этого типа)<br><br>\n",
        "- У объекта свое состояние, изменяемое поведением<br><br>\n",
        "- Поведение полностью определяется правилами, описанными в классе"
      ]
    },
    {
      "cell_type": "markdown",
      "metadata": {
        "id": "0mx-jCfLg0YX"
      },
      "source": [
        "# Базовые понятия: интерфейс\n",
        "\n",
        "- __Интерфейс__ - это класс, описывающий только поведение<br><br>\n",
        "- У интерфейса нет состояния<br><br>\n",
        "- Как следствие, создать объект типа интерфейса невозможно<br><br>\n",
        "- Вместо этого описываются классы, которые реализуют этот интерфейс и, в то же время, имеют состояние<br><br>\n",
        "- С помощью интерфейсов реализуется полиморфизм<br><br>\n",
        "- Программирование на уровне интерфейсов делает код читаемее и проще<br><br>"
      ]
    },
    {
      "cell_type": "markdown",
      "metadata": {
        "id": "--iWLw8ag0YZ"
      },
      "source": [
        "# Принципы ООП\n",
        "\n",
        "- **Абстракция** - выделение важных свойств объекта и игнорирование прочих<br><br>\n",
        "\n",
        "- **Инкапсуляция** - хранение данных и методов работы с ними внутри одного класса с доступом к данным только через методы<br><br>\n",
        "\n",
        "- **Наследование** - возможность создания наследников, получающих все свойства родителей с возможностью их переопределения и расширения<br><br>\n",
        "\n",
        "- **Полиморфизм** - возможность использования объектов разных типов с общим интерфейсом без информации об их внутреннем устройстве"
      ]
    },
    {
      "cell_type": "markdown",
      "metadata": {
        "id": "QlnbN5htg0Ya"
      },
      "source": [
        "# ООП в Python\n",
        "\n",
        "- Python - это полностью объектно-ориентированный язык<br><br>\n",
        "\n",
        "- В Python абсолютно все является объектами, включая классы<br><br>\n",
        "\n",
        "- Полностью поддерживаются все принципы ООП, кроме инкапсуляции<br><br>\n",
        "\n",
        "- Инкапсуляция поддерживается частично: нет ограничения на доступ к полям класса<br><br>\n",
        "\n",
        "- Поэтому для инкапсуляции используют договорные соглашения"
      ]
    },
    {
      "cell_type": "markdown",
      "metadata": {
        "id": "N2GroTPxg0Ya"
      },
      "source": [
        "# Классы в Python"
      ]
    },
    {
      "cell_type": "code",
      "metadata": {
        "id": "DI9rTCbOg0Yb",
        "colab": {
          "base_uri": "https://localhost:8080/"
        },
        "outputId": "1812c30a-d0bf-4ee0-c482-71b83ef88d3a"
      },
      "source": [
        "class ConcreteCar:\n",
        "    def __init__(self):\n",
        "        self.tank = 0\n",
        "        self.is_turned_on = False\n",
        "\n",
        "    def fill_up(self, gas_volume):\n",
        "        self.tank += gas_volume\n",
        "\n",
        "    def turn_on(self):\n",
        "        self.is_turned_on = True\n",
        "\n",
        "    def turn_off(self):\n",
        "        self.is_turned_on = False\n",
        "        \n",
        "car = ConcreteCar()\n",
        "print(type(car), car.__class__)\n",
        "\n",
        "car.fill_up(10)\n",
        "print(car.tank)"
      ],
      "execution_count": 1,
      "outputs": [
        {
          "output_type": "stream",
          "name": "stdout",
          "text": [
            "<class '__main__.ConcreteCar'> <class '__main__.ConcreteCar'>\n",
            "10\n"
          ]
        }
      ]
    },
    {
      "cell_type": "markdown",
      "metadata": {
        "id": "jwvxdbWfg0Yd"
      },
      "source": [
        "### `Функция __init__`\n",
        "\n",
        "- Главное: `__init__` - не конструктор! Она ничего не создает и не возвращает\n",
        "\n",
        "- Созданием объекта занимается функция `__new__`, переопределять которую без необходимости не надо\n",
        "\n",
        "- `__init__` получает на вход готовый объект и инициализирует его атрибуты<br>\n",
        "\n",
        "В отличие от C++, атрибуты можно добавлять/удалять на ходу:"
      ]
    },
    {
      "cell_type": "code",
      "metadata": {
        "id": "TqLLWlUeg0Yd",
        "colab": {
          "base_uri": "https://localhost:8080/",
          "height": 225
        },
        "outputId": "e4eb2655-1e07-49f8-a9a9-83234a819c53"
      },
      "source": [
        "class Cls:\n",
        "    pass\n",
        "\n",
        "cls = Cls()\n",
        "cls.field = 'field'\n",
        "print(cls.field)\n",
        "\n",
        "del cls.field\n",
        "print(cls.field)  # AttributeError: 'Cls' object has no attribute 'field'"
      ],
      "execution_count": 2,
      "outputs": [
        {
          "output_type": "stream",
          "name": "stdout",
          "text": [
            "field\n"
          ]
        },
        {
          "output_type": "error",
          "ename": "AttributeError",
          "evalue": "ignored",
          "traceback": [
            "\u001b[0;31m---------------------------------------------------------------------------\u001b[0m",
            "\u001b[0;31mAttributeError\u001b[0m                            Traceback (most recent call last)",
            "\u001b[0;32m<ipython-input-2-0818b77cab1e>\u001b[0m in \u001b[0;36m<module>\u001b[0;34m()\u001b[0m\n\u001b[1;32m      7\u001b[0m \u001b[0;34m\u001b[0m\u001b[0m\n\u001b[1;32m      8\u001b[0m \u001b[0;32mdel\u001b[0m \u001b[0mcls\u001b[0m\u001b[0;34m.\u001b[0m\u001b[0mfield\u001b[0m\u001b[0;34m\u001b[0m\u001b[0;34m\u001b[0m\u001b[0m\n\u001b[0;32m----> 9\u001b[0;31m \u001b[0mprint\u001b[0m\u001b[0;34m(\u001b[0m\u001b[0mcls\u001b[0m\u001b[0;34m.\u001b[0m\u001b[0mfield\u001b[0m\u001b[0;34m)\u001b[0m  \u001b[0;31m# AttributeError: 'Cls' object has no attribute 'field'\u001b[0m\u001b[0;34m\u001b[0m\u001b[0;34m\u001b[0m\u001b[0m\n\u001b[0m",
            "\u001b[0;31mAttributeError\u001b[0m: 'Cls' object has no attribute 'field'"
          ]
        }
      ]
    },
    {
      "cell_type": "markdown",
      "metadata": {
        "id": "buS227QXg0Yd"
      },
      "source": [
        "### `Параметр self`\n",
        "\n",
        "- Метод класса отличается от обычной функции только наличием объекта `self` в качестве первого аргумента <br><br>\n",
        "\n",
        "- Это то же самое, что происходит в C++/Java (там аналогом `self` является указатель/ссылка `this`) <br><br>\n",
        "\n",
        "- Название `self` является общим соглашением, но можно использовать и другое (не надо!)<br><br>"
      ]
    },
    {
      "cell_type": "markdown",
      "metadata": {
        "id": "id81x0z6g0Ye"
      },
      "source": [
        "### `Как быть с инкапсуляцией`\n",
        "\n",
        "- Приватное поле прежде всего должно быть обозначено таковым\n",
        "- В Python для этого есть соглашения:<br>"
      ]
    },
    {
      "cell_type": "code",
      "metadata": {
        "id": "VepVTHjfg0Ye",
        "colab": {
          "base_uri": "https://localhost:8080/",
          "height": 244
        },
        "outputId": "d0edc1a6-cca7-490b-bd1a-844f93992f7c"
      },
      "source": [
        "class Cls:\n",
        "    def __init__(self):\n",
        "        self.public_field = 'Ok'\n",
        "        self._private_field = \"You're shouldn't see it\"\n",
        "        self.__mangled_field = \"YOU REALLY SHOULDN'T SEE IT!!!\"\n",
        "\n",
        "cls = Cls()\n",
        "print(cls.public_field)\n",
        "print(cls._private_field)\n",
        "print(cls.__mangled_field)"
      ],
      "execution_count": 3,
      "outputs": [
        {
          "output_type": "stream",
          "name": "stdout",
          "text": [
            "Ok\n",
            "You're shouldn't see it\n"
          ]
        },
        {
          "output_type": "error",
          "ename": "AttributeError",
          "evalue": "ignored",
          "traceback": [
            "\u001b[0;31m---------------------------------------------------------------------------\u001b[0m",
            "\u001b[0;31mAttributeError\u001b[0m                            Traceback (most recent call last)",
            "\u001b[0;32m<ipython-input-3-7323e174dcc4>\u001b[0m in \u001b[0;36m<module>\u001b[0;34m()\u001b[0m\n\u001b[1;32m      8\u001b[0m \u001b[0mprint\u001b[0m\u001b[0;34m(\u001b[0m\u001b[0mcls\u001b[0m\u001b[0;34m.\u001b[0m\u001b[0mpublic_field\u001b[0m\u001b[0;34m)\u001b[0m\u001b[0;34m\u001b[0m\u001b[0;34m\u001b[0m\u001b[0m\n\u001b[1;32m      9\u001b[0m \u001b[0mprint\u001b[0m\u001b[0;34m(\u001b[0m\u001b[0mcls\u001b[0m\u001b[0;34m.\u001b[0m\u001b[0m_private_field\u001b[0m\u001b[0;34m)\u001b[0m\u001b[0;34m\u001b[0m\u001b[0;34m\u001b[0m\u001b[0m\n\u001b[0;32m---> 10\u001b[0;31m \u001b[0mprint\u001b[0m\u001b[0;34m(\u001b[0m\u001b[0mcls\u001b[0m\u001b[0;34m.\u001b[0m\u001b[0m__mangled_field\u001b[0m\u001b[0;34m)\u001b[0m\u001b[0;34m\u001b[0m\u001b[0;34m\u001b[0m\u001b[0m\n\u001b[0m",
            "\u001b[0;31mAttributeError\u001b[0m: 'Cls' object has no attribute '__mangled_field'"
          ]
        }
      ]
    },
    {
      "cell_type": "code",
      "metadata": {
        "id": "s81kVKASg0Ye",
        "colab": {
          "base_uri": "https://localhost:8080/"
        },
        "outputId": "122ecd7a-26bb-4398-91b0-4a3991bbec57"
      },
      "source": [
        "print(cls._Cls__mangled_field)"
      ],
      "execution_count": 4,
      "outputs": [
        {
          "output_type": "stream",
          "name": "stdout",
          "text": [
            "YOU REALLY SHOULDN'T SEE IT!!!\n"
          ]
        }
      ]
    },
    {
      "cell_type": "markdown",
      "metadata": {
        "id": "za8rqhTPg0Yf"
      },
      "source": [
        "# Атрибуты"
      ]
    },
    {
      "cell_type": "markdown",
      "metadata": {
        "id": "65Kt7hl4pdQZ"
      },
      "source": [
        "### `Атрибуты объекта и класса`"
      ]
    },
    {
      "cell_type": "code",
      "metadata": {
        "id": "cz3maHRrg0Yf",
        "colab": {
          "base_uri": "https://localhost:8080/"
        },
        "outputId": "8cd6e8cf-6ee4-4f7d-960d-5e818cf235ca"
      },
      "source": [
        "class Cls:\n",
        "    pass\n",
        "\n",
        "cls = Cls()\n",
        "print([e for e in dir(cls) if not e.startswith('__')])\n",
        "\n",
        "cls.some_obj_attr = '1'\n",
        "print([e for e in dir(cls) if not e.startswith('__')])"
      ],
      "execution_count": 5,
      "outputs": [
        {
          "output_type": "stream",
          "name": "stdout",
          "text": [
            "[]\n",
            "['some_obj_attr']\n"
          ]
        }
      ]
    },
    {
      "cell_type": "code",
      "metadata": {
        "id": "sMSj-OQJg0Yf",
        "colab": {
          "base_uri": "https://localhost:8080/"
        },
        "outputId": "0560317f-bf38-49bd-f6bc-cfd837922631"
      },
      "source": [
        "print([e for e in dir(Cls) if not e.startswith('__')])\n",
        "\n",
        "Cls.some_cls_attr = '1'\n",
        "print([e for e in dir(Cls) if not e.startswith('__')])\n",
        "print([e for e in dir(cls) if not e.startswith('__')])"
      ],
      "execution_count": 6,
      "outputs": [
        {
          "output_type": "stream",
          "name": "stdout",
          "text": [
            "[]\n",
            "['some_cls_attr']\n",
            "['some_cls_attr', 'some_obj_attr']\n"
          ]
        }
      ]
    },
    {
      "cell_type": "markdown",
      "metadata": {
        "id": "R-xVIiFtg0Yg"
      },
      "source": [
        "### `Доступ к атрибутам`\n",
        "\n",
        "- Для работы с атрибутами есть функции `getattr`, `setattr` и `delattr`\n",
        "- Их основное преимущество - оперирование именами атрибутов в виде строк"
      ]
    },
    {
      "cell_type": "code",
      "metadata": {
        "id": "IK4HN4ydg0Yg",
        "colab": {
          "base_uri": "https://localhost:8080/",
          "height": 225
        },
        "outputId": "4ed49880-fe0e-4eee-dfe0-97fcc91be37c"
      },
      "source": [
        "cls = Cls()\n",
        "\n",
        "setattr(cls, 'some_attr', 'some')\n",
        "\n",
        "print(getattr(cls, 'some_attr'))\n",
        "\n",
        "delattr(cls, 'some_attr')\n",
        "\n",
        "print(getattr(cls, 'some_attr'))"
      ],
      "execution_count": 7,
      "outputs": [
        {
          "output_type": "stream",
          "name": "stdout",
          "text": [
            "some\n"
          ]
        },
        {
          "output_type": "error",
          "ename": "AttributeError",
          "evalue": "ignored",
          "traceback": [
            "\u001b[0;31m---------------------------------------------------------------------------\u001b[0m",
            "\u001b[0;31mAttributeError\u001b[0m                            Traceback (most recent call last)",
            "\u001b[0;32m<ipython-input-7-7a637e97d7b9>\u001b[0m in \u001b[0;36m<module>\u001b[0;34m()\u001b[0m\n\u001b[1;32m      7\u001b[0m \u001b[0mdelattr\u001b[0m\u001b[0;34m(\u001b[0m\u001b[0mcls\u001b[0m\u001b[0;34m,\u001b[0m \u001b[0;34m'some_attr'\u001b[0m\u001b[0;34m)\u001b[0m\u001b[0;34m\u001b[0m\u001b[0;34m\u001b[0m\u001b[0m\n\u001b[1;32m      8\u001b[0m \u001b[0;34m\u001b[0m\u001b[0m\n\u001b[0;32m----> 9\u001b[0;31m \u001b[0mprint\u001b[0m\u001b[0;34m(\u001b[0m\u001b[0mgetattr\u001b[0m\u001b[0;34m(\u001b[0m\u001b[0mcls\u001b[0m\u001b[0;34m,\u001b[0m \u001b[0;34m'some_attr'\u001b[0m\u001b[0;34m)\u001b[0m\u001b[0;34m)\u001b[0m\u001b[0;34m\u001b[0m\u001b[0;34m\u001b[0m\u001b[0m\n\u001b[0m",
            "\u001b[0;31mAttributeError\u001b[0m: 'Cls' object has no attribute 'some_attr'"
          ]
        }
      ]
    },
    {
      "cell_type": "markdown",
      "metadata": {
        "id": "Jpu1hoCoMHyO"
      },
      "source": [
        "# Методы"
      ]
    },
    {
      "cell_type": "markdown",
      "metadata": {
        "id": "M0MUZmFFOg1J"
      },
      "source": [
        "### `Связанные методы`"
      ]
    },
    {
      "cell_type": "markdown",
      "metadata": {
        "id": "coxgdScuPFRR"
      },
      "source": [
        "Связанные методы экземпляра - пара self + функция.\n",
        "\n",
        "Попытка обращения к функциональному атрибуту класса через имя экземпляра возвращает объект связанного метода. Интерпретатор автоматически упаковывает экземпляр с функцией в объект связанного метода, поэтому вам не требуется передавать экземпляр в вызов такого метода."
      ]
    },
    {
      "cell_type": "code",
      "metadata": {
        "colab": {
          "base_uri": "https://localhost:8080/"
        },
        "id": "o1K-MoVLRQFF",
        "outputId": "6f0dfbe7-9edb-42d6-b354-8c70d1bf1f49"
      },
      "source": [
        "class Spam:\n",
        "    def doit(self, message):\n",
        "        print(message)\n",
        "\n",
        "object1 = Spam()\n",
        "object1.doit('hello world')"
      ],
      "execution_count": 8,
      "outputs": [
        {
          "output_type": "stream",
          "name": "stdout",
          "text": [
            "hello world\n"
          ]
        }
      ]
    },
    {
      "cell_type": "markdown",
      "metadata": {
        "id": "QAV7mbxQRTh2"
      },
      "source": [
        "Создается объект связанного метода object1.doit, в который упакованы вместе экземпляр object1 и метод Spam.doit"
      ]
    },
    {
      "cell_type": "markdown",
      "metadata": {
        "id": "-c-ED2_ORba0"
      },
      "source": [
        "Можно присвоить этот объект переменной и использовать переменную для вызова как простую функцию:"
      ]
    },
    {
      "cell_type": "code",
      "metadata": {
        "colab": {
          "base_uri": "https://localhost:8080/"
        },
        "id": "rLvVl3x_RdaP",
        "outputId": "87d4f800-6037-4bb4-af8c-87d2fb840b91"
      },
      "source": [
        "x = object1.doit    # Объект связанного метода: экземпляр + функция\n",
        "print(repr(x))\n",
        "\n",
        "x('hello world')    # То же, что и object1.doit('...')"
      ],
      "execution_count": 9,
      "outputs": [
        {
          "output_type": "stream",
          "name": "stdout",
          "text": [
            "<bound method Spam.doit of <__main__.Spam object at 0x7f18973fc0d0>>\n",
            "hello world\n"
          ]
        }
      ]
    },
    {
      "cell_type": "markdown",
      "metadata": {
        "id": "lFMQBJnUOlS2"
      },
      "source": [
        "### `Несвязанные методы (в прежнем виде нет, есть function)`"
      ]
    },
    {
      "cell_type": "markdown",
      "metadata": {
        "id": "lkN2viogjkwK"
      },
      "source": [
        "https://riptutorial.com/python/example/1401/bound--unbound--and-static-methods"
      ]
    },
    {
      "cell_type": "markdown",
      "metadata": {
        "id": "VboLBpjMRjIk"
      },
      "source": [
        "Вызовем метод через имя класса:"
      ]
    },
    {
      "cell_type": "code",
      "metadata": {
        "colab": {
          "base_uri": "https://localhost:8080/"
        },
        "id": "IqeOkMldRueT",
        "outputId": "df81dcd3-0be8-4b11-c32b-ad295779efa0"
      },
      "source": [
        "object1 = Spam()\n",
        "t = Spam.doit # раньше - объект несвязанного метода <unbound method Spam.doit> (in Python 2.x), \n",
        "              # сейчас просто function object <function __main__.Spam.doit>\n",
        "print(repr(t))\n",
        "\n",
        "t(object1, 'howdy') # Передать экземпляр в первый аргумент"
      ],
      "execution_count": 10,
      "outputs": [
        {
          "output_type": "stream",
          "name": "stdout",
          "text": [
            "<function Spam.doit at 0x7f1897451320>\n",
            "howdy\n"
          ]
        }
      ]
    },
    {
      "cell_type": "markdown",
      "metadata": {
        "id": "EZIpG1fxTy2V"
      },
      "source": [
        "# `__dict__`\n",
        "\n",
        "\n",
        "- Для большого числа типов в Python определена переменная-словарь `__dict__`\n",
        "- Она содержит атрибуты, специфичные для данного объекта (не его класса и не его родителей)\n",
        "- Множество элементов `__dict__` является подмножеством элементов, возвращаемых функцией `dir()`"
      ]
    },
    {
      "cell_type": "code",
      "metadata": {
        "id": "3ZywT-m_Ty2V",
        "colab": {
          "base_uri": "https://localhost:8080/",
          "height": 282
        },
        "outputId": "aabf6d95-df34-4bb2-cf23-e2ae8fe9c91d"
      },
      "source": [
        "class A: pass\n",
        "\n",
        "print(set(A.__dict__.keys()).issubset(set(dir(A))))\n",
        "\n",
        "print(set(dir(A)))\n",
        "print(set(A.__dict__.keys()))\n",
        "\n",
        "\n",
        "[].__dict__"
      ],
      "execution_count": 11,
      "outputs": [
        {
          "output_type": "stream",
          "name": "stdout",
          "text": [
            "True\n",
            "{'__module__', '__ne__', '__reduce__', '__lt__', '__repr__', '__class__', '__delattr__', '__dir__', '__getattribute__', '__setattr__', '__format__', '__sizeof__', '__str__', '__init__', '__doc__', '__new__', '__gt__', '__hash__', '__subclasshook__', '__reduce_ex__', '__le__', '__init_subclass__', '__ge__', '__weakref__', '__dict__', '__eq__'}\n",
            "{'__dict__', '__module__', '__weakref__', '__doc__'}\n"
          ]
        },
        {
          "output_type": "error",
          "ename": "AttributeError",
          "evalue": "ignored",
          "traceback": [
            "\u001b[0;31m---------------------------------------------------------------------------\u001b[0m",
            "\u001b[0;31mAttributeError\u001b[0m                            Traceback (most recent call last)",
            "\u001b[0;32m<ipython-input-11-9afaeb420059>\u001b[0m in \u001b[0;36m<module>\u001b[0;34m()\u001b[0m\n\u001b[1;32m      7\u001b[0m \u001b[0;34m\u001b[0m\u001b[0m\n\u001b[1;32m      8\u001b[0m \u001b[0;34m\u001b[0m\u001b[0m\n\u001b[0;32m----> 9\u001b[0;31m \u001b[0;34m[\u001b[0m\u001b[0;34m]\u001b[0m\u001b[0;34m.\u001b[0m\u001b[0m__dict__\u001b[0m\u001b[0;34m\u001b[0m\u001b[0;34m\u001b[0m\u001b[0m\n\u001b[0m",
            "\u001b[0;31mAttributeError\u001b[0m: 'list' object has no attribute '__dict__'"
          ]
        }
      ]
    },
    {
      "cell_type": "markdown",
      "metadata": {
        "id": "zSOVpfRzMHyk"
      },
      "source": [
        "# `__slots__`"
      ]
    },
    {
      "cell_type": "code",
      "metadata": {
        "collapsed": true,
        "id": "_ikPHKBrMHyk"
      },
      "source": [
        "class TimeInterval:\n",
        "    __slots__ = ['_begin', '_end']\n",
        "    \n",
        "    def __init__(self, begin, end):\n",
        "        self._begin = begin\n",
        "        self._end = end\n",
        "        \n",
        "    def get_length(self):\n",
        "        return self._end - self._begin"
      ],
      "execution_count": 12,
      "outputs": []
    },
    {
      "cell_type": "code",
      "metadata": {
        "id": "Jrbps2yiMHyk",
        "colab": {
          "base_uri": "https://localhost:8080/",
          "height": 207
        },
        "outputId": "a39f6e57-b937-4729-de53-4c5e6b022d1d"
      },
      "source": [
        "from datetime import datetime\n",
        "interval = TimeInterval(datetime(2018, 1, 1), datetime(2018, 1, 2))\n",
        "interval.xxx = 123"
      ],
      "execution_count": 13,
      "outputs": [
        {
          "output_type": "error",
          "ename": "AttributeError",
          "evalue": "ignored",
          "traceback": [
            "\u001b[0;31m---------------------------------------------------------------------------\u001b[0m",
            "\u001b[0;31mAttributeError\u001b[0m                            Traceback (most recent call last)",
            "\u001b[0;32m<ipython-input-13-52c33010e10e>\u001b[0m in \u001b[0;36m<module>\u001b[0;34m()\u001b[0m\n\u001b[1;32m      1\u001b[0m \u001b[0;32mfrom\u001b[0m \u001b[0mdatetime\u001b[0m \u001b[0;32mimport\u001b[0m \u001b[0mdatetime\u001b[0m\u001b[0;34m\u001b[0m\u001b[0;34m\u001b[0m\u001b[0m\n\u001b[1;32m      2\u001b[0m \u001b[0minterval\u001b[0m \u001b[0;34m=\u001b[0m \u001b[0mTimeInterval\u001b[0m\u001b[0;34m(\u001b[0m\u001b[0mdatetime\u001b[0m\u001b[0;34m(\u001b[0m\u001b[0;36m2018\u001b[0m\u001b[0;34m,\u001b[0m \u001b[0;36m1\u001b[0m\u001b[0;34m,\u001b[0m \u001b[0;36m1\u001b[0m\u001b[0;34m)\u001b[0m\u001b[0;34m,\u001b[0m \u001b[0mdatetime\u001b[0m\u001b[0;34m(\u001b[0m\u001b[0;36m2018\u001b[0m\u001b[0;34m,\u001b[0m \u001b[0;36m1\u001b[0m\u001b[0;34m,\u001b[0m \u001b[0;36m2\u001b[0m\u001b[0;34m)\u001b[0m\u001b[0;34m)\u001b[0m\u001b[0;34m\u001b[0m\u001b[0;34m\u001b[0m\u001b[0m\n\u001b[0;32m----> 3\u001b[0;31m \u001b[0minterval\u001b[0m\u001b[0;34m.\u001b[0m\u001b[0mxxx\u001b[0m \u001b[0;34m=\u001b[0m \u001b[0;36m123\u001b[0m\u001b[0;34m\u001b[0m\u001b[0;34m\u001b[0m\u001b[0m\n\u001b[0m",
            "\u001b[0;31mAttributeError\u001b[0m: 'TimeInterval' object has no attribute 'xxx'"
          ]
        }
      ]
    },
    {
      "cell_type": "markdown",
      "metadata": {
        "id": "Op7hme6QWrWT"
      },
      "source": [
        "# Методы экземпляра класса, методы класса, статические методы"
      ]
    },
    {
      "cell_type": "code",
      "metadata": {
        "id": "xIZRUPxAWqHS"
      },
      "source": [
        "class ToyClass:\n",
        "    def instancemethod(self):\n",
        "        return 'instance method called', self\n",
        "    \n",
        "    @classmethod\n",
        "    def classmethod(cls):\n",
        "        return 'class method called', cls\n",
        "    @staticmethod\n",
        "    def staticmethod():\n",
        "        return 'static method called'"
      ],
      "execution_count": 14,
      "outputs": []
    },
    {
      "cell_type": "markdown",
      "metadata": {
        "id": "vmMhydODXjVf"
      },
      "source": [
        "### `Методы экземпляра класса`"
      ]
    },
    {
      "cell_type": "markdown",
      "metadata": {
        "id": "P-kZN3hVXnvw"
      },
      "source": [
        "Это наиболее часто используемый вид методов. Методы экземпляра класса принимают объект класса как первый аргумент, который принято называть self и который указывает на сам экземпляр. Количество параметров метода не ограничено.\n",
        "Используя параметр self , мы можем менять состояние объекта и обращаться к другим его методам и параметрам. К тому же, используя атрибут `self.__class__` , мы получаем доступ к атрибутам класса и возможности менять состояние самого класса. То есть методы экземпляров класса позволяют менять как состояние определённого объекта, так и класса."
      ]
    },
    {
      "cell_type": "code",
      "metadata": {
        "colab": {
          "base_uri": "https://localhost:8080/",
          "height": 35
        },
        "id": "rVPxCUFvXsn6",
        "outputId": "eb0cd3ed-2da4-4206-d4a9-5877f9af0889"
      },
      "source": [
        "\"welcome\".upper()   # <- вызывается на строковых данных"
      ],
      "execution_count": 15,
      "outputs": [
        {
          "output_type": "execute_result",
          "data": {
            "application/vnd.google.colaboratory.intrinsic+json": {
              "type": "string"
            },
            "text/plain": [
              "'WELCOME'"
            ]
          },
          "metadata": {},
          "execution_count": 15
        }
      ]
    },
    {
      "cell_type": "markdown",
      "metadata": {
        "id": "E3D9Oh7JXFWe"
      },
      "source": [
        "### `Методы класса`"
      ]
    },
    {
      "cell_type": "markdown",
      "metadata": {
        "id": "p5ChNQEmXK3j"
      },
      "source": [
        "Методы класса привязаны к самому классу, а не его экземпляру. Они могут менять состояние класса, что отразится на всех объектах этого класса, но не могут менять конкретный объект."
      ]
    },
    {
      "cell_type": "code",
      "metadata": {
        "id": "NssaJ1FNXUdR",
        "colab": {
          "base_uri": "https://localhost:8080/"
        },
        "outputId": "bc666813-d3f0-445b-d374-a88fc6b6bb74"
      },
      "source": [
        "dict.fromkeys('AEIOU')  # <- вызывается при помощи класса dict"
      ],
      "execution_count": 16,
      "outputs": [
        {
          "output_type": "execute_result",
          "data": {
            "text/plain": [
              "{'A': None, 'E': None, 'I': None, 'O': None, 'U': None}"
            ]
          },
          "metadata": {},
          "execution_count": 16
        }
      ]
    },
    {
      "cell_type": "markdown",
      "metadata": {
        "id": "_uBPgb_-XZXH"
      },
      "source": [
        "### `Статические методы`"
      ]
    },
    {
      "cell_type": "markdown",
      "metadata": {
        "id": "u-iZcFo2XcpI"
      },
      "source": [
        "Статические методы декларируются при помощи декоратора staticmethod. Им не нужен определенный первый аргумент (ни self, ни cls).\n",
        "Их можно воспринимать как методы, которые “не знают, к какому классу относятся”.\n",
        "Таким образом, статические методы прикреплены к классу лишь для удобства и не могут менять состояние ни класса, ни его экземпляра."
      ]
    },
    {
      "cell_type": "code",
      "metadata": {
        "id": "r0Wvs_S4c9HB",
        "colab": {
          "base_uri": "https://localhost:8080/"
        },
        "outputId": "d0f037a1-bb12-4a10-f569-4b1f496bfa1d"
      },
      "source": [
        "from datetime import date\n",
        "class Person:\n",
        "    def __init__(self, name, age):\n",
        "        self.name = name\n",
        "        self.age = age\n",
        "    @classmethod\n",
        "    def from_birth_year(cls, name, year):\n",
        "        return cls(name, date.today().year - year)\n",
        "    @staticmethod\n",
        "    def is_adult(age):\n",
        "        return age > 18\n",
        "\n",
        "\n",
        "person1 = Person('Sarah', 25)\n",
        "person2 = Person.from_birth_year('Roark', 1994)\n",
        "\n",
        "person1.name, person1.age\n",
        "#Sarah 25\n",
        "person2.name, person2.age\n",
        "#Roark 24\n",
        "Person.is_adult(25)\n",
        "#True"
      ],
      "execution_count": 17,
      "outputs": [
        {
          "output_type": "execute_result",
          "data": {
            "text/plain": [
              "True"
            ]
          },
          "metadata": {},
          "execution_count": 17
        }
      ]
    },
    {
      "cell_type": "markdown",
      "metadata": {
        "id": "IXuiQtrUcjgu"
      },
      "source": [
        "Чаще всего метод класса используется тогда, когда нужен генерирующий метод, возвращающий объект класса. Как видим, метод класса from_birth_year используется для создания объекта класса Person по году рождения, а не возрасту.\n",
        "Статические методы в основном используются как вспомогательные функции и работают с данными, которые им передаются."
      ]
    },
    {
      "cell_type": "markdown",
      "metadata": {
        "id": "jGkYQLntcn6e"
      },
      "source": [
        "Методы экземпляра класса получают доступ к объекту класса через параметр self и к классу через `self.__class__`.\n",
        "Методы класса не могут получить доступ к определенному объекту класса, но имеют доступ к самому классу через cls.\n",
        "Статические методы работают как обычные функции, но принадлежат области имен класса. Они не имеют доступа ни к самому классу, ни к его экземплярам."
      ]
    },
    {
      "cell_type": "markdown",
      "metadata": {
        "id": "FUcaGuGtMHyW"
      },
      "source": [
        "# Свойства, декоратор @property"
      ]
    },
    {
      "cell_type": "code",
      "metadata": {
        "id": "C9N2Tz96ob3l"
      },
      "source": [
        "class Person:\n",
        "    def __init__(self, name, surname):\n",
        "        self.name = name\n",
        "        self.surname = surname"
      ],
      "execution_count": 18,
      "outputs": []
    },
    {
      "cell_type": "code",
      "metadata": {
        "id": "nfDbHzS7pDY-",
        "colab": {
          "base_uri": "https://localhost:8080/",
          "height": 35
        },
        "outputId": "d289e4c7-3fd6-4592-aad2-249fbe0b50e7"
      },
      "source": [
        "class Person:\n",
        "    def __init__(self, name, surname):\n",
        "        self.name = name\n",
        "        self.surname = surname\n",
        "        \n",
        "    @property\n",
        "    def full_name(self):\n",
        "        return self.name + ' ' + self.surname\n",
        "\n",
        "tom = Person('Thomas', 'Smith')\n",
        "tom.full_name\n",
        "# 'Thomas Smith'"
      ],
      "execution_count": 19,
      "outputs": [
        {
          "output_type": "execute_result",
          "data": {
            "application/vnd.google.colaboratory.intrinsic+json": {
              "type": "string"
            },
            "text/plain": [
              "'Thomas Smith'"
            ]
          },
          "metadata": {},
          "execution_count": 19
        }
      ]
    },
    {
      "cell_type": "code",
      "metadata": {
        "id": "3VqI82qgpIoh",
        "colab": {
          "base_uri": "https://localhost:8080/",
          "height": 35
        },
        "outputId": "c31a6ca8-d433-40ac-8b1a-9780abcb1b94"
      },
      "source": [
        "tom.name = 'Alice'\n",
        "tom.full_name\n",
        "# 'Alice Smith'"
      ],
      "execution_count": 20,
      "outputs": [
        {
          "output_type": "execute_result",
          "data": {
            "application/vnd.google.colaboratory.intrinsic+json": {
              "type": "string"
            },
            "text/plain": [
              "'Alice Smith'"
            ]
          },
          "metadata": {},
          "execution_count": 20
        }
      ]
    },
    {
      "cell_type": "code",
      "metadata": {
        "id": "Qm5xNsLgpKwx"
      },
      "source": [
        "class Person:\n",
        "    def __init__(self, name, surname):\n",
        "        self.name = name\n",
        "        self.surname = surname\n",
        "\n",
        "    @property\n",
        "    def full_name(self):\n",
        "        return self.name + ' ' + self.surname\n",
        "\n",
        "    # сеттер для свойства full_name\n",
        "    @full_name.setter\n",
        "    def full_name(self, new):\n",
        "        self.name, self.surname = new.split(' ')"
      ],
      "execution_count": 21,
      "outputs": []
    },
    {
      "cell_type": "code",
      "metadata": {
        "id": "YWYeU1B3pMz0",
        "colab": {
          "base_uri": "https://localhost:8080/",
          "height": 35
        },
        "outputId": "10c0dc92-c3a1-44f7-cead-fed257b4bd4a"
      },
      "source": [
        "tom = Person('Thomas', 'Smith')\n",
        "tom.full_name\n",
        "# 'Thomas Smith'\n",
        "\n",
        "tom.full_name = 'Alice Cooper'\n",
        "tom.name\n",
        "# 'Alice'\n",
        "\n",
        "tom.surname\n",
        "# 'Cooper'"
      ],
      "execution_count": 22,
      "outputs": [
        {
          "output_type": "execute_result",
          "data": {
            "application/vnd.google.colaboratory.intrinsic+json": {
              "type": "string"
            },
            "text/plain": [
              "'Cooper'"
            ]
          },
          "metadata": {},
          "execution_count": 22
        }
      ]
    },
    {
      "cell_type": "markdown",
      "metadata": {
        "id": "9pAbHPKvqpHr"
      },
      "source": [
        "```python\n",
        "property(fget=None, fset=None, fdel=None, doc=None)\n",
        "\n",
        "def get_full_name(self):\n",
        "    ...\n",
        "\n",
        "def set_full_name(self, new):\n",
        "    ...\n",
        "\n",
        "class Person:\n",
        "    ...\n",
        "    full_name = property(\n",
        "        fget=get_full_name,\n",
        "        fset=set_full_name,\n",
        "        doc='A full name of person'\n",
        "    )\n",
        "```"
      ]
    },
    {
      "cell_type": "markdown",
      "metadata": {
        "collapsed": true,
        "id": "2s1-nTZrMHyZ"
      },
      "source": [
        "# Наследование"
      ]
    },
    {
      "cell_type": "code",
      "metadata": {
        "id": "YpmWyfqSTy2b",
        "colab": {
          "base_uri": "https://localhost:8080/"
        },
        "outputId": "fc14d21b-e75d-487f-ba20-572a9129b7b7"
      },
      "source": [
        "class Parent:\n",
        "    def __init__(self):\n",
        "        self.value = 10\n",
        "    \n",
        "    def get_value(self):\n",
        "        return self.value\n",
        "\n",
        "class Child(Parent):\n",
        "    pass\n",
        "\n",
        "class NewChild(Parent):\n",
        "    def __init__(self):\n",
        "        super().__init__()  # without it we will not have `value` field\n",
        "        self.new_value = 20\n",
        "    \n",
        "print(Parent().get_value(), Child().get_value(), NewChild().get_value())\n",
        "\n",
        "print(Child().__dict__)\n",
        "print(NewChild().__dict__)"
      ],
      "execution_count": 23,
      "outputs": [
        {
          "output_type": "stream",
          "name": "stdout",
          "text": [
            "10 10 10\n",
            "{'value': 10}\n",
            "{'value': 10, 'new_value': 20}\n"
          ]
        }
      ]
    },
    {
      "cell_type": "markdown",
      "metadata": {
        "id": "U68ZHeiDTy2c"
      },
      "source": [
        "#Перегрузка родительских методов"
      ]
    },
    {
      "cell_type": "code",
      "metadata": {
        "id": "9dnKifgATy2c",
        "colab": {
          "base_uri": "https://localhost:8080/"
        },
        "outputId": "d153a015-3cac-4359-ab7a-657f18bf8973"
      },
      "source": [
        "class Parent:\n",
        "    def __init__(self, value):\n",
        "        self._value = value\n",
        "    \n",
        "    def get_value(self):\n",
        "        return self._value\n",
        "\n",
        "    def __str__(self):\n",
        "        return f'Value: {self._value}'\n",
        "\n",
        "class Child(Parent):\n",
        "    def __init__(self, value):\n",
        "        Parent.__init__(self, value)  # == super().__init__(value)\n",
        "\n",
        "    def get_value(self):\n",
        "        return Parent.get_value(self) * 2  # == super().get_value() * 2\n",
        "\n",
        "print(Parent(10).get_value())\n",
        "print(Child(10).get_value())\n",
        "print(Child(10)._value)\n",
        "print(Child(10))"
      ],
      "execution_count": 24,
      "outputs": [
        {
          "output_type": "stream",
          "name": "stdout",
          "text": [
            "10\n",
            "20\n",
            "10\n",
            "Value: 10\n"
          ]
        }
      ]
    },
    {
      "cell_type": "markdown",
      "metadata": {
        "id": "pHC4lNX9Ty2d"
      },
      "source": [
        "# Множественное наследование\n",
        "\n",
        "- Даёт возможность классу получить методы и свойства сразу нескольких предков<br><br>\n",
        "- Позволяет строить сложные иерархии зависимостей<br><br>\n",
        "- Использовать без необходимости не нужно, поскольку архитектура кода сильно усложняется<br><br>\n",
        "- В Python поддерживается без ограничений<br><br>\n",
        "- У класса может быть один и более предков (`object` есть всегда)"
      ]
    },
    {
      "cell_type": "markdown",
      "metadata": {
        "id": "JZtIRq1lTy2d"
      },
      "source": [
        "# Множественное наследование в Python\n",
        "- Методы и атрибуты ищутся в следующем порядке:<br><br>\n",
        "    1. имя ищется в объекте (т.е. в его `__dict__`)\n",
        "    2. дальше в классе объекта\n",
        "    3. дальше в предках класса<br><br>\n",
        "- Для поиска по предкам используется MRO (Method resolution order)<br><br>\n",
        "- У каждого класса в момент создания вычисляется этот порядок и сохраняется в атрибуте `__mro__`"
      ]
    },
    {
      "cell_type": "code",
      "metadata": {
        "id": "4hEfxNhjTy2d",
        "colab": {
          "base_uri": "https://localhost:8080/"
        },
        "outputId": "e50ac230-cbe3-4696-f954-9756ab920132"
      },
      "source": [
        "class A():\n",
        "    def method(self): return 'A'\n",
        "\n",
        "class B():\n",
        "    def method(self): return 'B'\n",
        "\n",
        "class C(A, B): pass\n",
        "\n",
        "print(C.__mro__)\n",
        "print(C().method())"
      ],
      "execution_count": 25,
      "outputs": [
        {
          "output_type": "stream",
          "name": "stdout",
          "text": [
            "(<class '__main__.C'>, <class '__main__.A'>, <class '__main__.B'>, <class 'object'>)\n",
            "A\n"
          ]
        }
      ]
    },
    {
      "cell_type": "markdown",
      "metadata": {
        "id": "RqULV9WJTy2e"
      },
      "source": [
        "# Вызов метода класса-родителя\n",
        "\n",
        "- В Python есть два способа обращения к родительским методам<br><br>\n",
        "    - через функцию `super` (использует порядок mro)\n",
        "    - напрямую по имени<br><br>"
      ]
    },
    {
      "cell_type": "code",
      "metadata": {
        "id": "A3WEVLtMTy2e",
        "colab": {
          "base_uri": "https://localhost:8080/"
        },
        "outputId": "72d178c3-26f8-4fa2-a15d-5f799af9051d"
      },
      "source": [
        "class A():\n",
        "    def method(self): return 'A'\n",
        "\n",
        "class B():\n",
        "    def method(self): return 'B'\n",
        "\n",
        "class C(A, B):\n",
        "    def method(self):\n",
        "        return (A.method(self), B.method(self), super().method())\n",
        "\n",
        "print(C.__mro__)\n",
        "print(C().method())"
      ],
      "execution_count": 26,
      "outputs": [
        {
          "output_type": "stream",
          "name": "stdout",
          "text": [
            "(<class '__main__.C'>, <class '__main__.A'>, <class '__main__.B'>, <class 'object'>)\n",
            "('A', 'B', 'A')\n"
          ]
        }
      ]
    },
    {
      "cell_type": "markdown",
      "metadata": {
        "id": "7lnuIHBrg0Ym"
      },
      "source": [
        "### `Интерфейсы`\n",
        "\n",
        "- На уровне языка интерфейсов нет\n",
        "- Это некритично в силу наличия множественного наследования\n",
        "- При этом эмулировать интерфейсы - хорошая практика"
      ]
    },
    {
      "cell_type": "code",
      "metadata": {
        "id": "VgvfliOKg0Ym",
        "colab": {
          "base_uri": "https://localhost:8080/"
        },
        "outputId": "304fb4be-30ae-4236-e114-800d597b7e9b"
      },
      "source": [
        "class Interface:\n",
        "    def get_value(self):\n",
        "        raise NotImplementedError\n",
        "\n",
        "class Cls(Interface):\n",
        "    def __init__(self, value):\n",
        "        self.value = value\n",
        "    \n",
        "    def get_value(self):\n",
        "        return self.value\n",
        "    \n",
        "print(Cls(10).get_value())\n",
        "# print(Interface().get_value())  # NotImplementedError"
      ],
      "execution_count": 43,
      "outputs": [
        {
          "output_type": "stream",
          "name": "stdout",
          "text": [
            "10\n"
          ]
        }
      ]
    },
    {
      "cell_type": "markdown",
      "metadata": {
        "id": "orlRM2IOg0Yn"
      },
      "source": [
        "# Полиморфизм\n",
        "\n",
        "- Полиморфизм позволяет работать с объектами, основываясь только на их интерфейсе, без знания типа<br><br>\n",
        "- В C++ требуется, чтобы объекты полиморфных классов имели общего предка<br><br>\n",
        "- В Python это не обязательно, достаточно, чтобы объекты поддерживали один интерфейс<br><br>\n",
        "- Такое поведение называется duck-typing<br><br>\n",
        "- Общий интерфейс в данной ситуации фиксирует протокол взаимодействия"
      ]
    },
    {
      "cell_type": "markdown",
      "metadata": {
        "id": "ZQXnurS9g0Yo"
      },
      "source": [
        "### `Полиморфизм: пример`"
      ]
    },
    {
      "cell_type": "code",
      "metadata": {
        "id": "VtuEdftig0Yo"
      },
      "source": [
        "class Figure:\n",
        "    def area(self):\n",
        "        raise NotImplementedError"
      ],
      "execution_count": 27,
      "outputs": []
    },
    {
      "cell_type": "code",
      "metadata": {
        "id": "J-EliNCsg0Yo"
      },
      "source": [
        "class Square(Figure):\n",
        "    def __init__(self, side):\n",
        "        self.side = side\n",
        "    \n",
        "    def area(self):\n",
        "        return self.side ** 2"
      ],
      "execution_count": 28,
      "outputs": []
    },
    {
      "cell_type": "code",
      "metadata": {
        "id": "DiwDs4RZg0Yo"
      },
      "source": [
        "import math\n",
        "\n",
        "class Circle(Figure):\n",
        "    def __init__(self, radius):\n",
        "        self.radius = radius\n",
        "    \n",
        "    def area(self):\n",
        "        return math.pi * self.radius ** 2"
      ],
      "execution_count": 29,
      "outputs": []
    },
    {
      "cell_type": "code",
      "metadata": {
        "id": "uSsRC3dqg0Yo"
      },
      "source": [
        "class Triangle(Figure):\n",
        "    def __init__(self, a, b, c):\n",
        "        self.a, self.b, self.c = a, b, c\n",
        "\n",
        "    def area(self):\n",
        "        s = (self.a + self.b + self.c) / 2.0\n",
        "        return (s *(s - self.a) * (s - self.b) * (s - self.c)) ** 0.5"
      ],
      "execution_count": 30,
      "outputs": []
    },
    {
      "cell_type": "markdown",
      "metadata": {
        "id": "y9gBre8Gg0Yp"
      },
      "source": [
        "### `Полиморфизм: пример`\n",
        "\n",
        "Теперь опишем функцию, которая ожидает объекты, реализующие `Figure`:"
      ]
    },
    {
      "cell_type": "code",
      "metadata": {
        "id": "v7iA2X3dg0Yp"
      },
      "source": [
        "def compute_areas(figures):\n",
        "    for figure in figures:\n",
        "        print(figure.area())"
      ],
      "execution_count": 31,
      "outputs": []
    },
    {
      "cell_type": "markdown",
      "metadata": {
        "id": "2LBZ4C6Wg0Yp"
      },
      "source": [
        "Можем запускать, не беспокоясь о том, что именно представляют собой входные объекты:"
      ]
    },
    {
      "cell_type": "code",
      "metadata": {
        "id": "rwhBh6qsg0Yp",
        "colab": {
          "base_uri": "https://localhost:8080/"
        },
        "outputId": "a892371d-e48f-488e-e927-563b48e1a99b"
      },
      "source": [
        "s = Square(10)\n",
        "c = Circle(5)\n",
        "t = Triangle(1, 3, 3)\n",
        "\n",
        "compute_areas([s, c, t])"
      ],
      "execution_count": 32,
      "outputs": [
        {
          "output_type": "stream",
          "name": "stdout",
          "text": [
            "100\n",
            "78.53981633974483\n",
            "1.479019945774904\n"
          ]
        }
      ]
    },
    {
      "cell_type": "markdown",
      "metadata": {
        "id": "sBg9Jwgtg0Yp"
      },
      "source": [
        "В Python можно обойтись и без наследования Figure, достаточно наличия метода `area` с нужным поведением"
      ]
    },
    {
      "cell_type": "markdown",
      "metadata": {
        "id": "MMqUOrIug6Hb"
      },
      "source": [
        "# Декораторы классов"
      ]
    },
    {
      "cell_type": "markdown",
      "metadata": {
        "id": "F6dPg9vLwmqP"
      },
      "source": [
        "### `Пример декоратора функции`\n",
        "\n",
        "Опишем декоратор, замеряющий время работы функции:"
      ]
    },
    {
      "cell_type": "code",
      "metadata": {
        "id": "mtMyh0QYwmqP"
      },
      "source": [
        "def timed(callable_obj):\n",
        "    import time\n",
        "\n",
        "    def __timed(*args, **kwargs):\n",
        "        time_start = time.time()\n",
        "        result = callable_obj(*args, **kwargs)\n",
        "        time_end = time.time()\n",
        "        \n",
        "        print('{}  {:.3f} ms'.format(callable_obj.__name__,\n",
        "                                     (time_end - time_start) * 1000))\n",
        "        return result\n",
        "\n",
        "    return __timed"
      ],
      "execution_count": 33,
      "outputs": []
    },
    {
      "cell_type": "code",
      "metadata": {
        "id": "JC240Y2jwmqP",
        "colab": {
          "base_uri": "https://localhost:8080/"
        },
        "outputId": "00b938f9-fdb6-4402-b34e-6cae7a02caa3"
      },
      "source": [
        "@timed\n",
        "def func():\n",
        "    for i in range(1000000):\n",
        "        pass\n",
        "func()"
      ],
      "execution_count": 34,
      "outputs": [
        {
          "output_type": "stream",
          "name": "stdout",
          "text": [
            "func  38.710 ms\n"
          ]
        }
      ]
    },
    {
      "cell_type": "markdown",
      "metadata": {
        "id": "yX8xRzF6wmqQ"
      },
      "source": [
        "### `Пример декоратора класса`\n",
        "\n",
        "Опишем декоратор класса, который получает на вход декоратор функции и оборачивает его вокруг каждого публичного метода класса:"
      ]
    },
    {
      "cell_type": "code",
      "metadata": {
        "id": "FRX_kR-6wmqQ"
      },
      "source": [
        "def decorate_class(decorator):\n",
        "    def _decorate(cls):\n",
        "        for f in cls.__dict__:\n",
        "            if callable(getattr(cls, f)) and not f.startswith(\"_\"):\n",
        "                setattr(cls, f, decorator(getattr(cls, f)))\n",
        "        return cls\n",
        "    return _decorate"
      ],
      "execution_count": 35,
      "outputs": []
    },
    {
      "cell_type": "code",
      "metadata": {
        "id": "rwjX4oaEwmqR",
        "colab": {
          "base_uri": "https://localhost:8080/"
        },
        "outputId": "74b34b2c-3cff-4178-9d61-4f16d359d4a4"
      },
      "source": [
        "@decorate_class(timed)\n",
        "class Cls:\n",
        "    a = 10\n",
        "    def method(self): pass\n",
        "    def _method_2(self): pass\n",
        "\n",
        "Cls().method()\n",
        "Cls().a  # not callable\n",
        "Cls()._method_2()  # not public"
      ],
      "execution_count": 36,
      "outputs": [
        {
          "output_type": "stream",
          "name": "stdout",
          "text": [
            "method  0.001 ms\n"
          ]
        }
      ]
    },
    {
      "cell_type": "markdown",
      "metadata": {
        "id": "ojf2IS6-wmqR"
      },
      "source": [
        "При определении класса производится вызов `decorate_class._decorate`, которая возвращает обновлённый класс."
      ]
    },
    {
      "cell_type": "markdown",
      "metadata": {
        "id": "uEDIt0rug_oK"
      },
      "source": [
        "# Магические методы"
      ]
    },
    {
      "cell_type": "markdown",
      "metadata": {
        "id": "peo6tCYYTy2X"
      },
      "source": [
        "### `Class magic methods`\n",
        "\n",
        "- Магические методы придают объекту класса определенные свойства\n",
        "\n",
        "- Такие методы вызываются интерпретатором неявно\n",
        "\n",
        "- Например, операторы - это магические методы<bf>\n",
        "\n",
        "Рассмотрим несколько примеров:"
      ]
    },
    {
      "cell_type": "code",
      "metadata": {
        "id": "AtDHR_SuTy2X",
        "colab": {
          "base_uri": "https://localhost:8080/"
        },
        "outputId": "73f20580-72d5-4993-d3b1-a830606d5018"
      },
      "source": [
        "class Cls:\n",
        "    def __init__(self):  # initialize object\n",
        "        self.name = 'Some class'\n",
        "    \n",
        "    def __repr__(self):  # str for printing object\n",
        "        return 'Class: {}'.format(self.name)\n",
        "    \n",
        "    def __call__(self, counter):  # call == operator() in C++\n",
        "        return self.name * counter\n",
        "\n",
        "cls = Cls()\n",
        "print(cls.__repr__())  # == print(cls)\n",
        "print(cls(2))"
      ],
      "execution_count": 37,
      "outputs": [
        {
          "output_type": "stream",
          "name": "stdout",
          "text": [
            "Class: Some class\n",
            "Some classSome class\n"
          ]
        }
      ]
    },
    {
      "cell_type": "markdown",
      "metadata": {
        "id": "87H7G3e1Ty2Y"
      },
      "source": [
        "### `Class magic methods`\n",
        "\n",
        "Еще примеры магических методов:"
      ]
    },
    {
      "cell_type": "code",
      "metadata": {
        "id": "Ckz334IkTy2Y"
      },
      "source": [
        "def __lt__(self, other): pass\n",
        "\n",
        "def __eq__(self, other): pass\n",
        "\n",
        "def __add__(self, other): pass\n",
        "\n",
        "def __mul__(self, value): pass\n",
        "\n",
        "def __int__(self): pass\n",
        "\n",
        "def __bool__(self): pass\n",
        "\n",
        "def __hash__(self): pass\n",
        "\n",
        "def __getitem__(self, index): pass\n",
        "\n",
        "def __setitem__(self, index, value): pass"
      ],
      "execution_count": 38,
      "outputs": []
    },
    {
      "cell_type": "markdown",
      "metadata": {
        "id": "fIOhlWffTy2Z"
      },
      "source": [
        "### `Как на самом деле устроен доступ к атрибутам`\n",
        "\n",
        "При работе с атрибутами вызываются магические методы `__getattr__`, `__getattribute__`, `__setattr__` и `__delattr__`:"
      ]
    },
    {
      "cell_type": "code",
      "metadata": {
        "id": "xRLCyfajTy2Z"
      },
      "source": [
        "class Cls:\n",
        "    def __setattr__(self, attr, value):\n",
        "        print(f'Create attr with name \"{attr}\" and value \"{value}\"')\n",
        "        self.__dict__[attr] = value\n",
        "\n",
        "    def __getattr__(self, attr):\n",
        "        print(f'WE WILL ENTER IT ONLY IN CASE OF ERROR!')\n",
        "        return self.__dict__[attr]\n",
        "\n",
        "    def __getattribute__(self, attr):\n",
        "        if not attr.startswith('__'):\n",
        "            print(f'Get value of attr with name \"{attr}\"')\n",
        "            \n",
        "        return super().__getattribute__(attr)  # call parent method implementation\n",
        "        \n",
        "    def __delattr__(self, attr):\n",
        "        print(f'Remove attr \"{attr}\" is impossible!')\n",
        "    "
      ],
      "execution_count": 39,
      "outputs": []
    },
    {
      "cell_type": "markdown",
      "metadata": {
        "id": "_cOzBGP4Ty2Z"
      },
      "source": [
        "### `Как на самом деле устроен доступ к атрибутам`"
      ]
    },
    {
      "cell_type": "code",
      "metadata": {
        "id": "0nooVaP-Ty2a",
        "colab": {
          "base_uri": "https://localhost:8080/",
          "height": 444
        },
        "outputId": "d0bca1a5-b564-4734-d49d-eae057625aa7"
      },
      "source": [
        "cls = Cls()\n",
        "\n",
        "cls.some_attr = 'some'\n",
        "a = cls.some_attr\n",
        "\n",
        "del cls.some_attr\n",
        "b = cls.some_attr\n",
        "cls.non_exists_attr"
      ],
      "execution_count": 40,
      "outputs": [
        {
          "output_type": "stream",
          "name": "stdout",
          "text": [
            "Create attr with name \"some_attr\" and value \"some\"\n",
            "Get value of attr with name \"some_attr\"\n",
            "Remove attr \"some_attr\" is impossible!\n",
            "Get value of attr with name \"some_attr\"\n",
            "Get value of attr with name \"non_exists_attr\"\n",
            "WE WILL ENTER IT ONLY IN CASE OF ERROR!\n"
          ]
        },
        {
          "output_type": "error",
          "ename": "KeyError",
          "evalue": "ignored",
          "traceback": [
            "\u001b[0;31m---------------------------------------------------------------------------\u001b[0m",
            "\u001b[0;31mKeyError\u001b[0m                                  Traceback (most recent call last)",
            "\u001b[0;32m<ipython-input-40-e2e4cd9a9b98>\u001b[0m in \u001b[0;36m<module>\u001b[0;34m()\u001b[0m\n\u001b[1;32m      6\u001b[0m \u001b[0;32mdel\u001b[0m \u001b[0mcls\u001b[0m\u001b[0;34m.\u001b[0m\u001b[0msome_attr\u001b[0m\u001b[0;34m\u001b[0m\u001b[0;34m\u001b[0m\u001b[0m\n\u001b[1;32m      7\u001b[0m \u001b[0mb\u001b[0m \u001b[0;34m=\u001b[0m \u001b[0mcls\u001b[0m\u001b[0;34m.\u001b[0m\u001b[0msome_attr\u001b[0m\u001b[0;34m\u001b[0m\u001b[0;34m\u001b[0m\u001b[0m\n\u001b[0;32m----> 8\u001b[0;31m \u001b[0mcls\u001b[0m\u001b[0;34m.\u001b[0m\u001b[0mnon_exists_attr\u001b[0m\u001b[0;34m\u001b[0m\u001b[0;34m\u001b[0m\u001b[0m\n\u001b[0m",
            "\u001b[0;32m<ipython-input-39-303001eee23f>\u001b[0m in \u001b[0;36m__getattr__\u001b[0;34m(self, attr)\u001b[0m\n\u001b[1;32m      6\u001b[0m     \u001b[0;32mdef\u001b[0m \u001b[0m__getattr__\u001b[0m\u001b[0;34m(\u001b[0m\u001b[0mself\u001b[0m\u001b[0;34m,\u001b[0m \u001b[0mattr\u001b[0m\u001b[0;34m)\u001b[0m\u001b[0;34m:\u001b[0m\u001b[0;34m\u001b[0m\u001b[0;34m\u001b[0m\u001b[0m\n\u001b[1;32m      7\u001b[0m         \u001b[0mprint\u001b[0m\u001b[0;34m(\u001b[0m\u001b[0;34mf'WE WILL ENTER IT ONLY IN CASE OF ERROR!'\u001b[0m\u001b[0;34m)\u001b[0m\u001b[0;34m\u001b[0m\u001b[0;34m\u001b[0m\u001b[0m\n\u001b[0;32m----> 8\u001b[0;31m         \u001b[0;32mreturn\u001b[0m \u001b[0mself\u001b[0m\u001b[0;34m.\u001b[0m\u001b[0m__dict__\u001b[0m\u001b[0;34m[\u001b[0m\u001b[0mattr\u001b[0m\u001b[0;34m]\u001b[0m\u001b[0;34m\u001b[0m\u001b[0;34m\u001b[0m\u001b[0m\n\u001b[0m\u001b[1;32m      9\u001b[0m \u001b[0;34m\u001b[0m\u001b[0m\n\u001b[1;32m     10\u001b[0m     \u001b[0;32mdef\u001b[0m \u001b[0m__getattribute__\u001b[0m\u001b[0;34m(\u001b[0m\u001b[0mself\u001b[0m\u001b[0;34m,\u001b[0m \u001b[0mattr\u001b[0m\u001b[0;34m)\u001b[0m\u001b[0;34m:\u001b[0m\u001b[0;34m\u001b[0m\u001b[0;34m\u001b[0m\u001b[0m\n",
            "\u001b[0;31mKeyError\u001b[0m: 'non_exists_attr'"
          ]
        }
      ]
    },
    {
      "cell_type": "markdown",
      "metadata": {
        "id": "XhBDfMLMTy2a"
      },
      "source": [
        "### `Магические методы и менеджер контекста`\n",
        "\n",
        "Менеджер контекста (оператор `with`) работает с двумя магическими методами:\n",
        "\n",
        "- `__enter__` - код, который нужно выполнить над объектом при входе в блок менеджера\n",
        "- `__exit__` - код, который нужно в любом случае выполнить при выходе из блока"
      ]
    },
    {
      "cell_type": "code",
      "metadata": {
        "id": "WvkKWXxuTy2b",
        "colab": {
          "base_uri": "https://localhost:8080/"
        },
        "outputId": "16cc26b5-c4bc-4048-b2bf-4424de2b8ecf"
      },
      "source": [
        "class SomeDataBaseDao:\n",
        "    def __init__(self): self._db = ()\n",
        "    \n",
        "    def append(self, value): self._db.append(value)\n",
        "    \n",
        "    def __enter__(self):\n",
        "        self._db = list(self._db)\n",
        "        print('Set DB to read-write mode')\n",
        "        return self\n",
        "\n",
        "    def __exit__(self, exception_type, exception_val, trace):\n",
        "        self._db = tuple(self._db)\n",
        "        print('Set DB to read-only mode')\n",
        "        return True\n",
        "\n",
        "dao = SomeDataBaseDao()\n",
        "#dao.append(1)  # AttributeError: 'tuple' object has no attribute 'append'\n",
        "with dao:\n",
        "    dao.append(1)\n",
        "print(dao._db)"
      ],
      "execution_count": 41,
      "outputs": [
        {
          "output_type": "stream",
          "name": "stdout",
          "text": [
            "Set DB to read-write mode\n",
            "Set DB to read-only mode\n",
            "(1,)\n"
          ]
        }
      ]
    }
  ]
}