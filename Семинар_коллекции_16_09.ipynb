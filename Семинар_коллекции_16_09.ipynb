{
  "nbformat": 4,
  "nbformat_minor": 0,
  "metadata": {
    "colab": {
      "name": "Семинар, коллекции, 16.09.ipynb",
      "provenance": [],
      "collapsed_sections": [],
      "authorship_tag": "ABX9TyM3M2jiCgFeu4r2IEEIS9R9",
      "include_colab_link": true
    },
    "kernelspec": {
      "name": "python3",
      "display_name": "Python 3"
    },
    "language_info": {
      "name": "python"
    }
  },
  "cells": [
    {
      "cell_type": "markdown",
      "metadata": {
        "id": "view-in-github",
        "colab_type": "text"
      },
      "source": [
        "<a href=\"https://colab.research.google.com/github/pythonkvs/seminars/blob/main/%D0%A1%D0%B5%D0%BC%D0%B8%D0%BD%D0%B0%D1%80_%D0%BA%D0%BE%D0%BB%D0%BB%D0%B5%D0%BA%D1%86%D0%B8%D0%B8_16_09.ipynb\" target=\"_parent\"><img src=\"https://colab.research.google.com/assets/colab-badge.svg\" alt=\"Open In Colab\"/></a>"
      ]
    },
    {
      "cell_type": "markdown",
      "metadata": {
        "id": "op0jAnR7ElwW"
      },
      "source": [
        "# Структуры данных"
      ]
    },
    {
      "cell_type": "code",
      "metadata": {
        "id": "2PAwjRssElwi",
        "colab": {
          "base_uri": "https://localhost:8080/"
        },
        "outputId": "3f4c5ee8-ae4d-4d58-8105-95dc2839d85f"
      },
      "source": [
        "# built-in структуры данных\n",
        "list, tuple, dict, set, frozenset"
      ],
      "execution_count": 1,
      "outputs": [
        {
          "output_type": "execute_result",
          "data": {
            "text/plain": [
              "(list, tuple, dict, set, frozenset)"
            ]
          },
          "metadata": {},
          "execution_count": 1
        }
      ]
    },
    {
      "cell_type": "markdown",
      "metadata": {
        "id": "FGjpY_skElwj"
      },
      "source": [
        "## Список: list"
      ]
    },
    {
      "cell_type": "markdown",
      "metadata": {
        "id": "gOZlyKoGElwk"
      },
      "source": [
        "Позволяет хранить последовательность элементов одного или разных типов с сохранением порядка добавления элементов в список."
      ]
    },
    {
      "cell_type": "code",
      "metadata": {
        "id": "OcLylIQyFMCN",
        "colab": {
          "base_uri": "https://localhost:8080/"
        },
        "outputId": "18eb92f9-0dc3-448a-e50d-b0185f76cb50"
      },
      "source": [
        "lst = [1, None, 'qwerty']\n",
        "list([1, None, 'qwerty']) == lst  # list() gets any iterable object as input"
      ],
      "execution_count": 2,
      "outputs": [
        {
          "output_type": "execute_result",
          "data": {
            "text/plain": [
              "True"
            ]
          },
          "metadata": {},
          "execution_count": 2
        }
      ]
    },
    {
      "cell_type": "code",
      "metadata": {
        "id": "EK15XcYOFMCO",
        "colab": {
          "base_uri": "https://localhost:8080/"
        },
        "outputId": "8ff390bb-4d80-4108-d92f-0b606db2289d"
      },
      "source": [
        "lst[0] = [10, 20]\n",
        "lst"
      ],
      "execution_count": 3,
      "outputs": [
        {
          "output_type": "execute_result",
          "data": {
            "text/plain": [
              "[[10, 20], None, 'qwerty']"
            ]
          },
          "metadata": {},
          "execution_count": 3
        }
      ]
    },
    {
      "cell_type": "markdown",
      "metadata": {
        "id": "ttUKdnhdFMCO"
      },
      "source": [
        "- элементы могут быть произвольного типа\n",
        "- сам список является изменяемым типом"
      ]
    },
    {
      "cell_type": "markdown",
      "metadata": {
        "id": "Z-ATUwMgFMCO"
      },
      "source": [
        "\n",
        "### `Операции над списками`"
      ]
    },
    {
      "cell_type": "code",
      "metadata": {
        "id": "l4VuVr-EFMCO",
        "colab": {
          "base_uri": "https://localhost:8080/"
        },
        "outputId": "1743e8c7-027a-4a82-d51f-33608fd716e4"
      },
      "source": [
        "len(lst)"
      ],
      "execution_count": 4,
      "outputs": [
        {
          "output_type": "execute_result",
          "data": {
            "text/plain": [
              "3"
            ]
          },
          "metadata": {},
          "execution_count": 4
        }
      ]
    },
    {
      "cell_type": "code",
      "metadata": {
        "id": "y1WBJPlCFMCO",
        "colab": {
          "base_uri": "https://localhost:8080/"
        },
        "outputId": "7b3230e7-b47f-4f11-e3cf-e60c369a5bca"
      },
      "source": [
        "type(lst)"
      ],
      "execution_count": 5,
      "outputs": [
        {
          "output_type": "execute_result",
          "data": {
            "text/plain": [
              "list"
            ]
          },
          "metadata": {},
          "execution_count": 5
        }
      ]
    },
    {
      "cell_type": "code",
      "metadata": {
        "id": "gvH_pKx-FMCO",
        "colab": {
          "base_uri": "https://localhost:8080/",
          "height": 35
        },
        "outputId": "02c6c859-6f3e-48c8-cf3f-ffbab9f6eae0"
      },
      "source": [
        "lst[-1]"
      ],
      "execution_count": 6,
      "outputs": [
        {
          "output_type": "execute_result",
          "data": {
            "application/vnd.google.colaboratory.intrinsic+json": {
              "type": "string"
            },
            "text/plain": [
              "'qwerty'"
            ]
          },
          "metadata": {},
          "execution_count": 6
        }
      ]
    },
    {
      "cell_type": "code",
      "metadata": {
        "id": "LZRRtXwtFMCP",
        "colab": {
          "base_uri": "https://localhost:8080/"
        },
        "outputId": "e60bda7d-fff7-4d79-d646-b1ae4c730bed"
      },
      "source": [
        "lst[: 100]  # slice bounds can be exceed real ones"
      ],
      "execution_count": 7,
      "outputs": [
        {
          "output_type": "execute_result",
          "data": {
            "text/plain": [
              "[[10, 20], None, 'qwerty']"
            ]
          },
          "metadata": {},
          "execution_count": 7
        }
      ]
    },
    {
      "cell_type": "code",
      "metadata": {
        "id": "9jcE7j2gFMCP",
        "colab": {
          "base_uri": "https://localhost:8080/",
          "height": 171
        },
        "outputId": "3b98c962-9597-4c29-9708-71734a163f36"
      },
      "source": [
        "lst[5]"
      ],
      "execution_count": 8,
      "outputs": [
        {
          "output_type": "error",
          "ename": "IndexError",
          "evalue": "ignored",
          "traceback": [
            "\u001b[0;31m---------------------------------------------------------------------------\u001b[0m",
            "\u001b[0;31mIndexError\u001b[0m                                Traceback (most recent call last)",
            "\u001b[0;32m<ipython-input-8-843c5cb805fc>\u001b[0m in \u001b[0;36m<module>\u001b[0;34m()\u001b[0m\n\u001b[0;32m----> 1\u001b[0;31m \u001b[0mlst\u001b[0m\u001b[0;34m[\u001b[0m\u001b[0;36m5\u001b[0m\u001b[0;34m]\u001b[0m\u001b[0;34m\u001b[0m\u001b[0;34m\u001b[0m\u001b[0m\n\u001b[0m",
            "\u001b[0;31mIndexError\u001b[0m: list index out of range"
          ]
        }
      ]
    },
    {
      "cell_type": "code",
      "metadata": {
        "id": "gSyEjbFXFMCP",
        "colab": {
          "base_uri": "https://localhost:8080/"
        },
        "outputId": "fead85aa-21ba-40e7-8825-3e427467cb96"
      },
      "source": [
        "lst = [1, 2, 3]\n",
        "lst.append(4)\n",
        "lst"
      ],
      "execution_count": 9,
      "outputs": [
        {
          "output_type": "execute_result",
          "data": {
            "text/plain": [
              "[1, 2, 3, 4]"
            ]
          },
          "metadata": {},
          "execution_count": 9
        }
      ]
    },
    {
      "cell_type": "code",
      "metadata": {
        "id": "3PBDT17zFMCP",
        "colab": {
          "base_uri": "https://localhost:8080/"
        },
        "outputId": "49177c58-8915-49f2-f0c7-5342ae15241f"
      },
      "source": [
        "print(lst.pop(), lst)"
      ],
      "execution_count": 10,
      "outputs": [
        {
          "output_type": "stream",
          "name": "stdout",
          "text": [
            "4 [1, 2, 3]\n"
          ]
        }
      ]
    },
    {
      "cell_type": "code",
      "metadata": {
        "id": "Tmz5VaaxFMCP",
        "colab": {
          "base_uri": "https://localhost:8080/"
        },
        "outputId": "874aaaba-f22a-4471-edf5-50f72f1cdd35"
      },
      "source": [
        "lst.sort(reverse=True)  # equals to lst.reverse()\n",
        "lst"
      ],
      "execution_count": 11,
      "outputs": [
        {
          "output_type": "execute_result",
          "data": {
            "text/plain": [
              "[3, 2, 1]"
            ]
          },
          "metadata": {},
          "execution_count": 11
        }
      ]
    },
    {
      "cell_type": "code",
      "metadata": {
        "id": "mGsdSPWcFMCQ",
        "colab": {
          "base_uri": "https://localhost:8080/"
        },
        "outputId": "16c9c7ef-e1de-452b-8fc5-288a89fdebeb"
      },
      "source": [
        "lst * 2"
      ],
      "execution_count": 12,
      "outputs": [
        {
          "output_type": "execute_result",
          "data": {
            "text/plain": [
              "[3, 2, 1, 3, 2, 1]"
            ]
          },
          "metadata": {},
          "execution_count": 12
        }
      ]
    },
    {
      "cell_type": "code",
      "metadata": {
        "id": "AUoClvQmFMCQ",
        "colab": {
          "base_uri": "https://localhost:8080/"
        },
        "outputId": "5bb96cd1-b7c1-47da-99ae-14ffca8bf06f"
      },
      "source": [
        "lst + list('abc')"
      ],
      "execution_count": 13,
      "outputs": [
        {
          "output_type": "execute_result",
          "data": {
            "text/plain": [
              "[3, 2, 1, 'a', 'b', 'c']"
            ]
          },
          "metadata": {},
          "execution_count": 13
        }
      ]
    },
    {
      "cell_type": "markdown",
      "metadata": {
        "id": "Ja5U92N7FMCQ"
      },
      "source": [
        "### `Списковые включения и генераторы списков`"
      ]
    },
    {
      "cell_type": "code",
      "metadata": {
        "id": "JFSHXsWpFMCQ",
        "colab": {
          "base_uri": "https://localhost:8080/"
        },
        "outputId": "0efd69a7-61f3-4174-b472-b8358a3b05c7"
      },
      "source": [
        "[x ** 2 for x in [1, 2, 3] if x > 1]  # list comprehension"
      ],
      "execution_count": 14,
      "outputs": [
        {
          "output_type": "execute_result",
          "data": {
            "text/plain": [
              "[4, 9]"
            ]
          },
          "metadata": {},
          "execution_count": 14
        }
      ]
    },
    {
      "cell_type": "code",
      "metadata": {
        "id": "CwuYhesfFMCQ",
        "colab": {
          "base_uri": "https://localhost:8080/"
        },
        "outputId": "521c4873-2012-4b20-d9c2-be62a48e81d3"
      },
      "source": [
        "lst = [x ** 2 for x in [1, 2, 3] if x > 1]\n",
        "print(type(lst))\n",
        "\n",
        "for _ in [1, 2]:  # _ means value we really don't need\n",
        "    for e in lst:\n",
        "        print(e)"
      ],
      "execution_count": 15,
      "outputs": [
        {
          "output_type": "stream",
          "name": "stdout",
          "text": [
            "<class 'list'>\n",
            "4\n",
            "9\n",
            "4\n",
            "9\n"
          ]
        }
      ]
    },
    {
      "cell_type": "code",
      "metadata": {
        "id": "sVtvWPcKFMCQ",
        "colab": {
          "base_uri": "https://localhost:8080/"
        },
        "outputId": "efefe4f8-b6c2-450f-9992-d0212cc35746"
      },
      "source": [
        "lst = (x ** 2 for x in [1, 2, 3] if x > 1)  # list generator\n",
        "print(type(lst))\n",
        "\n",
        "for _ in [1, 2]:\n",
        "    for e in lst:\n",
        "        print(e)"
      ],
      "execution_count": 16,
      "outputs": [
        {
          "output_type": "stream",
          "name": "stdout",
          "text": [
            "<class 'generator'>\n",
            "4\n",
            "9\n"
          ]
        }
      ]
    },
    {
      "cell_type": "markdown",
      "metadata": {
        "id": "skbFF7EtFMCR"
      },
      "source": [
        "### `Снова про объекты и переменные`\n",
        "\n",
        "---\n",
        "\n"
      ]
    },
    {
      "cell_type": "code",
      "metadata": {
        "id": "nUvL65X1FMCR",
        "colab": {
          "base_uri": "https://localhost:8080/"
        },
        "outputId": "1956d657-2f8a-4de1-a721-490d61ca39f7"
      },
      "source": [
        "a = [2]\n",
        "b = a\n",
        "a += [1]\n",
        "print(b)"
      ],
      "execution_count": 17,
      "outputs": [
        {
          "output_type": "stream",
          "name": "stdout",
          "text": [
            "[2, 1]\n"
          ]
        }
      ]
    },
    {
      "cell_type": "markdown",
      "metadata": {
        "id": "RwR2iOZQFMCS"
      },
      "source": [
        "- список - изменяемый объект, создание новой ссылки не приводит к появлению нового объекта\n",
        "- есть две переменные, указывающие на один и тот же список"
      ]
    },
    {
      "cell_type": "code",
      "metadata": {
        "id": "5zLv3mpPFMCS",
        "colab": {
          "base_uri": "https://localhost:8080/"
        },
        "outputId": "f0b3b38f-6f07-4ad5-f872-e8575d04935f"
      },
      "source": [
        "del a\n",
        "print(b)"
      ],
      "execution_count": 18,
      "outputs": [
        {
          "output_type": "stream",
          "name": "stdout",
          "text": [
            "[2, 1]\n"
          ]
        }
      ]
    },
    {
      "cell_type": "markdown",
      "metadata": {
        "id": "Y8TFYFJ8FMCS"
      },
      "source": [
        "- удаление `a` не приводит у удалению списка, поскольку на него ещё ссылается `b`"
      ]
    },
    {
      "cell_type": "markdown",
      "metadata": {
        "id": "v5ANzq-XFMCS"
      },
      "source": [
        "### `Копирование изменяемых объектов`"
      ]
    },
    {
      "cell_type": "code",
      "metadata": {
        "id": "85TZ0aGvFMCS",
        "colab": {
          "base_uri": "https://localhost:8080/"
        },
        "outputId": "ca34ada8-4b0e-4c24-a3dc-f0258e049754"
      },
      "source": [
        "a = [1, 2, 3]\n",
        "b = a[:]\n",
        "b.append(4)\n",
        "print(a)"
      ],
      "execution_count": 19,
      "outputs": [
        {
          "output_type": "stream",
          "name": "stdout",
          "text": [
            "[1, 2, 3]\n"
          ]
        }
      ]
    },
    {
      "cell_type": "code",
      "metadata": {
        "id": "r8tvCzr8FMCT",
        "colab": {
          "base_uri": "https://localhost:8080/"
        },
        "outputId": "8dad3075-8133-4f0d-aa42-5604a284c012"
      },
      "source": [
        "a = [1, 2, 3]\n",
        "b = a.copy()\n",
        "b.append(4)\n",
        "print(a)"
      ],
      "execution_count": 20,
      "outputs": [
        {
          "output_type": "stream",
          "name": "stdout",
          "text": [
            "[1, 2, 3]\n"
          ]
        }
      ]
    },
    {
      "cell_type": "markdown",
      "metadata": {
        "id": "oE5BezfWFMCT"
      },
      "source": [
        "### `Копирование вложенных изменяемых объектов`"
      ]
    },
    {
      "cell_type": "code",
      "metadata": {
        "id": "xWx0i4FOFMCT",
        "colab": {
          "base_uri": "https://localhost:8080/"
        },
        "outputId": "5136e474-e906-46bc-ac8c-46241c48a341"
      },
      "source": [
        "a = [['a', 'b', 'c'], 2, 3]\n",
        "b = a.copy()\n",
        "b[0].append('d')\n",
        "print(a)\n",
        "print(b)"
      ],
      "execution_count": 21,
      "outputs": [
        {
          "output_type": "stream",
          "name": "stdout",
          "text": [
            "[['a', 'b', 'c', 'd'], 2, 3]\n",
            "[['a', 'b', 'c', 'd'], 2, 3]\n"
          ]
        }
      ]
    },
    {
      "cell_type": "code",
      "metadata": {
        "id": "o75gded_FMCT",
        "colab": {
          "base_uri": "https://localhost:8080/"
        },
        "outputId": "8684f5b8-d5d7-4af1-8099-358b0b3e666a"
      },
      "source": [
        "import copy\n",
        "\n",
        "a = [['a', 'b', 'c'], 2, 3]\n",
        "b = copy.deepcopy(a)\n",
        "b[0].append('d')\n",
        "print(a)\n",
        "print(b)"
      ],
      "execution_count": 22,
      "outputs": [
        {
          "output_type": "stream",
          "name": "stdout",
          "text": [
            "[['a', 'b', 'c'], 2, 3]\n",
            "[['a', 'b', 'c', 'd'], 2, 3]\n"
          ]
        }
      ]
    },
    {
      "cell_type": "markdown",
      "metadata": {
        "id": "cw0Fg1J9kw-P"
      },
      "source": [
        "### `Временная сложность`"
      ]
    },
    {
      "cell_type": "code",
      "metadata": {
        "id": "QIz50eRhElws",
        "colab": {
          "base_uri": "https://localhost:8080/"
        },
        "outputId": "8175f5b4-3448-4527-b9c8-991b42eb2d33"
      },
      "source": [
        "example_list = []\n",
        "# добавляем элемент в конец списка O(1)\n",
        "example_list.append(\"foo\")\n",
        "print(example_list)\n",
        "\n",
        "# добавляем элемент в начало O(n)\n",
        "example_list.insert(0, \"bar\")\n",
        "print(example_list)\n",
        "\n",
        "example_list.extend([\"foo\", 1])\n",
        "print(example_list)"
      ],
      "execution_count": 23,
      "outputs": [
        {
          "output_type": "stream",
          "name": "stdout",
          "text": [
            "['foo']\n",
            "['bar', 'foo']\n",
            "['bar', 'foo', 'foo', 1]\n"
          ]
        }
      ]
    },
    {
      "cell_type": "code",
      "metadata": {
        "id": "CD0c3vajElwv",
        "colab": {
          "base_uri": "https://localhost:8080/"
        },
        "outputId": "ae8e9dd4-40c1-4694-c5b0-6c1b9b99ac93"
      },
      "source": [
        "benchmark_list = []\n",
        "%timeit -n10000 benchmark_list.append(\"foo\")"
      ],
      "execution_count": 24,
      "outputs": [
        {
          "output_type": "stream",
          "name": "stdout",
          "text": [
            "The slowest run took 9.96 times longer than the fastest. This could mean that an intermediate result is being cached.\n",
            "10000 loops, best of 5: 173 ns per loop\n"
          ]
        }
      ]
    },
    {
      "cell_type": "code",
      "metadata": {
        "id": "hELcXKEuElwv",
        "colab": {
          "base_uri": "https://localhost:8080/"
        },
        "outputId": "60967a7e-da97-402e-fed0-4789e31b8b14"
      },
      "source": [
        "benchmark_list = []\n",
        "%timeit -n10000 benchmark_list.insert(0, \"bar\")"
      ],
      "execution_count": 25,
      "outputs": [
        {
          "output_type": "stream",
          "name": "stdout",
          "text": [
            "The slowest run took 4.47 times longer than the fastest. This could mean that an intermediate result is being cached.\n",
            "10000 loops, best of 5: 5.26 µs per loop\n"
          ]
        }
      ]
    },
    {
      "cell_type": "code",
      "metadata": {
        "id": "kWq7gbhnElww",
        "colab": {
          "base_uri": "https://localhost:8080/"
        },
        "outputId": "a9cbc1dd-62e2-4ead-8055-adaa8b1e50db"
      },
      "source": [
        "example_list = [0, 1, 2, 3, 4, 5, 6]\n",
        "\n",
        "# доступ к элементу O(1)\n",
        "print(example_list[0])\n",
        "print(example_list[-1])\n",
        "\n",
        "# Изменение по индексу O(1)\n",
        "example_list[6] = 10"
      ],
      "execution_count": 26,
      "outputs": [
        {
          "output_type": "stream",
          "name": "stdout",
          "text": [
            "0\n",
            "6\n"
          ]
        }
      ]
    },
    {
      "cell_type": "code",
      "metadata": {
        "id": "ZpXqNzL0Elwx",
        "colab": {
          "base_uri": "https://localhost:8080/"
        },
        "outputId": "20ce9818-d24a-4e69-fb77-0a8717a981ea"
      },
      "source": [
        "# Удаление элемента O(n)\n",
        "print(example_list)\n",
        "del example_list[-1]\n",
        "print(example_list)"
      ],
      "execution_count": 27,
      "outputs": [
        {
          "output_type": "stream",
          "name": "stdout",
          "text": [
            "[0, 1, 2, 3, 4, 5, 10]\n",
            "[0, 1, 2, 3, 4, 5]\n"
          ]
        }
      ]
    },
    {
      "cell_type": "code",
      "metadata": {
        "id": "9nSn1bl-Elwy",
        "colab": {
          "base_uri": "https://localhost:8080/"
        },
        "outputId": "f47b8bb0-aaeb-429b-d0f1-bdf0aee2699b"
      },
      "source": [
        "example_list.remove(4)\n",
        "print(example_list)"
      ],
      "execution_count": 28,
      "outputs": [
        {
          "output_type": "stream",
          "name": "stdout",
          "text": [
            "[0, 1, 2, 3, 5]\n"
          ]
        }
      ]
    },
    {
      "cell_type": "markdown",
      "metadata": {
        "id": "uxdZUxIYElw2"
      },
      "source": [
        "### Немного о сортировке"
      ]
    },
    {
      "cell_type": "code",
      "metadata": {
        "id": "ioO6Qo0lElw3",
        "colab": {
          "base_uri": "https://localhost:8080/"
        },
        "outputId": "00bcae10-ec41-47d4-8413-e13792e3dfb1"
      },
      "source": [
        "# Сортировка списка\n",
        "unsorted_list = [2, 1, 5, 4, 3]\n",
        "unsorted_list.sort()\n",
        "print(unsorted_list)"
      ],
      "execution_count": 29,
      "outputs": [
        {
          "output_type": "stream",
          "name": "stdout",
          "text": [
            "[1, 2, 3, 4, 5]\n"
          ]
        }
      ]
    },
    {
      "cell_type": "code",
      "metadata": {
        "id": "f4XDaOvmElw4",
        "colab": {
          "base_uri": "https://localhost:8080/"
        },
        "outputId": "9e017fd0-b894-460b-c01d-d8c5cc8491d0"
      },
      "source": [
        "unsorted_list = [2, 1, 5, 4, 3]\n",
        "print(sorted(unsorted_list))\n",
        "print(unsorted_list)"
      ],
      "execution_count": 30,
      "outputs": [
        {
          "output_type": "stream",
          "name": "stdout",
          "text": [
            "[1, 2, 3, 4, 5]\n",
            "[2, 1, 5, 4, 3]\n"
          ]
        }
      ]
    },
    {
      "cell_type": "markdown",
      "metadata": {
        "id": "wrxXvJtbElw4"
      },
      "source": [
        "## Кортеж: tuple"
      ]
    },
    {
      "cell_type": "markdown",
      "metadata": {
        "id": "F9_pY2x9Elw4"
      },
      "source": [
        "Так же как и список позволяет хранить последовательность элементов одного или разного типа\n",
        "\n",
        "* Неизменяемые (Immutable) => защищают данные\n",
        "* Быстрее списка"
      ]
    },
    {
      "cell_type": "code",
      "metadata": {
        "colab": {
          "base_uri": "https://localhost:8080/"
        },
        "id": "l8u0QklnnrJ0",
        "outputId": "9b796690-f1ed-4bbd-f4ca-5b110cc716d8"
      },
      "source": [
        "type(()), type(tuple())"
      ],
      "execution_count": 31,
      "outputs": [
        {
          "output_type": "execute_result",
          "data": {
            "text/plain": [
              "(tuple, tuple)"
            ]
          },
          "metadata": {},
          "execution_count": 31
        }
      ]
    },
    {
      "cell_type": "code",
      "metadata": {
        "colab": {
          "base_uri": "https://localhost:8080/"
        },
        "id": "PvlVr_GFnrJ1",
        "outputId": "19166dba-63d3-4bca-fa21-28d3f1a1516b"
      },
      "source": [
        "(1, 2, 'str', 4.0, None)"
      ],
      "execution_count": 32,
      "outputs": [
        {
          "output_type": "execute_result",
          "data": {
            "text/plain": [
              "(1, 2, 'str', 4.0, None)"
            ]
          },
          "metadata": {},
          "execution_count": 32
        }
      ]
    },
    {
      "cell_type": "code",
      "metadata": {
        "colab": {
          "base_uri": "https://localhost:8080/"
        },
        "id": "XoK8Mw48nrJ1",
        "outputId": "184c71ae-82a0-4cd1-e34d-0029ce486f65"
      },
      "source": [
        "(1, 2) + (3.0, 6, None)"
      ],
      "execution_count": 33,
      "outputs": [
        {
          "output_type": "execute_result",
          "data": {
            "text/plain": [
              "(1, 2, 3.0, 6, None)"
            ]
          },
          "metadata": {},
          "execution_count": 33
        }
      ]
    },
    {
      "cell_type": "code",
      "metadata": {
        "colab": {
          "base_uri": "https://localhost:8080/"
        },
        "id": "enLWhkxwnrJ1",
        "outputId": "b6285a72-cce4-4a6d-844d-cc97d763f16d"
      },
      "source": [
        "tpl = tuple([1, 2, 3])\n",
        "tpl[2]"
      ],
      "execution_count": 34,
      "outputs": [
        {
          "output_type": "execute_result",
          "data": {
            "text/plain": [
              "3"
            ]
          },
          "metadata": {},
          "execution_count": 34
        }
      ]
    },
    {
      "cell_type": "code",
      "metadata": {
        "id": "btDJxhHmElw7",
        "colab": {
          "base_uri": "https://localhost:8080/"
        },
        "outputId": "3f98e1d3-5fe6-479e-bd96-fc5ab527a13b"
      },
      "source": [
        "a = (123)\n",
        "a\n",
        "print(type(a))\n",
        "a = (123,  )# в кортеже с одним элементом запятая обязательна!\n",
        "print(type(a))\n",
        "a = 1,2,3\n",
        "print (type(a))"
      ],
      "execution_count": 35,
      "outputs": [
        {
          "output_type": "stream",
          "name": "stdout",
          "text": [
            "<class 'int'>\n",
            "<class 'tuple'>\n",
            "<class 'tuple'>\n"
          ]
        }
      ]
    },
    {
      "cell_type": "markdown",
      "metadata": {
        "id": "9Pcn2ttLElw7"
      },
      "source": [
        "Важно понимать, что **неизменяемым является сам tuple, но не объекты, которые он содержит!**. Например:"
      ]
    },
    {
      "cell_type": "code",
      "metadata": {
        "id": "XF-kR2E7Elw8",
        "colab": {
          "base_uri": "https://localhost:8080/"
        },
        "outputId": "13fbaf1c-d278-46e4-c51c-6a0119f85740"
      },
      "source": [
        "first_list = [1, 2]\n",
        "second_list = [3, 4]\n",
        "example_tuple = (first_list, second_list)\n",
        "print(example_tuple)\n",
        "first_list.append(5)\n",
        "print(example_tuple)"
      ],
      "execution_count": 36,
      "outputs": [
        {
          "output_type": "stream",
          "name": "stdout",
          "text": [
            "([1, 2], [3, 4])\n",
            "([1, 2, 5], [3, 4])\n"
          ]
        }
      ]
    },
    {
      "cell_type": "markdown",
      "metadata": {
        "id": "M96uwT6KElw9"
      },
      "source": [
        "## Словарь: dict"
      ]
    },
    {
      "cell_type": "markdown",
      "metadata": {
        "id": "lrcWeT0MmRg-"
      },
      "source": [
        "- словарь (`dict`) - это ассоциативный массив (отображение), т.е. набор пар \"ключ-значение\"<br><br>\n",
        "- словарь поддерживает возможность быстро искать значение по ключу<br><br>\n",
        "- в Python словари реализованы на основе хэш-таблиц (сложность поиска O(1))<br><br>\n",
        "- словари также являются изменяемым типом данных<br><br>\n",
        "- значения могут иметь произвольный тип<br><br>\n",
        "- ключи - произвольный неизменяемый тип"
      ]
    },
    {
      "cell_type": "code",
      "metadata": {
        "id": "NhaPYxCEoday",
        "colab": {
          "base_uri": "https://localhost:8080/"
        },
        "outputId": "a8f6ab51-8332-4603-ba71-f61ea58b0ad9"
      },
      "source": [
        "type(dict()), type({})"
      ],
      "execution_count": 37,
      "outputs": [
        {
          "output_type": "execute_result",
          "data": {
            "text/plain": [
              "(dict, dict)"
            ]
          },
          "metadata": {},
          "execution_count": 37
        }
      ]
    },
    {
      "cell_type": "code",
      "metadata": {
        "id": "q7TbEEYFodaz",
        "colab": {
          "base_uri": "https://localhost:8080/"
        },
        "outputId": "b71fbf83-0e1d-45dd-ff7f-b70a0628f85d"
      },
      "source": [
        "# simple creation of nested structures!\n",
        "d = {'1': 1, 's': 2, None: [1, {None: True}]}\n",
        "d"
      ],
      "execution_count": 38,
      "outputs": [
        {
          "output_type": "execute_result",
          "data": {
            "text/plain": [
              "{'1': 1, None: [1, {None: True}], 's': 2}"
            ]
          },
          "metadata": {},
          "execution_count": 38
        }
      ]
    },
    {
      "cell_type": "code",
      "metadata": {
        "id": "HciyNM2Codaz",
        "colab": {
          "base_uri": "https://localhost:8080/"
        },
        "outputId": "d1b73562-eb04-4942-e6e6-b91af3792a82"
      },
      "source": [
        "d['s'] = 'two'\n",
        "d"
      ],
      "execution_count": 39,
      "outputs": [
        {
          "output_type": "execute_result",
          "data": {
            "text/plain": [
              "{'1': 1, None: [1, {None: True}], 's': 'two'}"
            ]
          },
          "metadata": {},
          "execution_count": 39
        }
      ]
    },
    {
      "cell_type": "code",
      "metadata": {
        "id": "JM-VUpZoodaz",
        "colab": {
          "base_uri": "https://localhost:8080/"
        },
        "outputId": "6303146e-a220-4cfb-fce3-fd898de2f134"
      },
      "source": [
        "del d['1']  # remove object\n",
        "print(d)"
      ],
      "execution_count": 40,
      "outputs": [
        {
          "output_type": "stream",
          "name": "stdout",
          "text": [
            "{'s': 'two', None: [1, {None: True}]}\n"
          ]
        }
      ]
    },
    {
      "cell_type": "code",
      "metadata": {
        "id": "YUDhNZwBodaz"
      },
      "source": [
        "d2 = {'s': 3, 'a': 'b'}"
      ],
      "execution_count": 41,
      "outputs": []
    },
    {
      "cell_type": "markdown",
      "metadata": {
        "id": "sTrdiJS-odaz"
      },
      "source": [
        "### `Операции над словарями`"
      ]
    },
    {
      "cell_type": "code",
      "metadata": {
        "colab": {
          "base_uri": "https://localhost:8080/"
        },
        "id": "de6-mU6Codaz",
        "outputId": "c85fe1e3-55ca-4395-83a7-de1f5377baf4"
      },
      "source": [
        "d = dict.fromkeys(list('abcccc'))\n",
        "d"
      ],
      "execution_count": 42,
      "outputs": [
        {
          "output_type": "execute_result",
          "data": {
            "text/plain": [
              "{'a': None, 'b': None, 'c': None}"
            ]
          },
          "metadata": {},
          "execution_count": 42
        }
      ]
    },
    {
      "cell_type": "code",
      "metadata": {
        "colab": {
          "base_uri": "https://localhost:8080/"
        },
        "id": "IXZLxGOxoda0",
        "outputId": "6f58b8f2-bbad-48fb-d5a0-76a3ac4c6eb5"
      },
      "source": [
        "for k in d.keys():  # view object\n",
        "    d[k] = ord(k)\n",
        "d"
      ],
      "execution_count": 43,
      "outputs": [
        {
          "output_type": "execute_result",
          "data": {
            "text/plain": [
              "{'a': 97, 'b': 98, 'c': 99}"
            ]
          },
          "metadata": {},
          "execution_count": 43
        }
      ]
    },
    {
      "cell_type": "code",
      "metadata": {
        "colab": {
          "base_uri": "https://localhost:8080/"
        },
        "id": "098pnYqyoda0",
        "outputId": "32691930-05ee-4162-8675-73b0755c33d1"
      },
      "source": [
        "for k, v in d.items():  # view object\n",
        "    print(k, v)"
      ],
      "execution_count": 44,
      "outputs": [
        {
          "output_type": "stream",
          "name": "stdout",
          "text": [
            "a 97\n",
            "b 98\n",
            "c 99\n"
          ]
        }
      ]
    },
    {
      "cell_type": "code",
      "metadata": {
        "colab": {
          "base_uri": "https://localhost:8080/"
        },
        "id": "iCmPLCatoda0",
        "outputId": "9fd368e5-3b0b-4bf9-8167-295f72324174"
      },
      "source": [
        "D = dict(a=ord('a'), b=ord('b'), c=ord('c'))\n",
        "d == D"
      ],
      "execution_count": 45,
      "outputs": [
        {
          "output_type": "execute_result",
          "data": {
            "text/plain": [
              "True"
            ]
          },
          "metadata": {},
          "execution_count": 45
        }
      ]
    },
    {
      "cell_type": "code",
      "metadata": {
        "colab": {
          "base_uri": "https://localhost:8080/"
        },
        "id": "7M_a2i2zoda0",
        "outputId": "aff4595c-d280-418e-fa00-5815ec37aa0c"
      },
      "source": [
        "d.update(d2)\n",
        "d"
      ],
      "execution_count": 46,
      "outputs": [
        {
          "output_type": "execute_result",
          "data": {
            "text/plain": [
              "{'a': 'b', 'b': 98, 'c': 99, 's': 3}"
            ]
          },
          "metadata": {},
          "execution_count": 46
        }
      ]
    },
    {
      "cell_type": "code",
      "metadata": {
        "id": "72TNcJVM3miY",
        "colab": {
          "base_uri": "https://localhost:8080/"
        },
        "outputId": "81ab2fe7-b0fa-4388-d7aa-3a4193ebb6dd"
      },
      "source": [
        "d3 = {'w': 73}\n",
        "{**d, **d3}"
      ],
      "execution_count": 47,
      "outputs": [
        {
          "output_type": "execute_result",
          "data": {
            "text/plain": [
              "{'a': 'b', 'b': 98, 'c': 99, 's': 3, 'w': 73}"
            ]
          },
          "metadata": {},
          "execution_count": 47
        }
      ]
    },
    {
      "cell_type": "markdown",
      "metadata": {
        "id": "hjsRSF6Ilt-_"
      },
      "source": [
        "### `Сравнение словаря со списком`"
      ]
    },
    {
      "cell_type": "code",
      "metadata": {
        "id": "Qa3V9xMTElxB"
      },
      "source": [
        "search_list = list(range(100000))\n",
        "search_dict = dict.fromkeys(list(range(100000)))"
      ],
      "execution_count": 48,
      "outputs": []
    },
    {
      "cell_type": "code",
      "metadata": {
        "id": "4k2x2QpfElxB",
        "colab": {
          "base_uri": "https://localhost:8080/"
        },
        "outputId": "0c07256c-1c26-442e-f76e-6569e842bac5"
      },
      "source": [
        "%timeit -n10000 0 in search_list"
      ],
      "execution_count": 49,
      "outputs": [
        {
          "output_type": "stream",
          "name": "stdout",
          "text": [
            "10000 loops, best of 5: 50.2 ns per loop\n"
          ]
        }
      ]
    },
    {
      "cell_type": "code",
      "metadata": {
        "id": "PzLDsvfcElxB",
        "colab": {
          "base_uri": "https://localhost:8080/"
        },
        "outputId": "a7a9abb1-1824-496f-999b-88a394b55b87"
      },
      "source": [
        "%timeit -n10000 0 in search_dict"
      ],
      "execution_count": 50,
      "outputs": [
        {
          "output_type": "stream",
          "name": "stdout",
          "text": [
            "10000 loops, best of 5: 58.9 ns per loop\n"
          ]
        }
      ]
    },
    {
      "cell_type": "code",
      "metadata": {
        "id": "WNewilflElxC",
        "colab": {
          "base_uri": "https://localhost:8080/"
        },
        "outputId": "8434b1af-1a58-4e0e-a4c1-04e1fa46cfed"
      },
      "source": [
        "%timeit -n1000 99999 in search_list"
      ],
      "execution_count": 51,
      "outputs": [
        {
          "output_type": "stream",
          "name": "stdout",
          "text": [
            "1000 loops, best of 5: 1.38 ms per loop\n"
          ]
        }
      ]
    },
    {
      "cell_type": "code",
      "metadata": {
        "id": "uRGUDVM9ElxC",
        "colab": {
          "base_uri": "https://localhost:8080/"
        },
        "outputId": "034cced6-ee98-4b68-cac3-aea9c03f1745"
      },
      "source": [
        "%timeit -n10000 99999 in search_dict"
      ],
      "execution_count": 52,
      "outputs": [
        {
          "output_type": "stream",
          "name": "stdout",
          "text": [
            "10000 loops, best of 5: 64.5 ns per loop\n"
          ]
        }
      ]
    },
    {
      "cell_type": "markdown",
      "metadata": {
        "id": "b1SlsXfHElxE"
      },
      "source": [
        "### `В python3.6 dict сохраняет порядок добавления элементов`"
      ]
    },
    {
      "cell_type": "code",
      "metadata": {
        "id": "GBDl_6qAElxE",
        "colab": {
          "base_uri": "https://localhost:8080/"
        },
        "outputId": "3545bda5-4c44-429b-a6e5-0c9d784e1a4f"
      },
      "source": [
        "example = dict()\n",
        "for item in range(0, 10):\n",
        "    example[item - 1] = item\n",
        "print(example)\n",
        "for key, value in example.items():\n",
        "    print(key, value)"
      ],
      "execution_count": 53,
      "outputs": [
        {
          "output_type": "stream",
          "name": "stdout",
          "text": [
            "{-1: 0, 0: 1, 1: 2, 2: 3, 3: 4, 4: 5, 5: 6, 6: 7, 7: 8, 8: 9}\n",
            "-1 0\n",
            "0 1\n",
            "1 2\n",
            "2 3\n",
            "3 4\n",
            "4 5\n",
            "5 6\n",
            "6 7\n",
            "7 8\n",
            "8 9\n"
          ]
        }
      ]
    },
    {
      "cell_type": "markdown",
      "metadata": {
        "id": "lAwdOMmOElxE"
      },
      "source": [
        "## Равенство и идентичность"
      ]
    },
    {
      "cell_type": "code",
      "metadata": {
        "id": "sVW1vLh1ElxE",
        "colab": {
          "base_uri": "https://localhost:8080/"
        },
        "outputId": "29ca9a43-6581-4dc9-88a8-a4e3404ace14"
      },
      "source": [
        "\"a\" in [\"a\", \"b\"]"
      ],
      "execution_count": 54,
      "outputs": [
        {
          "output_type": "execute_result",
          "data": {
            "text/plain": [
              "True"
            ]
          },
          "metadata": {},
          "execution_count": 54
        }
      ]
    },
    {
      "cell_type": "code",
      "metadata": {
        "id": "gCUw7SjLElxF",
        "colab": {
          "base_uri": "https://localhost:8080/"
        },
        "outputId": "faf7f3ce-db6d-4d7e-855b-a41118d012a3"
      },
      "source": [
        "first_list = [1,2,3]\n",
        "from copy import deepcopy\n",
        "second_list = deepcopy(first_list)\n",
        "print(first_list == second_list)\n",
        "print(first_list is second_list)"
      ],
      "execution_count": 55,
      "outputs": [
        {
          "output_type": "stream",
          "name": "stdout",
          "text": [
            "True\n",
            "False\n"
          ]
        }
      ]
    },
    {
      "cell_type": "code",
      "metadata": {
        "id": "uSdANZVCElxF",
        "colab": {
          "base_uri": "https://localhost:8080/"
        },
        "outputId": "7bcf6a9d-458e-495a-97de-295b844af195"
      },
      "source": [
        "apple_count = \"one\"\n",
        "orange_count = \"one\"\n",
        "print(apple_count == orange_count)\n",
        "print(apple_count is orange_count)"
      ],
      "execution_count": 56,
      "outputs": [
        {
          "output_type": "stream",
          "name": "stdout",
          "text": [
            "True\n",
            "True\n"
          ]
        }
      ]
    },
    {
      "cell_type": "code",
      "metadata": {
        "id": "0CGYb0MtElxF",
        "colab": {
          "base_uri": "https://localhost:8080/"
        },
        "outputId": "a9cce78c-cb6b-40e4-8e97-73a6705bccdc"
      },
      "source": [
        "apple_count = \"more than one\"\n",
        "orange_count = \"more than one\"\n",
        "print(apple_count == orange_count)\n",
        "print(apple_count is orange_count)"
      ],
      "execution_count": 57,
      "outputs": [
        {
          "output_type": "stream",
          "name": "stdout",
          "text": [
            "True\n",
            "False\n"
          ]
        }
      ]
    },
    {
      "cell_type": "markdown",
      "metadata": {
        "id": "l99FSQnIElxG"
      },
      "source": [
        "## Множество: set"
      ]
    },
    {
      "cell_type": "markdown",
      "metadata": {
        "id": "4Q9RhsKVElxH"
      },
      "source": [
        "Неупорядоченная коллекция, содержащая только уникальные хешируемые элементы.\n",
        "\n",
        "\n"
      ]
    },
    {
      "cell_type": "code",
      "metadata": {
        "id": "TUiM35pmj4YU",
        "colab": {
          "base_uri": "https://localhost:8080/"
        },
        "outputId": "82075ec4-5724-4379-f056-cb08c5a59be2"
      },
      "source": [
        "type(set()), type({1}), type({})  # Empty '{}' is a dict, not a set!"
      ],
      "execution_count": 58,
      "outputs": [
        {
          "output_type": "execute_result",
          "data": {
            "text/plain": [
              "(set, set, dict)"
            ]
          },
          "metadata": {},
          "execution_count": 58
        }
      ]
    },
    {
      "cell_type": "code",
      "metadata": {
        "id": "Uxotxsj6j4YU",
        "colab": {
          "base_uri": "https://localhost:8080/"
        },
        "outputId": "06ca6a67-4822-4a02-9b0d-bcee04965a5f"
      },
      "source": [
        "{1, 2, 3, 3, 2, 1, 'set', 'a'}"
      ],
      "execution_count": 59,
      "outputs": [
        {
          "output_type": "execute_result",
          "data": {
            "text/plain": [
              "{1, 2, 3, 'a', 'set'}"
            ]
          },
          "metadata": {},
          "execution_count": 59
        }
      ]
    },
    {
      "cell_type": "code",
      "metadata": {
        "id": "pOi_UiM3j4YU",
        "colab": {
          "base_uri": "https://localhost:8080/"
        },
        "outputId": "d9bb06d3-720c-46f8-fa1b-1308631784b8"
      },
      "source": [
        "s = {1, 2, 3}\n",
        "s.add(4)\n",
        "s"
      ],
      "execution_count": 60,
      "outputs": [
        {
          "output_type": "execute_result",
          "data": {
            "text/plain": [
              "{1, 2, 3, 4}"
            ]
          },
          "metadata": {},
          "execution_count": 60
        }
      ]
    },
    {
      "cell_type": "code",
      "metadata": {
        "id": "DOapxERYj4YV",
        "colab": {
          "base_uri": "https://localhost:8080/"
        },
        "outputId": "822432dd-0a1f-4e5b-fe47-9d21ba057aa5"
      },
      "source": [
        "s1, s2 = {1, 2, 3}, set([3, 4, 5])\n",
        "\n",
        "print('{}\\t{}\\t{}\\t{}'.format(s1 - s2, s1 | s2, s1 & s2, s1 < s2))"
      ],
      "execution_count": 61,
      "outputs": [
        {
          "output_type": "stream",
          "name": "stdout",
          "text": [
            "{1, 2}\t{1, 2, 3, 4, 5}\t{3}\tFalse\n"
          ]
        }
      ]
    },
    {
      "cell_type": "markdown",
      "metadata": {
        "id": "5NVWOUh3j4YV"
      },
      "source": [
        "### `Операции над множествами`"
      ]
    },
    {
      "cell_type": "code",
      "metadata": {
        "id": "fkr3ykgGj4YV"
      },
      "source": [
        "A, B = set('abc'), {'a', 'c', 'd'}"
      ],
      "execution_count": 62,
      "outputs": []
    },
    {
      "cell_type": "code",
      "metadata": {
        "id": "WwezlCWvj4YV",
        "colab": {
          "base_uri": "https://localhost:8080/"
        },
        "outputId": "b2e7462a-4d7d-42dd-b9de-16a1c2168a6c"
      },
      "source": [
        "A - B  # minus: in A and not in B (== A.difference(B))"
      ],
      "execution_count": 63,
      "outputs": [
        {
          "output_type": "execute_result",
          "data": {
            "text/plain": [
              "{'b'}"
            ]
          },
          "metadata": {},
          "execution_count": 63
        }
      ]
    },
    {
      "cell_type": "code",
      "metadata": {
        "id": "MGVUvLcFj4YW",
        "colab": {
          "base_uri": "https://localhost:8080/"
        },
        "outputId": "393e8b33-a453-4833-d43b-61270a7c7b40"
      },
      "source": [
        "A | B  # union: in A or in B (== A.union(B))"
      ],
      "execution_count": 64,
      "outputs": [
        {
          "output_type": "execute_result",
          "data": {
            "text/plain": [
              "{'a', 'b', 'c', 'd'}"
            ]
          },
          "metadata": {},
          "execution_count": 64
        }
      ]
    },
    {
      "cell_type": "code",
      "metadata": {
        "id": "8FuBKccBj4YW",
        "colab": {
          "base_uri": "https://localhost:8080/"
        },
        "outputId": "78f03616-b65d-4ae0-9a4a-f3865f5ebe0c"
      },
      "source": [
        "A & B  # intersection: in A and in B (== A.intersection(B))"
      ],
      "execution_count": 65,
      "outputs": [
        {
          "output_type": "execute_result",
          "data": {
            "text/plain": [
              "{'a', 'c'}"
            ]
          },
          "metadata": {},
          "execution_count": 65
        }
      ]
    },
    {
      "cell_type": "code",
      "metadata": {
        "id": "4pMApGQ8j4YW",
        "colab": {
          "base_uri": "https://localhost:8080/"
        },
        "outputId": "69837edf-0147-4648-e779-2ba5f45faf2e"
      },
      "source": [
        "A ^ B  # sym diff: (in A and not in B) and via versa (== A.symmetric_difference(B))"
      ],
      "execution_count": 66,
      "outputs": [
        {
          "output_type": "execute_result",
          "data": {
            "text/plain": [
              "{'b', 'd'}"
            ]
          },
          "metadata": {},
          "execution_count": 66
        }
      ]
    },
    {
      "cell_type": "markdown",
      "metadata": {
        "id": "PRnh8RBvj4YW"
      },
      "source": [
        "### `Операции над множествами`"
      ]
    },
    {
      "cell_type": "code",
      "metadata": {
        "id": "PiIfol8Ij4YW",
        "colab": {
          "base_uri": "https://localhost:8080/"
        },
        "outputId": "000c473a-f001-427e-de21-729cbacfe231"
      },
      "source": [
        "A.add('e')\n",
        "A"
      ],
      "execution_count": 67,
      "outputs": [
        {
          "output_type": "execute_result",
          "data": {
            "text/plain": [
              "{'a', 'b', 'c', 'e'}"
            ]
          },
          "metadata": {},
          "execution_count": 67
        }
      ]
    },
    {
      "cell_type": "code",
      "metadata": {
        "id": "SExuTw-wj4YW",
        "colab": {
          "base_uri": "https://localhost:8080/"
        },
        "outputId": "719f8bca-9764-4773-8392-72bbeee9d187"
      },
      "source": [
        "A.update(B)\n",
        "A"
      ],
      "execution_count": 68,
      "outputs": [
        {
          "output_type": "execute_result",
          "data": {
            "text/plain": [
              "{'a', 'b', 'c', 'd', 'e'}"
            ]
          },
          "metadata": {},
          "execution_count": 68
        }
      ]
    },
    {
      "cell_type": "code",
      "metadata": {
        "id": "RqNWSvF6j4YX",
        "colab": {
          "base_uri": "https://localhost:8080/"
        },
        "outputId": "605a31f0-2fbd-454d-a400-257e12936c3b"
      },
      "source": [
        "A.remove('a')\n",
        "A"
      ],
      "execution_count": 69,
      "outputs": [
        {
          "output_type": "execute_result",
          "data": {
            "text/plain": [
              "{'b', 'c', 'd', 'e'}"
            ]
          },
          "metadata": {},
          "execution_count": 69
        }
      ]
    },
    {
      "cell_type": "code",
      "metadata": {
        "id": "349fM6WDj4YX",
        "colab": {
          "base_uri": "https://localhost:8080/"
        },
        "outputId": "1bc80df7-4751-4991-b1a2-a6e63b4e8805"
      },
      "source": [
        "'a' in A"
      ],
      "execution_count": 70,
      "outputs": [
        {
          "output_type": "execute_result",
          "data": {
            "text/plain": [
              "False"
            ]
          },
          "metadata": {},
          "execution_count": 70
        }
      ]
    },
    {
      "cell_type": "code",
      "metadata": {
        "id": "Qlhqmezwj4YX",
        "colab": {
          "base_uri": "https://localhost:8080/"
        },
        "outputId": "d900297e-c22f-453d-9b1b-a63999ebb11f"
      },
      "source": [
        "{'a', 'b'} < A  # is subset (== {'a', 'b'}.issubset(A))"
      ],
      "execution_count": 71,
      "outputs": [
        {
          "output_type": "execute_result",
          "data": {
            "text/plain": [
              "False"
            ]
          },
          "metadata": {},
          "execution_count": 71
        }
      ]
    },
    {
      "cell_type": "code",
      "metadata": {
        "id": "VXPkoCLaElxI",
        "colab": {
          "base_uri": "https://localhost:8080/"
        },
        "outputId": "4832678b-9015-430c-969c-76252bcdc82b"
      },
      "source": [
        "# например, вызов какой-либо ф-ии чат сервиса вернул нам список активных в данный момент пользователей в комнате\n",
        "active_users = [\"Александр\", \"Михаил\", \"Ольга\"]\n",
        "# вызов другой ф-ии вернул список администраторов чата\n",
        "admins = [\"Ольга\", \"Мария\"]\n",
        "# нам нужно найти список активных администраторов и послать им какое-либо уведомление\n",
        "active_admins = set(active_users).intersection(set(admins))\n",
        "active_admins"
      ],
      "execution_count": 72,
      "outputs": [
        {
          "output_type": "execute_result",
          "data": {
            "text/plain": [
              "{'Ольга'}"
            ]
          },
          "metadata": {},
          "execution_count": 72
        }
      ]
    },
    {
      "cell_type": "code",
      "metadata": {
        "id": "S_mh7QKpElxJ",
        "colab": {
          "base_uri": "https://localhost:8080/",
          "height": 207
        },
        "outputId": "792dd4fe-c36e-4d77-e3df-33b2bd810416"
      },
      "source": [
        "# множества могут содержать только hashable объекты\n",
        "example_set = set()\n",
        "example_set.add([1, 2, 3])"
      ],
      "execution_count": 73,
      "outputs": [
        {
          "output_type": "error",
          "ename": "TypeError",
          "evalue": "ignored",
          "traceback": [
            "\u001b[0;31m---------------------------------------------------------------------------\u001b[0m",
            "\u001b[0;31mTypeError\u001b[0m                                 Traceback (most recent call last)",
            "\u001b[0;32m<ipython-input-73-1a7b13ac3e08>\u001b[0m in \u001b[0;36m<module>\u001b[0;34m()\u001b[0m\n\u001b[1;32m      1\u001b[0m \u001b[0;31m# множества могут содержать только hashable объекты\u001b[0m\u001b[0;34m\u001b[0m\u001b[0;34m\u001b[0m\u001b[0;34m\u001b[0m\u001b[0m\n\u001b[1;32m      2\u001b[0m \u001b[0mexample_set\u001b[0m \u001b[0;34m=\u001b[0m \u001b[0mset\u001b[0m\u001b[0;34m(\u001b[0m\u001b[0;34m)\u001b[0m\u001b[0;34m\u001b[0m\u001b[0;34m\u001b[0m\u001b[0m\n\u001b[0;32m----> 3\u001b[0;31m \u001b[0mexample_set\u001b[0m\u001b[0;34m.\u001b[0m\u001b[0madd\u001b[0m\u001b[0;34m(\u001b[0m\u001b[0;34m[\u001b[0m\u001b[0;36m1\u001b[0m\u001b[0;34m,\u001b[0m \u001b[0;36m2\u001b[0m\u001b[0;34m,\u001b[0m \u001b[0;36m3\u001b[0m\u001b[0;34m]\u001b[0m\u001b[0;34m)\u001b[0m\u001b[0;34m\u001b[0m\u001b[0;34m\u001b[0m\u001b[0m\n\u001b[0m",
            "\u001b[0;31mTypeError\u001b[0m: unhashable type: 'list'"
          ]
        }
      ]
    },
    {
      "cell_type": "markdown",
      "metadata": {
        "id": "tsO_VQahElxJ"
      },
      "source": [
        "**Основная задача, очень часто возникающая на практике. Есть список элементов, нужно оставить только уникальные. Это одна строка с использованием множества:**"
      ]
    },
    {
      "cell_type": "code",
      "metadata": {
        "id": "UdO7oGTxElxJ",
        "colab": {
          "base_uri": "https://localhost:8080/"
        },
        "outputId": "a029d68e-34dd-4552-bc75-92c4458aff59"
      },
      "source": [
        "elements = [\"yellow\", \"yellow\", \"green\", \"red\", \"blue\", \"blue\", \"magenta\", \"orange\", \"red\"]\n",
        "set(elements)"
      ],
      "execution_count": 74,
      "outputs": [
        {
          "output_type": "execute_result",
          "data": {
            "text/plain": [
              "{'blue', 'green', 'magenta', 'orange', 'red', 'yellow'}"
            ]
          },
          "metadata": {},
          "execution_count": 74
        }
      ]
    },
    {
      "cell_type": "markdown",
      "metadata": {
        "id": "aMSQc4zrElxK"
      },
      "source": [
        "## frozenset"
      ]
    },
    {
      "cell_type": "markdown",
      "metadata": {
        "id": "oUkf_o7gElxK"
      },
      "source": [
        "Так как set может содержать только hashable объекты, а иногда нужен сет сетов - существует frozenset"
      ]
    },
    {
      "cell_type": "code",
      "metadata": {
        "id": "qr5QtHvyElxK",
        "colab": {
          "base_uri": "https://localhost:8080/"
        },
        "outputId": "4f078624-d30d-40fb-f026-93bbca805d27"
      },
      "source": [
        "example_set = set()\n",
        "example_set.add(frozenset([1,2,3]))\n",
        "print(example_set)\n",
        "a = frozenset([1,2,3,3])\n",
        "print(a)"
      ],
      "execution_count": 75,
      "outputs": [
        {
          "output_type": "stream",
          "name": "stdout",
          "text": [
            "{frozenset({1, 2, 3})}\n",
            "frozenset({1, 2, 3})\n"
          ]
        }
      ]
    },
    {
      "cell_type": "markdown",
      "metadata": {
        "id": "cRuW8yP-ElxK"
      },
      "source": [
        "## collections"
      ]
    },
    {
      "cell_type": "markdown",
      "metadata": {
        "id": "D7Vay2c8GxPs"
      },
      "source": [
        "### `collections.Counter`"
      ]
    },
    {
      "cell_type": "code",
      "metadata": {
        "id": "jrflpSwNGypg",
        "colab": {
          "base_uri": "https://localhost:8080/"
        },
        "outputId": "4f43292d-904a-475a-f19e-1e168dc1b42a"
      },
      "source": [
        "from collections import Counter\n",
        "\n",
        "c = Counter()\n",
        "for word in ['spam', 'egg', 'spam', 'counter', 'counter', 'counter']:\n",
        "    c[word] += 1\n",
        "\n",
        "print(c)\n",
        "print(c['counter'])\n",
        "print(c['collections'])"
      ],
      "execution_count": 76,
      "outputs": [
        {
          "output_type": "stream",
          "name": "stdout",
          "text": [
            "Counter({'counter': 3, 'spam': 2, 'egg': 1})\n",
            "3\n",
            "0\n"
          ]
        }
      ]
    },
    {
      "cell_type": "code",
      "metadata": {
        "id": "0OTSUeuXG4sn",
        "colab": {
          "base_uri": "https://localhost:8080/"
        },
        "outputId": "5eb356a4-7866-47be-f20c-cdd06a8c6db6"
      },
      "source": [
        "c = Counter(a=4, b=2, c=0, d=-2)\n",
        "list(c.elements())"
      ],
      "execution_count": 77,
      "outputs": [
        {
          "output_type": "execute_result",
          "data": {
            "text/plain": [
              "['a', 'a', 'a', 'a', 'b', 'b']"
            ]
          },
          "metadata": {},
          "execution_count": 77
        }
      ]
    },
    {
      "cell_type": "code",
      "metadata": {
        "id": "0Q4f2lObG6i3",
        "colab": {
          "base_uri": "https://localhost:8080/"
        },
        "outputId": "b71e8ce6-bc8d-4056-bd12-43fa9fb51658"
      },
      "source": [
        "Counter('abracadabra').most_common(3)"
      ],
      "execution_count": 78,
      "outputs": [
        {
          "output_type": "execute_result",
          "data": {
            "text/plain": [
              "[('a', 5), ('b', 2), ('r', 2)]"
            ]
          },
          "metadata": {},
          "execution_count": 78
        }
      ]
    },
    {
      "cell_type": "code",
      "metadata": {
        "id": "acT5wdBcG8Px",
        "colab": {
          "base_uri": "https://localhost:8080/"
        },
        "outputId": "f7369734-1f59-4db6-9e9b-993ec5f965c3"
      },
      "source": [
        "c = Counter(a=4, b=2, c=0, d=-2)\n",
        "d = Counter(a=1, b=2, c=3, d=4)\n",
        "c.subtract(d)\n",
        "c"
      ],
      "execution_count": 79,
      "outputs": [
        {
          "output_type": "execute_result",
          "data": {
            "text/plain": [
              "Counter({'a': 3, 'b': 0, 'c': -3, 'd': -6})"
            ]
          },
          "metadata": {},
          "execution_count": 79
        }
      ]
    },
    {
      "cell_type": "code",
      "metadata": {
        "id": "Ii02MxFVG-tU",
        "colab": {
          "base_uri": "https://localhost:8080/"
        },
        "outputId": "9639523f-cffd-428d-db6a-7a917a360b3b"
      },
      "source": [
        "c = Counter(a=3, b=1)\n",
        "d = Counter(a=1, b=2)\n",
        "print(c + d)\n",
        "print(c - d)\n",
        "print(c & d)\n",
        "print(c | d)"
      ],
      "execution_count": 80,
      "outputs": [
        {
          "output_type": "stream",
          "name": "stdout",
          "text": [
            "Counter({'a': 4, 'b': 3})\n",
            "Counter({'a': 2})\n",
            "Counter({'a': 1, 'b': 1})\n",
            "Counter({'a': 3, 'b': 2})\n"
          ]
        }
      ]
    },
    {
      "cell_type": "markdown",
      "metadata": {
        "id": "Yz1ZJ5PKHAaV"
      },
      "source": [
        "### `collections.deque`"
      ]
    },
    {
      "cell_type": "markdown",
      "metadata": {
        "id": "vL1i49_Cvjx4"
      },
      "source": [
        "collections.deque(iterable, [maxlen]) - создаёт очередь из итерируемого объекта с максимальной длиной maxlen. Очереди очень похожи на списки, за исключением того, что добавлять и удалять элементы можно либо справа, либо слева.\n",
        "\n",
        "Методы, определённые в deque:\n",
        "\n",
        "*   append(x) - добавляет x в конец.\n",
        "*   appendleft(x) - добавляет x в начало.\n",
        "*   clear() - очищает очередь.\n",
        "*   count(x) - количество элементов, равных x.\n",
        "*   extend(iterable) - добавляет в конец все элементы iterable.\n",
        "*   extendleft(iterable) - добавляет в начало все элементы iterable (начиная с последнего элемента iterable).\n",
        "*   pop() - удаляет и возвращает последний элемент очереди.\n",
        "*   popleft() - удаляет и возвращает первый элемент очереди.\n",
        "*   remove(value) - удаляет первое вхождение value.\n",
        "*   reverse() - разворачивает очередь.\n",
        "*   rotate(n) - последовательно переносит n элементов из начала в конец (если n отрицательно, то с конца в начало)."
      ]
    },
    {
      "cell_type": "code",
      "metadata": {
        "id": "PHaBEVY1uxWd"
      },
      "source": [
        "from collections import deque\n",
        "\n",
        "d = deque([1, 2, 3])\n",
        "p = d.popleft()        # p = 1, d = deque([2, 3])\n",
        "d.appendleft(5)        # d = deque([5, 2, 3]) \n",
        "\n",
        "d = deque(maxlen=3)  # only holds 3 items\n",
        "d.append(1)  # deque([1])\n",
        "d.append(2)  # deque([1, 2])\n",
        "d.append(3)  # deque([1, 2, 3])\n",
        "d.append(4)  # deque([2, 3, 4]) (1 is removed because its maxlen is 3)\n",
        "\n",
        "dl = deque()  # deque([]) creating empty deque\n",
        "\n",
        "dl = deque([1, 2, 3, 4])  # deque([1, 2, 3, 4])\n",
        "\n",
        "dl.append(5)  # deque([1, 2, 3, 4, 5])\n",
        "\n",
        "dl.appendleft(0)  # deque([0, 1, 2, 3, 4, 5])\n",
        "\n",
        "dl.extend([6, 7])  # deque([0, 1, 2, 3, 4, 5, 6, 7])\n",
        "\n",
        "dl.extendleft([-2, -1])  # deque([-1, -2, 0, 1, 2, 3, 4, 5, 6, 7])\n",
        "\n",
        "dl.pop()  # 7 => deque([-1, -2, 0, 1, 2, 3, 4, 5, 6])\n",
        "\n",
        "dl.popleft()  # -1 deque([-2, 0, 1, 2, 3, 4, 5, 6])\n",
        "\n",
        "dl.remove(1)  # deque([-2, 0, 2, 3, 4, 5, 6])\n",
        "\n",
        "dl.reverse()  # deque([6, 5, 4, 3, 2, 0, -2]) "
      ],
      "execution_count": 81,
      "outputs": []
    },
    {
      "cell_type": "markdown",
      "metadata": {
        "id": "bpm53fh1HM5I"
      },
      "source": [
        "### `collections.defaultdict`"
      ]
    },
    {
      "cell_type": "code",
      "metadata": {
        "colab": {
          "base_uri": "https://localhost:8080/"
        },
        "id": "JfX9LnW5z5OQ",
        "outputId": "c9a62cff-6e21-4411-fac4-9705ace74833"
      },
      "source": [
        "# somedict = {}\n",
        "# print(somedict[3]) # KeyError\n",
        "\n",
        "from collections import defaultdict\n",
        "someddict = defaultdict(int)\n",
        "print(someddict[3]) # print int(), thus 0"
      ],
      "execution_count": 82,
      "outputs": [
        {
          "output_type": "stream",
          "name": "stdout",
          "text": [
            "0\n"
          ]
        }
      ]
    },
    {
      "cell_type": "code",
      "metadata": {
        "id": "D5ipoer6HPU0",
        "colab": {
          "base_uri": "https://localhost:8080/"
        },
        "outputId": "42aa9d17-ced3-4c1f-fb12-8874593a88c6"
      },
      "source": [
        "from collections import defaultdict\n",
        "defdict = defaultdict(list)\n",
        "print(defdict)\n",
        "for i in range(5):\n",
        "    defdict[i].append(i)\n",
        "\n",
        "print(defdict)"
      ],
      "execution_count": 83,
      "outputs": [
        {
          "output_type": "stream",
          "name": "stdout",
          "text": [
            "defaultdict(<class 'list'>, {})\n",
            "defaultdict(<class 'list'>, {0: [0], 1: [1], 2: [2], 3: [3], 4: [4]})\n"
          ]
        }
      ]
    },
    {
      "cell_type": "code",
      "metadata": {
        "colab": {
          "base_uri": "https://localhost:8080/"
        },
        "id": "_CBntsflzSVg",
        "outputId": "72df2c5a-9a31-40e7-b2cf-59bb25a2900c"
      },
      "source": [
        "s = 'mississippi'\n",
        "d = defaultdict(int)\n",
        "for k in s:\n",
        "    d[k] += 1\n",
        "\n",
        "sorted(d.items())"
      ],
      "execution_count": 84,
      "outputs": [
        {
          "output_type": "execute_result",
          "data": {
            "text/plain": [
              "[('i', 4), ('m', 1), ('p', 2), ('s', 4)]"
            ]
          },
          "metadata": {},
          "execution_count": 84
        }
      ]
    },
    {
      "cell_type": "code",
      "metadata": {
        "colab": {
          "base_uri": "https://localhost:8080/"
        },
        "id": "YvpoPoz9yZjl",
        "outputId": "8b6befbe-70f0-4c21-b99c-b05ffbc18a96"
      },
      "source": [
        "s = [('yellow', 1), ('blue', 2), ('yellow', 3), ('blue', 4), ('red', 1)]\n",
        "d = defaultdict(list)\n",
        "for k, v in s:\n",
        "    d[k].append(v)\n",
        "\n",
        "sorted(d.items())"
      ],
      "execution_count": 85,
      "outputs": [
        {
          "output_type": "execute_result",
          "data": {
            "text/plain": [
              "[('blue', [2, 4]), ('red', [1]), ('yellow', [1, 3])]"
            ]
          },
          "metadata": {},
          "execution_count": 85
        }
      ]
    },
    {
      "cell_type": "markdown",
      "metadata": {
        "id": "KaPirjzUHQcw"
      },
      "source": [
        "### `collections.OrderedDict`"
      ]
    },
    {
      "cell_type": "code",
      "metadata": {
        "id": "Be1YcbSyHSTk",
        "colab": {
          "base_uri": "https://localhost:8080/"
        },
        "outputId": "deccd516-cbbf-49f4-a99e-e5954e35507d"
      },
      "source": [
        "from collections import OrderedDict\n",
        "d = {'banana': 3, 'apple':4, 'pear': 1, 'orange': 2}\n",
        "print(OrderedDict(sorted(d.items(), key=lambda t: t[0])))\n",
        "print(OrderedDict(sorted(d.items(), key=lambda t: t[1])))\n",
        "print(OrderedDict(sorted(d.items(), key=lambda t: len(t[0]))))"
      ],
      "execution_count": 86,
      "outputs": [
        {
          "output_type": "stream",
          "name": "stdout",
          "text": [
            "OrderedDict([('apple', 4), ('banana', 3), ('orange', 2), ('pear', 1)])\n",
            "OrderedDict([('pear', 1), ('orange', 2), ('banana', 3), ('apple', 4)])\n",
            "OrderedDict([('pear', 1), ('apple', 4), ('banana', 3), ('orange', 2)])\n"
          ]
        }
      ]
    },
    {
      "cell_type": "markdown",
      "metadata": {
        "id": "OxrmDR_THWDO"
      },
      "source": [
        "### `collections.namedtuple`"
      ]
    },
    {
      "cell_type": "code",
      "metadata": {
        "id": "tZlsm_GlHYP7",
        "colab": {
          "base_uri": "https://localhost:8080/"
        },
        "outputId": "6b93a65c-2e85-4266-e19f-59c53c9bc0e1"
      },
      "source": [
        "from collections import namedtuple\n",
        "Point = namedtuple('Point', ['x', 'y'])\n",
        "\n",
        "print(type(Point))\n",
        "\n",
        "p = Point(x=1, y=2)\n",
        "p\n",
        "p.x\n",
        "p[0]"
      ],
      "execution_count": 87,
      "outputs": [
        {
          "output_type": "stream",
          "name": "stdout",
          "text": [
            "<class 'type'>\n"
          ]
        },
        {
          "output_type": "execute_result",
          "data": {
            "text/plain": [
              "1"
            ]
          },
          "metadata": {},
          "execution_count": 87
        }
      ]
    }
  ]
}