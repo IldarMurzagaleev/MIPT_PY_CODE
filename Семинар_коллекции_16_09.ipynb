{
  "nbformat": 4,
  "nbformat_minor": 0,
  "metadata": {
    "colab": {
      "name": "Семинар, коллекции, 16.09.ipynb",
      "provenance": [],
      "collapsed_sections": [],
      "authorship_tag": "ABX9TyNN02TIbT9+3Cbcpjr4x3LZ",
      "include_colab_link": true
    },
    "kernelspec": {
      "name": "python3",
      "display_name": "Python 3"
    },
    "language_info": {
      "name": "python"
    }
  },
  "cells": [
    {
      "cell_type": "markdown",
      "metadata": {
        "id": "view-in-github",
        "colab_type": "text"
      },
      "source": [
        "<a href=\"https://colab.research.google.com/github/pythonkvs/seminars/blob/main/%D0%A1%D0%B5%D0%BC%D0%B8%D0%BD%D0%B0%D1%80_%D0%BA%D0%BE%D0%BB%D0%BB%D0%B5%D0%BA%D1%86%D0%B8%D0%B8_16_09.ipynb\" target=\"_parent\"><img src=\"https://colab.research.google.com/assets/colab-badge.svg\" alt=\"Open In Colab\"/></a>"
      ]
    },
    {
      "cell_type": "markdown",
      "metadata": {
        "id": "op0jAnR7ElwW"
      },
      "source": [
        "# Структуры данных"
      ]
    },
    {
      "cell_type": "code",
      "metadata": {
        "id": "2PAwjRssElwi",
        "colab": {
          "base_uri": "https://localhost:8080/"
        },
        "outputId": "353f101e-c402-473c-ec10-7b5a46b97e18"
      },
      "source": [
        "# built-in структуры данных\n",
        "list, tuple, dict, set, frozenset"
      ],
      "execution_count": 1,
      "outputs": [
        {
          "output_type": "execute_result",
          "data": {
            "text/plain": [
              "(list, tuple, dict, set, frozenset)"
            ]
          },
          "metadata": {},
          "execution_count": 1
        }
      ]
    },
    {
      "cell_type": "markdown",
      "metadata": {
        "id": "FGjpY_skElwj"
      },
      "source": [
        "## Список: list"
      ]
    },
    {
      "cell_type": "markdown",
      "metadata": {
        "id": "gOZlyKoGElwk"
      },
      "source": [
        "Позволяет хранить последовательность элементов одного или разных типов с сохранением порядка добавления элементов в список."
      ]
    },
    {
      "cell_type": "code",
      "metadata": {
        "id": "OcLylIQyFMCN",
        "colab": {
          "base_uri": "https://localhost:8080/"
        },
        "outputId": "a76c5324-3ab6-4b05-a303-4c3b8bc10183"
      },
      "source": [
        "lst = [1, None, 'qwerty']\n",
        "list([1, None, 'qwerty']) == lst  # list() gets any iterable object as input"
      ],
      "execution_count": 2,
      "outputs": [
        {
          "output_type": "execute_result",
          "data": {
            "text/plain": [
              "True"
            ]
          },
          "metadata": {},
          "execution_count": 2
        }
      ]
    },
    {
      "cell_type": "code",
      "metadata": {
        "id": "EK15XcYOFMCO",
        "colab": {
          "base_uri": "https://localhost:8080/"
        },
        "outputId": "909e0c01-c1b5-4180-b2ff-a8b72bdbbc60"
      },
      "source": [
        "lst[0] = [10, 20]\n",
        "lst"
      ],
      "execution_count": 3,
      "outputs": [
        {
          "output_type": "execute_result",
          "data": {
            "text/plain": [
              "[[10, 20], None, 'qwerty']"
            ]
          },
          "metadata": {},
          "execution_count": 3
        }
      ]
    },
    {
      "cell_type": "markdown",
      "metadata": {
        "id": "ttUKdnhdFMCO"
      },
      "source": [
        "- элементы могут быть произвольного типа\n",
        "- сам список является изменяемым типом"
      ]
    },
    {
      "cell_type": "markdown",
      "metadata": {
        "id": "Z-ATUwMgFMCO"
      },
      "source": [
        "\n",
        "### `Операции над списками`"
      ]
    },
    {
      "cell_type": "code",
      "metadata": {
        "id": "l4VuVr-EFMCO",
        "colab": {
          "base_uri": "https://localhost:8080/"
        },
        "outputId": "a1fe5238-257e-49da-9f39-5faf4a7a7e75"
      },
      "source": [
        "len(lst)"
      ],
      "execution_count": 4,
      "outputs": [
        {
          "output_type": "execute_result",
          "data": {
            "text/plain": [
              "3"
            ]
          },
          "metadata": {},
          "execution_count": 4
        }
      ]
    },
    {
      "cell_type": "code",
      "metadata": {
        "id": "y1WBJPlCFMCO",
        "colab": {
          "base_uri": "https://localhost:8080/"
        },
        "outputId": "78333344-6190-4a4a-9183-0b6d4bb49ea0"
      },
      "source": [
        "type(lst)"
      ],
      "execution_count": 5,
      "outputs": [
        {
          "output_type": "execute_result",
          "data": {
            "text/plain": [
              "list"
            ]
          },
          "metadata": {},
          "execution_count": 5
        }
      ]
    },
    {
      "cell_type": "code",
      "metadata": {
        "id": "gvH_pKx-FMCO",
        "colab": {
          "base_uri": "https://localhost:8080/",
          "height": 35
        },
        "outputId": "6b662071-25de-49a0-e95b-d97908a736d8"
      },
      "source": [
        "lst[-1]"
      ],
      "execution_count": 6,
      "outputs": [
        {
          "output_type": "execute_result",
          "data": {
            "application/vnd.google.colaboratory.intrinsic+json": {
              "type": "string"
            },
            "text/plain": [
              "'qwerty'"
            ]
          },
          "metadata": {},
          "execution_count": 6
        }
      ]
    },
    {
      "cell_type": "code",
      "metadata": {
        "id": "LZRRtXwtFMCP",
        "colab": {
          "base_uri": "https://localhost:8080/"
        },
        "outputId": "b556ecaf-6ec1-47ec-c048-b298902bd6bb"
      },
      "source": [
        "lst[: 100]  # slice bounds can be exceed real ones"
      ],
      "execution_count": 7,
      "outputs": [
        {
          "output_type": "execute_result",
          "data": {
            "text/plain": [
              "[[10, 20], None, 'qwerty']"
            ]
          },
          "metadata": {},
          "execution_count": 7
        }
      ]
    },
    {
      "cell_type": "code",
      "metadata": {
        "id": "9jcE7j2gFMCP",
        "colab": {
          "base_uri": "https://localhost:8080/",
          "height": 163
        },
        "outputId": "af931007-72aa-4c30-ff77-239ed9628f9b"
      },
      "source": [
        "lst[5]"
      ],
      "execution_count": 8,
      "outputs": [
        {
          "output_type": "error",
          "ename": "IndexError",
          "evalue": "ignored",
          "traceback": [
            "\u001b[0;31m---------------------------------------------------------------------------\u001b[0m",
            "\u001b[0;31mIndexError\u001b[0m                                Traceback (most recent call last)",
            "\u001b[0;32m<ipython-input-8-843c5cb805fc>\u001b[0m in \u001b[0;36m<module>\u001b[0;34m()\u001b[0m\n\u001b[0;32m----> 1\u001b[0;31m \u001b[0mlst\u001b[0m\u001b[0;34m[\u001b[0m\u001b[0;36m5\u001b[0m\u001b[0;34m]\u001b[0m\u001b[0;34m\u001b[0m\u001b[0;34m\u001b[0m\u001b[0m\n\u001b[0m",
            "\u001b[0;31mIndexError\u001b[0m: list index out of range"
          ]
        }
      ]
    },
    {
      "cell_type": "code",
      "metadata": {
        "id": "gSyEjbFXFMCP",
        "colab": {
          "base_uri": "https://localhost:8080/"
        },
        "outputId": "65763fd6-ef44-4b1c-fa83-f38768d1b720"
      },
      "source": [
        "lst = [1, 2, 3]\n",
        "lst.append(4)\n",
        "lst"
      ],
      "execution_count": 9,
      "outputs": [
        {
          "output_type": "execute_result",
          "data": {
            "text/plain": [
              "[1, 2, 3, 4]"
            ]
          },
          "metadata": {},
          "execution_count": 9
        }
      ]
    },
    {
      "cell_type": "code",
      "metadata": {
        "id": "3PBDT17zFMCP",
        "colab": {
          "base_uri": "https://localhost:8080/"
        },
        "outputId": "9f7ff4b4-f77c-4671-a791-4b5ada2ace6b"
      },
      "source": [
        "print(lst.pop(), lst)"
      ],
      "execution_count": 10,
      "outputs": [
        {
          "output_type": "stream",
          "name": "stdout",
          "text": [
            "4 [1, 2, 3]\n"
          ]
        }
      ]
    },
    {
      "cell_type": "code",
      "metadata": {
        "id": "Tmz5VaaxFMCP",
        "colab": {
          "base_uri": "https://localhost:8080/"
        },
        "outputId": "4506b8d5-d236-4034-b3de-9c11bfab8a02"
      },
      "source": [
        "lst.sort(reverse=True)  # equals to lst.reverse()\n",
        "lst"
      ],
      "execution_count": 11,
      "outputs": [
        {
          "output_type": "execute_result",
          "data": {
            "text/plain": [
              "[3, 2, 1]"
            ]
          },
          "metadata": {},
          "execution_count": 11
        }
      ]
    },
    {
      "cell_type": "code",
      "metadata": {
        "id": "mGsdSPWcFMCQ",
        "colab": {
          "base_uri": "https://localhost:8080/"
        },
        "outputId": "b931c086-8c98-4dd0-9172-5d5cf4a7a63f"
      },
      "source": [
        "lst * 2"
      ],
      "execution_count": 12,
      "outputs": [
        {
          "output_type": "execute_result",
          "data": {
            "text/plain": [
              "[3, 2, 1, 3, 2, 1]"
            ]
          },
          "metadata": {},
          "execution_count": 12
        }
      ]
    },
    {
      "cell_type": "code",
      "metadata": {
        "id": "AUoClvQmFMCQ",
        "colab": {
          "base_uri": "https://localhost:8080/"
        },
        "outputId": "a54dd911-dd5f-436f-daaa-48502aa79ba1"
      },
      "source": [
        "lst + list('abc')"
      ],
      "execution_count": 13,
      "outputs": [
        {
          "output_type": "execute_result",
          "data": {
            "text/plain": [
              "[3, 2, 1, 'a', 'b', 'c']"
            ]
          },
          "metadata": {},
          "execution_count": 13
        }
      ]
    },
    {
      "cell_type": "markdown",
      "metadata": {
        "id": "Ja5U92N7FMCQ"
      },
      "source": [
        "### `Списковые включения и генераторы списков`"
      ]
    },
    {
      "cell_type": "code",
      "metadata": {
        "id": "JFSHXsWpFMCQ",
        "colab": {
          "base_uri": "https://localhost:8080/"
        },
        "outputId": "0417ab22-e1fa-4fdb-ad94-d6a19714add3"
      },
      "source": [
        "[x ** 2 for x in [1, 2, 3] if x > 1]  # list comprehension"
      ],
      "execution_count": 14,
      "outputs": [
        {
          "output_type": "execute_result",
          "data": {
            "text/plain": [
              "[4, 9]"
            ]
          },
          "metadata": {},
          "execution_count": 14
        }
      ]
    },
    {
      "cell_type": "code",
      "metadata": {
        "id": "CwuYhesfFMCQ",
        "colab": {
          "base_uri": "https://localhost:8080/"
        },
        "outputId": "cef0bf07-f99f-4484-9cb5-b1d6d9011e89"
      },
      "source": [
        "lst = [x ** 2 for x in [1, 2, 3] if x > 1]\n",
        "print(type(lst))\n",
        "\n",
        "for _ in [1, 2]:  # _ means value we really don't need\n",
        "    for e in lst:\n",
        "        print(e)"
      ],
      "execution_count": 15,
      "outputs": [
        {
          "output_type": "stream",
          "name": "stdout",
          "text": [
            "<class 'list'>\n",
            "4\n",
            "9\n",
            "4\n",
            "9\n"
          ]
        }
      ]
    },
    {
      "cell_type": "code",
      "metadata": {
        "id": "sVtvWPcKFMCQ",
        "colab": {
          "base_uri": "https://localhost:8080/"
        },
        "outputId": "f9f10b43-d970-4220-a653-0cf857a361d1"
      },
      "source": [
        "lst = (x ** 2 for x in [1, 2, 3] if x > 1)  # list generator\n",
        "print(type(lst))\n",
        "\n",
        "for _ in [1, 2]:\n",
        "    for e in lst:\n",
        "        print(e)"
      ],
      "execution_count": 16,
      "outputs": [
        {
          "output_type": "stream",
          "name": "stdout",
          "text": [
            "<class 'generator'>\n",
            "4\n",
            "9\n"
          ]
        }
      ]
    },
    {
      "cell_type": "markdown",
      "metadata": {
        "id": "skbFF7EtFMCR"
      },
      "source": [
        "### `Снова про объекты и переменные`\n",
        "\n",
        "---\n",
        "\n"
      ]
    },
    {
      "cell_type": "code",
      "metadata": {
        "id": "nUvL65X1FMCR",
        "colab": {
          "base_uri": "https://localhost:8080/"
        },
        "outputId": "2d4f9503-7446-499c-a06e-f26a77521b75"
      },
      "source": [
        "a = [2]\n",
        "b = a\n",
        "a += [1]\n",
        "print(b)"
      ],
      "execution_count": 17,
      "outputs": [
        {
          "output_type": "stream",
          "name": "stdout",
          "text": [
            "[2, 1]\n"
          ]
        }
      ]
    },
    {
      "cell_type": "markdown",
      "metadata": {
        "id": "RwR2iOZQFMCS"
      },
      "source": [
        "- список - изменяемый объект, создание новой ссылки не приводит к появлению нового объекта\n",
        "- есть две переменные, указывающие на один и тот же список"
      ]
    },
    {
      "cell_type": "code",
      "metadata": {
        "id": "5zLv3mpPFMCS",
        "colab": {
          "base_uri": "https://localhost:8080/"
        },
        "outputId": "b5d9018f-e57b-45e4-dcc6-a68e2d5d60e2"
      },
      "source": [
        "del a\n",
        "print(b)"
      ],
      "execution_count": 18,
      "outputs": [
        {
          "output_type": "stream",
          "name": "stdout",
          "text": [
            "[2, 1]\n"
          ]
        }
      ]
    },
    {
      "cell_type": "markdown",
      "metadata": {
        "id": "Y8TFYFJ8FMCS"
      },
      "source": [
        "- удаление `a` не приводит у удалению списка, поскольку на него ещё ссылается `b`"
      ]
    },
    {
      "cell_type": "markdown",
      "metadata": {
        "id": "v5ANzq-XFMCS"
      },
      "source": [
        "### `Копирование изменяемых объектов`"
      ]
    },
    {
      "cell_type": "code",
      "metadata": {
        "id": "85TZ0aGvFMCS",
        "colab": {
          "base_uri": "https://localhost:8080/"
        },
        "outputId": "1b9e192f-8d40-4a74-c67a-84bb2f8c6131"
      },
      "source": [
        "a = [1, 2, 3]\n",
        "b = a[:]\n",
        "b.append(4)\n",
        "print(a)"
      ],
      "execution_count": 19,
      "outputs": [
        {
          "output_type": "stream",
          "name": "stdout",
          "text": [
            "[1, 2, 3]\n"
          ]
        }
      ]
    },
    {
      "cell_type": "code",
      "metadata": {
        "id": "r8tvCzr8FMCT",
        "colab": {
          "base_uri": "https://localhost:8080/"
        },
        "outputId": "75e4974b-98a3-4642-9122-8aaf17af40bf"
      },
      "source": [
        "a = [1, 2, 3]\n",
        "b = a.copy()\n",
        "b.append(4)\n",
        "print(a)"
      ],
      "execution_count": 20,
      "outputs": [
        {
          "output_type": "stream",
          "name": "stdout",
          "text": [
            "[1, 2, 3]\n"
          ]
        }
      ]
    },
    {
      "cell_type": "markdown",
      "metadata": {
        "id": "oE5BezfWFMCT"
      },
      "source": [
        "### `Копирование вложенных изменяемых объектов`"
      ]
    },
    {
      "cell_type": "code",
      "metadata": {
        "id": "xWx0i4FOFMCT",
        "colab": {
          "base_uri": "https://localhost:8080/"
        },
        "outputId": "395ff2e2-8e0d-4e22-ece5-eff9b628f7be"
      },
      "source": [
        "a = [['a', 'b', 'c'], 2, 3]\n",
        "b = a.copy()\n",
        "b[0].append('d')\n",
        "print(a)\n",
        "print(b)"
      ],
      "execution_count": 21,
      "outputs": [
        {
          "output_type": "stream",
          "name": "stdout",
          "text": [
            "[['a', 'b', 'c', 'd'], 2, 3]\n",
            "[['a', 'b', 'c', 'd'], 2, 3]\n"
          ]
        }
      ]
    },
    {
      "cell_type": "code",
      "metadata": {
        "id": "o75gded_FMCT",
        "colab": {
          "base_uri": "https://localhost:8080/"
        },
        "outputId": "bf6e32ec-7a10-4b93-fe41-a87ee04040d3"
      },
      "source": [
        "import copy\n",
        "\n",
        "a = [['a', 'b', 'c'], 2, 3]\n",
        "b = copy.deepcopy(a)\n",
        "b[0].append('d')\n",
        "print(a)\n",
        "print(b)"
      ],
      "execution_count": 22,
      "outputs": [
        {
          "output_type": "stream",
          "name": "stdout",
          "text": [
            "[['a', 'b', 'c'], 2, 3]\n",
            "[['a', 'b', 'c', 'd'], 2, 3]\n"
          ]
        }
      ]
    },
    {
      "cell_type": "markdown",
      "metadata": {
        "id": "cw0Fg1J9kw-P"
      },
      "source": [
        "### `Временная сложность`"
      ]
    },
    {
      "cell_type": "code",
      "metadata": {
        "id": "QIz50eRhElws",
        "colab": {
          "base_uri": "https://localhost:8080/"
        },
        "outputId": "1ec95db0-8589-429d-bda5-739fb7d5bdbb"
      },
      "source": [
        "example_list = []\n",
        "# добавляем элемент в конец списка O(1)\n",
        "example_list.append(\"foo\")\n",
        "print(example_list)\n",
        "\n",
        "# добавляем элемент в начало O(n)\n",
        "example_list.insert(0, \"bar\")\n",
        "print(example_list)\n",
        "\n",
        "example_list.extend([\"foo\", 1])\n",
        "print(example_list)"
      ],
      "execution_count": 23,
      "outputs": [
        {
          "output_type": "stream",
          "name": "stdout",
          "text": [
            "['foo']\n",
            "['bar', 'foo']\n",
            "['bar', 'foo', 'foo', 1]\n"
          ]
        }
      ]
    },
    {
      "cell_type": "code",
      "metadata": {
        "id": "CD0c3vajElwv",
        "colab": {
          "base_uri": "https://localhost:8080/"
        },
        "outputId": "48a68823-6d6f-411d-e91e-551edcbe5da0"
      },
      "source": [
        "benchmark_list = []\n",
        "%timeit -n10000 benchmark_list.append(\"foo\")"
      ],
      "execution_count": 24,
      "outputs": [
        {
          "output_type": "stream",
          "name": "stdout",
          "text": [
            "10000 loops, best of 5: 111 ns per loop\n"
          ]
        }
      ]
    },
    {
      "cell_type": "code",
      "metadata": {
        "id": "hELcXKEuElwv",
        "colab": {
          "base_uri": "https://localhost:8080/"
        },
        "outputId": "3101be52-1ce0-4a6d-fc6c-63abba2d6544"
      },
      "source": [
        "benchmark_list = []\n",
        "%timeit -n10000 benchmark_list.insert(0, \"bar\")"
      ],
      "execution_count": 25,
      "outputs": [
        {
          "output_type": "stream",
          "name": "stdout",
          "text": [
            "The slowest run took 7.92 times longer than the fastest. This could mean that an intermediate result is being cached.\n",
            "10000 loops, best of 5: 2.55 µs per loop\n"
          ]
        }
      ]
    },
    {
      "cell_type": "code",
      "metadata": {
        "id": "kWq7gbhnElww",
        "colab": {
          "base_uri": "https://localhost:8080/"
        },
        "outputId": "8dc8217b-58e8-45ca-e1d2-f70110336ab8"
      },
      "source": [
        "example_list = [0, 1, 2, 3, 4, 5, 6]\n",
        "\n",
        "# доступ к элементу O(1)\n",
        "print(example_list[0])\n",
        "print(example_list[-1])\n",
        "\n",
        "# Изменение по индексу O(1)\n",
        "example_list[6] = 10"
      ],
      "execution_count": 26,
      "outputs": [
        {
          "output_type": "stream",
          "name": "stdout",
          "text": [
            "0\n",
            "6\n"
          ]
        }
      ]
    },
    {
      "cell_type": "code",
      "metadata": {
        "id": "ZpXqNzL0Elwx",
        "colab": {
          "base_uri": "https://localhost:8080/"
        },
        "outputId": "e4ad4f81-342d-4bc5-9d9c-4f747533850d"
      },
      "source": [
        "# Удаление элемента O(n)\n",
        "print(example_list)\n",
        "del example_list[-1]\n",
        "print(example_list)"
      ],
      "execution_count": 27,
      "outputs": [
        {
          "output_type": "stream",
          "name": "stdout",
          "text": [
            "[0, 1, 2, 3, 4, 5, 10]\n",
            "[0, 1, 2, 3, 4, 5]\n"
          ]
        }
      ]
    },
    {
      "cell_type": "code",
      "metadata": {
        "id": "9nSn1bl-Elwy",
        "colab": {
          "base_uri": "https://localhost:8080/"
        },
        "outputId": "bf315c26-9e7b-4296-a329-5fadc16f1018"
      },
      "source": [
        "example_list.remove(4)\n",
        "print(example_list)"
      ],
      "execution_count": 28,
      "outputs": [
        {
          "output_type": "stream",
          "name": "stdout",
          "text": [
            "[0, 1, 2, 3, 5]\n"
          ]
        }
      ]
    },
    {
      "cell_type": "markdown",
      "metadata": {
        "id": "uxdZUxIYElw2"
      },
      "source": [
        "### Немного о сортировке"
      ]
    },
    {
      "cell_type": "code",
      "metadata": {
        "id": "ioO6Qo0lElw3",
        "colab": {
          "base_uri": "https://localhost:8080/"
        },
        "outputId": "007a903b-7eca-490c-f261-eb06be38983c"
      },
      "source": [
        "# Сортировка списка\n",
        "unsorted_list = [2, 1, 5, 4, 3]\n",
        "unsorted_list.sort()\n",
        "print(unsorted_list)"
      ],
      "execution_count": 29,
      "outputs": [
        {
          "output_type": "stream",
          "name": "stdout",
          "text": [
            "[1, 2, 3, 4, 5]\n"
          ]
        }
      ]
    },
    {
      "cell_type": "code",
      "metadata": {
        "id": "f4XDaOvmElw4",
        "colab": {
          "base_uri": "https://localhost:8080/"
        },
        "outputId": "b5fbfc57-9bc5-4387-d34d-a59e1e77e2d1"
      },
      "source": [
        "unsorted_list = [2, 1, 5, 4, 3]\n",
        "print(sorted(unsorted_list))\n",
        "print(unsorted_list)"
      ],
      "execution_count": 30,
      "outputs": [
        {
          "output_type": "stream",
          "name": "stdout",
          "text": [
            "[1, 2, 3, 4, 5]\n",
            "[2, 1, 5, 4, 3]\n"
          ]
        }
      ]
    },
    {
      "cell_type": "markdown",
      "metadata": {
        "id": "wrxXvJtbElw4"
      },
      "source": [
        "## Кортеж: tuple"
      ]
    },
    {
      "cell_type": "markdown",
      "metadata": {
        "id": "F9_pY2x9Elw4"
      },
      "source": [
        "Так же как и список позволяет хранить последовательность элементов одного или разного типа\n",
        "\n",
        "* Неизменяемые (Immutable) => защищают данные\n",
        "* Быстрее списка"
      ]
    },
    {
      "cell_type": "code",
      "metadata": {
        "colab": {
          "base_uri": "https://localhost:8080/"
        },
        "id": "l8u0QklnnrJ0",
        "outputId": "09312d5d-107f-4040-c324-1aa918a46ffb"
      },
      "source": [
        "type(()), type(tuple())"
      ],
      "execution_count": 31,
      "outputs": [
        {
          "output_type": "execute_result",
          "data": {
            "text/plain": [
              "(tuple, tuple)"
            ]
          },
          "metadata": {},
          "execution_count": 31
        }
      ]
    },
    {
      "cell_type": "code",
      "metadata": {
        "colab": {
          "base_uri": "https://localhost:8080/"
        },
        "id": "PvlVr_GFnrJ1",
        "outputId": "a24e91c4-52e8-43a8-c6b8-0e0b46a3f248"
      },
      "source": [
        "(1, 2, 'str', 4.0, None)"
      ],
      "execution_count": 32,
      "outputs": [
        {
          "output_type": "execute_result",
          "data": {
            "text/plain": [
              "(1, 2, 'str', 4.0, None)"
            ]
          },
          "metadata": {},
          "execution_count": 32
        }
      ]
    },
    {
      "cell_type": "code",
      "metadata": {
        "colab": {
          "base_uri": "https://localhost:8080/"
        },
        "id": "XoK8Mw48nrJ1",
        "outputId": "cc468f05-ccfe-478d-c374-3a6b98cbe03d"
      },
      "source": [
        "(1, 2) + (3.0, 6, None)"
      ],
      "execution_count": 33,
      "outputs": [
        {
          "output_type": "execute_result",
          "data": {
            "text/plain": [
              "(1, 2, 3.0, 6, None)"
            ]
          },
          "metadata": {},
          "execution_count": 33
        }
      ]
    },
    {
      "cell_type": "code",
      "metadata": {
        "colab": {
          "base_uri": "https://localhost:8080/"
        },
        "id": "enLWhkxwnrJ1",
        "outputId": "55b62b6d-6757-493a-ebaa-a45975a08ac2"
      },
      "source": [
        "tpl = tuple([1, 2, 3])\n",
        "tpl[2]"
      ],
      "execution_count": 34,
      "outputs": [
        {
          "output_type": "execute_result",
          "data": {
            "text/plain": [
              "3"
            ]
          },
          "metadata": {},
          "execution_count": 34
        }
      ]
    },
    {
      "cell_type": "code",
      "metadata": {
        "id": "btDJxhHmElw7",
        "colab": {
          "base_uri": "https://localhost:8080/"
        },
        "outputId": "5379bda6-a040-4ac9-93ec-0c9e5a18ce75"
      },
      "source": [
        "a = (123)\n",
        "a\n",
        "print(type(a))\n",
        "a = (123,  )# в кортеже с одним элементом запятая обязательна!\n",
        "print(type(a))\n",
        "a = 1,2,3\n",
        "print (type(a))"
      ],
      "execution_count": 35,
      "outputs": [
        {
          "output_type": "stream",
          "name": "stdout",
          "text": [
            "<class 'int'>\n",
            "<class 'tuple'>\n",
            "<class 'tuple'>\n"
          ]
        }
      ]
    },
    {
      "cell_type": "markdown",
      "metadata": {
        "id": "9Pcn2ttLElw7"
      },
      "source": [
        "Важно понимать, что **неизменяемым является сам tuple, но не объекты, которые он содержит!**. Например:"
      ]
    },
    {
      "cell_type": "code",
      "metadata": {
        "id": "XF-kR2E7Elw8",
        "colab": {
          "base_uri": "https://localhost:8080/"
        },
        "outputId": "caf5ba15-be46-449f-964c-4f0cfc887411"
      },
      "source": [
        "first_list = [1, 2]\n",
        "second_list = [3, 4]\n",
        "example_tuple = (first_list, second_list)\n",
        "print(example_tuple)\n",
        "first_list.append(5)\n",
        "print(example_tuple)"
      ],
      "execution_count": 36,
      "outputs": [
        {
          "output_type": "stream",
          "name": "stdout",
          "text": [
            "([1, 2], [3, 4])\n",
            "([1, 2, 5], [3, 4])\n"
          ]
        }
      ]
    },
    {
      "cell_type": "markdown",
      "metadata": {
        "id": "M96uwT6KElw9"
      },
      "source": [
        "## Словарь: dict"
      ]
    },
    {
      "cell_type": "markdown",
      "metadata": {
        "id": "lrcWeT0MmRg-"
      },
      "source": [
        "- словарь (`dict`) - это ассоциативный массив (отображение), т.е. набор пар \"ключ-значение\"<br><br>\n",
        "- словарь поддерживает возможность быстро искать значение по ключу<br><br>\n",
        "- в Python словари реализованы на основе хэш-таблиц (сложность поиска O(1))<br><br>\n",
        "- словари также являются изменяемым типом данных<br><br>\n",
        "- значения могут иметь произвольный тип<br><br>\n",
        "- ключи - произвольный неизменяемый тип"
      ]
    },
    {
      "cell_type": "code",
      "metadata": {
        "id": "NhaPYxCEoday",
        "colab": {
          "base_uri": "https://localhost:8080/"
        },
        "outputId": "d6192aa6-1bcf-41f9-85df-18d8eaca8046"
      },
      "source": [
        "type(dict()), type({})"
      ],
      "execution_count": 37,
      "outputs": [
        {
          "output_type": "execute_result",
          "data": {
            "text/plain": [
              "(dict, dict)"
            ]
          },
          "metadata": {},
          "execution_count": 37
        }
      ]
    },
    {
      "cell_type": "code",
      "metadata": {
        "id": "q7TbEEYFodaz",
        "colab": {
          "base_uri": "https://localhost:8080/"
        },
        "outputId": "658706e3-2c6d-423f-814c-c3aff858731a"
      },
      "source": [
        "# simple creation of nested structures!\n",
        "d = {'1': 1, 's': 2, None: [1, {None: True}]}\n",
        "d"
      ],
      "execution_count": 38,
      "outputs": [
        {
          "output_type": "execute_result",
          "data": {
            "text/plain": [
              "{'1': 1, None: [1, {None: True}], 's': 2}"
            ]
          },
          "metadata": {},
          "execution_count": 38
        }
      ]
    },
    {
      "cell_type": "code",
      "metadata": {
        "id": "HciyNM2Codaz",
        "colab": {
          "base_uri": "https://localhost:8080/"
        },
        "outputId": "f61f261d-4de2-437d-b523-482fccc578ca"
      },
      "source": [
        "d['s'] = 'two'\n",
        "d"
      ],
      "execution_count": 39,
      "outputs": [
        {
          "output_type": "execute_result",
          "data": {
            "text/plain": [
              "{'1': 1, None: [1, {None: True}], 's': 'two'}"
            ]
          },
          "metadata": {},
          "execution_count": 39
        }
      ]
    },
    {
      "cell_type": "code",
      "metadata": {
        "id": "JM-VUpZoodaz",
        "colab": {
          "base_uri": "https://localhost:8080/"
        },
        "outputId": "660c5ecd-5fd9-447f-df38-056589264197"
      },
      "source": [
        "del d['1']  # remove object\n",
        "print(d)"
      ],
      "execution_count": 40,
      "outputs": [
        {
          "output_type": "stream",
          "name": "stdout",
          "text": [
            "{'s': 'two', None: [1, {None: True}]}\n"
          ]
        }
      ]
    },
    {
      "cell_type": "code",
      "metadata": {
        "id": "YUDhNZwBodaz"
      },
      "source": [
        "d2 = {'s': 3, 'a': 'b'}"
      ],
      "execution_count": 41,
      "outputs": []
    },
    {
      "cell_type": "markdown",
      "metadata": {
        "id": "sTrdiJS-odaz"
      },
      "source": [
        "### `Операции над словарями`"
      ]
    },
    {
      "cell_type": "code",
      "metadata": {
        "colab": {
          "base_uri": "https://localhost:8080/"
        },
        "id": "de6-mU6Codaz",
        "outputId": "5f96ec7d-0b55-4418-ea9d-7941ce22d196"
      },
      "source": [
        "d = dict.fromkeys(list('abcccc'))\n",
        "d"
      ],
      "execution_count": 42,
      "outputs": [
        {
          "output_type": "execute_result",
          "data": {
            "text/plain": [
              "{'a': None, 'b': None, 'c': None}"
            ]
          },
          "metadata": {},
          "execution_count": 42
        }
      ]
    },
    {
      "cell_type": "code",
      "metadata": {
        "colab": {
          "base_uri": "https://localhost:8080/"
        },
        "id": "IXZLxGOxoda0",
        "outputId": "c69f4ade-3533-47da-dba0-de0ce0dbb061"
      },
      "source": [
        "for k in d.keys():  # view object\n",
        "    d[k] = ord(k)\n",
        "d"
      ],
      "execution_count": 43,
      "outputs": [
        {
          "output_type": "execute_result",
          "data": {
            "text/plain": [
              "{'a': 97, 'b': 98, 'c': 99}"
            ]
          },
          "metadata": {},
          "execution_count": 43
        }
      ]
    },
    {
      "cell_type": "code",
      "metadata": {
        "colab": {
          "base_uri": "https://localhost:8080/"
        },
        "id": "098pnYqyoda0",
        "outputId": "56327477-c8ff-4b29-8e87-bed1ddf9765b"
      },
      "source": [
        "for k, v in d.items():  # view object\n",
        "    print(k, v)"
      ],
      "execution_count": 44,
      "outputs": [
        {
          "output_type": "stream",
          "name": "stdout",
          "text": [
            "a 97\n",
            "b 98\n",
            "c 99\n"
          ]
        }
      ]
    },
    {
      "cell_type": "code",
      "metadata": {
        "colab": {
          "base_uri": "https://localhost:8080/"
        },
        "id": "iCmPLCatoda0",
        "outputId": "76954832-2391-4032-9c80-00e64b87aff1"
      },
      "source": [
        "D = dict(a=ord('a'), b=ord('b'), c=ord('c'))\n",
        "d == D"
      ],
      "execution_count": 45,
      "outputs": [
        {
          "output_type": "execute_result",
          "data": {
            "text/plain": [
              "True"
            ]
          },
          "metadata": {},
          "execution_count": 45
        }
      ]
    },
    {
      "cell_type": "code",
      "metadata": {
        "colab": {
          "base_uri": "https://localhost:8080/"
        },
        "id": "7M_a2i2zoda0",
        "outputId": "6ea5f68f-5357-494a-c820-dc8d92aa96dd"
      },
      "source": [
        "d.update(d2)\n",
        "d"
      ],
      "execution_count": 46,
      "outputs": [
        {
          "output_type": "execute_result",
          "data": {
            "text/plain": [
              "{'a': 'b', 'b': 98, 'c': 99, 's': 3}"
            ]
          },
          "metadata": {},
          "execution_count": 46
        }
      ]
    },
    {
      "cell_type": "code",
      "metadata": {
        "id": "72TNcJVM3miY",
        "colab": {
          "base_uri": "https://localhost:8080/"
        },
        "outputId": "63194386-d4ce-4cc8-c29f-b5b0db9f4ffb"
      },
      "source": [
        "d3 = {'w': 73}\n",
        "{**d, **d3}"
      ],
      "execution_count": 47,
      "outputs": [
        {
          "output_type": "execute_result",
          "data": {
            "text/plain": [
              "{'a': 'b', 'b': 98, 'c': 99, 's': 3, 'w': 73}"
            ]
          },
          "metadata": {},
          "execution_count": 47
        }
      ]
    },
    {
      "cell_type": "markdown",
      "metadata": {
        "id": "hjsRSF6Ilt-_"
      },
      "source": [
        "### `Сравнение словаря со списком`"
      ]
    },
    {
      "cell_type": "code",
      "metadata": {
        "id": "Qa3V9xMTElxB"
      },
      "source": [
        "# посмотрим на разницу поиска значения в словаре и списке\n",
        "search_list = list(range(100000))\n",
        "search_dict = dict.fromkeys(list(range(100000)))"
      ],
      "execution_count": 48,
      "outputs": []
    },
    {
      "cell_type": "code",
      "metadata": {
        "id": "4k2x2QpfElxB",
        "colab": {
          "base_uri": "https://localhost:8080/"
        },
        "outputId": "84bea198-1b93-4315-a88e-ae560b566373"
      },
      "source": [
        "%timeit -n10000 0 in search_list"
      ],
      "execution_count": 49,
      "outputs": [
        {
          "output_type": "stream",
          "name": "stdout",
          "text": [
            "10000 loops, best of 5: 97 ns per loop\n"
          ]
        }
      ]
    },
    {
      "cell_type": "code",
      "metadata": {
        "id": "PzLDsvfcElxB",
        "colab": {
          "base_uri": "https://localhost:8080/"
        },
        "outputId": "0ab580e0-042c-477d-bbdd-1f1330b4f6d8"
      },
      "source": [
        "%timeit -n10000 0 in search_dict"
      ],
      "execution_count": 50,
      "outputs": [
        {
          "output_type": "stream",
          "name": "stdout",
          "text": [
            "10000 loops, best of 5: 126 ns per loop\n"
          ]
        }
      ]
    },
    {
      "cell_type": "code",
      "metadata": {
        "id": "WNewilflElxC",
        "colab": {
          "base_uri": "https://localhost:8080/"
        },
        "outputId": "8fbecc0a-bb77-4a57-ccf7-cc26c93e8fbe"
      },
      "source": [
        "%timeit -n1000 99999 in search_list"
      ],
      "execution_count": 51,
      "outputs": [
        {
          "output_type": "stream",
          "name": "stdout",
          "text": [
            "1000 loops, best of 5: 1.5 ms per loop\n"
          ]
        }
      ]
    },
    {
      "cell_type": "code",
      "metadata": {
        "id": "uRGUDVM9ElxC",
        "colab": {
          "base_uri": "https://localhost:8080/"
        },
        "outputId": "2fcce63b-aee7-4d5a-a535-35ee5b5bd553"
      },
      "source": [
        "%timeit -n10000 99999 in search_dict"
      ],
      "execution_count": 52,
      "outputs": [
        {
          "output_type": "stream",
          "name": "stdout",
          "text": [
            "10000 loops, best of 5: 80.1 ns per loop\n"
          ]
        }
      ]
    },
    {
      "cell_type": "markdown",
      "metadata": {
        "id": "b1SlsXfHElxE"
      },
      "source": [
        "### `В python3.6 dict сохраняет порядок добавления элементов`"
      ]
    },
    {
      "cell_type": "code",
      "metadata": {
        "id": "GBDl_6qAElxE",
        "colab": {
          "base_uri": "https://localhost:8080/"
        },
        "outputId": "e2a6f94f-aa61-4810-c9e3-bb7dfe8f99f4"
      },
      "source": [
        "example = dict()\n",
        "for item in range(0, 10):\n",
        "    example[item - 1] = item\n",
        "print(example)\n",
        "for key, value in example.items():\n",
        "    print(key, value)"
      ],
      "execution_count": 53,
      "outputs": [
        {
          "output_type": "stream",
          "name": "stdout",
          "text": [
            "{-1: 0, 0: 1, 1: 2, 2: 3, 3: 4, 4: 5, 5: 6, 6: 7, 7: 8, 8: 9}\n",
            "-1 0\n",
            "0 1\n",
            "1 2\n",
            "2 3\n",
            "3 4\n",
            "4 5\n",
            "5 6\n",
            "6 7\n",
            "7 8\n",
            "8 9\n"
          ]
        }
      ]
    },
    {
      "cell_type": "markdown",
      "metadata": {
        "id": "lAwdOMmOElxE"
      },
      "source": [
        "## Равенство и идентичность"
      ]
    },
    {
      "cell_type": "code",
      "metadata": {
        "id": "sVW1vLh1ElxE",
        "colab": {
          "base_uri": "https://localhost:8080/"
        },
        "outputId": "81db50b9-1d9f-4a1f-f1a8-99375ff5c671"
      },
      "source": [
        "\"a\" in [\"a\", \"b\"]"
      ],
      "execution_count": 54,
      "outputs": [
        {
          "output_type": "execute_result",
          "data": {
            "text/plain": [
              "True"
            ]
          },
          "metadata": {},
          "execution_count": 54
        }
      ]
    },
    {
      "cell_type": "code",
      "metadata": {
        "id": "gCUw7SjLElxF",
        "colab": {
          "base_uri": "https://localhost:8080/"
        },
        "outputId": "3d9e6189-e68b-4e8f-d555-3d19ed0abae4"
      },
      "source": [
        "first_list = [1,2,3]\n",
        "from copy import deepcopy\n",
        "second_list = deepcopy(first_list)\n",
        "print(first_list == second_list)\n",
        "print(first_list is second_list)"
      ],
      "execution_count": 55,
      "outputs": [
        {
          "output_type": "stream",
          "name": "stdout",
          "text": [
            "True\n",
            "False\n"
          ]
        }
      ]
    },
    {
      "cell_type": "code",
      "metadata": {
        "id": "uSdANZVCElxF",
        "colab": {
          "base_uri": "https://localhost:8080/"
        },
        "outputId": "a8bf60d8-088e-4e4e-d229-88f672adeac9"
      },
      "source": [
        "apple_count = \"one\"\n",
        "orange_count = \"one\"\n",
        "print(apple_count == orange_count)\n",
        "print(apple_count is orange_count)"
      ],
      "execution_count": 56,
      "outputs": [
        {
          "output_type": "stream",
          "name": "stdout",
          "text": [
            "True\n",
            "True\n"
          ]
        }
      ]
    },
    {
      "cell_type": "code",
      "metadata": {
        "id": "0CGYb0MtElxF",
        "colab": {
          "base_uri": "https://localhost:8080/"
        },
        "outputId": "16df03b4-be9b-4a6c-dac2-dbcf57ab33f6"
      },
      "source": [
        "apple_count = \"more than one\"\n",
        "orange_count = \"more than one\"\n",
        "print(apple_count == orange_count)\n",
        "print(apple_count is orange_count)"
      ],
      "execution_count": 57,
      "outputs": [
        {
          "output_type": "stream",
          "name": "stdout",
          "text": [
            "True\n",
            "False\n"
          ]
        }
      ]
    },
    {
      "cell_type": "markdown",
      "metadata": {
        "id": "l99FSQnIElxG"
      },
      "source": [
        "## Множество: set"
      ]
    },
    {
      "cell_type": "markdown",
      "metadata": {
        "id": "4Q9RhsKVElxH"
      },
      "source": [
        "Неупорядоченная коллекция, содержащая только уникальные хешируемые элементы.\n",
        "\n",
        "\n"
      ]
    },
    {
      "cell_type": "code",
      "metadata": {
        "id": "TUiM35pmj4YU",
        "colab": {
          "base_uri": "https://localhost:8080/"
        },
        "outputId": "f30208fd-4c87-405d-efde-240c693be225"
      },
      "source": [
        "type(set()), type({1}), type({})  # Empty '{}' is a dict, not a set!"
      ],
      "execution_count": 58,
      "outputs": [
        {
          "output_type": "execute_result",
          "data": {
            "text/plain": [
              "(set, set, dict)"
            ]
          },
          "metadata": {},
          "execution_count": 58
        }
      ]
    },
    {
      "cell_type": "code",
      "metadata": {
        "id": "Uxotxsj6j4YU",
        "colab": {
          "base_uri": "https://localhost:8080/"
        },
        "outputId": "ddd69f74-f47e-4ef1-8c60-6738fd69b79e"
      },
      "source": [
        "{1, 2, 3, 3, 2, 1, 'set', 'a'}"
      ],
      "execution_count": 59,
      "outputs": [
        {
          "output_type": "execute_result",
          "data": {
            "text/plain": [
              "{1, 2, 3, 'a', 'set'}"
            ]
          },
          "metadata": {},
          "execution_count": 59
        }
      ]
    },
    {
      "cell_type": "code",
      "metadata": {
        "id": "pOi_UiM3j4YU",
        "colab": {
          "base_uri": "https://localhost:8080/"
        },
        "outputId": "41cf7dd4-1aa8-4b5f-b258-e68eea02a89b"
      },
      "source": [
        "s = {1, 2, 3}\n",
        "s.add(4)\n",
        "s"
      ],
      "execution_count": 60,
      "outputs": [
        {
          "output_type": "execute_result",
          "data": {
            "text/plain": [
              "{1, 2, 3, 4}"
            ]
          },
          "metadata": {},
          "execution_count": 60
        }
      ]
    },
    {
      "cell_type": "code",
      "metadata": {
        "id": "DOapxERYj4YV",
        "colab": {
          "base_uri": "https://localhost:8080/"
        },
        "outputId": "b05bfe7b-5bfb-41b0-c37b-000cfd80f2a5"
      },
      "source": [
        "s1, s2 = {1, 2, 3}, set([3, 4, 5])\n",
        "\n",
        "print('{}\\t{}\\t{}\\t{}'.format(s1 - s2, s1 | s2, s1 & s2, s1 < s2))"
      ],
      "execution_count": 61,
      "outputs": [
        {
          "output_type": "stream",
          "name": "stdout",
          "text": [
            "{1, 2}\t{1, 2, 3, 4, 5}\t{3}\tFalse\n"
          ]
        }
      ]
    },
    {
      "cell_type": "markdown",
      "metadata": {
        "id": "5NVWOUh3j4YV"
      },
      "source": [
        "### `Операции над множествами`"
      ]
    },
    {
      "cell_type": "code",
      "metadata": {
        "id": "fkr3ykgGj4YV"
      },
      "source": [
        "A, B = set('abc'), {'a', 'c', 'd'}"
      ],
      "execution_count": 62,
      "outputs": []
    },
    {
      "cell_type": "code",
      "metadata": {
        "id": "WwezlCWvj4YV",
        "colab": {
          "base_uri": "https://localhost:8080/"
        },
        "outputId": "06f13dce-d2c2-47b7-d992-3b74834180ec"
      },
      "source": [
        "A - B  # minus: in A and not in B (== A.difference(B))"
      ],
      "execution_count": 63,
      "outputs": [
        {
          "output_type": "execute_result",
          "data": {
            "text/plain": [
              "{'b'}"
            ]
          },
          "metadata": {},
          "execution_count": 63
        }
      ]
    },
    {
      "cell_type": "code",
      "metadata": {
        "id": "MGVUvLcFj4YW",
        "colab": {
          "base_uri": "https://localhost:8080/"
        },
        "outputId": "7ad5e422-35ec-49a5-c9ff-d8c2fa110fdf"
      },
      "source": [
        "A | B  # union: in A or in B (== A.union(B))"
      ],
      "execution_count": 64,
      "outputs": [
        {
          "output_type": "execute_result",
          "data": {
            "text/plain": [
              "{'a', 'b', 'c', 'd'}"
            ]
          },
          "metadata": {},
          "execution_count": 64
        }
      ]
    },
    {
      "cell_type": "code",
      "metadata": {
        "id": "8FuBKccBj4YW",
        "colab": {
          "base_uri": "https://localhost:8080/"
        },
        "outputId": "a89c2699-5d33-48a1-a14f-3651c553d15c"
      },
      "source": [
        "A & B  # intersection: in A and in B (== A.intersection(B))"
      ],
      "execution_count": 65,
      "outputs": [
        {
          "output_type": "execute_result",
          "data": {
            "text/plain": [
              "{'a', 'c'}"
            ]
          },
          "metadata": {},
          "execution_count": 65
        }
      ]
    },
    {
      "cell_type": "code",
      "metadata": {
        "id": "4pMApGQ8j4YW",
        "colab": {
          "base_uri": "https://localhost:8080/"
        },
        "outputId": "6f9bf5eb-19db-4c0e-8e78-f99427b9147b"
      },
      "source": [
        "A ^ B  # sym diff: (in A and not in B) and via versa (== A.symmetric_difference(B))"
      ],
      "execution_count": 66,
      "outputs": [
        {
          "output_type": "execute_result",
          "data": {
            "text/plain": [
              "{'b', 'd'}"
            ]
          },
          "metadata": {},
          "execution_count": 66
        }
      ]
    },
    {
      "cell_type": "markdown",
      "metadata": {
        "id": "PRnh8RBvj4YW"
      },
      "source": [
        "### `Операции над множествами`"
      ]
    },
    {
      "cell_type": "code",
      "metadata": {
        "id": "PiIfol8Ij4YW",
        "colab": {
          "base_uri": "https://localhost:8080/"
        },
        "outputId": "d56b70c6-a319-4a53-d0c4-aff0aa306523"
      },
      "source": [
        "A.add('e')\n",
        "A"
      ],
      "execution_count": 67,
      "outputs": [
        {
          "output_type": "execute_result",
          "data": {
            "text/plain": [
              "{'a', 'b', 'c', 'e'}"
            ]
          },
          "metadata": {},
          "execution_count": 67
        }
      ]
    },
    {
      "cell_type": "code",
      "metadata": {
        "id": "SExuTw-wj4YW",
        "colab": {
          "base_uri": "https://localhost:8080/"
        },
        "outputId": "e60fee8d-8da3-40d8-8e63-7e8d2e682857"
      },
      "source": [
        "A.update(B)\n",
        "A"
      ],
      "execution_count": 68,
      "outputs": [
        {
          "output_type": "execute_result",
          "data": {
            "text/plain": [
              "{'a', 'b', 'c', 'd', 'e'}"
            ]
          },
          "metadata": {},
          "execution_count": 68
        }
      ]
    },
    {
      "cell_type": "code",
      "metadata": {
        "id": "RqNWSvF6j4YX",
        "colab": {
          "base_uri": "https://localhost:8080/"
        },
        "outputId": "2ee10978-7304-4e5e-f3e8-1e5a51a1ddd8"
      },
      "source": [
        "A.remove('a')\n",
        "A"
      ],
      "execution_count": 69,
      "outputs": [
        {
          "output_type": "execute_result",
          "data": {
            "text/plain": [
              "{'b', 'c', 'd', 'e'}"
            ]
          },
          "metadata": {},
          "execution_count": 69
        }
      ]
    },
    {
      "cell_type": "code",
      "metadata": {
        "id": "349fM6WDj4YX",
        "colab": {
          "base_uri": "https://localhost:8080/"
        },
        "outputId": "9f9e97b6-fb94-4ed7-c193-6e525d6dcedb"
      },
      "source": [
        "'a' in A"
      ],
      "execution_count": 70,
      "outputs": [
        {
          "output_type": "execute_result",
          "data": {
            "text/plain": [
              "False"
            ]
          },
          "metadata": {},
          "execution_count": 70
        }
      ]
    },
    {
      "cell_type": "code",
      "metadata": {
        "id": "Qlhqmezwj4YX",
        "colab": {
          "base_uri": "https://localhost:8080/"
        },
        "outputId": "4c0d77e5-3153-4064-d159-8647478dfd4d"
      },
      "source": [
        "{'a', 'b'} < A  # is subset (== {'a', 'b'}.issubset(A))"
      ],
      "execution_count": 71,
      "outputs": [
        {
          "output_type": "execute_result",
          "data": {
            "text/plain": [
              "False"
            ]
          },
          "metadata": {},
          "execution_count": 71
        }
      ]
    },
    {
      "cell_type": "code",
      "metadata": {
        "id": "VXPkoCLaElxI",
        "colab": {
          "base_uri": "https://localhost:8080/"
        },
        "outputId": "ff80758f-9cb8-4f25-fe9d-d98aba9450e4"
      },
      "source": [
        "# например, вызов какой-либо ф-ии чат сервиса вернул нам список активных в данный момент пользователей в комнате\n",
        "active_users = [\"Александр\", \"Михаил\", \"Ольга\"]\n",
        "# вызов другой ф-ии вернул список администраторов чата\n",
        "admins = [\"Ольга\", \"Мария\"]\n",
        "# нам нужно найти список активных администраторов и послать им какое-либо уведомление\n",
        "active_admins = set(active_users).intersection(set(admins))\n",
        "active_admins"
      ],
      "execution_count": 72,
      "outputs": [
        {
          "output_type": "execute_result",
          "data": {
            "text/plain": [
              "{'Ольга'}"
            ]
          },
          "metadata": {},
          "execution_count": 72
        }
      ]
    },
    {
      "cell_type": "code",
      "metadata": {
        "id": "S_mh7QKpElxJ",
        "colab": {
          "base_uri": "https://localhost:8080/",
          "height": 197
        },
        "outputId": "6b2148ad-b633-4d30-c804-fc9c22269d74"
      },
      "source": [
        "# множества могут содержать только hashable объекты.\n",
        "example_set = set()\n",
        "example_set.add([1, 2, 3])"
      ],
      "execution_count": 73,
      "outputs": [
        {
          "output_type": "error",
          "ename": "TypeError",
          "evalue": "ignored",
          "traceback": [
            "\u001b[0;31m---------------------------------------------------------------------------\u001b[0m",
            "\u001b[0;31mTypeError\u001b[0m                                 Traceback (most recent call last)",
            "\u001b[0;32m<ipython-input-73-21350249849c>\u001b[0m in \u001b[0;36m<module>\u001b[0;34m()\u001b[0m\n\u001b[1;32m      1\u001b[0m \u001b[0;31m# множества могут содержать только hashable объекты.\u001b[0m\u001b[0;34m\u001b[0m\u001b[0;34m\u001b[0m\u001b[0;34m\u001b[0m\u001b[0m\n\u001b[1;32m      2\u001b[0m \u001b[0mexample_set\u001b[0m \u001b[0;34m=\u001b[0m \u001b[0mset\u001b[0m\u001b[0;34m(\u001b[0m\u001b[0;34m)\u001b[0m\u001b[0;34m\u001b[0m\u001b[0;34m\u001b[0m\u001b[0m\n\u001b[0;32m----> 3\u001b[0;31m \u001b[0mexample_set\u001b[0m\u001b[0;34m.\u001b[0m\u001b[0madd\u001b[0m\u001b[0;34m(\u001b[0m\u001b[0;34m[\u001b[0m\u001b[0;36m1\u001b[0m\u001b[0;34m,\u001b[0m \u001b[0;36m2\u001b[0m\u001b[0;34m,\u001b[0m \u001b[0;36m3\u001b[0m\u001b[0;34m]\u001b[0m\u001b[0;34m)\u001b[0m\u001b[0;34m\u001b[0m\u001b[0;34m\u001b[0m\u001b[0m\n\u001b[0m",
            "\u001b[0;31mTypeError\u001b[0m: unhashable type: 'list'"
          ]
        }
      ]
    },
    {
      "cell_type": "markdown",
      "metadata": {
        "id": "tsO_VQahElxJ"
      },
      "source": [
        "**Основная задача, очень часто возникающая на практике. Есть список элементов, нужно оставить только уникальные. Это одна строка с использованием множества:**"
      ]
    },
    {
      "cell_type": "code",
      "metadata": {
        "id": "UdO7oGTxElxJ",
        "colab": {
          "base_uri": "https://localhost:8080/"
        },
        "outputId": "58a85f29-f6fc-446d-d5ed-91ece95c87cc"
      },
      "source": [
        "elements = [\"yellow\", \"yellow\", \"green\", \"red\", \"blue\", \"blue\", \"magenta\", \"orange\", \"red\"]\n",
        "set(elements)"
      ],
      "execution_count": 74,
      "outputs": [
        {
          "output_type": "execute_result",
          "data": {
            "text/plain": [
              "{'blue', 'green', 'magenta', 'orange', 'red', 'yellow'}"
            ]
          },
          "metadata": {},
          "execution_count": 74
        }
      ]
    },
    {
      "cell_type": "markdown",
      "metadata": {
        "id": "aMSQc4zrElxK"
      },
      "source": [
        "## frozenset"
      ]
    },
    {
      "cell_type": "markdown",
      "metadata": {
        "id": "oUkf_o7gElxK"
      },
      "source": [
        "Так как set может содержать только hashable объекты, а иногда нужен сет сетов - существует frozenset"
      ]
    },
    {
      "cell_type": "code",
      "metadata": {
        "id": "qr5QtHvyElxK",
        "colab": {
          "base_uri": "https://localhost:8080/"
        },
        "outputId": "1b6b7317-1a7f-4568-c437-71fe602b50dc"
      },
      "source": [
        "example_set = set()\n",
        "example_set.add(frozenset([1,2,3]))\n",
        "print(example_set)\n",
        "a = frozenset([1,2,3,3])\n",
        "print(a)"
      ],
      "execution_count": 75,
      "outputs": [
        {
          "output_type": "stream",
          "name": "stdout",
          "text": [
            "{frozenset({1, 2, 3})}\n",
            "frozenset({1, 2, 3})\n"
          ]
        }
      ]
    },
    {
      "cell_type": "markdown",
      "metadata": {
        "id": "cRuW8yP-ElxK"
      },
      "source": [
        "## collections"
      ]
    },
    {
      "cell_type": "markdown",
      "metadata": {
        "id": "D7Vay2c8GxPs"
      },
      "source": [
        "### `collections.Counter`"
      ]
    },
    {
      "cell_type": "code",
      "metadata": {
        "id": "jrflpSwNGypg",
        "colab": {
          "base_uri": "https://localhost:8080/"
        },
        "outputId": "20a85996-f7d4-4105-f892-63f0bd1b12cf"
      },
      "source": [
        "from collections import Counter\n",
        "\n",
        "c = Counter()\n",
        "for word in ['spam', 'egg', 'spam', 'counter', 'counter', 'counter']:\n",
        "    c[word] += 1\n",
        "\n",
        "print(c)\n",
        "print(c['counter'])\n",
        "print(c['collections'])"
      ],
      "execution_count": 76,
      "outputs": [
        {
          "output_type": "stream",
          "name": "stdout",
          "text": [
            "Counter({'counter': 3, 'spam': 2, 'egg': 1})\n",
            "3\n",
            "0\n"
          ]
        }
      ]
    },
    {
      "cell_type": "code",
      "metadata": {
        "id": "0OTSUeuXG4sn",
        "colab": {
          "base_uri": "https://localhost:8080/"
        },
        "outputId": "97089ad6-d5d7-4596-dd0d-38a60092604a"
      },
      "source": [
        "c = Counter(a=4, b=2, c=0, d=-2)\n",
        "list(c.elements())"
      ],
      "execution_count": 77,
      "outputs": [
        {
          "output_type": "execute_result",
          "data": {
            "text/plain": [
              "['a', 'a', 'a', 'a', 'b', 'b']"
            ]
          },
          "metadata": {},
          "execution_count": 77
        }
      ]
    },
    {
      "cell_type": "code",
      "metadata": {
        "id": "0Q4f2lObG6i3",
        "colab": {
          "base_uri": "https://localhost:8080/"
        },
        "outputId": "8f8f733d-9399-4312-cfe8-fbad98a362a1"
      },
      "source": [
        "Counter('abracadabra').most_common(3)"
      ],
      "execution_count": 78,
      "outputs": [
        {
          "output_type": "execute_result",
          "data": {
            "text/plain": [
              "[('a', 5), ('b', 2), ('r', 2)]"
            ]
          },
          "metadata": {},
          "execution_count": 78
        }
      ]
    },
    {
      "cell_type": "code",
      "metadata": {
        "id": "acT5wdBcG8Px",
        "colab": {
          "base_uri": "https://localhost:8080/"
        },
        "outputId": "8b0c63b4-681c-41df-b016-40799a21a2cb"
      },
      "source": [
        "c = Counter(a=4, b=2, c=0, d=-2)\n",
        "d = Counter(a=1, b=2, c=3, d=4)\n",
        "c.subtract(d)\n",
        "c"
      ],
      "execution_count": 79,
      "outputs": [
        {
          "output_type": "execute_result",
          "data": {
            "text/plain": [
              "Counter({'a': 3, 'b': 0, 'c': -3, 'd': -6})"
            ]
          },
          "metadata": {},
          "execution_count": 79
        }
      ]
    },
    {
      "cell_type": "code",
      "metadata": {
        "id": "Ii02MxFVG-tU",
        "colab": {
          "base_uri": "https://localhost:8080/"
        },
        "outputId": "dfb6fa16-e52d-43d7-9fa8-9e23bdb6e90d"
      },
      "source": [
        "c = Counter(a=3, b=1)\n",
        "d = Counter(a=1, b=2)\n",
        "print(c + d)\n",
        "print(c - d)\n",
        "print(c & d)\n",
        "print(c | d)"
      ],
      "execution_count": 80,
      "outputs": [
        {
          "output_type": "stream",
          "name": "stdout",
          "text": [
            "Counter({'a': 4, 'b': 3})\n",
            "Counter({'a': 2})\n",
            "Counter({'a': 1, 'b': 1})\n",
            "Counter({'a': 3, 'b': 2})\n"
          ]
        }
      ]
    },
    {
      "cell_type": "markdown",
      "metadata": {
        "id": "Yz1ZJ5PKHAaV"
      },
      "source": [
        "### `collections.deque`"
      ]
    },
    {
      "cell_type": "markdown",
      "metadata": {
        "id": "vL1i49_Cvjx4"
      },
      "source": [
        "collections.deque(iterable, [maxlen]) - создаёт очередь из итерируемого объекта с максимальной длиной maxlen. Очереди очень похожи на списки, за исключением того, что добавлять и удалять элементы можно либо справа, либо слева.\n",
        "\n",
        "Методы, определённые в deque:\n",
        "\n",
        "*   append(x) - добавляет x в конец.\n",
        "*   appendleft(x) - добавляет x в начало.\n",
        "*   clear() - очищает очередь.\n",
        "*   count(x) - количество элементов, равных x.\n",
        "*   extend(iterable) - добавляет в конец все элементы iterable.\n",
        "*   extendleft(iterable) - добавляет в начало все элементы iterable (начиная с последнего элемента iterable).\n",
        "*   pop() - удаляет и возвращает последний элемент очереди.\n",
        "*   popleft() - удаляет и возвращает первый элемент очереди.\n",
        "*   remove(value) - удаляет первое вхождение value.\n",
        "*   reverse() - разворачивает очередь.\n",
        "*   rotate(n) - последовательно переносит n элементов из начала в конец (если n отрицательно, то с конца в начало)."
      ]
    },
    {
      "cell_type": "code",
      "metadata": {
        "id": "PHaBEVY1uxWd"
      },
      "source": [
        "from collections import deque\n",
        "\n",
        "d = deque([1, 2, 3])\n",
        "p = d.popleft()        # p = 1, d = deque([2, 3])\n",
        "d.appendleft(5)        # d = deque([5, 2, 3]) \n",
        "\n",
        "d = deque(maxlen=3)  # only holds 3 items\n",
        "d.append(1)  # deque([1])\n",
        "d.append(2)  # deque([1, 2])\n",
        "d.append(3)  # deque([1, 2, 3])\n",
        "d.append(4)  # deque([2, 3, 4]) (1 is removed because its maxlen is 3)\n",
        "\n",
        "dl = deque()  # deque([]) creating empty deque\n",
        "\n",
        "dl = deque([1, 2, 3, 4])  # deque([1, 2, 3, 4])\n",
        "\n",
        "dl.append(5)  # deque([1, 2, 3, 4, 5])\n",
        "\n",
        "dl.appendleft(0)  # deque([0, 1, 2, 3, 4, 5])\n",
        "\n",
        "dl.extend([6, 7])  # deque([0, 1, 2, 3, 4, 5, 6, 7])\n",
        "\n",
        "dl.extendleft([-2, -1])  # deque([-1, -2, 0, 1, 2, 3, 4, 5, 6, 7])\n",
        "\n",
        "dl.pop()  # 7 => deque([-1, -2, 0, 1, 2, 3, 4, 5, 6])\n",
        "\n",
        "dl.popleft()  # -1 deque([-2, 0, 1, 2, 3, 4, 5, 6])\n",
        "\n",
        "dl.remove(1)  # deque([-2, 0, 2, 3, 4, 5, 6])\n",
        "\n",
        "dl.reverse()  # deque([6, 5, 4, 3, 2, 0, -2]) "
      ],
      "execution_count": 81,
      "outputs": []
    },
    {
      "cell_type": "markdown",
      "metadata": {
        "id": "bpm53fh1HM5I"
      },
      "source": [
        "### `collections.defaultdict`"
      ]
    },
    {
      "cell_type": "code",
      "metadata": {
        "colab": {
          "base_uri": "https://localhost:8080/"
        },
        "id": "JfX9LnW5z5OQ",
        "outputId": "2667f4a9-e814-4424-b64a-8d6da5ae96cb"
      },
      "source": [
        "# somedict = {}\n",
        "# print(somedict[3]) # KeyError\n",
        "\n",
        "from collections import defaultdict\n",
        "someddict = defaultdict(int)\n",
        "print(someddict[3]) # print int(), thus 0"
      ],
      "execution_count": 82,
      "outputs": [
        {
          "output_type": "stream",
          "name": "stdout",
          "text": [
            "0\n"
          ]
        }
      ]
    },
    {
      "cell_type": "code",
      "metadata": {
        "id": "D5ipoer6HPU0",
        "colab": {
          "base_uri": "https://localhost:8080/"
        },
        "outputId": "1fe78a94-18a6-4be0-8b98-21e828b3ef20"
      },
      "source": [
        "from collections import defaultdict\n",
        "defdict = defaultdict(list)\n",
        "print(defdict)\n",
        "for i in range(5):\n",
        "    defdict[i].append(i)\n",
        "\n",
        "print(defdict)"
      ],
      "execution_count": 83,
      "outputs": [
        {
          "output_type": "stream",
          "name": "stdout",
          "text": [
            "defaultdict(<class 'list'>, {})\n",
            "defaultdict(<class 'list'>, {0: [0], 1: [1], 2: [2], 3: [3], 4: [4]})\n"
          ]
        }
      ]
    },
    {
      "cell_type": "code",
      "metadata": {
        "colab": {
          "base_uri": "https://localhost:8080/"
        },
        "id": "_CBntsflzSVg",
        "outputId": "1177e90e-b83a-4700-9394-db2da99968ba"
      },
      "source": [
        "s = 'mississippi'\n",
        "d = defaultdict(int)\n",
        "for k in s:\n",
        "    d[k] += 1\n",
        "\n",
        "sorted(d.items())"
      ],
      "execution_count": 84,
      "outputs": [
        {
          "output_type": "execute_result",
          "data": {
            "text/plain": [
              "[('i', 4), ('m', 1), ('p', 2), ('s', 4)]"
            ]
          },
          "metadata": {},
          "execution_count": 84
        }
      ]
    },
    {
      "cell_type": "code",
      "metadata": {
        "colab": {
          "base_uri": "https://localhost:8080/"
        },
        "id": "YvpoPoz9yZjl",
        "outputId": "218b9d18-a912-4abf-a4ac-b32e7da5fa1c"
      },
      "source": [
        "s = [('yellow', 1), ('blue', 2), ('yellow', 3), ('blue', 4), ('red', 1)]\n",
        "d = defaultdict(list)\n",
        "for k, v in s:\n",
        "    d[k].append(v)\n",
        "\n",
        "sorted(d.items())"
      ],
      "execution_count": 85,
      "outputs": [
        {
          "output_type": "execute_result",
          "data": {
            "text/plain": [
              "[('blue', [2, 4]), ('red', [1]), ('yellow', [1, 3])]"
            ]
          },
          "metadata": {},
          "execution_count": 85
        }
      ]
    },
    {
      "cell_type": "markdown",
      "metadata": {
        "id": "KaPirjzUHQcw"
      },
      "source": [
        "### `collections.OrderedDict`"
      ]
    },
    {
      "cell_type": "code",
      "metadata": {
        "id": "Be1YcbSyHSTk",
        "colab": {
          "base_uri": "https://localhost:8080/"
        },
        "outputId": "9c47ded3-c876-42d8-d392-01dc8f0be9b5"
      },
      "source": [
        "from collections import OrderedDict\n",
        "d = {'banana': 3, 'apple':4, 'pear': 1, 'orange': 2}\n",
        "print(OrderedDict(sorted(d.items(), key=lambda t: t[0])))\n",
        "print(OrderedDict(sorted(d.items(), key=lambda t: t[1])))\n",
        "print(OrderedDict(sorted(d.items(), key=lambda t: len(t[0]))))"
      ],
      "execution_count": 86,
      "outputs": [
        {
          "output_type": "stream",
          "name": "stdout",
          "text": [
            "OrderedDict([('apple', 4), ('banana', 3), ('orange', 2), ('pear', 1)])\n",
            "OrderedDict([('pear', 1), ('orange', 2), ('banana', 3), ('apple', 4)])\n",
            "OrderedDict([('pear', 1), ('apple', 4), ('banana', 3), ('orange', 2)])\n"
          ]
        }
      ]
    },
    {
      "cell_type": "markdown",
      "metadata": {
        "id": "OxrmDR_THWDO"
      },
      "source": [
        "### `collections.namedtuple`"
      ]
    },
    {
      "cell_type": "code",
      "metadata": {
        "id": "tZlsm_GlHYP7",
        "colab": {
          "base_uri": "https://localhost:8080/"
        },
        "outputId": "bacd1a6e-5d8e-4eef-84da-3b4340d97629"
      },
      "source": [
        "from collections import namedtuple\n",
        "Point = namedtuple('Point', ['x', 'y'])\n",
        "p = Point(x=1, y=2)\n",
        "p\n",
        "p.x\n",
        "p[0]"
      ],
      "execution_count": 87,
      "outputs": [
        {
          "output_type": "execute_result",
          "data": {
            "text/plain": [
              "1"
            ]
          },
          "metadata": {},
          "execution_count": 87
        }
      ]
    }
  ]
}