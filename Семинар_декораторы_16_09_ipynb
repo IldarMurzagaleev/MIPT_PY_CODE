{
  "nbformat": 4,
  "nbformat_minor": 0,
  "metadata": {
    "colab": {
      "name": "Семинар, декораторы, 16.09.ipynb\"",
      "provenance": [],
      "collapsed_sections": [
        "nb5AJN_UHrwa",
        "gRwAUxyNkq4k",
        "cUZifdOaS5h0"
      ],
      "authorship_tag": "ABX9TyMX+9mvrxA7XLrOMmyrScwN",
      "include_colab_link": true
    },
    "kernelspec": {
      "name": "python3",
      "display_name": "Python 3"
    },
    "language_info": {
      "name": "python"
    }
  },
  "cells": [
    {
      "cell_type": "markdown",
      "metadata": {
        "id": "view-in-github",
        "colab_type": "text"
      },
      "source": [
        "<a href=\"https://colab.research.google.com/github/pythonkvs/seminars/blob/main/%D0%A1%D0%B5%D0%BC%D0%B8%D0%BD%D0%B0%D1%80_%D0%B4%D0%B5%D0%BA%D0%BE%D1%80%D0%B0%D1%82%D0%BE%D1%80%D1%8B_16_09_ipynb\" target=\"_parent\"><img src=\"https://colab.research.google.com/assets/colab-badge.svg\" alt=\"Open In Colab\"/></a>"
      ]
    },
    {
      "cell_type": "markdown",
      "metadata": {
        "id": "4bxuPEBNcy5t"
      },
      "source": [
        "### `Декораторы в Python`\n",
        "\n",
        "- Декораторы как способ изменения поведения объектов поддерживается на уровне синтаксиса ряда языков (Python, Java)<br><br>\n",
        "- Декоратор \"оборачивается\" вокруг других объектов, меняя их свойства и/или поведение<br><br>\n",
        "- В Python это особенно просто за счет duck-typing<br><br>\n",
        "- На уровне языка поддерживаются декораторы функций (методов) и декораторы классов<br><br>"
      ]
    },
    {
      "cell_type": "markdown",
      "metadata": {
        "id": "T3JHEIk-h67a"
      },
      "source": [
        "**pythonworld - python 3 для начинающих**  \n",
        "\n",
        "https://pythonworld.ru/osnovy/dekoratory.html"
      ]
    },
    {
      "cell_type": "code",
      "metadata": {
        "id": "O1Xv7LXUiIWj",
        "colab": {
          "base_uri": "https://localhost:8080/"
        },
        "outputId": "0651adec-62d2-4f57-dfcd-3139de77df81"
      },
      "source": [
        "def my_decorator(function_to_decorate):\n",
        "    # Внутри себя декоратор определяет функцию-\"обертку\". Она будет обернута вокруг декорируемой,\n",
        "    # получая возможность исполнять произвольный код до и после нее.\n",
        "    def the_wrapper_around_the_original_function():\n",
        "        print(\"Код до вызова функции\")\n",
        "        function_to_decorate() # Сама функция\n",
        "        print(\"Код после вызова функции\")\n",
        "    # Вернем эту функцию\n",
        "    return the_wrapper_around_the_original_function\n",
        "\n",
        "# Представим теперь, что у нас есть функция, которую мы не планируем больше трогать.\n",
        "def test_function():\n",
        "    print(\"Исполнение функции test_function\")\n",
        "\n",
        "test_function()\n",
        "print()\n",
        "\n",
        "# Однако, чтобы изменить ее поведение, мы можем декорировать ее, то есть просто передать декоратору,\n",
        "# который обернет исходную функцию в любой код, который нам потребуется, и вернет новую,\n",
        "# готовую к использованию функцию:\n",
        "test_function_decorated = my_decorator(test_function)\n",
        "test_function_decorated()"
      ],
      "execution_count": 1,
      "outputs": [
        {
          "output_type": "stream",
          "name": "stdout",
          "text": [
            "Исполнение функции test_function\n",
            "\n",
            "Код до вызова функции\n",
            "Исполнение функции test_function\n",
            "Код после вызова функции\n"
          ]
        }
      ]
    },
    {
      "cell_type": "code",
      "metadata": {
        "id": "PptpdCgFiKYJ",
        "colab": {
          "base_uri": "https://localhost:8080/"
        },
        "outputId": "457fbb76-1b00-4e96-96cd-2be65b44b05a"
      },
      "source": [
        "test_function = my_decorator(test_function)\n",
        "test_function()"
      ],
      "execution_count": 2,
      "outputs": [
        {
          "output_type": "stream",
          "name": "stdout",
          "text": [
            "Код до вызова функции\n",
            "Исполнение функции test_function\n",
            "Код после вызова функции\n"
          ]
        }
      ]
    },
    {
      "cell_type": "code",
      "metadata": {
        "id": "un2XdK0ZiN5l",
        "colab": {
          "base_uri": "https://localhost:8080/"
        },
        "outputId": "2693e4d2-5426-4994-e297-059ed20d0e8d"
      },
      "source": [
        "@my_decorator\n",
        "def test_function():\n",
        "    print(\"Исполнение функции test_function\")\n",
        "\n",
        "test_function()"
      ],
      "execution_count": 3,
      "outputs": [
        {
          "output_type": "stream",
          "name": "stdout",
          "text": [
            "Код до вызова функции\n",
            "Исполнение функции test_function\n",
            "Код после вызова функции\n"
          ]
        }
      ]
    },
    {
      "cell_type": "code",
      "metadata": {
        "id": "ix0BZ0reiTQt",
        "colab": {
          "base_uri": "https://localhost:8080/"
        },
        "outputId": "373ed67f-ca3a-4e2f-e0c5-d984ea6b6a2f"
      },
      "source": [
        "def bread(func):\n",
        "    def wrapper():\n",
        "        print(\"</¯¯¯¯¯¯\\>\")\n",
        "        func()\n",
        "        print(\"<\\______/>\")\n",
        "    return wrapper\n",
        "\n",
        "def ingredients(func):\n",
        "    def wrapper():\n",
        "        print(\"#помидоры#\")\n",
        "        func()\n",
        "        print(\"~салат~\")\n",
        "    return wrapper\n",
        "\n",
        "def sandwich(food=\"--ветчина--\"):\n",
        "    print(food)\n",
        "\n",
        "sandwich()\n",
        "print()\n",
        "\n",
        "sandwich = bread(ingredients(sandwich))\n",
        "sandwich()"
      ],
      "execution_count": 4,
      "outputs": [
        {
          "output_type": "stream",
          "name": "stdout",
          "text": [
            "--ветчина--\n",
            "\n",
            "</¯¯¯¯¯¯\\>\n",
            "#помидоры#\n",
            "--ветчина--\n",
            "~салат~\n",
            "<\\______/>\n"
          ]
        }
      ]
    },
    {
      "cell_type": "code",
      "metadata": {
        "id": "O0FR_9pQiTLC",
        "colab": {
          "base_uri": "https://localhost:8080/"
        },
        "outputId": "8c333599-faf2-4f44-f156-844179868b69"
      },
      "source": [
        "@bread\n",
        "@ingredients\n",
        "def sandwich(food=\"--ветчина--\"):\n",
        "    print(food)\n",
        "\n",
        "sandwich()"
      ],
      "execution_count": 5,
      "outputs": [
        {
          "output_type": "stream",
          "name": "stdout",
          "text": [
            "</¯¯¯¯¯¯\\>\n",
            "#помидоры#\n",
            "--ветчина--\n",
            "~салат~\n",
            "<\\______/>\n"
          ]
        }
      ]
    },
    {
      "cell_type": "markdown",
      "metadata": {
        "id": "z8MPgoVCibC2"
      },
      "source": [
        "*Передача декоратором аргументов в функцию*"
      ]
    },
    {
      "cell_type": "code",
      "metadata": {
        "id": "r1eJi2d9iX58",
        "colab": {
          "base_uri": "https://localhost:8080/"
        },
        "outputId": "e45e5681-5dc1-4d1a-c566-2417e8f1d9f6"
      },
      "source": [
        "def a_decorator_passing_arguments(function_to_decorate):\n",
        "    def a_wrapper_accepting_arguments(arg1, arg2):\n",
        "        print(f\"Аргументы, переданные в обертку вокруг декорируемой функции: {arg1}, {arg2}\")\n",
        "        function_to_decorate(arg1, arg2)\n",
        "    return a_wrapper_accepting_arguments\n",
        "\n",
        "# Теперь, когда мы вызываем функцию, которую возвращает декоратор, мы вызываем ее \"обертку\",\n",
        "# передаем ей аргументы, и уже в свою очередь она передает их декорируемой функции\n",
        "@a_decorator_passing_arguments\n",
        "def print_full_name(first_name, last_name):\n",
        "    print(\"Имя и фамилия:\", first_name, last_name)\n",
        "\n",
        "print_full_name(\"Иван\", \"Иванов\")"
      ],
      "execution_count": 6,
      "outputs": [
        {
          "output_type": "stream",
          "name": "stdout",
          "text": [
            "Аргументы, переданные в обертку вокруг декорируемой функции: Иван, Иванов\n",
            "Имя и фамилия: Иван Иванов\n"
          ]
        }
      ]
    },
    {
      "cell_type": "markdown",
      "metadata": {
        "id": "Gmi4KLasigK5"
      },
      "source": [
        "*Декорирование методов*"
      ]
    },
    {
      "cell_type": "code",
      "metadata": {
        "id": "Upl2eiaNiX3F",
        "colab": {
          "base_uri": "https://localhost:8080/"
        },
        "outputId": "a607b99a-9a3c-4858-d96c-f06e78b9c3e3"
      },
      "source": [
        "def decorator_for_method(method_to_decorate):\n",
        "    def wrapper(self, lie):\n",
        "        lie -= 3\n",
        "        return method_to_decorate(self, lie)\n",
        "    return wrapper\n",
        "\n",
        "class Lucy:\n",
        "    def __init__(self):\n",
        "        self.age = 32\n",
        "    @decorator_for_method\n",
        "    def sayYourAge(self, lie):\n",
        "        print(\"Мне {} лет, а ты бы сколько дал?\".format(self.age + lie))\n",
        "\n",
        "l = Lucy()\n",
        "l.sayYourAge(-3)"
      ],
      "execution_count": 7,
      "outputs": [
        {
          "output_type": "stream",
          "name": "stdout",
          "text": [
            "Мне 26 лет, а ты бы сколько дал?\n"
          ]
        }
      ]
    },
    {
      "cell_type": "code",
      "metadata": {
        "id": "YVhyW4IaiXyl",
        "colab": {
          "base_uri": "https://localhost:8080/"
        },
        "outputId": "fb988270-579b-4a7b-f801-799a8c4d7c5e"
      },
      "source": [
        "def a_decorator_passing_arbitrary_arguments(function_to_decorate):\n",
        "    # Данная \"обертка\" принимает любые аргументы\n",
        "    def a_wrapper_accepting_arbitrary_arguments(*args, **kwargs):\n",
        "        print(\"Переданные аргументы:\")\n",
        "        print(args)\n",
        "        print(kwargs)\n",
        "        function_to_decorate(*args, **kwargs)\n",
        "    return a_wrapper_accepting_arbitrary_arguments\n",
        "\n",
        "@a_decorator_passing_arbitrary_arguments\n",
        "def function_with_no_argument():\n",
        "    print(\"Вызов функции без аргументов\")\n",
        "\n",
        "function_with_no_argument()\n",
        "\n",
        "\n",
        "\n",
        "@a_decorator_passing_arbitrary_arguments\n",
        "def function_with_arguments(a, b, c):\n",
        "    print(a, b, c)\n",
        "\n",
        "function_with_arguments(1, 2, 3)\n",
        "\n",
        "\n",
        "\n",
        "@a_decorator_passing_arbitrary_arguments\n",
        "def function_with_named_arguments(a, b, c, citizenship=\"РФ\"):\n",
        "    print(f\"{a} {b} {c} {citizenship}\")\n",
        "\n",
        "function_with_named_arguments(\"Иванов\", \"Иван\", \"Иванович\", citizenship=\"Беларусь\")"
      ],
      "execution_count": 8,
      "outputs": [
        {
          "output_type": "stream",
          "name": "stdout",
          "text": [
            "Переданные аргументы:\n",
            "()\n",
            "{}\n",
            "Вызов функции без аргументов\n",
            "Переданные аргументы:\n",
            "(1, 2, 3)\n",
            "{}\n",
            "1 2 3\n",
            "Переданные аргументы:\n",
            "('Иванов', 'Иван', 'Иванович')\n",
            "{'citizenship': 'Беларусь'}\n",
            "Иванов Иван Иванович Беларусь\n"
          ]
        }
      ]
    },
    {
      "cell_type": "markdown",
      "metadata": {
        "id": "IOaul4L5imdR"
      },
      "source": [
        "*Декораторы с аргументами*"
      ]
    },
    {
      "cell_type": "code",
      "metadata": {
        "id": "YGMi2uNHiXuw",
        "colab": {
          "base_uri": "https://localhost:8080/"
        },
        "outputId": "ff7db2e9-39be-4a18-c774-d652011fa384"
      },
      "source": [
        "def decorator_maker():\n",
        "    print(\"Я создаю декораторы! Я буду вызван только раз: когда ты попросишь меня создать декоратор.\")\n",
        "    def my_decorator(func):\n",
        "        print(\"Я - декоратор! Я буду вызван только раз: в момент декорирования функции.\")\n",
        "        def wrapped():\n",
        "            print (\"Я - обертка вокруг декорируемой функции.\\n\"\n",
        "                   \"Я буду вызвана каждый раз, когда ты вызываешь декорируемую функцию.\\n\"\n",
        "                   \"Я возвращаю результат работы декорируемой функции.\")\n",
        "            return func()\n",
        "        print(\"Я возвращаю обернутую функцию.\")\n",
        "        return wrapped\n",
        "    print(\"Я возвращаю декоратор.\")\n",
        "    return my_decorator\n",
        "\n",
        "# Давайте теперь создадим декоратор. Это всего лишь еще один вызов функции\n",
        "new_decorator = decorator_maker()\n",
        "\n",
        "# Теперь декорируем функцию\n",
        "def decorated_function():\n",
        "    print(\"Я - декорируемая функция.\")\n",
        "\n",
        "decorated_function = new_decorator(decorated_function)\n",
        "# Теперь наконец вызовем функцию:\n",
        "decorated_function()"
      ],
      "execution_count": 9,
      "outputs": [
        {
          "output_type": "stream",
          "name": "stdout",
          "text": [
            "Я создаю декораторы! Я буду вызван только раз: когда ты попросишь меня создать декоратор.\n",
            "Я возвращаю декоратор.\n",
            "Я - декоратор! Я буду вызван только раз: в момент декорирования функции.\n",
            "Я возвращаю обернутую функцию.\n",
            "Я - обертка вокруг декорируемой функции.\n",
            "Я буду вызвана каждый раз, когда ты вызываешь декорируемую функцию.\n",
            "Я возвращаю результат работы декорируемой функции.\n",
            "Я - декорируемая функция.\n"
          ]
        }
      ]
    },
    {
      "cell_type": "code",
      "metadata": {
        "id": "Ut9PoeOBiXrT",
        "colab": {
          "base_uri": "https://localhost:8080/"
        },
        "outputId": "a2e10066-12cf-440b-910d-d1e83a777796"
      },
      "source": [
        "@decorator_maker()\n",
        "def decorated_function():\n",
        "    print(\"Я - декорируемая функция.\")\n",
        "\n",
        "decorated_function()"
      ],
      "execution_count": 10,
      "outputs": [
        {
          "output_type": "stream",
          "name": "stdout",
          "text": [
            "Я создаю декораторы! Я буду вызван только раз: когда ты попросишь меня создать декоратор.\n",
            "Я возвращаю декоратор.\n",
            "Я - декоратор! Я буду вызван только раз: в момент декорирования функции.\n",
            "Я возвращаю обернутую функцию.\n",
            "Я - обертка вокруг декорируемой функции.\n",
            "Я буду вызвана каждый раз, когда ты вызываешь декорируемую функцию.\n",
            "Я возвращаю результат работы декорируемой функции.\n",
            "Я - декорируемая функция.\n"
          ]
        }
      ]
    },
    {
      "cell_type": "code",
      "metadata": {
        "id": "Yu1cp42OiXlZ",
        "colab": {
          "base_uri": "https://localhost:8080/"
        },
        "outputId": "95426a12-a207-44ca-d34e-4c35fc008a8a"
      },
      "source": [
        "def decorator_maker_with_arguments(decorator_arg1, decorator_arg2):\n",
        "    print(\"Я создаю декораторы! И я получил следующие аргументы:\",\n",
        "           decorator_arg1, decorator_arg2)\n",
        "    def my_decorator(func):\n",
        "        print(\"Я - декоратор. И я имею доступ к этим аргументам:\",\n",
        "               decorator_arg1, decorator_arg2)\n",
        "        # Не перепутайте аргументы декораторов с аргументами функций!\n",
        "        def wrapped(function_arg1, function_arg2):\n",
        "            print (\"Я - обертка вокруг декорируемой функции.\\n\"\n",
        "                   \"И я имею доступ ко всем аргументам\\n\"\n",
        "                   \"\\t- и декоратора: {0} {1}\\n\"\n",
        "                   \"\\t- и функции: {2} {3}\\n\"\n",
        "                   \"Теперь я могу передать нужные аргументы дальше\"\n",
        "                   .format(decorator_arg1, decorator_arg2,\n",
        "                           function_arg1, function_arg2))\n",
        "            return func(function_arg1, function_arg2)\n",
        "        return wrapped\n",
        "    return my_decorator\n",
        "\n",
        "@decorator_maker_with_arguments(\"Сентябрь\", \"2021\")\n",
        "def decorated_function_with_arguments(function_arg1, function_arg2):\n",
        "    print (\"Я - декорируемая функция, и я знаю только о своих аргументах: {0}\"\n",
        "           \" {1}\".format(function_arg1, function_arg2))\n",
        "\n",
        "decorated_function_with_arguments(\"Иванов\", \"Иван\")"
      ],
      "execution_count": 11,
      "outputs": [
        {
          "output_type": "stream",
          "name": "stdout",
          "text": [
            "Я создаю декораторы! И я получил следующие аргументы: Сентябрь 2021\n",
            "Я - декоратор. И я имею доступ к этим аргументам: Сентябрь 2021\n",
            "Я - обертка вокруг декорируемой функции.\n",
            "И я имею доступ ко всем аргументам\n",
            "\t- и декоратора: Сентябрь 2021\n",
            "\t- и функции: Иванов Иван\n",
            "Теперь я могу передать нужные аргументы дальше\n",
            "Я - декорируемая функция, и я знаю только о своих аргументах: Иванов Иван\n"
          ]
        }
      ]
    },
    {
      "cell_type": "markdown",
      "metadata": {
        "id": "eM-wXf6okhiZ"
      },
      "source": [
        "*Некоторые особенности работы с декораторами*"
      ]
    },
    {
      "cell_type": "markdown",
      "metadata": {
        "id": "TN8qXpLdknUC"
      },
      "source": [
        "Декораторы несколько замедляют вызов функции, не забывайте об этом.\n",
        "Вы не можете \"раздекорировать\" функцию. Безусловно, существуют трюки, позволяющие создать декоратор, который можно отсоединить от функции, но это плохая практика. Правильнее будет запомнить, что если функция декорирована — это не отменить.\n",
        "Декораторы оборачивают функции, что может затруднить отладку."
      ]
    },
    {
      "cell_type": "markdown",
      "metadata": {
        "id": "B19ie30FksME"
      },
      "source": [
        "Последняя проблема частично решена добавлением в модуле functools функции functools.wraps, копирующей всю информацию об оборачиваемой функции (ее имя, из какого она модуля, ее документацию и т.п.) в функцию-обертку.\n",
        "\n",
        "functools.wraps тоже является декоратором."
      ]
    },
    {
      "cell_type": "code",
      "metadata": {
        "id": "jwe3SPW8krcV",
        "colab": {
          "base_uri": "https://localhost:8080/"
        },
        "outputId": "294dd292-42c3-4112-de0e-cf97d460238b"
      },
      "source": [
        "def foo():\n",
        "    print(\"foo\")\n",
        "print(foo.__name__)\n",
        "\n",
        "\n",
        "\n",
        "def bar(func):\n",
        "    def wrapper():\n",
        "        print(\"bar\")\n",
        "        return func()\n",
        "    return wrapper\n",
        "\n",
        "\n",
        "@bar\n",
        "def foo():\n",
        "    print(\"foo\")\n",
        "\n",
        "print(foo.__name__)\n",
        "\n",
        "\n",
        "\n",
        "\n",
        "import functools\n",
        "def bar(func):\n",
        "    # Объявляем \"wrapper\" оборачивающим \"func\":\n",
        "    @functools.wraps(func)\n",
        "    def wrapper():\n",
        "        print(\"bar\")\n",
        "        return func()\n",
        "    return wrapper\n",
        "\n",
        "@bar\n",
        "def foo():\n",
        "    print(\"foo\")\n",
        "\n",
        "print(foo.__name__)"
      ],
      "execution_count": 12,
      "outputs": [
        {
          "output_type": "stream",
          "name": "stdout",
          "text": [
            "foo\n",
            "wrapper\n",
            "foo\n"
          ]
        }
      ]
    },
    {
      "cell_type": "markdown",
      "metadata": {
        "id": "Ak7Ttll3kxph"
      },
      "source": [
        "*Примеры использования декораторов*"
      ]
    },
    {
      "cell_type": "code",
      "metadata": {
        "id": "WJ-wnRgLkkxM",
        "colab": {
          "base_uri": "https://localhost:8080/"
        },
        "outputId": "14e2d0f1-868a-4999-f2ca-047b773411a3"
      },
      "source": [
        "def benchmark(func):\n",
        "    \"\"\"\n",
        "    Декоратор, выводящий время, которое заняло\n",
        "    выполнение декорируемой функции.\n",
        "    \"\"\"\n",
        "    import time\n",
        "    def wrapper(*args, **kwargs):\n",
        "        t = time.clock()\n",
        "        res = func(*args, **kwargs)\n",
        "        print(func.__name__, time.clock() - t)\n",
        "        return res\n",
        "    return wrapper\n",
        "\n",
        "def logging(func):\n",
        "    \"\"\"\n",
        "    Декоратор, логирующий работу кода.\n",
        "    \"\"\"\n",
        "    def wrapper(*args, **kwargs):\n",
        "        res = func(*args, **kwargs)\n",
        "        print(func.__name__, args, kwargs)\n",
        "        return res\n",
        "    return wrapper\n",
        "\n",
        "def counter(func):\n",
        "    \"\"\"\n",
        "    Декоратор, считающий и выводящий количество вызовов\n",
        "    декорируемой функции.\n",
        "    \"\"\"\n",
        "    def wrapper(*args, **kwargs):\n",
        "        wrapper.count += 1\n",
        "        res = func(*args, **kwargs)\n",
        "        print(\"{0} была вызвана: {1}x\".format(func.__name__, wrapper.count))\n",
        "        return res\n",
        "    wrapper.count = 0\n",
        "    return wrapper\n",
        "\n",
        "@benchmark\n",
        "@logging\n",
        "@counter\n",
        "def reverse_string(string):\n",
        "    return ''.join(reversed(string))\n",
        "\n",
        "print(reverse_string(\"А роза упала на лапу Азора\"))\n",
        "print(reverse_string(\"A man, a plan, a canoe, pasta, heros, rajahs, a coloratura,\"\n",
        "\"maps, snipe, percale, macaroni, a gag, a banana bag, a tan, a tag,\"\n",
        "\"a banana bag again (or a camel), a crepe, pins, Spam, a rut, a Rolo, cash,\"\n",
        "\"a jar, sore hats, a peon, a canal: Panama!\"))"
      ],
      "execution_count": 13,
      "outputs": [
        {
          "output_type": "stream",
          "name": "stdout",
          "text": [
            "reverse_string была вызвана: 1x\n",
            "wrapper ('А роза упала на лапу Азора',) {}\n",
            "wrapper 0.0002949999999999342\n",
            "арозА упал ан алапу азор А\n",
            "reverse_string была вызвана: 2x\n",
            "wrapper ('A man, a plan, a canoe, pasta, heros, rajahs, a coloratura,maps, snipe, percale, macaroni, a gag, a banana bag, a tan, a tag,a banana bag again (or a camel), a crepe, pins, Spam, a rut, a Rolo, cash,a jar, sore hats, a peon, a canal: Panama!',) {}\n",
            "wrapper 0.0001229999999998732\n",
            "!amanaP :lanac a ,noep a ,stah eros ,raj a,hsac ,oloR a ,tur a ,mapS ,snip ,eperc a ,)lemac a ro( niaga gab ananab a,gat a ,nat a ,gab ananab a ,gag a ,inoracam ,elacrep ,epins ,spam,arutaroloc a ,shajar ,soreh ,atsap ,eonac a ,nalp a ,nam A\n"
          ]
        },
        {
          "output_type": "stream",
          "name": "stderr",
          "text": [
            "/usr/local/lib/python3.7/dist-packages/ipykernel_launcher.py:8: DeprecationWarning: time.clock has been deprecated in Python 3.3 and will be removed from Python 3.8: use time.perf_counter or time.process_time instead\n",
            "  \n",
            "/usr/local/lib/python3.7/dist-packages/ipykernel_launcher.py:10: DeprecationWarning: time.clock has been deprecated in Python 3.3 and will be removed from Python 3.8: use time.perf_counter or time.process_time instead\n",
            "  # Remove the CWD from sys.path while we load stuff.\n"
          ]
        }
      ]
    },
    {
      "cell_type": "markdown",
      "metadata": {
        "id": "nb5AJN_UHrwa"
      },
      "source": [
        "### `Пример cached`"
      ]
    },
    {
      "cell_type": "code",
      "metadata": {
        "collapsed": true,
        "id": "uP6ZlJyKGhdh"
      },
      "source": [
        "def sqr(x):\n",
        "    return x * x\n",
        "\n",
        "def half(x):\n",
        "    return x / 2"
      ],
      "execution_count": 14,
      "outputs": []
    },
    {
      "cell_type": "code",
      "metadata": {
        "id": "RUpCZAXFGhdi",
        "colab": {
          "base_uri": "https://localhost:8080/"
        },
        "outputId": "02bf0223-96e5-4f11-8f5a-7f69b1ec96c5"
      },
      "source": [
        "sqr(3)"
      ],
      "execution_count": 15,
      "outputs": [
        {
          "output_type": "execute_result",
          "data": {
            "text/plain": [
              "9"
            ]
          },
          "metadata": {},
          "execution_count": 15
        }
      ]
    },
    {
      "cell_type": "code",
      "metadata": {
        "id": "jEeOo23rGhdi",
        "colab": {
          "base_uri": "https://localhost:8080/"
        },
        "outputId": "a52d1aca-0318-4e9b-8bdd-e6f8ffc17554"
      },
      "source": [
        "half(5)"
      ],
      "execution_count": 16,
      "outputs": [
        {
          "output_type": "execute_result",
          "data": {
            "text/plain": [
              "2.5"
            ]
          },
          "metadata": {},
          "execution_count": 16
        }
      ]
    },
    {
      "cell_type": "code",
      "metadata": {
        "collapsed": true,
        "id": "XcAktwjmGhdj"
      },
      "source": [
        "_sqr_cache = {}\n",
        "def sqr(x):\n",
        "    if x not in _sqr_cache:\n",
        "        _sqr_cache[x] = x * x\n",
        "    return _sqr_cache[x]\n",
        "\n",
        "_half_cache = {}\n",
        "def half(x):\n",
        "    if x not in _half_cache:\n",
        "        _half_cache[x] = x / 2\n",
        "    return _half_cache[x]"
      ],
      "execution_count": 17,
      "outputs": []
    },
    {
      "cell_type": "code",
      "metadata": {
        "id": "wePkGtr5Ghdj",
        "colab": {
          "base_uri": "https://localhost:8080/"
        },
        "outputId": "f5fc1068-3928-4719-d54c-9cb03dfc44d6"
      },
      "source": [
        "sqr(5), half(20)"
      ],
      "execution_count": 18,
      "outputs": [
        {
          "output_type": "execute_result",
          "data": {
            "text/plain": [
              "(25, 10.0)"
            ]
          },
          "metadata": {},
          "execution_count": 18
        }
      ]
    },
    {
      "cell_type": "code",
      "metadata": {
        "id": "hbWIVeYjGhdj",
        "colab": {
          "base_uri": "https://localhost:8080/"
        },
        "outputId": "b93c6563-d887-439b-af3b-1b31d0cf23be"
      },
      "source": [
        "_sqr_cache, _half_cache"
      ],
      "execution_count": 19,
      "outputs": [
        {
          "output_type": "execute_result",
          "data": {
            "text/plain": [
              "({5: 25}, {20: 10.0})"
            ]
          },
          "metadata": {},
          "execution_count": 19
        }
      ]
    },
    {
      "cell_type": "code",
      "metadata": {
        "id": "lgNBeN20Ghdn"
      },
      "source": [
        "from functools import wraps\n",
        "\n",
        "def cached(func):\n",
        "    cache = {}\n",
        "    #@wraps(func)\n",
        "    def new_func(x):\n",
        "        if x not in cache:\n",
        "            cache[x] = func(x)\n",
        "        return cache[x]\n",
        "\n",
        "    return new_func\n",
        "\n",
        "@cached\n",
        "def sqr(x):\n",
        "    \"\"\"Returns the square of X\"\"\"\n",
        "    return x * x"
      ],
      "execution_count": 20,
      "outputs": []
    },
    {
      "cell_type": "code",
      "metadata": {
        "id": "UF3GhW35Ghdn",
        "colab": {
          "base_uri": "https://localhost:8080/"
        },
        "outputId": "264a22ab-55c3-40e2-b275-bb6aa823a930"
      },
      "source": [
        "sqr.__name__, sqr.__doc__"
      ],
      "execution_count": 21,
      "outputs": [
        {
          "output_type": "execute_result",
          "data": {
            "text/plain": [
              "('new_func', None)"
            ]
          },
          "metadata": {},
          "execution_count": 21
        }
      ]
    },
    {
      "cell_type": "code",
      "metadata": {
        "colab": {
          "base_uri": "https://localhost:8080/"
        },
        "id": "IaZlUlgvOSVh",
        "outputId": "e60570a2-1ad0-47e2-9a12-62a1a263f27a"
      },
      "source": [
        "sqr(5)\n",
        "sqr(7)\n",
        "sqr(5)\n",
        "sqr(9)"
      ],
      "execution_count": 22,
      "outputs": [
        {
          "output_type": "execute_result",
          "data": {
            "text/plain": [
              "81"
            ]
          },
          "metadata": {},
          "execution_count": 22
        }
      ]
    },
    {
      "cell_type": "markdown",
      "metadata": {
        "id": "gRwAUxyNkq4k"
      },
      "source": [
        "### `Пример logged`"
      ]
    },
    {
      "cell_type": "code",
      "metadata": {
        "colab": {
          "base_uri": "https://localhost:8080/"
        },
        "id": "MaNIbsIImOKB",
        "outputId": "9f58ccdb-49f1-4fca-ecd5-66bb1953befb"
      },
      "source": [
        "import time\n",
        "from functools import wraps\n",
        "\n",
        "def logged(time_format):\n",
        "    def decorator(func):\n",
        "        @wraps(func)\n",
        "        def decorated_func(*args, **kwargs):\n",
        "            print(\"- Running '{}' on {} \".format(\n",
        "                func.__name__,\n",
        "                time.strftime(time_format)\n",
        "            ))\n",
        "            start_time = time.time()\n",
        "            result = func(*args, **kwargs)\n",
        "            end_time = time.time()\n",
        "            print(\"- Finished '{}', execution time = {:0.3f}s \".format(\n",
        "                func.__name__,\n",
        "                end_time - start_time\n",
        "            ))\n",
        "            return result\n",
        "        #decorated_func.__name__ = func.__name__\n",
        "        return decorated_func\n",
        "    return decorator\n",
        "\n",
        "\n",
        "\n",
        "@logged(\"%b %d %Y - %H:%M:%S\")\n",
        "def add1(x, y):\n",
        "    time.sleep(1)\n",
        "    return x + y\n",
        "\n",
        "\n",
        "@logged(\"%b %d %Y - %H:%M:%S\")\n",
        "def add2(x, y):\n",
        "    time.sleep(2)\n",
        "    return x + y\n",
        "\n",
        "\n",
        "print(add1(1, 2))\n",
        "print(add2(1, 2))"
      ],
      "execution_count": 23,
      "outputs": [
        {
          "output_type": "stream",
          "name": "stdout",
          "text": [
            "- Running 'add1' on Sep 16 2021 - 11:51:11 \n",
            "- Finished 'add1', execution time = 1.001s \n",
            "3\n",
            "- Running 'add2' on Sep 16 2021 - 11:51:12 \n",
            "- Finished 'add2', execution time = 2.002s \n",
            "3\n"
          ]
        }
      ]
    },
    {
      "cell_type": "markdown",
      "metadata": {
        "id": "cUZifdOaS5h0"
      },
      "source": [
        "### `Замыкания`\n",
        "\n"
      ]
    },
    {
      "cell_type": "markdown",
      "metadata": {
        "id": "ZCXJ8wgLX1zM"
      },
      "source": [
        "Замыкание (англ. closure) в программировании — функция первого класса, в теле которой присутствуют ссылки на переменные, объявленные вне тела этой функции в окружающем коде и не являющиеся её параметрами. Говоря другим языком, замыкание — функция, которая ссылается на свободные переменные в своей области видимости.\n",
        "\n",
        "Замыкание, так же как и экземпляр объекта, есть способ представления функциональности и данных, связанных и упакованных вместе.\n",
        "\n",
        "Замыкание — это особый вид функции. Она определена в теле другой функции и создаётся каждый раз во время её выполнения. Синтаксически это выглядит как функция, находящаяся целиком в теле другой функции. При этом вложенная внутренняя функция содержит ссылки на локальные переменные внешней функции. Каждый раз при выполнении внешней функции происходит создание нового экземпляра внутренней функции, с новыми ссылками на переменные внешней функции.\n",
        "\n",
        "В случае замыкания ссылки на переменные внешней функции действительны внутри вложенной функции до тех пор, пока работает вложенная функция, даже если внешняя функция закончила работу, и переменные вышли из области видимости.\n",
        "\n",
        "Замыкание связывает код функции с её лексическим окружением (местом, в котором она определена в коде). Лексические переменные замыкания отличаются от глобальных переменных тем, что они не занимают глобальное пространство имён. От переменных в объектах они отличаются тем, что привязаны к функциям, а не объектам."
      ]
    },
    {
      "cell_type": "code",
      "metadata": {
        "id": "zlS0Jm-8S5h0",
        "colab": {
          "base_uri": "https://localhost:8080/"
        },
        "outputId": "a8decfa3-e23a-4806-8668-ea414fe8cfd0"
      },
      "source": [
        "def function_creator(n):\n",
        "    def function(x):\n",
        "        return x ** n\n",
        "\n",
        "    return function\n",
        "\n",
        "f = function_creator(5)\n",
        "f(2)"
      ],
      "execution_count": 24,
      "outputs": [
        {
          "output_type": "execute_result",
          "data": {
            "text/plain": [
              "32"
            ]
          },
          "metadata": {},
          "execution_count": 24
        }
      ]
    },
    {
      "cell_type": "markdown",
      "metadata": {
        "id": "fEy5tvUES5h1"
      },
      "source": [
        "Объект-функция, на который ссылается `f`, хранит в себе значение `n`"
      ]
    },
    {
      "cell_type": "markdown",
      "metadata": {
        "id": "2--r1QQaWMIV"
      },
      "source": [
        "### `Модуль functools`"
      ]
    },
    {
      "cell_type": "code",
      "metadata": {
        "colab": {
          "base_uri": "https://localhost:8080/"
        },
        "id": "Mm8fTL1nWSZj",
        "outputId": "9faebc35-f914-4b33-d1d1-b9e99bc74afb"
      },
      "source": [
        "from  functools import partial\n",
        "def myfun(a, b): return a ** b\n",
        "\n",
        "myfun1 = partial(myfun, 2)\n",
        "print(myfun1(3))"
      ],
      "execution_count": 25,
      "outputs": [
        {
          "output_type": "stream",
          "name": "stdout",
          "text": [
            "8\n"
          ]
        }
      ]
    },
    {
      "cell_type": "code",
      "metadata": {
        "colab": {
          "base_uri": "https://localhost:8080/"
        },
        "id": "pxw2VsVrlryL",
        "outputId": "c7fcb708-f3b3-4932-b097-9cf6e031112b"
      },
      "source": [
        "from functools import reduce\n",
        "reduce(lambda x, y: x+y, [1, 2, 3, 4, 5]) # эквивалентно ((((1+2)+3)+4)+5)"
      ],
      "execution_count": 26,
      "outputs": [
        {
          "output_type": "execute_result",
          "data": {
            "text/plain": [
              "15"
            ]
          },
          "metadata": {},
          "execution_count": 26
        }
      ]
    }
  ]
}